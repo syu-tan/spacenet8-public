{
 "cells": [
  {
   "cell_type": "code",
   "execution_count": 1,
   "metadata": {},
   "outputs": [],
   "source": [
    "import pandas as pd\n",
    "import os"
   ]
  },
  {
   "cell_type": "code",
   "execution_count": 2,
   "metadata": {},
   "outputs": [],
   "source": [
    "# PATH_CSV = '/workdir/data/Louisiana-West_Test_Public/Louisiana-West_Test_Public_label_image_mapping.csv'\n",
    "PATH_CSV = '../../data/Louisiana-West_Test_Public/Louisiana-West_Test_Public_label_image_mapping.csv'"
   ]
  },
  {
   "cell_type": "code",
   "execution_count": 3,
   "metadata": {},
   "outputs": [
    {
     "data": {
      "text/html": [
       "<div>\n",
       "<style scoped>\n",
       "    .dataframe tbody tr th:only-of-type {\n",
       "        vertical-align: middle;\n",
       "    }\n",
       "\n",
       "    .dataframe tbody tr th {\n",
       "        vertical-align: top;\n",
       "    }\n",
       "\n",
       "    .dataframe thead th {\n",
       "        text-align: right;\n",
       "    }\n",
       "</style>\n",
       "<table border=\"1\" class=\"dataframe\">\n",
       "  <thead>\n",
       "    <tr style=\"text-align: right;\">\n",
       "      <th></th>\n",
       "      <th>label</th>\n",
       "      <th>pre-event image</th>\n",
       "      <th>post-event image 1</th>\n",
       "      <th>post-event image 2</th>\n",
       "    </tr>\n",
       "  </thead>\n",
       "  <tbody>\n",
       "    <tr>\n",
       "      <th>0</th>\n",
       "      <td>0_35_12.geojson</td>\n",
       "      <td>104001006504F400_0_35_12.tif</td>\n",
       "      <td>10300100C5474600_0_35_12.tif</td>\n",
       "      <td>NaN</td>\n",
       "    </tr>\n",
       "    <tr>\n",
       "      <th>1</th>\n",
       "      <td>0_20_36.geojson</td>\n",
       "      <td>104001006504F400_0_20_36.tif</td>\n",
       "      <td>10300100C5474600_0_20_36.tif</td>\n",
       "      <td>10300100C4171800_0_20_36.tif</td>\n",
       "    </tr>\n",
       "    <tr>\n",
       "      <th>2</th>\n",
       "      <td>0_13_26.geojson</td>\n",
       "      <td>104001006504F400_0_13_26.tif</td>\n",
       "      <td>10300100C4171800_0_13_26.tif</td>\n",
       "      <td>NaN</td>\n",
       "    </tr>\n",
       "    <tr>\n",
       "      <th>3</th>\n",
       "      <td>0_13_22.geojson</td>\n",
       "      <td>104001006504F400_0_13_22.tif</td>\n",
       "      <td>10300100C4171800_0_13_22.tif</td>\n",
       "      <td>NaN</td>\n",
       "    </tr>\n",
       "    <tr>\n",
       "      <th>4</th>\n",
       "      <td>0_17_17.geojson</td>\n",
       "      <td>104001006504F400_0_17_17.tif</td>\n",
       "      <td>10300100C4171800_0_17_17.tif</td>\n",
       "      <td>NaN</td>\n",
       "    </tr>\n",
       "  </tbody>\n",
       "</table>\n",
       "</div>"
      ],
      "text/plain": [
       "             label               pre-event image  \\\n",
       "0  0_35_12.geojson  104001006504F400_0_35_12.tif   \n",
       "1  0_20_36.geojson  104001006504F400_0_20_36.tif   \n",
       "2  0_13_26.geojson  104001006504F400_0_13_26.tif   \n",
       "3  0_13_22.geojson  104001006504F400_0_13_22.tif   \n",
       "4  0_17_17.geojson  104001006504F400_0_17_17.tif   \n",
       "\n",
       "             post-event image 1            post-event image 2  \n",
       "0  10300100C5474600_0_35_12.tif                           NaN  \n",
       "1  10300100C5474600_0_20_36.tif  10300100C4171800_0_20_36.tif  \n",
       "2  10300100C4171800_0_13_26.tif                           NaN  \n",
       "3  10300100C4171800_0_13_22.tif                           NaN  \n",
       "4  10300100C4171800_0_17_17.tif                           NaN  "
      ]
     },
     "execution_count": 3,
     "metadata": {},
     "output_type": "execute_result"
    }
   ],
   "source": [
    "df = pd.read_csv(PATH_CSV)\n",
    "df.head()"
   ]
  },
  {
   "cell_type": "code",
   "execution_count": 4,
   "metadata": {},
   "outputs": [],
   "source": [
    "DIR_TEST = '../../data/Louisiana-West_Test_Public/'"
   ]
  },
  {
   "cell_type": "code",
   "execution_count": 5,
   "metadata": {},
   "outputs": [],
   "source": [
    "pres = []\n",
    "posts = []\n",
    "\n",
    "for i, _, pre, post_1, post_2 in df.itertuples():\n",
    "\n",
    "     PATH_PRE = os.path.join(DIR_TEST, 'PRE-event', pre)\n",
    "     PATH_POST_1 = os.path.join(DIR_TEST, 'POST-event', post_1)\n",
    "     \n",
    "\n",
    "     if os.path.exists(PATH_PRE) and os.path.exists(PATH_POST_1):\n",
    "          pres.append(PATH_PRE)\n",
    "          posts.append(PATH_POST_1) \n",
    "    \n",
    "     if isinstance(post_2, str):\n",
    "          PATH_POST_2 = os.path.join(DIR_TEST, 'POST-event', post_2)\n",
    "          if os.path.exists(PATH_PRE) and os.path.exists(PATH_POST_2):\n",
    "               pres.append(PATH_PRE)\n",
    "               posts.append(PATH_POST_2)\n",
    "         \n",
    "    # print(post_2)\n",
    "    # break"
   ]
  },
  {
   "cell_type": "code",
   "execution_count": 6,
   "metadata": {},
   "outputs": [
    {
     "data": {
      "text/html": [
       "<div>\n",
       "<style scoped>\n",
       "    .dataframe tbody tr th:only-of-type {\n",
       "        vertical-align: middle;\n",
       "    }\n",
       "\n",
       "    .dataframe tbody tr th {\n",
       "        vertical-align: top;\n",
       "    }\n",
       "\n",
       "    .dataframe thead th {\n",
       "        text-align: right;\n",
       "    }\n",
       "</style>\n",
       "<table border=\"1\" class=\"dataframe\">\n",
       "  <thead>\n",
       "    <tr style=\"text-align: right;\">\n",
       "      <th></th>\n",
       "      <th>preimg</th>\n",
       "      <th>postimg</th>\n",
       "    </tr>\n",
       "  </thead>\n",
       "  <tbody>\n",
       "    <tr>\n",
       "      <th>0</th>\n",
       "      <td>../../data/Louisiana-West_Test_Public/PRE-even...</td>\n",
       "      <td>../../data/Louisiana-West_Test_Public/POST-eve...</td>\n",
       "    </tr>\n",
       "    <tr>\n",
       "      <th>1</th>\n",
       "      <td>../../data/Louisiana-West_Test_Public/PRE-even...</td>\n",
       "      <td>../../data/Louisiana-West_Test_Public/POST-eve...</td>\n",
       "    </tr>\n",
       "    <tr>\n",
       "      <th>2</th>\n",
       "      <td>../../data/Louisiana-West_Test_Public/PRE-even...</td>\n",
       "      <td>../../data/Louisiana-West_Test_Public/POST-eve...</td>\n",
       "    </tr>\n",
       "    <tr>\n",
       "      <th>3</th>\n",
       "      <td>../../data/Louisiana-West_Test_Public/PRE-even...</td>\n",
       "      <td>../../data/Louisiana-West_Test_Public/POST-eve...</td>\n",
       "    </tr>\n",
       "    <tr>\n",
       "      <th>4</th>\n",
       "      <td>../../data/Louisiana-West_Test_Public/PRE-even...</td>\n",
       "      <td>../../data/Louisiana-West_Test_Public/POST-eve...</td>\n",
       "    </tr>\n",
       "  </tbody>\n",
       "</table>\n",
       "</div>"
      ],
      "text/plain": [
       "                                              preimg  \\\n",
       "0  ../../data/Louisiana-West_Test_Public/PRE-even...   \n",
       "1  ../../data/Louisiana-West_Test_Public/PRE-even...   \n",
       "2  ../../data/Louisiana-West_Test_Public/PRE-even...   \n",
       "3  ../../data/Louisiana-West_Test_Public/PRE-even...   \n",
       "4  ../../data/Louisiana-West_Test_Public/PRE-even...   \n",
       "\n",
       "                                             postimg  \n",
       "0  ../../data/Louisiana-West_Test_Public/POST-eve...  \n",
       "1  ../../data/Louisiana-West_Test_Public/POST-eve...  \n",
       "2  ../../data/Louisiana-West_Test_Public/POST-eve...  \n",
       "3  ../../data/Louisiana-West_Test_Public/POST-eve...  \n",
       "4  ../../data/Louisiana-West_Test_Public/POST-eve...  "
      ]
     },
     "execution_count": 6,
     "metadata": {},
     "output_type": "execute_result"
    }
   ],
   "source": [
    "test_df = pd.DataFrame()\n",
    "test_df['preimg'] = pres\n",
    "test_df['postimg'] = posts\n",
    "test_df.head()"
   ]
  },
  {
   "cell_type": "code",
   "execution_count": 8,
   "metadata": {},
   "outputs": [],
   "source": [
    "PATH_TEST_SAVE_CSV = '../../data/Louisiana-West_Test_Public/test_preimg-postimg.csv'\n",
    "test_df.to_csv(PATH_TEST_SAVE_CSV, index=False, header=True)"
   ]
  },
  {
   "cell_type": "code",
   "execution_count": null,
   "metadata": {},
   "outputs": [],
   "source": []
  }
 ],
 "metadata": {
  "kernelspec": {
   "display_name": "Python 3.8.13 ('sn8')",
   "language": "python",
   "name": "python3"
  },
  "language_info": {
   "codemirror_mode": {
    "name": "ipython",
    "version": 3
   },
   "file_extension": ".py",
   "mimetype": "text/x-python",
   "name": "python",
   "nbconvert_exporter": "python",
   "pygments_lexer": "ipython3",
   "version": "3.8.13"
  },
  "orig_nbformat": 4,
  "vscode": {
   "interpreter": {
    "hash": "5035d61452180bc2f6c97d30efe0351efc32bce343eab0f718e68b06cec485d6"
   }
  }
 },
 "nbformat": 4,
 "nbformat_minor": 2
}

{
 "cells": [
  {
   "cell_type": "markdown",
   "metadata": {},
   "source": [
    "# Submit Notebook\n",
    "\n",
    "- road\n",
    "- building\n",
    "\n",
    "の両方の結果を合わせて出力する"
   ]
  },
  {
   "cell_type": "markdown",
   "metadata": {},
   "source": [
    "## Config"
   ]
  },
  {
   "cell_type": "code",
   "execution_count": 43,
   "metadata": {},
   "outputs": [],
   "source": [
    "ROAD_CSV = '../../train/output/foundation/A_V7_FINE_clean-v4__timmu_IMG1312_fl-tr_b4/A_fold-4/solution_road.csv'\n",
    "BUILD_CSV = '../../train/output/foundation/A_V7_FINE_clean-v4__timmu_IMG1312_fl-tr_b4/A_fold-4/test_fnd/solution_building.csv'\n",
    "\n",
    "SUBMIT_SCV = '../../submit/my_submit/solution/solution.csv'"
   ]
  },
  {
   "cell_type": "markdown",
   "metadata": {},
   "source": [
    "## Run"
   ]
  },
  {
   "cell_type": "code",
   "execution_count": 44,
   "metadata": {},
   "outputs": [],
   "source": [
    "import pandas as pd\n",
    "\n",
    "# submit_colnmns = ['ImageId', 'Object', 'Flooded', 'Wkt_Pix', 'Wkt_Geo']\n",
    "submit_colnmns = ['ImageId', 'Object', 'WKT_Pix', 'Flooded']"
   ]
  },
  {
   "cell_type": "code",
   "execution_count": 46,
   "metadata": {},
   "outputs": [
    {
     "name": "stdout",
     "output_type": "stream",
     "text": [
      "重複: 9365\n"
     ]
    },
    {
     "data": {
      "text/html": [
       "<div>\n",
       "<style scoped>\n",
       "    .dataframe tbody tr th:only-of-type {\n",
       "        vertical-align: middle;\n",
       "    }\n",
       "\n",
       "    .dataframe tbody tr th {\n",
       "        vertical-align: top;\n",
       "    }\n",
       "\n",
       "    .dataframe thead th {\n",
       "        text-align: right;\n",
       "    }\n",
       "</style>\n",
       "<table border=\"1\" class=\"dataframe\">\n",
       "  <thead>\n",
       "    <tr style=\"text-align: right;\">\n",
       "      <th></th>\n",
       "      <th>ImageId</th>\n",
       "      <th>Object</th>\n",
       "      <th>WKT_Pix</th>\n",
       "      <th>Flooded</th>\n",
       "      <th>length_m</th>\n",
       "      <th>travel_time_s</th>\n",
       "    </tr>\n",
       "  </thead>\n",
       "  <tbody>\n",
       "    <tr>\n",
       "      <th>0</th>\n",
       "      <td>104001006504F400_0_0_17</td>\n",
       "      <td>Road</td>\n",
       "      <td>LINESTRING (1006 1, 978 21)</td>\n",
       "      <td>False</td>\n",
       "      <td>11.439228</td>\n",
       "      <td>3.412</td>\n",
       "    </tr>\n",
       "    <tr>\n",
       "      <th>1</th>\n",
       "      <td>104001006504F400_0_0_17</td>\n",
       "      <td>Road</td>\n",
       "      <td>LINESTRING (823 119, 689 206)</td>\n",
       "      <td>False</td>\n",
       "      <td>52.798634</td>\n",
       "      <td>15.748</td>\n",
       "    </tr>\n",
       "    <tr>\n",
       "      <th>2</th>\n",
       "      <td>104001006504F400_0_0_17</td>\n",
       "      <td>Road</td>\n",
       "      <td>LINESTRING (257 514, 305 585, 441 747, 537 855...</td>\n",
       "      <td>False</td>\n",
       "      <td>215.37972</td>\n",
       "      <td>64.239</td>\n",
       "    </tr>\n",
       "  </tbody>\n",
       "</table>\n",
       "</div>"
      ],
      "text/plain": [
       "                   ImageId Object  \\\n",
       "0  104001006504F400_0_0_17   Road   \n",
       "1  104001006504F400_0_0_17   Road   \n",
       "2  104001006504F400_0_0_17   Road   \n",
       "\n",
       "                                             WKT_Pix Flooded   length_m  \\\n",
       "0                        LINESTRING (1006 1, 978 21)   False  11.439228   \n",
       "1                      LINESTRING (823 119, 689 206)   False  52.798634   \n",
       "2  LINESTRING (257 514, 305 585, 441 747, 537 855...   False  215.37972   \n",
       "\n",
       "  travel_time_s  \n",
       "0         3.412  \n",
       "1        15.748  \n",
       "2        64.239  "
      ]
     },
     "execution_count": 46,
     "metadata": {},
     "output_type": "execute_result"
    }
   ],
   "source": [
    "dfs = []\n",
    "\n",
    "df = pd.read_csv(ROAD_CSV)\n",
    "df = df[submit_colnmns + ['length_m', 'travel_time_s']]\n",
    "dfs.append(df)\n",
    "\n",
    "df = pd.read_csv(BUILD_CSV).rename(columns={'Wkt_Pix': 'WKT_Pix', 'Wkt_Geo': 'WKT_Geo'})\n",
    "df = df[submit_colnmns]\n",
    "df['length_m'] = 'null'\n",
    "df['travel_time_s'] = 'null'\n",
    "dfs.append(df)\n",
    "    \n",
    "df = pd.concat(dfs)\n",
    "\n",
    "# 重複削除\n",
    "check_col = submit_colnmns + ['length_m', 'travel_time_s']\n",
    "\n",
    "df_dup = df.duplicated(subset=check_col)\n",
    "num_dup = len(df_dup == False)\n",
    "print(f\"重複: {num_dup}\")\n",
    "df_sub = df[~df_dup]\n",
    "\n",
    "df_sub.head(3)"
   ]
  },
  {
   "cell_type": "markdown",
   "metadata": {},
   "source": [
    "## Point Duplicated\n",
    "road で重複がたまに発生してるので確認"
   ]
  },
  {
   "cell_type": "code",
   "execution_count": 47,
   "metadata": {},
   "outputs": [
    {
     "name": "stdout",
     "output_type": "stream",
     "text": [
      "◆◆◆◆◆◆◆◆◆◆◆◆◆◆◆◆◆◆◆◆ delete duplicated  196 3 <<< LINESTRING (196 3, 199 5, 201 0, 196 3)\n",
      "◆◆◆◆◆◆◆◆◆◆◆◆◆◆◆◆◆◆◆◆ delete duplicated  238 0 <<< LINESTRING (238 0, 258 0, 243 5, 238 0)\n",
      "◆◆◆◆◆◆◆◆◆◆◆◆◆◆◆◆◆◆◆◆ delete duplicated  943 1 <<< LINESTRING (943 1, 959 3, 951 9, 943 1)\n",
      "◆◆◆◆◆◆◆◆◆◆◆◆◆◆◆◆◆◆◆◆ delete duplicated  428 0 <<< LINESTRING (428 0, 434 2, 431 3, 428 0)\n",
      "◆◆◆◆◆◆◆◆◆◆◆◆◆◆◆◆◆◆◆◆ delete duplicated  1268 632 <<< LINESTRING (1268 632, 1275 617, 1293 609, 1297 602, 1297 624, 1293 630, 1268 632)\n",
      "◆◆◆◆◆◆◆◆◆◆◆◆◆◆◆◆◆◆◆◆ delete duplicated  489 5 <<< LINESTRING (489 5, 496 0, 498 3, 489 5)\n",
      "◆◆◆◆◆◆◆◆◆◆◆◆◆◆◆◆◆◆◆◆ delete duplicated  694 3 <<< LINESTRING (694 3, 697 3, 695 1, 694 3)\n",
      "◆◆◆◆◆◆◆◆◆◆◆◆◆◆◆◆◆◆◆◆ delete duplicated  352 1146 <<< LINESTRING (352 1146, 377 1153, 401 1155, 424 1172, 352 1146)\n"
     ]
    },
    {
     "data": {
      "text/html": [
       "<div>\n",
       "<style scoped>\n",
       "    .dataframe tbody tr th:only-of-type {\n",
       "        vertical-align: middle;\n",
       "    }\n",
       "\n",
       "    .dataframe tbody tr th {\n",
       "        vertical-align: top;\n",
       "    }\n",
       "\n",
       "    .dataframe thead th {\n",
       "        text-align: right;\n",
       "    }\n",
       "</style>\n",
       "<table border=\"1\" class=\"dataframe\">\n",
       "  <thead>\n",
       "    <tr style=\"text-align: right;\">\n",
       "      <th></th>\n",
       "      <th>ImageId</th>\n",
       "      <th>Object</th>\n",
       "      <th>WKT_Pix</th>\n",
       "      <th>Flooded</th>\n",
       "      <th>length_m</th>\n",
       "      <th>travel_time_s</th>\n",
       "    </tr>\n",
       "  </thead>\n",
       "  <tbody>\n",
       "    <tr>\n",
       "      <th>0</th>\n",
       "      <td>104001006504F400_0_0_17</td>\n",
       "      <td>Road</td>\n",
       "      <td>LINESTRING (1006 1, 978 21)</td>\n",
       "      <td>False</td>\n",
       "      <td>11.439228</td>\n",
       "      <td>3.412</td>\n",
       "    </tr>\n",
       "    <tr>\n",
       "      <th>1</th>\n",
       "      <td>104001006504F400_0_0_17</td>\n",
       "      <td>Road</td>\n",
       "      <td>LINESTRING (823 119, 689 206)</td>\n",
       "      <td>False</td>\n",
       "      <td>52.798634</td>\n",
       "      <td>15.748</td>\n",
       "    </tr>\n",
       "    <tr>\n",
       "      <th>2</th>\n",
       "      <td>104001006504F400_0_0_17</td>\n",
       "      <td>Road</td>\n",
       "      <td>LINESTRING (257 514, 305 585, 441 747, 537 855...</td>\n",
       "      <td>False</td>\n",
       "      <td>215.37972</td>\n",
       "      <td>64.239</td>\n",
       "    </tr>\n",
       "  </tbody>\n",
       "</table>\n",
       "</div>"
      ],
      "text/plain": [
       "                   ImageId Object  \\\n",
       "0  104001006504F400_0_0_17   Road   \n",
       "1  104001006504F400_0_0_17   Road   \n",
       "2  104001006504F400_0_0_17   Road   \n",
       "\n",
       "                                             WKT_Pix Flooded   length_m  \\\n",
       "0                        LINESTRING (1006 1, 978 21)   False  11.439228   \n",
       "1                      LINESTRING (823 119, 689 206)   False  52.798634   \n",
       "2  LINESTRING (257 514, 305 585, 441 747, 537 855...   False  215.37972   \n",
       "\n",
       "  travel_time_s  \n",
       "0         3.412  \n",
       "1        15.748  \n",
       "2        64.239  "
      ]
     },
     "execution_count": 47,
     "metadata": {},
     "output_type": "execute_result"
    }
   ],
   "source": [
    "def remove_duplicated(linestring):\n",
    "    \n",
    "    if linestring != 'POLYGON EMPTY':\n",
    "        # exist object\n",
    "        if 'LINESTRING' in linestring:\n",
    "            points = linestring.split('(')[1].split(')')[0]\n",
    "            # print(points)\n",
    "            \n",
    "            knowns = []\n",
    "            for i, xy in enumerate(points.split(',')):\n",
    "                if i == 0:\n",
    "                    knowns.append(' ' + xy)\n",
    "                else:\n",
    "                    if not xy in knowns:\n",
    "                        knowns.append(xy) \n",
    "                    else:\n",
    "                        print('◆'*20, f'delete duplicated {xy} <<< {linestring}')\n",
    "            \n",
    "            # top space\n",
    "            knowns[0] = knowns[0][1:]\n",
    "            linestring = 'LINESTRING (' + ','.join(knowns) + ')'\n",
    "    return linestring\n",
    "               \n",
    "df_sub['WKT_Pix'] = df_sub['WKT_Pix'].apply(remove_duplicated)\n",
    "df_sub.head(3)"
   ]
  },
  {
   "cell_type": "code",
   "execution_count": 48,
   "metadata": {},
   "outputs": [],
   "source": [
    "df_sub.to_csv(SUBMIT_SCV, index=False, header=True)"
   ]
  },
  {
   "cell_type": "code",
   "execution_count": 49,
   "metadata": {},
   "outputs": [
    {
     "data": {
      "text/html": [
       "<div>\n",
       "<style scoped>\n",
       "    .dataframe tbody tr th:only-of-type {\n",
       "        vertical-align: middle;\n",
       "    }\n",
       "\n",
       "    .dataframe tbody tr th {\n",
       "        vertical-align: top;\n",
       "    }\n",
       "\n",
       "    .dataframe thead th {\n",
       "        text-align: right;\n",
       "    }\n",
       "</style>\n",
       "<table border=\"1\" class=\"dataframe\">\n",
       "  <thead>\n",
       "    <tr style=\"text-align: right;\">\n",
       "      <th></th>\n",
       "      <th>ImageId</th>\n",
       "      <th>Object</th>\n",
       "      <th>WKT_Pix</th>\n",
       "      <th>Flooded</th>\n",
       "      <th>length_m</th>\n",
       "      <th>travel_time_s</th>\n",
       "    </tr>\n",
       "  </thead>\n",
       "  <tbody>\n",
       "  </tbody>\n",
       "</table>\n",
       "</div>"
      ],
      "text/plain": [
       "Empty DataFrame\n",
       "Columns: [ImageId, Object, WKT_Pix, Flooded, length_m, travel_time_s]\n",
       "Index: []"
      ]
     },
     "execution_count": 49,
     "metadata": {},
     "output_type": "execute_result"
    }
   ],
   "source": [
    "df[df_dup]"
   ]
  },
  {
   "cell_type": "code",
   "execution_count": 50,
   "metadata": {},
   "outputs": [
    {
     "data": {
      "text/plain": [
       "False    9365\n",
       "dtype: int64"
      ]
     },
     "execution_count": 50,
     "metadata": {},
     "output_type": "execute_result"
    }
   ],
   "source": [
    "df_dup.value_counts()"
   ]
  },
  {
   "cell_type": "code",
   "execution_count": null,
   "metadata": {},
   "outputs": [],
   "source": []
  }
 ],
 "metadata": {
  "kernelspec": {
   "display_name": "Python 3.8.13 ('sn8')",
   "language": "python",
   "name": "python3"
  },
  "language_info": {
   "codemirror_mode": {
    "name": "ipython",
    "version": 3
   },
   "file_extension": ".py",
   "mimetype": "text/x-python",
   "name": "python",
   "nbconvert_exporter": "python",
   "pygments_lexer": "ipython3",
   "version": "3.8.13"
  },
  "orig_nbformat": 4,
  "vscode": {
   "interpreter": {
    "hash": "5035d61452180bc2f6c97d30efe0351efc32bce343eab0f718e68b06cec485d6"
   }
  }
 },
 "nbformat": 4,
 "nbformat_minor": 2
}

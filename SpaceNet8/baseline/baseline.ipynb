{
 "cells": [
  {
   "cell_type": "markdown",
   "metadata": {},
   "source": [
    "# SpaceNet8 NoteBook\n",
    "\n",
    "1. flood\n",
    "2. foundation\n",
    "\n",
    "の両方を検証できる基盤を作成\n",
    "\n",
    "## overview\n",
    "- `data_prep` までは公開ベースラインと同じ\n",
    "- 学習部分のみの改善を試みる\n",
    "- pytorch lightning + wandb + SMP or TimmUNet の導入\n"
   ]
  },
  {
   "cell_type": "markdown",
   "metadata": {},
   "source": [
    "## Env"
   ]
  },
  {
   "cell_type": "code",
   "execution_count": 4,
   "metadata": {},
   "outputs": [
    {
     "name": "stdout",
     "output_type": "stream",
     "text": [
      "Overwriting requirements.txt\n"
     ]
    }
   ],
   "source": [
    "%%writefile requirements.txt\n",
    "joblib\n",
    "python-box\n",
    "tqdm\n",
    "timm\n",
    "ttach\n",
    "adabelief-pytorch\n",
    "albumentations\n",
    "segmentation-models-pytorch\n",
    "wandb\n",
    "tensorboard\n",
    "tensorboardX\n",
    "pytorch-lightning"
   ]
  },
  {
   "cell_type": "code",
   "execution_count": 9,
   "metadata": {},
   "outputs": [
    {
     "name": "stdout",
     "output_type": "stream",
     "text": [
      "Collecting package metadata (current_repodata.json): done\n",
      "Solving environment: done\n",
      "\n",
      "\n",
      "==> WARNING: A newer version of conda exists. <==\n",
      "  current version: 4.9.2\n",
      "  latest version: 4.13.0\n",
      "\n",
      "Please update conda by running\n",
      "\n",
      "    $ conda update -n base -c defaults conda\n",
      "\n",
      "\n",
      "\n",
      "# All requested packages already installed.\n",
      "\n",
      "Looking in indexes: https://pypi.org/simple, https://pypi.ngc.nvidia.com\n",
      "Looking in links: https://download.pytorch.org/whl/torch_stable.html\n",
      "Collecting torch==1.8.0+cu111\n",
      "  Downloading https://download.pytorch.org/whl/cu111/torch-1.8.0%2Bcu111-cp38-cp38-linux_x86_64.whl (1982.2 MB)\n",
      "\u001b[2K     \u001b[90m━━━━━━━━━━━━━━━━━━━━━━━━━━━━━━━━━━━━━━━━\u001b[0m \u001b[32m2.0/2.0 GB\u001b[0m \u001b[31m20.6 MB/s\u001b[0m eta \u001b[36m0:00:00\u001b[0m00:01\u001b[0m00:04\u001b[0m\n",
      "\u001b[?25hCollecting torchvision==0.9.0+cu111\n",
      "  Downloading https://download.pytorch.org/whl/cu111/torchvision-0.9.0%2Bcu111-cp38-cp38-linux_x86_64.whl (17.6 MB)\n",
      "\u001b[2K     \u001b[90m━━━━━━━━━━━━━━━━━━━━━━━━━━━━━━━━━━━━━━━━\u001b[0m \u001b[32m17.6/17.6 MB\u001b[0m \u001b[31m24.4 MB/s\u001b[0m eta \u001b[36m0:00:00\u001b[0m00:01\u001b[0m00:01\u001b[0m\n",
      "\u001b[?25hCollecting torchaudio==0.8.0\n",
      "  Downloading torchaudio-0.8.0-cp38-cp38-manylinux1_x86_64.whl (1.9 MB)\n",
      "\u001b[2K     \u001b[90m━━━━━━━━━━━━━━━━━━━━━━━━━━━━━━━━━━━━━━━━\u001b[0m \u001b[32m1.9/1.9 MB\u001b[0m \u001b[31m12.6 MB/s\u001b[0m eta \u001b[36m0:00:00\u001b[0ma \u001b[36m0:00:01\u001b[0m\n",
      "\u001b[?25hRequirement already satisfied: typing-extensions in /home/syu/anaconda3/envs/sn8/lib/python3.8/site-packages (from torch==1.8.0+cu111) (4.3.0)\n",
      "Requirement already satisfied: numpy in /home/syu/anaconda3/envs/sn8/lib/python3.8/site-packages (from torch==1.8.0+cu111) (1.23.1)\n",
      "Requirement already satisfied: pillow>=4.1.1 in /home/syu/anaconda3/envs/sn8/lib/python3.8/site-packages (from torchvision==0.9.0+cu111) (9.2.0)\n",
      "Installing collected packages: torch, torchvision, torchaudio\n",
      "  Attempting uninstall: torch\n",
      "    Found existing installation: torch 1.12.0\n",
      "    Uninstalling torch-1.12.0:\n",
      "      Successfully uninstalled torch-1.12.0\n",
      "  Attempting uninstall: torchvision\n",
      "    Found existing installation: torchvision 0.13.0\n",
      "    Uninstalling torchvision-0.13.0:\n",
      "      Successfully uninstalled torchvision-0.13.0\n",
      "Successfully installed torch-1.8.0+cu111 torchaudio-0.8.0 torchvision-0.9.0+cu111\n"
     ]
    }
   ],
   "source": [
    "# !pip install -q -r ../docker/requirements.txt\n",
    "!pip install -q -r requirements.txt\n",
    "!conda install -y gdal\n",
    "!pip install torch==1.8.0+cu111 torchvision==0.9.0+cu111 torchaudio==0.8.0 -f https://download.pytorch.org/whl/torch_stable.html"
   ]
  },
  {
   "cell_type": "markdown",
   "metadata": {},
   "source": [
    "## Import"
   ]
  },
  {
   "cell_type": "code",
   "execution_count": 1,
   "metadata": {},
   "outputs": [
    {
     "name": "stderr",
     "output_type": "stream",
     "text": [
      "Failed to detect the name of this notebook, you can set it manually with the WANDB_NOTEBOOK_NAME environment variable to enable code saving.\n",
      "\u001b[34m\u001b[1mwandb\u001b[0m: Currently logged in as: \u001b[33msyuchimu\u001b[0m. Use \u001b[1m`wandb login --relogin`\u001b[0m to force relogin\n",
      "\u001b[34m\u001b[1mwandb\u001b[0m: \u001b[33mWARNING\u001b[0m If you're specifying your api key in code, ensure this code is not shared publicly.\n",
      "\u001b[34m\u001b[1mwandb\u001b[0m: \u001b[33mWARNING\u001b[0m Consider setting the WANDB_API_KEY environment variable, or running `wandb login` from the command line.\n",
      "\u001b[34m\u001b[1mwandb\u001b[0m: Appending key for api.wandb.ai to your netrc file: /home/syu/.netrc\n"
     ]
    }
   ],
   "source": [
    "import os\n",
    "import warnings\n",
    "import random\n",
    "from pprint import pprint\n",
    "import copy\n",
    "from typing import List, Tuple\n",
    "import glob\n",
    "import json\n",
    "import csv\n",
    "# import dataclasses\n",
    "from joblib import Parallel, delayed\n",
    "\n",
    "from tqdm import tqdm\n",
    "import numpy as np\n",
    "import pandas as pd\n",
    "from box import Box\n",
    "import matplotlib.pyplot as plt\n",
    "\n",
    "import tifffile\n",
    "from osgeo import gdal\n",
    "\n",
    "from sklearn.model_selection import StratifiedKFold, KFold\n",
    "import torch\n",
    "import torch.optim as optim\n",
    "import torch.nn as nn\n",
    "from torch.utils.data import DataLoader, Dataset\n",
    "import albumentations as A\n",
    "from albumentations.pytorch import ToTensorV2\n",
    "from timm import create_model\n",
    "from adabelief_pytorch import AdaBelief\n",
    "import segmentation_models_pytorch as smp\n",
    "\n",
    "from pytorch_lightning import Trainer\n",
    "from pytorch_lightning.utilities.seed import seed_everything\n",
    "from pytorch_lightning import callbacks\n",
    "from pytorch_lightning.callbacks.progress import ProgressBarBase\n",
    "from pytorch_lightning.loggers import TensorBoardLogger, WandbLogger\n",
    "from pytorch_lightning import LightningDataModule, LightningModule\n",
    "\n",
    "import wandb\n",
    "wandb.login(key='****')\n",
    "\n",
    "warnings.filterwarnings(\"ignore\")\n",
    "\n",
    "torch.autograd.set_detect_anomaly(True)\n",
    "pd.options.display.max_colwidth = 250\n",
    "pd.options.display.max_rows = 30\n",
    "\n",
    "# インライン表示\n",
    "%matplotlib inline"
   ]
  },
  {
   "cell_type": "markdown",
   "metadata": {},
   "source": [
    "## Config"
   ]
  },
  {
   "cell_type": "code",
   "execution_count": 2,
   "metadata": {},
   "outputs": [
    {
     "name": "stderr",
     "output_type": "stream",
     "text": [
      "Global seed set to 417\n"
     ]
    },
    {
     "name": "stdout",
     "output_type": "stream",
     "text": [
      "{'PATH_FOLD_CSV': '../../data/folds/',\n",
      " 'augmentation': '',\n",
      " 'debug': False,\n",
      " 'debug_sample': 32,\n",
      " 'epoch': 200,\n",
      " 'eps': 1e-12,\n",
      " 'f': 'flood',\n",
      " 'features': BoxList(['preimg', 'postimg', 'building', 'road', 'roadspeed', 'flood']),\n",
      " 'fold': -1,\n",
      " 'folds': 5,\n",
      " 'group': '3090_V2_FND+FLD_IMG512_multibcedice_rotate',\n",
      " 'model': {'act': None,\n",
      "           'architecture': 'smp',\n",
      "           'decoder_channels': BoxList([256, 128, 64, 32, 16]),\n",
      "           'encoder_name': 'efficientnet-b0',\n",
      "           'in_channels': 6,\n",
      "           'loss': 'MultiBCEDiceLoss(raito=0.5)',\n",
      "           'out_channels': 14,\n",
      "           'threshold': 0.4},\n",
      " 'notebook': 'baseline.ipynb',\n",
      " 'optimizer': Box({'name': 'optim.AdamW', 'params': {'lr': 0.001}}),\n",
      " 'outdir': '../../train/output/syu/',\n",
      " 'preprocess': Box({'input_size': 512}),\n",
      " 'project': 'SpaceNet8',\n",
      " 'runname': '3090',\n",
      " 'scheduler': {'name': 'optim.lr_scheduler.CosineAnnealingWarmRestarts',\n",
      "               'params': Box({'T_0': 20, 'eta_min': 1e-05})},\n",
      " 'seed': 417,\n",
      " 'train_loader': {'batch_size': 16,\n",
      "                  'drop_last': True,\n",
      "                  'num_workers': 8,\n",
      "                  'pin_memory': False,\n",
      "                  'shuffle': True},\n",
      " 'trainer': {'accumulate_grad_batches': 1,\n",
      "             'check_val_every_n_epoch': 2,\n",
      "             'fast_dev_run': False,\n",
      "             'gpus': 1,\n",
      "             'gradient_clip_algorithm': 'value',\n",
      "             'gradient_clip_val': 10.0,\n",
      "             'num_sanity_val_steps': 0,\n",
      "             'precision': 16,\n",
      "             'progress_bar_refresh_rate': 1,\n",
      "             'resume_from_checkpoint': None,\n",
      "             'stochastic_weight_avg': False,\n",
      "             'val_check_interval': 1.0},\n",
      " 'val_loader': {'batch_size': 16,\n",
      "                'drop_last': False,\n",
      "                'num_workers': 8,\n",
      "                'pin_memory': False,\n",
      "                'shuffle': False}}\n"
     ]
    }
   ],
   "source": [
    "from typing import List, Set, Dict, Any\n",
    "\n",
    "class CFG(object):\n",
    "    # basic\n",
    "    debug: bool = False\n",
    "    debug_sample: int = 32\n",
    "    folds: int  = 5\n",
    "    seed: int   = 417\n",
    "    eps: float  = 1e-12\n",
    "    outdir: str = '../../train/output/syu/'\n",
    "    \n",
    "    # data\n",
    "    PATH_FOLD_CSV: str  =  f'../../data/folds/'\n",
    "    \n",
    "    # train\n",
    "    epoch: int  = 200\n",
    "    trainer: Dict[str, Any]   = {\n",
    "        'gpus': 1,\n",
    "        'accumulate_grad_batches': 1,\n",
    "        'progress_bar_refresh_rate': 1,\n",
    "        'stochastic_weight_avg': False,\n",
    "        'fast_dev_run': False,\n",
    "        'num_sanity_val_steps': 0,\n",
    "        'resume_from_checkpoint': None,\n",
    "        'check_val_every_n_epoch': 2,\n",
    "        'val_check_interval': 1.0,\n",
    "        'precision' : 16,\n",
    "        'gradient_clip_val': 10., \n",
    "        'gradient_clip_algorithm': \"value\"\n",
    "    }\n",
    "    optimizer: Dict[str, Any] = {\n",
    "        'name': 'optim.AdamW',\n",
    "        'params': {\n",
    "            'lr': 1e-3,\n",
    "            },\n",
    "    }\n",
    "    scheduler: Dict[str, Any] = {\n",
    "        'name': 'optim.lr_scheduler.CosineAnnealingWarmRestarts',\n",
    "        'params':{\n",
    "            'T_0': 20,\n",
    "            'eta_min': 1e-5,\n",
    "            }\n",
    "    }\n",
    "    model: Dict[str, Any] = {\n",
    "        \"architecture\": 'smp', # timmu, smp\n",
    "        \"threshold\": 0.4,\n",
    "        'loss': 'MultiBCEDiceLoss(raito=0.5)',\n",
    "        'in_channels': 0,\n",
    "        'out_channels': 0,\n",
    "        'decoder_channels': [int(256 / 2**i) for i in range(5)],\n",
    "        'encoder_name': 'efficientnet-b0',\n",
    "        'act': None,\n",
    "    }\n",
    "    train_loader: Dict[str, Any] = {\n",
    "        'batch_size': 16,\n",
    "        'shuffle': True,\n",
    "        'num_workers': 8,\n",
    "        'pin_memory': False,\n",
    "        'drop_last': True,\n",
    "    }\n",
    "    val_loader :Dict[str, Any]= {\n",
    "        'batch_size': 16,\n",
    "        'shuffle': False,\n",
    "        'num_workers': 8,\n",
    "        'pin_memory': False,\n",
    "        'drop_last': False\n",
    "    }\n",
    "    \n",
    "    # preprocess\n",
    "    features :List[str] = [\"preimg\",\"postimg\",\"building\",\"road\",\"roadspeed\",\"flood\"]\n",
    "    # [\"preimg\",\"postimg\",\"building\",\"road\",\"roadspeed\",\"flood\"]\n",
    "    \n",
    "    preprocess: Dict = {\n",
    "        \"input_size\": 512,\n",
    "    }\n",
    "    \n",
    "    # logging\n",
    "    project: str = \"SpaceNet8\"\n",
    "    runname: str = \"3090\"\n",
    "    group: str   = f'3090_V2_FND+FLD_IMG{preprocess[\"input_size\"]}_multibcedice_rotate'\n",
    "    notebook: str = 'baseline.ipynb'\n",
    "    \n",
    "    # post info\n",
    "    augmentation: str =  ''\n",
    "    fold: int = -1\n",
    "    \n",
    "    \n",
    "    # channels\n",
    "    for f in features:\n",
    "        if f == 'preimg':\n",
    "            model['in_channels'] += 3\n",
    "        elif f == 'postimg':\n",
    "            model['in_channels'] += 3\n",
    "\n",
    "        if f == 'building':\n",
    "            model['out_channels'] += 1\n",
    "        elif f == 'road':\n",
    "            model['out_channels']  += 1\n",
    "        elif f == 'roadspeed':\n",
    "            model['out_channels']  += 8\n",
    "        elif f == 'flood':\n",
    "            model['out_channels']  += 4\n",
    "        \n",
    "\n",
    "    if debug:\n",
    "        epoch = 2\n",
    "        group = 'DEBUG'\n",
    "\n",
    "\n",
    "# box\n",
    "cfg = Box({k:v for k, v in dict(vars(CFG)).items() if '__' not in k})\n",
    "    \n",
    "# 乱数のシードを設定\n",
    "seed_everything(cfg.seed)\n",
    "torch.manual_seed(cfg.seed)\n",
    "np.random.seed(cfg.seed)\n",
    "random.seed(cfg.seed)\n",
    "    \n",
    "pprint(cfg)"
   ]
  },
  {
   "cell_type": "markdown",
   "metadata": {},
   "source": [
    "## Augmentation"
   ]
  },
  {
   "cell_type": "code",
   "execution_count": 3,
   "metadata": {},
   "outputs": [
    {
     "data": {
      "text/plain": [
       "\"{'train':Compose([Transpose(always_apply=False,p=0.25),Flip(always_apply=False,p=0.5),Rotate(always_apply=False,p=0.5,limit=(-30,30),interpolation=1,border_mode=4,value=None,mask_value=None,method='largest_box',crop_border=False),Resize(always_apply=False,p=1,height=512,width=512,interpolation=1),ToTensorV2(always_apply=True,p=1.0,transpose_mask=False),],p=1.0,bbox_params=None,keypoint_params=None,additional_targets={}),'val':Compose([Resize(always_apply=False,p=1,height=512,width=512,interpolation=1),ToTensorV2(always_apply=True,p=1.0,transpose_mask=False),],p=1.0,bbox_params=None,keypoint_params=None,additional_targets={})}\""
      ]
     },
     "execution_count": 3,
     "metadata": {},
     "output_type": "execute_result"
    }
   ],
   "source": [
    "# augmentation\n",
    "tf_dict = {\n",
    "    \n",
    "    'train': A.Compose(\n",
    "        [\n",
    "\n",
    "            # A.CoarseDropout(max_holes=4, max_height=4, max_width=4, \n",
    "            #                     min_holes=None, min_height=None, min_width=None, \n",
    "            #                     fill_value=0.15, mask_fill_value=0.0, always_apply=False, p=0.25),\n",
    "            # A.ElasticTransform(alpha=1, sigma=50, alpha_affine=50, interpolation=1,\n",
    "            #                     border_mode=4, value=None, mask_value=None, always_apply=False,\n",
    "            #                     approximate=False, same_dxdy=False, p=0.25),\n",
    "            # A.GridDistortion(num_steps=5, distort_limit=0.4, interpolation=1, \n",
    "            #                     border_mode=4, value=None, mask_value=None, always_apply=False, p=0.25),\n",
    "            # A.ShiftScaleRotate(shift_limit=0.1, scale_limit=0.1, rotate_limit=15, interpolation=1, \n",
    "            #                     border_mode=4, value=0.01, mask_value=0.0, shift_limit_x=None, shift_limit_y=None, \n",
    "            #                     p=0.5),\n",
    "            # A.OneOf([\n",
    "            #     # A.GaussNoise(var_limit=(1e-3, 8e-1), mean=0.15, p=0.5),\n",
    "            #     A.Blur(blur_limit=9, p=0.25),\n",
    "            #     A.RandomBrightnessContrast(brightness_limit=0.1, contrast_limit=0.1, brightness_by_max=True, p=0.5),\n",
    "            # ], p=0.9),\n",
    "            A.Transpose(p=0.25),\n",
    "            A.Flip(p=0.5),\n",
    "            # A.HueSaturationValue (hue_shift_limit=5, sat_shift_limit=10, val_shift_limit=5, p=0.5),\n",
    "            A.Rotate(limit=30, p=0.5),\n",
    "            A.Resize(cfg.preprocess.input_size, cfg.preprocess.input_size),\n",
    "    #         A.Normalize(mean=(0.485), std=(0.229)),\n",
    "            ToTensorV2(),\n",
    "            ]\n",
    "        ),\n",
    "    'val': A.Compose(\n",
    "        [\n",
    "            A.Resize(cfg.preprocess.input_size, cfg.preprocess.input_size),\n",
    "            # A.Normalize(mean=(0.485), std=(0.229)),\n",
    "            ToTensorV2(),\n",
    "        ]\n",
    "    ),\n",
    "}\n",
    "\n",
    "cfg.augmentation = str(tf_dict).replace('\\n', '').replace(' ', '')\n",
    "cfg.augmentation"
   ]
  },
  {
   "cell_type": "markdown",
   "metadata": {},
   "source": [
    "## Dataset"
   ]
  },
  {
   "cell_type": "code",
   "execution_count": 4,
   "metadata": {},
   "outputs": [],
   "source": [
    "class SpaceNnet8Dataset(Dataset):\n",
    "    def __init__(self,\n",
    "                 fold: int,\n",
    "                 phase: str,\n",
    "                 ):\n",
    "        \"\"\" pytorch dataset for spacenet-8 data. loads images from a csv that contains filepaths to the images\n",
    "        \n",
    "        Parameters:\n",
    "        ------------\n",
    "        fold: (int) \n",
    "            preimg column contains filepaths to the pre-event image tiles (.tif)\n",
    "            postimg column contains filepaths to the post-event image tiles (.tif)\n",
    "            building column contains the filepaths to the binary building labels (.tif)\n",
    "            road column contains the filepaths to the binary road labels (.tif)\n",
    "            roadspeed column contains the filepaths to the road speed labels (.tif)\n",
    "            flood column contains the filepaths to the flood labels (.tif)\n",
    "        data_to_load (list): a list that defines which of the images and labels to load from the .csv. \n",
    "        \n",
    "        \"\"\"\n",
    "        self.all_data_types = [\"preimg\", \"postimg\", \"building\", \"road\", \"roadspeed\", \"flood\"]\n",
    "        \n",
    "        self.data_to_load = cfg.features\n",
    "        self.phase = phase\n",
    "        csv_filename = os.path.join(cfg.PATH_FOLD_CSV, f'fold{fold}_seed{cfg.seed}_{self.phase}.csv')\n",
    "        self.transform = tf_dict[self.phase]\n",
    "        \n",
    "        self.files = []\n",
    "\n",
    "        dict_template = {}\n",
    "        for i in self.all_data_types:\n",
    "            dict_template[i] = None\n",
    "        \n",
    "        with open(csv_filename, newline='') as csvfile:\n",
    "            reader = csv.DictReader(csvfile)\n",
    "            for k, row in enumerate(reader):\n",
    "                in_data = copy.copy(dict_template)\n",
    "                for j in self.data_to_load:\n",
    "                    in_data[j]=row[j]\n",
    "                self.files.append(in_data)\n",
    "                \n",
    "                if cfg.debug and k > cfg.debug_sample:\n",
    "                    break\n",
    "        \n",
    "        print(\"loaded\", len(self.files), \"image filepaths\")\n",
    "\n",
    "    def __len__(self):\n",
    "        return len(self.files)\n",
    "\n",
    "    def __getitem__(self, index):\n",
    "        data_dict = self.files[index]\n",
    "\n",
    "        imgs, masks = [], []\n",
    "        \n",
    "        # gather\n",
    "        for i in self.all_data_types:\n",
    "            filepath = data_dict[i]\n",
    "            if filepath is not None:\n",
    "                # need to resample postimg to same spatial resolution/extent as preimg and labels.\n",
    "                if i == \"postimg\":\n",
    "                    ds = self.get_warped_ds(data_dict[\"postimg\"])\n",
    "                else:\n",
    "                    ds = gdal.Open(filepath)\n",
    "                image = ds.ReadAsArray()\n",
    "                ds = None\n",
    "            \n",
    "                if i in ['preimg' ,'postimg']:\n",
    "                    imgs.append(image.transpose(1, 2, 0))\n",
    "                else:\n",
    "                    # 1 channel\n",
    "                    if len(image.shape) <= 2:\n",
    "                        masks.append(image[:,:, np.newaxis])\n",
    "                    else:\n",
    "                        masks.append(image.transpose(1, 2, 0))\n",
    "                        \n",
    "                \n",
    "        \n",
    "        \n",
    "        # align channel last\n",
    "        imgs = np.concatenate(imgs, axis=2)\n",
    "        masks = np.concatenate(masks, axis=2)\n",
    "        \n",
    "        # augmentation\n",
    "        transformed = self.transform(image=imgs, mask=masks)\n",
    "        \n",
    "        imgs = transformed[\"image\"]\n",
    "        masks = transformed[\"mask\"].permute(2, 0, 1) # torch channel fast\n",
    "        \n",
    "        return imgs, masks\n",
    "\n",
    "    def get_image_filename(self, index: int) -> str:\n",
    "        \"\"\" return pre-event image absolute filepath at index \"\"\"\n",
    "        data_dict = self.files[index]\n",
    "        return data_dict[\"preimg\"]\n",
    "\n",
    "    def get_warped_ds(self, post_image_filename: str) -> gdal.Dataset:\n",
    "        \"\"\" gdal warps (resamples) the post-event image to the same spatial resolution as the pre-event image and masks \n",
    "        \n",
    "        SN8 labels are created from referencing pre-event image. Spatial resolution of the post-event image does not match the spatial resolution of the pre-event imagery and therefore the labels.\n",
    "        In order to align the post-event image with the pre-event image and mask labels, we must resample the post-event image to the resolution of the pre-event image. Also need to make sure\n",
    "        the post-event image covers the exact same spatial extent as the pre-event image. this is taken care of in the the tiling\"\"\"\n",
    "        ds = gdal.Warp(\"\", post_image_filename,\n",
    "                       format='MEM', width=1300, height=1300,\n",
    "                       resampleAlg=gdal.GRIORA_Bilinear,\n",
    "                       outputType=gdal.GDT_Byte)\n",
    "        return ds\n",
    "    \n",
    "class SpaceNnet8Module(LightningDataModule):\n",
    "    def __init__(\n",
    "        self,\n",
    "        fold,\n",
    "        cfg,\n",
    "    ):\n",
    "        super().__init__()\n",
    "        self.fold = fold\n",
    "        self._cfg = cfg\n",
    "\n",
    "    def train_dataloader(self):\n",
    "        dataset = SpaceNnet8Dataset(self.fold, phase='train')\n",
    "        return DataLoader(dataset, **self._cfg.train_loader)\n",
    "\n",
    "    def val_dataloader(self):\n",
    "        dataset = SpaceNnet8Dataset(self.fold, phase='val')\n",
    "        return DataLoader(dataset, **self._cfg.val_loader)"
   ]
  },
  {
   "cell_type": "markdown",
   "metadata": {},
   "source": [
    "## Model"
   ]
  },
  {
   "cell_type": "code",
   "execution_count": 5,
   "metadata": {},
   "outputs": [],
   "source": [
    "class DiceLoss(smp.utils.base.Loss):\n",
    "    \"\"\"DiceLoss which supports ignore mask.\n",
    "    \"\"\"\n",
    "    def __init__(self, eps=cfg.eps, beta=0.5, ignore_mask_channel=None, **kwargs):\n",
    "        super().__init__(**kwargs)\n",
    "        self.eps = eps\n",
    "        self.beta = beta\n",
    "        self.ignore_mask_channel = ignore_mask_channel\n",
    "\n",
    "    def forward(self, y_pr, y_gt):\n",
    "        # y_pr, y_gt = _apply_ignore_mask(y_pr, y_gt, self.ignore_mask_channel)\n",
    "\n",
    "        return 1 - smp.utils.functional.f_score(\n",
    "            y_pr,\n",
    "            y_gt,\n",
    "            beta=self.beta,\n",
    "            eps=self.eps,\n",
    "            threshold=None,\n",
    "            ignore_channels=None,\n",
    "        )\n",
    "\n",
    "class BCEDiceLoss(torch.nn.Module):\n",
    "    def __init__(self, raito=0.5):\n",
    "        super(BCEDiceLoss, self).__init__()\n",
    "        assert 0 <= raito <= 1, \"loss raito invalid.\"\n",
    "        \n",
    "        self.raito = raito\n",
    "        self.bce_criterion = torch.nn.BCEWithLogitsLoss()\n",
    "        self.dice_criterion = DiceLoss()\n",
    "        \n",
    "    def forward(self, y_pr, y_gt):\n",
    "        loss = self.raito * self.bce_criterion(y_pr, y_gt) + (1 - self.raito) * self.dice_criterion(torch.sigmoid(y_pr), y_gt)\n",
    "        return loss\n",
    "    \n",
    "class MultiBCEDiceLoss(torch.nn.Module):\n",
    "    def __init__(self, raito=0.5):\n",
    "        super(MultiBCEDiceLoss, self).__init__()\n",
    "        assert 0 <= raito <= 1, \"loss raito invalid.\"\n",
    "        \n",
    "        self.raito = raito\n",
    "        self.bce_criterion = torch.nn.BCEWithLogitsLoss()\n",
    "        self.dice_criterion = smp.losses.DiceLoss(mode='multilabel')\n",
    "        \n",
    "    def forward(self, y_pr, y_gt):\n",
    "        loss = self.raito * self.bce_criterion(y_pr, y_gt) + (1 - self.raito) * self.dice_criterion(torch.sigmoid(y_pr), y_gt)\n",
    "        return loss\n",
    "\n",
    "class MultiBCETverskyLoss(torch.nn.Module):\n",
    "    def __init__(self, raito=0.5):\n",
    "        super(MultiBCETverskyLoss, self).__init__()\n",
    "        assert 0 <= raito <= 1, \"loss raito invalid.\"\n",
    "        \n",
    "        self.raito = raito\n",
    "        self.bce_criterion = torch.nn.BCEWithLogitsLoss()\n",
    "        self.tvrsky_criterion = smp.losses.TverskyLoss(mode='multilabel', log_loss=False)\n",
    "        \n",
    "    def forward(self, y_pr, y_gt):\n",
    "        loss = self.raito * self.bce_criterion(y_pr, y_gt) + (1 - self.raito) * self.tvrsky_criterion(torch.sigmoid(y_pr), y_gt)\n",
    "        return loss"
   ]
  },
  {
   "cell_type": "code",
   "execution_count": 6,
   "metadata": {},
   "outputs": [],
   "source": [
    "def mixup(x: torch.Tensor, y: torch.Tensor, alpha: float = 1.0):\n",
    "    assert alpha > 0, \"alpha should be larger than 0\"\n",
    "    assert x.size(0) > 1, \"Mixup cannot be applied to a single instance.\"\n",
    "\n",
    "    lam = np.random.beta(alpha, alpha)\n",
    "    rand_index = torch.randperm(x.size()[0])\n",
    "    mixed_x = lam * x + (1 - lam) * x[rand_index, :]\n",
    "    target_a, target_b = y, y[rand_index]\n",
    "    return mixed_x, target_a, target_b, lam\n",
    "\n",
    "\n",
    "class SpaceNet8Model(LightningModule):\n",
    "    def __init__(self, cfg):\n",
    "        super().__init__()\n",
    "        self.cfg = cfg\n",
    "        self.__build_model()\n",
    "        self._criterion = eval(cfg.model.loss)\n",
    "        \n",
    "    def __build_model(self):\n",
    "        self.backbone = smp.UnetPlusPlus(encoder_name=cfg.model.encoder_name,\n",
    "                                              encoder_weights=\"imagenet\",\n",
    "                                      decoder_attention_type='scse',\n",
    "                                      in_channels=cfg.model.in_channels, activation=cfg.model.act,\n",
    "                                      decoder_channels=cfg.model.decoder_channels,\n",
    "                                      classes=cfg.model.out_channels)\n",
    "\n",
    "    def forward(self, x):\n",
    "        feat = self.backbone(x)\n",
    "        return feat\n",
    "\n",
    "    def training_step(self, batch, batch_idx):\n",
    "        return self.__share_step(batch, 'train')\n",
    "        \n",
    "    def validation_step(self, batch, batch_idx):\n",
    "        return self.__share_step(batch, 'val')\n",
    "    \n",
    "    def __share_step(self, batch, mode):\n",
    "        images, labels = batch\n",
    "        labels = labels.float()\n",
    "        images = images.float()\n",
    "\n",
    "        feat = self.forward(images)\n",
    "\n",
    "        # loss\n",
    "        loss = self._criterion(feat, labels)\n",
    "        \n",
    "        logits = torch.sigmoid(feat)\n",
    "        preds = (logits > cfg.model.threshold).float()\n",
    "        return_dict = {'loss': loss }\n",
    "        \n",
    "        # metrics\n",
    "        for c in range(cfg.model.out_channels):\n",
    "            preds_c, labels_c = preds[:, c, :, :], labels[:, c, :, :]\n",
    "            tp = (preds_c * labels_c).sum().to(torch.float32)\n",
    "            tn = ((1. - preds_c) * (1. - labels_c)).sum().to(torch.float32)\n",
    "            fp = (preds_c * (1. - labels_c)).sum().to(torch.float32)\n",
    "            fn = ((1. - preds_c) * labels_c).sum().to(torch.float32)\n",
    "            return_dict[f'TP_{c}'] = tp.unsqueeze(dim=0).detach().cpu()\n",
    "            return_dict[f'TN_{c}'] = tn.unsqueeze(dim=0).detach().cpu()\n",
    "            return_dict[f'FP_{c}'] = fp.unsqueeze(dim=0).detach().cpu()\n",
    "            return_dict[f'FN_{c}'] = fn.unsqueeze(dim=0).detach().cpu()\n",
    "            \n",
    "            precision = tp / (tp + fp + cfg.eps)\n",
    "            recall = tp / (tp + fn + cfg.eps)\n",
    "            f1 = 2 * (precision*recall) / (precision + recall + cfg.eps)\n",
    "            iou = tp / (tp + fp + fn + cfg.eps)\n",
    "            \n",
    "            return_dict[f'Precision_{c}'] = precision.unsqueeze(dim=0).detach().cpu()\n",
    "            return_dict[f'Recall_{c}'] = recall.unsqueeze(dim=0).detach().cpu()\n",
    "            return_dict[f'F1_{c}'] = f1.unsqueeze(dim=0).detach().cpu()\n",
    "            return_dict[f'IoU_{c}'] = iou.unsqueeze(dim=0).detach().cpu()\n",
    "            \n",
    "            # logging \n",
    "            self.log(f'{mode}/iter_TP_{c}', tp)\n",
    "            self.log(f'{mode}/iter_TN_{c}', tn)\n",
    "            self.log(f'{mode}/iter_FP_{c}', fp)\n",
    "            self.log(f'{mode}/iter_FN_{c}', fn)\n",
    "            \n",
    "            self.log(f'{mode}/iter_Precision_{c}', precision)\n",
    "            self.log(f'{mode}/iter_Recall_{c}', recall)\n",
    "            \n",
    "            self.log(f'{mode}/iter_F1_{c}', f1)\n",
    "            self.log(f'{mode}/iter_IoU_{c}', iou) \n",
    "            \n",
    "        self.log(f'{mode}/iter_loss', loss)         \n",
    "\n",
    "        return return_dict\n",
    "        \n",
    "    def training_epoch_end(self, outputs):\n",
    "        self.__share_epoch_end(outputs, 'train')\n",
    "\n",
    "    def validation_epoch_end(self, outputs):\n",
    "        self.__share_epoch_end(outputs, 'val')    \n",
    "        \n",
    "    def __share_epoch_end(self, outputs, mode):\n",
    "        \n",
    "        # loss\n",
    "        losses = []\n",
    "        for out in outputs:\n",
    "            losses.append(out['loss'].cpu().detach().numpy())\n",
    "        losses = np.mean(losses)\n",
    "        self.log(f'{mode}/epoch_loss', losses)\n",
    "        \n",
    "        mean_iou = 0\n",
    "        mean_f1 = 0\n",
    "    \n",
    "        # metrics\n",
    "        for c in range(cfg.model.out_channels):\n",
    "            tps, tns, fps, fns, precisions, recalls, f1s, IoUs = \\\n",
    "                [], [], [], [], [], [], [], []\n",
    "            for out in outputs:\n",
    "                # assert False, (out[f'TP_{c}'], out[f'TP_{c}'].shape)\n",
    "                for (tp, tn, fp, fn, precision, recall, f1, iou) in zip(out[f'TP_{c}'], \n",
    "                                         out[f'TN_{c}'],\n",
    "                                         out[f'FP_{c}'],\n",
    "                                         out[f'FN_{c}'],\n",
    "                                         out[f'Precision_{c}'],\n",
    "                                         out[f'Recall_{c}'],\n",
    "                                         out[f'F1_{c}'],\n",
    "                                         out[f'IoU_{c}'],):\n",
    "                    \n",
    "                    tps.append(tp.unsqueeze(dim=0))\n",
    "                    tns.append(tn.unsqueeze(dim=0))\n",
    "                    fps.append(fp.unsqueeze(dim=0))\n",
    "                    fns.append(fn.unsqueeze(dim=0))\n",
    "                    \n",
    "                    precisions.append(precision.unsqueeze(dim=0))\n",
    "                    recalls.append(recall.unsqueeze(dim=0))\n",
    "                    f1s.append(f1.unsqueeze(dim=0))\n",
    "                    IoUs.append(iou.unsqueeze(dim=0))\n",
    "                    \n",
    "            tps = torch.cat(tps, dim=0).squeeze()\n",
    "            tns = torch.cat(tns, dim=0).squeeze()\n",
    "            fps = torch.cat(fps, dim=0).squeeze()\n",
    "            fns = torch.cat(fns, dim=0).squeeze()\n",
    "            \n",
    "            precisions = torch.cat(precisions, dim=0).squeeze()\n",
    "            recalls = torch.cat(recalls, dim=0).squeeze()\n",
    "            f1s = torch.cat(f1s, dim=0).squeeze()\n",
    "            IoUs = torch.cat(IoUs, dim=0).squeeze()\n",
    "            \n",
    "            \n",
    "            # logging \n",
    "            self.log(f'{mode}/epoch_TP_{c}', tps)\n",
    "            self.log(f'{mode}/epoch_TN_{c}', tns)\n",
    "            self.log(f'{mode}/epoch_FP_{c}', fps)\n",
    "            self.log(f'{mode}/epoch_FN_{c}', fns)\n",
    "            \n",
    "            self.log(f'{mode}/epoch_Precision_{c}', precisions)\n",
    "            self.log(f'{mode}/epoch_Recall_{c}', recalls)\n",
    "            \n",
    "            self.log(f'{mode}/epoch_F1_{c}', f1s)\n",
    "            self.log(f'{mode}/epoch_IoU_{c}', IoUs)\n",
    "            \n",
    "            mean_iou += np.mean(IoUs.numpy()).item()\n",
    "            mean_f1 += np.mean(f1s.numpy()).item()\n",
    "        \n",
    "        mean_iou /= cfg.model.out_channels\n",
    "        mean_f1 /= cfg.model.out_channels\n",
    "        self.log(f'{mode}/mean_IoU', mean_iou)\n",
    "        self.log(f'{mode}/mean_F1', mean_f1)\n",
    "\n",
    "    def configure_optimizers(self):\n",
    "        optimizer = eval(self.cfg.optimizer.name)(\n",
    "            self.parameters(), **self.cfg.optimizer.params\n",
    "        )\n",
    "        scheduler = eval(self.cfg.scheduler.name)(\n",
    "            optimizer,\n",
    "            **self.cfg.scheduler.params\n",
    "        )\n",
    "        return [optimizer], [scheduler]"
   ]
  },
  {
   "cell_type": "markdown",
   "metadata": {},
   "source": [
    "## Train"
   ]
  },
  {
   "cell_type": "code",
   "execution_count": 7,
   "metadata": {},
   "outputs": [
    {
     "name": "stdout",
     "output_type": "stream",
     "text": [
      "############################################################\n",
      "### Fold: 0\n",
      "############################################################\n"
     ]
    },
    {
     "data": {
      "text/html": [
       "Changes to your `wandb` environment variables will be ignored because your `wandb` session has already started. For more information on how to modify your settings with `wandb.init()` arguments, please refer to <a href=\"https://wandb.me/wandb-init\" target=\"_blank\">the W&B docs</a>."
      ],
      "text/plain": [
       "<IPython.core.display.HTML object>"
      ]
     },
     "metadata": {},
     "output_type": "display_data"
    },
    {
     "name": "stderr",
     "output_type": "stream",
     "text": [
      "\u001b[34m\u001b[1mwandb\u001b[0m: Currently logged in as: \u001b[33msyuchimu\u001b[0m (\u001b[33mspaceshift\u001b[0m). Use \u001b[1m`wandb login --relogin`\u001b[0m to force relogin\n"
     ]
    },
    {
     "data": {
      "text/html": [
       "Tracking run with wandb version 0.12.21"
      ],
      "text/plain": [
       "<IPython.core.display.HTML object>"
      ]
     },
     "metadata": {},
     "output_type": "display_data"
    },
    {
     "data": {
      "text/html": [
       "Run data is saved locally in <code>/media/syu/c983cccd-1cc7-4ce4-b206-7eb1a2cc5c94/topcoder/spacenet8/SpaceNet8/baseline/wandb/run-20220723_034048-47xkmqk9</code>"
      ],
      "text/plain": [
       "<IPython.core.display.HTML object>"
      ]
     },
     "metadata": {},
     "output_type": "display_data"
    },
    {
     "data": {
      "text/html": [
       "Syncing run <strong><a href=\"https://wandb.ai/spaceshift/SpaceNet8/runs/47xkmqk9\" target=\"_blank\">3090_fold0</a></strong> to <a href=\"https://wandb.ai/spaceshift/SpaceNet8\" target=\"_blank\">Weights & Biases</a> (<a href=\"https://wandb.me/run\" target=\"_blank\">docs</a>)<br/>"
      ],
      "text/plain": [
       "<IPython.core.display.HTML object>"
      ]
     },
     "metadata": {},
     "output_type": "display_data"
    },
    {
     "name": "stderr",
     "output_type": "stream",
     "text": [
      "Using 16bit native Automatic Mixed Precision (AMP)\n",
      "GPU available: True, used: True\n",
      "TPU available: False, using: 0 TPU cores\n",
      "IPU available: False, using: 0 IPUs\n",
      "HPU available: False, using: 0 HPUs\n",
      "`Trainer(val_check_interval=1.0)` was configured so validation will run at the end of the training epoch..\n"
     ]
    },
    {
     "name": "stdout",
     "output_type": "stream",
     "text": [
      "### Start Trainig\n"
     ]
    },
    {
     "name": "stderr",
     "output_type": "stream",
     "text": [
      "LOCAL_RANK: 0 - CUDA_VISIBLE_DEVICES: [0]\n",
      "\n",
      "  | Name       | Type             | Params\n",
      "------------------------------------------------\n",
      "0 | backbone   | UnetPlusPlus     | 6.6 M \n",
      "1 | _criterion | MultiBCEDiceLoss | 0     \n",
      "------------------------------------------------\n",
      "6.6 M     Trainable params\n",
      "0         Non-trainable params\n",
      "6.6 M     Total params\n",
      "13.286    Total estimated model params size (MB)\n"
     ]
    },
    {
     "name": "stdout",
     "output_type": "stream",
     "text": [
      "loaded 640 image filepaths\n",
      "loaded 161 image filepaths\n"
     ]
    },
    {
     "data": {
      "application/vnd.jupyter.widget-view+json": {
       "model_id": "331c8cb43281455fa78f1708df7460a8",
       "version_major": 2,
       "version_minor": 0
      },
      "text/plain": [
       "Training: 0it [00:00, ?it/s]"
      ]
     },
     "metadata": {},
     "output_type": "display_data"
    },
    {
     "data": {
      "application/vnd.jupyter.widget-view+json": {
       "model_id": "39ef762d83bc424ca5ec74774b90ccc5",
       "version_major": 2,
       "version_minor": 0
      },
      "text/plain": [
       "Validation: 0it [00:00, ?it/s]"
      ]
     },
     "metadata": {},
     "output_type": "display_data"
    },
    {
     "data": {
      "application/vnd.jupyter.widget-view+json": {
       "model_id": "9549954e6a7742ab82aafab6c20dc5a3",
       "version_major": 2,
       "version_minor": 0
      },
      "text/plain": [
       "Validation: 0it [00:00, ?it/s]"
      ]
     },
     "metadata": {},
     "output_type": "display_data"
    },
    {
     "data": {
      "application/vnd.jupyter.widget-view+json": {
       "model_id": "74a0e49c596346b88819bd7f002595b2",
       "version_major": 2,
       "version_minor": 0
      },
      "text/plain": [
       "Validation: 0it [00:00, ?it/s]"
      ]
     },
     "metadata": {},
     "output_type": "display_data"
    },
    {
     "data": {
      "application/vnd.jupyter.widget-view+json": {
       "model_id": "6b65993edb0b48c38489c8c30a0ebdbe",
       "version_major": 2,
       "version_minor": 0
      },
      "text/plain": [
       "Validation: 0it [00:00, ?it/s]"
      ]
     },
     "metadata": {},
     "output_type": "display_data"
    },
    {
     "data": {
      "application/vnd.jupyter.widget-view+json": {
       "model_id": "744034681aa74e34973b137a81cb3042",
       "version_major": 2,
       "version_minor": 0
      },
      "text/plain": [
       "Validation: 0it [00:00, ?it/s]"
      ]
     },
     "metadata": {},
     "output_type": "display_data"
    },
    {
     "data": {
      "application/vnd.jupyter.widget-view+json": {
       "model_id": "7071dae4512b4c6092d9a3be4e3288ac",
       "version_major": 2,
       "version_minor": 0
      },
      "text/plain": [
       "Validation: 0it [00:00, ?it/s]"
      ]
     },
     "metadata": {},
     "output_type": "display_data"
    },
    {
     "data": {
      "application/vnd.jupyter.widget-view+json": {
       "model_id": "864b750e802e45cdae0b2cfd5f0f2db2",
       "version_major": 2,
       "version_minor": 0
      },
      "text/plain": [
       "Validation: 0it [00:00, ?it/s]"
      ]
     },
     "metadata": {},
     "output_type": "display_data"
    },
    {
     "data": {
      "application/vnd.jupyter.widget-view+json": {
       "model_id": "eaa7de03c2c546ecbe7945d00d423c58",
       "version_major": 2,
       "version_minor": 0
      },
      "text/plain": [
       "Validation: 0it [00:00, ?it/s]"
      ]
     },
     "metadata": {},
     "output_type": "display_data"
    },
    {
     "data": {
      "application/vnd.jupyter.widget-view+json": {
       "model_id": "2623051f772e4af59fe86e6ee4984114",
       "version_major": 2,
       "version_minor": 0
      },
      "text/plain": [
       "Validation: 0it [00:00, ?it/s]"
      ]
     },
     "metadata": {},
     "output_type": "display_data"
    },
    {
     "data": {
      "application/vnd.jupyter.widget-view+json": {
       "model_id": "a3861554f4c642fbacbf42735256c7b1",
       "version_major": 2,
       "version_minor": 0
      },
      "text/plain": [
       "Validation: 0it [00:00, ?it/s]"
      ]
     },
     "metadata": {},
     "output_type": "display_data"
    },
    {
     "data": {
      "application/vnd.jupyter.widget-view+json": {
       "model_id": "5237cfcd17954a10a1aa482262237e1a",
       "version_major": 2,
       "version_minor": 0
      },
      "text/plain": [
       "Validation: 0it [00:00, ?it/s]"
      ]
     },
     "metadata": {},
     "output_type": "display_data"
    },
    {
     "data": {
      "application/vnd.jupyter.widget-view+json": {
       "model_id": "f6d92b89e1414f02b69ab049be27889a",
       "version_major": 2,
       "version_minor": 0
      },
      "text/plain": [
       "Validation: 0it [00:00, ?it/s]"
      ]
     },
     "metadata": {},
     "output_type": "display_data"
    },
    {
     "data": {
      "application/vnd.jupyter.widget-view+json": {
       "model_id": "a6e9087c99e344dd96eb6473d80c03d8",
       "version_major": 2,
       "version_minor": 0
      },
      "text/plain": [
       "Validation: 0it [00:00, ?it/s]"
      ]
     },
     "metadata": {},
     "output_type": "display_data"
    },
    {
     "data": {
      "application/vnd.jupyter.widget-view+json": {
       "model_id": "cab3aaad7cd6438bb63207a3846ad601",
       "version_major": 2,
       "version_minor": 0
      },
      "text/plain": [
       "Validation: 0it [00:00, ?it/s]"
      ]
     },
     "metadata": {},
     "output_type": "display_data"
    },
    {
     "data": {
      "application/vnd.jupyter.widget-view+json": {
       "model_id": "5a9de140b55649a3aa11ee51c86600ce",
       "version_major": 2,
       "version_minor": 0
      },
      "text/plain": [
       "Validation: 0it [00:00, ?it/s]"
      ]
     },
     "metadata": {},
     "output_type": "display_data"
    },
    {
     "data": {
      "application/vnd.jupyter.widget-view+json": {
       "model_id": "673ae5dca4b846eabd63c77da98b15a2",
       "version_major": 2,
       "version_minor": 0
      },
      "text/plain": [
       "Validation: 0it [00:00, ?it/s]"
      ]
     },
     "metadata": {},
     "output_type": "display_data"
    },
    {
     "data": {
      "application/vnd.jupyter.widget-view+json": {
       "model_id": "328540e7ed174074a601e0f96c8ee89c",
       "version_major": 2,
       "version_minor": 0
      },
      "text/plain": [
       "Validation: 0it [00:00, ?it/s]"
      ]
     },
     "metadata": {},
     "output_type": "display_data"
    },
    {
     "data": {
      "application/vnd.jupyter.widget-view+json": {
       "model_id": "43868cf540d94175ad8914fc8dd5c2d6",
       "version_major": 2,
       "version_minor": 0
      },
      "text/plain": [
       "Validation: 0it [00:00, ?it/s]"
      ]
     },
     "metadata": {},
     "output_type": "display_data"
    },
    {
     "data": {
      "application/vnd.jupyter.widget-view+json": {
       "model_id": "3419f514aa87435d8bc52f92ad63c15d",
       "version_major": 2,
       "version_minor": 0
      },
      "text/plain": [
       "Validation: 0it [00:00, ?it/s]"
      ]
     },
     "metadata": {},
     "output_type": "display_data"
    },
    {
     "data": {
      "application/vnd.jupyter.widget-view+json": {
       "model_id": "ccaf9e6cac724df6b194bf60677e6de7",
       "version_major": 2,
       "version_minor": 0
      },
      "text/plain": [
       "Validation: 0it [00:00, ?it/s]"
      ]
     },
     "metadata": {},
     "output_type": "display_data"
    },
    {
     "data": {
      "application/vnd.jupyter.widget-view+json": {
       "model_id": "c5b1b4aa4f324d758552188db7cff107",
       "version_major": 2,
       "version_minor": 0
      },
      "text/plain": [
       "Validation: 0it [00:00, ?it/s]"
      ]
     },
     "metadata": {},
     "output_type": "display_data"
    },
    {
     "data": {
      "application/vnd.jupyter.widget-view+json": {
       "model_id": "07ceaa1eae004b9f896ea8d912d3413c",
       "version_major": 2,
       "version_minor": 0
      },
      "text/plain": [
       "Validation: 0it [00:00, ?it/s]"
      ]
     },
     "metadata": {},
     "output_type": "display_data"
    },
    {
     "data": {
      "application/vnd.jupyter.widget-view+json": {
       "model_id": "271deb5eb08e4847bdb260123774e852",
       "version_major": 2,
       "version_minor": 0
      },
      "text/plain": [
       "Validation: 0it [00:00, ?it/s]"
      ]
     },
     "metadata": {},
     "output_type": "display_data"
    },
    {
     "data": {
      "application/vnd.jupyter.widget-view+json": {
       "model_id": "47f6f416f14e4e5e899dd40fcc81a4ad",
       "version_major": 2,
       "version_minor": 0
      },
      "text/plain": [
       "Validation: 0it [00:00, ?it/s]"
      ]
     },
     "metadata": {},
     "output_type": "display_data"
    },
    {
     "data": {
      "application/vnd.jupyter.widget-view+json": {
       "model_id": "4070700adfea486690dfbed218d6db2c",
       "version_major": 2,
       "version_minor": 0
      },
      "text/plain": [
       "Validation: 0it [00:00, ?it/s]"
      ]
     },
     "metadata": {},
     "output_type": "display_data"
    },
    {
     "data": {
      "application/vnd.jupyter.widget-view+json": {
       "model_id": "d578403044bd4160bb876f82857589e8",
       "version_major": 2,
       "version_minor": 0
      },
      "text/plain": [
       "Validation: 0it [00:00, ?it/s]"
      ]
     },
     "metadata": {},
     "output_type": "display_data"
    },
    {
     "data": {
      "application/vnd.jupyter.widget-view+json": {
       "model_id": "7c9e2599b6a64575a1a117eb40e2f6dd",
       "version_major": 2,
       "version_minor": 0
      },
      "text/plain": [
       "Validation: 0it [00:00, ?it/s]"
      ]
     },
     "metadata": {},
     "output_type": "display_data"
    },
    {
     "data": {
      "application/vnd.jupyter.widget-view+json": {
       "model_id": "b2a89c7b4606432cbc60a12f39be4cab",
       "version_major": 2,
       "version_minor": 0
      },
      "text/plain": [
       "Validation: 0it [00:00, ?it/s]"
      ]
     },
     "metadata": {},
     "output_type": "display_data"
    },
    {
     "data": {
      "application/vnd.jupyter.widget-view+json": {
       "model_id": "99cb03d4e2b849cc855b1f90989df881",
       "version_major": 2,
       "version_minor": 0
      },
      "text/plain": [
       "Validation: 0it [00:00, ?it/s]"
      ]
     },
     "metadata": {},
     "output_type": "display_data"
    },
    {
     "data": {
      "application/vnd.jupyter.widget-view+json": {
       "model_id": "2177376f246d4296bccef8a8f5c90ca8",
       "version_major": 2,
       "version_minor": 0
      },
      "text/plain": [
       "Validation: 0it [00:00, ?it/s]"
      ]
     },
     "metadata": {},
     "output_type": "display_data"
    },
    {
     "data": {
      "application/vnd.jupyter.widget-view+json": {
       "model_id": "705d3cd774eb4acb9bf46fbd1d2bf65e",
       "version_major": 2,
       "version_minor": 0
      },
      "text/plain": [
       "Validation: 0it [00:00, ?it/s]"
      ]
     },
     "metadata": {},
     "output_type": "display_data"
    },
    {
     "data": {
      "application/vnd.jupyter.widget-view+json": {
       "model_id": "f56843f8bb0e4b6dbe89800729515199",
       "version_major": 2,
       "version_minor": 0
      },
      "text/plain": [
       "Validation: 0it [00:00, ?it/s]"
      ]
     },
     "metadata": {},
     "output_type": "display_data"
    },
    {
     "data": {
      "application/vnd.jupyter.widget-view+json": {
       "model_id": "30875fe0582c4b7f90fe7ac91e0687d9",
       "version_major": 2,
       "version_minor": 0
      },
      "text/plain": [
       "Validation: 0it [00:00, ?it/s]"
      ]
     },
     "metadata": {},
     "output_type": "display_data"
    },
    {
     "data": {
      "application/vnd.jupyter.widget-view+json": {
       "model_id": "7d8ea1dedfbb4bceac91bdfa8ea40092",
       "version_major": 2,
       "version_minor": 0
      },
      "text/plain": [
       "Validation: 0it [00:00, ?it/s]"
      ]
     },
     "metadata": {},
     "output_type": "display_data"
    },
    {
     "data": {
      "application/vnd.jupyter.widget-view+json": {
       "model_id": "acc1d1ef4f16423f910103a9f7f3dd6c",
       "version_major": 2,
       "version_minor": 0
      },
      "text/plain": [
       "Validation: 0it [00:00, ?it/s]"
      ]
     },
     "metadata": {},
     "output_type": "display_data"
    },
    {
     "data": {
      "application/vnd.jupyter.widget-view+json": {
       "model_id": "046bf3a411044255a00820b9b8d70052",
       "version_major": 2,
       "version_minor": 0
      },
      "text/plain": [
       "Validation: 0it [00:00, ?it/s]"
      ]
     },
     "metadata": {},
     "output_type": "display_data"
    },
    {
     "data": {
      "application/vnd.jupyter.widget-view+json": {
       "model_id": "b0df678f339d429abc1f81672a3f0226",
       "version_major": 2,
       "version_minor": 0
      },
      "text/plain": [
       "Validation: 0it [00:00, ?it/s]"
      ]
     },
     "metadata": {},
     "output_type": "display_data"
    },
    {
     "data": {
      "application/vnd.jupyter.widget-view+json": {
       "model_id": "87cc248ad5e14854bffc5a7243c5927f",
       "version_major": 2,
       "version_minor": 0
      },
      "text/plain": [
       "Validation: 0it [00:00, ?it/s]"
      ]
     },
     "metadata": {},
     "output_type": "display_data"
    },
    {
     "data": {
      "application/vnd.jupyter.widget-view+json": {
       "model_id": "5506eaf3e09548d39dcff708af188f98",
       "version_major": 2,
       "version_minor": 0
      },
      "text/plain": [
       "Validation: 0it [00:00, ?it/s]"
      ]
     },
     "metadata": {},
     "output_type": "display_data"
    },
    {
     "data": {
      "application/vnd.jupyter.widget-view+json": {
       "model_id": "446f7d0313d74b2bbe2113e4836a657e",
       "version_major": 2,
       "version_minor": 0
      },
      "text/plain": [
       "Validation: 0it [00:00, ?it/s]"
      ]
     },
     "metadata": {},
     "output_type": "display_data"
    },
    {
     "data": {
      "application/vnd.jupyter.widget-view+json": {
       "model_id": "f99f0c6312854f6f96ee74fc46d859e1",
       "version_major": 2,
       "version_minor": 0
      },
      "text/plain": [
       "Validation: 0it [00:00, ?it/s]"
      ]
     },
     "metadata": {},
     "output_type": "display_data"
    },
    {
     "data": {
      "application/vnd.jupyter.widget-view+json": {
       "model_id": "676a99c2830a44d7a05a926d62e7e351",
       "version_major": 2,
       "version_minor": 0
      },
      "text/plain": [
       "Validation: 0it [00:00, ?it/s]"
      ]
     },
     "metadata": {},
     "output_type": "display_data"
    },
    {
     "data": {
      "application/vnd.jupyter.widget-view+json": {
       "model_id": "8aed0a4a669c40258fb468b941c2ec76",
       "version_major": 2,
       "version_minor": 0
      },
      "text/plain": [
       "Validation: 0it [00:00, ?it/s]"
      ]
     },
     "metadata": {},
     "output_type": "display_data"
    },
    {
     "data": {
      "application/vnd.jupyter.widget-view+json": {
       "model_id": "d44c80a9428b41cca51a997ca4e0c3b0",
       "version_major": 2,
       "version_minor": 0
      },
      "text/plain": [
       "Validation: 0it [00:00, ?it/s]"
      ]
     },
     "metadata": {},
     "output_type": "display_data"
    },
    {
     "data": {
      "application/vnd.jupyter.widget-view+json": {
       "model_id": "f2e12bc6b0c045518a0778f2a7cf5a35",
       "version_major": 2,
       "version_minor": 0
      },
      "text/plain": [
       "Validation: 0it [00:00, ?it/s]"
      ]
     },
     "metadata": {},
     "output_type": "display_data"
    },
    {
     "data": {
      "application/vnd.jupyter.widget-view+json": {
       "model_id": "1321793565c3419689b406aaac500dfa",
       "version_major": 2,
       "version_minor": 0
      },
      "text/plain": [
       "Validation: 0it [00:00, ?it/s]"
      ]
     },
     "metadata": {},
     "output_type": "display_data"
    },
    {
     "data": {
      "application/vnd.jupyter.widget-view+json": {
       "model_id": "4773f225c11d42ca97f13020b6e87341",
       "version_major": 2,
       "version_minor": 0
      },
      "text/plain": [
       "Validation: 0it [00:00, ?it/s]"
      ]
     },
     "metadata": {},
     "output_type": "display_data"
    },
    {
     "data": {
      "application/vnd.jupyter.widget-view+json": {
       "model_id": "911227cf56a5495f9acdda67dc40c1aa",
       "version_major": 2,
       "version_minor": 0
      },
      "text/plain": [
       "Validation: 0it [00:00, ?it/s]"
      ]
     },
     "metadata": {},
     "output_type": "display_data"
    },
    {
     "data": {
      "application/vnd.jupyter.widget-view+json": {
       "model_id": "60d09149749f44ae9392375288a9f656",
       "version_major": 2,
       "version_minor": 0
      },
      "text/plain": [
       "Validation: 0it [00:00, ?it/s]"
      ]
     },
     "metadata": {},
     "output_type": "display_data"
    },
    {
     "data": {
      "application/vnd.jupyter.widget-view+json": {
       "model_id": "d59a3e0233a442a1a5694b8dc042ea47",
       "version_major": 2,
       "version_minor": 0
      },
      "text/plain": [
       "Validation: 0it [00:00, ?it/s]"
      ]
     },
     "metadata": {},
     "output_type": "display_data"
    },
    {
     "data": {
      "application/vnd.jupyter.widget-view+json": {
       "model_id": "cb46b1b5d1984f43bd4d3deafee78258",
       "version_major": 2,
       "version_minor": 0
      },
      "text/plain": [
       "Validation: 0it [00:00, ?it/s]"
      ]
     },
     "metadata": {},
     "output_type": "display_data"
    },
    {
     "data": {
      "application/vnd.jupyter.widget-view+json": {
       "model_id": "caba295524a44a5989f01b72d211007b",
       "version_major": 2,
       "version_minor": 0
      },
      "text/plain": [
       "Validation: 0it [00:00, ?it/s]"
      ]
     },
     "metadata": {},
     "output_type": "display_data"
    },
    {
     "data": {
      "application/vnd.jupyter.widget-view+json": {
       "model_id": "681c8f0e72fd4bddbf688eb026ace4f9",
       "version_major": 2,
       "version_minor": 0
      },
      "text/plain": [
       "Validation: 0it [00:00, ?it/s]"
      ]
     },
     "metadata": {},
     "output_type": "display_data"
    },
    {
     "data": {
      "application/vnd.jupyter.widget-view+json": {
       "model_id": "fa6aae0164a646c5b42a4daab344c3f0",
       "version_major": 2,
       "version_minor": 0
      },
      "text/plain": [
       "Validation: 0it [00:00, ?it/s]"
      ]
     },
     "metadata": {},
     "output_type": "display_data"
    },
    {
     "data": {
      "application/vnd.jupyter.widget-view+json": {
       "model_id": "3ee1563f828844a7bb8c9eeec19bbedc",
       "version_major": 2,
       "version_minor": 0
      },
      "text/plain": [
       "Validation: 0it [00:00, ?it/s]"
      ]
     },
     "metadata": {},
     "output_type": "display_data"
    },
    {
     "data": {
      "application/vnd.jupyter.widget-view+json": {
       "model_id": "f71596f3446749229e755417ae0b4a99",
       "version_major": 2,
       "version_minor": 0
      },
      "text/plain": [
       "Validation: 0it [00:00, ?it/s]"
      ]
     },
     "metadata": {},
     "output_type": "display_data"
    },
    {
     "data": {
      "application/vnd.jupyter.widget-view+json": {
       "model_id": "7b173dcafc3b4252a6afbed90c7d4bcf",
       "version_major": 2,
       "version_minor": 0
      },
      "text/plain": [
       "Validation: 0it [00:00, ?it/s]"
      ]
     },
     "metadata": {},
     "output_type": "display_data"
    },
    {
     "data": {
      "application/vnd.jupyter.widget-view+json": {
       "model_id": "b708a9dae70543968286a67cf777d893",
       "version_major": 2,
       "version_minor": 0
      },
      "text/plain": [
       "Validation: 0it [00:00, ?it/s]"
      ]
     },
     "metadata": {},
     "output_type": "display_data"
    },
    {
     "data": {
      "application/vnd.jupyter.widget-view+json": {
       "model_id": "83875229a48b416d9e04b406aea887c3",
       "version_major": 2,
       "version_minor": 0
      },
      "text/plain": [
       "Validation: 0it [00:00, ?it/s]"
      ]
     },
     "metadata": {},
     "output_type": "display_data"
    },
    {
     "data": {
      "application/vnd.jupyter.widget-view+json": {
       "model_id": "87d90a0e7f3842b78cff6a46167a0422",
       "version_major": 2,
       "version_minor": 0
      },
      "text/plain": [
       "Validation: 0it [00:00, ?it/s]"
      ]
     },
     "metadata": {},
     "output_type": "display_data"
    },
    {
     "data": {
      "application/vnd.jupyter.widget-view+json": {
       "model_id": "f8078314019a4bebbec58ab11cfdc847",
       "version_major": 2,
       "version_minor": 0
      },
      "text/plain": [
       "Validation: 0it [00:00, ?it/s]"
      ]
     },
     "metadata": {},
     "output_type": "display_data"
    },
    {
     "data": {
      "application/vnd.jupyter.widget-view+json": {
       "model_id": "a0ac61116a3f48589a9d9dbbb9c75440",
       "version_major": 2,
       "version_minor": 0
      },
      "text/plain": [
       "Validation: 0it [00:00, ?it/s]"
      ]
     },
     "metadata": {},
     "output_type": "display_data"
    },
    {
     "data": {
      "application/vnd.jupyter.widget-view+json": {
       "model_id": "bd94e869399c4578a683e4b7a11b1cff",
       "version_major": 2,
       "version_minor": 0
      },
      "text/plain": [
       "Validation: 0it [00:00, ?it/s]"
      ]
     },
     "metadata": {},
     "output_type": "display_data"
    },
    {
     "data": {
      "application/vnd.jupyter.widget-view+json": {
       "model_id": "d627ce13b2344279b015c9de213d6954",
       "version_major": 2,
       "version_minor": 0
      },
      "text/plain": [
       "Validation: 0it [00:00, ?it/s]"
      ]
     },
     "metadata": {},
     "output_type": "display_data"
    },
    {
     "data": {
      "application/vnd.jupyter.widget-view+json": {
       "model_id": "b67b2d53bbc14619846ea54818a2b0ef",
       "version_major": 2,
       "version_minor": 0
      },
      "text/plain": [
       "Validation: 0it [00:00, ?it/s]"
      ]
     },
     "metadata": {},
     "output_type": "display_data"
    },
    {
     "data": {
      "application/vnd.jupyter.widget-view+json": {
       "model_id": "59ace49236cc40e28cd5ee40895b0d34",
       "version_major": 2,
       "version_minor": 0
      },
      "text/plain": [
       "Validation: 0it [00:00, ?it/s]"
      ]
     },
     "metadata": {},
     "output_type": "display_data"
    },
    {
     "data": {
      "application/vnd.jupyter.widget-view+json": {
       "model_id": "1153ca6703514ebbb17c8240deb29bd9",
       "version_major": 2,
       "version_minor": 0
      },
      "text/plain": [
       "Validation: 0it [00:00, ?it/s]"
      ]
     },
     "metadata": {},
     "output_type": "display_data"
    },
    {
     "data": {
      "application/vnd.jupyter.widget-view+json": {
       "model_id": "3864f0b115304e84b8c4cf98c8181abd",
       "version_major": 2,
       "version_minor": 0
      },
      "text/plain": [
       "Validation: 0it [00:00, ?it/s]"
      ]
     },
     "metadata": {},
     "output_type": "display_data"
    },
    {
     "data": {
      "application/vnd.jupyter.widget-view+json": {
       "model_id": "f4381812627343d4b155270930e66de3",
       "version_major": 2,
       "version_minor": 0
      },
      "text/plain": [
       "Validation: 0it [00:00, ?it/s]"
      ]
     },
     "metadata": {},
     "output_type": "display_data"
    },
    {
     "data": {
      "application/vnd.jupyter.widget-view+json": {
       "model_id": "b715f47ecc344a2a8ba5d64cf749a7b4",
       "version_major": 2,
       "version_minor": 0
      },
      "text/plain": [
       "Validation: 0it [00:00, ?it/s]"
      ]
     },
     "metadata": {},
     "output_type": "display_data"
    },
    {
     "data": {
      "application/vnd.jupyter.widget-view+json": {
       "model_id": "68845ff94e3046898aaec2d60acf768a",
       "version_major": 2,
       "version_minor": 0
      },
      "text/plain": [
       "Validation: 0it [00:00, ?it/s]"
      ]
     },
     "metadata": {},
     "output_type": "display_data"
    },
    {
     "data": {
      "application/vnd.jupyter.widget-view+json": {
       "model_id": "91c2ff3571224fa1bb08d52f4c1b6704",
       "version_major": 2,
       "version_minor": 0
      },
      "text/plain": [
       "Validation: 0it [00:00, ?it/s]"
      ]
     },
     "metadata": {},
     "output_type": "display_data"
    },
    {
     "data": {
      "application/vnd.jupyter.widget-view+json": {
       "model_id": "04ba636ffcf246ea99cd6237e99f9c71",
       "version_major": 2,
       "version_minor": 0
      },
      "text/plain": [
       "Validation: 0it [00:00, ?it/s]"
      ]
     },
     "metadata": {},
     "output_type": "display_data"
    },
    {
     "data": {
      "application/vnd.jupyter.widget-view+json": {
       "model_id": "5b424db9e3204d50a4ec662437ee2d40",
       "version_major": 2,
       "version_minor": 0
      },
      "text/plain": [
       "Validation: 0it [00:00, ?it/s]"
      ]
     },
     "metadata": {},
     "output_type": "display_data"
    },
    {
     "data": {
      "application/vnd.jupyter.widget-view+json": {
       "model_id": "5ab72363383740ef9d78d534ad64547e",
       "version_major": 2,
       "version_minor": 0
      },
      "text/plain": [
       "Validation: 0it [00:00, ?it/s]"
      ]
     },
     "metadata": {},
     "output_type": "display_data"
    },
    {
     "data": {
      "application/vnd.jupyter.widget-view+json": {
       "model_id": "90bbcfe5974f4956ba01a2cfd4610d4d",
       "version_major": 2,
       "version_minor": 0
      },
      "text/plain": [
       "Validation: 0it [00:00, ?it/s]"
      ]
     },
     "metadata": {},
     "output_type": "display_data"
    },
    {
     "data": {
      "application/vnd.jupyter.widget-view+json": {
       "model_id": "02aa4bc6d41144118d651fbd53f749e1",
       "version_major": 2,
       "version_minor": 0
      },
      "text/plain": [
       "Validation: 0it [00:00, ?it/s]"
      ]
     },
     "metadata": {},
     "output_type": "display_data"
    },
    {
     "data": {
      "application/vnd.jupyter.widget-view+json": {
       "model_id": "0e3f3a6b6c0047ce9a30db3cd956b0f2",
       "version_major": 2,
       "version_minor": 0
      },
      "text/plain": [
       "Validation: 0it [00:00, ?it/s]"
      ]
     },
     "metadata": {},
     "output_type": "display_data"
    },
    {
     "data": {
      "application/vnd.jupyter.widget-view+json": {
       "model_id": "0e23559a39044c0f8e024cdbd886fdfd",
       "version_major": 2,
       "version_minor": 0
      },
      "text/plain": [
       "Validation: 0it [00:00, ?it/s]"
      ]
     },
     "metadata": {},
     "output_type": "display_data"
    },
    {
     "data": {
      "application/vnd.jupyter.widget-view+json": {
       "model_id": "e1a17ceaafff4b72a583308101171ad1",
       "version_major": 2,
       "version_minor": 0
      },
      "text/plain": [
       "Validation: 0it [00:00, ?it/s]"
      ]
     },
     "metadata": {},
     "output_type": "display_data"
    },
    {
     "data": {
      "application/vnd.jupyter.widget-view+json": {
       "model_id": "3304a1df3a3f41a6a582d61af79e126c",
       "version_major": 2,
       "version_minor": 0
      },
      "text/plain": [
       "Validation: 0it [00:00, ?it/s]"
      ]
     },
     "metadata": {},
     "output_type": "display_data"
    },
    {
     "data": {
      "application/vnd.jupyter.widget-view+json": {
       "model_id": "3cc55203b9a3412bab0778c8d5be4199",
       "version_major": 2,
       "version_minor": 0
      },
      "text/plain": [
       "Validation: 0it [00:00, ?it/s]"
      ]
     },
     "metadata": {},
     "output_type": "display_data"
    },
    {
     "data": {
      "application/vnd.jupyter.widget-view+json": {
       "model_id": "3852a417177a4c6ab128c0f329e7d78e",
       "version_major": 2,
       "version_minor": 0
      },
      "text/plain": [
       "Validation: 0it [00:00, ?it/s]"
      ]
     },
     "metadata": {},
     "output_type": "display_data"
    },
    {
     "data": {
      "application/vnd.jupyter.widget-view+json": {
       "model_id": "6a37efb212b3497484f5f642f8a8eb71",
       "version_major": 2,
       "version_minor": 0
      },
      "text/plain": [
       "Validation: 0it [00:00, ?it/s]"
      ]
     },
     "metadata": {},
     "output_type": "display_data"
    },
    {
     "data": {
      "application/vnd.jupyter.widget-view+json": {
       "model_id": "95b94aaa4b3e419c999be3af3b050084",
       "version_major": 2,
       "version_minor": 0
      },
      "text/plain": [
       "Validation: 0it [00:00, ?it/s]"
      ]
     },
     "metadata": {},
     "output_type": "display_data"
    },
    {
     "data": {
      "application/vnd.jupyter.widget-view+json": {
       "model_id": "360c3a3c6e6347528c3d946ae8f3cd3a",
       "version_major": 2,
       "version_minor": 0
      },
      "text/plain": [
       "Validation: 0it [00:00, ?it/s]"
      ]
     },
     "metadata": {},
     "output_type": "display_data"
    },
    {
     "data": {
      "application/vnd.jupyter.widget-view+json": {
       "model_id": "f7004625c7894ba19faa4de36723c664",
       "version_major": 2,
       "version_minor": 0
      },
      "text/plain": [
       "Validation: 0it [00:00, ?it/s]"
      ]
     },
     "metadata": {},
     "output_type": "display_data"
    },
    {
     "data": {
      "application/vnd.jupyter.widget-view+json": {
       "model_id": "1378f63fa0cd484cada7dfdb1b4d217b",
       "version_major": 2,
       "version_minor": 0
      },
      "text/plain": [
       "Validation: 0it [00:00, ?it/s]"
      ]
     },
     "metadata": {},
     "output_type": "display_data"
    },
    {
     "data": {
      "application/vnd.jupyter.widget-view+json": {
       "model_id": "8240941db6eb4d27b17acb3370315a76",
       "version_major": 2,
       "version_minor": 0
      },
      "text/plain": [
       "Validation: 0it [00:00, ?it/s]"
      ]
     },
     "metadata": {},
     "output_type": "display_data"
    },
    {
     "data": {
      "application/vnd.jupyter.widget-view+json": {
       "model_id": "144aced354a84c13aa05eb12cea5f199",
       "version_major": 2,
       "version_minor": 0
      },
      "text/plain": [
       "Validation: 0it [00:00, ?it/s]"
      ]
     },
     "metadata": {},
     "output_type": "display_data"
    },
    {
     "data": {
      "application/vnd.jupyter.widget-view+json": {
       "model_id": "03e681a48684445180e10f64f44e2a3d",
       "version_major": 2,
       "version_minor": 0
      },
      "text/plain": [
       "Validation: 0it [00:00, ?it/s]"
      ]
     },
     "metadata": {},
     "output_type": "display_data"
    },
    {
     "data": {
      "application/vnd.jupyter.widget-view+json": {
       "model_id": "a2afff1db95849a698964afc73405a54",
       "version_major": 2,
       "version_minor": 0
      },
      "text/plain": [
       "Validation: 0it [00:00, ?it/s]"
      ]
     },
     "metadata": {},
     "output_type": "display_data"
    },
    {
     "data": {
      "application/vnd.jupyter.widget-view+json": {
       "model_id": "c30626c160dd47b0b8a60dad0568ee4d",
       "version_major": 2,
       "version_minor": 0
      },
      "text/plain": [
       "Validation: 0it [00:00, ?it/s]"
      ]
     },
     "metadata": {},
     "output_type": "display_data"
    },
    {
     "data": {
      "application/vnd.jupyter.widget-view+json": {
       "model_id": "c2b9def35777409a947911bf1192f240",
       "version_major": 2,
       "version_minor": 0
      },
      "text/plain": [
       "Validation: 0it [00:00, ?it/s]"
      ]
     },
     "metadata": {},
     "output_type": "display_data"
    },
    {
     "data": {
      "application/vnd.jupyter.widget-view+json": {
       "model_id": "a793c917be534c3385e39d0312d92970",
       "version_major": 2,
       "version_minor": 0
      },
      "text/plain": [
       "Validation: 0it [00:00, ?it/s]"
      ]
     },
     "metadata": {},
     "output_type": "display_data"
    },
    {
     "data": {
      "application/vnd.jupyter.widget-view+json": {
       "model_id": "cfe0e4e5d0a2424b9e8b27d11f619044",
       "version_major": 2,
       "version_minor": 0
      },
      "text/plain": [
       "Validation: 0it [00:00, ?it/s]"
      ]
     },
     "metadata": {},
     "output_type": "display_data"
    },
    {
     "data": {
      "application/vnd.jupyter.widget-view+json": {
       "model_id": "72fae657fa2c4d629af387762d6be479",
       "version_major": 2,
       "version_minor": 0
      },
      "text/plain": [
       "Validation: 0it [00:00, ?it/s]"
      ]
     },
     "metadata": {},
     "output_type": "display_data"
    },
    {
     "data": {
      "application/vnd.jupyter.widget-view+json": {
       "model_id": "73e333fe213240a4b6a1c7869e5e2e9d",
       "version_major": 2,
       "version_minor": 0
      },
      "text/plain": [
       "Validation: 0it [00:00, ?it/s]"
      ]
     },
     "metadata": {},
     "output_type": "display_data"
    },
    {
     "data": {
      "application/vnd.jupyter.widget-view+json": {
       "model_id": "88720e6079564862bfd3da93ce1e4e3a",
       "version_major": 2,
       "version_minor": 0
      },
      "text/plain": [
       "Validation: 0it [00:00, ?it/s]"
      ]
     },
     "metadata": {},
     "output_type": "display_data"
    },
    {
     "data": {
      "application/vnd.jupyter.widget-view+json": {
       "model_id": "a77ea469e9a94295811a8ac0543394b0",
       "version_major": 2,
       "version_minor": 0
      },
      "text/plain": [
       "Validation: 0it [00:00, ?it/s]"
      ]
     },
     "metadata": {},
     "output_type": "display_data"
    },
    {
     "data": {
      "text/html": [
       "Waiting for W&B process to finish... <strong style=\"color:green\">(success).</strong>"
      ],
      "text/plain": [
       "<IPython.core.display.HTML object>"
      ]
     },
     "metadata": {},
     "output_type": "display_data"
    },
    {
     "data": {
      "application/vnd.jupyter.widget-view+json": {
       "model_id": "5a55e14cc69044acbbcc026a8f7dab58",
       "version_major": 2,
       "version_minor": 0
      },
      "text/plain": [
       "VBox(children=(Label(value='0.001 MB of 0.073 MB uploaded (0.000 MB deduped)\\r'), FloatProgress(value=0.010025…"
      ]
     },
     "metadata": {},
     "output_type": "display_data"
    },
    {
     "data": {
      "text/html": [
       "<style>\n",
       "    table.wandb td:nth-child(1) { padding: 0 10px; text-align: left ; width: auto;} td:nth-child(2) {text-align: left ; width: 100%}\n",
       "    .wandb-row { display: flex; flex-direction: row; flex-wrap: wrap; justify-content: flex-start; width: 100% }\n",
       "    .wandb-col { display: flex; flex-direction: column; flex-basis: 100%; flex: 1; padding: 10px; }\n",
       "    </style>\n",
       "<div class=\"wandb-row\"><div class=\"wandb-col\"><h3>Run history:</h3><br/><table class=\"wandb\"><tr><td>epoch</td><td>▁▁▁▁▂▂▂▂▂▃▃▃▃▃▃▄▄▄▄▄▅▅▅▅▅▅▆▆▆▆▆▇▇▇▇▇▇███</td></tr><tr><td>lr-AdamW</td><td>█▇▄▂█▇▄▂█▇▄▂█▆▄▁█▆▄▁█▆▄▁█▆▃▁█▆▃▁█▆▃▁█▆▃▁</td></tr><tr><td>train/epoch_F1_0</td><td>▁▅▇▇▇▇▇▇▇▇▇▇▇▇██▇███████████████████████</td></tr><tr><td>train/epoch_F1_1</td><td>▁▅▆▆▆▆▇▇▇▇▇▇▇▇▇▇▇▇▇█▇▇██▇███████████████</td></tr><tr><td>train/epoch_F1_10</td><td>▁▅▆▇▆▇▇▇▇▇▇▇▇▇▇█▇▇██▇███████████▇███████</td></tr><tr><td>train/epoch_F1_11</td><td>▁▁▁▁▁▂▅▅▄▅▆▆▆▆▆▇▆▆▇▇▅▆▇▇▇▇▇▇▇▇▇▇▇▇▇▇▇███</td></tr><tr><td>train/epoch_F1_12</td><td>▁▄▆▆▆▆▆▇▆▆▇▇▇▇▇▇▇▇▇▇▇▇▇█▇▇██▇███▇███████</td></tr><tr><td>train/epoch_F1_13</td><td>▁▁▁▁▁▁▁▁▂▄▅▆▅▆▆▆▆▆▆▇▅▆▇▇▆▇▇▇▇▇▇█▇▇▇█▇███</td></tr><tr><td>train/epoch_F1_2</td><td>▁▁▁▁▁▁▁▁▁▁▁▁▁▁▁▁▁▁▁▁▁▁▁▁▁▁▁▁▁▁▁▁▁▁▁▁▁▁▁▁</td></tr><tr><td>train/epoch_F1_3</td><td>▁▁▁▁▁▂▄▅▄▅▆▆▆▆▇▇▆▇▇▇▇▇▇▇▇▇██▇▇██▇███▇███</td></tr><tr><td>train/epoch_F1_4</td><td>▁▁▂▄▃▄▄▅▅▅▅▆▆▆▆▇▆▇▇▇▇▇▇▇▇▇██▇▇██▇▇██▇███</td></tr><tr><td>train/epoch_F1_5</td><td>▁▁▁▁▁▁▁▁▁▁▂▂▂▂▃▄▄▅▆▆▅▆▇▇▇▇▇█▇▇██▇███▇███</td></tr><tr><td>train/epoch_F1_6</td><td>▁▁▁▁▁▁▁▁▁▁▁▁▁▃▅▅▅▆▆▆▆▆▆▇▆▇▇▇▆▇▇▇▇█▇█▇▇▇▇</td></tr><tr><td>train/epoch_F1_7</td><td>▁▁▁▁▁▁▁▁▁▁▁▁▁▁▁▁▁▁▁▁▁▁▁▁▁▁▁▁▁▁▁▁▁▁▁▁▁▁▁▁</td></tr><tr><td>train/epoch_F1_8</td><td>▁▁▁▁▁▁▁▁▁▁▁▁▁▁▁▁▁▁▁▁▁▁▁▁▁▁▁▁▁▁▁▁▁▁▁▁▁▁▁▁</td></tr><tr><td>train/epoch_F1_9</td><td>▁▄▆▆▆▆▇▇▇▇▇▇▇▇▇▇▇▇▇█▇▇██▇███████████████</td></tr><tr><td>train/epoch_FN_0</td><td>█▄▂▂▂▂▂▂▂▂▁▁▁▁▁▁▁▁▁▁▁▁▁▁▁▁▁▁▁▁▁▁▁▁▁▁▁▁▁▁</td></tr><tr><td>train/epoch_FN_1</td><td>█▄▃▃▃▃▂▂▂▂▂▂▂▂▂▁▂▂▁▁▂▂▁▁▁▁▁▁▁▁▁▁▁▁▁▁▁▁▁▁</td></tr><tr><td>train/epoch_FN_10</td><td>█▄▂▂▃▂▂▂▂▂▂▂▂▂▂▂▂▂▁▁▂▁▁▁▁▁▁▁▁▁▁▁▁▁▁▁▁▁▁▁</td></tr><tr><td>train/epoch_FN_11</td><td>█████▇▅▄▅▄▃▃▃▃▂▂▃▃▂▂▃▂▂▂▂▂▂▁▂▂▁▁▂▂▁▁▂▁▁▁</td></tr><tr><td>train/epoch_FN_12</td><td>█▅▃▃▃▃▂▂▃▂▂▂▂▂▂▂▂▂▂▁▂▂▂▁▂▁▁▁▂▁▁▁▁▁▁▁▁▁▁▁</td></tr><tr><td>train/epoch_FN_13</td><td>████████▇▆▄▄▄▄▃▃▄▃▃▂▃▃▂▂▃▂▂▂▂▂▂▁▂▂▁▁▂▁▁▁</td></tr><tr><td>train/epoch_FN_2</td><td>▁▁▁▁▁▁▁▁▁▁▁▁▁▁▁▁▁▁▁▁▁▁▁▁▁▁▁▁▁▁▁▁▁▁▁▁▁▁▁▁</td></tr><tr><td>train/epoch_FN_3</td><td>█████▇▅▄▅▄▃▃▃▃▃▂▃▂▂▂▂▂▂▂▂▂▂▁▂▂▁▁▂▁▁▁▁▁▁▁</td></tr><tr><td>train/epoch_FN_4</td><td>██▇▆▆▅▅▄▄▄▄▃▄▃▃▂▃▂▂▂▃▂▂▂▂▂▁▁▂▂▁▁▂▂▁▁▂▁▁▁</td></tr><tr><td>train/epoch_FN_5</td><td>█████████████▇▆▆▆▅▄▄▄▄▃▂▃▂▂▁▂▂▁▁▂▂▁▁▂▁▁▁</td></tr><tr><td>train/epoch_FN_6</td><td>█████████████▇▄▃▃▃▂▂▂▂▂▂▂▂▁▁▂▁▁▁▁▁▁▁▁▁▁▁</td></tr><tr><td>train/epoch_FN_7</td><td>▁▁▁▁▁▁▁▁▁▁▁▁▁▁▁▁▁▁▁▁▁▁▁▁▁▁▁▁▁▁▁▁▁▁▁▁▁▁▁▁</td></tr><tr><td>train/epoch_FN_8</td><td>▁▁▁▁▁▁▁▁▁▁▁▁▁▁▁▁▁▁▁▁▁▁▁▁▁▁▁▁▁▁▁▁▁▁▁▁▁▁▁▁</td></tr><tr><td>train/epoch_FN_9</td><td>█▆▃▃▃▃▂▂▂▂▂▂▂▂▂▁▂▂▁▁▂▂▁▁▁▁▁▁▁▁▁▁▁▁▁▁▁▁▁▁</td></tr><tr><td>train/epoch_FP_0</td><td>▁▆▇▇█▇▇▆▇▇▆▆▇▆▆▆▆▆▆▆▆▆▆▆▆▆▆▅▆▆▅▅▆▆▅▅▅▅▅▅</td></tr><tr><td>train/epoch_FP_1</td><td>▁▇█▇█▇▇▇▇▇▆▆▇▆▆▆▆▆▆▆▆▆▅▅▆▅▅▅▅▅▅▅▅▅▅▅▅▅▅▄</td></tr><tr><td>train/epoch_FP_10</td><td>▁█▇▇▇▆▆▅▆▆▅▅▅▅▅▅▅▅▅▅▆▅▅▅▅▅▅▅▅▅▄▅▅▅▄▄▅▅▄▄</td></tr><tr><td>train/epoch_FP_11</td><td>▁▁▁▁▁▂▅▇▆▆▇▆█▇██▇▇▇▇▇▇▇▇▇▇▇▆▇▇▇▇▇▇▇▆▇▇▆▆</td></tr><tr><td>train/epoch_FP_12</td><td>▁▄███▇▇▇▇▇▇▆▆▆▆▅▆▆▅▅▆▅▅▅▅▅▅▅▅▅▅▄▅▅▄▄▅▄▄▄</td></tr><tr><td>train/epoch_FP_13</td><td>▁▁▁▁▁▁▁▁▃▅▆▇█▇█▇██▇▇▇▇▇▇▆▇▇▆▇▆▆▆▇▆▆▅▆▆▆▅</td></tr><tr><td>train/epoch_FP_2</td><td>█▁▁▁▁▁▁▁▁▁▁▁▁▁▁▁▁▁▁▁▁▁▁▁▁▁▁▁▁▁▁▁▁▁▁▁▁▁▁▁</td></tr><tr><td>train/epoch_FP_3</td><td>▁▁▁▁▂▄████▇▇█▆▅▅▆▅▅▅▅▅▅▄▅▄▄▄▅▅▄▄▅▅▄▄▅▄▄▄</td></tr><tr><td>train/epoch_FP_4</td><td>▁▁▂▆▆████▇██▇▇▆▅▆▆▆▅▆▅▅▅▅▅▅▅▅▅▅▅▅▅▄▄▅▅▄▄</td></tr><tr><td>train/epoch_FP_5</td><td>▁▁▁▁▁▁▁▁▁▂▂▁▂▂▄▅▇▆▆▆▇▇▆▆▆▇▇▇█▇▇▆▇▆▆▆▇▆▆▆</td></tr><tr><td>train/epoch_FP_6</td><td>▁▁▁▁▁▁▁▁▁▁▁▁▁▃███▇▇▇▇▆▅▄▅▅▄▄▄▄▄▄▄▄▄▄▄▄▄▃</td></tr><tr><td>train/epoch_FP_7</td><td>█▁▁▁▁▁▁▁▁▁▁▁▁▁▁▁▁▁▁▁▁▁▁▁▁▁▁▁▁▁▁▁▁▁▁▁▁▁▁▁</td></tr><tr><td>train/epoch_FP_8</td><td>█▁▁▁▁▁▁▁▁▁▁▁▁▁▁▁▁▁▁▁▁▁▁▁▁▁▁▁▁▁▁▁▁▁▁▁▁▁▁▁</td></tr><tr><td>train/epoch_FP_9</td><td>▁▂█▇█▇▇▆▇▇▆▆▆▆▆▆▆▆▆▅▆▆▅▅▆▅▅▅▅▅▅▅▅▅▅▅▅▅▄▄</td></tr><tr><td>train/epoch_IoU_0</td><td>▁▅▆▇▆▆▇▇▇▇▇▇▇▇▇▇▇▇▇█▇███▇███████████████</td></tr><tr><td>train/epoch_IoU_1</td><td>▁▄▅▆▅▆▆▆▆▆▆▇▆▇▇▇▇▇▇▇▇▇▇▇▇▇▇█▇▇██▇███▇███</td></tr><tr><td>train/epoch_IoU_10</td><td>▁▄▆▆▆▆▆▇▆▆▇▇▇▇▇▇▇▇▇▇▇▇▇█▇▇██████▇███████</td></tr><tr><td>train/epoch_IoU_11</td><td>▁▁▁▁▁▂▄▄▃▅▅▆▅▆▆▆▅▆▆▇▅▆▇▇▆▇▇▇▇▇▇▇▇▇▇▇▆███</td></tr><tr><td>train/epoch_IoU_12</td><td>▁▄▅▅▅▅▆▆▅▆▆▆▆▆▇▇▆▇▇▇▇▇▇▇▇▇▇█▇▇██▇▇██▇███</td></tr><tr><td>train/epoch_IoU_13</td><td>▁▁▁▁▁▁▁▁▂▃▅▅▅▅▅▆▅▅▆▆▅▆▆▇▆▆▇▇▆▇▇▇▆▇▇█▇▇██</td></tr><tr><td>train/epoch_IoU_2</td><td>▁▁▁▁▁▁▁▁▁▁▁▁▁▁▁▁▁▁▁▁▁▁▁▁▁▁▁▁▁▁▁▁▁▁▁▁▁▁▁▁</td></tr><tr><td>train/epoch_IoU_3</td><td>▁▁▁▁▁▁▃▄▄▄▅▅▅▅▆▆▆▆▆▇▆▆▇▇▆▇▇▇▇▇▇█▇▇██▇███</td></tr><tr><td>train/epoch_IoU_4</td><td>▁▁▂▃▂▃▃▄▄▄▅▅▅▅▆▆▅▆▆▇▆▆▇▇▇▇▇█▇▇▇█▇▇██▇▇██</td></tr><tr><td>train/epoch_IoU_5</td><td>▁▁▁▁▁▁▁▁▁▁▁▁▁▂▃▃▃▄▅▅▄▅▆▇▆▆▇▇▆▇▇█▇▇██▇███</td></tr><tr><td>train/epoch_IoU_6</td><td>▁▁▁▁▁▁▁▁▁▁▁▁▁▂▄▅▄▅▅▅▅▆▆▇▆▇▇▇▆▇▇▇▆███▇▇▇▇</td></tr><tr><td>train/epoch_IoU_7</td><td>▁▁▁▁▁▁▁▁▁▁▁▁▁▁▁▁▁▁▁▁▁▁▁▁▁▁▁▁▁▁▁▁▁▁▁▁▁▁▁▁</td></tr><tr><td>train/epoch_IoU_8</td><td>▁▁▁▁▁▁▁▁▁▁▁▁▁▁▁▁▁▁▁▁▁▁▁▁▁▁▁▁▁▁▁▁▁▁▁▁▁▁▁▁</td></tr><tr><td>train/epoch_IoU_9</td><td>▁▃▅▆▅▆▆▆▆▆▇▇▆▇▇▇▇▇▇▇▇▇▇▇▇▇▇█▇▇██▇███▇███</td></tr><tr><td>train/epoch_Precision_0</td><td>▁▇▇▇▇▇▇▇▇▇▇▇▇▇▇█▇███▇███████████████████</td></tr><tr><td>train/epoch_Precision_1</td><td>▁▆▆▆▆▇▇▇▇▇▇▇▇▇▇▇▇▇▇▇▇▇██▇███████████████</td></tr><tr><td>train/epoch_Precision_10</td><td>▁▆▆▇▆▇▇▇▇▇▇▇▇▇▇█▇▇██▇███████████████████</td></tr><tr><td>train/epoch_Precision_11</td><td>▁▁▁▁▁▆▆▆▅▆▇▇▆▆▆▇▆▆▇▇▆▆▇▇▇▇▇▇▇▇▇▇▇▇▇▇▇██▇</td></tr><tr><td>train/epoch_Precision_12</td><td>▁▆▆▆▆▆▆▆▆▆▇▇▇▇▇▇▇▇▇▇▇▇▇█▇▇██▇▇██▇███████</td></tr><tr><td>train/epoch_Precision_13</td><td>▁▁▁▁▁▁▂▆▅▆▆▆▆▇▆▇▆▆▇▇▆▇▇▇▇▇▇▇▇▇▇█▇▇▇█▇▇██</td></tr><tr><td>train/epoch_Precision_2</td><td>▁▁▁▁▁▁▁▁▁▁▁▁▁▁▁▁▁▁▁▁▁▁▁▁▁▁▁▁▁▁▁▁▁▁▁▁▁▁▁▁</td></tr><tr><td>train/epoch_Precision_3</td><td>▁▁▁▃▂▃▅▅▅▅▆▆▆▆▇▇▇▇▇▇▇▇▇█▇▇██▇▇██▇███▇███</td></tr><tr><td>train/epoch_Precision_4</td><td>▁▁▅▅▅▅▅▅▅▅▆▆▆▆▇▇▇▇▇▇▇▇▇▇▇▇██▇███▇▇██████</td></tr><tr><td>train/epoch_Precision_5</td><td>▁▁▁▁▁▁▁▂▃▅▅▆▅▆▆▆▆▇▇▇▇▇▇█▇▇▇█▇▇▇█▇███▇███</td></tr><tr><td>train/epoch_Precision_6</td><td>▁▁▁▁▁▁▁▁▁▁▁▁▁▆▅▆▅▆▆▆▆▆▆▇▆▇▇▇▆▇▇▇▆█▇█▇▇▇▇</td></tr><tr><td>train/epoch_Precision_7</td><td>▁▁▁▁▁▁▁▁▁▁▁▁▁▁▁▁▁▁▁▁▁▁▁▁▁▁▁▁▁▁▁▁▁▁▁▁▁▁▁▁</td></tr><tr><td>train/epoch_Precision_8</td><td>▁▁▁▁▁▁▁▁▁▁▁▁▁▁▁▁▁▁▁▁▁▁▁▁▁▁▁▁▁▁▁▁▁▁▁▁▁▁▁▁</td></tr><tr><td>train/epoch_Precision_9</td><td>▁▇▆▆▆▇▇▇▇▇▇▇▇▇▇▇▇▇▇▇▇▇▇█▇███████████████</td></tr><tr><td>train/epoch_Recall_0</td><td>▁▅▇▇▇▇▇▇▇▇██████████████████████████████</td></tr><tr><td>train/epoch_Recall_1</td><td>▁▅▆▆▆▆▇▇▇▇▇▇▇▇▇█▇▇██▇▇██████████████████</td></tr><tr><td>train/epoch_Recall_10</td><td>▁▅▇▇▇▇▇▇▇▇▇▇▇▇▇▇▇▇██▇▇██████████▇███████</td></tr><tr><td>train/epoch_Recall_11</td><td>▁▁▁▁▁▂▄▅▄▅▆▆▆▆▆▇▆▆▇▇▆▆▇▇▇▇▇▇▇▇▇▇▇▇▇▇▇███</td></tr><tr><td>train/epoch_Recall_12</td><td>▁▄▆▆▆▆▇▇▆▇▇▇▇▇▇▇▇▇▇█▇▇▇█▇▇██▇███████████</td></tr><tr><td>train/epoch_Recall_13</td><td>▁▁▁▁▁▁▁▁▂▄▅▆▅▆▆▆▆▆▆▆▅▆▇▇▆▇▇▇▇▇▇█▇███▇███</td></tr><tr><td>train/epoch_Recall_2</td><td>▁▁▁▁▁▁▁▁▁▁▁▁▁▁▁▁▁▁▁▁▁▁▁▁▁▁▁▁▁▁▁▁▁▁▁▁▁▁▁▁</td></tr><tr><td>train/epoch_Recall_3</td><td>▁▁▁▁▁▂▄▅▄▅▆▆▆▆▆▇▆▇▇▇▇▇▇▇▇▇██▇▇██▇███████</td></tr><tr><td>train/epoch_Recall_4</td><td>▁▁▂▃▃▄▄▅▄▅▅▆▅▆▆▇▆▇▇▇▇▇▇▇▇▇██▇▇██▇▇██▇███</td></tr><tr><td>train/epoch_Recall_5</td><td>▁▁▁▁▁▁▁▁▁▁▁▁▁▂▃▃▃▄▅▅▅▆▆▇▆▆▇█▇▇██▇███▇███</td></tr><tr><td>train/epoch_Recall_6</td><td>▁▁▁▁▁▁▁▁▁▁▁▁▁▂▅▅▅▆▆▆▆▆▆▇▆▇▇▇▆▇▇▇▇█▇█▇▇▇▇</td></tr><tr><td>train/epoch_Recall_7</td><td>▁▁▁▁▁▁▁▁▁▁▁▁▁▁▁▁▁▁▁▁▁▁▁▁▁▁▁▁▁▁▁▁▁▁▁▁▁▁▁▁</td></tr><tr><td>train/epoch_Recall_8</td><td>▁▁▁▁▁▁▁▁▁▁▁▁▁▁▁▁▁▁▁▁▁▁▁▁▁▁▁▁▁▁▁▁▁▁▁▁▁▁▁▁</td></tr><tr><td>train/epoch_Recall_9</td><td>▁▃▆▆▆▆▇▇▇▇▇▇▇▇▇█▇▇██▇▇██████████████████</td></tr><tr><td>train/epoch_TN_0</td><td>█▃▂▂▁▂▂▃▂▂▃▃▂▃▃▃▃▃▃▃▃▃▃▃▃▃▃▄▃▃▄▄▃▃▄▄▄▃▄▄</td></tr><tr><td>train/epoch_TN_1</td><td>█▂▁▂▁▂▂▂▂▂▃▃▂▃▃▃▃▃▃▄▃▃▄▄▃▄▄▄▄▄▄▄▄▄▄▄▄▄▅▅</td></tr><tr><td>train/epoch_TN_10</td><td>█▁▂▂▂▃▃▄▃▃▄▄▄▄▄▄▄▄▄▄▃▄▄▄▄▄▄▄▄▄▄▄▄▄▅▅▄▄▄▅</td></tr><tr><td>train/epoch_TN_11</td><td>█████▇▄▂▃▃▃▃▂▂▁▁▂▂▂▂▃▂▂▂▃▂▂▃▂▂▂▂▂▃▃▃▂▂▃▃</td></tr><tr><td>train/epoch_TN_12</td><td>█▅▂▂▁▂▂▂▂▂▂▃▃▃▃▄▃▃▄▄▃▄▄▄▄▄▄▅▄▄▄▅▄▄▅▅▄▅▅▅</td></tr><tr><td>train/epoch_TN_13</td><td>████████▆▄▃▂▂▂▁▁▁▁▃▂▂▃▂▂▃▂▃▃▂▃▃▃▂▃▃▄▃▂▃▄</td></tr><tr><td>train/epoch_TN_2</td><td>▁███████████████████████████████████████</td></tr><tr><td>train/epoch_TN_3</td><td>████▇▅▁▁▁▁▂▂▁▃▄▃▃▄▄▄▄▄▄▄▄▄▅▅▄▄▅▅▄▄▅▅▄▅▅▅</td></tr><tr><td>train/epoch_TN_4</td><td>██▇▃▃▁▂▁▁▁▁▁▂▂▃▄▃▃▃▄▃▄▄▄▄▄▄▄▄▄▄▄▄▄▅▅▄▄▅▅</td></tr><tr><td>train/epoch_TN_5</td><td>█████████▇▇▇▇▇▅▄▂▃▃▂▂▂▃▃▃▁▂▃▁▂▃▂▂▂▃▃▁▃▃▃</td></tr><tr><td>train/epoch_TN_6</td><td>█████████████▅▂▁▁▂▂▂▂▃▄▅▄▄▅▅▅▅▅▅▅▅▅▅▅▅▅▆</td></tr><tr><td>train/epoch_TN_7</td><td>▁▁▁▁▁▁▁▁▁▁▁▁▁▁▁▁▁▁▁▁▁▁▁▁▁▁▁▁▁▁▁▁▁▁▁▁▁▁▁▁</td></tr><tr><td>train/epoch_TN_8</td><td>▁▁▁▁▁▁▁▁▁▁▁▁▁▁▁▁▁▁▁▁▁▁▁▁▁▁▁▁▁▁▁▁▁▁▁▁▁▁▁▁</td></tr><tr><td>train/epoch_TN_9</td><td>█▇▁▂▁▂▃▃▂▂▃▃▃▃▃▃▃▃▃▄▃▃▄▄▃▄▄▄▄▄▄▄▄▄▄▄▄▄▅▅</td></tr><tr><td>train/epoch_TP_0</td><td>▁▅▇▇▇▇▇▇▇▇██████████████████████████████</td></tr><tr><td>train/epoch_TP_1</td><td>▁▅▆▆▆▆▇▇▇▇▇▇▇▇▇█▇▇██▇▇██████████████████</td></tr><tr><td>train/epoch_TP_10</td><td>▁▅▇▇▆▇▇▇▇▇▇▇▇▇▇▇▇▇██▇███████████████████</td></tr><tr><td>train/epoch_TP_11</td><td>▁▁▁▁▁▂▄▅▄▅▆▆▆▆▇▇▆▇▇▇▆▇▇▇▇▇██▇▇██▇▇██▇███</td></tr><tr><td>train/epoch_TP_12</td><td>▁▄▆▆▆▆▇▇▆▇▇▇▇▇▇▇▇▇▇▇▇▇▇█▇███▇███████████</td></tr><tr><td>train/epoch_TP_13</td><td>▁▁▁▁▁▁▁▁▂▃▅▅▅▅▆▆▅▆▆▇▆▆▇▇▆▇▇▇▇▇▇█▇▇██▇███</td></tr><tr><td>train/epoch_TP_2</td><td>▁▁▁▁▁▁▁▁▁▁▁▁▁▁▁▁▁▁▁▁▁▁▁▁▁▁▁▁▁▁▁▁▁▁▁▁▁▁▁▁</td></tr><tr><td>train/epoch_TP_3</td><td>▁▁▁▁▁▁▄▅▄▅▆▆▆▆▆▇▆▇▇▇▇▇▇█▇▇██▇▇██▇███████</td></tr><tr><td>train/epoch_TP_4</td><td>▁▁▂▃▃▄▄▅▄▅▅▆▅▆▆▇▆▇▇▇▆▇▇▇▇▇██▇▇██▇▇██▇███</td></tr><tr><td>train/epoch_TP_5</td><td>▁▁▁▁▁▁▁▁▁▁▁▁▁▂▃▃▃▄▅▅▅▅▆▇▆▇▇█▇▇██▇███████</td></tr><tr><td>train/epoch_TP_6</td><td>▁▁▁▁▁▁▁▁▁▁▁▁▁▂▅▆▆▆▇▇▆▇▇▇▇▇██▇███▇███████</td></tr><tr><td>train/epoch_TP_7</td><td>▁▁▁▁▁▁▁▁▁▁▁▁▁▁▁▁▁▁▁▁▁▁▁▁▁▁▁▁▁▁▁▁▁▁▁▁▁▁▁▁</td></tr><tr><td>train/epoch_TP_8</td><td>▁▁▁▁▁▁▁▁▁▁▁▁▁▁▁▁▁▁▁▁▁▁▁▁▁▁▁▁▁▁▁▁▁▁▁▁▁▁▁▁</td></tr><tr><td>train/epoch_TP_9</td><td>▁▃▆▆▆▆▇▇▇▇▇▇▇▇▇█▇▇██▇▇██████████████████</td></tr><tr><td>train/epoch_loss</td><td>█▃▄▃▃▂▃▃▂▄▃▂▃▂▃▂▃▂▃▂▂▂▂▂▂▂▂▂▂▂▂▁▂▃▂▂▂▂▂▂</td></tr><tr><td>train/iter_F1_0</td><td>▁▄▇▆▆▇▇▇▆▇▇▇▇▇▇▇▇▇▇▇▇▇▇▇▇▇▇▇▆▇▇▇▇▇▇█▇██▇</td></tr><tr><td>train/iter_F1_1</td><td>▁▆▆▇▆▇▇▇▇▇▇▇▇▇▇█▇▇▇█▇█▇█████▇███████████</td></tr><tr><td>train/iter_F1_10</td><td>▁▃▇▅▆▇▅▇▆▇▇▇▇▇▆▇▇▇▇▇▆▇▇▇▆▇▇▇▆▇▇▇▇█▆█▇██▇</td></tr><tr><td>train/iter_F1_11</td><td>▁▁▁▁▁▁▃▁▅▃▃▆▃█▂▇▁▁▅▇▁▆▆▁▇▇▇█▅▆▇▇▇▇▇▁▇▇▆█</td></tr><tr><td>train/iter_F1_12</td><td>▁▅▆▅▆▇▆▇▆▇▇▇▇▇▆▇▇▇▇▇▆▇▇█▇▇██▇▇██████████</td></tr><tr><td>train/iter_F1_13</td><td>▁▁▁▁▁▁▁▁▂▅▄▆▂▆▆▅▄▄▆▆▃▆▇▇▆▇▆▇▅▆▇▇▇▆▆█▇▇▇▇</td></tr><tr><td>train/iter_F1_2</td><td>▁▁▁▁▁▁▁▁▁▁▁▁▁▁▁▁▁▁▁▁▁▁▁▁▁▁▁▁▁▁▁▁▁▁▁▁▁▁▁▁</td></tr><tr><td>train/iter_F1_3</td><td>▁▁▁▁▁▂▄▄▄▅▆▆▅▇▆▇▇▇▇▇▇▇▇█▇▇█▇▇▇██▇███▇██▇</td></tr><tr><td>train/iter_F1_4</td><td>▁▁▂▃▃▅▄▄▄▆▆▆▇▆▆▇▆▆▆█▇▇▇▇▇▇█▇▇█████▇▇▆███</td></tr><tr><td>train/iter_F1_5</td><td>▁▁▁▁▁▁▁▁▁▃▂▁▄▁▅▂▄▅▇▆▅▂▇▇▆▇▇█▄▇██▇█▇█▇▇▆█</td></tr><tr><td>train/iter_F1_6</td><td>▁▁▁▁▁▁▁▁▁▁▁▁▁▅▅▇▇▁▁▆▇▇▇▇█▇▇▇▇▇▁█▇█▇█▇█▇█</td></tr><tr><td>train/iter_F1_7</td><td>▁▁▁▁▁▁▁▁▁▁▁▁▁▁▁▁▁▁▁▁▁▁▁▁▁▁▁▁▁▁▁▁▁▁▁▁▁▁▁▁</td></tr><tr><td>train/iter_F1_8</td><td>▁▁▁▁▁▁▁▁▁▁▁▁▁▁▁▁▁▁▁▁▁▁▁▁▁▁▁▁▁▁▁▁▁▁▁▁▁▁▁▁</td></tr><tr><td>train/iter_F1_9</td><td>▁▆▆▆▆▇▇▇▆▇▇▇▇▇▇█▇▇▇█▇█▇█████▇███████████</td></tr><tr><td>train/iter_FN_0</td><td>█▁▃▁▃▄▂▁▃▂▁▂▂▂▁▂▁▁▁▂▂▂▂▁▂▁▂▁▁▂▂▁▂▁▁▁▁▁▁▁</td></tr><tr><td>train/iter_FN_1</td><td>█▂▃▃▃▃▂▂▂▂▁▁▂▃▁▂▂▁▁▁▂▂▂▁▂▁▁▁▁▁▁▁▁▁▁▁▁▁▁▁</td></tr><tr><td>train/iter_FN_10</td><td>█▁▃▁▄▅▂▂▂▂▂▂▂▂▂▂▁▁▂▁▁▂▂▁▁▁▂▁▂▂▂▁▂▁▁▁▁▁▁▁</td></tr><tr><td>train/iter_FN_11</td><td>▁▃▂▅▁▁█▁▅▃▁▂▂▂▁▂▁▁▁▃▅▂▁▁▄▁▁▁▂▂▂▁▁▂▂▁▂▁▁▁</td></tr><tr><td>train/iter_FN_12</td><td>█▂▄▂▃▄▂▂▂▂▂▁▂▃▁▂▃▁▁▁▂▂▂▂▂▁▂▁▁▁▁▁▁▁▁▁▁▁▁▁</td></tr><tr><td>train/iter_FN_13</td><td>▂▃▁█▁▁▇▃▆▃▂▃▄▃▄▂▁▂▂▃▆▂▁▂▄▂▂▁▂▃▂▂▂▃▂▁▃▁▁▁</td></tr><tr><td>train/iter_FN_2</td><td>▁▁▁▁▁▁▁▁▁▁▁▁▁▁▁▁▁▁▁▁▁▁▁▁▁▁▁▁▁▁▁▁▁▁▁▁▁▁▁▁</td></tr><tr><td>train/iter_FN_3</td><td>▆▅▅█▅▆▃▃▄▂▂▂▃▃▁▁▃▁▃▂▂▃▂▂▃▁▁▂▂▁▂▁▁▁▁▁▁▁▁▁</td></tr><tr><td>train/iter_FN_4</td><td>█▃▇▃▅█▅▂▄▃▂▂▂▄▃▃▄▁▁▁▂▂▂▁▂▁▂▁▁▂▁▁▁▁▁▁▁▁▁▁</td></tr><tr><td>train/iter_FN_5</td><td>▂▃▅▇▃▅▆█▇▃▅▄▃▆▂▆▂▃▂▄▃▁▂▂▁▂▂▁▂▁▂▁▂▂▂▁▃▁▁▂</td></tr><tr><td>train/iter_FN_6</td><td>█▁▃▃▄▁▆█▂▂▁▄▄▄▃▂▂▁▂▂▁▁▁▂▁▁▁▂▁▁▁▁▃▁▁▂▄▂▂▂</td></tr><tr><td>train/iter_FN_7</td><td>▁▁▁▁▁▁▁▁▁▁▁▁▁▁▁▁▁▁▁▁▁▁▁▁▁▁▁▁▁▁▁▁▁▁▁▁▁▁▁▁</td></tr><tr><td>train/iter_FN_8</td><td>▁▁▁▁▁▁▁▁▁▁▁▁▁▁▁▁▁▁▁▁▁▁▁▁▁▁▁▁▁▁▁▁▁▁▁▁▁▁▁▁</td></tr><tr><td>train/iter_FN_9</td><td>█▂▃▃▃▃▂▂▂▂▁▁▂▃▁▂▂▁▁▁▂▂▂▁▂▁▁▁▁▁▁▁▁▁▁▁▁▁▁▁</td></tr><tr><td>train/iter_FP_0</td><td>▁▄▃▅▃▆▄▃▃▃▄▄█▅▄▄▅▂▃▄▃▅▄▄▂▄▄▃▃▄▄▂▃▃▃▂▃▃▃▃</td></tr><tr><td>train/iter_FP_1</td><td>▁▇▆▆▆▆█▆▇▅▆▆█▅▆▆▅▅▅▅▆▆▆▅▅▅▅▄▅▆▄▄▄▄▄▄▄▄▄▄</td></tr><tr><td>train/iter_FP_10</td><td>▁▅▂▆▂▄▇▃▃▂▂▃█▄▃▃▄▂▂▃▅▅▄▄▂▂▄▂▃▄▃▂▃▃▂▂▂▃▃▃</td></tr><tr><td>train/iter_FP_11</td><td>▁▁▁▁▁▅▂▃▅▅▆▆▃▃█▅▃▁▆▅▁▂▃▁▅█▂▂▆▄▇▅▁▃▆▁▆▁▂▂</td></tr><tr><td>train/iter_FP_12</td><td>▁▆▄▇▄▄█▅▇▄▄▄▇▄▆▅▄▄▄▅▆▆▅▄▄▄▄▄▄▄▃▃▄▄▃▄▃▄▃▄</td></tr><tr><td>train/iter_FP_13</td><td>▁▁▁▁▁▁▁▁▂▇█▇▂▃▅▅▅▆█▅▄▂▃▄▃▇▄▄▄▆▆▆▂▄█▁█▂▂▃</td></tr><tr><td>train/iter_FP_2</td><td>▁▁▁▁▁▁▁▁▁▁▁▁▁▁▁▁▁▁▁▁▁▁▁▁▁▁▁▁▁▁▁▁▁▁▁▁▁▁▁▁</td></tr><tr><td>train/iter_FP_3</td><td>▁▁▁▁▁▄█▅▄▃▄▄▅▃▄▄▂▄▃▃▅▃▃▃▃▃▃▃▃▃▂▂▃▂▂▂▃▂▂▂</td></tr><tr><td>train/iter_FP_4</td><td>▁▁▂▆▃▄▇█▅▅▅▆█▄▄▄▂▂▅▄▅▅▅▄▃▂▄▃▃▃▃▃▂▃▃▃▃▃▃▃</td></tr><tr><td>train/iter_FP_5</td><td>▁▁▁▁▁▁▁▁▁▁▁▁▁▁▃▅▆▂▄▃▃▅▄▄▄█▃▂▃▇▄▃▃▄▃▃▅▃▂▄</td></tr><tr><td>train/iter_FP_6</td><td>▁▁▁▁▁▁▁▁▁▁▁▁▁▂▃▂█▂▃▇▂▅▁▃▄▁▃▄▄▂▁▁▂▂▃▄▂▄▄▃</td></tr><tr><td>train/iter_FP_7</td><td>▁▁▁▁▁▁▁▁▁▁▁▁▁▁▁▁▁▁▁▁▁▁▁▁▁▁▁▁▁▁▁▁▁▁▁▁▁▁▁▁</td></tr><tr><td>train/iter_FP_8</td><td>▁▁▁▁▁▁▁▁▁▁▁▁▁▁▁▁▁▁▁▁▁▁▁▁▁▁▁▁▁▁▁▁▁▁▁▁▁▁▁▁</td></tr><tr><td>train/iter_FP_9</td><td>▁▆▆▆▆▆█▅▆▅▅▆█▄▆▅▅▄▅▅▆▆▆▅▅▅▅▄▅▅▄▄▄▄▄▄▄▄▄▄</td></tr><tr><td>train/iter_IoU_0</td><td>▁▃▆▅▅▆▆▇▅▆▇▇▆▆▆▇▆▇▆▇▆▇▇▇▆▆▇▇▅▇▆▇▆▇▆█▆▇▇▆</td></tr><tr><td>train/iter_IoU_1</td><td>▁▅▅▆▆▆▆▆▆▇▇▇▆▇▇▇▇▇▇█▇▇▇█▇▇█▇▇▇██▇███████</td></tr><tr><td>train/iter_IoU_10</td><td>▁▂▆▄▅▆▄▇▆▆▇▇▆▆▅▇▆▇▆▇▅▇▇▇▆▇▇▇▅▇▆▆▆▇▅█▆▇▇▇</td></tr><tr><td>train/iter_IoU_11</td><td>▁▁▁▁▁▁▃▁▄▂▃▅▂█▂▇▁▁▄▇▁▅▆▁▆▆▇█▄▆▇▇▆▇▇▁▆▆▆▇</td></tr><tr><td>train/iter_IoU_12</td><td>▁▄▅▄▅▆▅▆▅▆▆▇▆▇▅▇▆▆▇▇▅▇▇█▇▇▇▇▇▇██▇█▇█▇███</td></tr><tr><td>train/iter_IoU_13</td><td>▁▁▁▁▁▁▁▁▂▄▃▅▁▅▅▄▃▃▆▆▂▅▆▇▅▆▅▆▄▆▆▆▆▅▅█▆▇▇▆</td></tr><tr><td>train/iter_IoU_2</td><td>▁▁▁▁▁▁▁▁▁▁▁▁▁▁▁▁▁▁▁▁▁▁▁▁▁▁▁▁▁▁▁▁▁▁▁▁▁▁▁▁</td></tr><tr><td>train/iter_IoU_3</td><td>▁▁▁▁▁▂▃▃▃▄▅▅▄▆▅▆▇▆▇▇▆▆▇█▆▆▇▇▇▇▇█▆███▆██▇</td></tr><tr><td>train/iter_IoU_4</td><td>▁▁▂▂▃▄▃▄▃▆▆▆▆▅▆▆▅▆▅█▆▇▇▇▇▇▇▇▆██▇▇█▆▇▆███</td></tr><tr><td>train/iter_IoU_5</td><td>▁▁▁▁▁▁▁▁▁▂▁▁▃▁▄▁▃▄▆▅▄▂▆▆▅▆▆█▃▇█▇▆▇▆█▇▇▅▇</td></tr><tr><td>train/iter_IoU_6</td><td>▁▁▁▁▁▁▁▁▁▁▁▁▁▄▄▇▆▁▁▅▆▇▇▇▇▇▇▇▆▇▁▇▇█▇▇▆█▇▇</td></tr><tr><td>train/iter_IoU_7</td><td>▁▁▁▁▁▁▁▁▁▁▁▁▁▁▁▁▁▁▁▁▁▁▁▁▁▁▁▁▁▁▁▁▁▁▁▁▁▁▁▁</td></tr><tr><td>train/iter_IoU_8</td><td>▁▁▁▁▁▁▁▁▁▁▁▁▁▁▁▁▁▁▁▁▁▁▁▁▁▁▁▁▁▁▁▁▁▁▁▁▁▁▁▁</td></tr><tr><td>train/iter_IoU_9</td><td>▁▅▅▆▆▆▆▆▆▇▇▇▆▇▇▇▇▇▇▇▇▇▇█▇▇█▇▇▇██▇███████</td></tr><tr><td>train/iter_Precision_0</td><td>▁▃█▆▇▇▇▇▇█▇▇▇▇▆█▆▇▇▇▇▇▇▇▇▇▇▇▆▇▇▇▇▇▆█▆▇▇▇</td></tr><tr><td>train/iter_Precision_1</td><td>▁▅▇▇▇▇▆▇▇▇▇▇▇█▇██▇▇█▇▇▇██▇█▇▇▇██████████</td></tr><tr><td>train/iter_Precision_10</td><td>▁▂█▄██▄▇▇██▇▇▇▇█▇▇▇▇▅▇▇▇▇▇▇▇▆▇▇▇▇▇▆█▆▇▇▇</td></tr><tr><td>train/iter_Precision_11</td><td>▁▁▁▁▁▁█▁▆▄▂▅▃█▂▆▁▁▃▇▁▇▆▁▇▅▆▇▄▆▇▆█▇▆▁▆▇▅▇</td></tr><tr><td>train/iter_Precision_12</td><td>▁▅▇▅▇█▅▇▅▇▇▇▆█▅▇█▆▇▇▅▇▇██▇█▇▇▇██▇███████</td></tr><tr><td>train/iter_Precision_13</td><td>▁▁▁▁▁▁▁▅▇▅▃▆▄▇▇▆▄▄▆▇▆▇▇▇▇▆▆▆▅▇▇▆▇▇▆█▇▇▇▆</td></tr><tr><td>train/iter_Precision_2</td><td>▁▁▁▁▁▁▁▁▁▁▁▁▁▁▁▁▁▁▁▁▁▁▁▁▁▁▁▁▁▁▁▁▁▁▁▁▁▁▁▁</td></tr><tr><td>train/iter_Precision_3</td><td>▁▁▁▃▃▃▃▃▄▅▅▅▅▇▅▆█▆▇▇▆▇▇█▇▆▇▇▇▇▇█▆███▆██▇</td></tr><tr><td>train/iter_Precision_4</td><td>▁▁▆▃▅▇▅▄▄▇▆▆▆▇▇██▆▆█▇▇▇▇▇█▇▇▇██▇██▆▇▆███</td></tr><tr><td>train/iter_Precision_5</td><td>▁▁▁▁▁▁▁▁█▅█▃▇█▅▂▃▇▆▇▅▂▅▆▅▆▆▇▄▆▇▆▆▇▇▇▇▆▅▇</td></tr><tr><td>train/iter_Precision_6</td><td>▁▁▁▁▁▁▁▁▁▁▁▁▁▇▅▇▆▁▁▅▆▆▆▇▇█▆▆▅▆▁▇█▇▇▇█▇▇▇</td></tr><tr><td>train/iter_Precision_7</td><td>▁▁▁▁▁▁▁▁▁▁▁▁▁▁▁▁▁▁▁▁▁▁▁▁▁▁▁▁▁▁▁▁▁▁▁▁▁▁▁▁</td></tr><tr><td>train/iter_Precision_8</td><td>▁▁▁▁▁▁▁▁▁▁▁▁▁▁▁▁▁▁▁▁▁▁▁▁▁▁▁▁▁▁▁▁▁▁▁▁▁▁▁▁</td></tr><tr><td>train/iter_Precision_9</td><td>▁▅▇▇▆█▆▇▇▇▇▇▇█▇██▇▇█▇▇▇██▇█▇▇▇██████████</td></tr><tr><td>train/iter_Recall_0</td><td>▁▅▆▇▆▆▇▇▆▇█▇█▇▇▇█▇▇▇▇▇██▆▇██▇▇▇▇▇█▇████▇</td></tr><tr><td>train/iter_Recall_1</td><td>▁▆▆▆▆▆▇▇▆▇██▇▇█▇▇███▇▇██▇███▇███████████</td></tr><tr><td>train/iter_Recall_10</td><td>▁▆▆▇▅▆▆▇▆▇▇▇█▇▆▇▇▇▆█▇███▆██▇▆█▇▇▇█▇████▇</td></tr><tr><td>train/iter_Recall_11</td><td>▁▁▁▁▁▁▂▁▃▂▅▆▂▆▄▇▃▁█▆▁▅▆▁▅█▆▇▅▆▆▇▅▆▇▁▆▆█▇</td></tr><tr><td>train/iter_Recall_12</td><td>▁▆▅▆▅▆▇▆▆▇▇█▇▇█▇▆█▇█▇▇▇█▇███▇█▇███▇█▇███</td></tr><tr><td>train/iter_Recall_13</td><td>▁▁▁▁▁▁▁▁▂▄▄▅▁▅▅▅▅▄▇▆▂▅▆▇▅▇▆▇▅▆▆▇▆▅▇█▆█▇█</td></tr><tr><td>train/iter_Recall_2</td><td>▁▁▁▁▁▁▁▁▁▁▁▁▁▁▁▁▁▁▁▁▁▁▁▁▁▁▁▁▁▁▁▁▁▁▁▁▁▁▁▁</td></tr><tr><td>train/iter_Recall_3</td><td>▁▁▁▁▁▂▅▄▄▅▇▇▆▆█▇▆█▇▇▇▆█▇▇██▇▇█▇█▇███▇███</td></tr><tr><td>train/iter_Recall_4</td><td>▁▁▂▃▃▄▄▅▃▆▇▆▇▅▆▆▅▇▇█▇▇▇█▇▇█▇▇██▇▇██▇▇███</td></tr><tr><td>train/iter_Recall_5</td><td>▁▁▁▁▁▁▁▁▁▂▁▁▃▁▄▁▅▄▆▅▄▇▇▇▇▇▆█▃█▇█▆▇▆█▇▇▇▇</td></tr><tr><td>train/iter_Recall_6</td><td>▁▁▁▁▁▁▁▁▁▁▁▁▁▄▄▆▇▁▁▇▇█▇▇█▆█▇██▁█▆█▇▇▆█▇█</td></tr><tr><td>train/iter_Recall_7</td><td>▁▁▁▁▁▁▁▁▁▁▁▁▁▁▁▁▁▁▁▁▁▁▁▁▁▁▁▁▁▁▁▁▁▁▁▁▁▁▁▁</td></tr><tr><td>train/iter_Recall_8</td><td>▁▁▁▁▁▁▁▁▁▁▁▁▁▁▁▁▁▁▁▁▁▁▁▁▁▁▁▁▁▁▁▁▁▁▁▁▁▁▁▁</td></tr><tr><td>train/iter_Recall_9</td><td>▁▆▆▆▆▆▇▇▆▇██▇▇█▇▇███▇▇██▇███▇███████████</td></tr><tr><td>train/iter_TN_0</td><td>▅█▆▇▅▁▅▆▆▅▆▅▂▄▇▅▆█▇▆▇▄▅▆▇▇▄█▇▅▅█▆▆▇▇█▆▇▇</td></tr><tr><td>train/iter_TN_1</td><td>▅▆▄▄▅▁▃▅▄▆▆▅▃▃▆▄▃█▆▄▅▃▄▃▄▇▄▇▇▅▆▇▆▅▆▇▆▅▆▅</td></tr><tr><td>train/iter_TN_10</td><td>▅█▅▇▅▁▆▆▇▅▆▅▂▅▆▅▆▇▇▆▆▄▅▅█▇▄▇▇▅▆█▆▆█▆█▅▆▇</td></tr><tr><td>train/iter_TN_11</td><td>█▇█▅█▇▁█▂▅▆▅▇▅▆▅██▆▃▅▆▇█▂▄▇▇▆▆▃▆█▆▄█▅██▇</td></tr><tr><td>train/iter_TN_12</td><td>▅▇▄▅▅▁▄▅▅▇▆▆▃▃▇▄▃█▇▅▆▃▄▃▆█▄▇▇▆▇█▆▆▆▆▇▅▆▅</td></tr><tr><td>train/iter_TN_13</td><td>▇▆█▂██▃▇▃▄▅▃▅▅▂▅▇▅▄▂▂▆▆▅▃▃▅▆▆▂▃▄▆▄▄█▁▇▇▇</td></tr><tr><td>train/iter_TN_2</td><td>▁▁▁▁▁▁▁▁▁▁▁▁▁▁▁▁▁▁▁▁▁▁▁▁▁▁▁▁▁▁▁▁▁▁▁▁▁▁▁▁</td></tr><tr><td>train/iter_TN_3</td><td>▇██▄█▂▁▅▄▆▅▅▃▁▇▅▄▅▃▅▂▃▄▂▃▇▄▆▅▆▆▆▆▆▄▇▆▇▅█</td></tr><tr><td>train/iter_TN_4</td><td>▅▇▅▆▅▁▄▅▅▅▆▅▃▅▅▄▅█▆▆▅▄▄▆▆▇▅▇▇▅▆▇▇▆▇▇▇▆▆▆</td></tr><tr><td>train/iter_TN_5</td><td>█▇▅▄▇▅▅▃▄▆▅▆▇▅▆▄▆▆▅▃▅▇▆▄▆▁▅▆▇▃▄▆▆▃▅▆▁▆█▂</td></tr><tr><td>train/iter_TN_6</td><td>▄█▇▇▆█▅▄▇▇█▆▆▅▅▅▁█▇▃▇▃█▃▃▇▅▅▆▇█▇▄▄▅▂▃▂▄▄</td></tr><tr><td>train/iter_TN_7</td><td>▁▁▁▁▁▁▁▁▁▁▁▁▁▁▁▁▁▁▁▁▁▁▁▁▁▁▁▁▁▁▁▁▁▁▁▁▁▁▁▁</td></tr><tr><td>train/iter_TN_8</td><td>▁▁▁▁▁▁▁▁▁▁▁▁▁▁▁▁▁▁▁▁▁▁▁▁▁▁▁▁▁▁▁▁▁▁▁▁▁▁▁▁</td></tr><tr><td>train/iter_TN_9</td><td>▅▇▄▄▅▁▃▅▄▆▆▅▃▃▆▄▃█▆▄▅▃▄▃▄▇▄▇▇▅▆▇▆▅▆▇▆▅▆▅</td></tr><tr><td>train/iter_TP_0</td><td>▁▁▄▃▄█▄▄▃▅▄▅▇▅▃▆▄▃▃▅▃▆▅▄▃▃▆▃▂▅▅▃▄▄▃▄▂▄▄▃</td></tr><tr><td>train/iter_TP_1</td><td>▁▃▅▅▅█▆▅▅▅▅▆▇▇▅▇▇▄▆▇▆▇▆█▆▅▇▅▅▆▆▅▅▆▆▅▆▇▆▆</td></tr><tr><td>train/iter_TP_10</td><td>▁▁▄▂▄█▂▄▃▄▄▅█▅▃▅▄▃▃▄▃▆▅▅▂▃▆▃▂▅▄▂▄▄▂▅▂▅▄▃</td></tr><tr><td>train/iter_TP_11</td><td>▁▁▁▁▁▁▄▁▅▂▂▃▁▅▁▄▁▁▂▇▁▃▂▁█▅▂▂▂▃▇▄▁▄▇▁▄▁▁▂</td></tr><tr><td>train/iter_TP_12</td><td>▁▃▅▄▅█▅▅▄▄▅▅▇▇▄▇▇▄▅▆▄█▇█▆▄▇▅▅▅▅▄▆▆▅▆▅▇▇▇</td></tr><tr><td>train/iter_TP_13</td><td>▁▁▁▁▁▁▁▁▂▄▂▅▁▃▆▃▂▂▅▇▃▃▃▅▅▇▄▃▂▇▆▅▃▄▅▁█▂▂▂</td></tr><tr><td>train/iter_TP_2</td><td>▁▁▁▁▁▁▁▁▁▁▁▁▁▁▁▁▁▁▁▁▁▁▁▁▁▁▁▁▁▁▁▁▁▁▁▁▁▁▁▁</td></tr><tr><td>train/iter_TP_3</td><td>▁▁▁▁▁▂▃▂▃▃▄▄▄▇▃▅▆▅▆▅▆▆▆█▆▄▆▅▅▅▅▅▄▅▆▅▄▅▆▄</td></tr><tr><td>train/iter_TP_4</td><td>▁▁▂▂▂▇▄▃▃▅▅▅█▅▅▇▄▂▄▆▅██▅▅▄▇▃▃▇▅▄▄▅▃▃▃▆▅▆</td></tr><tr><td>train/iter_TP_5</td><td>▁▁▁▁▁▁▁▁▁▁▁▁▁▁▂▁▂▂▃▄▂▁▃▅▂▇▃▃▂▆▆▄▃▇▄▄█▃▁▇</td></tr><tr><td>train/iter_TP_6</td><td>▁▁▁▁▁▁▁▁▁▁▁▁▁▂▃▄▇▁▁▅▂▇▁▆▇▂▅▅▃▂▁▂▅▆▄█▆█▆▆</td></tr><tr><td>train/iter_TP_7</td><td>▁▁▁▁▁▁▁▁▁▁▁▁▁▁▁▁▁▁▁▁▁▁▁▁▁▁▁▁▁▁▁▁▁▁▁▁▁▁▁▁</td></tr><tr><td>train/iter_TP_8</td><td>▁▁▁▁▁▁▁▁▁▁▁▁▁▁▁▁▁▁▁▁▁▁▁▁▁▁▁▁▁▁▁▁▁▁▁▁▁▁▁▁</td></tr><tr><td>train/iter_TP_9</td><td>▁▃▅▅▅█▆▅▅▅▅▆▇▇▅▇▇▄▆▇▆▇▆█▆▅▇▅▅▆▆▅▅▆▆▅▆▇▆▆</td></tr><tr><td>train/iter_loss</td><td>█▃▆▇▂▁▆▂▆▆▂▆▆▆▆▆▆▂▆▆▆▆▆▁▆▆▅▆▆▆▁▆▆▅▆▁▆▅▆▆</td></tr><tr><td>train/mean_F1</td><td>▁▃▄▄▄▄▅▅▅▅▆▆▆▆▆▇▆▇▇▇▇▇▇█▇▇██▇███▇███████</td></tr><tr><td>train/mean_IoU</td><td>▁▂▃▃▃▄▄▄▄▅▅▅▅▅▆▆▆▆▇▇▆▇▇▇▇▇▇▇▇▇▇█▇▇██▇███</td></tr><tr><td>trainer/global_step</td><td>▁▁▁▂▂▂▂▂▂▃▃▃▃▃▄▄▄▄▄▄▅▅▅▅▅▅▆▆▆▆▆▇▇▇▇▇▇███</td></tr><tr><td>val/epoch_F1_0</td><td>▁▆▇▇▇▇██▇███████▇███████████████████████</td></tr><tr><td>val/epoch_F1_1</td><td>▁▆▇▇▆▇██▇███████▇███████████████████████</td></tr><tr><td>val/epoch_F1_10</td><td>▁▆▇▇▇▇██▇███████▇▇██▇███████████████████</td></tr><tr><td>val/epoch_F1_11</td><td>▁▁▁▁▁▂▆▇▄▇▇▇▄▇▇▇▆▇▇▇▇▇███▇██▆▇██▇▇██▇▇██</td></tr><tr><td>val/epoch_F1_12</td><td>▁▅▇▇▅▇██▇███████▇███████████████████████</td></tr><tr><td>val/epoch_F1_13</td><td>▁▁▁▁▁▁▁▁▁▆▇▇▅█▇▇▇▇▇▇████▇███▆███▇███▆███</td></tr><tr><td>val/epoch_F1_2</td><td>▁▁▁▁▁▁▁▁▁▁▁▁▁▁▁▁▁▁▁▁▁▁▁▁▁▁▁▁▁▁▁▁▁▁▁▁▁▁▁▁</td></tr><tr><td>val/epoch_F1_3</td><td>▁▁▁▁▁▂▅▆▄▆▇▇▆▆▇█▆▇██▇▇██▇▇██▇▇▇█▇███████</td></tr><tr><td>val/epoch_F1_4</td><td>▁▁▂▄▁▅▆▆▅▆▆▆▇▇▇▇▇▇▇▇▆▇██▇▇███▇██▇▇██▇███</td></tr><tr><td>val/epoch_F1_5</td><td>▁▁▁▁▁▁▁▁▁▃▂▃▁▃▄▅▅▅▆▇▄▅▇▇▇▇███▇██████████</td></tr><tr><td>val/epoch_F1_6</td><td>▁▁▁▁▁▁▁▁▁▁▁▁▁▃▅▅▆▇▇▇▇█▇█▇███████████████</td></tr><tr><td>val/epoch_F1_7</td><td>▁▁▁▁▁▁▁▁▁▁▁▁▁▁▁▁▁▁▁▁▁▁▁▁▁▁▁▁▁▁▁▁▁▁▁▁▁▁▁▁</td></tr><tr><td>val/epoch_F1_8</td><td>▁▁▁▁▁▁▁▁▁▁▁▁▁▁▁▁▁▁▁▁▁▁▁▁▁▁▁▁▁▁▁▁▁▁▁▁▁▁▁▁</td></tr><tr><td>val/epoch_F1_9</td><td>▁▅▇▇▆▇██▇███████▇███████████████████████</td></tr><tr><td>val/epoch_FN_0</td><td>█▄▃▂▃▂▂▁▂▁▁▁▁▂▂▁▃▁▂▁▂▁▁▁▁▁▂▁▂▂▁▁▁▁▁▁▁▂▁▁</td></tr><tr><td>val/epoch_FN_1</td><td>█▄▃▂▅▂▁▂▃▁▁▂▁▂▁▂▁▁▂▁▂▂▂▁▁▂▂▁▁▂▂▂▁▂▁▁▁▂▁▁</td></tr><tr><td>val/epoch_FN_10</td><td>█▃▂▂▃▁▂▁▁▂▁▂▁▂▂▁▃▁▂▁▂▁▂▁▁▁▂▁▂▁▁▁▁▁▁▁▁▂▁▁</td></tr><tr><td>val/epoch_FN_11</td><td>██████▄▄▇▃▃▃▆▃▃▃▄▂▃▃▁▃▂▂▂▂▂▂▄▃▃▃▃▂▂▂▄▃▂▂</td></tr><tr><td>val/epoch_FN_12</td><td>█▅▃▂▅▂▂▂▃▂▁▂▁▂▁▁▂▁▂▁▂▂▂▂▁▂▂▂▁▂▂▂▂▂▁▂▁▂▁▁</td></tr><tr><td>val/epoch_FN_13</td><td>█████████▄▃▂▅▃▂▂▁▂▂▂▂▂▂▂▂▂▂▂▄▂▂▂▂▂▁▂▃▂▁▂</td></tr><tr><td>val/epoch_FN_2</td><td>▁▁▁▁▁▁▁▁▁▁▁▁▁▁▁▁▁▁▁▁▁▁▁▁▁▁▁▁▁▁▁▁▁▁▁▁▁▁▁▁</td></tr><tr><td>val/epoch_FN_3</td><td>█████▇▅▄▆▃▂▂▄▄▁▂▄▂▂▂▁▂▂▂▂▂▂▂▃▃▂▂▂▂▁▂▁▂▁▁</td></tr><tr><td>val/epoch_FN_4</td><td>██▇▆█▅▄▄▅▃▃▄▂▄▃▃▁▂▃▂▅▃▂▂▂▃▂▂▁▂▂▂▃▃▂▂▃▂▂▂</td></tr><tr><td>val/epoch_FN_5</td><td>█████████▇▇▇█▇▆▅▅▅▄▃▆▅▃▃▂▂▁▂▂▂▂▁▂▁▁▁▂▂▁▁</td></tr><tr><td>val/epoch_FN_6</td><td>█████████████▆▃▃▂▂▂▁▂▂▁▁▁▁▁▁▁▁▁▁▁▁▁▁▁▁▁▁</td></tr><tr><td>val/epoch_FN_7</td><td>▁▁▁▁▁▁▁▁▁▁▁▁▁▁▁▁▁▁▁▁▁▁▁▁▁▁▁▁▁▁▁▁▁▁▁▁▁▁▁▁</td></tr><tr><td>val/epoch_FN_8</td><td>▁▁▁▁▁▁▁▁▁▁▁▁▁▁▁▁▁▁▁▁▁▁▁▁▁▁▁▁▁▁▁▁▁▁▁▁▁▁▁▁</td></tr><tr><td>val/epoch_FN_9</td><td>█▅▃▂▅▂▂▂▃▂▂▂▁▂▁▂▁▁▂▁▂▂▂▁▁▂▂▂▁▂▂▂▁▂▁▁▁▂▁▁</td></tr><tr><td>val/epoch_FP_0</td><td>▁▄▅▆▄█▆▆█▇█▆▇▅▅▆▃█▄▅▆▅▅▅▇▇▄▅▄▅▅▅▆▆▅▅▆▅▅▅</td></tr><tr><td>val/epoch_FP_1</td><td>▁▃▅▅▂▆▆▅▃▆▅▅▆▅▆▅█▆▅▆▅▅▅▅█▅▅▅▆▄▄▅▆▅▅▅▆▅▅▅</td></tr><tr><td>val/epoch_FP_10</td><td>▁▅▄▅▃▇▄▅█▅▆▄▇▄▄▅▃▅▃▄▃▄▄▄▅▅▃▄▄▄▄▄▅▅▄▄▅▄▄▄</td></tr><tr><td>val/epoch_FP_11</td><td>▁▁▁▁▁▁▃▂▁▄▄▄▁▃▃▄▃▆▄▄█▄▅▄▄▃▄▄▃▃▃▃▃▄▄▄▃▃▃▃</td></tr><tr><td>val/epoch_FP_12</td><td>▁▃▅▆▂▆▆▆▄▆▆▅▇▆▇▆▇▆▅▆▅▆▅▅█▆▅▅▇▅▅▅▆▅▅▅▇▅▅▅</td></tr><tr><td>val/epoch_FP_13</td><td>▁▁▁▁▁▁▁▁▁▃▃▄▂▃▅▄█▅▄▄▅▅▄▄▅▄▄▄▃▄▄▄▅▄▅▄▅▄▅▄</td></tr><tr><td>val/epoch_FP_2</td><td>▁▁▁▁▁▁▁▁▁▁▁▁▁▁▁▁▁▁▁▁▁▁▁▁▁▁▁▁▁▁▁▁▁▁▁▁▁▁▁▁</td></tr><tr><td>val/epoch_FP_3</td><td>▁▁▁▁▁▃▆▅▃▆▇▇▃▄▇▅▄▆▆▅█▇▄▅▆▆▅▅▄▄▄▄▇▅▅▄▇▅▆▅</td></tr><tr><td>val/epoch_FP_4</td><td>▁▁▁▃▁▄▄▄▂▅▄▃▇▂▃▃█▄▃▃▂▃▃▃▅▃▃▃▅▄▃▃▃▃▃▃▃▃▃▃</td></tr><tr><td>val/epoch_FP_5</td><td>▁▁▁▁▁▁▁▁▁▂▁▁▁▂▃▃▅▃▃▆▂▂▆▅█▆▇▇▆█▅▆▅▇█▇▇▅▇▆</td></tr><tr><td>val/epoch_FP_6</td><td>▁▁▁▁▁▁▁▁▁▁▁▁▁▅▇█▇▄▄▆▄▄▄▄▇▄▃▃▄▃▃▃▃▃▃▃▃▃▄▃</td></tr><tr><td>val/epoch_FP_7</td><td>▁▁▁▁▁▁▁▁▁▁▁▁▁▁▁▁▁▁▁▁▁▁▁▁▁▁▁▁▁▁▁▁▁▁▁▁▁▁▁▁</td></tr><tr><td>val/epoch_FP_8</td><td>▁▁▁▁▁▁▁▁▁▁▁▁▁▁▁▁▁▁▁▁▁▁▁▁▁▁▁▁▁▁▁▁▁▁▁▁▁▁▁▁</td></tr><tr><td>val/epoch_FP_9</td><td>▁▂▅▆▂▆▆▅▃▆▅▅▆▅▆▅█▆▅▆▅▅▅▅█▅▅▅▆▄▄▅▆▅▅▅▆▅▅▅</td></tr><tr><td>val/epoch_IoU_0</td><td>▁▅▇▇▇▇▇▇▇▇▇█▇███▇▇██▇███████████████████</td></tr><tr><td>val/epoch_IoU_1</td><td>▁▅▇▇▅▇▇█▆▇██▇▇██▇███████▇███▇███████████</td></tr><tr><td>val/epoch_IoU_10</td><td>▁▅▇▇▆▇▇▇▆▇▇█▇███▇▇▇█▇███████▇███████████</td></tr><tr><td>val/epoch_IoU_11</td><td>▁▁▁▁▁▂▆▆▃▇▇▇▄▇▇▇▆▇▇▇▇▆█▇█▇██▆▇▇█▇▇██▆▇██</td></tr><tr><td>val/epoch_IoU_12</td><td>▁▄▆▇▄▇▇▇▆▇██▇▇██▇███▇███▇███▇███████████</td></tr><tr><td>val/epoch_IoU_13</td><td>▁▁▁▁▁▁▁▁▁▆▇▇▅█▇▇▆▇▇▇▇▇██▇███▆███▇███▆███</td></tr><tr><td>val/epoch_IoU_2</td><td>▁▁▁▁▁▁▁▁▁▁▁▁▁▁▁▁▁▁▁▁▁▁▁▁▁▁▁▁▁▁▁▁▁▁▁▁▁▁▁▁</td></tr><tr><td>val/epoch_IoU_3</td><td>▁▁▁▁▁▂▄▅▄▆▆▆▅▆▇▇▅▇▇█▇▇██▇▇█▇▇▇▇█▆███▇███</td></tr><tr><td>val/epoch_IoU_4</td><td>▁▁▂▄▁▄▅▅▄▆▆▆▆▆▇▇▆▇▇▇▅▇██▇▇██▇▇██▇▇██▇███</td></tr><tr><td>val/epoch_IoU_5</td><td>▁▁▁▁▁▁▁▁▁▂▂▂▁▂▄▄▄▅▅▆▃▄▇▇▇▇█▇█▇██████▇███</td></tr><tr><td>val/epoch_IoU_6</td><td>▁▁▁▁▁▁▁▁▁▁▁▁▁▂▅▅▅▆▇▆▆▇▇▇▇███▇███▇███████</td></tr><tr><td>val/epoch_IoU_7</td><td>▁▁▁▁▁▁▁▁▁▁▁▁▁▁▁▁▁▁▁▁▁▁▁▁▁▁▁▁▁▁▁▁▁▁▁▁▁▁▁▁</td></tr><tr><td>val/epoch_IoU_8</td><td>▁▁▁▁▁▁▁▁▁▁▁▁▁▁▁▁▁▁▁▁▁▁▁▁▁▁▁▁▁▁▁▁▁▁▁▁▁▁▁▁</td></tr><tr><td>val/epoch_IoU_9</td><td>▁▄▇▇▅▇▇█▆▇██▇▇██▇███████▇███▇███████████</td></tr><tr><td>val/epoch_Precision_0</td><td>▁▇▇▇▇▇▇▇▆▇▇▇▇▇▇▇█▇█▇▇▇▇▇▇▇█▇█▇▇▇▇▇▇▇▇█▇▇</td></tr><tr><td>val/epoch_Precision_1</td><td>▁▇▇▇█▆▆▇▇▆▇▇▇▇▆▇▆▇▇▇▇▇▇▇▆▇▇▇▆▇▇▇▇▇▇▇▆▇▇▇</td></tr><tr><td>val/epoch_Precision_10</td><td>▁▆▇▇█▆▇▇▆▇▇▇▆▇▇▇█▇█▇▇▇▇▇▇▇█▇▇▇▇▇▇▇▇▇▇▇▇▇</td></tr><tr><td>val/epoch_Precision_11</td><td>▁▁▁▁▁▆▆▆█▅▆▆▆▆▆▆▆▆█▆▅▆▆▆▆█▆▇▇▇█▇▆▆▆▇█▇▇▇</td></tr><tr><td>val/epoch_Precision_12</td><td>▁▇▇▆█▆▆▆▇▆▆▇▆▆▆▇▆▆▇▆▇▇▇▇▆▆▇▇▆▇▇▇▇▇▇▇▆▇▇▇</td></tr><tr><td>val/epoch_Precision_13</td><td>▁▁▁▁▁▁▂█▇▇▇▆▆▇▆▇▅▆▆▆▆▆▇▇▅▇▇▇▆▇▇▇▆▇▆▇▆▇▆▇</td></tr><tr><td>val/epoch_Precision_2</td><td>▁▁▁▁▁▁▁▁▁▁▁▁▁▁▁▁▁▁▁▁▁▁▁▁▁▁▁▁▁▁▁▁▁▁▁▁▁▁▁▁</td></tr><tr><td>val/epoch_Precision_3</td><td>▁▁▁▂▁▃▅▆▆▆▆▇██▆▇▇▇▇▇▆▆█▇▇▆▇▇▇▇█▇▆▇▇█▆▇▇▇</td></tr><tr><td>val/epoch_Precision_4</td><td>▁▁▆▆▇▅▆▆▇▆▆▆▅█▇▇▅▇█▇█▇▇▇▆▇█▇▆▇▇▇▇█▇▇▇▇▇▇</td></tr><tr><td>val/epoch_Precision_5</td><td>▁▁▁▁▁▁▁▄▂▆▇█▃▆▇▇▆██▇▇█▇▇▇▇▇▇▇▇▇▇█▇▇▇▇▇▇▇</td></tr><tr><td>val/epoch_Precision_6</td><td>▁▁▁▁▁▁▁▁▁▁▁▁▁▄▅▅▆▇▇▆▇█▇▇▆▇██▇█████████▇█</td></tr><tr><td>val/epoch_Precision_7</td><td>▁▁▁▁▁▁▁▁▁▁▁▁▁▁▁▁▁▁▁▁▁▁▁▁▁▁▁▁▁▁▁▁▁▁▁▁▁▁▁▁</td></tr><tr><td>val/epoch_Precision_8</td><td>▁▁▁▁▁▁▁▁▁▁▁▁▁▁▁▁▁▁▁▁▁▁▁▁▁▁▁▁▁▁▁▁▁▁▁▁▁▁▁▁</td></tr><tr><td>val/epoch_Precision_9</td><td>▁█▇▇█▆▇▇▇▇▇▇▇▇▆▇▆▇▇▇▇▇▇▇▆▇▇▇▆▇▇▇▇▇▇▇▆▇▇▇</td></tr><tr><td>val/epoch_Recall_0</td><td>▁▅▆▇▆▇▇█▇████▇▇█▆█▇█▇█████▇█▇▇███████▇██</td></tr><tr><td>val/epoch_Recall_1</td><td>▁▅▆▇▄▇█▇▆██▇█▇█▇██▇█▇▇▇███▇██▇▇▇▇▇█▇█▇██</td></tr><tr><td>val/epoch_Recall_10</td><td>▁▅▇▇▆█▇██▇█▇█▇▇█▆▇▇▇▇▇▇███▇▇▇▇████▇██▇██</td></tr><tr><td>val/epoch_Recall_11</td><td>▁▁▁▁▁▂▅▅▃▇▆▆▃▆▆▇▅▇▅▆█▆▇▇▇▆▇▇▅▆▆▇▇▇▇▇▅▆▇▇</td></tr><tr><td>val/epoch_Recall_12</td><td>▁▄▆▇▄▇▇▇▆▇█▇█▇████▇█▇▇▇▇██▇▇█▇▇▇▇▇█▇█▇██</td></tr><tr><td>val/epoch_Recall_13</td><td>▁▁▁▁▁▁▁▁▁▅▆▇▄▆▇▇█▇▇▇▇▇█▇▇▇▇▇▅▇▇▇▇▇█▇▆▇█▇</td></tr><tr><td>val/epoch_Recall_2</td><td>▁▁▁▁▁▁▁▁▁▁▁▁▁▁▁▁▁▁▁▁▁▁▁▁▁▁▁▁▁▁▁▁▁▁▁▁▁▁▁▁</td></tr><tr><td>val/epoch_Recall_3</td><td>▁▁▁▁▁▂▄▅▃▆▇▇▄▅█▇▅▇▇▇█▇▇▇▇▇▇▇▆▆▆▇▇▇█▇█▇██</td></tr><tr><td>val/epoch_Recall_4</td><td>▁▁▁▃▁▄▅▅▄▆▆▆▇▅▆▆█▇▆▇▄▆▇▇▇▆▆▇█▇▇▇▆▆▇▇▆▇▇▇</td></tr><tr><td>val/epoch_Recall_5</td><td>▁▁▁▁▁▁▁▁▁▂▁▂▁▂▃▄▄▄▅▆▃▄▆▆▇▇█▇▇▇▇▇▇███▇▇██</td></tr><tr><td>val/epoch_Recall_6</td><td>▁▁▁▁▁▁▁▁▁▁▁▁▁▃▆▆▇▇▇█▆▇██████████▇███████</td></tr><tr><td>val/epoch_Recall_7</td><td>▁▁▁▁▁▁▁▁▁▁▁▁▁▁▁▁▁▁▁▁▁▁▁▁▁▁▁▁▁▁▁▁▁▁▁▁▁▁▁▁</td></tr><tr><td>val/epoch_Recall_8</td><td>▁▁▁▁▁▁▁▁▁▁▁▁▁▁▁▁▁▁▁▁▁▁▁▁▁▁▁▁▁▁▁▁▁▁▁▁▁▁▁▁</td></tr><tr><td>val/epoch_Recall_9</td><td>▁▃▆▇▄▇▇▇▆██▇█▇█▇██▇█▇▇▇███▇▇█▇▇▇▇▇█▇█▇██</td></tr><tr><td>val/epoch_TN_0</td><td>█▅▄▃▅▁▃▃▁▂▁▃▂▄▄▃▆▁▅▄▃▄▄▄▂▂▅▄▅▄▄▄▃▃▄▄▃▄▄▄</td></tr><tr><td>val/epoch_TN_1</td><td>█▆▄▄▇▃▃▄▆▃▄▄▃▄▃▄▁▃▄▃▄▄▄▄▁▄▄▄▃▅▅▄▃▄▄▄▃▄▄▄</td></tr><tr><td>val/epoch_TN_10</td><td>█▄▅▄▆▂▅▄▁▄▃▅▂▅▅▄▆▄▆▅▆▅▅▅▄▄▆▅▅▅▅▅▄▄▅▅▄▅▅▅</td></tr><tr><td>val/epoch_TN_11</td><td>██████▆▇█▅▅▅█▆▆▅▆▃▅▅▁▅▄▅▅▆▅▅▆▆▆▆▆▅▅▅▆▆▆▆</td></tr><tr><td>val/epoch_TN_12</td><td>█▆▄▃▇▃▃▃▅▃▃▄▂▃▂▃▂▃▄▃▄▃▄▄▁▃▄▄▂▄▄▄▃▄▄▄▂▄▄▄</td></tr><tr><td>val/epoch_TN_13</td><td>█████████▆▆▅▇▆▄▅▁▄▅▅▄▄▅▅▄▅▅▅▆▅▅▅▄▅▄▅▄▅▄▅</td></tr><tr><td>val/epoch_TN_2</td><td>▁▁▁▁▁▁▁▁▁▁▁▁▁▁▁▁▁▁▁▁▁▁▁▁▁▁▁▁▁▁▁▁▁▁▁▁▁▁▁▁</td></tr><tr><td>val/epoch_TN_3</td><td>█████▆▃▄▆▃▂▂▆▅▂▄▅▃▃▄▁▂▅▄▃▃▄▄▅▅▅▅▂▄▄▅▂▄▃▄</td></tr><tr><td>val/epoch_TN_4</td><td>███▆█▅▅▅▇▄▅▆▂▇▆▆▁▅▆▆▇▆▆▆▄▆▆▆▄▅▆▆▆▆▆▆▆▆▆▆</td></tr><tr><td>val/epoch_TN_5</td><td>█████████▇███▇▆▆▄▆▆▃▇▇▃▄▁▃▂▂▃▁▄▃▄▂▁▂▂▄▂▃</td></tr><tr><td>val/epoch_TN_6</td><td>█████████████▄▂▁▂▅▅▃▅▅▅▅▂▅▆▆▅▆▆▆▆▆▆▆▆▆▅▆</td></tr><tr><td>val/epoch_TN_7</td><td>▁▁▁▁▁▁▁▁▁▁▁▁▁▁▁▁▁▁▁▁▁▁▁▁▁▁▁▁▁▁▁▁▁▁▁▁▁▁▁▁</td></tr><tr><td>val/epoch_TN_8</td><td>▁▁▁▁▁▁▁▁▁▁▁▁▁▁▁▁▁▁▁▁▁▁▁▁▁▁▁▁▁▁▁▁▁▁▁▁▁▁▁▁</td></tr><tr><td>val/epoch_TN_9</td><td>█▇▄▃▇▃▃▄▆▃▄▄▃▄▃▄▁▃▄▃▄▄▄▄▁▄▄▄▃▅▅▄▃▄▄▄▃▄▄▄</td></tr><tr><td>val/epoch_TP_0</td><td>▁▅▆▇▆▇▇█▇████▇▇█▆█▇█▇█████▇█▇▇███████▇██</td></tr><tr><td>val/epoch_TP_1</td><td>▁▅▆▇▄▇█▇▆██▇█▇█▇██▇█▇▇▇██▇▇██▇▇▇█▇███▇██</td></tr><tr><td>val/epoch_TP_10</td><td>▁▆▇▇▆█▇██▇█▇█▇▇█▆█▇█▇█▇███▇█▇████████▇██</td></tr><tr><td>val/epoch_TP_11</td><td>▁▁▁▁▁▁▅▅▂▆▆▆▃▆▆▆▅▇▆▆█▆▇▇▇▇▇▇▅▆▆▆▆▇▇▇▅▆▇▇</td></tr><tr><td>val/epoch_TP_12</td><td>▁▄▆▇▄▇▇▇▆▇█▇█▇██▇█▇█▇▇▇▇█▇▇▇█▇▇▇▇▇█▇█▇██</td></tr><tr><td>val/epoch_TP_13</td><td>▁▁▁▁▁▁▁▁▁▅▆▇▄▆▇▇█▇▇▇▇▇▇▇▇▇▇▇▅▇▇▇▇▇█▇▆▇█▇</td></tr><tr><td>val/epoch_TP_2</td><td>▁▁▁▁▁▁▁▁▁▁▁▁▁▁▁▁▁▁▁▁▁▁▁▁▁▁▁▁▁▁▁▁▁▁▁▁▁▁▁▁</td></tr><tr><td>val/epoch_TP_3</td><td>▁▁▁▁▁▂▄▅▃▆▇▇▅▅█▇▅▇▇▇█▇▇▇▇▇▇▇▆▆▇▇▇▇█▇█▇██</td></tr><tr><td>val/epoch_TP_4</td><td>▁▁▂▃▁▄▅▅▄▆▆▅▇▅▆▆█▇▆▇▄▆▇▇▇▆▇▇█▇▇▇▆▆▇▇▆▇▇▇</td></tr><tr><td>val/epoch_TP_5</td><td>▁▁▁▁▁▁▁▁▁▂▂▂▁▂▃▄▄▄▅▆▃▄▆▆▇▇█▇▇▇▇█▇███▇▇██</td></tr><tr><td>val/epoch_TP_6</td><td>▁▁▁▁▁▁▁▁▁▁▁▁▁▃▆▆▇▇▇█▇▇██████████████████</td></tr><tr><td>val/epoch_TP_7</td><td>▁▁▁▁▁▁▁▁▁▁▁▁▁▁▁▁▁▁▁▁▁▁▁▁▁▁▁▁▁▁▁▁▁▁▁▁▁▁▁▁</td></tr><tr><td>val/epoch_TP_8</td><td>▁▁▁▁▁▁▁▁▁▁▁▁▁▁▁▁▁▁▁▁▁▁▁▁▁▁▁▁▁▁▁▁▁▁▁▁▁▁▁▁</td></tr><tr><td>val/epoch_TP_9</td><td>▁▄▆▇▄▇▇▇▆▇▇▇█▇█▇██▇█▇▇▇██▇▇▇█▇▇▇█▇███▇██</td></tr><tr><td>val/epoch_loss</td><td>█▃▂▂▃▂▁▁▂▁▁▁▁▁▁▁▂▁▁▁▂▁▁▁▁▁▁▁▁▁▁▁▁▁▁▁▁▁▁▁</td></tr><tr><td>val/iter_F1_0</td><td>▁▆▇▇▇▇██▇███████▇███████████████████████</td></tr><tr><td>val/iter_F1_1</td><td>▁▆▇▇▆▇██▇███████▇███████████████████████</td></tr><tr><td>val/iter_F1_10</td><td>▁▆▇▇▇▇██▇███████▇▇██▇███████████████████</td></tr><tr><td>val/iter_F1_11</td><td>▁▁▁▁▁▂▆▇▄▇▇▇▄▇▇▇▆▇▇▇▇▇███▇██▆▇██▇▇██▇▇██</td></tr><tr><td>val/iter_F1_12</td><td>▁▅▇▇▅▇██▇███████▇███████████████████████</td></tr><tr><td>val/iter_F1_13</td><td>▁▁▁▁▁▁▁▁▁▆▇▇▅█▇▇▇▇▇▇████▇███▆███▇███▆███</td></tr><tr><td>val/iter_F1_2</td><td>▁▁▁▁▁▁▁▁▁▁▁▁▁▁▁▁▁▁▁▁▁▁▁▁▁▁▁▁▁▁▁▁▁▁▁▁▁▁▁▁</td></tr><tr><td>val/iter_F1_3</td><td>▁▁▁▁▁▂▅▆▄▆▇▇▆▇▇█▆▇██▇▇██▇▇██▇▇██▇███▇███</td></tr><tr><td>val/iter_F1_4</td><td>▁▁▂▄▁▅▆▆▅▆▆▆▇▇▇▇▇▇▇█▆▇███▇██████▇███▇███</td></tr><tr><td>val/iter_F1_5</td><td>▁▁▁▁▁▁▁▁▁▃▂▃▁▃▄▅▅▅▆▇▄▅▇▇▇▇███▇██████████</td></tr><tr><td>val/iter_F1_6</td><td>▁▁▁▁▁▁▁▁▁▁▁▁▁▃▅▅▆▇▇▇▇█▇█▇███████████████</td></tr><tr><td>val/iter_F1_7</td><td>▁▁▁▁▁▁▁▁▁▁▁▁▁▁▁▁▁▁▁▁▁▁▁▁▁▁▁▁▁▁▁▁▁▁▁▁▁▁▁▁</td></tr><tr><td>val/iter_F1_8</td><td>▁▁▁▁▁▁▁▁▁▁▁▁▁▁▁▁▁▁▁▁▁▁▁▁▁▁▁▁▁▁▁▁▁▁▁▁▁▁▁▁</td></tr><tr><td>val/iter_F1_9</td><td>▁▅▇▇▆▇██▇███████▇███████████████████████</td></tr><tr><td>val/iter_FN_0</td><td>█▄▃▂▃▂▂▁▂▁▁▁▁▂▂▁▃▁▂▁▂▁▁▁▁▁▂▁▂▂▁▁▁▁▁▁▁▂▁▁</td></tr><tr><td>val/iter_FN_1</td><td>█▄▃▂▅▂▁▂▃▁▁▂▁▂▁▂▁▁▂▁▂▂▂▁▁▂▂▁▁▂▂▂▁▂▁▁▁▂▁▁</td></tr><tr><td>val/iter_FN_10</td><td>█▃▂▂▃▁▂▁▁▂▁▂▁▂▂▁▃▁▂▁▂▁▂▁▁▁▂▁▂▁▁▁▁▁▁▁▁▂▁▁</td></tr><tr><td>val/iter_FN_11</td><td>██████▄▄▇▃▃▃▆▃▃▃▄▂▃▃▁▃▂▂▂▂▂▂▄▃▃▃▃▂▂▂▄▃▂▂</td></tr><tr><td>val/iter_FN_12</td><td>█▅▃▂▅▂▂▂▃▂▁▂▁▂▁▁▂▁▂▁▂▂▂▂▁▂▂▂▁▂▂▂▂▂▁▂▁▂▁▁</td></tr><tr><td>val/iter_FN_13</td><td>█████████▄▃▂▅▃▂▂▁▂▂▂▂▂▂▂▂▂▂▂▄▂▂▂▂▂▁▂▃▂▁▂</td></tr><tr><td>val/iter_FN_2</td><td>▁▁▁▁▁▁▁▁▁▁▁▁▁▁▁▁▁▁▁▁▁▁▁▁▁▁▁▁▁▁▁▁▁▁▁▁▁▁▁▁</td></tr><tr><td>val/iter_FN_3</td><td>█████▇▅▄▆▃▂▂▄▄▁▂▄▂▂▂▁▂▂▂▂▂▂▂▃▃▂▂▁▂▁▂▁▂▁▁</td></tr><tr><td>val/iter_FN_4</td><td>██▇▆█▅▄▄▅▃▃▄▂▄▃▃▁▂▃▂▅▃▂▂▂▂▂▂▁▂▂▂▃▃▂▂▃▂▂▂</td></tr><tr><td>val/iter_FN_5</td><td>█████████▇▇▇█▇▆▅▅▅▄▃▆▅▃▃▂▂▁▂▂▂▂▁▂▁▁▁▂▂▁▁</td></tr><tr><td>val/iter_FN_6</td><td>█████████████▆▃▃▂▂▂▁▂▂▁▁▁▁▁▁▁▁▁▁▁▁▁▁▁▁▁▁</td></tr><tr><td>val/iter_FN_7</td><td>▁▁▁▁▁▁▁▁▁▁▁▁▁▁▁▁▁▁▁▁▁▁▁▁▁▁▁▁▁▁▁▁▁▁▁▁▁▁▁▁</td></tr><tr><td>val/iter_FN_8</td><td>▁▁▁▁▁▁▁▁▁▁▁▁▁▁▁▁▁▁▁▁▁▁▁▁▁▁▁▁▁▁▁▁▁▁▁▁▁▁▁▁</td></tr><tr><td>val/iter_FN_9</td><td>█▅▃▂▅▂▂▂▄▂▂▂▁▂▁▂▁▁▂▁▂▂▂▁▁▂▂▂▁▂▂▂▁▂▁▁▁▂▁▁</td></tr><tr><td>val/iter_FP_0</td><td>▁▄▅▆▄█▆▆█▇█▆▇▅▅▆▃█▄▅▆▅▆▅▇▇▄▅▄▅▅▅▆▆▅▅▆▅▅▅</td></tr><tr><td>val/iter_FP_1</td><td>▁▃▅▅▂▆▆▅▃▆▅▅▆▅▆▅█▆▅▆▅▅▅▅█▅▅▅▆▄▄▅▆▅▅▅▆▅▅▅</td></tr><tr><td>val/iter_FP_10</td><td>▁▅▅▅▃▇▄▅█▅▆▄▇▄▄▅▃▆▃▄▃▄▄▄▆▅▃▄▄▄▄▄▅▅▄▄▅▄▄▄</td></tr><tr><td>val/iter_FP_11</td><td>▁▁▁▁▁▁▃▂▁▄▄▄▁▃▃▄▃▆▄▄█▄▅▄▄▃▄▄▃▃▃▃▃▄▄▄▃▃▃▃</td></tr><tr><td>val/iter_FP_12</td><td>▁▃▅▆▂▆▆▆▄▆▆▅▇▆▇▆▇▆▅▆▅▆▅▅█▆▅▅▇▅▅▅▆▅▅▅▇▅▅▅</td></tr><tr><td>val/iter_FP_13</td><td>▁▁▁▁▁▁▁▁▁▃▃▄▂▃▅▄█▅▄▄▅▅▄▄▅▄▄▄▃▄▄▄▅▄▅▄▅▄▅▄</td></tr><tr><td>val/iter_FP_2</td><td>▁▁▁▁▁▁▁▁▁▁▁▁▁▁▁▁▁▁▁▁▁▁▁▁▁▁▁▁▁▁▁▁▁▁▁▁▁▁▁▁</td></tr><tr><td>val/iter_FP_3</td><td>▁▁▁▁▁▃▆▅▃▆▇▇▃▄▇▅▄▆▆▅█▇▄▅▆▆▅▅▄▄▄▄▇▅▅▄▇▅▆▅</td></tr><tr><td>val/iter_FP_4</td><td>▁▁▁▃▁▄▄▄▂▅▄▃▇▂▃▃█▄▃▃▂▃▃▃▅▃▃▃▅▄▃▃▃▃▃▃▃▃▃▃</td></tr><tr><td>val/iter_FP_5</td><td>▁▁▁▁▁▁▁▁▁▂▁▁▁▂▃▃▅▃▃▆▂▂▆▅█▆▇▇▆█▅▆▅▇█▇▇▅▇▆</td></tr><tr><td>val/iter_FP_6</td><td>▁▁▁▁▁▁▁▁▁▁▁▁▁▅▇█▇▄▄▆▄▄▄▄▇▄▃▃▄▃▃▃▃▃▃▃▃▃▄▃</td></tr><tr><td>val/iter_FP_7</td><td>▁▁▁▁▁▁▁▁▁▁▁▁▁▁▁▁▁▁▁▁▁▁▁▁▁▁▁▁▁▁▁▁▁▁▁▁▁▁▁▁</td></tr><tr><td>val/iter_FP_8</td><td>▁▁▁▁▁▁▁▁▁▁▁▁▁▁▁▁▁▁▁▁▁▁▁▁▁▁▁▁▁▁▁▁▁▁▁▁▁▁▁▁</td></tr><tr><td>val/iter_FP_9</td><td>▁▂▅▆▂▆▆▅▃▆▅▅▆▅▆▅█▆▅▆▅▅▅▅█▅▅▅▆▄▅▅▆▅▅▅▆▅▅▅</td></tr><tr><td>val/iter_IoU_0</td><td>▁▅▇▇▇▇▇▇▇▇▇█▇███▇▇██▇███████████████████</td></tr><tr><td>val/iter_IoU_1</td><td>▁▅▇▇▅▇▇█▆▇██████▇███████▇███▇███████████</td></tr><tr><td>val/iter_IoU_10</td><td>▁▆▇▇▆▇▇█▇▇▇█▇███▇▇▇█▇███████▇███████████</td></tr><tr><td>val/iter_IoU_11</td><td>▁▁▁▁▁▂▆▆▃▇▇▇▄▇▇▇▆▇▇▇▇▆█▇█▇██▆▇▇█▇▇██▆▇██</td></tr><tr><td>val/iter_IoU_12</td><td>▁▄▆▇▄▇▇▇▆▇██▇▇██▇███▇███████▇███████████</td></tr><tr><td>val/iter_IoU_13</td><td>▁▁▁▁▁▁▁▁▁▆▇▇▅█▇▇▆▇▇▇▇▇██▇███▆███▇███▆███</td></tr><tr><td>val/iter_IoU_2</td><td>▁▁▁▁▁▁▁▁▁▁▁▁▁▁▁▁▁▁▁▁▁▁▁▁▁▁▁▁▁▁▁▁▁▁▁▁▁▁▁▁</td></tr><tr><td>val/iter_IoU_3</td><td>▁▁▁▁▁▂▄▅▄▆▇▇▆▆▇▇▆▇▇█▇▇██▇▇▇█▇▇██▇███▇███</td></tr><tr><td>val/iter_IoU_4</td><td>▁▁▂▄▁▄▅▅▄▆▆▆▆▆▇▇▆▇▇▇▅▇██▇▇██▇▇██▇▇██▇███</td></tr><tr><td>val/iter_IoU_5</td><td>▁▁▁▁▁▁▁▁▁▂▂▂▁▂▄▄▄▅▅▆▃▄▇▇▇▇█▇█▇██████▇███</td></tr><tr><td>val/iter_IoU_6</td><td>▁▁▁▁▁▁▁▁▁▁▁▁▁▂▅▅▅▆▇▆▆▇▇▇▇███▇███▇███████</td></tr><tr><td>val/iter_IoU_7</td><td>▁▁▁▁▁▁▁▁▁▁▁▁▁▁▁▁▁▁▁▁▁▁▁▁▁▁▁▁▁▁▁▁▁▁▁▁▁▁▁▁</td></tr><tr><td>val/iter_IoU_8</td><td>▁▁▁▁▁▁▁▁▁▁▁▁▁▁▁▁▁▁▁▁▁▁▁▁▁▁▁▁▁▁▁▁▁▁▁▁▁▁▁▁</td></tr><tr><td>val/iter_IoU_9</td><td>▁▄▇▇▅▇▇█▆▇██████▇███████▇███▇███████████</td></tr><tr><td>val/iter_Precision_0</td><td>▁▇▇▇▇▇▇▇▆▇▇▇▇▇▇▇█▇█▇▇▇▇▇▇▇█▇█▇▇▇▇▇█▇▇█▇▇</td></tr><tr><td>val/iter_Precision_1</td><td>▁▇▇▇█▆▇▇▇▆▇▇▆▇▆▇▆▇▇▇▇▇▇▇▆▇▇▇▆▇▇▇▇▇▇▇▆▇▇▇</td></tr><tr><td>val/iter_Precision_10</td><td>▁▆▇▇█▆▇▇▆▇▇▇▆▇▇▇█▇█▇▇▇▇▇▇▇█▇▇▇▇▇▇▇▇▇▇▇▇▇</td></tr><tr><td>val/iter_Precision_11</td><td>▁▁▁▁▁▆▆▆█▅▆▆▆▆▆▆▆▆█▆▅▆▆▆▆█▆▇▇▇█▇▆▆▆▇█▇▇▇</td></tr><tr><td>val/iter_Precision_12</td><td>▁▇▇▆█▆▆▆▇▆▆▇▆▆▆▇▆▆▇▆▇▇▇▇▆▆▇▇▆▇▇▇▇▇▇▇▆▇▇▇</td></tr><tr><td>val/iter_Precision_13</td><td>▁▁▁▁▁▁▂█▇▇▇▆▆▇▆▇▅▆▆▆▆▆▇▇▅▇▇▇▆▇▇▇▆▇▆▇▆▇▆▇</td></tr><tr><td>val/iter_Precision_2</td><td>▁▁▁▁▁▁▁▁▁▁▁▁▁▁▁▁▁▁▁▁▁▁▁▁▁▁▁▁▁▁▁▁▁▁▁▁▁▁▁▁</td></tr><tr><td>val/iter_Precision_3</td><td>▁▁▁▂▁▃▅▆▆▆▆▆██▆▇▇▇▇▇▆▆██▆▇▇▇▇███▆▇▇█▆▇▇▇</td></tr><tr><td>val/iter_Precision_4</td><td>▁▁▆▆▇▅▆▆▇▆▆▇▅█▇▇▅▇█▇█▇▇▇▆▇█▇▆▇▇▇▇█▇▇▇▇▇▇</td></tr><tr><td>val/iter_Precision_5</td><td>▁▁▁▁▁▁▁▄▂▆▇█▃▆▇▇▆██▇▇█▇▇▇▇▇▇▇▇▇▇█▇▇▇▇▇▇▇</td></tr><tr><td>val/iter_Precision_6</td><td>▁▁▁▁▁▁▁▁▁▁▁▁▁▄▅▅▆▇▇▆▇█▇▇▆▇██▇█████████▇█</td></tr><tr><td>val/iter_Precision_7</td><td>▁▁▁▁▁▁▁▁▁▁▁▁▁▁▁▁▁▁▁▁▁▁▁▁▁▁▁▁▁▁▁▁▁▁▁▁▁▁▁▁</td></tr><tr><td>val/iter_Precision_8</td><td>▁▁▁▁▁▁▁▁▁▁▁▁▁▁▁▁▁▁▁▁▁▁▁▁▁▁▁▁▁▁▁▁▁▁▁▁▁▁▁▁</td></tr><tr><td>val/iter_Precision_9</td><td>▁█▇▇█▆▇▇▇▇▇▇▇▇▆▇▆▇▇▇▇▇▇▇▆▇▇▇▇▇▇▇▇▇▇▇▆▇▇▇</td></tr><tr><td>val/iter_Recall_0</td><td>▁▅▆▇▆▇▇█▇████▇▇█▆█▇█▇█████▇█▇▇█▇█████▇██</td></tr><tr><td>val/iter_Recall_1</td><td>▁▅▆▇▄▇█▇▆██▇█▇████▇█▇▇▇███▇██▇▇▇█▇███▇██</td></tr><tr><td>val/iter_Recall_10</td><td>▁▆▇▇▆█▇██▇█▇█▇▇█▆▇▇▇▆▇▇▇██▇▇▇▇█▇██▇██▇██</td></tr><tr><td>val/iter_Recall_11</td><td>▁▁▁▁▁▂▅▅▃▇▆▆▃▆▆▇▅▇▅▆█▆▇▇▇▆▇▇▅▆▆▇▇▇▇▇▅▆▇▇</td></tr><tr><td>val/iter_Recall_12</td><td>▁▄▆▇▄▇▇▇▆▇█▇█▇██▇█▇█▇▇▇▇██▇▇█▇▇▇▇▇█▇█▇██</td></tr><tr><td>val/iter_Recall_13</td><td>▁▁▁▁▁▁▁▁▁▅▆▇▄▆▇▇█▇▇▇▇▇█▇▇▇▇▇▅▇▇▇▇▇█▇▆▇█▇</td></tr><tr><td>val/iter_Recall_2</td><td>▁▁▁▁▁▁▁▁▁▁▁▁▁▁▁▁▁▁▁▁▁▁▁▁▁▁▁▁▁▁▁▁▁▁▁▁▁▁▁▁</td></tr><tr><td>val/iter_Recall_3</td><td>▁▁▁▁▁▂▄▅▃▆▇▇▅▆█▇▅▇▇██▇▇▇▇▇▇▇▆▆▇▇▇▇█▇█▇██</td></tr><tr><td>val/iter_Recall_4</td><td>▁▁▁▃▁▄▅▅▄▆▆▅▇▅▆▆█▇▆▇▄▆▇▇▇▇▇▇█▇▇▇▆▆▇▇▆▇▇▇</td></tr><tr><td>val/iter_Recall_5</td><td>▁▁▁▁▁▁▁▁▁▂▁▂▁▂▃▄▄▄▅▆▃▄▆▆▇▇█▇▇▇▇▇▇███▇▇██</td></tr><tr><td>val/iter_Recall_6</td><td>▁▁▁▁▁▁▁▁▁▁▁▁▁▃▆▆▇▇▇█▆▇██████████▇███████</td></tr><tr><td>val/iter_Recall_7</td><td>▁▁▁▁▁▁▁▁▁▁▁▁▁▁▁▁▁▁▁▁▁▁▁▁▁▁▁▁▁▁▁▁▁▁▁▁▁▁▁▁</td></tr><tr><td>val/iter_Recall_8</td><td>▁▁▁▁▁▁▁▁▁▁▁▁▁▁▁▁▁▁▁▁▁▁▁▁▁▁▁▁▁▁▁▁▁▁▁▁▁▁▁▁</td></tr><tr><td>val/iter_Recall_9</td><td>▁▄▆▇▄▇▇▇▆▇▇▇█▇█▇██▇█▇▇▇██▇▇▇█▇▇▇█▇███▇██</td></tr><tr><td>val/iter_TN_0</td><td>█▅▄▃▅▁▃▃▁▂▁▃▂▄▄▃▆▁▅▄▃▄▃▄▂▂▅▄▅▄▄▄▃▃▄▄▃▄▄▄</td></tr><tr><td>val/iter_TN_1</td><td>█▆▄▄▇▃▃▄▆▃▄▄▃▄▃▄▁▃▄▃▄▄▄▄▁▄▄▄▃▅▅▄▃▄▄▄▃▄▄▄</td></tr><tr><td>val/iter_TN_10</td><td>█▄▄▄▆▂▅▄▁▄▃▅▂▅▅▄▆▃▆▅▆▅▅▅▃▄▆▅▅▅▅▅▄▄▅▅▄▅▅▅</td></tr><tr><td>val/iter_TN_11</td><td>██████▆▇█▅▅▅█▆▆▅▆▃▅▅▁▅▄▅▅▆▅▅▆▆▆▆▆▅▅▅▆▆▆▆</td></tr><tr><td>val/iter_TN_12</td><td>█▆▄▃▇▃▃▃▅▃▃▄▂▃▂▃▂▃▄▃▄▃▄▄▁▃▄▄▂▄▄▄▃▄▄▄▂▄▄▄</td></tr><tr><td>val/iter_TN_13</td><td>█████████▆▆▅▇▆▄▅▁▄▅▅▄▄▅▅▄▅▅▅▆▅▅▅▄▅▄▅▄▅▄▅</td></tr><tr><td>val/iter_TN_2</td><td>▁▁▁▁▁▁▁▁▁▁▁▁▁▁▁▁▁▁▁▁▁▁▁▁▁▁▁▁▁▁▁▁▁▁▁▁▁▁▁▁</td></tr><tr><td>val/iter_TN_3</td><td>█████▆▃▄▆▃▂▂▆▅▂▄▅▃▃▄▁▂▅▄▃▃▄▄▅▅▅▅▂▄▄▅▂▄▃▄</td></tr><tr><td>val/iter_TN_4</td><td>███▆█▅▅▅▇▄▅▆▂▇▆▆▁▅▆▆▇▆▆▆▄▆▆▆▄▅▆▆▆▆▆▆▆▆▆▆</td></tr><tr><td>val/iter_TN_5</td><td>█████████▇███▇▆▆▄▆▆▃▇▇▃▄▁▃▂▂▃▁▄▃▄▂▁▂▂▄▂▃</td></tr><tr><td>val/iter_TN_6</td><td>█████████████▄▂▁▂▅▅▃▅▅▅▅▂▅▆▆▅▆▆▆▆▆▆▆▆▆▅▆</td></tr><tr><td>val/iter_TN_7</td><td>▁▁▁▁▁▁▁▁▁▁▁▁▁▁▁▁▁▁▁▁▁▁▁▁▁▁▁▁▁▁▁▁▁▁▁▁▁▁▁▁</td></tr><tr><td>val/iter_TN_8</td><td>▁▁▁▁▁▁▁▁▁▁▁▁▁▁▁▁▁▁▁▁▁▁▁▁▁▁▁▁▁▁▁▁▁▁▁▁▁▁▁▁</td></tr><tr><td>val/iter_TN_9</td><td>█▇▄▃▇▃▃▄▆▃▄▄▃▄▃▄▁▃▄▃▄▄▄▄▁▄▄▄▃▅▄▄▃▄▄▄▃▄▄▄</td></tr><tr><td>val/iter_TP_0</td><td>▁▅▆▇▆▇▇█▇████▇▇█▆█▇█▇█████▇█▇▇███████▇██</td></tr><tr><td>val/iter_TP_1</td><td>▁▅▆▇▄▇█▇▆██▇█▇█▇██▇█▇▇▇██▇▇██▇▇▇█▇███▇██</td></tr><tr><td>val/iter_TP_10</td><td>▁▆▇▇▆█▇██▇█▇█▇▇█▆█▇█▇█▇███▇█▇████████▇██</td></tr><tr><td>val/iter_TP_11</td><td>▁▁▁▁▁▁▅▅▂▆▆▆▃▆▆▆▅▇▆▆█▆▇▇▇▇▇▇▅▆▆▆▆▇▇▇▅▆▇▇</td></tr><tr><td>val/iter_TP_12</td><td>▁▄▆▇▄▇▇▇▆▇█▇█▇██▇█▇█▇▇▇▇█▇▇▇█▇▇▇▇▇█▇█▇██</td></tr><tr><td>val/iter_TP_13</td><td>▁▁▁▁▁▁▁▁▁▅▆▇▄▆▇▇█▇▇▇▇▇▇▇▇▇▇▇▅▇▇▇▇▇█▇▆▇█▇</td></tr><tr><td>val/iter_TP_2</td><td>▁▁▁▁▁▁▁▁▁▁▁▁▁▁▁▁▁▁▁▁▁▁▁▁▁▁▁▁▁▁▁▁▁▁▁▁▁▁▁▁</td></tr><tr><td>val/iter_TP_3</td><td>▁▁▁▁▁▂▄▅▃▆▇▇▅▅█▇▅▇▇▇█▇▇▇▇▇▇▇▆▆▇▇█▇█▇█▇██</td></tr><tr><td>val/iter_TP_4</td><td>▁▁▂▃▁▄▅▅▄▆▆▅▇▅▆▆█▇▆▇▄▆▇▇▇▇▇▇█▇▇▇▆▆▇▇▆▇▇▇</td></tr><tr><td>val/iter_TP_5</td><td>▁▁▁▁▁▁▁▁▁▂▂▂▁▂▃▄▄▄▅▆▃▄▆▆▇▇█▇▇▇▇█▇███▇▇██</td></tr><tr><td>val/iter_TP_6</td><td>▁▁▁▁▁▁▁▁▁▁▁▁▁▃▆▆▇▇▇█▇▇██████████████████</td></tr><tr><td>val/iter_TP_7</td><td>▁▁▁▁▁▁▁▁▁▁▁▁▁▁▁▁▁▁▁▁▁▁▁▁▁▁▁▁▁▁▁▁▁▁▁▁▁▁▁▁</td></tr><tr><td>val/iter_TP_8</td><td>▁▁▁▁▁▁▁▁▁▁▁▁▁▁▁▁▁▁▁▁▁▁▁▁▁▁▁▁▁▁▁▁▁▁▁▁▁▁▁▁</td></tr><tr><td>val/iter_TP_9</td><td>▁▄▆▇▄▇▇▇▅▇▇▇█▇█▇██▇█▇▇▇██▇▇▇█▇▇▇█▇███▇██</td></tr><tr><td>val/iter_loss</td><td>█▃▂▂▂▂▁▁▂▁▁▁▁▁▁▁▂▁▁▁▂▁▁▁▁▁▁▁▁▁▁▁▁▁▁▁▁▁▁▁</td></tr><tr><td>val/mean_F1</td><td>▁▄▄▅▄▅▆▆▅▆▆▇▆▇▇▇▇▇▇█▇▇██▇███▇███████████</td></tr><tr><td>val/mean_IoU</td><td>▁▃▄▅▄▅▆▆▅▆▆▆▆▆▇▇▆▇▇▇▇▇██▇▇██▇▇██▇███▇███</td></tr></table><br/></div><div class=\"wandb-col\"><h3>Run summary:</h3><br/><table class=\"wandb\"><tr><td>epoch</td><td>199</td></tr><tr><td>lr-AdamW</td><td>2e-05</td></tr><tr><td>train/epoch_F1_0</td><td>0.82136</td></tr><tr><td>train/epoch_F1_1</td><td>0.85761</td></tr><tr><td>train/epoch_F1_10</td><td>0.82494</td></tr><tr><td>train/epoch_F1_11</td><td>0.66536</td></tr><tr><td>train/epoch_F1_12</td><td>0.85234</td></tr><tr><td>train/epoch_F1_13</td><td>0.77655</td></tr><tr><td>train/epoch_F1_2</td><td>0.0</td></tr><tr><td>train/epoch_F1_3</td><td>0.83713</td></tr><tr><td>train/epoch_F1_4</td><td>0.83511</td></tr><tr><td>train/epoch_F1_5</td><td>0.82785</td></tr><tr><td>train/epoch_F1_6</td><td>0.72044</td></tr><tr><td>train/epoch_F1_7</td><td>0.0</td></tr><tr><td>train/epoch_F1_8</td><td>0.0</td></tr><tr><td>train/epoch_F1_9</td><td>0.85773</td></tr><tr><td>train/epoch_FN_0</td><td>10245.77539</td></tr><tr><td>train/epoch_FN_1</td><td>8565.27539</td></tr><tr><td>train/epoch_FN_10</td><td>8599.9502</td></tr><tr><td>train/epoch_FN_11</td><td>2924.52515</td></tr><tr><td>train/epoch_FN_12</td><td>7776.4751</td></tr><tr><td>train/epoch_FN_13</td><td>2463.77515</td></tr><tr><td>train/epoch_FN_2</td><td>0.0</td></tr><tr><td>train/epoch_FN_3</td><td>4940.875</td></tr><tr><td>train/epoch_FN_4</td><td>4163.1001</td></tr><tr><td>train/epoch_FN_5</td><td>1185.67505</td></tr><tr><td>train/epoch_FN_6</td><td>590.52502</td></tr><tr><td>train/epoch_FN_7</td><td>0.0</td></tr><tr><td>train/epoch_FN_8</td><td>0.0</td></tr><tr><td>train/epoch_FN_9</td><td>8524.60059</td></tr><tr><td>train/epoch_FP_0</td><td>17616.27539</td></tr><tr><td>train/epoch_FP_1</td><td>21049.22461</td></tr><tr><td>train/epoch_FP_10</td><td>13645.77539</td></tr><tr><td>train/epoch_FP_11</td><td>4206.4502</td></tr><tr><td>train/epoch_FP_12</td><td>17291.02539</td></tr><tr><td>train/epoch_FP_13</td><td>4544.0</td></tr><tr><td>train/epoch_FP_2</td><td>0.0</td></tr><tr><td>train/epoch_FP_3</td><td>9602.35059</td></tr><tr><td>train/epoch_FP_4</td><td>8367.90039</td></tr><tr><td>train/epoch_FP_5</td><td>2170.17505</td></tr><tr><td>train/epoch_FP_6</td><td>1438.17505</td></tr><tr><td>train/epoch_FP_7</td><td>0.0</td></tr><tr><td>train/epoch_FP_8</td><td>0.0</td></tr><tr><td>train/epoch_FP_9</td><td>21075.72461</td></tr><tr><td>train/epoch_IoU_0</td><td>0.69817</td></tr><tr><td>train/epoch_IoU_1</td><td>0.75095</td></tr><tr><td>train/epoch_IoU_10</td><td>0.70386</td></tr><tr><td>train/epoch_IoU_11</td><td>0.52355</td></tr><tr><td>train/epoch_IoU_12</td><td>0.74302</td></tr><tr><td>train/epoch_IoU_13</td><td>0.64979</td></tr><tr><td>train/epoch_IoU_2</td><td>0.0</td></tr><tr><td>train/epoch_IoU_3</td><td>0.72069</td></tr><tr><td>train/epoch_IoU_4</td><td>0.71745</td></tr><tr><td>train/epoch_IoU_5</td><td>0.7229</td></tr><tr><td>train/epoch_IoU_6</td><td>0.64019</td></tr><tr><td>train/epoch_IoU_7</td><td>0.0</td></tr><tr><td>train/epoch_IoU_8</td><td>0.0</td></tr><tr><td>train/epoch_IoU_9</td><td>0.75113</td></tr><tr><td>train/epoch_Precision_0</td><td>0.78437</td></tr><tr><td>train/epoch_Precision_1</td><td>0.80905</td></tr><tr><td>train/epoch_Precision_10</td><td>0.79779</td></tr><tr><td>train/epoch_Precision_11</td><td>0.63045</td></tr><tr><td>train/epoch_Precision_12</td><td>0.80706</td></tr><tr><td>train/epoch_Precision_13</td><td>0.73426</td></tr><tr><td>train/epoch_Precision_2</td><td>0.0</td></tr><tr><td>train/epoch_Precision_3</td><td>0.79545</td></tr><tr><td>train/epoch_Precision_4</td><td>0.79102</td></tr><tr><td>train/epoch_Precision_5</td><td>0.78883</td></tr><tr><td>train/epoch_Precision_6</td><td>0.68753</td></tr><tr><td>train/epoch_Precision_7</td><td>0.0</td></tr><tr><td>train/epoch_Precision_8</td><td>0.0</td></tr><tr><td>train/epoch_Precision_9</td><td>0.80888</td></tr><tr><td>train/epoch_Recall_0</td><td>0.8633</td></tr><tr><td>train/epoch_Recall_1</td><td>0.91279</td></tr><tr><td>train/epoch_Recall_10</td><td>0.85641</td></tr><tr><td>train/epoch_Recall_11</td><td>0.71239</td></tr><tr><td>train/epoch_Recall_12</td><td>0.90352</td></tr><tr><td>train/epoch_Recall_13</td><td>0.83194</td></tr><tr><td>train/epoch_Recall_2</td><td>0.0</td></tr><tr><td>train/epoch_Recall_3</td><td>0.88412</td></tr><tr><td>train/epoch_Recall_4</td><td>0.88544</td></tr><tr><td>train/epoch_Recall_5</td><td>0.87558</td></tr><tr><td>train/epoch_Recall_6</td><td>0.75866</td></tr><tr><td>train/epoch_Recall_7</td><td>0.0</td></tr><tr><td>train/epoch_Recall_8</td><td>0.0</td></tr><tr><td>train/epoch_Recall_9</td><td>0.91328</td></tr><tr><td>train/epoch_TN_0</td><td>4097411.25</td></tr><tr><td>train/epoch_TN_1</td><td>4074998.0</td></tr><tr><td>train/epoch_TN_10</td><td>4114330.75</td></tr><tr><td>train/epoch_TN_11</td><td>4177148.75</td></tr><tr><td>train/epoch_TN_12</td><td>4096138.0</td></tr><tr><td>train/epoch_TN_13</td><td>4172378.5</td></tr><tr><td>train/epoch_TN_2</td><td>4194304.0</td></tr><tr><td>train/epoch_TN_3</td><td>4142027.25</td></tr><tr><td>train/epoch_TN_4</td><td>4149042.0</td></tr><tr><td>train/epoch_TN_5</td><td>4181369.25</td></tr><tr><td>train/epoch_TN_6</td><td>4184942.5</td></tr><tr><td>train/epoch_TN_7</td><td>4194304.0</td></tr><tr><td>train/epoch_TN_8</td><td>4194304.0</td></tr><tr><td>train/epoch_TN_9</td><td>4074971.75</td></tr><tr><td>train/epoch_TP_0</td><td>69030.70312</td></tr><tr><td>train/epoch_TP_1</td><td>89691.45312</td></tr><tr><td>train/epoch_TP_10</td><td>57727.47656</td></tr><tr><td>train/epoch_TP_11</td><td>10024.52539</td></tr><tr><td>train/epoch_TP_12</td><td>73098.5</td></tr><tr><td>train/epoch_TP_13</td><td>14917.97559</td></tr><tr><td>train/epoch_TP_2</td><td>0.0</td></tr><tr><td>train/epoch_TP_3</td><td>37733.625</td></tr><tr><td>train/epoch_TP_4</td><td>32731.05078</td></tr><tr><td>train/epoch_TP_5</td><td>9579.125</td></tr><tr><td>train/epoch_TP_6</td><td>7332.75</td></tr><tr><td>train/epoch_TP_7</td><td>0.0</td></tr><tr><td>train/epoch_TP_8</td><td>0.0</td></tr><tr><td>train/epoch_TP_9</td><td>89732.125</td></tr><tr><td>train/epoch_loss</td><td>0.37419</td></tr><tr><td>train/iter_F1_0</td><td>0.78885</td></tr><tr><td>train/iter_F1_1</td><td>0.83791</td></tr><tr><td>train/iter_F1_10</td><td>0.79492</td></tr><tr><td>train/iter_F1_11</td><td>0.74901</td></tr><tr><td>train/iter_F1_12</td><td>0.83424</td></tr><tr><td>train/iter_F1_13</td><td>0.74537</td></tr><tr><td>train/iter_F1_2</td><td>0.0</td></tr><tr><td>train/iter_F1_3</td><td>0.78164</td></tr><tr><td>train/iter_F1_4</td><td>0.82834</td></tr><tr><td>train/iter_F1_5</td><td>0.84346</td></tr><tr><td>train/iter_F1_6</td><td>0.84903</td></tr><tr><td>train/iter_F1_7</td><td>0.0</td></tr><tr><td>train/iter_F1_8</td><td>0.0</td></tr><tr><td>train/iter_F1_9</td><td>0.83697</td></tr><tr><td>train/iter_FN_0</td><td>8399.0</td></tr><tr><td>train/iter_FN_1</td><td>9712.0</td></tr><tr><td>train/iter_FN_10</td><td>7860.0</td></tr><tr><td>train/iter_FN_11</td><td>1289.0</td></tr><tr><td>train/iter_FN_12</td><td>10969.0</td></tr><tr><td>train/iter_FN_13</td><td>136.0</td></tr><tr><td>train/iter_FN_2</td><td>0.0</td></tr><tr><td>train/iter_FN_3</td><td>3952.0</td></tr><tr><td>train/iter_FN_4</td><td>4097.0</td></tr><tr><td>train/iter_FN_5</td><td>2922.0</td></tr><tr><td>train/iter_FN_6</td><td>1454.0</td></tr><tr><td>train/iter_FN_7</td><td>0.0</td></tr><tr><td>train/iter_FN_8</td><td>0.0</td></tr><tr><td>train/iter_FN_9</td><td>9746.0</td></tr><tr><td>train/iter_FP_0</td><td>17062.0</td></tr><tr><td>train/iter_FP_1</td><td>24599.0</td></tr><tr><td>train/iter_FP_10</td><td>14384.0</td></tr><tr><td>train/iter_FP_11</td><td>1192.0</td></tr><tr><td>train/iter_FP_12</td><td>22432.0</td></tr><tr><td>train/iter_FP_13</td><td>2079.0</td></tr><tr><td>train/iter_FP_2</td><td>0.0</td></tr><tr><td>train/iter_FP_3</td><td>8896.0</td></tr><tr><td>train/iter_FP_4</td><td>8358.0</td></tr><tr><td>train/iter_FP_5</td><td>3768.0</td></tr><tr><td>train/iter_FP_6</td><td>3846.0</td></tr><tr><td>train/iter_FP_7</td><td>0.0</td></tr><tr><td>train/iter_FP_8</td><td>0.0</td></tr><tr><td>train/iter_FP_9</td><td>24791.0</td></tr><tr><td>train/iter_IoU_0</td><td>0.65133</td></tr><tr><td>train/iter_IoU_1</td><td>0.72104</td></tr><tr><td>train/iter_IoU_10</td><td>0.65964</td></tr><tr><td>train/iter_IoU_11</td><td>0.59874</td></tr><tr><td>train/iter_IoU_12</td><td>0.71562</td></tr><tr><td>train/iter_IoU_13</td><td>0.5941</td></tr><tr><td>train/iter_IoU_2</td><td>0.0</td></tr><tr><td>train/iter_IoU_3</td><td>0.64155</td></tr><tr><td>train/iter_IoU_4</td><td>0.70698</td></tr><tr><td>train/iter_IoU_5</td><td>0.7293</td></tr><tr><td>train/iter_IoU_6</td><td>0.73766</td></tr><tr><td>train/iter_IoU_7</td><td>0.0</td></tr><tr><td>train/iter_IoU_8</td><td>0.0</td></tr><tr><td>train/iter_IoU_9</td><td>0.71964</td></tr><tr><td>train/iter_Precision_0</td><td>0.73598</td></tr><tr><td>train/iter_Precision_1</td><td>0.78286</td></tr><tr><td>train/iter_Precision_10</td><td>0.74982</td></tr><tr><td>train/iter_Precision_11</td><td>0.75644</td></tr><tr><td>train/iter_Precision_12</td><td>0.78934</td></tr><tr><td>train/iter_Precision_13</td><td>0.60928</td></tr><tr><td>train/iter_Precision_2</td><td>0.0</td></tr><tr><td>train/iter_Precision_3</td><td>0.72105</td></tr><tr><td>train/iter_Precision_4</td><td>0.78239</td></tr><tr><td>train/iter_Precision_5</td><td>0.82709</td></tr><tr><td>train/iter_Precision_6</td><td>0.79487</td></tr><tr><td>train/iter_Precision_7</td><td>0.0</td></tr><tr><td>train/iter_Precision_8</td><td>0.0</td></tr><tr><td>train/iter_Precision_9</td><td>0.78147</td></tr><tr><td>train/iter_Recall_0</td><td>0.84991</td></tr><tr><td>train/iter_Recall_1</td><td>0.9013</td></tr><tr><td>train/iter_Recall_10</td><td>0.84579</td></tr><tr><td>train/iter_Recall_11</td><td>0.74174</td></tr><tr><td>train/iter_Recall_12</td><td>0.88456</td></tr><tr><td>train/iter_Recall_13</td><td>0.95974</td></tr><tr><td>train/iter_Recall_2</td><td>0.0</td></tr><tr><td>train/iter_Recall_3</td><td>0.85334</td></tr><tr><td>train/iter_Recall_4</td><td>0.88002</td></tr><tr><td>train/iter_Recall_5</td><td>0.8605</td></tr><tr><td>train/iter_Recall_6</td><td>0.91111</td></tr><tr><td>train/iter_Recall_7</td><td>0.0</td></tr><tr><td>train/iter_Recall_8</td><td>0.0</td></tr><tr><td>train/iter_Recall_9</td><td>0.90095</td></tr><tr><td>train/iter_TN_0</td><td>4121281.0</td></tr><tr><td>train/iter_TN_1</td><td>4071308.0</td></tr><tr><td>train/iter_TN_10</td><td>4128950.0</td></tr><tr><td>train/iter_TN_11</td><td>4188121.0</td></tr><tr><td>train/iter_TN_12</td><td>4076853.0</td></tr><tr><td>train/iter_TN_13</td><td>4188847.0</td></tr><tr><td>train/iter_TN_2</td><td>4194304.0</td></tr><tr><td>train/iter_TN_3</td><td>4158461.0</td></tr><tr><td>train/iter_TN_4</td><td>4151799.0</td></tr><tr><td>train/iter_TN_5</td><td>4169590.0</td></tr><tr><td>train/iter_TN_6</td><td>4174101.0</td></tr><tr><td>train/iter_TN_7</td><td>4194304.0</td></tr><tr><td>train/iter_TN_8</td><td>4194304.0</td></tr><tr><td>train/iter_TN_9</td><td>4071116.0</td></tr><tr><td>train/iter_TP_0</td><td>47562.0</td></tr><tr><td>train/iter_TP_1</td><td>88685.0</td></tr><tr><td>train/iter_TP_10</td><td>43110.0</td></tr><tr><td>train/iter_TP_11</td><td>3702.0</td></tr><tr><td>train/iter_TP_12</td><td>84050.0</td></tr><tr><td>train/iter_TP_13</td><td>3242.0</td></tr><tr><td>train/iter_TP_2</td><td>0.0</td></tr><tr><td>train/iter_TP_3</td><td>22995.0</td></tr><tr><td>train/iter_TP_4</td><td>30050.0</td></tr><tr><td>train/iter_TP_5</td><td>18024.0</td></tr><tr><td>train/iter_TP_6</td><td>14903.0</td></tr><tr><td>train/iter_TP_7</td><td>0.0</td></tr><tr><td>train/iter_TP_8</td><td>0.0</td></tr><tr><td>train/iter_TP_9</td><td>88651.0</td></tr><tr><td>train/iter_loss</td><td>0.38526</td></tr><tr><td>train/mean_F1</td><td>0.63403</td></tr><tr><td>train/mean_IoU</td><td>0.54441</td></tr><tr><td>trainer/global_step</td><td>7999</td></tr><tr><td>val/epoch_F1_0</td><td>0.78964</td></tr><tr><td>val/epoch_F1_1</td><td>0.7174</td></tr><tr><td>val/epoch_F1_10</td><td>0.76517</td></tr><tr><td>val/epoch_F1_11</td><td>0.397</td></tr><tr><td>val/epoch_F1_12</td><td>0.69809</td></tr><tr><td>val/epoch_F1_13</td><td>0.38919</td></tr><tr><td>val/epoch_F1_2</td><td>0.0</td></tr><tr><td>val/epoch_F1_3</td><td>0.54455</td></tr><tr><td>val/epoch_F1_4</td><td>0.63711</td></tr><tr><td>val/epoch_F1_5</td><td>0.65103</td></tr><tr><td>val/epoch_F1_6</td><td>0.35597</td></tr><tr><td>val/epoch_F1_7</td><td>0.0</td></tr><tr><td>val/epoch_F1_8</td><td>0.0</td></tr><tr><td>val/epoch_F1_9</td><td>0.71758</td></tr><tr><td>val/epoch_FN_0</td><td>13463.0918</td></tr><tr><td>val/epoch_FN_1</td><td>21954.72852</td></tr><tr><td>val/epoch_FN_10</td><td>13200.0</td></tr><tr><td>val/epoch_FN_11</td><td>3717.0</td></tr><tr><td>val/epoch_FN_12</td><td>22272.0</td></tr><tr><td>val/epoch_FN_13</td><td>3175.36377</td></tr><tr><td>val/epoch_FN_2</td><td>0.0</td></tr><tr><td>val/epoch_FN_3</td><td>14732.36426</td></tr><tr><td>val/epoch_FN_4</td><td>13820.0</td></tr><tr><td>val/epoch_FN_5</td><td>2781.81836</td></tr><tr><td>val/epoch_FN_6</td><td>416.54547</td></tr><tr><td>val/epoch_FN_7</td><td>0.0</td></tr><tr><td>val/epoch_FN_8</td><td>0.0</td></tr><tr><td>val/epoch_FN_9</td><td>21918.36523</td></tr><tr><td>val/epoch_FP_0</td><td>18817.0</td></tr><tr><td>val/epoch_FP_1</td><td>27122.0918</td></tr><tr><td>val/epoch_FP_10</td><td>15687.27344</td></tr><tr><td>val/epoch_FP_11</td><td>4638.0</td></tr><tr><td>val/epoch_FP_12</td><td>24268.54688</td></tr><tr><td>val/epoch_FP_13</td><td>5111.90918</td></tr><tr><td>val/epoch_FP_2</td><td>0.0</td></tr><tr><td>val/epoch_FP_3</td><td>18576.36328</td></tr><tr><td>val/epoch_FP_4</td><td>11047.5459</td></tr><tr><td>val/epoch_FP_5</td><td>2550.09106</td></tr><tr><td>val/epoch_FP_6</td><td>1544.18188</td></tr><tr><td>val/epoch_FP_7</td><td>0.0</td></tr><tr><td>val/epoch_FP_8</td><td>0.0</td></tr><tr><td>val/epoch_FP_9</td><td>27142.63672</td></tr><tr><td>val/epoch_IoU_0</td><td>0.65604</td></tr><tr><td>val/epoch_IoU_1</td><td>0.56294</td></tr><tr><td>val/epoch_IoU_10</td><td>0.62951</td></tr><tr><td>val/epoch_IoU_11</td><td>0.28661</td></tr><tr><td>val/epoch_IoU_12</td><td>0.54269</td></tr><tr><td>val/epoch_IoU_13</td><td>0.28409</td></tr><tr><td>val/epoch_IoU_2</td><td>0.0</td></tr><tr><td>val/epoch_IoU_3</td><td>0.37835</td></tr><tr><td>val/epoch_IoU_4</td><td>0.47109</td></tr><tr><td>val/epoch_IoU_5</td><td>0.52512</td></tr><tr><td>val/epoch_IoU_6</td><td>0.29475</td></tr><tr><td>val/epoch_IoU_7</td><td>0.0</td></tr><tr><td>val/epoch_IoU_8</td><td>0.0</td></tr><tr><td>val/epoch_IoU_9</td><td>0.56314</td></tr><tr><td>val/epoch_Precision_0</td><td>0.76254</td></tr><tr><td>val/epoch_Precision_1</td><td>0.69642</td></tr><tr><td>val/epoch_Precision_10</td><td>0.75844</td></tr><tr><td>val/epoch_Precision_11</td><td>0.41157</td></tr><tr><td>val/epoch_Precision_12</td><td>0.68886</td></tr><tr><td>val/epoch_Precision_13</td><td>0.35779</td></tr><tr><td>val/epoch_Precision_2</td><td>0.0</td></tr><tr><td>val/epoch_Precision_3</td><td>0.52003</td></tr><tr><td>val/epoch_Precision_4</td><td>0.66798</td></tr><tr><td>val/epoch_Precision_5</td><td>0.66113</td></tr><tr><td>val/epoch_Precision_6</td><td>0.32176</td></tr><tr><td>val/epoch_Precision_7</td><td>0.0</td></tr><tr><td>val/epoch_Precision_8</td><td>0.0</td></tr><tr><td>val/epoch_Precision_9</td><td>0.69645</td></tr><tr><td>val/epoch_Recall_0</td><td>0.81999</td></tr><tr><td>val/epoch_Recall_1</td><td>0.74065</td></tr><tr><td>val/epoch_Recall_10</td><td>0.77479</td></tr><tr><td>val/epoch_Recall_11</td><td>0.46378</td></tr><tr><td>val/epoch_Recall_12</td><td>0.71067</td></tr><tr><td>val/epoch_Recall_13</td><td>0.45409</td></tr><tr><td>val/epoch_Recall_2</td><td>0.0</td></tr><tr><td>val/epoch_Recall_3</td><td>0.5756</td></tr><tr><td>val/epoch_Recall_4</td><td>0.61296</td></tr><tr><td>val/epoch_Recall_5</td><td>0.65285</td></tr><tr><td>val/epoch_Recall_6</td><td>0.4034</td></tr><tr><td>val/epoch_Recall_7</td><td>0.0</td></tr><tr><td>val/epoch_Recall_8</td><td>0.0</td></tr><tr><td>val/epoch_Recall_9</td><td>0.741</td></tr><tr><td>val/epoch_TN_0</td><td>3743982.25</td></tr><tr><td>val/epoch_TN_1</td><td>3724831.75</td></tr><tr><td>val/epoch_TN_10</td><td>3756793.5</td></tr><tr><td>val/epoch_TN_11</td><td>3822515.5</td></tr><tr><td>val/epoch_TN_12</td><td>3735841.5</td></tr><tr><td>val/epoch_TN_13</td><td>3823567.0</td></tr><tr><td>val/epoch_TN_2</td><td>3836835.0</td></tr><tr><td>val/epoch_TN_3</td><td>3784258.0</td></tr><tr><td>val/epoch_TN_4</td><td>3789841.5</td></tr><tr><td>val/epoch_TN_5</td><td>3823691.75</td></tr><tr><td>val/epoch_TN_6</td><td>3830949.5</td></tr><tr><td>val/epoch_TN_7</td><td>3836835.0</td></tr><tr><td>val/epoch_TN_8</td><td>3836835.0</td></tr><tr><td>val/epoch_TN_9</td><td>3724811.5</td></tr><tr><td>val/epoch_TP_0</td><td>60572.63672</td></tr><tr><td>val/epoch_TP_1</td><td>62926.45703</td></tr><tr><td>val/epoch_TP_10</td><td>51154.09375</td></tr><tr><td>val/epoch_TP_11</td><td>5964.63672</td></tr><tr><td>val/epoch_TP_12</td><td>54453.0</td></tr><tr><td>val/epoch_TP_13</td><td>4980.81836</td></tr><tr><td>val/epoch_TP_2</td><td>0.0</td></tr><tr><td>val/epoch_TP_3</td><td>19268.27344</td></tr><tr><td>val/epoch_TP_4</td><td>22126.0</td></tr><tr><td>val/epoch_TP_5</td><td>7811.36377</td></tr><tr><td>val/epoch_TP_6</td><td>3924.81836</td></tr><tr><td>val/epoch_TP_7</td><td>0.0</td></tr><tr><td>val/epoch_TP_8</td><td>0.0</td></tr><tr><td>val/epoch_TP_9</td><td>62962.82031</td></tr><tr><td>val/epoch_loss</td><td>0.34771</td></tr><tr><td>val/iter_F1_0</td><td>0.78112</td></tr><tr><td>val/iter_F1_1</td><td>0.71417</td></tr><tr><td>val/iter_F1_10</td><td>0.75433</td></tr><tr><td>val/iter_F1_11</td><td>0.43399</td></tr><tr><td>val/iter_F1_12</td><td>0.69312</td></tr><tr><td>val/iter_F1_13</td><td>0.42545</td></tr><tr><td>val/iter_F1_2</td><td>0.0</td></tr><tr><td>val/iter_F1_3</td><td>0.53827</td></tr><tr><td>val/iter_F1_4</td><td>0.63481</td></tr><tr><td>val/iter_F1_5</td><td>0.71168</td></tr><tr><td>val/iter_F1_6</td><td>0.38914</td></tr><tr><td>val/iter_F1_7</td><td>0.0</td></tr><tr><td>val/iter_F1_8</td><td>0.0</td></tr><tr><td>val/iter_F1_9</td><td>0.71436</td></tr><tr><td>val/iter_FN_0</td><td>14630.02441</td></tr><tr><td>val/iter_FN_1</td><td>23847.86914</td></tr><tr><td>val/iter_FN_10</td><td>14336.17969</td></tr><tr><td>val/iter_FN_11</td><td>4063.30444</td></tr><tr><td>val/iter_FN_12</td><td>24193.49023</td></tr><tr><td>val/iter_FN_13</td><td>3471.20508</td></tr><tr><td>val/iter_FN_2</td><td>0.0</td></tr><tr><td>val/iter_FN_3</td><td>15971.3418</td></tr><tr><td>val/iter_FN_4</td><td>14991.67676</td></tr><tr><td>val/iter_FN_5</td><td>3040.9939</td></tr><tr><td>val/iter_FN_6</td><td>455.35403</td></tr><tr><td>val/iter_FN_7</td><td>0.0</td></tr><tr><td>val/iter_FN_8</td><td>0.0</td></tr><tr><td>val/iter_FN_9</td><td>23808.11719</td></tr><tr><td>val/iter_FP_0</td><td>20405.32227</td></tr><tr><td>val/iter_FP_1</td><td>29470.57812</td></tr><tr><td>val/iter_FP_10</td><td>16993.04297</td></tr><tr><td>val/iter_FP_11</td><td>5070.11182</td></tr><tr><td>val/iter_FP_12</td><td>26352.10547</td></tr><tr><td>val/iter_FP_13</td><td>5588.17383</td></tr><tr><td>val/iter_FP_2</td><td>0.0</td></tr><tr><td>val/iter_FP_3</td><td>20136.11719</td></tr><tr><td>val/iter_FP_4</td><td>12024.83203</td></tr><tr><td>val/iter_FP_5</td><td>2787.677</td></tr><tr><td>val/iter_FP_6</td><td>1688.04968</td></tr><tr><td>val/iter_FP_7</td><td>0.0</td></tr><tr><td>val/iter_FP_8</td><td>0.0</td></tr><tr><td>val/iter_FP_9</td><td>29493.22266</td></tr><tr><td>val/iter_IoU_0</td><td>0.64381</td></tr><tr><td>val/iter_IoU_1</td><td>0.55925</td></tr><tr><td>val/iter_IoU_10</td><td>0.61473</td></tr><tr><td>val/iter_IoU_11</td><td>0.31331</td></tr><tr><td>val/iter_IoU_12</td><td>0.53718</td></tr><tr><td>val/iter_IoU_13</td><td>0.31056</td></tr><tr><td>val/iter_IoU_2</td><td>0.0</td></tr><tr><td>val/iter_IoU_3</td><td>0.37252</td></tr><tr><td>val/iter_IoU_4</td><td>0.46891</td></tr><tr><td>val/iter_IoU_5</td><td>0.57404</td></tr><tr><td>val/iter_IoU_6</td><td>0.32222</td></tr><tr><td>val/iter_IoU_7</td><td>0.0</td></tr><tr><td>val/iter_IoU_8</td><td>0.0</td></tr><tr><td>val/iter_IoU_9</td><td>0.55945</td></tr><tr><td>val/iter_Precision_0</td><td>0.75439</td></tr><tr><td>val/iter_Precision_1</td><td>0.69258</td></tr><tr><td>val/iter_Precision_10</td><td>0.74933</td></tr><tr><td>val/iter_Precision_11</td><td>0.44992</td></tr><tr><td>val/iter_Precision_12</td><td>0.68427</td></tr><tr><td>val/iter_Precision_13</td><td>0.39113</td></tr><tr><td>val/iter_Precision_2</td><td>0.0</td></tr><tr><td>val/iter_Precision_3</td><td>0.51406</td></tr><tr><td>val/iter_Precision_4</td><td>0.65944</td></tr><tr><td>val/iter_Precision_5</td><td>0.72273</td></tr><tr><td>val/iter_Precision_6</td><td>0.35174</td></tr><tr><td>val/iter_Precision_7</td><td>0.0</td></tr><tr><td>val/iter_Precision_8</td><td>0.0</td></tr><tr><td>val/iter_Precision_9</td><td>0.6926</td></tr><tr><td>val/iter_Recall_0</td><td>0.81119</td></tr><tr><td>val/iter_Recall_1</td><td>0.73819</td></tr><tr><td>val/iter_Recall_10</td><td>0.76234</td></tr><tr><td>val/iter_Recall_11</td><td>0.50699</td></tr><tr><td>val/iter_Recall_12</td><td>0.70559</td></tr><tr><td>val/iter_Recall_13</td><td>0.4964</td></tr><tr><td>val/iter_Recall_2</td><td>0.0</td></tr><tr><td>val/iter_Recall_3</td><td>0.56936</td></tr><tr><td>val/iter_Recall_4</td><td>0.61544</td></tr><tr><td>val/iter_Recall_5</td><td>0.71367</td></tr><tr><td>val/iter_Recall_6</td><td>0.44099</td></tr><tr><td>val/iter_Recall_7</td><td>0.0</td></tr><tr><td>val/iter_Recall_8</td><td>0.0</td></tr><tr><td>val/iter_Recall_9</td><td>0.73857</td></tr><tr><td>val/iter_TN_0</td><td>4069563.25</td></tr><tr><td>val/iter_TN_1</td><td>4048274.25</td></tr><tr><td>val/iter_TN_10</td><td>4083559.75</td></tr><tr><td>val/iter_TN_11</td><td>4154227.0</td></tr><tr><td>val/iter_TN_12</td><td>4060309.0</td></tr><tr><td>val/iter_TN_13</td><td>4155376.0</td></tr><tr><td>val/iter_TN_2</td><td>4169880.75</td></tr><tr><td>val/iter_TN_3</td><td>4112950.5</td></tr><tr><td>val/iter_TN_4</td><td>4118840.75</td></tr><tr><td>val/iter_TN_5</td><td>4155512.75</td></tr><tr><td>val/iter_TN_6</td><td>4163446.75</td></tr><tr><td>val/iter_TN_7</td><td>4169880.75</td></tr><tr><td>val/iter_TN_8</td><td>4169880.75</td></tr><tr><td>val/iter_TN_9</td><td>4048252.0</td></tr><tr><td>val/iter_TP_0</td><td>65281.94922</td></tr><tr><td>val/iter_TP_1</td><td>68287.55469</td></tr><tr><td>val/iter_TP_10</td><td>54992.14453</td></tr><tr><td>val/iter_TP_11</td><td>6520.34766</td></tr><tr><td>val/iter_TP_12</td><td>59025.85547</td></tr><tr><td>val/iter_TP_13</td><td>5444.86963</td></tr><tr><td>val/iter_TP_2</td><td>0.0</td></tr><tr><td>val/iter_TP_3</td><td>20823.26758</td></tr><tr><td>val/iter_TP_4</td><td>24023.17383</td></tr><tr><td>val/iter_TP_5</td><td>8539.13086</td></tr><tr><td>val/iter_TP_6</td><td>4290.48438</td></tr><tr><td>val/iter_TP_7</td><td>0.0</td></tr><tr><td>val/iter_TP_8</td><td>0.0</td></tr><tr><td>val/iter_TP_9</td><td>68327.30469</td></tr><tr><td>val/iter_loss</td><td>0.35764</td></tr><tr><td>val/mean_F1</td><td>0.47591</td></tr><tr><td>val/mean_IoU</td><td>0.37102</td></tr></table><br/></div></div>"
      ],
      "text/plain": [
       "<IPython.core.display.HTML object>"
      ]
     },
     "metadata": {},
     "output_type": "display_data"
    },
    {
     "data": {
      "text/html": [
       "Synced <strong style=\"color:#cdcd00\">3090_fold0</strong>: <a href=\"https://wandb.ai/spaceshift/SpaceNet8/runs/47xkmqk9\" target=\"_blank\">https://wandb.ai/spaceshift/SpaceNet8/runs/47xkmqk9</a><br/>Synced 6 W&B file(s), 0 media file(s), 0 artifact file(s) and 1 other file(s)"
      ],
      "text/plain": [
       "<IPython.core.display.HTML object>"
      ]
     },
     "metadata": {},
     "output_type": "display_data"
    },
    {
     "data": {
      "text/html": [
       "Find logs at: <code>./wandb/run-20220723_034048-47xkmqk9/logs</code>"
      ],
      "text/plain": [
       "<IPython.core.display.HTML object>"
      ]
     },
     "metadata": {},
     "output_type": "display_data"
    },
    {
     "name": "stdout",
     "output_type": "stream",
     "text": [
      "############################################################\n",
      "### Fold: 1\n",
      "############################################################\n"
     ]
    },
    {
     "data": {
      "text/html": [
       "Changes to your `wandb` environment variables will be ignored because your `wandb` session has already started. For more information on how to modify your settings with `wandb.init()` arguments, please refer to <a href=\"https://wandb.me/wandb-init\" target=\"_blank\">the W&B docs</a>."
      ],
      "text/plain": [
       "<IPython.core.display.HTML object>"
      ]
     },
     "metadata": {},
     "output_type": "display_data"
    },
    {
     "data": {
      "text/html": [
       "Tracking run with wandb version 0.12.21"
      ],
      "text/plain": [
       "<IPython.core.display.HTML object>"
      ]
     },
     "metadata": {},
     "output_type": "display_data"
    },
    {
     "data": {
      "text/html": [
       "Run data is saved locally in <code>/media/syu/c983cccd-1cc7-4ce4-b206-7eb1a2cc5c94/topcoder/spacenet8/SpaceNet8/baseline/wandb/run-20220723_054827-2mx5c5ur</code>"
      ],
      "text/plain": [
       "<IPython.core.display.HTML object>"
      ]
     },
     "metadata": {},
     "output_type": "display_data"
    },
    {
     "data": {
      "text/html": [
       "Syncing run <strong><a href=\"https://wandb.ai/spaceshift/SpaceNet8/runs/2mx5c5ur\" target=\"_blank\">3090_fold1</a></strong> to <a href=\"https://wandb.ai/spaceshift/SpaceNet8\" target=\"_blank\">Weights & Biases</a> (<a href=\"https://wandb.me/run\" target=\"_blank\">docs</a>)<br/>"
      ],
      "text/plain": [
       "<IPython.core.display.HTML object>"
      ]
     },
     "metadata": {},
     "output_type": "display_data"
    },
    {
     "name": "stderr",
     "output_type": "stream",
     "text": [
      "Using 16bit native Automatic Mixed Precision (AMP)\n",
      "GPU available: True, used: True\n",
      "TPU available: False, using: 0 TPU cores\n",
      "IPU available: False, using: 0 IPUs\n",
      "HPU available: False, using: 0 HPUs\n",
      "`Trainer(val_check_interval=1.0)` was configured so validation will run at the end of the training epoch..\n",
      "LOCAL_RANK: 0 - CUDA_VISIBLE_DEVICES: [0]\n",
      "\n",
      "  | Name       | Type             | Params\n",
      "------------------------------------------------\n",
      "0 | backbone   | UnetPlusPlus     | 6.6 M \n",
      "1 | _criterion | MultiBCEDiceLoss | 0     \n",
      "------------------------------------------------\n",
      "6.6 M     Trainable params\n",
      "0         Non-trainable params\n",
      "6.6 M     Total params\n",
      "13.286    Total estimated model params size (MB)\n"
     ]
    },
    {
     "name": "stdout",
     "output_type": "stream",
     "text": [
      "### Start Trainig\n",
      "loaded 641 image filepaths\n",
      "loaded 160 image filepaths\n"
     ]
    },
    {
     "data": {
      "application/vnd.jupyter.widget-view+json": {
       "model_id": "96f2c1ee1c95444886897bf10e56f821",
       "version_major": 2,
       "version_minor": 0
      },
      "text/plain": [
       "Training: 0it [00:00, ?it/s]"
      ]
     },
     "metadata": {},
     "output_type": "display_data"
    },
    {
     "data": {
      "application/vnd.jupyter.widget-view+json": {
       "model_id": "4d89c5f366fe4c58b82a426aa5edda74",
       "version_major": 2,
       "version_minor": 0
      },
      "text/plain": [
       "Validation: 0it [00:00, ?it/s]"
      ]
     },
     "metadata": {},
     "output_type": "display_data"
    },
    {
     "data": {
      "application/vnd.jupyter.widget-view+json": {
       "model_id": "4240bd23305f4ac9a6402e1bd58115c6",
       "version_major": 2,
       "version_minor": 0
      },
      "text/plain": [
       "Validation: 0it [00:00, ?it/s]"
      ]
     },
     "metadata": {},
     "output_type": "display_data"
    },
    {
     "data": {
      "application/vnd.jupyter.widget-view+json": {
       "model_id": "dda92d7886da43928c53bc8e081fba8b",
       "version_major": 2,
       "version_minor": 0
      },
      "text/plain": [
       "Validation: 0it [00:00, ?it/s]"
      ]
     },
     "metadata": {},
     "output_type": "display_data"
    },
    {
     "data": {
      "application/vnd.jupyter.widget-view+json": {
       "model_id": "c78c38b0180e4164975ec5794b178935",
       "version_major": 2,
       "version_minor": 0
      },
      "text/plain": [
       "Validation: 0it [00:00, ?it/s]"
      ]
     },
     "metadata": {},
     "output_type": "display_data"
    },
    {
     "data": {
      "application/vnd.jupyter.widget-view+json": {
       "model_id": "1154164de0ca4b7c9a2054a3bc6a2439",
       "version_major": 2,
       "version_minor": 0
      },
      "text/plain": [
       "Validation: 0it [00:00, ?it/s]"
      ]
     },
     "metadata": {},
     "output_type": "display_data"
    },
    {
     "data": {
      "application/vnd.jupyter.widget-view+json": {
       "model_id": "efe08c9bb24e4dd4bd9894e08f938580",
       "version_major": 2,
       "version_minor": 0
      },
      "text/plain": [
       "Validation: 0it [00:00, ?it/s]"
      ]
     },
     "metadata": {},
     "output_type": "display_data"
    },
    {
     "data": {
      "application/vnd.jupyter.widget-view+json": {
       "model_id": "7187aa3954704e9ba921edd8d9ffd175",
       "version_major": 2,
       "version_minor": 0
      },
      "text/plain": [
       "Validation: 0it [00:00, ?it/s]"
      ]
     },
     "metadata": {},
     "output_type": "display_data"
    },
    {
     "data": {
      "application/vnd.jupyter.widget-view+json": {
       "model_id": "af71dcf3864c41ea9bf5d08a27143a61",
       "version_major": 2,
       "version_minor": 0
      },
      "text/plain": [
       "Validation: 0it [00:00, ?it/s]"
      ]
     },
     "metadata": {},
     "output_type": "display_data"
    },
    {
     "data": {
      "application/vnd.jupyter.widget-view+json": {
       "model_id": "d36df81941a945bbabd8dd42cc6a1c24",
       "version_major": 2,
       "version_minor": 0
      },
      "text/plain": [
       "Validation: 0it [00:00, ?it/s]"
      ]
     },
     "metadata": {},
     "output_type": "display_data"
    },
    {
     "data": {
      "application/vnd.jupyter.widget-view+json": {
       "model_id": "c3ff40e309d3441f8ed3bfc8af66c201",
       "version_major": 2,
       "version_minor": 0
      },
      "text/plain": [
       "Validation: 0it [00:00, ?it/s]"
      ]
     },
     "metadata": {},
     "output_type": "display_data"
    },
    {
     "data": {
      "application/vnd.jupyter.widget-view+json": {
       "model_id": "f864940f8cf345e9884340fe9d59fb6f",
       "version_major": 2,
       "version_minor": 0
      },
      "text/plain": [
       "Validation: 0it [00:00, ?it/s]"
      ]
     },
     "metadata": {},
     "output_type": "display_data"
    },
    {
     "data": {
      "application/vnd.jupyter.widget-view+json": {
       "model_id": "29e5bb2bed154143a934e382f6f5ba2a",
       "version_major": 2,
       "version_minor": 0
      },
      "text/plain": [
       "Validation: 0it [00:00, ?it/s]"
      ]
     },
     "metadata": {},
     "output_type": "display_data"
    },
    {
     "data": {
      "application/vnd.jupyter.widget-view+json": {
       "model_id": "7088e5ceebd64590ac6f4f0632812c39",
       "version_major": 2,
       "version_minor": 0
      },
      "text/plain": [
       "Validation: 0it [00:00, ?it/s]"
      ]
     },
     "metadata": {},
     "output_type": "display_data"
    },
    {
     "data": {
      "application/vnd.jupyter.widget-view+json": {
       "model_id": "50b2a47f125b41498f4f34fac2085e3f",
       "version_major": 2,
       "version_minor": 0
      },
      "text/plain": [
       "Validation: 0it [00:00, ?it/s]"
      ]
     },
     "metadata": {},
     "output_type": "display_data"
    },
    {
     "data": {
      "application/vnd.jupyter.widget-view+json": {
       "model_id": "ee90a5ccfa1d4d7796ed7f547485ab8d",
       "version_major": 2,
       "version_minor": 0
      },
      "text/plain": [
       "Validation: 0it [00:00, ?it/s]"
      ]
     },
     "metadata": {},
     "output_type": "display_data"
    },
    {
     "data": {
      "application/vnd.jupyter.widget-view+json": {
       "model_id": "8e8070217dd946b6913d04bee83640f7",
       "version_major": 2,
       "version_minor": 0
      },
      "text/plain": [
       "Validation: 0it [00:00, ?it/s]"
      ]
     },
     "metadata": {},
     "output_type": "display_data"
    },
    {
     "data": {
      "application/vnd.jupyter.widget-view+json": {
       "model_id": "983f5fd296ef438d9a16a55e2c2f34d4",
       "version_major": 2,
       "version_minor": 0
      },
      "text/plain": [
       "Validation: 0it [00:00, ?it/s]"
      ]
     },
     "metadata": {},
     "output_type": "display_data"
    },
    {
     "data": {
      "application/vnd.jupyter.widget-view+json": {
       "model_id": "1433fda912454ab3948479e252e73bc4",
       "version_major": 2,
       "version_minor": 0
      },
      "text/plain": [
       "Validation: 0it [00:00, ?it/s]"
      ]
     },
     "metadata": {},
     "output_type": "display_data"
    },
    {
     "data": {
      "application/vnd.jupyter.widget-view+json": {
       "model_id": "2317bee304914c5aae27e68e9fd14680",
       "version_major": 2,
       "version_minor": 0
      },
      "text/plain": [
       "Validation: 0it [00:00, ?it/s]"
      ]
     },
     "metadata": {},
     "output_type": "display_data"
    },
    {
     "data": {
      "application/vnd.jupyter.widget-view+json": {
       "model_id": "7a0f8b7b34324d6381cff72d15448e10",
       "version_major": 2,
       "version_minor": 0
      },
      "text/plain": [
       "Validation: 0it [00:00, ?it/s]"
      ]
     },
     "metadata": {},
     "output_type": "display_data"
    },
    {
     "data": {
      "application/vnd.jupyter.widget-view+json": {
       "model_id": "7a0851f5a0f340a18e3120cda27c6121",
       "version_major": 2,
       "version_minor": 0
      },
      "text/plain": [
       "Validation: 0it [00:00, ?it/s]"
      ]
     },
     "metadata": {},
     "output_type": "display_data"
    },
    {
     "data": {
      "application/vnd.jupyter.widget-view+json": {
       "model_id": "36ec5f4a2a8f4a069cfea553e565b7bf",
       "version_major": 2,
       "version_minor": 0
      },
      "text/plain": [
       "Validation: 0it [00:00, ?it/s]"
      ]
     },
     "metadata": {},
     "output_type": "display_data"
    },
    {
     "data": {
      "application/vnd.jupyter.widget-view+json": {
       "model_id": "79851f495cc341cc8050a57affbf0109",
       "version_major": 2,
       "version_minor": 0
      },
      "text/plain": [
       "Validation: 0it [00:00, ?it/s]"
      ]
     },
     "metadata": {},
     "output_type": "display_data"
    },
    {
     "data": {
      "application/vnd.jupyter.widget-view+json": {
       "model_id": "4d0617d2a8af46d8906c3acd9a2ea07a",
       "version_major": 2,
       "version_minor": 0
      },
      "text/plain": [
       "Validation: 0it [00:00, ?it/s]"
      ]
     },
     "metadata": {},
     "output_type": "display_data"
    },
    {
     "data": {
      "application/vnd.jupyter.widget-view+json": {
       "model_id": "f22b294b71664d46bf5a3826661e45e7",
       "version_major": 2,
       "version_minor": 0
      },
      "text/plain": [
       "Validation: 0it [00:00, ?it/s]"
      ]
     },
     "metadata": {},
     "output_type": "display_data"
    },
    {
     "data": {
      "application/vnd.jupyter.widget-view+json": {
       "model_id": "0d12517041664e3aac2c05d1767c0ebc",
       "version_major": 2,
       "version_minor": 0
      },
      "text/plain": [
       "Validation: 0it [00:00, ?it/s]"
      ]
     },
     "metadata": {},
     "output_type": "display_data"
    },
    {
     "data": {
      "application/vnd.jupyter.widget-view+json": {
       "model_id": "a22e165b5dbb43468ce6fbf992c47402",
       "version_major": 2,
       "version_minor": 0
      },
      "text/plain": [
       "Validation: 0it [00:00, ?it/s]"
      ]
     },
     "metadata": {},
     "output_type": "display_data"
    },
    {
     "data": {
      "application/vnd.jupyter.widget-view+json": {
       "model_id": "9925d6524f27486295d8bea605466ce6",
       "version_major": 2,
       "version_minor": 0
      },
      "text/plain": [
       "Validation: 0it [00:00, ?it/s]"
      ]
     },
     "metadata": {},
     "output_type": "display_data"
    },
    {
     "data": {
      "application/vnd.jupyter.widget-view+json": {
       "model_id": "8641b62bd904404999e7dc5c1b21c585",
       "version_major": 2,
       "version_minor": 0
      },
      "text/plain": [
       "Validation: 0it [00:00, ?it/s]"
      ]
     },
     "metadata": {},
     "output_type": "display_data"
    },
    {
     "data": {
      "application/vnd.jupyter.widget-view+json": {
       "model_id": "c3acf4b8636145a290eb9fa4bab8a44b",
       "version_major": 2,
       "version_minor": 0
      },
      "text/plain": [
       "Validation: 0it [00:00, ?it/s]"
      ]
     },
     "metadata": {},
     "output_type": "display_data"
    },
    {
     "data": {
      "application/vnd.jupyter.widget-view+json": {
       "model_id": "2dd68908bf524d49a2b4d0fb881ad3d2",
       "version_major": 2,
       "version_minor": 0
      },
      "text/plain": [
       "Validation: 0it [00:00, ?it/s]"
      ]
     },
     "metadata": {},
     "output_type": "display_data"
    },
    {
     "data": {
      "application/vnd.jupyter.widget-view+json": {
       "model_id": "5ade8177a14f4988ac6b3c0ec933fd39",
       "version_major": 2,
       "version_minor": 0
      },
      "text/plain": [
       "Validation: 0it [00:00, ?it/s]"
      ]
     },
     "metadata": {},
     "output_type": "display_data"
    },
    {
     "data": {
      "application/vnd.jupyter.widget-view+json": {
       "model_id": "ea00d1224b4d42759baf68cdf3ee8771",
       "version_major": 2,
       "version_minor": 0
      },
      "text/plain": [
       "Validation: 0it [00:00, ?it/s]"
      ]
     },
     "metadata": {},
     "output_type": "display_data"
    },
    {
     "data": {
      "application/vnd.jupyter.widget-view+json": {
       "model_id": "3c2e56b684e045208a2f85cbee51c996",
       "version_major": 2,
       "version_minor": 0
      },
      "text/plain": [
       "Validation: 0it [00:00, ?it/s]"
      ]
     },
     "metadata": {},
     "output_type": "display_data"
    },
    {
     "data": {
      "application/vnd.jupyter.widget-view+json": {
       "model_id": "fff81e4866a8499a9bc5ed06564b93cf",
       "version_major": 2,
       "version_minor": 0
      },
      "text/plain": [
       "Validation: 0it [00:00, ?it/s]"
      ]
     },
     "metadata": {},
     "output_type": "display_data"
    },
    {
     "data": {
      "application/vnd.jupyter.widget-view+json": {
       "model_id": "371a1c514ab54b268169aa4d3af7cf74",
       "version_major": 2,
       "version_minor": 0
      },
      "text/plain": [
       "Validation: 0it [00:00, ?it/s]"
      ]
     },
     "metadata": {},
     "output_type": "display_data"
    },
    {
     "data": {
      "application/vnd.jupyter.widget-view+json": {
       "model_id": "1bfc3c81a2d34894a0dfd9a265c0e4d9",
       "version_major": 2,
       "version_minor": 0
      },
      "text/plain": [
       "Validation: 0it [00:00, ?it/s]"
      ]
     },
     "metadata": {},
     "output_type": "display_data"
    },
    {
     "data": {
      "application/vnd.jupyter.widget-view+json": {
       "model_id": "a69e221af49e4a0eab6ab27d83de103d",
       "version_major": 2,
       "version_minor": 0
      },
      "text/plain": [
       "Validation: 0it [00:00, ?it/s]"
      ]
     },
     "metadata": {},
     "output_type": "display_data"
    },
    {
     "data": {
      "application/vnd.jupyter.widget-view+json": {
       "model_id": "0488bc04ba5a4e0fa3ff5f0bfddb7820",
       "version_major": 2,
       "version_minor": 0
      },
      "text/plain": [
       "Validation: 0it [00:00, ?it/s]"
      ]
     },
     "metadata": {},
     "output_type": "display_data"
    },
    {
     "data": {
      "application/vnd.jupyter.widget-view+json": {
       "model_id": "7c082be4b13546b4a538358c06c35106",
       "version_major": 2,
       "version_minor": 0
      },
      "text/plain": [
       "Validation: 0it [00:00, ?it/s]"
      ]
     },
     "metadata": {},
     "output_type": "display_data"
    },
    {
     "data": {
      "application/vnd.jupyter.widget-view+json": {
       "model_id": "eeceb5448028425fa1c3f2862532d848",
       "version_major": 2,
       "version_minor": 0
      },
      "text/plain": [
       "Validation: 0it [00:00, ?it/s]"
      ]
     },
     "metadata": {},
     "output_type": "display_data"
    },
    {
     "data": {
      "application/vnd.jupyter.widget-view+json": {
       "model_id": "c512e2f258754367802a4fcea0a903e9",
       "version_major": 2,
       "version_minor": 0
      },
      "text/plain": [
       "Validation: 0it [00:00, ?it/s]"
      ]
     },
     "metadata": {},
     "output_type": "display_data"
    },
    {
     "data": {
      "application/vnd.jupyter.widget-view+json": {
       "model_id": "369db988eae1482fa45891586b0b4594",
       "version_major": 2,
       "version_minor": 0
      },
      "text/plain": [
       "Validation: 0it [00:00, ?it/s]"
      ]
     },
     "metadata": {},
     "output_type": "display_data"
    },
    {
     "data": {
      "application/vnd.jupyter.widget-view+json": {
       "model_id": "7e69aada4af642fe9c0ba0ff098bc997",
       "version_major": 2,
       "version_minor": 0
      },
      "text/plain": [
       "Validation: 0it [00:00, ?it/s]"
      ]
     },
     "metadata": {},
     "output_type": "display_data"
    },
    {
     "data": {
      "application/vnd.jupyter.widget-view+json": {
       "model_id": "6c2da50c1dfb41df99f9a6970879204a",
       "version_major": 2,
       "version_minor": 0
      },
      "text/plain": [
       "Validation: 0it [00:00, ?it/s]"
      ]
     },
     "metadata": {},
     "output_type": "display_data"
    },
    {
     "data": {
      "application/vnd.jupyter.widget-view+json": {
       "model_id": "08992df9c0c340f08789e1623f4cdb65",
       "version_major": 2,
       "version_minor": 0
      },
      "text/plain": [
       "Validation: 0it [00:00, ?it/s]"
      ]
     },
     "metadata": {},
     "output_type": "display_data"
    },
    {
     "data": {
      "application/vnd.jupyter.widget-view+json": {
       "model_id": "1ded022fb50e433481643dfd69601e69",
       "version_major": 2,
       "version_minor": 0
      },
      "text/plain": [
       "Validation: 0it [00:00, ?it/s]"
      ]
     },
     "metadata": {},
     "output_type": "display_data"
    },
    {
     "data": {
      "application/vnd.jupyter.widget-view+json": {
       "model_id": "e79efb0e5cf248cfab734a287973b62d",
       "version_major": 2,
       "version_minor": 0
      },
      "text/plain": [
       "Validation: 0it [00:00, ?it/s]"
      ]
     },
     "metadata": {},
     "output_type": "display_data"
    },
    {
     "data": {
      "application/vnd.jupyter.widget-view+json": {
       "model_id": "637b7c03d87b44ea9351f3c04117b24a",
       "version_major": 2,
       "version_minor": 0
      },
      "text/plain": [
       "Validation: 0it [00:00, ?it/s]"
      ]
     },
     "metadata": {},
     "output_type": "display_data"
    },
    {
     "data": {
      "application/vnd.jupyter.widget-view+json": {
       "model_id": "910debcd97ee4e8f82cd95108b71d626",
       "version_major": 2,
       "version_minor": 0
      },
      "text/plain": [
       "Validation: 0it [00:00, ?it/s]"
      ]
     },
     "metadata": {},
     "output_type": "display_data"
    },
    {
     "data": {
      "application/vnd.jupyter.widget-view+json": {
       "model_id": "29d0ae7c5e6042e4a306783569e5609f",
       "version_major": 2,
       "version_minor": 0
      },
      "text/plain": [
       "Validation: 0it [00:00, ?it/s]"
      ]
     },
     "metadata": {},
     "output_type": "display_data"
    },
    {
     "data": {
      "application/vnd.jupyter.widget-view+json": {
       "model_id": "b1846e2e83d44ddda093f6ce2ed6b7a9",
       "version_major": 2,
       "version_minor": 0
      },
      "text/plain": [
       "Validation: 0it [00:00, ?it/s]"
      ]
     },
     "metadata": {},
     "output_type": "display_data"
    },
    {
     "data": {
      "application/vnd.jupyter.widget-view+json": {
       "model_id": "aa619c6ed8514a809952a44736c94fa6",
       "version_major": 2,
       "version_minor": 0
      },
      "text/plain": [
       "Validation: 0it [00:00, ?it/s]"
      ]
     },
     "metadata": {},
     "output_type": "display_data"
    },
    {
     "data": {
      "application/vnd.jupyter.widget-view+json": {
       "model_id": "2ab2bc1f37db4f34b11619a6a4a62543",
       "version_major": 2,
       "version_minor": 0
      },
      "text/plain": [
       "Validation: 0it [00:00, ?it/s]"
      ]
     },
     "metadata": {},
     "output_type": "display_data"
    },
    {
     "data": {
      "application/vnd.jupyter.widget-view+json": {
       "model_id": "ea73755f8f1e43a8beae50e439cdee69",
       "version_major": 2,
       "version_minor": 0
      },
      "text/plain": [
       "Validation: 0it [00:00, ?it/s]"
      ]
     },
     "metadata": {},
     "output_type": "display_data"
    },
    {
     "data": {
      "application/vnd.jupyter.widget-view+json": {
       "model_id": "21d79f0753af42249b6ea9c7f2f10614",
       "version_major": 2,
       "version_minor": 0
      },
      "text/plain": [
       "Validation: 0it [00:00, ?it/s]"
      ]
     },
     "metadata": {},
     "output_type": "display_data"
    },
    {
     "data": {
      "application/vnd.jupyter.widget-view+json": {
       "model_id": "44a5960f565d4c478ce3ab6e7abbd036",
       "version_major": 2,
       "version_minor": 0
      },
      "text/plain": [
       "Validation: 0it [00:00, ?it/s]"
      ]
     },
     "metadata": {},
     "output_type": "display_data"
    },
    {
     "data": {
      "application/vnd.jupyter.widget-view+json": {
       "model_id": "ea1ca76a4d574af091ae26d1205195e2",
       "version_major": 2,
       "version_minor": 0
      },
      "text/plain": [
       "Validation: 0it [00:00, ?it/s]"
      ]
     },
     "metadata": {},
     "output_type": "display_data"
    },
    {
     "data": {
      "application/vnd.jupyter.widget-view+json": {
       "model_id": "a3cc082a1ffa4e23aa3aeea1728ff5e4",
       "version_major": 2,
       "version_minor": 0
      },
      "text/plain": [
       "Validation: 0it [00:00, ?it/s]"
      ]
     },
     "metadata": {},
     "output_type": "display_data"
    },
    {
     "data": {
      "application/vnd.jupyter.widget-view+json": {
       "model_id": "cdf5909f86364366a420124bcdb0e715",
       "version_major": 2,
       "version_minor": 0
      },
      "text/plain": [
       "Validation: 0it [00:00, ?it/s]"
      ]
     },
     "metadata": {},
     "output_type": "display_data"
    },
    {
     "data": {
      "application/vnd.jupyter.widget-view+json": {
       "model_id": "e1cd763747444d1ca853eef8a14b7bea",
       "version_major": 2,
       "version_minor": 0
      },
      "text/plain": [
       "Validation: 0it [00:00, ?it/s]"
      ]
     },
     "metadata": {},
     "output_type": "display_data"
    },
    {
     "data": {
      "application/vnd.jupyter.widget-view+json": {
       "model_id": "f34f34bee3ca4d15b5cc612352d38d41",
       "version_major": 2,
       "version_minor": 0
      },
      "text/plain": [
       "Validation: 0it [00:00, ?it/s]"
      ]
     },
     "metadata": {},
     "output_type": "display_data"
    },
    {
     "data": {
      "application/vnd.jupyter.widget-view+json": {
       "model_id": "abb2ca8ea2c64fb497dd0c0f783fb463",
       "version_major": 2,
       "version_minor": 0
      },
      "text/plain": [
       "Validation: 0it [00:00, ?it/s]"
      ]
     },
     "metadata": {},
     "output_type": "display_data"
    },
    {
     "data": {
      "application/vnd.jupyter.widget-view+json": {
       "model_id": "d6d6c7f7a4114001bdb2fb5ecd2ce8f0",
       "version_major": 2,
       "version_minor": 0
      },
      "text/plain": [
       "Validation: 0it [00:00, ?it/s]"
      ]
     },
     "metadata": {},
     "output_type": "display_data"
    },
    {
     "data": {
      "application/vnd.jupyter.widget-view+json": {
       "model_id": "6e3aa59f5d304f98964ac794dd8cd5f9",
       "version_major": 2,
       "version_minor": 0
      },
      "text/plain": [
       "Validation: 0it [00:00, ?it/s]"
      ]
     },
     "metadata": {},
     "output_type": "display_data"
    },
    {
     "data": {
      "application/vnd.jupyter.widget-view+json": {
       "model_id": "b05eaf1817cb405aab106b748debcaa8",
       "version_major": 2,
       "version_minor": 0
      },
      "text/plain": [
       "Validation: 0it [00:00, ?it/s]"
      ]
     },
     "metadata": {},
     "output_type": "display_data"
    },
    {
     "data": {
      "application/vnd.jupyter.widget-view+json": {
       "model_id": "c9a8d9a9084a41dca37b5ff0cc3ba9c0",
       "version_major": 2,
       "version_minor": 0
      },
      "text/plain": [
       "Validation: 0it [00:00, ?it/s]"
      ]
     },
     "metadata": {},
     "output_type": "display_data"
    },
    {
     "data": {
      "application/vnd.jupyter.widget-view+json": {
       "model_id": "df504ffd280c4c9c9c4ecfc08c4b2935",
       "version_major": 2,
       "version_minor": 0
      },
      "text/plain": [
       "Validation: 0it [00:00, ?it/s]"
      ]
     },
     "metadata": {},
     "output_type": "display_data"
    },
    {
     "data": {
      "application/vnd.jupyter.widget-view+json": {
       "model_id": "543330a741294b69a26eae882deb08c9",
       "version_major": 2,
       "version_minor": 0
      },
      "text/plain": [
       "Validation: 0it [00:00, ?it/s]"
      ]
     },
     "metadata": {},
     "output_type": "display_data"
    },
    {
     "data": {
      "application/vnd.jupyter.widget-view+json": {
       "model_id": "36398a554ef94dcdbfb1eda19a5cb4d7",
       "version_major": 2,
       "version_minor": 0
      },
      "text/plain": [
       "Validation: 0it [00:00, ?it/s]"
      ]
     },
     "metadata": {},
     "output_type": "display_data"
    },
    {
     "data": {
      "application/vnd.jupyter.widget-view+json": {
       "model_id": "887d834ff3fc473fb58ffef69be90f72",
       "version_major": 2,
       "version_minor": 0
      },
      "text/plain": [
       "Validation: 0it [00:00, ?it/s]"
      ]
     },
     "metadata": {},
     "output_type": "display_data"
    },
    {
     "data": {
      "application/vnd.jupyter.widget-view+json": {
       "model_id": "526a105f09004cce837aafd9a5c5974e",
       "version_major": 2,
       "version_minor": 0
      },
      "text/plain": [
       "Validation: 0it [00:00, ?it/s]"
      ]
     },
     "metadata": {},
     "output_type": "display_data"
    },
    {
     "data": {
      "application/vnd.jupyter.widget-view+json": {
       "model_id": "3bc8fb0536a34f12891e74bf5f1c8bdb",
       "version_major": 2,
       "version_minor": 0
      },
      "text/plain": [
       "Validation: 0it [00:00, ?it/s]"
      ]
     },
     "metadata": {},
     "output_type": "display_data"
    },
    {
     "data": {
      "application/vnd.jupyter.widget-view+json": {
       "model_id": "8f9636534227431f98561692cfe678ae",
       "version_major": 2,
       "version_minor": 0
      },
      "text/plain": [
       "Validation: 0it [00:00, ?it/s]"
      ]
     },
     "metadata": {},
     "output_type": "display_data"
    },
    {
     "data": {
      "application/vnd.jupyter.widget-view+json": {
       "model_id": "7f0ce1a2fa2c4b97a9deb244a2ff50eb",
       "version_major": 2,
       "version_minor": 0
      },
      "text/plain": [
       "Validation: 0it [00:00, ?it/s]"
      ]
     },
     "metadata": {},
     "output_type": "display_data"
    },
    {
     "data": {
      "application/vnd.jupyter.widget-view+json": {
       "model_id": "41eb3c291a534445bb691d4f5a818320",
       "version_major": 2,
       "version_minor": 0
      },
      "text/plain": [
       "Validation: 0it [00:00, ?it/s]"
      ]
     },
     "metadata": {},
     "output_type": "display_data"
    },
    {
     "data": {
      "application/vnd.jupyter.widget-view+json": {
       "model_id": "f3266b76c4a546928b114051ebcd07a0",
       "version_major": 2,
       "version_minor": 0
      },
      "text/plain": [
       "Validation: 0it [00:00, ?it/s]"
      ]
     },
     "metadata": {},
     "output_type": "display_data"
    },
    {
     "data": {
      "application/vnd.jupyter.widget-view+json": {
       "model_id": "2ba39eeb8e2e4fd8827e4e5b6ee54f4a",
       "version_major": 2,
       "version_minor": 0
      },
      "text/plain": [
       "Validation: 0it [00:00, ?it/s]"
      ]
     },
     "metadata": {},
     "output_type": "display_data"
    },
    {
     "data": {
      "application/vnd.jupyter.widget-view+json": {
       "model_id": "569e556047214fd18739cf6d24737428",
       "version_major": 2,
       "version_minor": 0
      },
      "text/plain": [
       "Validation: 0it [00:00, ?it/s]"
      ]
     },
     "metadata": {},
     "output_type": "display_data"
    },
    {
     "data": {
      "application/vnd.jupyter.widget-view+json": {
       "model_id": "564c0c7c4d8c436d8b7498befbb026a5",
       "version_major": 2,
       "version_minor": 0
      },
      "text/plain": [
       "Validation: 0it [00:00, ?it/s]"
      ]
     },
     "metadata": {},
     "output_type": "display_data"
    },
    {
     "data": {
      "application/vnd.jupyter.widget-view+json": {
       "model_id": "4562988545f64de2b9dcbe6f4a6d1abe",
       "version_major": 2,
       "version_minor": 0
      },
      "text/plain": [
       "Validation: 0it [00:00, ?it/s]"
      ]
     },
     "metadata": {},
     "output_type": "display_data"
    },
    {
     "data": {
      "application/vnd.jupyter.widget-view+json": {
       "model_id": "37219631062e4bdf88d21519760fccdc",
       "version_major": 2,
       "version_minor": 0
      },
      "text/plain": [
       "Validation: 0it [00:00, ?it/s]"
      ]
     },
     "metadata": {},
     "output_type": "display_data"
    },
    {
     "data": {
      "application/vnd.jupyter.widget-view+json": {
       "model_id": "77278bbfae1e4645be3a7aeb1c78535f",
       "version_major": 2,
       "version_minor": 0
      },
      "text/plain": [
       "Validation: 0it [00:00, ?it/s]"
      ]
     },
     "metadata": {},
     "output_type": "display_data"
    },
    {
     "data": {
      "application/vnd.jupyter.widget-view+json": {
       "model_id": "1b5845435d2c4e73bf0461b5de19d01e",
       "version_major": 2,
       "version_minor": 0
      },
      "text/plain": [
       "Validation: 0it [00:00, ?it/s]"
      ]
     },
     "metadata": {},
     "output_type": "display_data"
    },
    {
     "data": {
      "application/vnd.jupyter.widget-view+json": {
       "model_id": "34652888bfe54f62ad2010ab873dadbe",
       "version_major": 2,
       "version_minor": 0
      },
      "text/plain": [
       "Validation: 0it [00:00, ?it/s]"
      ]
     },
     "metadata": {},
     "output_type": "display_data"
    },
    {
     "data": {
      "application/vnd.jupyter.widget-view+json": {
       "model_id": "9ec9bb03230d4919a688a76225423bf8",
       "version_major": 2,
       "version_minor": 0
      },
      "text/plain": [
       "Validation: 0it [00:00, ?it/s]"
      ]
     },
     "metadata": {},
     "output_type": "display_data"
    },
    {
     "data": {
      "application/vnd.jupyter.widget-view+json": {
       "model_id": "0d244978012a4a7f9d2eea81c53c51ce",
       "version_major": 2,
       "version_minor": 0
      },
      "text/plain": [
       "Validation: 0it [00:00, ?it/s]"
      ]
     },
     "metadata": {},
     "output_type": "display_data"
    },
    {
     "data": {
      "application/vnd.jupyter.widget-view+json": {
       "model_id": "4a3a51ebff334396abe8b7a4f78a3bf1",
       "version_major": 2,
       "version_minor": 0
      },
      "text/plain": [
       "Validation: 0it [00:00, ?it/s]"
      ]
     },
     "metadata": {},
     "output_type": "display_data"
    },
    {
     "data": {
      "application/vnd.jupyter.widget-view+json": {
       "model_id": "29f8ac695c0a4739aebaa57ca7457cf0",
       "version_major": 2,
       "version_minor": 0
      },
      "text/plain": [
       "Validation: 0it [00:00, ?it/s]"
      ]
     },
     "metadata": {},
     "output_type": "display_data"
    },
    {
     "data": {
      "application/vnd.jupyter.widget-view+json": {
       "model_id": "8f23e050a46742e8923afcc186769758",
       "version_major": 2,
       "version_minor": 0
      },
      "text/plain": [
       "Validation: 0it [00:00, ?it/s]"
      ]
     },
     "metadata": {},
     "output_type": "display_data"
    },
    {
     "data": {
      "application/vnd.jupyter.widget-view+json": {
       "model_id": "f8905568d99c489a81ca162a2365c209",
       "version_major": 2,
       "version_minor": 0
      },
      "text/plain": [
       "Validation: 0it [00:00, ?it/s]"
      ]
     },
     "metadata": {},
     "output_type": "display_data"
    },
    {
     "data": {
      "application/vnd.jupyter.widget-view+json": {
       "model_id": "19d3a0aa6e87464d8fa15095e88f566c",
       "version_major": 2,
       "version_minor": 0
      },
      "text/plain": [
       "Validation: 0it [00:00, ?it/s]"
      ]
     },
     "metadata": {},
     "output_type": "display_data"
    },
    {
     "name": "stderr",
     "output_type": "stream",
     "text": [
      "wandb: Network error (ReadTimeout), entering retry loop.\n"
     ]
    },
    {
     "data": {
      "application/vnd.jupyter.widget-view+json": {
       "model_id": "6d7a08cdec304d06bd3b9e9070ed8f17",
       "version_major": 2,
       "version_minor": 0
      },
      "text/plain": [
       "Validation: 0it [00:00, ?it/s]"
      ]
     },
     "metadata": {},
     "output_type": "display_data"
    },
    {
     "data": {
      "application/vnd.jupyter.widget-view+json": {
       "model_id": "39edafbdffc54e1e84dae4686437987d",
       "version_major": 2,
       "version_minor": 0
      },
      "text/plain": [
       "Validation: 0it [00:00, ?it/s]"
      ]
     },
     "metadata": {},
     "output_type": "display_data"
    },
    {
     "data": {
      "application/vnd.jupyter.widget-view+json": {
       "model_id": "24045ca9b26e41959b1b030e37941b85",
       "version_major": 2,
       "version_minor": 0
      },
      "text/plain": [
       "Validation: 0it [00:00, ?it/s]"
      ]
     },
     "metadata": {},
     "output_type": "display_data"
    },
    {
     "data": {
      "application/vnd.jupyter.widget-view+json": {
       "model_id": "87cb752da77a4ff38bd01f67e7460986",
       "version_major": 2,
       "version_minor": 0
      },
      "text/plain": [
       "Validation: 0it [00:00, ?it/s]"
      ]
     },
     "metadata": {},
     "output_type": "display_data"
    },
    {
     "data": {
      "application/vnd.jupyter.widget-view+json": {
       "model_id": "df9f8168915a4f86b8008ad683a25a1f",
       "version_major": 2,
       "version_minor": 0
      },
      "text/plain": [
       "Validation: 0it [00:00, ?it/s]"
      ]
     },
     "metadata": {},
     "output_type": "display_data"
    },
    {
     "data": {
      "application/vnd.jupyter.widget-view+json": {
       "model_id": "6a9b7b2522b84dd2bb6114d9c07987cb",
       "version_major": 2,
       "version_minor": 0
      },
      "text/plain": [
       "Validation: 0it [00:00, ?it/s]"
      ]
     },
     "metadata": {},
     "output_type": "display_data"
    },
    {
     "data": {
      "application/vnd.jupyter.widget-view+json": {
       "model_id": "d35c946ff3464e4b831e59a7bba4da91",
       "version_major": 2,
       "version_minor": 0
      },
      "text/plain": [
       "Validation: 0it [00:00, ?it/s]"
      ]
     },
     "metadata": {},
     "output_type": "display_data"
    },
    {
     "data": {
      "application/vnd.jupyter.widget-view+json": {
       "model_id": "1f1f3f030f284c3cb0ecb661c843d15c",
       "version_major": 2,
       "version_minor": 0
      },
      "text/plain": [
       "Validation: 0it [00:00, ?it/s]"
      ]
     },
     "metadata": {},
     "output_type": "display_data"
    },
    {
     "data": {
      "text/html": [
       "Waiting for W&B process to finish... <strong style=\"color:green\">(success).</strong>"
      ],
      "text/plain": [
       "<IPython.core.display.HTML object>"
      ]
     },
     "metadata": {},
     "output_type": "display_data"
    },
    {
     "data": {
      "application/vnd.jupyter.widget-view+json": {
       "model_id": "f192c303fded409b8d117551d401be21",
       "version_major": 2,
       "version_minor": 0
      },
      "text/plain": [
       "VBox(children=(Label(value='0.001 MB of 0.204 MB uploaded (0.000 MB deduped)\\r'), FloatProgress(value=0.003596…"
      ]
     },
     "metadata": {},
     "output_type": "display_data"
    },
    {
     "data": {
      "text/html": [
       "<style>\n",
       "    table.wandb td:nth-child(1) { padding: 0 10px; text-align: left ; width: auto;} td:nth-child(2) {text-align: left ; width: 100%}\n",
       "    .wandb-row { display: flex; flex-direction: row; flex-wrap: wrap; justify-content: flex-start; width: 100% }\n",
       "    .wandb-col { display: flex; flex-direction: column; flex-basis: 100%; flex: 1; padding: 10px; }\n",
       "    </style>\n",
       "<div class=\"wandb-row\"><div class=\"wandb-col\"><h3>Run history:</h3><br/><table class=\"wandb\"><tr><td>epoch</td><td>▁▁▁▁▂▂▂▂▂▃▃▃▃▃▃▄▄▄▄▄▅▅▅▅▅▅▆▆▆▆▆▇▇▇▇▇▇███</td></tr><tr><td>lr-AdamW</td><td>█▇▄▂█▇▄▂█▇▄▂█▆▄▁█▆▄▁█▆▄▁█▆▃▁█▆▃▁█▆▃▁█▆▃▁</td></tr><tr><td>train/epoch_F1_0</td><td>▁▄▇▇▇▇▇▇▇▇▇█▇███▇███████████████████████</td></tr><tr><td>train/epoch_F1_1</td><td>▁▆▆▇▆▇▇▇▇▇▇▇▇▇▇▇▇▇██▇▇██▇███████████████</td></tr><tr><td>train/epoch_F1_10</td><td>▁▁▆▇▆▇▇▇▇▇▇▇▇▇▇█▇█▇██▇██▇███████████████</td></tr><tr><td>train/epoch_F1_11</td><td>▁▁▁▁▁▁▁▁▁▁▁▄▅▅▆▆▅▆▆▇▆▆▆▇▆▆▇▇▆▇▇▇▇▇▇█▇▇▇█</td></tr><tr><td>train/epoch_F1_12</td><td>▁▅▆▆▆▆▆▇▆▆▇▇▇▇▇▇▇▇▇█▇▇▇█▇███▇███████████</td></tr><tr><td>train/epoch_F1_13</td><td>▁▁▁▁▁▁▁▁▁▂▅▅▅▆▆▇▆▆▆▇▆▆▇▇▆▇▇█▇▇██▇███████</td></tr><tr><td>train/epoch_F1_2</td><td>▁▁▁▁▁▁▁▁▁▁▁▁▁▁▁▁▁▁▁▁▁▁▁▁▁▁▁▁▁▁▁▁▁▁▁▁▁▁▁▁</td></tr><tr><td>train/epoch_F1_3</td><td>▁▁▃▃▃▃▅▅▅▅▆▆▆▆▇▇▆▇▇▇▇▇▇▇▇▇██▇▇██▇███████</td></tr><tr><td>train/epoch_F1_4</td><td>▁▁▄▄▄▄▅▅▅▅▆▆▆▆▇▇▆▇▇▇▇▇▇▇▇▇██▇███▇███████</td></tr><tr><td>train/epoch_F1_5</td><td>▁▁▁▁▁▁▁▁▁▂▄▅▄▅▅▆▅▆▆▇▇▆▇▇▇▇█▇▇▇██▇▇██████</td></tr><tr><td>train/epoch_F1_6</td><td>▁▁▁▁▁▁▁▁▁▁▆▆▆▆▇▇▇▇▇▇█▇▇██▇▇██▇█▇▇▇███▇▇█</td></tr><tr><td>train/epoch_F1_7</td><td>▁▁▁▁▁▁▁▁▁▁▁▁▁▁▁▁▁▁▁▁▁▁▁▁▁▁▁▁▁▁▁▁▁▁▁▁▁▁▁▁</td></tr><tr><td>train/epoch_F1_8</td><td>▁▁▁▁▁▁▁▁▁▁▁▁▁▁▁▁▁▁▁▁▁▁▁▁▁▁▁▁▁▁▁▁▁▁▁▁▁▁▁▁</td></tr><tr><td>train/epoch_F1_9</td><td>▁▆▆▇▆▇▇▇▇▇▇▇▇▇▇▇▇▇██▇▇██▇███████████████</td></tr><tr><td>train/epoch_FN_0</td><td>█▆▂▂▂▂▂▂▂▂▁▁▂▁▁▁▁▁▁▁▁▁▁▁▁▁▁▁▁▁▁▁▁▁▁▁▁▁▁▁</td></tr><tr><td>train/epoch_FN_1</td><td>█▄▃▂▃▃▂▂▂▂▂▂▂▂▂▁▂▂▁▁▂▂▁▁▁▁▁▁▁▁▁▁▁▁▁▁▁▁▁▁</td></tr><tr><td>train/epoch_FN_10</td><td>██▃▂▃▂▂▂▂▂▂▂▂▂▂▁▂▁▁▁▁▁▁▁▁▁▁▁▁▁▁▁▁▁▁▁▁▁▁▁</td></tr><tr><td>train/epoch_FN_11</td><td>███████████▅▄▃▃▂▃▂▃▂▂▂▂▂▂▂▁▂▂▂▁▁▁▂▁▁▁▁▁▁</td></tr><tr><td>train/epoch_FN_12</td><td>█▄▃▃▃▃▂▂▃▂▂▂▂▂▂▂▂▂▂▁▂▂▂▁▂▁▁▁▂▁▁▁▁▁▁▁▁▁▁▁</td></tr><tr><td>train/epoch_FN_13</td><td>██████████▅▄▄▄▃▂▃▃▃▂▃▃▂▂▃▂▂▂▃▂▁▁▂▂▁▁▂▁▁▁</td></tr><tr><td>train/epoch_FN_2</td><td>▁▁▁▁▁▁▁▁▁▁▁▁▁▁▁▁▁▁▁▁▁▁▁▁▁▁▁▁▁▁▁▁▁▁▁▁▁▁▁▁</td></tr><tr><td>train/epoch_FN_3</td><td>██▇▆▇▆▄▄▅▄▃▃▃▃▂▂▃▂▂▂▂▂▂▂▂▂▂▁▂▂▁▁▂▁▁▁▁▁▁▁</td></tr><tr><td>train/epoch_FN_4</td><td>██▆▅▆▅▄▄▅▄▃▃▃▃▂▂▃▂▂▂▂▂▂▂▂▂▁▁▂▁▁▁▂▁▁▁▁▁▁▁</td></tr><tr><td>train/epoch_FN_5</td><td>█████████▇▆▅▆▅▄▃▄▃▃▂▃▂▂▂▂▂▁▁▂▂▁▁▂▁▁▁▁▁▁▁</td></tr><tr><td>train/epoch_FN_6</td><td>█████████▇▃▃▃▃▂▂▂▂▂▂▂▂▂▂▂▂▂▂▂▂▂▂▂▂▁▁▁▁▁▁</td></tr><tr><td>train/epoch_FN_7</td><td>▁▁▁▁▁▁▁▁▁▁▁▁▁▁▁▁▁▁▁▁▁▁▁▁▁▁▁▁▁▁▁▁▁▁▁▁▁▁▁▁</td></tr><tr><td>train/epoch_FN_8</td><td>▁▁▁▁▁▁▁▁▁▁▁▁▁▁▁▁▁▁▁▁▁▁▁▁▁▁▁▁▁▁▁▁▁▁▁▁▁▁▁▁</td></tr><tr><td>train/epoch_FN_9</td><td>█▄▃▂▃▃▂▂▂▂▂▂▂▂▂▁▂▂▁▁▂▁▁▁▁▁▁▁▁▁▁▁▁▁▁▁▁▁▁▁</td></tr><tr><td>train/epoch_FP_0</td><td>▁▃▇▇█▇▇▆▇▇▆▆▇▆▆▆▆▆▆▆▆▆▆▅▆▅▅▅▆▅▅▅▆▅▅▅▅▅▅▅</td></tr><tr><td>train/epoch_FP_1</td><td>▁█████▇▇▇▇▆▆▇▆▆▆▆▆▆▆▆▆▆▅▆▆▅▅▆▅▅▅▅▅▅▅▅▅▅▅</td></tr><tr><td>train/epoch_FP_10</td><td>▁▁███▇▇▇▇▇▆▅▆▆▅▅▅▅▅▅▅▅▅▅▅▅▅▅▅▅▅▅▅▅▅▅▅▅▄▄</td></tr><tr><td>train/epoch_FP_11</td><td>▂▁▁▁▁▁▁▁▁▁▁▃▆▇▆█▇▇▆▇▇▇█▆▇▆▇▆▇▇▆▆▆▆▆▆▆▆▆▆</td></tr><tr><td>train/epoch_FP_12</td><td>▁█████▇▇▇▇▆▆▆▆▆▅▆▆▅▅▅▅▅▅▅▅▅▅▅▅▄▄▅▅▄▄▅▅▄▄</td></tr><tr><td>train/epoch_FP_13</td><td>▁▁▁▁▁▁▁▁▁▂▅▆▇█▇███▇▇▇██▇▇▇▇▆▇▇▇▆▇▇▆▆▇▆▆▆</td></tr><tr><td>train/epoch_FP_2</td><td>█▁▁▁▁▁▁▁▁▁▁▁▁▁▁▁▁▁▁▁▁▁▁▁▁▁▁▁▁▁▁▁▁▁▁▁▁▁▁▁</td></tr><tr><td>train/epoch_FP_3</td><td>▁▂▇█▆▇██▇▇▆▆▆▆▆▆▆▆▅▅▆▅▅▅▆▅▅▅▅▅▅▅▅▅▅▄▅▅▄▄</td></tr><tr><td>train/epoch_FP_4</td><td>▁▁▆█▆█▇▇▇▇▆▆▆▆▆▅▅▅▅▅▅▅▅▅▅▅▅▄▅▅▄▄▄▄▄▄▄▄▄▄</td></tr><tr><td>train/epoch_FP_5</td><td>▂▁▁▁▁▁▁▁▁▂▅▆▇▆▆▆▇▆▇▆▇▇█▆█▆▆▆▆▆▅▅▆▅▅▅▅▅▅▅</td></tr><tr><td>train/epoch_FP_6</td><td>▁▁▁▁▁▁▁▁▁▁█▇█▇▅▅▆▅▅▄▅▅▄▄▅▅▄▄▅▄▄▄▅▄▄▄▄▄▄▄</td></tr><tr><td>train/epoch_FP_7</td><td>█▁▁▁▁▁▁▁▁▁▁▁▁▁▁▁▁▁▁▁▁▁▁▁▁▁▁▁▁▁▁▁▁▁▁▁▁▁▁▁</td></tr><tr><td>train/epoch_FP_8</td><td>█▁▁▁▁▁▁▁▁▁▁▁▁▁▁▁▁▁▁▁▁▁▁▁▁▁▁▁▁▁▁▁▁▁▁▁▁▁▁▁</td></tr><tr><td>train/epoch_FP_9</td><td>▁█▇▇▇▇▇▆▇▇▆▆▆▆▆▅▆▆▅▅▆▅▅▅▆▅▅▅▅▅▅▅▅▅▅▄▅▅▄▄</td></tr><tr><td>train/epoch_IoU_0</td><td>▁▃▆▆▆▆▇▇▇▇▇▇▇▇▇▇▇▇▇█▇▇▇█▇███████████████</td></tr><tr><td>train/epoch_IoU_1</td><td>▁▅▆▆▆▆▆▇▆▆▇▇▇▇▇▇▇▇▇▇▇▇▇▇▇▇██▇▇██▇███████</td></tr><tr><td>train/epoch_IoU_10</td><td>▁▁▆▆▆▆▆▆▆▆▇▇▇▇▇▇▇▇▇▇▇▇▇▇▇▇██▇███████████</td></tr><tr><td>train/epoch_IoU_11</td><td>▁▁▁▁▁▁▁▁▁▁▁▄▄▅▆▆▅▅▆▆▆▅▆▆▆▆▇▇▆▇▇▇▆▇▇█▇▇▇█</td></tr><tr><td>train/epoch_IoU_12</td><td>▁▄▅▅▅▅▆▆▆▆▆▇▆▆▇▇▇▇▇▇▇▇▇▇▇▇██▇▇██▇███████</td></tr><tr><td>train/epoch_IoU_13</td><td>▁▁▁▁▁▁▁▁▁▂▄▅▄▅▆▆▅▆▆▇▆▆▆▇▆▆▇▇▇▇▇█▇▇██▇███</td></tr><tr><td>train/epoch_IoU_2</td><td>▁▁▁▁▁▁▁▁▁▁▁▁▁▁▁▁▁▁▁▁▁▁▁▁▁▁▁▁▁▁▁▁▁▁▁▁▁▁▁▁</td></tr><tr><td>train/epoch_IoU_3</td><td>▁▁▂▂▂▃▄▄▄▄▅▆▅▆▆▆▆▆▇▇▆▇▇▇▆▇▇▇▇▇▇█▇▇██▇▇██</td></tr><tr><td>train/epoch_IoU_4</td><td>▁▁▃▃▃▃▄▄▄▄▅▅▅▅▆▆▆▆▇▇▆▆▇▇▆▇▇▇▇▇██▇▇██▇███</td></tr><tr><td>train/epoch_IoU_5</td><td>▁▁▁▁▁▁▁▁▁▂▃▄▃▄▅▅▄▆▆▆▆▆▆▇▆▇▇▇▆▇██▇▇██▇▇██</td></tr><tr><td>train/epoch_IoU_6</td><td>▁▁▁▁▁▁▁▁▁▁▅▆▆▆▆▆▇▆▇▆▇▇▇▇▇▇▇█▇▇▇▇▇▇███▇▇█</td></tr><tr><td>train/epoch_IoU_7</td><td>▁▁▁▁▁▁▁▁▁▁▁▁▁▁▁▁▁▁▁▁▁▁▁▁▁▁▁▁▁▁▁▁▁▁▁▁▁▁▁▁</td></tr><tr><td>train/epoch_IoU_8</td><td>▁▁▁▁▁▁▁▁▁▁▁▁▁▁▁▁▁▁▁▁▁▁▁▁▁▁▁▁▁▁▁▁▁▁▁▁▁▁▁▁</td></tr><tr><td>train/epoch_IoU_9</td><td>▁▅▆▆▅▆▆▇▆▆▇▇▇▇▇▇▇▇▇▇▇▇▇▇▇▇██▇▇██▇███████</td></tr><tr><td>train/epoch_Precision_0</td><td>▁█▇▇▇▇▇▇▇▇▇▇▇▇██▇████▇██████████████████</td></tr><tr><td>train/epoch_Precision_1</td><td>▁▆▆▆▆▆▇▇▇▇▇▇▇▇▇▇▇▇▇▇▇▇▇█▇███▇███████████</td></tr><tr><td>train/epoch_Precision_10</td><td>▁▁▆▇▆▇▇▇▇▇▇▇▇▇▇█▇█▇██▇██▇███████████████</td></tr><tr><td>train/epoch_Precision_11</td><td>▁▁▁▁▁▁▃▃▂▃▆▇▆▆▇▆▆▆▇▇▇▆▆▇▇▇▇█▆▇▇▇▇█▇█▇█▇█</td></tr><tr><td>train/epoch_Precision_12</td><td>▁▅▆▆▆▆▆▆▆▆▇▇▇▇▇▇▇▇▇▇▇▇▇█▇▇██▇███████████</td></tr><tr><td>train/epoch_Precision_13</td><td>▁▁▁▁▁▁▄▄▃▆▇▇▆▆▇▇▆▇▇▇▇▆▇▇▇▇▇█▇▇▇█▇███████</td></tr><tr><td>train/epoch_Precision_2</td><td>▁▁▁▁▁▁▁▁▁▁▁▁▁▁▁▁▁▁▁▁▁▁▁▁▁▁▁▁▁▁▁▁▁▁▁▁▁▁▁▁</td></tr><tr><td>train/epoch_Precision_3</td><td>▁▂▃▄▄▄▅▆▆▆▇▇▆▇▇▇▇▇▇▇▇▇▇█▇▇██▇███▇███████</td></tr><tr><td>train/epoch_Precision_4</td><td>▁▃▄▄▄▄▅▅▅▆▆▆▆▇▇▇▇▇▇▇▇▇▇▇▇▇██▇███████████</td></tr><tr><td>train/epoch_Precision_5</td><td>▁▁▁▁▁▁▁▁▂▅▆▆▅▆▆▇▆▇▇▇▇▇▇▇▇▇█▇▇███▇▇██████</td></tr><tr><td>train/epoch_Precision_6</td><td>▁▁▁▁▁▁▁▁▁▆▆▆▇▆▇▇▇▇▇▇▇▇▇▇█▇▇██▇▇▇▇▇██▇▇▇█</td></tr><tr><td>train/epoch_Precision_7</td><td>▁▁▁▁▁▁▁▁▁▁▁▁▁▁▁▁▁▁▁▁▁▁▁▁▁▁▁▁▁▁▁▁▁▁▁▁▁▁▁▁</td></tr><tr><td>train/epoch_Precision_8</td><td>▁▁▁▁▁▁▁▁▁▁▁▁▁▁▁▁▁▁▁▁▁▁▁▁▁▁▁▁▁▁▁▁▁▁▁▁▁▁▁▁</td></tr><tr><td>train/epoch_Precision_9</td><td>▁▆▆▇▆▇▇▇▇▇▇▇▇▇▇▇▇▇▇█▇▇▇█▇███████████████</td></tr><tr><td>train/epoch_Recall_0</td><td>▁▃▇▇▇▇▇▇▇▇██▇███████████████████████████</td></tr><tr><td>train/epoch_Recall_1</td><td>▁▅▆▇▆▆▇▇▇▇▇▇▇▇▇█▇▇██▇███████████████████</td></tr><tr><td>train/epoch_Recall_10</td><td>▁▁▇▇▇▇▇▇▇▇▇▇▇▇▇▇▇▇▇█▇███████████████████</td></tr><tr><td>train/epoch_Recall_11</td><td>▁▁▁▁▁▁▁▁▁▁▁▄▅▆▆▇▅▆▆▇▆▆▇▇▆▇▇▇▆▇▇▇▇█▇█▇███</td></tr><tr><td>train/epoch_Recall_12</td><td>▁▅▆▆▆▆▇▇▆▇▇▇▇▇▇▇▇▇▇█▇▇▇█▇███▇███████████</td></tr><tr><td>train/epoch_Recall_13</td><td>▁▁▁▁▁▁▁▁▁▁▄▅▅▆▆▇▆▆▆▇▆▆▇▇▆▇▇▇▇▇██▇▇██████</td></tr><tr><td>train/epoch_Recall_2</td><td>▁▁▁▁▁▁▁▁▁▁▁▁▁▁▁▁▁▁▁▁▁▁▁▁▁▁▁▁▁▁▁▁▁▁▁▁▁▁▁▁</td></tr><tr><td>train/epoch_Recall_3</td><td>▁▁▂▃▂▃▅▅▅▅▆▆▆▆▇▇▆▇▇▇▇▇▇▇▇▇▇█▇▇██▇███████</td></tr><tr><td>train/epoch_Recall_4</td><td>▁▁▃▄▃▄▅▅▄▅▆▆▆▆▇▇▆▇▇▇▇▇▇▇▇▇██▇███▇███████</td></tr><tr><td>train/epoch_Recall_5</td><td>▁▁▁▁▁▁▁▁▁▂▃▄▄▄▅▆▅▆▆▇▇▆▇▇▇▇█▇▇███▇▇██████</td></tr><tr><td>train/epoch_Recall_6</td><td>▁▁▁▁▁▁▁▁▁▁▆▇▆▆▇▆▇▇▇▇█▇▇▇█▇▇██▇█▇▇▇███▇▇█</td></tr><tr><td>train/epoch_Recall_7</td><td>▁▁▁▁▁▁▁▁▁▁▁▁▁▁▁▁▁▁▁▁▁▁▁▁▁▁▁▁▁▁▁▁▁▁▁▁▁▁▁▁</td></tr><tr><td>train/epoch_Recall_8</td><td>▁▁▁▁▁▁▁▁▁▁▁▁▁▁▁▁▁▁▁▁▁▁▁▁▁▁▁▁▁▁▁▁▁▁▁▁▁▁▁▁</td></tr><tr><td>train/epoch_Recall_9</td><td>▁▆▆▇▆▆▇▇▇▇▇▇▇▇▇█▇▇██▇███████████████████</td></tr><tr><td>train/epoch_TN_0</td><td>█▆▂▂▁▂▂▃▂▂▃▃▂▂▃▃▃▃▃▃▃▃▃▄▃▃▄▄▃▄▄▄▃▄▄▄▄▄▄▄</td></tr><tr><td>train/epoch_TN_1</td><td>█▁▁▁▁▂▂▂▂▂▃▃▂▃▃▃▃▃▃▃▃▃▃▄▃▃▄▄▃▄▄▄▄▄▄▄▄▄▄▄</td></tr><tr><td>train/epoch_TN_10</td><td>██▁▁▁▂▂▂▂▂▃▃▃▃▄▄▄▄▄▄▄▄▄▄▄▄▄▄▄▄▄▄▄▄▄▄▄▄▄▄</td></tr><tr><td>train/epoch_TN_11</td><td>▇██████████▆▃▂▃▁▁▂▂▂▁▁▁▃▂▂▂▃▂▂▃▃▃▂▃▃▃▃▃▃</td></tr><tr><td>train/epoch_TN_12</td><td>█▁▁▁▁▁▂▂▂▂▃▃▃▃▃▄▃▃▄▄▄▄▄▄▄▄▄▄▄▄▅▅▄▅▅▅▄▄▅▅</td></tr><tr><td>train/epoch_TN_13</td><td>██████▇██▇▄▄▃▁▂▁▁▁▂▂▂▂▁▂▂▂▂▃▁▂▂▃▃▃▃▃▃▃▃▄</td></tr><tr><td>train/epoch_TN_2</td><td>▁███████████████████████████████████████</td></tr><tr><td>train/epoch_TN_3</td><td>█▇▂▂▃▂▁▁▂▂▃▃▃▃▃▃▃▃▄▄▃▄▄▄▃▄▄▄▄▄▄▄▄▄▄▅▄▄▅▅</td></tr><tr><td>train/epoch_TN_4</td><td>██▂▁▃▁▂▂▂▂▃▃▃▃▃▄▄▄▄▄▄▄▄▄▄▄▄▅▄▄▅▅▅▅▅▅▅▅▅▅</td></tr><tr><td>train/epoch_TN_5</td><td>▇████████▇▄▃▂▃▃▃▂▃▂▃▂▂▂▃▁▃▃▄▃▃▄▄▃▄▄▄▄▄▄▄</td></tr><tr><td>train/epoch_TN_6</td><td>█▇████████▁▂▁▂▄▃▃▄▅▅▄▄▅▄▄▅▅▄▄▅▅▅▄▅▅▅▄▄▅▅</td></tr><tr><td>train/epoch_TN_7</td><td>▁███████████████████████████████████████</td></tr><tr><td>train/epoch_TN_8</td><td>▁▁▁▁▁▁▁▁▁▁▁▁▁▁▁▁▁▁▁▁▁▁▁▁▁▁▁▁▁▁▁▁▁▁▁▁▁▁▁▁</td></tr><tr><td>train/epoch_TN_9</td><td>█▁▂▂▂▂▂▃▂▂▃▃▃▃▃▄▃▃▄▄▃▃▄▄▃▄▄▄▄▄▄▄▄▄▄▅▄▄▄▅</td></tr><tr><td>train/epoch_TP_0</td><td>▁▃▇▇▇▇▇▇▇▇▇█▇███████████████████████████</td></tr><tr><td>train/epoch_TP_1</td><td>▁▅▆▇▆▆▇▇▇▇▇▇▇▇▇█▇▇██▇███████████████████</td></tr><tr><td>train/epoch_TP_10</td><td>▁▁▆▇▆▇▇▇▇▇▇▇▇▇▇▇▇▇██████████▇███████████</td></tr><tr><td>train/epoch_TP_11</td><td>▁▁▁▁▁▁▁▁▁▁▁▄▅▆▆▇▆▇▆▇▇▇▇▇▇▇▇▇▇▇██▇▇██▇███</td></tr><tr><td>train/epoch_TP_12</td><td>▁▅▆▆▆▆▇▇▆▇▇▇▇▇▇▇▇▇▇█▇▇▇█▇███▇███████████</td></tr><tr><td>train/epoch_TP_13</td><td>▁▁▁▁▁▁▁▁▁▁▄▅▅▆▆▇▆▆▇▇▆▇▇▇▆▇▇▇▇▇██▇▇██▇███</td></tr><tr><td>train/epoch_TP_2</td><td>▁▁▁▁▁▁▁▁▁▁▁▁▁▁▁▁▁▁▁▁▁▁▁▁▁▁▁▁▁▁▁▁▁▁▁▁▁▁▁▁</td></tr><tr><td>train/epoch_TP_3</td><td>▁▁▂▃▂▃▅▅▄▅▆▆▆▆▇▇▆▇▇▇▇▇▇▇▇▇▇█▇▇██▇███████</td></tr><tr><td>train/epoch_TP_4</td><td>▁▁▃▄▃▄▅▅▄▅▆▆▆▆▇▇▆▇▇▇▇▇▇▇▇▇██▇███▇███████</td></tr><tr><td>train/epoch_TP_5</td><td>▁▁▁▁▁▁▁▁▁▁▃▄▄▄▅▆▅▆▆▇▆▇▇▇▇▇██▇▇██▇▇██▇███</td></tr><tr><td>train/epoch_TP_6</td><td>▁▁▁▁▁▁▁▁▁▁▆▆▆▆▇▇▇▇▇▇▇▇▇▇▇▇▇▇▇▇▇█▇▇██████</td></tr><tr><td>train/epoch_TP_7</td><td>▁▁▁▁▁▁▁▁▁▁▁▁▁▁▁▁▁▁▁▁▁▁▁▁▁▁▁▁▁▁▁▁▁▁▁▁▁▁▁▁</td></tr><tr><td>train/epoch_TP_8</td><td>▁▁▁▁▁▁▁▁▁▁▁▁▁▁▁▁▁▁▁▁▁▁▁▁▁▁▁▁▁▁▁▁▁▁▁▁▁▁▁▁</td></tr><tr><td>train/epoch_TP_9</td><td>▁▅▆▇▆▆▇▇▇▇▇▇▇▇▇█▇▇██▇███████████████████</td></tr><tr><td>train/epoch_loss</td><td>█▄▃▃▃▃▃▂▂▂▂▂▃▂▂▂▂▂▂▂▂▁▂▂▂▂▂▂▂▂▂▁▁▂▂▂▂▁▁▁</td></tr><tr><td>train/iter_F1_0</td><td>▁▅▇▇▇▇█▇▇██▇▇▇▆▇████▇█▇████▇█▇█████▇▇███</td></tr><tr><td>train/iter_F1_1</td><td>▁▆▆▇▇▇▇▇▇▇▇▇▇▇▇▇▇▇███▇▇▇▇███▇███▇███▇███</td></tr><tr><td>train/iter_F1_10</td><td>▁▅▇▇▇▇█▇▆▇█▇▇▇▆▇██▇█▇█▇███▇▇█▇██▇▇█▇▇███</td></tr><tr><td>train/iter_F1_11</td><td>▁▁▁▁▁▁▁▁▁▁▂▄▇▆▅▇▃▇▄▇█▂▇▇▆▁▅▇▃▄▇▇▄▇██▇▇██</td></tr><tr><td>train/iter_F1_12</td><td>▁▆▆▇▆▇▇▇▆▇▇▇▇▇▇▇▇▇████▇█▇███▇███████▇███</td></tr><tr><td>train/iter_F1_13</td><td>▁▁▁▁▁▁▁▁▁▂▇▅▆▆▆█▆▆▇▆█▆▇▇▆▇▅█▃▆▇▇▇▇██▇▇██</td></tr><tr><td>train/iter_F1_2</td><td>▁▁▁▁▁▁▁▁▁▁▁▁▁▁▁▁▁▁▁▁▁▁▁▁▁▁▁▁▁▁▁▁▁▁▁▁▁▁▁▁</td></tr><tr><td>train/iter_F1_3</td><td>▁▃▂▂▃▃▄▆▄▆▆▆▆▆▇▇▇▇▇▇▇▇▇▇▇▇██▇███▇███▆███</td></tr><tr><td>train/iter_F1_4</td><td>▁▂▄▅▄▄▆▅▃▇▆▆▆▅▆▇▇▇█▇▇▇▇█▇██▇▇█▇████▇████</td></tr><tr><td>train/iter_F1_5</td><td>▁▁▁▁▁▁▁▁▁▁▅▅▄▃▆▇▅▆▆▆█▆▆▇▇▇█▇▇▇▇█▆▇▇█▇▇██</td></tr><tr><td>train/iter_F1_6</td><td>▁▁▁▁▁▁▁▁▁▄▁▁▇▁▇▁▁▆▇█▁▇█▁▁▇▇██▆▇▁▁██▇▇█▁█</td></tr><tr><td>train/iter_F1_7</td><td>▁▁▁▁▁▁▁▁▁▁▁▁▁▁▁▁▁▁▁▁▁▁▁▁▁▁▁▁▁▁▁▁▁▁▁▁▁▁▁▁</td></tr><tr><td>train/iter_F1_8</td><td>▁▁▁▁▁▁▁▁▁▁▁▁▁▁▁▁▁▁▁▁▁▁▁▁▁▁▁▁▁▁▁▁▁▁▁▁▁▁▁▁</td></tr><tr><td>train/iter_F1_9</td><td>▁▆▆▇▇▇▇▇▇▇▇▇▇▇▇▇▇▇███▇▇▇▇███▇███▇███▇███</td></tr><tr><td>train/iter_FN_0</td><td>█▁▃▄▃▂▂▂▂▂▁▂▂▂▁▁▂▂▂▂▂▁▂▂▁▁▁▂▂▂▂▂▂▂▂▂▂▂▁▁</td></tr><tr><td>train/iter_FN_1</td><td>█▂▃▃▃▂▁▂▃▂▂▂▃▃▁▁▃▂▂▁▂▂▂▁▂▁▂▁▂▁▂▁▂▁▁▂▂▁▁▁</td></tr><tr><td>train/iter_FN_10</td><td>█▁▃▄▃▃▂▂▂▂▁▂▂▂▁▁▂▂▃▂▂▂▂▂▁▂▂▁▂▁▂▂▁▂▂▃▂▂▁▁</td></tr><tr><td>train/iter_FN_11</td><td>▆▃▂▅█▁▂▁▆▄▃▃▅▂▁▂▂▂▁▄▁▁▂▁▃▁▁▃▁▂▃▂▅▆▂▁▂▂▁▂</td></tr><tr><td>train/iter_FN_12</td><td>█▂▄▄▃▂▂▂▃▂▂▂▂▃▂▁▃▂▂▁▂▂▂▁▂▂▂▁▂▁▂▁▁▁▁▂▂▁▁▂</td></tr><tr><td>train/iter_FN_13</td><td>▄▃▃▄▇▄▂▁▇▄▄▂█▃▂▁▃▂▂▃▁▁▂▁▃▁▂▂▁▁▂▁▃▂▁▁▃▂▁▁</td></tr><tr><td>train/iter_FN_2</td><td>▁▁▁▁▁▁▁▁▁▁▁▁▁▁▁▁▁▁▁▁▁▁▁▁▁▁▁▁▁▁▁▁▁▁▁▁▁▁▁▁</td></tr><tr><td>train/iter_FN_3</td><td>▆▄▇█▇▄▂▄▆▃▅▂▆▆▁▂▅▃▃▁▂▂▃▁▂▂▂▂▂▂▂▁▂▁▁▂▃▁▁▁</td></tr><tr><td>train/iter_FN_4</td><td>█▄▆█▅▄▃▃▆▃▄▄▄▄▃▁▄▂▂▃▃▂▂▁▃▁▂▁▂▁▃▁▂▂▂▂▂▂▁▁</td></tr><tr><td>train/iter_FN_5</td><td>▅▇▇▁▇█▃▂▅█▃▃▇▃▃▂▃▃▂▃▁▁▄▁▂▂▂▂▂▂▄▁▁▁▂▁▁▁▁▂</td></tr><tr><td>train/iter_FN_6</td><td>▅▃▃▇▃▅▆▇█▁▁▁▁▁▂▁▁▂▁▂▁▃▁▁▁▂▁▁▂▂▂▁▁▁▁▁▁▂▁▁</td></tr><tr><td>train/iter_FN_7</td><td>▁▁▁▁▁▁▁▁▁▁▁▁▁▁▁▁▁▁▁▁▁▁▁▁▁▁▁▁▁▁▁▁▁▁▁▁▁▁▁▁</td></tr><tr><td>train/iter_FN_8</td><td>▁▁▁▁▁▁▁▁▁▁▁▁▁▁▁▁▁▁▁▁▁▁▁▁▁▁▁▁▁▁▁▁▁▁▁▁▁▁▁▁</td></tr><tr><td>train/iter_FN_9</td><td>█▂▃▃▃▂▁▂▃▂▂▂▃▃▂▁▃▂▂▁▂▂▂▁▂▂▂▁▂▁▂▁▂▁▁▂▂▁▁▁</td></tr><tr><td>train/iter_FP_0</td><td>▁▆▄▆▇▄▄▆▆▆▃▄▆▃▄▂▅▃▆▅▅▃█▅▃▄▃▃▄▃▆▄▄▄▅▆▅▅▃▄</td></tr><tr><td>train/iter_FP_1</td><td>▁█▆▇█▅▅▆▆▆▅▅▆▄▄▄▃▅▇▅▄▅▇▅▅▅▄▄▅▄▅▄▄▅▄▄▅▄▃▅</td></tr><tr><td>train/iter_FP_10</td><td>▁▅▃▅█▃▄▅▆▆▂▄▅▂▄▁▄▂▆▄▅▃█▅▃▄▃▂▅▃▅▄▅▄▅▆▄▅▃▄</td></tr><tr><td>train/iter_FP_11</td><td>▁▁▁▁▁▁▁▁▁▁▁▃█▃▁▆▂▄▅▇▄▁█▃▂▁▆▆▂▁▆▄▂▆▃▁▄▄▁▃</td></tr><tr><td>train/iter_FP_12</td><td>▁▆▅▆█▅▅▆▆▅▄▄▇▃▄▄▃▄▇▅▄▄▆▄▅▅▄▃▆▃▅▃▃▄▄▄▄▄▃▄</td></tr><tr><td>train/iter_FP_13</td><td>▁▁▁▁▁▁▁▁▁▃▃▇▅█▅▅▄▇▄▆▃▃▇▃▂▁▃▆▂▄▆▅▅▇▄▃▄▄▂▃</td></tr><tr><td>train/iter_FP_2</td><td>▁▁▁▁▁▁▁▁▁▁▁▁▁▁▁▁▁▁▁▁▁▁▁▁▁▁▁▁▁▁▁▁▁▁▁▁▁▁▁▁</td></tr><tr><td>train/iter_FP_3</td><td>▁▆███▃▆▆▅▅▅▇▆▄▆▄▅▄▆▄▄▆▇▄▆▄▄▅▆▅▄▃▄▄▄▅▄▃▃▆</td></tr><tr><td>train/iter_FP_4</td><td>▁▃▄▅█▄▅▇▇▄▃▄▆▁▃▃▃▄▅▅▃▃▇▄▃▄▃▃▄▃▆▃▄▃▄▄▃▃▂▃</td></tr><tr><td>train/iter_FP_5</td><td>▁▁▁▁▁▁▁▁▁▁▂▃▃▇▄▂▃▅█▇▄▇▆▇▃▃▆▄▄▃▆▆▁▅▄▃█▇▃▅</td></tr><tr><td>train/iter_FP_6</td><td>▁▁▁▁▁▁▁▁▁▆▃▂▃█▃▂▂▂█▅▁▃▃▁▁▇▃▄▅▂▅▁▁▂▃▁▂▄▁▅</td></tr><tr><td>train/iter_FP_7</td><td>▁▁▁▁▁▁▁▁▁▁▁▁▁▁▁▁▁▁▁▁▁▁▁▁▁▁▁▁▁▁▁▁▁▁▁▁▁▁▁▁</td></tr><tr><td>train/iter_FP_8</td><td>▁▁▁▁▁▁▁▁▁▁▁▁▁▁▁▁▁▁▁▁▁▁▁▁▁▁▁▁▁▁▁▁▁▁▁▁▁▁▁▁</td></tr><tr><td>train/iter_FP_9</td><td>▁█▆▇█▆▆▇▇▆▅▅▆▄▄▄▄▅▇▆▄▅█▅▅▅▄▄▆▄▆▄▄▅▅▅▅▄▃▅</td></tr><tr><td>train/iter_IoU_0</td><td>▁▄▆▇▆▇█▇▆▇█▇▇▇▆▇▇▇▇█▇▇▇█▇█▇▇▇▇▇█▇▇█▇▇█▇█</td></tr><tr><td>train/iter_IoU_1</td><td>▁▅▆▆▆▆▇▇▆▆▇▇▇▇▇▇▇▇▇▇▇▇▇▇▇▇█▇▇█▇█▇▇██▇███</td></tr><tr><td>train/iter_IoU_10</td><td>▁▄▆▆▆▇█▇▅▇█▆▇▇▆▇▇█▇█▇▇▇█▇█▇▆▇▇██▇▇█▇▇█▇▇</td></tr><tr><td>train/iter_IoU_11</td><td>▁▁▁▁▁▁▁▁▁▁▁▃▇▆▄▇▃▇▄▇█▁▆▇▆▁▄▇▂▃▇▆▃▇▇█▆▇▇█</td></tr><tr><td>train/iter_IoU_12</td><td>▁▅▅▆▅▆▇▇▆▆▆▇▆▆▇▇▇▇▇▇▇▇▇▇▇▇█▇▇█▇█▇▇██▆███</td></tr><tr><td>train/iter_IoU_13</td><td>▁▁▁▁▁▁▁▁▁▂▆▄▅▅▅▇▅▆▇▆█▅▇▇▅▇▄▇▂▅▆▇▇▇██▆▇█▇</td></tr><tr><td>train/iter_IoU_2</td><td>▁▁▁▁▁▁▁▁▁▁▁▁▁▁▁▁▁▁▁▁▁▁▁▁▁▁▁▁▁▁▁▁▁▁▁▁▁▁▁▁</td></tr><tr><td>train/iter_IoU_3</td><td>▁▂▂▂▂▂▃▅▃▅▅▆▅▅▆▇▆▆▇▆▇▆▇▇▆▇█▇▇▇▇█▇█▇▇▆███</td></tr><tr><td>train/iter_IoU_4</td><td>▁▂▃▄▃▃▆▄▃▆▅▅▅▄▅▇▆▆█▇▇▇▆█▆▇▇▆▆█▇█▇▇█▇▇███</td></tr><tr><td>train/iter_IoU_5</td><td>▁▁▁▁▁▁▁▁▁▁▄▄▃▂▅▇▄▅▅▅▇▅▅▆▇▇█▇▆▇▆▇▅▇▆█▆▇██</td></tr><tr><td>train/iter_IoU_6</td><td>▁▁▁▁▁▁▁▁▁▃▁▁▆▁▇▁▁▆▇█▁▆▇▁▁▆▆▇█▅▇▁▁██▇▇█▁█</td></tr><tr><td>train/iter_IoU_7</td><td>▁▁▁▁▁▁▁▁▁▁▁▁▁▁▁▁▁▁▁▁▁▁▁▁▁▁▁▁▁▁▁▁▁▁▁▁▁▁▁▁</td></tr><tr><td>train/iter_IoU_8</td><td>▁▁▁▁▁▁▁▁▁▁▁▁▁▁▁▁▁▁▁▁▁▁▁▁▁▁▁▁▁▁▁▁▁▁▁▁▁▁▁▁</td></tr><tr><td>train/iter_IoU_9</td><td>▁▅▆▆▆▆▇▇▆▆▇▇▇▇▇▇▇▇▇▇▇▇▇▇▇▇█▇▇█▇█▇▇██▇███</td></tr><tr><td>train/iter_Precision_0</td><td>▁▄▇▇▇██▇▆▇█▇▇▇▆▇▇█▇█▇█▇█▇█▇▇█▇██▇██▇▇██▇</td></tr><tr><td>train/iter_Precision_1</td><td>▁▅▆▇▆▇▇▇▇▇▇▇▇▇▇▇█▇▇▇█▇▇▇▇▇█▇▇███▇▇██▇███</td></tr><tr><td>train/iter_Precision_10</td><td>▁▄▇▇▆██▇▅▇█▇▇█▆█▇█▇█▇▇▇█▇█▇▇▇▇▇█▆▇█▇▇██▇</td></tr><tr><td>train/iter_Precision_11</td><td>▁▁▁▁▁▁▁▁█▁█▄▆▅▆▅▃▆▃▆▆▂▅▅▆▁▃▆▃█▆▅▆▆▆▆▅▆▆▆</td></tr><tr><td>train/iter_Precision_12</td><td>▁▅▇▇▆▆▇▇▆▇▇▇▆█▇▇█▇▇▇▇█▇▇▇▇█▇▇███▇▇██▇███</td></tr><tr><td>train/iter_Precision_13</td><td>▁▁▁▁▁▁▁▁▁▄█▄█▆▆▇▇▆▇▇█▅▆▇▇▇▅▇▃▅▇▇█▇█▇▇█▇▇</td></tr><tr><td>train/iter_Precision_2</td><td>▁▁▁▁▁▁▁▁▁▁▁▁▁▁▁▁▁▁▁▁▁▁▁▁▁▁▁▁▁▁▁▁▁▁▁▁▁▁▁▁</td></tr><tr><td>train/iter_Precision_3</td><td>▁▃▃▃▄▄▄▆▅▆▇▆▇▇▆▇▇▇▇▆▇▇▇▇▇███▇▇█▇▇█▇█▇██▇</td></tr><tr><td>train/iter_Precision_4</td><td>▁▃▅▆▄▅▆▄▃▆▆▇▆█▇▇█▆▇▇█▇▆▇▇▇█▇▇▇▇██▇█▇▇███</td></tr><tr><td>train/iter_Precision_5</td><td>▁▁▁▁▁▁▁▁█▁▇▆▆▃▆▇▆▆▅▆▇▅▆▆▇▇▇▇▇▇▇▇▇▆▇▇▅▆▇▇</td></tr><tr><td>train/iter_Precision_6</td><td>▁▁▁▁▁▁▁▁▁▃▁▁▆▁▇▁▁█▆▇▁█▇▁▁▆▇▇▇▇▇▁▁▇▇▇▆█▁▇</td></tr><tr><td>train/iter_Precision_7</td><td>▁▁▁▁▁▁▁▁▁▁▁▁▁▁▁▁▁▁▁▁▁▁▁▁▁▁▁▁▁▁▁▁▁▁▁▁▁▁▁▁</td></tr><tr><td>train/iter_Precision_8</td><td>▁▁▁▁▁▁▁▁▁▁▁▁▁▁▁▁▁▁▁▁▁▁▁▁▁▁▁▁▁▁▁▁▁▁▁▁▁▁▁▁</td></tr><tr><td>train/iter_Precision_9</td><td>▁▅▆▇▆▇▇▇▇▇▇▇▇▇▇▇█▇▇▇█▇▇▇▇▇█▇▇███▇▇██▇███</td></tr><tr><td>train/iter_Recall_0</td><td>▁█▆▇▇▇██▇██▇█▇█▇█▇██▇██████▇▇▇███▇█▇▇███</td></tr><tr><td>train/iter_Recall_1</td><td>▁▇▆▆▇▇▇▇▆▇▇▇▇▇██▇▇███▇██▇█████▇█▇███▇███</td></tr><tr><td>train/iter_Recall_10</td><td>▁▇▆▆▇▇█▇▇▇█▆█▆▇▆▇▇▇█▇▇▇███▇▇▇▇█▇█▇█▇▇█▇█</td></tr><tr><td>train/iter_Recall_11</td><td>▁▁▁▁▁▁▁▁▁▁▁▃▆▆▄▇▃▇▆▆█▂▇▇▅▁▇▇▂▂▇▆▃▆▇▇▇▇▇▇</td></tr><tr><td>train/iter_Recall_12</td><td>▁▇▆▆▆▇▇▇▆▇▇▇▇▆▇█▇▇██▇▇▇███████▇█████▇███</td></tr><tr><td>train/iter_Recall_13</td><td>▁▁▁▁▁▁▁▁▁▂▅▆▄▅▆█▅▆▇▅▇▆▇█▄▆▄▇▂▆▇█▆▇██▆▇█▇</td></tr><tr><td>train/iter_Recall_2</td><td>▁▁▁▁▁▁▁▁▁▁▁▁▁▁▁▁▁▁▁▁▁▁▁▁▁▁▁▁▁▁▁▁▁▁▁▁▁▁▁▁</td></tr><tr><td>train/iter_Recall_3</td><td>▁▃▂▂▃▃▅▅▃▅▅▇▅▅▇▇▆▆▇█▇▇▇█▇▇▇█▇█▇█▇██▇▆███</td></tr><tr><td>train/iter_Recall_4</td><td>▁▂▃▄▄▄▆▆▃▆▅▅▆▃▅▇▆▆█▇▇▇▇█▆█▇▇▇█▇█▇▇█▇▇███</td></tr><tr><td>train/iter_Recall_5</td><td>▁▁▁▁▁▁▁▁▁▁▄▄▃▃▅▆▄▅▆▅█▇▆▇▇▇█▇▆▇▆█▄▇▇█▇███</td></tr><tr><td>train/iter_Recall_6</td><td>▁▁▁▁▁▁▁▁▁▅▁▁▇▁▇▁▁▅█▇▁▅█▁▁▇▆██▅▇▁▁██▇▇▇▁█</td></tr><tr><td>train/iter_Recall_7</td><td>▁▁▁▁▁▁▁▁▁▁▁▁▁▁▁▁▁▁▁▁▁▁▁▁▁▁▁▁▁▁▁▁▁▁▁▁▁▁▁▁</td></tr><tr><td>train/iter_Recall_8</td><td>▁▁▁▁▁▁▁▁▁▁▁▁▁▁▁▁▁▁▁▁▁▁▁▁▁▁▁▁▁▁▁▁▁▁▁▁▁▁▁▁</td></tr><tr><td>train/iter_Recall_9</td><td>▁▇▆▇▇▇█▇▆▇▇▇▇▇▇█▇▇██▇▇██▇█████▇█▇███▇███</td></tr><tr><td>train/iter_TN_0</td><td>▅▇▅▁▃▅▄▃▅▃▇▅▃▆██▅▆▂▂▃▆▁▃▆▅▇▇▄▇▂▄▅▃▂▃▅▂▇▅</td></tr><tr><td>train/iter_TN_1</td><td>▇▅▄▂▃▆▆▄▃▅▅▆▂▅▆▇▄▅▁▄▆▄▂▇▅▅▅▆▄▆▂▇▆▆▄▄▅▄█▃</td></tr><tr><td>train/iter_TN_10</td><td>▅▇▄▁▃▄▄▃▅▃▇▅▄▆▇█▄▆▁▃▃▅▁▂▆▄▆▇▃▆▂▄▅▅▁▂▄▂▆▅</td></tr><tr><td>train/iter_TN_11</td><td>▆▇▇▆▅███▆▇▇▆▁▇█▅▇▆▇▃▆█▅▇▆█▆▄█▇▄▆▅▁▆█▆▆█▆</td></tr><tr><td>train/iter_TN_12</td><td>▇▆▄▂▃▆▆▃▄▅▇▆▄▆▇█▅▇▁▅▇▄▃▇▅▄▅█▃▆▃██▇▅▄▆▅█▄</td></tr><tr><td>train/iter_TN_13</td><td>▇▇▇▆▅▆▇█▅▆▄▆▁▅▆▆▅▅▆▄▆▇▅▇▆█▇▅█▇▅▆▄▄▆▇▅▅█▆</td></tr><tr><td>train/iter_TN_2</td><td>▁▁▁▁▁▁▁▁▁▁▁▁▁▁▁▁▁▁▁▁▁▁▁▁▁▁▁▁▁▁▁▁▁▁▁▁▁▁▁▁</td></tr><tr><td>train/iter_TN_3</td><td>█▆▃▂▂█▇▃▄▅▃▄▁▂▆▆▁▅▃█▇▃▁▇▄▅▄▄▃▄▄▇▆▅▆▂▅█▆▃</td></tr><tr><td>train/iter_TN_4</td><td>▇█▅▂▃▆▅▄▃▅▆▅▂█▆█▅▆▁▃▄▆▃▆▆▆▇█▅▇▂▇▄▆▃▅▅▃█▆</td></tr><tr><td>train/iter_TN_5</td><td>▅▄▄█▄▃▆▇▅▄▆▅▂▄▄▅▅▄▃▂▅▅▂▄▅▅▁▅▄▅▁▃█▅▅▅▄▃▆▃</td></tr><tr><td>train/iter_TN_6</td><td>▄▆▆▂▆▄▄▃▁▆██▇▆▅██▅▂▁█▃▆██▃▆▅▁▇▃██▇▅██▁█▂</td></tr><tr><td>train/iter_TN_7</td><td>▁▁▁▁▁▁▁▁▁▁▁▁▁▁▁▁▁▁▁▁▁▁▁▁▁▁▁▁▁▁▁▁▁▁▁▁▁▁▁▁</td></tr><tr><td>train/iter_TN_8</td><td>▁▁▁▁▁▁▁▁▁▁▁▁▁▁▁▁▁▁▁▁▁▁▁▁▁▁▁▁▁▁▁▁▁▁▁▁▁▁▁▁</td></tr><tr><td>train/iter_TN_9</td><td>▇▆▄▂▃▅▆▄▃▅▅▆▂▅▆▇▄▅▁▄▆▄▂▇▅▅▅▆▄▆▂▇▆▆▄▄▅▄█▃</td></tr><tr><td>train/iter_TP_0</td><td>▁▂▄▇▆▅▆▆▄▇▃▄▆▄▂▃▅▄▇▇▆▄▇▇▄▆▄▃▅▄█▆▅▆█▆▅▇▃▅</td></tr><tr><td>train/iter_TP_1</td><td>▁▄▅▆▆▄▅▆▆▅▅▅▇▅▅▄▆▅█▆▅▆▇▅▅▆▆▅▆▅▇▅▅▅▆▆▅▇▄▇</td></tr><tr><td>train/iter_TP_10</td><td>▁▂▄▇▅▅▆▆▃▆▃▄▅▃▂▂▅▃▇▆▆▄▇▇▃▆▃▂▆▄▇▆▄▄█▆▄▇▃▅</td></tr><tr><td>train/iter_TP_11</td><td>▁▁▁▁▁▁▁▁▁▁▁▂█▂▁▄▁▄▂▆▄▁▄▂▂▁▂▅▁▁▅▃▂█▃▁▃▃▁▄</td></tr><tr><td>train/iter_TP_12</td><td>▁▄▅▆▅▄▅▆▅▅▄▅▅▄▄▄▅▄█▆▅▆▇▅▅▆▆▄▇▅▇▄▄▅▆▆▄▆▄▇</td></tr><tr><td>train/iter_TP_13</td><td>▁▁▁▁▁▁▁▁▁▁▆▃█▅▄▅▄▅▄▆▄▂▆▃▃▁▂▇▁▂▅▅▇▇▅▃▅▅▂▄</td></tr><tr><td>train/iter_TP_2</td><td>▁▁▁▁▁▁▁▁▁▁▁▁▁▁▁▁▁▁▁▁▁▁▁▁▁▁▁▁▁▁▁▁▁▁▁▁▁▁▁▁</td></tr><tr><td>train/iter_TP_3</td><td>▁▂▂▂▃▂▂▅▃▄▅▅▆▆▄▅▇▅▇▃▄▆▇▄▆▆▇▇▆▇▆▅▅▆▅█▅▄▅█</td></tr><tr><td>train/iter_TP_4</td><td>▁▁▃▃▃▂▄▃▂▄▃▄▅▂▃▃▄▄█▇▆▅▆▅▄▅▄▃▄▄▆▄▅▅▇▅▅▇▃▅</td></tr><tr><td>train/iter_TP_5</td><td>▁▁▁▁▁▁▁▁▁▁▂▂▃▂▄▄▂▄▄▅▄▃▅▅▄▄█▄▄▄▇▆▁▄▄▄▄▅▃▆</td></tr><tr><td>train/iter_TP_6</td><td>▁▁▁▁▁▁▁▁▁▂▁▁▂▁▄▁▁▃▆█▁▅▃▁▁▅▃▃▇▂▅▁▁▂▄▁▁█▁▇</td></tr><tr><td>train/iter_TP_7</td><td>▁▁▁▁▁▁▁▁▁▁▁▁▁▁▁▁▁▁▁▁▁▁▁▁▁▁▁▁▁▁▁▁▁▁▁▁▁▁▁▁</td></tr><tr><td>train/iter_TP_8</td><td>▁▁▁▁▁▁▁▁▁▁▁▁▁▁▁▁▁▁▁▁▁▁▁▁▁▁▁▁▁▁▁▁▁▁▁▁▁▁▁▁</td></tr><tr><td>train/iter_TP_9</td><td>▁▄▅▆▆▄▅▆▆▅▅▅▇▅▅▄▆▅█▆▅▆▇▅▅▆▆▅▆▅▇▅▅▅▆▆▅▇▄▇</td></tr><tr><td>train/iter_loss</td><td>█▇▇▄▇▇▇▁▇▇▄▄▆▄▇▄▄▇▆▆▄▆▆▆▄▆▆▇▆▇▆▄▄▆▆▆▇▆▄▆</td></tr><tr><td>train/mean_F1</td><td>▁▃▄▄▄▄▅▅▄▅▆▆▆▆▇▇▇▇▇▇▇▇▇▇▇▇██▇███▇███████</td></tr><tr><td>train/mean_IoU</td><td>▁▂▃▄▃▄▄▄▄▄▅▆▆▆▆▇▆▇▇▇▇▇▇▇▇▇▇█▇▇██▇▇██▇███</td></tr><tr><td>trainer/global_step</td><td>▁▁▁▂▂▂▂▂▂▃▃▃▃▃▄▄▄▄▄▄▅▅▅▅▅▅▆▆▆▆▆▇▇▇▇▇▇███</td></tr><tr><td>val/epoch_F1_0</td><td>▁▃▇▇▇▇██▇▇██▇███████████████████████████</td></tr><tr><td>val/epoch_F1_1</td><td>▁▆▇▇▇▇██▇▇██████████████████████████████</td></tr><tr><td>val/epoch_F1_10</td><td>▁▁▇▇▇▇▇▇▇▇██▇███▇███████████▇███████████</td></tr><tr><td>val/epoch_F1_11</td><td>▁▁▁▁▁▁▁▁▁▁▁▆▇▆▇▇▇▇▇▇▆▇▆▆▆▆▇▇▅▇▇▇▇▆▇▇█▅▇█</td></tr><tr><td>val/epoch_F1_12</td><td>▁▆▇▇▇▇▇▇▇▇██████▇███████████▇███████████</td></tr><tr><td>val/epoch_F1_13</td><td>▁▁▁▁▁▁▁▁▁▁▅▆▆▆▇▇▆▇▇▇▆▇▆▇▇▆▇▇▆▇▇▇▆▇██▇███</td></tr><tr><td>val/epoch_F1_2</td><td>▁▁▁▁▁▁▁▁▁▁▁▁▁▁▁▁▁▁▁▁▁▁▁▁▁▁▁▁▁▁▁▁▁▁▁▁▁▁▁▁</td></tr><tr><td>val/epoch_F1_3</td><td>▁▁▃▄▃▄▆▆▆▅▇█▇▇██▇▇██▇███▇███▇███████▇███</td></tr><tr><td>val/epoch_F1_4</td><td>▁▁▄▅▅▅▆▆▆▆▇▇▇▇██▇▇██▇▇██▇███▇███▇███████</td></tr><tr><td>val/epoch_F1_5</td><td>▁▁▁▁▁▁▁▁▁▁▄▅▅▅▆▇▅▇▇▇▇▇█▇▆▇██▇███▇███▇███</td></tr><tr><td>val/epoch_F1_6</td><td>▁▁▁▁▁▁▁▁▁▃▅▅▄▅▅▅▅▆▅▅▅▅▅▅▄▅▅▅▆▅▅▆▅▅▆▇▆███</td></tr><tr><td>val/epoch_F1_7</td><td>▁▁▁▁▁▁▁▁▁▁▁▁▁▁▁▁▁▁▁▁▁▁▁▁▁▁▁▁▁▁▁▁▁▁▁▁▁▁▁▁</td></tr><tr><td>val/epoch_F1_8</td><td>▁▁▁▁▁▁▁▁▁▁▁▁▁▁▁▁▁▁▁▁▁▁▁▁▁▁▁▁▁▁▁▁▁▁▁▁▁▁▁▁</td></tr><tr><td>val/epoch_F1_9</td><td>▁▆▇▇▇▇██▇▇██████████████████████████████</td></tr><tr><td>val/epoch_FN_0</td><td>█▇▃▁▂▂▁▁▁▂▁▁▂▂▁▁▂▁▁▁▂▁▁▁▁▂▁▁▁▁▁▁▂▁▁▁▁▁▁▁</td></tr><tr><td>val/epoch_FN_1</td><td>█▅▂▁▂▂▂▂▂▂▁▁▁▂▁▁▁▂▁▁▂▂▁▁▂▁▁▁▂▂▁▁▁▁▁▁▁▁▁▁</td></tr><tr><td>val/epoch_FN_10</td><td>██▃▁▃▂▂▂▁▂▂▂▃▂▂▁▂▁▂▁▂▂▁▁▁▂▁▁▂▁▁▁▁▁▁▁▁▁▁▁</td></tr><tr><td>val/epoch_FN_11</td><td>███████████▄▃▄▂▂▂▁▂▂▂▁▂▂▁▃▂▂▂▁▂▁▂▃▁▂▁▃▁▁</td></tr><tr><td>val/epoch_FN_12</td><td>█▅▂▁▂▂▁▂▂▁▁▁▁▂▁▁▁▂▁▁▂▂▁▁▂▁▁▁▂▂▁▁▁▁▁▁▁▁▁▁</td></tr><tr><td>val/epoch_FN_13</td><td>██████████▅▄▃▄▂▂▃▂▃▂▃▂▃▂▃▄▂▂▃▂▂▂▂▂▂▂▂▂▁▁</td></tr><tr><td>val/epoch_FN_2</td><td>▁▁▁▁▁▁▁▁▁▁▁▁▁▁▁▁▁▁▁▁▁▁▁▁▁▁▁▁▁▁▁▁▁▁▁▁▁▁▁▁</td></tr><tr><td>val/epoch_FN_3</td><td>██▇▅▆▅▃▂▃▄▂▂▂▂▂▁▁▃▂▁▂▂▂▁▁▁▁▁▃▁▁▁▂▂▂▁▁▂▁▁</td></tr><tr><td>val/epoch_FN_4</td><td>██▆▄▅▄▄▄▃▄▃▃▂▂▂▂▃▂▂▂▃▃▁▂▃▂▁▁▃▂▂▁▁▁▂▂▂▂▂▁</td></tr><tr><td>val/epoch_FN_5</td><td>██████████▅▅▅▅▃▃▄▂▃▂▃▂▂▁▃▂▂▁▂▂▁▁▁▂▁▁▁▁▁▁</td></tr><tr><td>val/epoch_FN_6</td><td>█████████▅▂▂▄▃▂▂▂▂▃▂▃▃▃▃▄▃▂▂▁▂▂▂▂▂▂▂▂▁▁▁</td></tr><tr><td>val/epoch_FN_7</td><td>▁▁▁▁▁▁▁▁▁▁▁▁▁▁▁▁▁▁▁▁▁▁▁▁▁▁▁▁▁▁▁▁▁▁▁▁▁▁▁▁</td></tr><tr><td>val/epoch_FN_8</td><td>▁▁▁▁▁▁▁▁▁▁▁▁▁▁▁▁▁▁▁▁▁▁▁▁▁▁▁▁▁▁▁▁▁▁▁▁▁▁▁▁</td></tr><tr><td>val/epoch_FN_9</td><td>█▄▂▁▂▂▂▂▂▁▁▁▁▂▁▁▁▂▁▁▂▂▁▁▂▁▁▁▂▂▁▁▁▁▁▁▁▁▁▁</td></tr><tr><td>val/epoch_FP_0</td><td>▁▁▃▇▄▇▆▅█▆▅▅▄▄▅▅▄▆▅▅▅▅▅▅▆▄▅▅▅▅▅▅▄▅▆▄▆▄▅▅</td></tr><tr><td>val/epoch_FP_1</td><td>▁▃▅▇▆▇▆▆▇▇▆▆▇▆▆▆█▅▅▆▄▅▆▆▅▆▆▆▆▅▆▆▇▆▅▅▆▆▆▆</td></tr><tr><td>val/epoch_FP_10</td><td>▁▁▃▇▄▇▆▅█▆▅▄▃▄▄▅▃▅▅▅▄▄▅▅▅▄▅▅▄▄▄▅▅▅▅▄▆▅▅▄</td></tr><tr><td>val/epoch_FP_11</td><td>▁▁▁▁▁▁▁▁▁▁▁▃▆▂▇▅▆▆▅▅▅█▅▅█▄▆▅██▅▆▄▄▆▄▆▃▅▅</td></tr><tr><td>val/epoch_FP_12</td><td>▁▃▅▇▆▇▆▆▆█▆▅▆▅▅▅▇▅▅▅▄▄▆▅▅▆▅▅▅▄▅▅▆▅▅▅▅▅▅▅</td></tr><tr><td>val/epoch_FP_13</td><td>▁▁▁▁▁▁▁▁▁▁▃▄▅▃▅▅▆▅▄▅▅▇▅▅▃▃▅▅█▆▆▆▇▄▅▅▇▄▄▅</td></tr><tr><td>val/epoch_FP_2</td><td>▁▁▁▁▁▁▁▁▁▁▁▁▁▁▁▁▁▁▁▁▁▁▁▁▁▁▁▁▁▁▁▁▁▁▁▁▁▁▁▁</td></tr><tr><td>val/epoch_FP_3</td><td>▁▁▅█▅█▇▇▇▄▆▆▇▅▅▅█▄▅▅▅▆▅▅▇▅▆▅▄▅▆▅▅▅▅▅▇▆▅▆</td></tr><tr><td>val/epoch_FP_4</td><td>▁▁▄▇▅▇▆▆▇▃▅▄▇▇▄▅▄▅▅▅▃▄▆▅▃▅▅▅▅▄▅▅█▆▅▅▅▅▅▅</td></tr><tr><td>val/epoch_FP_5</td><td>▁▁▁▁▁▁▁▁▁▁▄▄▆▃▆▅▆▇▅▅▄▅▅▆▅▅▅▅▇▅▆▅█▄▅▅█▆▅▅</td></tr><tr><td>val/epoch_FP_6</td><td>▁▁▁▁▁▁▁▁▁▆█▇▂▄▆▄▇▇▄▄▄▃▄▄▂▃▄▄▇▃▃▃▅▄▄▄▄▄▄▄</td></tr><tr><td>val/epoch_FP_7</td><td>█▁▁▁▁▁▁▁▁▁▁▁▁▁▁▁▁▁▁▁▁▁▁▁▁▁▁▁▁▁▁▁▁▁▁▁▁▁▁▁</td></tr><tr><td>val/epoch_FP_8</td><td>▁▁▁▁▁▁▁▁▁▁▁▁▁▁▁▁▁▁▁▁▁▁▁▁▁▁▁▁▁▁▁▁▁▁▁▁▁▁▁▁</td></tr><tr><td>val/epoch_FP_9</td><td>▁▃▅▇▆▇▆▆▆▇▆▆▇▆▆▆█▅▆▆▄▅▇▆▅▆▆▆▆▅▆▆▇▆▅▆▆▆▆▆</td></tr><tr><td>val/epoch_IoU_0</td><td>▁▂▆▇▇▇▇▇▇▇██▇▇██▇███████████████████████</td></tr><tr><td>val/epoch_IoU_1</td><td>▁▅▇▇▇▇▇█▇▇██▇▇██▇███████████▇███████████</td></tr><tr><td>val/epoch_IoU_10</td><td>▁▁▆▇▇▇▇▇▇▇▇█▇▇▇█▇███▇███████▇███████████</td></tr><tr><td>val/epoch_IoU_11</td><td>▁▁▁▁▁▁▁▁▁▁▁▆▇▆▇▇▇▇▇▇▆▆▆▆▆▆▇▇▅▇▇▇▇▆▇▇▇▅▇█</td></tr><tr><td>val/epoch_IoU_12</td><td>▁▅▇▇▇▇▇▇▇▇▇█▇▇██▇███▇███████▇███████████</td></tr><tr><td>val/epoch_IoU_13</td><td>▁▁▁▁▁▁▁▁▁▁▅▆▆▆▆▆▅▆▆▆▆▆▆▆▇▆▇▆▅▆▇▇▆▇██▇███</td></tr><tr><td>val/epoch_IoU_2</td><td>▁▁▁▁▁▁▁▁▁▁▁▁▁▁▁▁▁▁▁▁▁▁▁▁▁▁▁▁▁▁▁▁▁▁▁▁▁▁▁▁</td></tr><tr><td>val/epoch_IoU_3</td><td>▁▁▂▄▃▄▆▆▅▅▇▇▇▇██▇▇██▇▇▇█▇███▆███▇███▇▇██</td></tr><tr><td>val/epoch_IoU_4</td><td>▁▁▃▄▄▅▅▅▅▅▇▇▆▇██▇▇██▇▇██▇███▇███▇███▇███</td></tr><tr><td>val/epoch_IoU_5</td><td>▁▁▁▁▁▁▁▁▁▁▄▄▄▄▆▆▅▆▇▇▆▇▇▇▆▇▇█▇▇▇█▇███▆███</td></tr><tr><td>val/epoch_IoU_6</td><td>▁▁▁▁▁▁▁▁▁▃▄▄▄▅▅▅▅▅▅▅▄▄▅▅▄▅▅▅▆▅▅▅▅▅▆▇▆███</td></tr><tr><td>val/epoch_IoU_7</td><td>▁▁▁▁▁▁▁▁▁▁▁▁▁▁▁▁▁▁▁▁▁▁▁▁▁▁▁▁▁▁▁▁▁▁▁▁▁▁▁▁</td></tr><tr><td>val/epoch_IoU_8</td><td>▁▁▁▁▁▁▁▁▁▁▁▁▁▁▁▁▁▁▁▁▁▁▁▁▁▁▁▁▁▁▁▁▁▁▁▁▁▁▁▁</td></tr><tr><td>val/epoch_IoU_9</td><td>▁▆▇▇▇▇▇█▇▇██▇▇██▇███████████▇███████████</td></tr><tr><td>val/epoch_Precision_0</td><td>▁█▇▆▇▆▆▆▆▆▆▆▇▇▇▆▇▆▇▇▇▇▆▇▆▇▇▇▇▇▇▇▇▇▆▇▆▇▆▇</td></tr><tr><td>val/epoch_Precision_1</td><td>▁█▇▆▇▆▇▇▇▆▇▇▆▇▇▇▆▇▇▇█▇▇▇▇▇▇▇▇▇▇▇▇▇▇▇▇▇▇▇</td></tr><tr><td>val/epoch_Precision_10</td><td>▁▁█▆▇▆▇▇▆▇▇▇███▇█▇▇▇▇█▇▇▇█▇▇███▇▇▇▇█▇▇▇█</td></tr><tr><td>val/epoch_Precision_11</td><td>▁▁▁▁▁▁▁▃▁▁▇█▆█▆▆▇▇▇▇▆▅▆▆▅▇▆▇▆▆▇▇▇▆▆▇▆▇▇█</td></tr><tr><td>val/epoch_Precision_12</td><td>▁█▇▆▇▆▇▇▇▆▇▇▇▇▇▇▇██▇██▇██▇██▇█▇█▇▇██▇▇██</td></tr><tr><td>val/epoch_Precision_13</td><td>▁▁▁▁▁▁▅▄▇█▇▇▆▇▇▇▆▇▇▇▇▆▇▇██▇▇▆▇▇▇▆█▇▇▆██▇</td></tr><tr><td>val/epoch_Precision_2</td><td>▁▁▁▁▁▁▁▁▁▁▁▁▁▁▁▁▁▁▁▁▁▁▁▁▁▁▁▁▁▁▁▁▁▁▁▁▁▁▁▁</td></tr><tr><td>val/epoch_Precision_3</td><td>▁▃▄▄▄▄▅▆▆▆▇▇▆▇▇█▆█▇▇▇▇▇▇▆▇▇▇▇▇▇█▇▇▇▇▆▇▇▇</td></tr><tr><td>val/epoch_Precision_4</td><td>▁▁▅▅▆▅▆▆▆▇▇▇▆▆▇▇▇▇▇▇██▇▇█▇▇▇▇█▇▇▆▇▇▇▇▇▇▇</td></tr><tr><td>val/epoch_Precision_5</td><td>▁▁▁▁▁▁▁▁▃▄▆▆▆▇▆▇▆▆▇▇█▇▇▇▇▇▇▇▇▇▇▇▆█▇█▆▇▇▇</td></tr><tr><td>val/epoch_Precision_6</td><td>▁▁▁▁▁▁▁▁▁▄▄▄▆▆▅▅▅▆▆▆▆▆▆▆▆▅▆▇▆██▇▆▆▇█████</td></tr><tr><td>val/epoch_Precision_7</td><td>▁▁▁▁▁▁▁▁▁▁▁▁▁▁▁▁▁▁▁▁▁▁▁▁▁▁▁▁▁▁▁▁▁▁▁▁▁▁▁▁</td></tr><tr><td>val/epoch_Precision_8</td><td>▁▁▁▁▁▁▁▁▁▁▁▁▁▁▁▁▁▁▁▁▁▁▁▁▁▁▁▁▁▁▁▁▁▁▁▁▁▁▁▁</td></tr><tr><td>val/epoch_Precision_9</td><td>▁█▇▇▇▇▇▇▇▇▇▇▇▇▇▇▇█▇▇██▇▇█▇▇▇▇█▇▇▇▇██▇▇▇▇</td></tr><tr><td>val/epoch_Recall_0</td><td>▁▂▆█▇▇▇██▇▇█▇▇▇█▇███▇████▇██████▇████▇██</td></tr><tr><td>val/epoch_Recall_1</td><td>▁▅▇█▇▇▇▇▇▇███████▇██▇▇██▇███▇▇██████████</td></tr><tr><td>val/epoch_Recall_10</td><td>▁▁▆▇▆▇▇▇█▇▇▇▆▇▇▇▆█▇█▇▇███▇██▇▇██████████</td></tr><tr><td>val/epoch_Recall_11</td><td>▁▁▁▁▁▁▁▁▁▁▁▅▇▅█▇▇▇▆▆▆█▅▆▇▅▇▇▆▇▇▇▆▅▇▆█▅▇▇</td></tr><tr><td>val/epoch_Recall_12</td><td>▁▄▇█▇▇█▇▇████▇███▇██▇▇██▇███▇▇██████████</td></tr><tr><td>val/epoch_Recall_13</td><td>▁▁▁▁▁▁▁▁▁▁▄▅▆▅▇▇▅▇▆▇▆▇▆▇▆▅▇▇▅▇▇▇▇▇███▇██</td></tr><tr><td>val/epoch_Recall_2</td><td>▁▁▁▁▁▁▁▁▁▁▁▁▁▁▁▁▁▁▁▁▁▁▁▁▁▁▁▁▁▁▁▁▁▁▁▁▁▁▁▁</td></tr><tr><td>val/epoch_Recall_3</td><td>▁▁▂▄▃▄▆▇▆▄▇▇▇▇▇██▆▇█▇▇▇█████▆███▇▇▇██▇██</td></tr><tr><td>val/epoch_Recall_4</td><td>▁▁▃▅▄▅▅▅▆▅▆▆▇▇▇▇▆▇▇▇▆▆█▇▆▇██▇▇▇███▇▇▇▇▇▇</td></tr><tr><td>val/epoch_Recall_5</td><td>▁▁▁▁▁▁▁▁▁▁▄▄▄▄▆▆▅▇▇▇▆▇▇█▆▇▇██▇███▇██████</td></tr><tr><td>val/epoch_Recall_6</td><td>▁▁▁▁▁▁▁▁▁▃▅▅▃▄▅▅▅▇▅▅▄▄▅▅▃▄▅▅▆▅▅▅▅▅▅▆▆███</td></tr><tr><td>val/epoch_Recall_7</td><td>▁▁▁▁▁▁▁▁▁▁▁▁▁▁▁▁▁▁▁▁▁▁▁▁▁▁▁▁▁▁▁▁▁▁▁▁▁▁▁▁</td></tr><tr><td>val/epoch_Recall_8</td><td>▁▁▁▁▁▁▁▁▁▁▁▁▁▁▁▁▁▁▁▁▁▁▁▁▁▁▁▁▁▁▁▁▁▁▁▁▁▁▁▁</td></tr><tr><td>val/epoch_Recall_9</td><td>▁▅▇█▇▇▇▇▇████▇███▇██▇▇██▇███▇▇██████████</td></tr><tr><td>val/epoch_TN_0</td><td>██▆▂▅▂▃▄▁▃▄▄▅▅▄▄▅▃▄▄▄▄▄▄▃▅▄▄▄▄▄▄▅▄▃▅▃▅▄▄</td></tr><tr><td>val/epoch_TN_1</td><td>█▆▄▂▃▂▃▃▂▂▃▃▂▃▃▃▁▄▄▃▅▄▃▃▄▃▃▃▃▄▃▃▂▃▄▄▃▃▃▃</td></tr><tr><td>val/epoch_TN_10</td><td>██▆▂▅▂▃▄▁▃▄▅▆▅▅▄▆▄▄▄▅▅▄▄▄▅▄▄▅▅▅▄▄▄▄▅▃▄▄▅</td></tr><tr><td>val/epoch_TN_11</td><td>███████████▆▃▇▂▄▃▃▄▄▄▁▄▄▁▅▃▄▁▁▄▃▅▅▃▅▃▆▄▄</td></tr><tr><td>val/epoch_TN_12</td><td>█▆▄▂▃▂▃▃▃▁▃▄▃▄▄▄▂▄▄▄▅▅▃▄▄▃▄▄▄▅▄▄▃▄▄▄▄▄▄▄</td></tr><tr><td>val/epoch_TN_13</td><td>██████████▆▅▄▆▄▄▃▄▅▄▄▂▄▄▆▆▄▄▁▃▃▃▂▅▄▄▂▅▅▄</td></tr><tr><td>val/epoch_TN_2</td><td>▁▁▁▁▁▁▁▁▁▁▁▁▁▁▁▁▁▁▁▁▁▁▁▁▁▁▁▁▁▁▁▁▁▁▁▁▁▁▁▁</td></tr><tr><td>val/epoch_TN_3</td><td>██▄▁▄▁▂▂▂▅▃▃▂▄▄▄▁▅▄▄▄▃▄▄▂▄▃▄▅▄▃▄▄▄▄▄▂▃▄▃</td></tr><tr><td>val/epoch_TN_4</td><td>██▅▂▄▂▃▃▂▆▄▅▂▂▅▄▅▄▄▄▆▅▃▄▆▄▄▄▄▅▄▄▁▃▄▄▄▄▄▄</td></tr><tr><td>val/epoch_TN_5</td><td>██████████▅▅▃▆▃▄▃▂▄▄▅▄▄▃▄▄▄▄▂▄▃▄▁▅▄▄▁▃▄▄</td></tr><tr><td>val/epoch_TN_6</td><td>█████████▃▁▂▇▅▃▅▂▂▅▅▅▆▅▅▇▆▅▅▂▆▆▆▄▅▅▅▅▅▅▅</td></tr><tr><td>val/epoch_TN_7</td><td>▁███████████████████████████████████████</td></tr><tr><td>val/epoch_TN_8</td><td>▁▁▁▁▁▁▁▁▁▁▁▁▁▁▁▁▁▁▁▁▁▁▁▁▁▁▁▁▁▁▁▁▁▁▁▁▁▁▁▁</td></tr><tr><td>val/epoch_TN_9</td><td>█▆▄▂▃▂▃▃▃▂▃▃▂▃▃▃▁▄▃▃▅▄▂▃▄▃▃▃▃▄▃▃▂▃▄▃▃▃▃▃</td></tr><tr><td>val/epoch_TP_0</td><td>▁▂▆█▇▇███▇██▇▇██▇███▇████▇██████▇███████</td></tr><tr><td>val/epoch_TP_1</td><td>▁▄▇█▇▇▇▇▇▇███▇███▇██▇▇██▇███▇▇██████████</td></tr><tr><td>val/epoch_TP_10</td><td>▁▁▆█▆▇▇▇█▇▇▇▆▇▇█▇█▇█▇▇███▇██▇███████████</td></tr><tr><td>val/epoch_TP_11</td><td>▁▁▁▁▁▁▁▁▁▁▁▅▆▅▇▇▇█▇▇▇█▇▇█▆▇▇▇█▇█▇▆█▇█▆██</td></tr><tr><td>val/epoch_TP_12</td><td>▁▄▇█▇▇█▇▇████▇███▇██▇▇██▇███▇▇██████████</td></tr><tr><td>val/epoch_TP_13</td><td>▁▁▁▁▁▁▁▁▁▁▄▅▆▅▇▇▆▇▆▇▆▇▆▇▆▅▇▇▆▇▇▇▇▇▇▇▇▇██</td></tr><tr><td>val/epoch_TP_2</td><td>▁▁▁▁▁▁▁▁▁▁▁▁▁▁▁▁▁▁▁▁▁▁▁▁▁▁▁▁▁▁▁▁▁▁▁▁▁▁▁▁</td></tr><tr><td>val/epoch_TP_3</td><td>▁▁▂▄▃▄▆▇▆▅▇▇▇▇▇██▆▇█▇▇▇█████▆███▇▇▇██▇██</td></tr><tr><td>val/epoch_TP_4</td><td>▁▁▃▅▄▅▅▅▆▅▆▆▇▇▇▇▆▇▇▇▆▆█▇▆▇██▆▇▇███▇▇▇▇▇█</td></tr><tr><td>val/epoch_TP_5</td><td>▁▁▁▁▁▁▁▁▁▁▄▄▄▄▆▆▅▇▆▇▆▇▇█▆▇▇█▇▇███▇██████</td></tr><tr><td>val/epoch_TP_6</td><td>▁▁▁▁▁▁▁▁▁▄▇▇▅▆▇▇▇▇▆▇▆▆▆▆▅▆▇▇█▇▇▇▇▇▇▇▇███</td></tr><tr><td>val/epoch_TP_7</td><td>▁▁▁▁▁▁▁▁▁▁▁▁▁▁▁▁▁▁▁▁▁▁▁▁▁▁▁▁▁▁▁▁▁▁▁▁▁▁▁▁</td></tr><tr><td>val/epoch_TP_8</td><td>▁▁▁▁▁▁▁▁▁▁▁▁▁▁▁▁▁▁▁▁▁▁▁▁▁▁▁▁▁▁▁▁▁▁▁▁▁▁▁▁</td></tr><tr><td>val/epoch_TP_9</td><td>▁▅▇█▇▇▇▇▇████▇███▇██▇▇██▇███▇▇██████████</td></tr><tr><td>val/epoch_loss</td><td>█▄▂▂▂▂▁▁▂▂▁▁▁▁▁▁▁▁▁▁▁▁▁▁▁▁▁▁▂▁▁▁▁▁▁▁▂▁▁▁</td></tr><tr><td>val/iter_F1_0</td><td>▁▃▇▇▇▇██▇▇██▇███████████████████████████</td></tr><tr><td>val/iter_F1_1</td><td>▁▆▇▇▇▇██▇▇██████████████████████████████</td></tr><tr><td>val/iter_F1_10</td><td>▁▁▇▇▇▇▇▇▇▇██▇███▇███████████▇███████████</td></tr><tr><td>val/iter_F1_11</td><td>▁▁▁▁▁▁▁▁▁▁▁▆▇▆▇▇▇▇▇▇▆▇▆▆▆▆▇▇▅▇▇▇▇▆▇▇█▅▇█</td></tr><tr><td>val/iter_F1_12</td><td>▁▆▇▇▇▇▇▇▇▇██████▇███████████▇███████████</td></tr><tr><td>val/iter_F1_13</td><td>▁▁▁▁▁▁▁▁▁▁▅▆▆▆▇▇▆▇▇▇▆▇▆▇▇▆▇▇▆▇▇▇▆▇██▇███</td></tr><tr><td>val/iter_F1_2</td><td>▁▁▁▁▁▁▁▁▁▁▁▁▁▁▁▁▁▁▁▁▁▁▁▁▁▁▁▁▁▁▁▁▁▁▁▁▁▁▁▁</td></tr><tr><td>val/iter_F1_3</td><td>▁▁▃▄▃▄▆▆▆▅▇█▇▇██▇▇██▇███▇███▇███████▇███</td></tr><tr><td>val/iter_F1_4</td><td>▁▁▄▅▅▅▆▆▆▆▇▇▇▇██▇▇██▇▇██▇███▇███▇███████</td></tr><tr><td>val/iter_F1_5</td><td>▁▁▁▁▁▁▁▁▁▁▄▅▅▅▆▇▅▇▇▇▇▇█▇▆▇██▇███▇███▇███</td></tr><tr><td>val/iter_F1_6</td><td>▁▁▁▁▁▁▁▁▁▃▅▅▄▅▅▅▅▆▅▅▅▅▅▅▄▅▅▅▆▅▅▆▅▅▆▇▆███</td></tr><tr><td>val/iter_F1_7</td><td>▁▁▁▁▁▁▁▁▁▁▁▁▁▁▁▁▁▁▁▁▁▁▁▁▁▁▁▁▁▁▁▁▁▁▁▁▁▁▁▁</td></tr><tr><td>val/iter_F1_8</td><td>▁▁▁▁▁▁▁▁▁▁▁▁▁▁▁▁▁▁▁▁▁▁▁▁▁▁▁▁▁▁▁▁▁▁▁▁▁▁▁▁</td></tr><tr><td>val/iter_F1_9</td><td>▁▆▇▇▇▇██▇▇██████████████████████████████</td></tr><tr><td>val/iter_FN_0</td><td>█▇▃▁▂▂▁▁▁▂▁▁▂▂▁▁▂▁▁▁▂▁▁▁▁▂▁▁▁▁▁▁▂▁▁▁▁▁▁▁</td></tr><tr><td>val/iter_FN_1</td><td>█▅▂▁▂▂▂▂▂▂▁▁▁▂▁▁▁▂▁▁▂▂▁▁▂▁▁▁▂▂▁▁▁▁▁▁▁▁▁▁</td></tr><tr><td>val/iter_FN_10</td><td>██▃▁▃▂▂▂▁▂▂▂▃▂▂▁▂▁▂▁▂▂▁▁▁▂▁▁▂▁▁▁▁▁▁▁▁▁▁▁</td></tr><tr><td>val/iter_FN_11</td><td>███████████▄▃▄▂▂▂▁▂▂▂▁▂▂▁▃▂▂▂▁▂▁▂▃▁▂▁▃▁▁</td></tr><tr><td>val/iter_FN_12</td><td>█▅▂▁▂▂▁▂▂▁▁▁▁▂▁▁▁▂▁▁▂▂▁▁▂▁▁▁▂▂▁▁▁▁▁▁▁▁▁▁</td></tr><tr><td>val/iter_FN_13</td><td>██████████▅▄▃▄▂▂▃▂▃▂▃▂▃▂▃▄▂▂▃▂▂▂▂▂▂▂▂▂▁▁</td></tr><tr><td>val/iter_FN_2</td><td>▁▁▁▁▁▁▁▁▁▁▁▁▁▁▁▁▁▁▁▁▁▁▁▁▁▁▁▁▁▁▁▁▁▁▁▁▁▁▁▁</td></tr><tr><td>val/iter_FN_3</td><td>██▇▅▆▅▃▂▃▄▂▂▂▂▂▁▁▃▂▁▂▂▂▁▁▁▁▁▃▁▁▁▂▂▂▁▁▂▁▁</td></tr><tr><td>val/iter_FN_4</td><td>██▆▄▅▄▄▄▃▄▃▃▂▂▂▂▃▂▂▂▃▃▁▂▃▂▁▁▃▂▂▁▁▁▂▂▂▂▂▁</td></tr><tr><td>val/iter_FN_5</td><td>██████████▅▅▅▅▃▃▄▂▃▂▃▂▂▁▃▂▂▁▂▂▁▁▁▂▁▁▁▁▁▁</td></tr><tr><td>val/iter_FN_6</td><td>█████████▅▂▂▄▃▂▂▂▂▃▂▃▃▃▃▄▃▂▂▁▂▂▂▂▂▂▂▂▁▁▁</td></tr><tr><td>val/iter_FN_7</td><td>▁▁▁▁▁▁▁▁▁▁▁▁▁▁▁▁▁▁▁▁▁▁▁▁▁▁▁▁▁▁▁▁▁▁▁▁▁▁▁▁</td></tr><tr><td>val/iter_FN_8</td><td>▁▁▁▁▁▁▁▁▁▁▁▁▁▁▁▁▁▁▁▁▁▁▁▁▁▁▁▁▁▁▁▁▁▁▁▁▁▁▁▁</td></tr><tr><td>val/iter_FN_9</td><td>█▄▂▁▂▂▂▂▂▁▁▁▁▂▁▁▁▂▁▁▂▂▁▁▂▁▁▁▂▂▁▁▁▁▁▁▁▁▁▁</td></tr><tr><td>val/iter_FP_0</td><td>▁▁▃▇▄▇▆▅█▆▅▅▄▄▅▅▄▆▅▅▅▅▅▅▆▄▅▅▅▅▅▅▄▅▆▄▆▄▅▅</td></tr><tr><td>val/iter_FP_1</td><td>▁▃▅▇▆▇▆▆▇▇▆▆▇▆▆▆█▅▅▆▄▅▆▆▅▆▆▆▆▅▆▆▇▆▅▅▆▆▆▆</td></tr><tr><td>val/iter_FP_10</td><td>▁▁▃▇▄▇▆▅█▆▅▄▃▄▄▅▃▅▅▅▄▄▅▅▅▄▅▅▄▄▄▅▅▅▅▄▆▅▅▄</td></tr><tr><td>val/iter_FP_11</td><td>▁▁▁▁▁▁▁▁▁▁▁▃▆▂▇▅▆▆▅▅▅█▅▅█▄▆▅██▅▆▄▄▆▄▆▃▅▅</td></tr><tr><td>val/iter_FP_12</td><td>▁▃▅▇▆▇▆▆▆█▆▅▆▅▅▅▇▅▅▅▄▄▆▅▅▆▅▅▅▄▅▅▆▅▅▅▅▅▅▅</td></tr><tr><td>val/iter_FP_13</td><td>▁▁▁▁▁▁▁▁▁▁▃▄▅▃▅▅▆▅▄▅▅▇▅▅▃▃▅▅█▆▆▆▇▄▅▅▇▄▄▅</td></tr><tr><td>val/iter_FP_2</td><td>▁▁▁▁▁▁▁▁▁▁▁▁▁▁▁▁▁▁▁▁▁▁▁▁▁▁▁▁▁▁▁▁▁▁▁▁▁▁▁▁</td></tr><tr><td>val/iter_FP_3</td><td>▁▁▅█▅█▇▇▇▄▆▆▇▅▅▅█▄▅▅▅▆▅▅▇▅▆▅▄▅▆▅▅▅▅▅▇▆▅▆</td></tr><tr><td>val/iter_FP_4</td><td>▁▁▄▇▅▇▆▆▇▃▅▄▇▇▄▅▄▅▅▅▃▄▆▅▃▅▅▅▅▄▅▅█▆▅▅▅▅▅▅</td></tr><tr><td>val/iter_FP_5</td><td>▁▁▁▁▁▁▁▁▁▁▄▄▆▃▆▅▆▇▅▅▄▅▅▆▅▅▅▅▇▅▆▅█▄▅▅█▆▅▅</td></tr><tr><td>val/iter_FP_6</td><td>▁▁▁▁▁▁▁▁▁▆█▇▂▄▆▄▇▇▄▄▄▃▄▄▂▃▄▄▇▃▃▃▅▄▄▄▄▄▄▄</td></tr><tr><td>val/iter_FP_7</td><td>█▁▁▁▁▁▁▁▁▁▁▁▁▁▁▁▁▁▁▁▁▁▁▁▁▁▁▁▁▁▁▁▁▁▁▁▁▁▁▁</td></tr><tr><td>val/iter_FP_8</td><td>▁▁▁▁▁▁▁▁▁▁▁▁▁▁▁▁▁▁▁▁▁▁▁▁▁▁▁▁▁▁▁▁▁▁▁▁▁▁▁▁</td></tr><tr><td>val/iter_FP_9</td><td>▁▃▅▇▆▇▆▆▆▇▆▆▇▆▆▆█▅▆▆▄▅▇▆▅▆▆▆▆▅▆▆▇▆▅▆▆▆▆▆</td></tr><tr><td>val/iter_IoU_0</td><td>▁▂▆▇▇▇▇▇▇▇██▇▇██▇███████████████████████</td></tr><tr><td>val/iter_IoU_1</td><td>▁▅▇▇▇▇▇█▇▇██▇▇██▇███████████▇███████████</td></tr><tr><td>val/iter_IoU_10</td><td>▁▁▆▇▇▇▇▇▇▇▇█▇▇▇█▇███▇███████▇███████████</td></tr><tr><td>val/iter_IoU_11</td><td>▁▁▁▁▁▁▁▁▁▁▁▆▇▆▇▇▇▇▇▇▆▆▆▆▆▆▇▇▅▇▇▇▇▆▇▇▇▅▇█</td></tr><tr><td>val/iter_IoU_12</td><td>▁▅▇▇▇▇▇▇▇▇▇█▇▇██▇███▇███████▇███████████</td></tr><tr><td>val/iter_IoU_13</td><td>▁▁▁▁▁▁▁▁▁▁▅▆▆▆▆▆▅▆▆▆▆▆▆▆▇▆▇▆▅▆▇▇▆▇██▇███</td></tr><tr><td>val/iter_IoU_2</td><td>▁▁▁▁▁▁▁▁▁▁▁▁▁▁▁▁▁▁▁▁▁▁▁▁▁▁▁▁▁▁▁▁▁▁▁▁▁▁▁▁</td></tr><tr><td>val/iter_IoU_3</td><td>▁▁▂▄▃▄▆▆▅▅▇▇▇▇██▇▇██▇▇▇█▇███▆███▇███▇▇██</td></tr><tr><td>val/iter_IoU_4</td><td>▁▁▃▄▄▅▅▅▅▅▇▇▆▇██▇▇██▇▇██▇███▇███▇███▇███</td></tr><tr><td>val/iter_IoU_5</td><td>▁▁▁▁▁▁▁▁▁▁▄▄▄▄▆▆▅▆▇▇▆▇▇▇▆▇▇█▇▇▇█▇███▆███</td></tr><tr><td>val/iter_IoU_6</td><td>▁▁▁▁▁▁▁▁▁▃▄▄▄▅▅▅▅▅▅▅▄▄▅▅▄▅▅▅▆▅▅▅▅▅▆▇▆███</td></tr><tr><td>val/iter_IoU_7</td><td>▁▁▁▁▁▁▁▁▁▁▁▁▁▁▁▁▁▁▁▁▁▁▁▁▁▁▁▁▁▁▁▁▁▁▁▁▁▁▁▁</td></tr><tr><td>val/iter_IoU_8</td><td>▁▁▁▁▁▁▁▁▁▁▁▁▁▁▁▁▁▁▁▁▁▁▁▁▁▁▁▁▁▁▁▁▁▁▁▁▁▁▁▁</td></tr><tr><td>val/iter_IoU_9</td><td>▁▆▇▇▇▇▇█▇▇██▇▇██▇███████████▇███████████</td></tr><tr><td>val/iter_Precision_0</td><td>▁█▇▆▇▆▆▆▆▆▆▆▇▇▇▆▇▆▇▇▇▇▆▇▆▇▇▇▇▇▇▇▇▇▆▇▆▇▆▇</td></tr><tr><td>val/iter_Precision_1</td><td>▁█▇▆▇▆▇▇▇▆▇▇▆▇▇▇▆▇▇▇█▇▇▇▇▇▇▇▇▇▇▇▇▇▇▇▇▇▇▇</td></tr><tr><td>val/iter_Precision_10</td><td>▁▁█▆▇▆▇▇▆▇▇▇███▇█▇▇▇▇█▇▇▇█▇▇███▇▇▇▇█▇▇▇█</td></tr><tr><td>val/iter_Precision_11</td><td>▁▁▁▁▁▁▁▃▁▁▇█▆█▆▆▇▇▇▇▆▅▆▆▅▇▆▇▆▆▇▇▇▆▆▇▆▇▇█</td></tr><tr><td>val/iter_Precision_12</td><td>▁█▇▆▇▆▇▇▇▆▇▇▇▇▇▇▇██▇██▇██▇██▇█▇█▇▇██▇▇██</td></tr><tr><td>val/iter_Precision_13</td><td>▁▁▁▁▁▁▅▄▇█▇▇▆▇▇▇▆▇▇▇▇▆▇▇██▇▇▆▇▇▇▆█▇▇▆██▇</td></tr><tr><td>val/iter_Precision_2</td><td>▁▁▁▁▁▁▁▁▁▁▁▁▁▁▁▁▁▁▁▁▁▁▁▁▁▁▁▁▁▁▁▁▁▁▁▁▁▁▁▁</td></tr><tr><td>val/iter_Precision_3</td><td>▁▃▄▄▄▄▅▆▆▆▇▇▆▇▇█▆█▇▇▇▇▇▇▆▇▇▇▇▇▇█▇▇▇▇▆▇▇▇</td></tr><tr><td>val/iter_Precision_4</td><td>▁▁▅▅▆▅▆▆▆▇▇▇▆▆▇▇▇▇▇▇██▇▇█▇▇▇▇█▇▇▆▇▇▇▇▇▇▇</td></tr><tr><td>val/iter_Precision_5</td><td>▁▁▁▁▁▁▁▁▃▄▆▆▆▇▆▇▆▆▇▇█▇▇▇▇▇▇▇▇▇▇▇▆█▇█▆▇▇▇</td></tr><tr><td>val/iter_Precision_6</td><td>▁▁▁▁▁▁▁▁▁▄▄▄▆▆▅▅▅▆▆▆▆▆▆▆▆▅▆▇▆██▇▆▆▇█████</td></tr><tr><td>val/iter_Precision_7</td><td>▁▁▁▁▁▁▁▁▁▁▁▁▁▁▁▁▁▁▁▁▁▁▁▁▁▁▁▁▁▁▁▁▁▁▁▁▁▁▁▁</td></tr><tr><td>val/iter_Precision_8</td><td>▁▁▁▁▁▁▁▁▁▁▁▁▁▁▁▁▁▁▁▁▁▁▁▁▁▁▁▁▁▁▁▁▁▁▁▁▁▁▁▁</td></tr><tr><td>val/iter_Precision_9</td><td>▁█▇▇▇▇▇▇▇▇▇▇▇▇▇▇▇█▇▇██▇▇█▇▇▇▇█▇▇▇▇██▇▇▇▇</td></tr><tr><td>val/iter_Recall_0</td><td>▁▂▆█▇▇▇██▇▇█▇▇▇█▇███▇████▇██████▇████▇██</td></tr><tr><td>val/iter_Recall_1</td><td>▁▅▇█▇▇▇▇▇▇███████▇██▇▇██▇███▇▇██████████</td></tr><tr><td>val/iter_Recall_10</td><td>▁▁▆▇▆▇▇▇█▇▇▇▆▇▇▇▆█▇█▇▇███▇██▇▇██████████</td></tr><tr><td>val/iter_Recall_11</td><td>▁▁▁▁▁▁▁▁▁▁▁▅▇▅█▇▇▇▆▆▆█▅▆▇▅▇▇▆▇▇▇▆▅▇▆█▅▇▇</td></tr><tr><td>val/iter_Recall_12</td><td>▁▄▇█▇▇█▇▇████▇███▇██▇▇██▇███▇▇██████████</td></tr><tr><td>val/iter_Recall_13</td><td>▁▁▁▁▁▁▁▁▁▁▄▅▆▅▇▇▅▇▆▇▆▇▆▇▆▅▇▇▅▇▇▇▇▇███▇██</td></tr><tr><td>val/iter_Recall_2</td><td>▁▁▁▁▁▁▁▁▁▁▁▁▁▁▁▁▁▁▁▁▁▁▁▁▁▁▁▁▁▁▁▁▁▁▁▁▁▁▁▁</td></tr><tr><td>val/iter_Recall_3</td><td>▁▁▂▄▃▄▆▇▆▄▇▇▇▇▇██▆▇█▇▇▇█████▆███▇▇▇██▇██</td></tr><tr><td>val/iter_Recall_4</td><td>▁▁▃▅▄▅▅▅▆▅▆▆▇▇▇▇▆▇▇▇▆▆█▇▆▇██▇▇▇███▇▇▇▇▇▇</td></tr><tr><td>val/iter_Recall_5</td><td>▁▁▁▁▁▁▁▁▁▁▄▄▄▄▆▆▅▇▇▇▆▇▇█▆▇▇██▇███▇██████</td></tr><tr><td>val/iter_Recall_6</td><td>▁▁▁▁▁▁▁▁▁▃▅▅▃▄▅▅▅▇▅▅▄▄▅▅▃▄▅▅▆▅▅▅▅▅▅▆▆███</td></tr><tr><td>val/iter_Recall_7</td><td>▁▁▁▁▁▁▁▁▁▁▁▁▁▁▁▁▁▁▁▁▁▁▁▁▁▁▁▁▁▁▁▁▁▁▁▁▁▁▁▁</td></tr><tr><td>val/iter_Recall_8</td><td>▁▁▁▁▁▁▁▁▁▁▁▁▁▁▁▁▁▁▁▁▁▁▁▁▁▁▁▁▁▁▁▁▁▁▁▁▁▁▁▁</td></tr><tr><td>val/iter_Recall_9</td><td>▁▅▇█▇▇▇▇▇████▇███▇██▇▇██▇███▇▇██████████</td></tr><tr><td>val/iter_TN_0</td><td>██▆▂▅▂▃▄▁▃▄▄▅▅▄▄▅▃▄▄▄▄▄▄▃▅▄▄▄▄▄▄▅▄▃▅▃▅▄▄</td></tr><tr><td>val/iter_TN_1</td><td>█▆▄▂▃▂▃▃▂▂▃▃▂▃▃▃▁▄▄▃▅▄▃▃▄▃▃▃▃▄▃▃▂▃▄▄▃▃▃▃</td></tr><tr><td>val/iter_TN_10</td><td>██▆▂▅▂▃▄▁▃▄▅▆▅▅▄▆▄▄▄▅▅▄▄▄▅▄▄▅▅▅▄▄▄▄▅▃▄▄▅</td></tr><tr><td>val/iter_TN_11</td><td>███████████▆▃▇▂▄▃▃▄▄▄▁▄▄▁▅▃▄▁▁▄▃▅▅▃▅▃▆▄▄</td></tr><tr><td>val/iter_TN_12</td><td>█▆▄▂▃▂▃▃▃▁▃▄▃▄▄▄▂▄▄▄▅▅▃▄▄▃▄▄▄▅▄▄▃▄▄▄▄▄▄▄</td></tr><tr><td>val/iter_TN_13</td><td>██████████▆▅▄▆▄▄▃▄▅▄▄▂▄▄▆▆▄▄▁▃▃▃▂▅▄▄▂▅▅▄</td></tr><tr><td>val/iter_TN_2</td><td>▁▁▁▁▁▁▁▁▁▁▁▁▁▁▁▁▁▁▁▁▁▁▁▁▁▁▁▁▁▁▁▁▁▁▁▁▁▁▁▁</td></tr><tr><td>val/iter_TN_3</td><td>██▄▁▄▁▂▂▂▅▃▃▂▄▄▄▁▅▄▄▄▃▄▄▂▄▃▄▅▄▃▄▄▄▄▄▂▃▄▃</td></tr><tr><td>val/iter_TN_4</td><td>██▅▂▄▂▃▃▂▆▄▅▂▂▅▄▅▄▄▄▆▅▃▄▆▄▄▄▄▅▄▄▁▃▄▄▄▄▄▄</td></tr><tr><td>val/iter_TN_5</td><td>██████████▅▅▃▆▃▄▃▂▄▄▅▄▄▃▄▄▄▄▂▄▃▄▁▅▄▄▁▃▄▄</td></tr><tr><td>val/iter_TN_6</td><td>█████████▃▁▂▇▅▃▅▂▂▅▅▅▆▅▅▇▆▅▅▂▆▆▆▄▅▅▅▅▅▅▅</td></tr><tr><td>val/iter_TN_7</td><td>▁███████████████████████████████████████</td></tr><tr><td>val/iter_TN_8</td><td>▁▁▁▁▁▁▁▁▁▁▁▁▁▁▁▁▁▁▁▁▁▁▁▁▁▁▁▁▁▁▁▁▁▁▁▁▁▁▁▁</td></tr><tr><td>val/iter_TN_9</td><td>█▆▄▂▃▂▃▃▃▂▃▃▂▃▃▃▁▄▃▃▅▄▂▃▄▃▃▃▃▄▃▃▂▃▄▃▃▃▃▃</td></tr><tr><td>val/iter_TP_0</td><td>▁▂▆█▇▇███▇██▇▇██▇███▇████▇██████▇███████</td></tr><tr><td>val/iter_TP_1</td><td>▁▄▇█▇▇▇▇▇▇███▇███▇██▇▇██▇███▇▇██████████</td></tr><tr><td>val/iter_TP_10</td><td>▁▁▆█▆▇▇▇█▇▇▇▆▇▇█▇█▇█▇▇███▇██▇███████████</td></tr><tr><td>val/iter_TP_11</td><td>▁▁▁▁▁▁▁▁▁▁▁▅▆▅▇▇▇█▇▇▇█▇▇█▆▇▇▇█▇█▇▆█▇█▆██</td></tr><tr><td>val/iter_TP_12</td><td>▁▄▇█▇▇█▇▇████▇███▇██▇▇██▇███▇▇██████████</td></tr><tr><td>val/iter_TP_13</td><td>▁▁▁▁▁▁▁▁▁▁▄▅▆▅▇▇▆▇▆▇▆▇▆▇▆▅▇▇▆▇▇▇▇▇▇▇▇▇██</td></tr><tr><td>val/iter_TP_2</td><td>▁▁▁▁▁▁▁▁▁▁▁▁▁▁▁▁▁▁▁▁▁▁▁▁▁▁▁▁▁▁▁▁▁▁▁▁▁▁▁▁</td></tr><tr><td>val/iter_TP_3</td><td>▁▁▂▄▃▄▆▇▆▅▇▇▇▇▇██▆▇█▇▇▇█████▆███▇▇▇██▇██</td></tr><tr><td>val/iter_TP_4</td><td>▁▁▃▅▄▅▅▅▆▅▆▆▇▇▇▇▆▇▇▇▆▆█▇▆▇██▆▇▇███▇▇▇▇▇█</td></tr><tr><td>val/iter_TP_5</td><td>▁▁▁▁▁▁▁▁▁▁▄▄▄▄▆▆▅▇▆▇▆▇▇█▆▇▇█▇▇███▇██████</td></tr><tr><td>val/iter_TP_6</td><td>▁▁▁▁▁▁▁▁▁▄▇▇▅▆▇▇▇▇▆▇▆▆▆▆▅▆▇▇█▇▇▇▇▇▇▇▇███</td></tr><tr><td>val/iter_TP_7</td><td>▁▁▁▁▁▁▁▁▁▁▁▁▁▁▁▁▁▁▁▁▁▁▁▁▁▁▁▁▁▁▁▁▁▁▁▁▁▁▁▁</td></tr><tr><td>val/iter_TP_8</td><td>▁▁▁▁▁▁▁▁▁▁▁▁▁▁▁▁▁▁▁▁▁▁▁▁▁▁▁▁▁▁▁▁▁▁▁▁▁▁▁▁</td></tr><tr><td>val/iter_TP_9</td><td>▁▅▇█▇▇▇▇▇████▇███▇██▇▇██▇███▇▇██████████</td></tr><tr><td>val/iter_loss</td><td>█▄▂▂▂▂▁▁▂▂▁▁▁▁▁▁▁▁▁▁▁▁▁▁▁▁▁▁▂▁▁▁▁▁▁▁▂▁▁▁</td></tr><tr><td>val/mean_F1</td><td>▁▃▄▅▅▅▅▅▅▅▆▇▇▇▇▇▇▇▇▇▇▇▇▇▇▇██▇▇██▇███▇███</td></tr><tr><td>val/mean_IoU</td><td>▁▂▄▅▄▅▅▅▅▅▆▇▆▇▇▇▇▇▇▇▇▇▇▇▇▇▇▇▇▇▇█▇▇██▇███</td></tr></table><br/></div><div class=\"wandb-col\"><h3>Run summary:</h3><br/><table class=\"wandb\"><tr><td>epoch</td><td>199</td></tr><tr><td>lr-AdamW</td><td>2e-05</td></tr><tr><td>train/epoch_F1_0</td><td>0.82289</td></tr><tr><td>train/epoch_F1_1</td><td>0.85064</td></tr><tr><td>train/epoch_F1_10</td><td>0.82485</td></tr><tr><td>train/epoch_F1_11</td><td>0.71627</td></tr><tr><td>train/epoch_F1_12</td><td>0.84467</td></tr><tr><td>train/epoch_F1_13</td><td>0.75691</td></tr><tr><td>train/epoch_F1_2</td><td>0.0</td></tr><tr><td>train/epoch_F1_3</td><td>0.83231</td></tr><tr><td>train/epoch_F1_4</td><td>0.82462</td></tr><tr><td>train/epoch_F1_5</td><td>0.80602</td></tr><tr><td>train/epoch_F1_6</td><td>0.66924</td></tr><tr><td>train/epoch_F1_7</td><td>0.0</td></tr><tr><td>train/epoch_F1_8</td><td>0.0</td></tr><tr><td>train/epoch_F1_9</td><td>0.85068</td></tr><tr><td>train/epoch_FN_0</td><td>10123.40039</td></tr><tr><td>train/epoch_FN_1</td><td>9173.72559</td></tr><tr><td>train/epoch_FN_10</td><td>8362.02539</td></tr><tr><td>train/epoch_FN_11</td><td>2688.02515</td></tr><tr><td>train/epoch_FN_12</td><td>8350.0498</td></tr><tr><td>train/epoch_FN_13</td><td>2349.90015</td></tr><tr><td>train/epoch_FN_2</td><td>0.0</td></tr><tr><td>train/epoch_FN_3</td><td>4905.42529</td></tr><tr><td>train/epoch_FN_4</td><td>4564.25</td></tr><tr><td>train/epoch_FN_5</td><td>1215.75</td></tr><tr><td>train/epoch_FN_6</td><td>637.02502</td></tr><tr><td>train/epoch_FN_7</td><td>0.0</td></tr><tr><td>train/epoch_FN_8</td><td>0.0</td></tr><tr><td>train/epoch_FN_9</td><td>9211.7002</td></tr><tr><td>train/epoch_FP_0</td><td>18813.42578</td></tr><tr><td>train/epoch_FP_1</td><td>22221.55078</td></tr><tr><td>train/epoch_FP_10</td><td>14337.52539</td></tr><tr><td>train/epoch_FP_11</td><td>4165.5</td></tr><tr><td>train/epoch_FP_12</td><td>18664.05078</td></tr><tr><td>train/epoch_FP_13</td><td>4128.05029</td></tr><tr><td>train/epoch_FP_2</td><td>0.0</td></tr><tr><td>train/epoch_FP_3</td><td>10450.85059</td></tr><tr><td>train/epoch_FP_4</td><td>9072.4248</td></tr><tr><td>train/epoch_FP_5</td><td>2289.42505</td></tr><tr><td>train/epoch_FP_6</td><td>1431.65002</td></tr><tr><td>train/epoch_FP_7</td><td>0.0</td></tr><tr><td>train/epoch_FP_8</td><td>0.0</td></tr><tr><td>train/epoch_FP_9</td><td>22166.42578</td></tr><tr><td>train/epoch_IoU_0</td><td>0.70076</td></tr><tr><td>train/epoch_IoU_1</td><td>0.74036</td></tr><tr><td>train/epoch_IoU_10</td><td>0.70444</td></tr><tr><td>train/epoch_IoU_11</td><td>0.57648</td></tr><tr><td>train/epoch_IoU_12</td><td>0.73163</td></tr><tr><td>train/epoch_IoU_13</td><td>0.63252</td></tr><tr><td>train/epoch_IoU_2</td><td>0.0</td></tr><tr><td>train/epoch_IoU_3</td><td>0.71346</td></tr><tr><td>train/epoch_IoU_4</td><td>0.70234</td></tr><tr><td>train/epoch_IoU_5</td><td>0.70225</td></tr><tr><td>train/epoch_IoU_6</td><td>0.59034</td></tr><tr><td>train/epoch_IoU_7</td><td>0.0</td></tr><tr><td>train/epoch_IoU_8</td><td>0.0</td></tr><tr><td>train/epoch_IoU_9</td><td>0.74042</td></tr><tr><td>train/epoch_Precision_0</td><td>0.78453</td></tr><tr><td>train/epoch_Precision_1</td><td>0.80083</td></tr><tr><td>train/epoch_Precision_10</td><td>0.79319</td></tr><tr><td>train/epoch_Precision_11</td><td>0.68095</td></tr><tr><td>train/epoch_Precision_12</td><td>0.79666</td></tr><tr><td>train/epoch_Precision_13</td><td>0.70752</td></tr><tr><td>train/epoch_Precision_2</td><td>0.0</td></tr><tr><td>train/epoch_Precision_3</td><td>0.78443</td></tr><tr><td>train/epoch_Precision_4</td><td>0.78016</td></tr><tr><td>train/epoch_Precision_5</td><td>0.76674</td></tr><tr><td>train/epoch_Precision_6</td><td>0.63713</td></tr><tr><td>train/epoch_Precision_7</td><td>0.0</td></tr><tr><td>train/epoch_Precision_8</td><td>0.0</td></tr><tr><td>train/epoch_Precision_9</td><td>0.80124</td></tr><tr><td>train/epoch_Recall_0</td><td>0.86596</td></tr><tr><td>train/epoch_Recall_1</td><td>0.90738</td></tr><tr><td>train/epoch_Recall_10</td><td>0.86035</td></tr><tr><td>train/epoch_Recall_11</td><td>0.75964</td></tr><tr><td>train/epoch_Recall_12</td><td>0.9</td></tr><tr><td>train/epoch_Recall_13</td><td>0.821</td></tr><tr><td>train/epoch_Recall_2</td><td>0.0</td></tr><tr><td>train/epoch_Recall_3</td><td>0.887</td></tr><tr><td>train/epoch_Recall_4</td><td>0.87556</td></tr><tr><td>train/epoch_Recall_5</td><td>0.85215</td></tr><tr><td>train/epoch_Recall_6</td><td>0.70674</td></tr><tr><td>train/epoch_Recall_7</td><td>0.0</td></tr><tr><td>train/epoch_Recall_8</td><td>0.0</td></tr><tr><td>train/epoch_Recall_9</td><td>0.90695</td></tr><tr><td>train/epoch_TN_0</td><td>4095798.75</td></tr><tr><td>train/epoch_TN_1</td><td>4073649.25</td></tr><tr><td>train/epoch_TN_10</td><td>4113727.25</td></tr><tr><td>train/epoch_TN_11</td><td>4176686.0</td></tr><tr><td>train/epoch_TN_12</td><td>4093104.0</td></tr><tr><td>train/epoch_TN_13</td><td>4174278.75</td></tr><tr><td>train/epoch_TN_2</td><td>4194304.0</td></tr><tr><td>train/epoch_TN_3</td><td>4140790.75</td></tr><tr><td>train/epoch_TN_4</td><td>4148238.75</td></tr><tr><td>train/epoch_TN_5</td><td>4180908.0</td></tr><tr><td>train/epoch_TN_6</td><td>4185601.25</td></tr><tr><td>train/epoch_TN_7</td><td>4194304.0</td></tr><tr><td>train/epoch_TN_8</td><td>4194304.0</td></tr><tr><td>train/epoch_TN_9</td><td>4073704.75</td></tr><tr><td>train/epoch_TP_0</td><td>69568.32812</td></tr><tr><td>train/epoch_TP_1</td><td>89259.32812</td></tr><tr><td>train/epoch_TP_10</td><td>57877.07422</td></tr><tr><td>train/epoch_TP_11</td><td>10764.60059</td></tr><tr><td>train/epoch_TP_12</td><td>74185.89844</td></tr><tr><td>train/epoch_TP_13</td><td>13547.2002</td></tr><tr><td>train/epoch_TP_2</td><td>0.0</td></tr><tr><td>train/epoch_TP_3</td><td>38157.07422</td></tr><tr><td>train/epoch_TP_4</td><td>32428.45117</td></tr><tr><td>train/epoch_TP_5</td><td>9890.9502</td></tr><tr><td>train/epoch_TP_6</td><td>6634.125</td></tr><tr><td>train/epoch_TP_7</td><td>0.0</td></tr><tr><td>train/epoch_TP_8</td><td>0.0</td></tr><tr><td>train/epoch_TP_9</td><td>89221.35156</td></tr><tr><td>train/epoch_loss</td><td>0.37252</td></tr><tr><td>train/iter_F1_0</td><td>0.82679</td></tr><tr><td>train/iter_F1_1</td><td>0.84442</td></tr><tr><td>train/iter_F1_10</td><td>0.8248</td></tr><tr><td>train/iter_F1_11</td><td>0.79167</td></tr><tr><td>train/iter_F1_12</td><td>0.84523</td></tr><tr><td>train/iter_F1_13</td><td>0.76361</td></tr><tr><td>train/iter_F1_2</td><td>0.0</td></tr><tr><td>train/iter_F1_3</td><td>0.82337</td></tr><tr><td>train/iter_F1_4</td><td>0.82184</td></tr><tr><td>train/iter_F1_5</td><td>0.86717</td></tr><tr><td>train/iter_F1_6</td><td>0.85958</td></tr><tr><td>train/iter_F1_7</td><td>0.0</td></tr><tr><td>train/iter_F1_8</td><td>0.0</td></tr><tr><td>train/iter_F1_9</td><td>0.84411</td></tr><tr><td>train/iter_FN_0</td><td>9445.0</td></tr><tr><td>train/iter_FN_1</td><td>11966.0</td></tr><tr><td>train/iter_FN_10</td><td>7918.0</td></tr><tr><td>train/iter_FN_11</td><td>2187.0</td></tr><tr><td>train/iter_FN_12</td><td>11398.0</td></tr><tr><td>train/iter_FN_13</td><td>1710.0</td></tr><tr><td>train/iter_FN_2</td><td>0.0</td></tr><tr><td>train/iter_FN_3</td><td>5091.0</td></tr><tr><td>train/iter_FN_4</td><td>4977.0</td></tr><tr><td>train/iter_FN_5</td><td>1279.0</td></tr><tr><td>train/iter_FN_6</td><td>1553.0</td></tr><tr><td>train/iter_FN_7</td><td>0.0</td></tr><tr><td>train/iter_FN_8</td><td>0.0</td></tr><tr><td>train/iter_FN_9</td><td>12020.0</td></tr><tr><td>train/iter_FP_0</td><td>20935.0</td></tr><tr><td>train/iter_FP_1</td><td>28389.0</td></tr><tr><td>train/iter_FP_10</td><td>17600.0</td></tr><tr><td>train/iter_FP_11</td><td>4013.0</td></tr><tr><td>train/iter_FP_12</td><td>25331.0</td></tr><tr><td>train/iter_FP_13</td><td>3292.0</td></tr><tr><td>train/iter_FP_2</td><td>0.0</td></tr><tr><td>train/iter_FP_3</td><td>15929.0</td></tr><tr><td>train/iter_FP_4</td><td>8399.0</td></tr><tr><td>train/iter_FP_5</td><td>2810.0</td></tr><tr><td>train/iter_FP_6</td><td>3476.0</td></tr><tr><td>train/iter_FP_7</td><td>0.0</td></tr><tr><td>train/iter_FP_8</td><td>0.0</td></tr><tr><td>train/iter_FP_9</td><td>28410.0</td></tr><tr><td>train/iter_IoU_0</td><td>0.70472</td></tr><tr><td>train/iter_IoU_1</td><td>0.73074</td></tr><tr><td>train/iter_IoU_10</td><td>0.70184</td></tr><tr><td>train/iter_IoU_11</td><td>0.65517</td></tr><tr><td>train/iter_IoU_12</td><td>0.73195</td></tr><tr><td>train/iter_IoU_13</td><td>0.61761</td></tr><tr><td>train/iter_IoU_2</td><td>0.0</td></tr><tr><td>train/iter_IoU_3</td><td>0.69977</td></tr><tr><td>train/iter_IoU_4</td><td>0.69757</td></tr><tr><td>train/iter_IoU_5</td><td>0.76549</td></tr><tr><td>train/iter_IoU_6</td><td>0.75373</td></tr><tr><td>train/iter_IoU_7</td><td>0.0</td></tr><tr><td>train/iter_IoU_8</td><td>0.0</td></tr><tr><td>train/iter_IoU_9</td><td>0.73027</td></tr><tr><td>train/iter_Precision_0</td><td>0.77595</td></tr><tr><td>train/iter_Precision_1</td><td>0.79414</td></tr><tr><td>train/iter_Precision_10</td><td>0.77339</td></tr><tr><td>train/iter_Precision_11</td><td>0.7459</td></tr><tr><td>train/iter_Precision_12</td><td>0.79836</td></tr><tr><td>train/iter_Precision_13</td><td>0.71049</td></tr><tr><td>train/iter_Precision_2</td><td>0.0</td></tr><tr><td>train/iter_Precision_3</td><td>0.75464</td></tr><tr><td>train/iter_Precision_4</td><td>0.78602</td></tr><tr><td>train/iter_Precision_5</td><td>0.82608</td></tr><tr><td>train/iter_Precision_6</td><td>0.81577</td></tr><tr><td>train/iter_Precision_7</td><td>0.0</td></tr><tr><td>train/iter_Precision_8</td><td>0.0</td></tr><tr><td>train/iter_Precision_9</td><td>0.79394</td></tr><tr><td>train/iter_Recall_0</td><td>0.88475</td></tr><tr><td>train/iter_Recall_1</td><td>0.9015</td></tr><tr><td>train/iter_Recall_10</td><td>0.88353</td></tr><tr><td>train/iter_Recall_11</td><td>0.84342</td></tr><tr><td>train/iter_Recall_12</td><td>0.89795</td></tr><tr><td>train/iter_Recall_13</td><td>0.82531</td></tr><tr><td>train/iter_Recall_2</td><td>0.0</td></tr><tr><td>train/iter_Recall_3</td><td>0.90587</td></tr><tr><td>train/iter_Recall_4</td><td>0.86109</td></tr><tr><td>train/iter_Recall_5</td><td>0.91255</td></tr><tr><td>train/iter_Recall_6</td><td>0.90835</td></tr><tr><td>train/iter_Recall_7</td><td>0.0</td></tr><tr><td>train/iter_Recall_8</td><td>0.0</td></tr><tr><td>train/iter_Recall_9</td><td>0.90106</td></tr><tr><td>train/iter_TN_0</td><td>4091418.0</td></tr><tr><td>train/iter_TN_1</td><td>4044432.0</td></tr><tr><td>train/iter_TN_10</td><td>4108720.0</td></tr><tr><td>train/iter_TN_11</td><td>4176324.0</td></tr><tr><td>train/iter_TN_12</td><td>4057279.0</td></tr><tr><td>train/iter_TN_13</td><td>4181223.0</td></tr><tr><td>train/iter_TN_2</td><td>4194304.0</td></tr><tr><td>train/iter_TN_3</td><td>4124292.0</td></tr><tr><td>train/iter_TN_4</td><td>4150076.0</td></tr><tr><td>train/iter_TN_5</td><td>4176868.0</td></tr><tr><td>train/iter_TN_6</td><td>4173883.0</td></tr><tr><td>train/iter_TN_7</td><td>4194304.0</td></tr><tr><td>train/iter_TN_8</td><td>4194304.0</td></tr><tr><td>train/iter_TN_9</td><td>4044411.0</td></tr><tr><td>train/iter_TP_0</td><td>72506.0</td></tr><tr><td>train/iter_TP_1</td><td>109517.0</td></tr><tr><td>train/iter_TP_10</td><td>60066.0</td></tr><tr><td>train/iter_TP_11</td><td>11780.0</td></tr><tr><td>train/iter_TP_12</td><td>100296.0</td></tr><tr><td>train/iter_TP_13</td><td>8079.0</td></tr><tr><td>train/iter_TP_2</td><td>0.0</td></tr><tr><td>train/iter_TP_3</td><td>48992.0</td></tr><tr><td>train/iter_TP_4</td><td>30852.0</td></tr><tr><td>train/iter_TP_5</td><td>13347.0</td></tr><tr><td>train/iter_TP_6</td><td>15392.0</td></tr><tr><td>train/iter_TP_7</td><td>0.0</td></tr><tr><td>train/iter_TP_8</td><td>0.0</td></tr><tr><td>train/iter_TP_9</td><td>109463.0</td></tr><tr><td>train/iter_loss</td><td>0.3827</td></tr><tr><td>train/mean_F1</td><td>0.62851</td></tr><tr><td>train/mean_IoU</td><td>0.53822</td></tr><tr><td>trainer/global_step</td><td>7999</td></tr><tr><td>val/epoch_F1_0</td><td>0.75625</td></tr><tr><td>val/epoch_F1_1</td><td>0.70224</td></tr><tr><td>val/epoch_F1_10</td><td>0.72876</td></tr><tr><td>val/epoch_F1_11</td><td>0.49627</td></tr><tr><td>val/epoch_F1_12</td><td>0.68156</td></tr><tr><td>val/epoch_F1_13</td><td>0.57482</td></tr><tr><td>val/epoch_F1_2</td><td>0.0</td></tr><tr><td>val/epoch_F1_3</td><td>0.51543</td></tr><tr><td>val/epoch_F1_4</td><td>0.64244</td></tr><tr><td>val/epoch_F1_5</td><td>0.6649</td></tr><tr><td>val/epoch_F1_6</td><td>0.58565</td></tr><tr><td>val/epoch_F1_7</td><td>0.0</td></tr><tr><td>val/epoch_F1_8</td><td>0.0</td></tr><tr><td>val/epoch_F1_9</td><td>0.7024</td></tr><tr><td>val/epoch_FN_0</td><td>16302.10059</td></tr><tr><td>val/epoch_FN_1</td><td>24603.40039</td></tr><tr><td>val/epoch_FN_10</td><td>15836.7002</td></tr><tr><td>val/epoch_FN_11</td><td>3568.0</td></tr><tr><td>val/epoch_FN_12</td><td>22675.09961</td></tr><tr><td>val/epoch_FN_13</td><td>5378.2002</td></tr><tr><td>val/epoch_FN_2</td><td>0.0</td></tr><tr><td>val/epoch_FN_3</td><td>17494.80078</td></tr><tr><td>val/epoch_FN_4</td><td>11922.2998</td></tr><tr><td>val/epoch_FN_5</td><td>3219.69995</td></tr><tr><td>val/epoch_FN_6</td><td>860.70001</td></tr><tr><td>val/epoch_FN_7</td><td>0.0</td></tr><tr><td>val/epoch_FN_8</td><td>0.0</td></tr><tr><td>val/epoch_FN_9</td><td>24585.0</td></tr><tr><td>val/epoch_FP_0</td><td>20820.90039</td></tr><tr><td>val/epoch_FP_1</td><td>31254.59961</td></tr><tr><td>val/epoch_FP_10</td><td>18015.20117</td></tr><tr><td>val/epoch_FP_11</td><td>5167.80029</td></tr><tr><td>val/epoch_FP_12</td><td>26258.40039</td></tr><tr><td>val/epoch_FP_13</td><td>6543.8999</td></tr><tr><td>val/epoch_FP_2</td><td>0.0</td></tr><tr><td>val/epoch_FP_3</td><td>17180.59961</td></tr><tr><td>val/epoch_FP_4</td><td>13519.40039</td></tr><tr><td>val/epoch_FP_5</td><td>3797.5</td></tr><tr><td>val/epoch_FP_6</td><td>2138.30005</td></tr><tr><td>val/epoch_FP_7</td><td>0.0</td></tr><tr><td>val/epoch_FP_8</td><td>0.0</td></tr><tr><td>val/epoch_FP_9</td><td>31228.90039</td></tr><tr><td>val/epoch_IoU_0</td><td>0.6134</td></tr><tr><td>val/epoch_IoU_1</td><td>0.54495</td></tr><tr><td>val/epoch_IoU_10</td><td>0.58469</td></tr><tr><td>val/epoch_IoU_11</td><td>0.35492</td></tr><tr><td>val/epoch_IoU_12</td><td>0.52231</td></tr><tr><td>val/epoch_IoU_13</td><td>0.42749</td></tr><tr><td>val/epoch_IoU_2</td><td>0.0</td></tr><tr><td>val/epoch_IoU_3</td><td>0.35042</td></tr><tr><td>val/epoch_IoU_4</td><td>0.48257</td></tr><tr><td>val/epoch_IoU_5</td><td>0.51787</td></tr><tr><td>val/epoch_IoU_6</td><td>0.5006</td></tr><tr><td>val/epoch_IoU_7</td><td>0.0</td></tr><tr><td>val/epoch_IoU_8</td><td>0.0</td></tr><tr><td>val/epoch_IoU_9</td><td>0.54515</td></tr><tr><td>val/epoch_Precision_0</td><td>0.74123</td></tr><tr><td>val/epoch_Precision_1</td><td>0.67633</td></tr><tr><td>val/epoch_Precision_10</td><td>0.7234</td></tr><tr><td>val/epoch_Precision_11</td><td>0.51399</td></tr><tr><td>val/epoch_Precision_12</td><td>0.66652</td></tr><tr><td>val/epoch_Precision_13</td><td>0.53926</td></tr><tr><td>val/epoch_Precision_2</td><td>0.0</td></tr><tr><td>val/epoch_Precision_3</td><td>0.52054</td></tr><tr><td>val/epoch_Precision_4</td><td>0.62653</td></tr><tr><td>val/epoch_Precision_5</td><td>0.64599</td></tr><tr><td>val/epoch_Precision_6</td><td>0.542</td></tr><tr><td>val/epoch_Precision_7</td><td>0.0</td></tr><tr><td>val/epoch_Precision_8</td><td>0.0</td></tr><tr><td>val/epoch_Precision_9</td><td>0.67652</td></tr><tr><td>val/epoch_Recall_0</td><td>0.78298</td></tr><tr><td>val/epoch_Recall_1</td><td>0.73212</td></tr><tr><td>val/epoch_Recall_10</td><td>0.74619</td></tr><tr><td>val/epoch_Recall_11</td><td>0.5085</td></tr><tr><td>val/epoch_Recall_12</td><td>0.69958</td></tr><tr><td>val/epoch_Recall_13</td><td>0.62471</td></tr><tr><td>val/epoch_Recall_2</td><td>0.0</td></tr><tr><td>val/epoch_Recall_3</td><td>0.52204</td></tr><tr><td>val/epoch_Recall_4</td><td>0.66473</td></tr><tr><td>val/epoch_Recall_5</td><td>0.7207</td></tr><tr><td>val/epoch_Recall_6</td><td>0.68662</td></tr><tr><td>val/epoch_Recall_7</td><td>0.0</td></tr><tr><td>val/epoch_Recall_8</td><td>0.0</td></tr><tr><td>val/epoch_Recall_9</td><td>0.73224</td></tr><tr><td>val/epoch_TN_0</td><td>4092871.75</td></tr><tr><td>val/epoch_TN_1</td><td>4070714.75</td></tr><tr><td>val/epoch_TN_10</td><td>4105334.0</td></tr><tr><td>val/epoch_TN_11</td><td>4179480.0</td></tr><tr><td>val/epoch_TN_12</td><td>4090064.0</td></tr><tr><td>val/epoch_TN_13</td><td>4173406.75</td></tr><tr><td>val/epoch_TN_2</td><td>4194304.0</td></tr><tr><td>val/epoch_TN_3</td><td>4140855.75</td></tr><tr><td>val/epoch_TN_4</td><td>4142824.0</td></tr><tr><td>val/epoch_TN_5</td><td>4179959.25</td></tr><tr><td>val/epoch_TN_6</td><td>4184606.75</td></tr><tr><td>val/epoch_TN_7</td><td>4194304.0</td></tr><tr><td>val/epoch_TN_8</td><td>4194304.0</td></tr><tr><td>val/epoch_TN_9</td><td>4070740.5</td></tr><tr><td>val/epoch_TP_0</td><td>64309.19922</td></tr><tr><td>val/epoch_TP_1</td><td>67731.39844</td></tr><tr><td>val/epoch_TP_10</td><td>55118.19922</td></tr><tr><td>val/epoch_TP_11</td><td>6088.3999</td></tr><tr><td>val/epoch_TP_12</td><td>55306.40234</td></tr><tr><td>val/epoch_TP_13</td><td>8975.10059</td></tr><tr><td>val/epoch_TP_2</td><td>0.0</td></tr><tr><td>val/epoch_TP_3</td><td>18772.90039</td></tr><tr><td>val/epoch_TP_4</td><td>26038.5</td></tr><tr><td>val/epoch_TP_5</td><td>7327.6001</td></tr><tr><td>val/epoch_TP_6</td><td>6698.30029</td></tr><tr><td>val/epoch_TP_7</td><td>0.0</td></tr><tr><td>val/epoch_TP_8</td><td>0.0</td></tr><tr><td>val/epoch_TP_9</td><td>67749.80469</td></tr><tr><td>val/epoch_loss</td><td>0.38393</td></tr><tr><td>val/iter_F1_0</td><td>0.75625</td></tr><tr><td>val/iter_F1_1</td><td>0.70224</td></tr><tr><td>val/iter_F1_10</td><td>0.72876</td></tr><tr><td>val/iter_F1_11</td><td>0.49627</td></tr><tr><td>val/iter_F1_12</td><td>0.68156</td></tr><tr><td>val/iter_F1_13</td><td>0.57482</td></tr><tr><td>val/iter_F1_2</td><td>0.0</td></tr><tr><td>val/iter_F1_3</td><td>0.51543</td></tr><tr><td>val/iter_F1_4</td><td>0.64244</td></tr><tr><td>val/iter_F1_5</td><td>0.6649</td></tr><tr><td>val/iter_F1_6</td><td>0.58565</td></tr><tr><td>val/iter_F1_7</td><td>0.0</td></tr><tr><td>val/iter_F1_8</td><td>0.0</td></tr><tr><td>val/iter_F1_9</td><td>0.7024</td></tr><tr><td>val/iter_FN_0</td><td>16302.09961</td></tr><tr><td>val/iter_FN_1</td><td>24603.40039</td></tr><tr><td>val/iter_FN_10</td><td>15836.7002</td></tr><tr><td>val/iter_FN_11</td><td>3568.0</td></tr><tr><td>val/iter_FN_12</td><td>22675.09961</td></tr><tr><td>val/iter_FN_13</td><td>5378.2002</td></tr><tr><td>val/iter_FN_2</td><td>0.0</td></tr><tr><td>val/iter_FN_3</td><td>17494.80078</td></tr><tr><td>val/iter_FN_4</td><td>11922.2998</td></tr><tr><td>val/iter_FN_5</td><td>3219.69995</td></tr><tr><td>val/iter_FN_6</td><td>860.70001</td></tr><tr><td>val/iter_FN_7</td><td>0.0</td></tr><tr><td>val/iter_FN_8</td><td>0.0</td></tr><tr><td>val/iter_FN_9</td><td>24585.0</td></tr><tr><td>val/iter_FP_0</td><td>20820.90039</td></tr><tr><td>val/iter_FP_1</td><td>31254.59961</td></tr><tr><td>val/iter_FP_10</td><td>18015.19922</td></tr><tr><td>val/iter_FP_11</td><td>5167.7998</td></tr><tr><td>val/iter_FP_12</td><td>26258.40039</td></tr><tr><td>val/iter_FP_13</td><td>6543.8999</td></tr><tr><td>val/iter_FP_2</td><td>0.0</td></tr><tr><td>val/iter_FP_3</td><td>17180.59961</td></tr><tr><td>val/iter_FP_4</td><td>13519.40039</td></tr><tr><td>val/iter_FP_5</td><td>3797.5</td></tr><tr><td>val/iter_FP_6</td><td>2138.30005</td></tr><tr><td>val/iter_FP_7</td><td>0.0</td></tr><tr><td>val/iter_FP_8</td><td>0.0</td></tr><tr><td>val/iter_FP_9</td><td>31228.90039</td></tr><tr><td>val/iter_IoU_0</td><td>0.6134</td></tr><tr><td>val/iter_IoU_1</td><td>0.54495</td></tr><tr><td>val/iter_IoU_10</td><td>0.58469</td></tr><tr><td>val/iter_IoU_11</td><td>0.35492</td></tr><tr><td>val/iter_IoU_12</td><td>0.52231</td></tr><tr><td>val/iter_IoU_13</td><td>0.42749</td></tr><tr><td>val/iter_IoU_2</td><td>0.0</td></tr><tr><td>val/iter_IoU_3</td><td>0.35042</td></tr><tr><td>val/iter_IoU_4</td><td>0.48257</td></tr><tr><td>val/iter_IoU_5</td><td>0.51787</td></tr><tr><td>val/iter_IoU_6</td><td>0.5006</td></tr><tr><td>val/iter_IoU_7</td><td>0.0</td></tr><tr><td>val/iter_IoU_8</td><td>0.0</td></tr><tr><td>val/iter_IoU_9</td><td>0.54515</td></tr><tr><td>val/iter_Precision_0</td><td>0.74123</td></tr><tr><td>val/iter_Precision_1</td><td>0.67633</td></tr><tr><td>val/iter_Precision_10</td><td>0.7234</td></tr><tr><td>val/iter_Precision_11</td><td>0.51399</td></tr><tr><td>val/iter_Precision_12</td><td>0.66652</td></tr><tr><td>val/iter_Precision_13</td><td>0.53926</td></tr><tr><td>val/iter_Precision_2</td><td>0.0</td></tr><tr><td>val/iter_Precision_3</td><td>0.52054</td></tr><tr><td>val/iter_Precision_4</td><td>0.62653</td></tr><tr><td>val/iter_Precision_5</td><td>0.64599</td></tr><tr><td>val/iter_Precision_6</td><td>0.542</td></tr><tr><td>val/iter_Precision_7</td><td>0.0</td></tr><tr><td>val/iter_Precision_8</td><td>0.0</td></tr><tr><td>val/iter_Precision_9</td><td>0.67652</td></tr><tr><td>val/iter_Recall_0</td><td>0.78298</td></tr><tr><td>val/iter_Recall_1</td><td>0.73212</td></tr><tr><td>val/iter_Recall_10</td><td>0.74619</td></tr><tr><td>val/iter_Recall_11</td><td>0.5085</td></tr><tr><td>val/iter_Recall_12</td><td>0.69958</td></tr><tr><td>val/iter_Recall_13</td><td>0.62471</td></tr><tr><td>val/iter_Recall_2</td><td>0.0</td></tr><tr><td>val/iter_Recall_3</td><td>0.52204</td></tr><tr><td>val/iter_Recall_4</td><td>0.66473</td></tr><tr><td>val/iter_Recall_5</td><td>0.7207</td></tr><tr><td>val/iter_Recall_6</td><td>0.68662</td></tr><tr><td>val/iter_Recall_7</td><td>0.0</td></tr><tr><td>val/iter_Recall_8</td><td>0.0</td></tr><tr><td>val/iter_Recall_9</td><td>0.73224</td></tr><tr><td>val/iter_TN_0</td><td>4092871.5</td></tr><tr><td>val/iter_TN_1</td><td>4070714.5</td></tr><tr><td>val/iter_TN_10</td><td>4105333.5</td></tr><tr><td>val/iter_TN_11</td><td>4179479.5</td></tr><tr><td>val/iter_TN_12</td><td>4090064.5</td></tr><tr><td>val/iter_TN_13</td><td>4173406.5</td></tr><tr><td>val/iter_TN_2</td><td>4194304.0</td></tr><tr><td>val/iter_TN_3</td><td>4140855.5</td></tr><tr><td>val/iter_TN_4</td><td>4142823.5</td></tr><tr><td>val/iter_TN_5</td><td>4179959.25</td></tr><tr><td>val/iter_TN_6</td><td>4184606.75</td></tr><tr><td>val/iter_TN_7</td><td>4194304.0</td></tr><tr><td>val/iter_TN_8</td><td>4194304.0</td></tr><tr><td>val/iter_TN_9</td><td>4070740.5</td></tr><tr><td>val/iter_TP_0</td><td>64309.19922</td></tr><tr><td>val/iter_TP_1</td><td>67731.39844</td></tr><tr><td>val/iter_TP_10</td><td>55118.19922</td></tr><tr><td>val/iter_TP_11</td><td>6088.3999</td></tr><tr><td>val/iter_TP_12</td><td>55306.39844</td></tr><tr><td>val/iter_TP_13</td><td>8975.09961</td></tr><tr><td>val/iter_TP_2</td><td>0.0</td></tr><tr><td>val/iter_TP_3</td><td>18772.90039</td></tr><tr><td>val/iter_TP_4</td><td>26038.5</td></tr><tr><td>val/iter_TP_5</td><td>7327.6001</td></tr><tr><td>val/iter_TP_6</td><td>6698.2998</td></tr><tr><td>val/iter_TP_7</td><td>0.0</td></tr><tr><td>val/iter_TP_8</td><td>0.0</td></tr><tr><td>val/iter_TP_9</td><td>67749.79688</td></tr><tr><td>val/iter_loss</td><td>0.38393</td></tr><tr><td>val/mean_F1</td><td>0.50362</td></tr><tr><td>val/mean_IoU</td><td>0.38888</td></tr></table><br/></div></div>"
      ],
      "text/plain": [
       "<IPython.core.display.HTML object>"
      ]
     },
     "metadata": {},
     "output_type": "display_data"
    },
    {
     "data": {
      "text/html": [
       "Synced <strong style=\"color:#cdcd00\">3090_fold1</strong>: <a href=\"https://wandb.ai/spaceshift/SpaceNet8/runs/2mx5c5ur\" target=\"_blank\">https://wandb.ai/spaceshift/SpaceNet8/runs/2mx5c5ur</a><br/>Synced 6 W&B file(s), 0 media file(s), 0 artifact file(s) and 1 other file(s)"
      ],
      "text/plain": [
       "<IPython.core.display.HTML object>"
      ]
     },
     "metadata": {},
     "output_type": "display_data"
    },
    {
     "data": {
      "text/html": [
       "Find logs at: <code>./wandb/run-20220723_054827-2mx5c5ur/logs</code>"
      ],
      "text/plain": [
       "<IPython.core.display.HTML object>"
      ]
     },
     "metadata": {},
     "output_type": "display_data"
    },
    {
     "name": "stdout",
     "output_type": "stream",
     "text": [
      "############################################################\n",
      "### Fold: 2\n",
      "############################################################\n"
     ]
    },
    {
     "data": {
      "text/html": [
       "Changes to your `wandb` environment variables will be ignored because your `wandb` session has already started. For more information on how to modify your settings with `wandb.init()` arguments, please refer to <a href=\"https://wandb.me/wandb-init\" target=\"_blank\">the W&B docs</a>."
      ],
      "text/plain": [
       "<IPython.core.display.HTML object>"
      ]
     },
     "metadata": {},
     "output_type": "display_data"
    },
    {
     "data": {
      "text/html": [
       "Tracking run with wandb version 0.12.21"
      ],
      "text/plain": [
       "<IPython.core.display.HTML object>"
      ]
     },
     "metadata": {},
     "output_type": "display_data"
    },
    {
     "data": {
      "text/html": [
       "Run data is saved locally in <code>/media/syu/c983cccd-1cc7-4ce4-b206-7eb1a2cc5c94/topcoder/spacenet8/SpaceNet8/baseline/wandb/run-20220723_075522-nm3ab61w</code>"
      ],
      "text/plain": [
       "<IPython.core.display.HTML object>"
      ]
     },
     "metadata": {},
     "output_type": "display_data"
    },
    {
     "data": {
      "text/html": [
       "Syncing run <strong><a href=\"https://wandb.ai/spaceshift/SpaceNet8/runs/nm3ab61w\" target=\"_blank\">3090_fold2</a></strong> to <a href=\"https://wandb.ai/spaceshift/SpaceNet8\" target=\"_blank\">Weights & Biases</a> (<a href=\"https://wandb.me/run\" target=\"_blank\">docs</a>)<br/>"
      ],
      "text/plain": [
       "<IPython.core.display.HTML object>"
      ]
     },
     "metadata": {},
     "output_type": "display_data"
    },
    {
     "name": "stderr",
     "output_type": "stream",
     "text": [
      "Using 16bit native Automatic Mixed Precision (AMP)\n",
      "GPU available: True, used: True\n",
      "TPU available: False, using: 0 TPU cores\n",
      "IPU available: False, using: 0 IPUs\n",
      "HPU available: False, using: 0 HPUs\n",
      "`Trainer(val_check_interval=1.0)` was configured so validation will run at the end of the training epoch..\n",
      "LOCAL_RANK: 0 - CUDA_VISIBLE_DEVICES: [0]\n",
      "\n",
      "  | Name       | Type             | Params\n",
      "------------------------------------------------\n",
      "0 | backbone   | UnetPlusPlus     | 6.6 M \n",
      "1 | _criterion | MultiBCEDiceLoss | 0     \n",
      "------------------------------------------------\n",
      "6.6 M     Trainable params\n",
      "0         Non-trainable params\n",
      "6.6 M     Total params\n",
      "13.286    Total estimated model params size (MB)\n"
     ]
    },
    {
     "name": "stdout",
     "output_type": "stream",
     "text": [
      "### Start Trainig\n",
      "loaded 641 image filepaths\n",
      "loaded 160 image filepaths\n"
     ]
    },
    {
     "data": {
      "application/vnd.jupyter.widget-view+json": {
       "model_id": "aefc4829e5ae4d309031264b6bcce608",
       "version_major": 2,
       "version_minor": 0
      },
      "text/plain": [
       "Training: 0it [00:00, ?it/s]"
      ]
     },
     "metadata": {},
     "output_type": "display_data"
    },
    {
     "data": {
      "application/vnd.jupyter.widget-view+json": {
       "model_id": "03330bfc555f4c62b6e3d7ba5a12b8a7",
       "version_major": 2,
       "version_minor": 0
      },
      "text/plain": [
       "Validation: 0it [00:00, ?it/s]"
      ]
     },
     "metadata": {},
     "output_type": "display_data"
    },
    {
     "data": {
      "application/vnd.jupyter.widget-view+json": {
       "model_id": "d05661c9fd58423a86aa5cc8f86ac247",
       "version_major": 2,
       "version_minor": 0
      },
      "text/plain": [
       "Validation: 0it [00:00, ?it/s]"
      ]
     },
     "metadata": {},
     "output_type": "display_data"
    },
    {
     "data": {
      "application/vnd.jupyter.widget-view+json": {
       "model_id": "b3584d57f43243cdbce43c6b3c4c9884",
       "version_major": 2,
       "version_minor": 0
      },
      "text/plain": [
       "Validation: 0it [00:00, ?it/s]"
      ]
     },
     "metadata": {},
     "output_type": "display_data"
    },
    {
     "data": {
      "application/vnd.jupyter.widget-view+json": {
       "model_id": "54ff0b92f7a94180842e62496407fb05",
       "version_major": 2,
       "version_minor": 0
      },
      "text/plain": [
       "Validation: 0it [00:00, ?it/s]"
      ]
     },
     "metadata": {},
     "output_type": "display_data"
    },
    {
     "data": {
      "application/vnd.jupyter.widget-view+json": {
       "model_id": "ffeac9cb5b014cf88a25aaff6c14f843",
       "version_major": 2,
       "version_minor": 0
      },
      "text/plain": [
       "Validation: 0it [00:00, ?it/s]"
      ]
     },
     "metadata": {},
     "output_type": "display_data"
    },
    {
     "data": {
      "application/vnd.jupyter.widget-view+json": {
       "model_id": "a1314a36147c454b9a2136cd7fae35a4",
       "version_major": 2,
       "version_minor": 0
      },
      "text/plain": [
       "Validation: 0it [00:00, ?it/s]"
      ]
     },
     "metadata": {},
     "output_type": "display_data"
    },
    {
     "data": {
      "application/vnd.jupyter.widget-view+json": {
       "model_id": "19f0d78e733848d8bf3b38cea154fa02",
       "version_major": 2,
       "version_minor": 0
      },
      "text/plain": [
       "Validation: 0it [00:00, ?it/s]"
      ]
     },
     "metadata": {},
     "output_type": "display_data"
    },
    {
     "data": {
      "application/vnd.jupyter.widget-view+json": {
       "model_id": "fdf2929127074e65b1960f8ef9fd1d50",
       "version_major": 2,
       "version_minor": 0
      },
      "text/plain": [
       "Validation: 0it [00:00, ?it/s]"
      ]
     },
     "metadata": {},
     "output_type": "display_data"
    },
    {
     "data": {
      "application/vnd.jupyter.widget-view+json": {
       "model_id": "5bea68042cda4d1aad0c0aea0497a2b7",
       "version_major": 2,
       "version_minor": 0
      },
      "text/plain": [
       "Validation: 0it [00:00, ?it/s]"
      ]
     },
     "metadata": {},
     "output_type": "display_data"
    },
    {
     "data": {
      "application/vnd.jupyter.widget-view+json": {
       "model_id": "901e32dcce8742e3860a47fff1ef04ca",
       "version_major": 2,
       "version_minor": 0
      },
      "text/plain": [
       "Validation: 0it [00:00, ?it/s]"
      ]
     },
     "metadata": {},
     "output_type": "display_data"
    },
    {
     "data": {
      "application/vnd.jupyter.widget-view+json": {
       "model_id": "956328c165e14d5ba40e17222aae0a06",
       "version_major": 2,
       "version_minor": 0
      },
      "text/plain": [
       "Validation: 0it [00:00, ?it/s]"
      ]
     },
     "metadata": {},
     "output_type": "display_data"
    },
    {
     "data": {
      "application/vnd.jupyter.widget-view+json": {
       "model_id": "52d30e829ccf4d29ac185df7959fb0e4",
       "version_major": 2,
       "version_minor": 0
      },
      "text/plain": [
       "Validation: 0it [00:00, ?it/s]"
      ]
     },
     "metadata": {},
     "output_type": "display_data"
    },
    {
     "data": {
      "application/vnd.jupyter.widget-view+json": {
       "model_id": "001ebcc64057475e97c16025891317fd",
       "version_major": 2,
       "version_minor": 0
      },
      "text/plain": [
       "Validation: 0it [00:00, ?it/s]"
      ]
     },
     "metadata": {},
     "output_type": "display_data"
    },
    {
     "data": {
      "application/vnd.jupyter.widget-view+json": {
       "model_id": "7832aa23d2be4fbb984bdda8a9913988",
       "version_major": 2,
       "version_minor": 0
      },
      "text/plain": [
       "Validation: 0it [00:00, ?it/s]"
      ]
     },
     "metadata": {},
     "output_type": "display_data"
    },
    {
     "data": {
      "application/vnd.jupyter.widget-view+json": {
       "model_id": "b2a5353adc814369bf6c7ded784f85a2",
       "version_major": 2,
       "version_minor": 0
      },
      "text/plain": [
       "Validation: 0it [00:00, ?it/s]"
      ]
     },
     "metadata": {},
     "output_type": "display_data"
    },
    {
     "data": {
      "application/vnd.jupyter.widget-view+json": {
       "model_id": "b7d2c4630a404d0bb3a081cb4c6f221d",
       "version_major": 2,
       "version_minor": 0
      },
      "text/plain": [
       "Validation: 0it [00:00, ?it/s]"
      ]
     },
     "metadata": {},
     "output_type": "display_data"
    },
    {
     "data": {
      "application/vnd.jupyter.widget-view+json": {
       "model_id": "a51b2994aedb4f9b9b7ad3b5f8aa2aad",
       "version_major": 2,
       "version_minor": 0
      },
      "text/plain": [
       "Validation: 0it [00:00, ?it/s]"
      ]
     },
     "metadata": {},
     "output_type": "display_data"
    },
    {
     "data": {
      "application/vnd.jupyter.widget-view+json": {
       "model_id": "9c7c5842dff648b684b6f339d52ddda3",
       "version_major": 2,
       "version_minor": 0
      },
      "text/plain": [
       "Validation: 0it [00:00, ?it/s]"
      ]
     },
     "metadata": {},
     "output_type": "display_data"
    },
    {
     "data": {
      "application/vnd.jupyter.widget-view+json": {
       "model_id": "d1f8e8a72e9d4fc5882f673e6479656d",
       "version_major": 2,
       "version_minor": 0
      },
      "text/plain": [
       "Validation: 0it [00:00, ?it/s]"
      ]
     },
     "metadata": {},
     "output_type": "display_data"
    },
    {
     "data": {
      "application/vnd.jupyter.widget-view+json": {
       "model_id": "89940f0abf1447b3aaaa3b9f0b0a7140",
       "version_major": 2,
       "version_minor": 0
      },
      "text/plain": [
       "Validation: 0it [00:00, ?it/s]"
      ]
     },
     "metadata": {},
     "output_type": "display_data"
    },
    {
     "data": {
      "application/vnd.jupyter.widget-view+json": {
       "model_id": "8615c7aaa7a748acafa88690052d74e4",
       "version_major": 2,
       "version_minor": 0
      },
      "text/plain": [
       "Validation: 0it [00:00, ?it/s]"
      ]
     },
     "metadata": {},
     "output_type": "display_data"
    },
    {
     "data": {
      "application/vnd.jupyter.widget-view+json": {
       "model_id": "b5488fe0f152408bb0341b61dc663a61",
       "version_major": 2,
       "version_minor": 0
      },
      "text/plain": [
       "Validation: 0it [00:00, ?it/s]"
      ]
     },
     "metadata": {},
     "output_type": "display_data"
    },
    {
     "data": {
      "application/vnd.jupyter.widget-view+json": {
       "model_id": "645d3289d33a48ea8ca4d75c8da766c9",
       "version_major": 2,
       "version_minor": 0
      },
      "text/plain": [
       "Validation: 0it [00:00, ?it/s]"
      ]
     },
     "metadata": {},
     "output_type": "display_data"
    },
    {
     "data": {
      "application/vnd.jupyter.widget-view+json": {
       "model_id": "99a674a79ed447deb07d5f80e8db3656",
       "version_major": 2,
       "version_minor": 0
      },
      "text/plain": [
       "Validation: 0it [00:00, ?it/s]"
      ]
     },
     "metadata": {},
     "output_type": "display_data"
    },
    {
     "data": {
      "application/vnd.jupyter.widget-view+json": {
       "model_id": "6632498b7f9643ce90e032671a3c820e",
       "version_major": 2,
       "version_minor": 0
      },
      "text/plain": [
       "Validation: 0it [00:00, ?it/s]"
      ]
     },
     "metadata": {},
     "output_type": "display_data"
    },
    {
     "data": {
      "application/vnd.jupyter.widget-view+json": {
       "model_id": "6c8f58de94d0477596e603e5e9113039",
       "version_major": 2,
       "version_minor": 0
      },
      "text/plain": [
       "Validation: 0it [00:00, ?it/s]"
      ]
     },
     "metadata": {},
     "output_type": "display_data"
    },
    {
     "data": {
      "application/vnd.jupyter.widget-view+json": {
       "model_id": "4f968df99bb243cc9ca9f63bbf47fc0a",
       "version_major": 2,
       "version_minor": 0
      },
      "text/plain": [
       "Validation: 0it [00:00, ?it/s]"
      ]
     },
     "metadata": {},
     "output_type": "display_data"
    },
    {
     "data": {
      "application/vnd.jupyter.widget-view+json": {
       "model_id": "f96f263791364e76b587a9d2a5b26762",
       "version_major": 2,
       "version_minor": 0
      },
      "text/plain": [
       "Validation: 0it [00:00, ?it/s]"
      ]
     },
     "metadata": {},
     "output_type": "display_data"
    },
    {
     "data": {
      "application/vnd.jupyter.widget-view+json": {
       "model_id": "5153cc091c07403897fdd2f830d927a6",
       "version_major": 2,
       "version_minor": 0
      },
      "text/plain": [
       "Validation: 0it [00:00, ?it/s]"
      ]
     },
     "metadata": {},
     "output_type": "display_data"
    },
    {
     "data": {
      "application/vnd.jupyter.widget-view+json": {
       "model_id": "528caac744cf45be937d5071dba47771",
       "version_major": 2,
       "version_minor": 0
      },
      "text/plain": [
       "Validation: 0it [00:00, ?it/s]"
      ]
     },
     "metadata": {},
     "output_type": "display_data"
    },
    {
     "data": {
      "application/vnd.jupyter.widget-view+json": {
       "model_id": "78ac3527c1e7462f8c73bf139176ea9b",
       "version_major": 2,
       "version_minor": 0
      },
      "text/plain": [
       "Validation: 0it [00:00, ?it/s]"
      ]
     },
     "metadata": {},
     "output_type": "display_data"
    },
    {
     "data": {
      "application/vnd.jupyter.widget-view+json": {
       "model_id": "6dfee98bef734ee78a7f28af089d5025",
       "version_major": 2,
       "version_minor": 0
      },
      "text/plain": [
       "Validation: 0it [00:00, ?it/s]"
      ]
     },
     "metadata": {},
     "output_type": "display_data"
    },
    {
     "data": {
      "application/vnd.jupyter.widget-view+json": {
       "model_id": "fbdb38cd445a4b71a001eb613719770d",
       "version_major": 2,
       "version_minor": 0
      },
      "text/plain": [
       "Validation: 0it [00:00, ?it/s]"
      ]
     },
     "metadata": {},
     "output_type": "display_data"
    },
    {
     "data": {
      "application/vnd.jupyter.widget-view+json": {
       "model_id": "e6ae20d8e4e441da864ab82f7e5ae82f",
       "version_major": 2,
       "version_minor": 0
      },
      "text/plain": [
       "Validation: 0it [00:00, ?it/s]"
      ]
     },
     "metadata": {},
     "output_type": "display_data"
    },
    {
     "data": {
      "application/vnd.jupyter.widget-view+json": {
       "model_id": "dd18ac6c751f49fea85f8b1be73ebb85",
       "version_major": 2,
       "version_minor": 0
      },
      "text/plain": [
       "Validation: 0it [00:00, ?it/s]"
      ]
     },
     "metadata": {},
     "output_type": "display_data"
    },
    {
     "data": {
      "application/vnd.jupyter.widget-view+json": {
       "model_id": "b221e8c40d134b25ad50bc28afc2f80b",
       "version_major": 2,
       "version_minor": 0
      },
      "text/plain": [
       "Validation: 0it [00:00, ?it/s]"
      ]
     },
     "metadata": {},
     "output_type": "display_data"
    },
    {
     "data": {
      "application/vnd.jupyter.widget-view+json": {
       "model_id": "334fc204a7cb4436adac90db2fa4b365",
       "version_major": 2,
       "version_minor": 0
      },
      "text/plain": [
       "Validation: 0it [00:00, ?it/s]"
      ]
     },
     "metadata": {},
     "output_type": "display_data"
    },
    {
     "data": {
      "application/vnd.jupyter.widget-view+json": {
       "model_id": "504b08702d8f47fdb3fa94fb5b1f3926",
       "version_major": 2,
       "version_minor": 0
      },
      "text/plain": [
       "Validation: 0it [00:00, ?it/s]"
      ]
     },
     "metadata": {},
     "output_type": "display_data"
    },
    {
     "data": {
      "application/vnd.jupyter.widget-view+json": {
       "model_id": "d0fdaaec588246298d107f9da9ebc2d4",
       "version_major": 2,
       "version_minor": 0
      },
      "text/plain": [
       "Validation: 0it [00:00, ?it/s]"
      ]
     },
     "metadata": {},
     "output_type": "display_data"
    },
    {
     "data": {
      "application/vnd.jupyter.widget-view+json": {
       "model_id": "7cb5d2f5badb4133b6b2f260146c71a0",
       "version_major": 2,
       "version_minor": 0
      },
      "text/plain": [
       "Validation: 0it [00:00, ?it/s]"
      ]
     },
     "metadata": {},
     "output_type": "display_data"
    },
    {
     "data": {
      "application/vnd.jupyter.widget-view+json": {
       "model_id": "152d642366e441438143c2ee94ac099c",
       "version_major": 2,
       "version_minor": 0
      },
      "text/plain": [
       "Validation: 0it [00:00, ?it/s]"
      ]
     },
     "metadata": {},
     "output_type": "display_data"
    },
    {
     "data": {
      "application/vnd.jupyter.widget-view+json": {
       "model_id": "f9ca3e7cf8f548fdbd533871c0f8b7ff",
       "version_major": 2,
       "version_minor": 0
      },
      "text/plain": [
       "Validation: 0it [00:00, ?it/s]"
      ]
     },
     "metadata": {},
     "output_type": "display_data"
    },
    {
     "data": {
      "application/vnd.jupyter.widget-view+json": {
       "model_id": "6f4196d0a29e45439e0a01eff21766e3",
       "version_major": 2,
       "version_minor": 0
      },
      "text/plain": [
       "Validation: 0it [00:00, ?it/s]"
      ]
     },
     "metadata": {},
     "output_type": "display_data"
    },
    {
     "data": {
      "application/vnd.jupyter.widget-view+json": {
       "model_id": "4aa5e2d095894dc9a5ebaf6c5c31f5ad",
       "version_major": 2,
       "version_minor": 0
      },
      "text/plain": [
       "Validation: 0it [00:00, ?it/s]"
      ]
     },
     "metadata": {},
     "output_type": "display_data"
    },
    {
     "data": {
      "application/vnd.jupyter.widget-view+json": {
       "model_id": "5d6b4b6cd0c44fc6bee07c78f9887c46",
       "version_major": 2,
       "version_minor": 0
      },
      "text/plain": [
       "Validation: 0it [00:00, ?it/s]"
      ]
     },
     "metadata": {},
     "output_type": "display_data"
    },
    {
     "data": {
      "application/vnd.jupyter.widget-view+json": {
       "model_id": "a65124d653e04aa8b5b8767f41a9e8e2",
       "version_major": 2,
       "version_minor": 0
      },
      "text/plain": [
       "Validation: 0it [00:00, ?it/s]"
      ]
     },
     "metadata": {},
     "output_type": "display_data"
    },
    {
     "data": {
      "application/vnd.jupyter.widget-view+json": {
       "model_id": "7a087d8aa5b0461ea5e1033bc437d512",
       "version_major": 2,
       "version_minor": 0
      },
      "text/plain": [
       "Validation: 0it [00:00, ?it/s]"
      ]
     },
     "metadata": {},
     "output_type": "display_data"
    },
    {
     "data": {
      "application/vnd.jupyter.widget-view+json": {
       "model_id": "8b2f2f4221c04c6a957924d71276d3ff",
       "version_major": 2,
       "version_minor": 0
      },
      "text/plain": [
       "Validation: 0it [00:00, ?it/s]"
      ]
     },
     "metadata": {},
     "output_type": "display_data"
    },
    {
     "data": {
      "application/vnd.jupyter.widget-view+json": {
       "model_id": "faffbb227c524321860eb74ccf6614e9",
       "version_major": 2,
       "version_minor": 0
      },
      "text/plain": [
       "Validation: 0it [00:00, ?it/s]"
      ]
     },
     "metadata": {},
     "output_type": "display_data"
    },
    {
     "data": {
      "application/vnd.jupyter.widget-view+json": {
       "model_id": "35a57ba0898246dd98a2ee03dc3a8732",
       "version_major": 2,
       "version_minor": 0
      },
      "text/plain": [
       "Validation: 0it [00:00, ?it/s]"
      ]
     },
     "metadata": {},
     "output_type": "display_data"
    },
    {
     "data": {
      "application/vnd.jupyter.widget-view+json": {
       "model_id": "e0dc00256a5641de955568918165746f",
       "version_major": 2,
       "version_minor": 0
      },
      "text/plain": [
       "Validation: 0it [00:00, ?it/s]"
      ]
     },
     "metadata": {},
     "output_type": "display_data"
    },
    {
     "data": {
      "application/vnd.jupyter.widget-view+json": {
       "model_id": "809e056b69e444dc8f79efb19978e80b",
       "version_major": 2,
       "version_minor": 0
      },
      "text/plain": [
       "Validation: 0it [00:00, ?it/s]"
      ]
     },
     "metadata": {},
     "output_type": "display_data"
    },
    {
     "data": {
      "application/vnd.jupyter.widget-view+json": {
       "model_id": "e8064632b6a944c09c4f795f79709538",
       "version_major": 2,
       "version_minor": 0
      },
      "text/plain": [
       "Validation: 0it [00:00, ?it/s]"
      ]
     },
     "metadata": {},
     "output_type": "display_data"
    },
    {
     "data": {
      "application/vnd.jupyter.widget-view+json": {
       "model_id": "10fa88de89044207b925bae96a6d1b5a",
       "version_major": 2,
       "version_minor": 0
      },
      "text/plain": [
       "Validation: 0it [00:00, ?it/s]"
      ]
     },
     "metadata": {},
     "output_type": "display_data"
    },
    {
     "data": {
      "application/vnd.jupyter.widget-view+json": {
       "model_id": "ce7d6be74ea0479f8a7acee91d5699f4",
       "version_major": 2,
       "version_minor": 0
      },
      "text/plain": [
       "Validation: 0it [00:00, ?it/s]"
      ]
     },
     "metadata": {},
     "output_type": "display_data"
    },
    {
     "data": {
      "application/vnd.jupyter.widget-view+json": {
       "model_id": "748622eb0b5c404baf792d696faf87fd",
       "version_major": 2,
       "version_minor": 0
      },
      "text/plain": [
       "Validation: 0it [00:00, ?it/s]"
      ]
     },
     "metadata": {},
     "output_type": "display_data"
    },
    {
     "data": {
      "application/vnd.jupyter.widget-view+json": {
       "model_id": "89ea4006ab95460e8a16ad98c9c97df7",
       "version_major": 2,
       "version_minor": 0
      },
      "text/plain": [
       "Validation: 0it [00:00, ?it/s]"
      ]
     },
     "metadata": {},
     "output_type": "display_data"
    },
    {
     "data": {
      "application/vnd.jupyter.widget-view+json": {
       "model_id": "67211ef419204e6da73f7fb6386b6e54",
       "version_major": 2,
       "version_minor": 0
      },
      "text/plain": [
       "Validation: 0it [00:00, ?it/s]"
      ]
     },
     "metadata": {},
     "output_type": "display_data"
    },
    {
     "data": {
      "application/vnd.jupyter.widget-view+json": {
       "model_id": "cc2e8ee94b7648e1a05b74f65adf01ec",
       "version_major": 2,
       "version_minor": 0
      },
      "text/plain": [
       "Validation: 0it [00:00, ?it/s]"
      ]
     },
     "metadata": {},
     "output_type": "display_data"
    },
    {
     "data": {
      "application/vnd.jupyter.widget-view+json": {
       "model_id": "1456e38fa10f47a299eb604b23bd7237",
       "version_major": 2,
       "version_minor": 0
      },
      "text/plain": [
       "Validation: 0it [00:00, ?it/s]"
      ]
     },
     "metadata": {},
     "output_type": "display_data"
    },
    {
     "data": {
      "application/vnd.jupyter.widget-view+json": {
       "model_id": "0030b2ac81134c05a2c5b508b56dabaf",
       "version_major": 2,
       "version_minor": 0
      },
      "text/plain": [
       "Validation: 0it [00:00, ?it/s]"
      ]
     },
     "metadata": {},
     "output_type": "display_data"
    },
    {
     "data": {
      "application/vnd.jupyter.widget-view+json": {
       "model_id": "e3ea728e9d3545fe9f01d019161dfd80",
       "version_major": 2,
       "version_minor": 0
      },
      "text/plain": [
       "Validation: 0it [00:00, ?it/s]"
      ]
     },
     "metadata": {},
     "output_type": "display_data"
    },
    {
     "data": {
      "application/vnd.jupyter.widget-view+json": {
       "model_id": "a6f0856314b045adb9fec337522c25e2",
       "version_major": 2,
       "version_minor": 0
      },
      "text/plain": [
       "Validation: 0it [00:00, ?it/s]"
      ]
     },
     "metadata": {},
     "output_type": "display_data"
    },
    {
     "data": {
      "application/vnd.jupyter.widget-view+json": {
       "model_id": "33bf25cbcf394d61a5eb2c8dd71919c5",
       "version_major": 2,
       "version_minor": 0
      },
      "text/plain": [
       "Validation: 0it [00:00, ?it/s]"
      ]
     },
     "metadata": {},
     "output_type": "display_data"
    },
    {
     "data": {
      "application/vnd.jupyter.widget-view+json": {
       "model_id": "26d3280260c64589a3fee155546664de",
       "version_major": 2,
       "version_minor": 0
      },
      "text/plain": [
       "Validation: 0it [00:00, ?it/s]"
      ]
     },
     "metadata": {},
     "output_type": "display_data"
    },
    {
     "data": {
      "application/vnd.jupyter.widget-view+json": {
       "model_id": "63ae2ca44ecc4829b5f40268ed013313",
       "version_major": 2,
       "version_minor": 0
      },
      "text/plain": [
       "Validation: 0it [00:00, ?it/s]"
      ]
     },
     "metadata": {},
     "output_type": "display_data"
    },
    {
     "data": {
      "application/vnd.jupyter.widget-view+json": {
       "model_id": "ca59d0f94b024c2988a415ee8c98f1c1",
       "version_major": 2,
       "version_minor": 0
      },
      "text/plain": [
       "Validation: 0it [00:00, ?it/s]"
      ]
     },
     "metadata": {},
     "output_type": "display_data"
    },
    {
     "data": {
      "application/vnd.jupyter.widget-view+json": {
       "model_id": "a34738a5953b4be78cd4db2171a4a438",
       "version_major": 2,
       "version_minor": 0
      },
      "text/plain": [
       "Validation: 0it [00:00, ?it/s]"
      ]
     },
     "metadata": {},
     "output_type": "display_data"
    },
    {
     "data": {
      "application/vnd.jupyter.widget-view+json": {
       "model_id": "c76a4bc12a0f48a1a554cb9b89df229a",
       "version_major": 2,
       "version_minor": 0
      },
      "text/plain": [
       "Validation: 0it [00:00, ?it/s]"
      ]
     },
     "metadata": {},
     "output_type": "display_data"
    },
    {
     "data": {
      "application/vnd.jupyter.widget-view+json": {
       "model_id": "6eb1a88fbb2d4f4ca53bb3b01dbd5e48",
       "version_major": 2,
       "version_minor": 0
      },
      "text/plain": [
       "Validation: 0it [00:00, ?it/s]"
      ]
     },
     "metadata": {},
     "output_type": "display_data"
    },
    {
     "data": {
      "application/vnd.jupyter.widget-view+json": {
       "model_id": "0f33126b5e4a46eaa97c29842232ec33",
       "version_major": 2,
       "version_minor": 0
      },
      "text/plain": [
       "Validation: 0it [00:00, ?it/s]"
      ]
     },
     "metadata": {},
     "output_type": "display_data"
    },
    {
     "data": {
      "application/vnd.jupyter.widget-view+json": {
       "model_id": "64ccf0e8f6654e95af57694ca8efeb5c",
       "version_major": 2,
       "version_minor": 0
      },
      "text/plain": [
       "Validation: 0it [00:00, ?it/s]"
      ]
     },
     "metadata": {},
     "output_type": "display_data"
    },
    {
     "data": {
      "application/vnd.jupyter.widget-view+json": {
       "model_id": "0b6eeccfb9c64852a5e247ffe538507d",
       "version_major": 2,
       "version_minor": 0
      },
      "text/plain": [
       "Validation: 0it [00:00, ?it/s]"
      ]
     },
     "metadata": {},
     "output_type": "display_data"
    },
    {
     "data": {
      "application/vnd.jupyter.widget-view+json": {
       "model_id": "fb64a08d2c884b0f890f5951efb072cf",
       "version_major": 2,
       "version_minor": 0
      },
      "text/plain": [
       "Validation: 0it [00:00, ?it/s]"
      ]
     },
     "metadata": {},
     "output_type": "display_data"
    },
    {
     "data": {
      "application/vnd.jupyter.widget-view+json": {
       "model_id": "68f694bdc14745c590a6b31bb3b916c5",
       "version_major": 2,
       "version_minor": 0
      },
      "text/plain": [
       "Validation: 0it [00:00, ?it/s]"
      ]
     },
     "metadata": {},
     "output_type": "display_data"
    },
    {
     "data": {
      "application/vnd.jupyter.widget-view+json": {
       "model_id": "976fd163d5bb45649d9f983aa676498e",
       "version_major": 2,
       "version_minor": 0
      },
      "text/plain": [
       "Validation: 0it [00:00, ?it/s]"
      ]
     },
     "metadata": {},
     "output_type": "display_data"
    },
    {
     "data": {
      "application/vnd.jupyter.widget-view+json": {
       "model_id": "9ac4b4be1803488caead49607febeb59",
       "version_major": 2,
       "version_minor": 0
      },
      "text/plain": [
       "Validation: 0it [00:00, ?it/s]"
      ]
     },
     "metadata": {},
     "output_type": "display_data"
    },
    {
     "data": {
      "application/vnd.jupyter.widget-view+json": {
       "model_id": "a2f4903330474912b04b6cabf6c1ec75",
       "version_major": 2,
       "version_minor": 0
      },
      "text/plain": [
       "Validation: 0it [00:00, ?it/s]"
      ]
     },
     "metadata": {},
     "output_type": "display_data"
    },
    {
     "data": {
      "application/vnd.jupyter.widget-view+json": {
       "model_id": "0e6e28ac981b474a87416ec8f29dd5c8",
       "version_major": 2,
       "version_minor": 0
      },
      "text/plain": [
       "Validation: 0it [00:00, ?it/s]"
      ]
     },
     "metadata": {},
     "output_type": "display_data"
    },
    {
     "data": {
      "application/vnd.jupyter.widget-view+json": {
       "model_id": "93ea3aabfcb841f2833f653606b5377e",
       "version_major": 2,
       "version_minor": 0
      },
      "text/plain": [
       "Validation: 0it [00:00, ?it/s]"
      ]
     },
     "metadata": {},
     "output_type": "display_data"
    },
    {
     "data": {
      "application/vnd.jupyter.widget-view+json": {
       "model_id": "b5f42ca8e92d4b8382f0d8c239b23174",
       "version_major": 2,
       "version_minor": 0
      },
      "text/plain": [
       "Validation: 0it [00:00, ?it/s]"
      ]
     },
     "metadata": {},
     "output_type": "display_data"
    },
    {
     "data": {
      "application/vnd.jupyter.widget-view+json": {
       "model_id": "aa1d230378564ded977353a05c3b64d4",
       "version_major": 2,
       "version_minor": 0
      },
      "text/plain": [
       "Validation: 0it [00:00, ?it/s]"
      ]
     },
     "metadata": {},
     "output_type": "display_data"
    },
    {
     "data": {
      "application/vnd.jupyter.widget-view+json": {
       "model_id": "6ae154ed518d4346985a04d1ce016753",
       "version_major": 2,
       "version_minor": 0
      },
      "text/plain": [
       "Validation: 0it [00:00, ?it/s]"
      ]
     },
     "metadata": {},
     "output_type": "display_data"
    },
    {
     "data": {
      "application/vnd.jupyter.widget-view+json": {
       "model_id": "cc90b4337d0d4ad2bf238fe2150a622f",
       "version_major": 2,
       "version_minor": 0
      },
      "text/plain": [
       "Validation: 0it [00:00, ?it/s]"
      ]
     },
     "metadata": {},
     "output_type": "display_data"
    },
    {
     "data": {
      "application/vnd.jupyter.widget-view+json": {
       "model_id": "45d71910f4df492e8412d3fb979eb9ea",
       "version_major": 2,
       "version_minor": 0
      },
      "text/plain": [
       "Validation: 0it [00:00, ?it/s]"
      ]
     },
     "metadata": {},
     "output_type": "display_data"
    },
    {
     "data": {
      "application/vnd.jupyter.widget-view+json": {
       "model_id": "3f3df3f7621a48af86dfb7828073acf0",
       "version_major": 2,
       "version_minor": 0
      },
      "text/plain": [
       "Validation: 0it [00:00, ?it/s]"
      ]
     },
     "metadata": {},
     "output_type": "display_data"
    },
    {
     "data": {
      "application/vnd.jupyter.widget-view+json": {
       "model_id": "e08cb944e9ab49b8942247ff221a295b",
       "version_major": 2,
       "version_minor": 0
      },
      "text/plain": [
       "Validation: 0it [00:00, ?it/s]"
      ]
     },
     "metadata": {},
     "output_type": "display_data"
    },
    {
     "data": {
      "application/vnd.jupyter.widget-view+json": {
       "model_id": "94cdacdc199b45e1aca639facd78b3b5",
       "version_major": 2,
       "version_minor": 0
      },
      "text/plain": [
       "Validation: 0it [00:00, ?it/s]"
      ]
     },
     "metadata": {},
     "output_type": "display_data"
    },
    {
     "data": {
      "application/vnd.jupyter.widget-view+json": {
       "model_id": "6b48cde965d347b1982979cd3d0717c2",
       "version_major": 2,
       "version_minor": 0
      },
      "text/plain": [
       "Validation: 0it [00:00, ?it/s]"
      ]
     },
     "metadata": {},
     "output_type": "display_data"
    },
    {
     "data": {
      "application/vnd.jupyter.widget-view+json": {
       "model_id": "eb5ae4499fbb43b5a93350a0e82c1c32",
       "version_major": 2,
       "version_minor": 0
      },
      "text/plain": [
       "Validation: 0it [00:00, ?it/s]"
      ]
     },
     "metadata": {},
     "output_type": "display_data"
    },
    {
     "data": {
      "application/vnd.jupyter.widget-view+json": {
       "model_id": "4dc1d147a10043c8b86e513666f954cb",
       "version_major": 2,
       "version_minor": 0
      },
      "text/plain": [
       "Validation: 0it [00:00, ?it/s]"
      ]
     },
     "metadata": {},
     "output_type": "display_data"
    },
    {
     "data": {
      "application/vnd.jupyter.widget-view+json": {
       "model_id": "5353f381738442f1a35d718dcb37e8da",
       "version_major": 2,
       "version_minor": 0
      },
      "text/plain": [
       "Validation: 0it [00:00, ?it/s]"
      ]
     },
     "metadata": {},
     "output_type": "display_data"
    },
    {
     "data": {
      "application/vnd.jupyter.widget-view+json": {
       "model_id": "97f520cf14b94fb7aacd3272525ca8ae",
       "version_major": 2,
       "version_minor": 0
      },
      "text/plain": [
       "Validation: 0it [00:00, ?it/s]"
      ]
     },
     "metadata": {},
     "output_type": "display_data"
    },
    {
     "data": {
      "application/vnd.jupyter.widget-view+json": {
       "model_id": "4477170a65774eaea7dc9e658b5fd174",
       "version_major": 2,
       "version_minor": 0
      },
      "text/plain": [
       "Validation: 0it [00:00, ?it/s]"
      ]
     },
     "metadata": {},
     "output_type": "display_data"
    },
    {
     "data": {
      "application/vnd.jupyter.widget-view+json": {
       "model_id": "64d7d60405cd44faaf1f46d1f214901c",
       "version_major": 2,
       "version_minor": 0
      },
      "text/plain": [
       "Validation: 0it [00:00, ?it/s]"
      ]
     },
     "metadata": {},
     "output_type": "display_data"
    },
    {
     "data": {
      "application/vnd.jupyter.widget-view+json": {
       "model_id": "43ec6a0567c2477b8b89c2eabf1c3c62",
       "version_major": 2,
       "version_minor": 0
      },
      "text/plain": [
       "Validation: 0it [00:00, ?it/s]"
      ]
     },
     "metadata": {},
     "output_type": "display_data"
    },
    {
     "data": {
      "application/vnd.jupyter.widget-view+json": {
       "model_id": "b8f02c4164364c148cc157b7e36a3546",
       "version_major": 2,
       "version_minor": 0
      },
      "text/plain": [
       "Validation: 0it [00:00, ?it/s]"
      ]
     },
     "metadata": {},
     "output_type": "display_data"
    },
    {
     "data": {
      "application/vnd.jupyter.widget-view+json": {
       "model_id": "3720aee93e014a3293b0afb693ef4dd9",
       "version_major": 2,
       "version_minor": 0
      },
      "text/plain": [
       "Validation: 0it [00:00, ?it/s]"
      ]
     },
     "metadata": {},
     "output_type": "display_data"
    },
    {
     "data": {
      "application/vnd.jupyter.widget-view+json": {
       "model_id": "6754554e276e4e1492185dd7c5ce7142",
       "version_major": 2,
       "version_minor": 0
      },
      "text/plain": [
       "Validation: 0it [00:00, ?it/s]"
      ]
     },
     "metadata": {},
     "output_type": "display_data"
    },
    {
     "data": {
      "application/vnd.jupyter.widget-view+json": {
       "model_id": "5ee0aecf4173410a95822177ccc767e5",
       "version_major": 2,
       "version_minor": 0
      },
      "text/plain": [
       "Validation: 0it [00:00, ?it/s]"
      ]
     },
     "metadata": {},
     "output_type": "display_data"
    },
    {
     "data": {
      "text/html": [
       "Waiting for W&B process to finish... <strong style=\"color:green\">(success).</strong>"
      ],
      "text/plain": [
       "<IPython.core.display.HTML object>"
      ]
     },
     "metadata": {},
     "output_type": "display_data"
    },
    {
     "data": {
      "application/vnd.jupyter.widget-view+json": {
       "model_id": "4d6ca419903244b984b2625e81f0bc95",
       "version_major": 2,
       "version_minor": 0
      },
      "text/plain": [
       "VBox(children=(Label(value='0.001 MB of 0.334 MB uploaded (0.000 MB deduped)\\r'), FloatProgress(value=0.002192…"
      ]
     },
     "metadata": {},
     "output_type": "display_data"
    },
    {
     "data": {
      "text/html": [
       "<style>\n",
       "    table.wandb td:nth-child(1) { padding: 0 10px; text-align: left ; width: auto;} td:nth-child(2) {text-align: left ; width: 100%}\n",
       "    .wandb-row { display: flex; flex-direction: row; flex-wrap: wrap; justify-content: flex-start; width: 100% }\n",
       "    .wandb-col { display: flex; flex-direction: column; flex-basis: 100%; flex: 1; padding: 10px; }\n",
       "    </style>\n",
       "<div class=\"wandb-row\"><div class=\"wandb-col\"><h3>Run history:</h3><br/><table class=\"wandb\"><tr><td>epoch</td><td>▁▁▁▁▂▂▂▂▂▃▃▃▃▃▃▄▄▄▄▄▅▅▅▅▅▅▆▆▆▆▆▇▇▇▇▇▇███</td></tr><tr><td>lr-AdamW</td><td>█▇▄▂█▇▄▂█▇▄▂█▆▄▁█▆▄▁█▆▄▁█▆▃▁█▆▃▁█▆▃▁█▆▃▁</td></tr><tr><td>train/epoch_F1_0</td><td>▁▆▇▇▇▇▇▇▇▇▇█▇▇██████████████████████████</td></tr><tr><td>train/epoch_F1_1</td><td>▁▆▆▆▆▆▇▇▇▇▇▇▇▇▇▇▇▇▇█▇▇██▇███████████████</td></tr><tr><td>train/epoch_F1_10</td><td>▁▆▆▇▇▇▇▇▇▇▇▇▇▇▇█▇▇██▇▇██████████████████</td></tr><tr><td>train/epoch_F1_11</td><td>▁▁▁▁▁▁▁▁▁▂▄▆▄▅▅▆▆▆▆▇▅▆▇▇▆▆▇▇▇▇▇▇▇▇▇█▆▇██</td></tr><tr><td>train/epoch_F1_12</td><td>▁▁▆▆▆▆▆▇▆▆▇▇▆▇▇▇▇▇▇▇▇▇▇█▇▇██▇███████▇███</td></tr><tr><td>train/epoch_F1_13</td><td>▁▁▁▁▁▁▁▁▁▁▁▁▁▁▂▂▂▄▆▆▅▆▇▆▆▆▇▇▆▇▇▇▇▇██▇███</td></tr><tr><td>train/epoch_F1_2</td><td>▁▁▁▁▁▁▁▁▁▁▁▁▁▁▁▁▁▁▁▁▁▁▁▁▁▁▁▁▁▁▁▁▁▁▁▁▁▁▁▁</td></tr><tr><td>train/epoch_F1_3</td><td>▁▁▁▁▁▄▅▆▅▆▆▇▆▆▇▇▆▇▇▇▇▇▇█▇▇██▇▇██▇███▇███</td></tr><tr><td>train/epoch_F1_4</td><td>▁▁▄▄▄▄▅▅▅▆▆▆▆▆▇▇▇▇▇▇▇▇▇█▇▇██▇▇██▇███▇███</td></tr><tr><td>train/epoch_F1_5</td><td>▁▁▁▁▁▁▁▁▁▂▃▄▄▅▆▆▆▆▆▇▆▇▇▇▇▇▇█▇▇█▇▇███▇▇██</td></tr><tr><td>train/epoch_F1_6</td><td>▁▁▁▁▁▁▁▁▁▁▅▅▆▆▇▇▆█▆▇▇▇▇▇▇▇█▇▇▇▇▇▇█▇█████</td></tr><tr><td>train/epoch_F1_7</td><td>▁▁▁▁▁▁▁▁▁▁▁▁▁▁▁▁▁▁▁▁▁▁▁▁▁▁▁▁▁▁▁▁▁▁▁▁▁▁▁▁</td></tr><tr><td>train/epoch_F1_8</td><td>▁▁▁▁▁▁▁▁▁▁▁▁▁▁▁▁▁▁▁▁▁▁▁▁▁▁▁▁▁▁▁▁▁▁▁▁▁▁▁▁</td></tr><tr><td>train/epoch_F1_9</td><td>▁▄▆▆▆▆▇▇▇▇▇▇▇▇▇▇▇▇▇█▇▇██▇███████████████</td></tr><tr><td>train/epoch_FN_0</td><td>█▂▂▂▂▂▂▁▂▂▁▁▁▁▁▁▁▁▁▁▁▁▁▁▁▁▁▁▁▁▁▁▁▁▁▁▁▁▁▁</td></tr><tr><td>train/epoch_FN_1</td><td>█▄▃▃▃▃▂▂▂▂▂▂▂▂▂▁▂▂▁▁▂▂▁▁▁▁▁▁▁▁▁▁▁▁▁▁▁▁▁▁</td></tr><tr><td>train/epoch_FN_10</td><td>█▃▂▂▂▂▂▂▂▂▂▂▂▂▂▁▂▂▁▁▂▁▁▁▁▁▁▁▁▁▁▁▁▁▁▁▁▁▁▁</td></tr><tr><td>train/epoch_FN_11</td><td>███▇██████▄▃▅▄▃▂▃▃▂▂▃▃▂▂▂▂▁▁▂▂▂▁▂▁▁▁▂▁▁▁</td></tr><tr><td>train/epoch_FN_12</td><td>██▃▃▃▃▂▂▂▂▂▂▂▂▂▂▂▂▂▁▂▂▁▁▂▁▁▁▂▁▁▁▁▁▁▁▁▁▁▁</td></tr><tr><td>train/epoch_FN_13</td><td>███████████████▇█▆▃▃▄▃▃▂▃▂▂▂▃▂▂▂▂▂▁▁▂▂▁▁</td></tr><tr><td>train/epoch_FN_2</td><td>▁▁▁▁▁▁▁▁▁▁▁▁▁▁▁▁▁▁▁▁▁▁▁▁▁▁▁▁▁▁▁▁▁▁▁▁▁▁▁▁</td></tr><tr><td>train/epoch_FN_3</td><td>█████▆▄▃▄▄▃▃▃▃▂▂▃▂▂▂▂▂▂▁▂▂▁▁▂▂▁▁▂▁▁▁▂▁▁▁</td></tr><tr><td>train/epoch_FN_4</td><td>██▅▅▅▅▄▃▄▄▃▂▃▃▂▂▂▂▂▂▂▂▂▁▂▂▁▁▂▂▁▁▂▁▁▁▂▁▁▁</td></tr><tr><td>train/epoch_FN_5</td><td>██████████▆▅▆▅▄▃▄▃▃▂▃▃▂▂▂▂▂▁▂▂▁▁▂▁▁▁▂▁▁▁</td></tr><tr><td>train/epoch_FN_6</td><td>██████████▄▃▃▂▂▂▂▂▂▂▂▂▂▂▂▂▂▂▂▂▁▁▁▁▁▁▁▁▁▁</td></tr><tr><td>train/epoch_FN_7</td><td>▁▁▁▁▁▁▁▁▁▁▁▁▁▁▁▁▁▁▁▁▁▁▁▁▁▁▁▁▁▁▁▁▁▁▁▁▁▁▁▁</td></tr><tr><td>train/epoch_FN_8</td><td>▁▁▁▁▁▁▁▁▁▁▁▁▁▁▁▁▁▁▁▁▁▁▁▁▁▁▁▁▁▁▁▁▁▁▁▁▁▁▁▁</td></tr><tr><td>train/epoch_FN_9</td><td>█▅▃▂▃▃▂▂▂▂▂▂▂▂▂▁▂▂▁▁▂▂▁▁▁▁▁▁▁▁▁▁▁▁▁▁▁▁▁▁</td></tr><tr><td>train/epoch_FP_0</td><td>▁█▆▆▆▅▅▅▅▅▅▅▅▅▅▄▅▅▄▄▅▄▄▄▄▄▄▄▄▄▄▄▄▄▄▄▄▄▄▄</td></tr><tr><td>train/epoch_FP_1</td><td>▁█▇▇▇▇▆▆▆▆▆▅▆▅▅▅▆▅▅▅▅▅▅▅▅▅▅▄▅▅▄▄▅▄▄▄▅▄▄▄</td></tr><tr><td>train/epoch_FP_10</td><td>▁█▇▆▇▆▆▆▅▅▅▄▅▅▄▄▄▄▄▄▅▄▄▄▄▄▄▄▄▄▄▄▄▄▄▄▄▄▄▄</td></tr><tr><td>train/epoch_FP_11</td><td>▁▁▁▁▁▁▁▁▁▁▇▇▇█▆▆▆▆▆▆▇▆▆▆▆▆▆▆▅▆▅▅▅▆▅▅▆▆▅▅</td></tr><tr><td>train/epoch_FP_12</td><td>▁▁████▇▇▇▇▇▇▇▆▇▇▇▇▆▅▆▆▅▅▅▅▅▄▅▅▄▄▅▄▄▄▅▄▄▄</td></tr><tr><td>train/epoch_FP_13</td><td>▁▁▁▁▁▁▁▁▁▁▁▁▁▁▁▂▂▄▇▇▇██▇██▇▇▇▇▇▆▇▆▆▆▇▆▆▆</td></tr><tr><td>train/epoch_FP_2</td><td>█▁▁▁▁▁▁▁▁▁▁▁▁▁▁▁▁▁▁▁▁▁▁▁▁▁▁▁▁▁▁▁▁▁▁▁▁▁▁▁</td></tr><tr><td>train/epoch_FP_3</td><td>▁▁▁▁▂▇██▇▇▆▆▆▆▆▆▇▇▆▅▆▆▅▅▆▅▅▅▅▅▅▄▅▅▄▄▅▅▄▄</td></tr><tr><td>train/epoch_FP_4</td><td>▁▁▆█▆▇▇▇▆▆▆▆▆▆▅▅▅▅▅▄▅▅▅▄▅▅▄▄▄▅▄▄▄▄▄▄▅▄▄▄</td></tr><tr><td>train/epoch_FP_5</td><td>▁▁▁▁▁▁▁▁▁▂▃▆██▆▅▆▅▅▅▆▆▆▆▇▆▆▆▆▆▅▅▆▅▅▅▆▅▅▅</td></tr><tr><td>train/epoch_FP_6</td><td>▁▁▁▁▁▁▁▁▁▁▆███▆▅▆▅▄▄▅▅▄▄▄▄▄▄▄▄▄▄▄▄▄▄▄▄▄▄</td></tr><tr><td>train/epoch_FP_7</td><td>█▁▁▁▁▁▁▁▁▁▁▁▁▁▁▁▁▁▁▁▁▁▁▁▁▁▁▁▁▁▁▁▁▁▁▁▁▁▁▁</td></tr><tr><td>train/epoch_FP_8</td><td>▁▁▁▁▁▁▁▁▁▁▁▁▁▁▁▁▁▁▁▁▁▁▁▁▁▁▁▁▁▁▁▁▁▁▁▁▁▁▁▁</td></tr><tr><td>train/epoch_FP_9</td><td>▁▄███▇▇▆▇▇▆▆▆▆▆▅▆▆▅▅▆▅▅▅▅▅▅▅▅▅▅▅▅▅▄▄▅▅▄▄</td></tr><tr><td>train/epoch_IoU_0</td><td>▁▆▆▇▆▆▇▇▇▇▇▇▇▇▇█▇▇██▇▇██████████████████</td></tr><tr><td>train/epoch_IoU_1</td><td>▁▅▅▆▅▆▆▆▆▆▆▇▆▇▇▇▇▇▇▇▇▇▇▇▇▇██▇▇██▇███▇███</td></tr><tr><td>train/epoch_IoU_10</td><td>▁▅▆▆▆▆▆▆▆▇▇▇▇▇▇▇▇▇▇▇▇▇▇█▇███▇███▇███████</td></tr><tr><td>train/epoch_IoU_11</td><td>▁▁▁▁▁▁▁▁▁▂▄▅▄▄▅▆▆▆▆▆▅▅▆▇▅▆▇▇▆▇▆▆▆▇▇█▆▇██</td></tr><tr><td>train/epoch_IoU_12</td><td>▁▁▅▅▅▅▆▆▆▆▆▆▆▆▆▇▆▆▇▇▇▇▇▇▇▇▇▇▇▇██▇▇██▇███</td></tr><tr><td>train/epoch_IoU_13</td><td>▁▁▁▁▁▁▁▁▁▁▁▁▁▁▁▂▂▄▅▆▅▅▆▆▆▆▆▇▆▆▇▇▇▇██▆▇██</td></tr><tr><td>train/epoch_IoU_2</td><td>▁▁▁▁▁▁▁▁▁▁▁▁▁▁▁▁▁▁▁▁▁▁▁▁▁▁▁▁▁▁▁▁▁▁▁▁▁▁▁▁</td></tr><tr><td>train/epoch_IoU_3</td><td>▁▁▁▁▁▃▄▅▄▅▅▆▅▆▆▆▆▆▇▇▆▆▇▇▇▇▇█▇▇▇█▇▇██▇▇██</td></tr><tr><td>train/epoch_IoU_4</td><td>▁▁▃▃▃▄▄▅▄▅▅▆▅▅▆▆▆▆▆▇▆▆▇▇▆▇▇▇▇▇██▇▇██▇███</td></tr><tr><td>train/epoch_IoU_5</td><td>▁▁▁▁▁▁▁▁▁▁▃▃▃▄▅▆▅▅▆▆▆▆▇▇▆▇▇▇▆▆▇▇▇▇██▇▇██</td></tr><tr><td>train/epoch_IoU_6</td><td>▁▁▁▁▁▁▁▁▁▁▄▅▅▆▆▇▆█▆▇▆▆▆▇▇▇▇▆▇▇▇▇▇▇▇█████</td></tr><tr><td>train/epoch_IoU_7</td><td>▁▁▁▁▁▁▁▁▁▁▁▁▁▁▁▁▁▁▁▁▁▁▁▁▁▁▁▁▁▁▁▁▁▁▁▁▁▁▁▁</td></tr><tr><td>train/epoch_IoU_8</td><td>▁▁▁▁▁▁▁▁▁▁▁▁▁▁▁▁▁▁▁▁▁▁▁▁▁▁▁▁▁▁▁▁▁▁▁▁▁▁▁▁</td></tr><tr><td>train/epoch_IoU_9</td><td>▁▄▅▆▅▆▆▆▆▆▆▇▆▇▇▇▇▇▇▇▇▇▇▇▇▇██▇▇██▇███▇███</td></tr><tr><td>train/epoch_Precision_0</td><td>▁▆▆▇▇▇▇▇▇▇▇▇▇▇▇█████████████████████████</td></tr><tr><td>train/epoch_Precision_1</td><td>▁▆▆▆▆▇▇▇▇▇▇▇▇▇▇▇▇▇▇█▇▇▇█▇███████████████</td></tr><tr><td>train/epoch_Precision_10</td><td>▁▆▆▆▆▆▇▇▇▇▇▇▇▇▇█████▇███████████████████</td></tr><tr><td>train/epoch_Precision_11</td><td>▂▁▁▁▁▁▁▁▂▅▅▆▆▅▆▆▇▆▆▇▆▆▇▇▇▆▇▇▇█▇▇▇▇▇█▇▇██</td></tr><tr><td>train/epoch_Precision_12</td><td>▁▆▆▆▆▆▆▆▆▆▆▇▆▇▇▇▇▇▇▇▇▇▇▇▇▇██▇▇██████▇███</td></tr><tr><td>train/epoch_Precision_13</td><td>▁▁▁▁▁▁▁▁▁▁▁▁▁▄▆▆▆▇▇▇▆▆▇▇▇▇▇▇▇▇▇▇▇███▇███</td></tr><tr><td>train/epoch_Precision_2</td><td>▁▁▁▁▁▁▁▁▁▁▁▁▁▁▁▁▁▁▁▁▁▁▁▁▁▁▁▁▁▁▁▁▁▁▁▁▁▁▁▁</td></tr><tr><td>train/epoch_Precision_3</td><td>▁▁▁▃▄▅▆▆▆▆▇▇▆▇▇▇▇▇▇▇▇▇▇█▇▇██▇▇██████▇███</td></tr><tr><td>train/epoch_Precision_4</td><td>▁▁▅▅▅▅▅▅▆▆▆▆▆▆▇▇▇▇▇▇▇▇▇▇▇▇██▇▇██▇███▇███</td></tr><tr><td>train/epoch_Precision_5</td><td>▁▁▁▁▁▁▁▁▁▅▆▆▅▆▇▇▇▇▇▇▇▇▇█▇▇▇█▇▇█▇▇███▇███</td></tr><tr><td>train/epoch_Precision_6</td><td>▁▁▁▁▁▁▁▁▁▃▆▅▆▆▇▇▆█▆▇▇▇▇█▇▇█▇▇▇▇▇▇▇▇███▇█</td></tr><tr><td>train/epoch_Precision_7</td><td>▁▁▁▁▁▁▁▁▁▁▁▁▁▁▁▁▁▁▁▁▁▁▁▁▁▁▁▁▁▁▁▁▁▁▁▁▁▁▁▁</td></tr><tr><td>train/epoch_Precision_8</td><td>▁▁▁▁▁▁▁▁▁▁▁▁▁▁▁▁▁▁▁▁▁▁▁▁▁▁▁▁▁▁▁▁▁▁▁▁▁▁▁▁</td></tr><tr><td>train/epoch_Precision_9</td><td>▁▇▆▆▆▆▇▇▇▇▇▇▇▇▇▇▇▇▇█▇▇▇█▇███▇███████████</td></tr><tr><td>train/epoch_Recall_0</td><td>▁▇▇▇▇▇▇▇▇▇██████████████████████████████</td></tr><tr><td>train/epoch_Recall_1</td><td>▁▅▆▇▆▆▇▇▇▇▇▇▇▇▇█▇▇██▇▇██████████████████</td></tr><tr><td>train/epoch_Recall_10</td><td>▁▇▇▇▇▇▇▇▇▇▇▇▇▇▇▇▇▇██▇▇██████████████████</td></tr><tr><td>train/epoch_Recall_11</td><td>▁▁▁▁▁▁▁▁▁▂▅▆▅▅▅▆▆▆▆▇▅▆▇▇▆▆▇▇▇▇▇▆▇▇▇█▆▇██</td></tr><tr><td>train/epoch_Recall_12</td><td>▁▁▆▆▆▆▇▇▇▇▇▇▇▇▇▇▇▇▇█▇▇██▇███▇███████▇███</td></tr><tr><td>train/epoch_Recall_13</td><td>▁▁▁▁▁▁▁▁▁▁▁▁▁▁▁▂▂▄▆▆▅▆▆▆▆▆▇▇▆▇▇▇▇▇██▇███</td></tr><tr><td>train/epoch_Recall_2</td><td>▁▁▁▁▁▁▁▁▁▁▁▁▁▁▁▁▁▁▁▁▁▁▁▁▁▁▁▁▁▁▁▁▁▁▁▁▁▁▁▁</td></tr><tr><td>train/epoch_Recall_3</td><td>▁▁▁▁▁▃▅▆▅▅▆▆▆▆▇▇▇▇▇▇▇▇▇█▇▇██▇▇██▇███▇███</td></tr><tr><td>train/epoch_Recall_4</td><td>▁▁▄▄▄▄▅▆▅▆▆▇▆▆▇▇▆▇▇▇▇▇▇█▇▇██▇▇██▇███▇███</td></tr><tr><td>train/epoch_Recall_5</td><td>▁▁▁▁▁▁▁▁▁▁▃▄▄▄▅▆▅▆▆▆▆▆▇▇▇▇▇█▇▇█▇▇███▇███</td></tr><tr><td>train/epoch_Recall_6</td><td>▁▁▁▁▁▁▁▁▁▁▅▆▆▇▇▇▆█▆▇▇▇▇▇▇▇▇▇▇▇▇▇▇█▇█████</td></tr><tr><td>train/epoch_Recall_7</td><td>▁▁▁▁▁▁▁▁▁▁▁▁▁▁▁▁▁▁▁▁▁▁▁▁▁▁▁▁▁▁▁▁▁▁▁▁▁▁▁▁</td></tr><tr><td>train/epoch_Recall_8</td><td>▁▁▁▁▁▁▁▁▁▁▁▁▁▁▁▁▁▁▁▁▁▁▁▁▁▁▁▁▁▁▁▁▁▁▁▁▁▁▁▁</td></tr><tr><td>train/epoch_Recall_9</td><td>▁▄▆▇▆▆▇▇▇▇▇▇▇▇▇█▇▇██▇▇██████████████████</td></tr><tr><td>train/epoch_TN_0</td><td>█▁▃▄▃▄▄▄▄▄▄▄▄▄▄▅▄▄▄▅▄▄▅▅▅▅▅▅▅▅▅▅▅▅▅▅▅▅▅▅</td></tr><tr><td>train/epoch_TN_1</td><td>█▁▂▂▂▂▃▃▃▃▃▃▃▄▄▄▃▄▄▄▄▄▄▄▄▄▄▅▄▄▅▅▄▅▅▅▄▅▅▅</td></tr><tr><td>train/epoch_TN_10</td><td>█▁▂▃▂▃▃▃▄▄▄▅▄▄▅▅▅▄▅▅▄▅▅▅▅▅▅▅▅▅▅▅▅▅▅▅▅▅▅▅</td></tr><tr><td>train/epoch_TN_11</td><td>▇▇▇█▇▇██▇▇▂▂▂▁▃▃▃▂▃▂▂▃▂▃▃▃▃▃▄▃▃▄▃▃▃▄▃▃▃▃</td></tr><tr><td>train/epoch_TN_12</td><td>██▁▁▁▁▂▂▂▂▂▂▂▃▂▂▂▂▃▄▃▃▄▄▄▄▄▄▄▄▅▅▄▅▅▅▄▅▅▅</td></tr><tr><td>train/epoch_TN_13</td><td>█████▇████████▇▇▇▅▂▂▂▁▁▂▂▁▁▂▂▂▂▃▂▃▃▃▂▃▃▃</td></tr><tr><td>train/epoch_TN_2</td><td>▁███████████████████████████████████████</td></tr><tr><td>train/epoch_TN_3</td><td>████▇▂▁▁▂▂▃▃▃▃▃▃▂▂▃▄▃▃▄▄▃▄▄▄▄▄▄▅▄▄▅▅▄▄▅▅</td></tr><tr><td>train/epoch_TN_4</td><td>██▃▁▃▂▂▂▃▃▃▃▃▃▃▄▄▄▄▅▄▄▄▅▄▅▅▅▅▄▅▅▅▅▅▅▄▅▅▅</td></tr><tr><td>train/epoch_TN_5</td><td>█████████▇▆▃▁▁▃▄▃▄▄▄▃▃▃▃▂▃▃▃▃▃▄▃▂▄▄▄▃▄▄▄</td></tr><tr><td>train/epoch_TN_6</td><td>████████▇█▃▁▁▁▃▃▃▄▅▅▄▄▅▄▅▄▅▅▅▄▅▅▅▅▅▅▅▅▅▅</td></tr><tr><td>train/epoch_TN_7</td><td>▁███████████████████████████████████████</td></tr><tr><td>train/epoch_TN_8</td><td>▁▁▁▁▁▁▁▁▁▁▁▁▁▁▁▁▁▁▁▁▁▁▁▁▁▁▁▁▁▁▁▁▁▁▁▁▁▁▁▁</td></tr><tr><td>train/epoch_TN_9</td><td>█▅▁▁▁▂▂▃▂▂▃▃▃▃▃▃▃▃▄▄▃▄▄▄▄▄▄▄▄▄▄▄▄▄▅▅▄▄▅▅</td></tr><tr><td>train/epoch_TP_0</td><td>▁▇▇▇▇▇▇▇▇▇██████████████████████████████</td></tr><tr><td>train/epoch_TP_1</td><td>▁▅▆▆▆▆▇▇▇▇▇▇▇▇▇▇▇▇██▇▇██▇███████████████</td></tr><tr><td>train/epoch_TP_10</td><td>▁▆▇▇▇▇▇▇▇▇▇▇▇▇▇█▇▇██▇███████████████████</td></tr><tr><td>train/epoch_TP_11</td><td>▁▁▁▁▁▁▁▁▁▁▅▆▄▅▆▇▆▆▇▇▆▆▇▇▇▇██▇▇▇█▇▇██▇███</td></tr><tr><td>train/epoch_TP_12</td><td>▁▁▆▆▆▆▇▇▇▇▇▇▇▇▇▇▇▇▇█▇▇██▇▇██▇███████████</td></tr><tr><td>train/epoch_TP_13</td><td>▁▁▁▁▁▁▁▁▁▁▁▁▁▁▁▂▁▃▆▆▅▆▆▇▆▆▇▇▆▇▇▇▇▇██▇▇██</td></tr><tr><td>train/epoch_TP_2</td><td>▁▁▁▁▁▁▁▁▁▁▁▁▁▁▁▁▁▁▁▁▁▁▁▁▁▁▁▁▁▁▁▁▁▁▁▁▁▁▁▁</td></tr><tr><td>train/epoch_TP_3</td><td>▁▁▁▁▁▃▅▆▅▅▆▆▆▆▇▇▆▇▇▇▇▇▇█▇▇██▇▇██▇███▇███</td></tr><tr><td>train/epoch_TP_4</td><td>▁▁▃▄▄▄▅▆▅▆▆▇▆▆▇▇▇▇▇▇▇▇▇█▇▇██▇▇██▇███▇███</td></tr><tr><td>train/epoch_TP_5</td><td>▁▁▁▁▁▁▁▁▁▁▃▃▃▅▅▆▅▆▆▇▆▆▇▇▇▇▇█▇▇██▇▇██▇▇██</td></tr><tr><td>train/epoch_TP_6</td><td>▁▁▁▁▁▁▁▁▁▁▅▆▆▆▇▇▇▇▇▇▇▇▇▇▇▇▇▇▇▇▇█▇▇██▇▇██</td></tr><tr><td>train/epoch_TP_7</td><td>▁▁▁▁▁▁▁▁▁▁▁▁▁▁▁▁▁▁▁▁▁▁▁▁▁▁▁▁▁▁▁▁▁▁▁▁▁▁▁▁</td></tr><tr><td>train/epoch_TP_8</td><td>▁▁▁▁▁▁▁▁▁▁▁▁▁▁▁▁▁▁▁▁▁▁▁▁▁▁▁▁▁▁▁▁▁▁▁▁▁▁▁▁</td></tr><tr><td>train/epoch_TP_9</td><td>▁▄▆▇▆▆▇▇▇▇▇▇▇▇▇█▇▇██▇▇██████████████████</td></tr><tr><td>train/epoch_loss</td><td>█▄▃▄▄▃▃▃▃▄▂▂▃▃▃▃▃▄▂▃▃▂▃▂▂▂▃▂▃▃▂▁▂▃▂▂▃▂▂▂</td></tr><tr><td>train/iter_F1_0</td><td>▁▇▇▇▆▇▇▇▇▆▇▇▇▇█▇▇▇██▇▇█▇▆█▆█▇▇▇████▇██▇▇</td></tr><tr><td>train/iter_F1_1</td><td>▁▆▆▇▆▇▇▇▆▇▇▇▇▇▇▇▇▇▇▇█▇▇█▇▇██▇▇██▇███▇███</td></tr><tr><td>train/iter_F1_10</td><td>▁▆▆▆▄▇▅▅▆▅▆▇▆▆▇▆▆▇▇▇▇▆█▆▄▇▆▇▆▆▆▇▇▇█▆▇█▆▆</td></tr><tr><td>train/iter_F1_11</td><td>▁▁▁▁▁▁▁▁▁▅▂▇▂▃▁▆▁▇▄▇▇█▇█▇▇▁▆▇▆▇▅▇█▇█▆██▇</td></tr><tr><td>train/iter_F1_12</td><td>▁▅▆▆▅▇▆▇▆▆▇▇▆▇▇▇▇▆▇█▇▇▇▇▇▇██▇▇██████▇███</td></tr><tr><td>train/iter_F1_13</td><td>▁▁▁▁▁▁▁▁▁▁▁▁▁▁▁▁▁▅▅▇▇▇▇█▇▇▃▆▅▇▇▇▇█▇▇▆▇▇▇</td></tr><tr><td>train/iter_F1_2</td><td>▁▁▁▁▁▁▁▁▁▁▁▁▁▁▁▁▁▁▁▁▁▁▁▁▁▁▁▁▁▁▁▁▁▁▁▁▁▁▁▁</td></tr><tr><td>train/iter_F1_3</td><td>▁▁▁▁▁▃▅▆▅▅▇▆▅▇▆▆▇▅▇▇▇▇▇▇▆▇██▇▇██▇▇██▆▇▇▇</td></tr><tr><td>train/iter_F1_4</td><td>▁▁▅▆▅▅▄▆▄▆▇▇▆▆▆▇▇▇▇▇▆▇▇▇▆▇▇▇▇▇██▇███▇█▇█</td></tr><tr><td>train/iter_F1_5</td><td>▁▁▁▁▁▁▁▁▁▃▆▃▃▄▆▆▆▅▅▇▇▇▇▇▇▇█▇▆▆██▇▇▇▇▁█▇▇</td></tr><tr><td>train/iter_F1_6</td><td>▁▁▁▁▁▁▁▁▁▂▁▇▁▇▇█▇▇▁▇▁█▁▇▂▁▁█▂█▃█▁████▁██</td></tr><tr><td>train/iter_F1_7</td><td>▁▁▁▁▁▁▁▁▁▁▁▁▁▁▁▁▁▁▁▁▁▁▁▁▁▁▁▁▁▁▁▁▁▁▁▁▁▁▁▁</td></tr><tr><td>train/iter_F1_8</td><td>▁▁▁▁▁▁▁▁▁▁▁▁▁▁▁▁▁▁▁▁▁▁▁▁▁▁▁▁▁▁▁▁▁▁▁▁▁▁▁▁</td></tr><tr><td>train/iter_F1_9</td><td>▁▆▆▇▆▇▇▇▇▇▇▇▇▇▇▇▇▇▇██▇▇█▇▇██▇▇██▇███▇███</td></tr><tr><td>train/iter_FN_0</td><td>▇▃▃▃▂▃▅▂▇▆▂▃█▃▃▄▁▂▂▃▂▁▂▂▁▂▁▂▂▂▂▂▃▂▂▂▃▂▂▂</td></tr><tr><td>train/iter_FN_1</td><td>█▄▃▃▃▄▅▂▆▃▂▃▂▂▂▂▂▂▁▂▂▁▁▁▂▂▁▂▂▂▁▁▂▁▁▁▁▂▁▁</td></tr><tr><td>train/iter_FN_10</td><td>▅▄▃▄▁▃▄▂▆▆▃▃█▃▃▅▂▂▂▄▂▁▂▁▁▂▁▃▂▁▁▂▃▁▂▂▃▂▂▂</td></tr><tr><td>train/iter_FN_11</td><td>▅▅▂▂▅▂█▂█▅▁▃▅▄▁▃▁▃▁▁▂▁▂▂▁▁▁▁▃▂▂▁▁▂▂▂▁▁▁▁</td></tr><tr><td>train/iter_FN_12</td><td>█▆▄▅▃▅▆▃▆▄▃▄▃▂▃▃▃▂▂▂▁▁▂▁▂▃▂▂▂▂▂▁▂▂▂▂▁▃▁▁</td></tr><tr><td>train/iter_FN_13</td><td>▅▄▂▃▅▃█▁█▅▁▅▄▃▁▃▁▅▂▁▃▁▁▂▁▁▁▁▃▂▂▁▁▁▁▂▁▁▁▁</td></tr><tr><td>train/iter_FN_2</td><td>▁▁▁▁▁▁▁▁▁▁▁▁▁▁▁▁▁▁▁▁▁▁▁▁▁▁▁▁▁▁▁▁▁▁▁▁▁▁▁▁</td></tr><tr><td>train/iter_FN_3</td><td>▅▆▇█▅▆▅▂▆▃▃▃▃▂▃▂▃▁▃▂▂▂▂▁▂▂▁▂▂▂▂▁▂▁▂▂▂▃▁▂</td></tr><tr><td>train/iter_FN_4</td><td>▃▇▄▄▃▄█▃▆▄▂▄▄▂▂▃▂▃▁▁▃▁▂▂▃▂▁▂▂▂▁▁▂▂▁▁▂▂▂▁</td></tr><tr><td>train/iter_FN_5</td><td>▆▄▆▂▄▆▅▂█▄▃▄▅▃▃▃▂▄▁▂▂▁▁▂▂▁▂▁▄▂▂▁▃▃▁▁▁▁▁▁</td></tr><tr><td>train/iter_FN_6</td><td>▆▅▃█▁▇▄▁▃▄▁▁▁▂▃▁▂▁▁▂▁▁▁▁▂▁▁▁▁▁▂▁▁▁▁▁▁▁▁▁</td></tr><tr><td>train/iter_FN_7</td><td>▁▁▁▁▁▁▁▁▁▁▁▁▁▁▁▁▁▁▁▁▁▁▁▁▁▁▁▁▁▁▁▁▁▁▁▁▁▁▁▁</td></tr><tr><td>train/iter_FN_8</td><td>▁▁▁▁▁▁▁▁▁▁▁▁▁▁▁▁▁▁▁▁▁▁▁▁▁▁▁▁▁▁▁▁▁▁▁▁▁▁▁▁</td></tr><tr><td>train/iter_FN_9</td><td>█▄▃▃▃▄▅▂▆▃▂▃▃▂▂▂▂▂▁▂▂▁▁▁▂▂▁▂▂▂▁▁▂▁▁▁▁▂▁▁</td></tr><tr><td>train/iter_FP_0</td><td>▁▆▅▆▅▄▅▃▃█▃▆▂▃▃▆▅▆▃▅▃▁▂▃▂▄▂▆▆▆▃▃▅▂▃▂▃▄▃▂</td></tr><tr><td>train/iter_FP_1</td><td>▁█▇▆▅▅▄▅▅▇▅▇█▄▅▆▄█▄▄▄▃▄▄▄▄▃▆▆▆▄▄▄▄▄▄▆▄▃▄</td></tr><tr><td>train/iter_FP_10</td><td>▁▆▅▅▆▃▇▃▄█▂▅▂▃▃▅▅▆▂▅▃▁▁▂▂▃▁▆▇▆▂▄▅▂▁▂▃▄▃▂</td></tr><tr><td>train/iter_FP_11</td><td>▁▁▁▁▁▁▁▁▁▅▄▅▁▁▂▃▁▅▃▁▄▁▃▅▂▂▁▅▄▆▃▁▂▃█▃▂▁▂▄</td></tr><tr><td>train/iter_FP_12</td><td>▁▅▅▅▅▄▅▄▅▆▃▆▇▃▃▅▃█▃▃▅▂▃▃▃▂▂▄▅▄▃▃▃▃▂▂▄▃▂▂</td></tr><tr><td>train/iter_FP_13</td><td>▁▁▁▁▁▁▁▁▁▁▁▁▁▁▁▁▁▅▇▂▆▁▇▆▅▇▂▃▂█▇▃▄▄█▅▃▂▃▅</td></tr><tr><td>train/iter_FP_2</td><td>▁▁▁▁▁▁▁▁▁▁▁▁▁▁▁▁▁▁▁▁▁▁▁▁▁▁▁▁▁▁▁▁▁▁▁▁▁▁▁▁</td></tr><tr><td>train/iter_FP_3</td><td>▁▁▁▁▁▃▆▄▅▅▃▅▅▃▂▄▂█▃▃▄▂▃▃▄▃▂▃▄▄▃▂▂▃▃▂▅▃▂▃</td></tr><tr><td>train/iter_FP_4</td><td>▁▁▅▅▄█▅▄▃█▅▇█▅██▅▆▄▆▃▂▃▄▂▄▂▆▇▆▃▄▆▃▂▃▄▄▃▃</td></tr><tr><td>train/iter_FP_5</td><td>▁▁▁▁▁▁▁▁▁▃▁▃▃▆█▅▅▆▃▃▇▂▅▄▆▃▄▆▄▆▄▃▃▄▃▃▃▂▄▄</td></tr><tr><td>train/iter_FP_6</td><td>▁▁▁▁▁▁▁▁▁▁▃▃█▁▂▃▃▂▁▂▁▁▁▂▂▁▁▃▃▄▁▂▁▁▁▂▂▁▁▂</td></tr><tr><td>train/iter_FP_7</td><td>▁▁▁▁▁▁▁▁▁▁▁▁▁▁▁▁▁▁▁▁▁▁▁▁▁▁▁▁▁▁▁▁▁▁▁▁▁▁▁▁</td></tr><tr><td>train/iter_FP_8</td><td>▁▁▁▁▁▁▁▁▁▁▁▁▁▁▁▁▁▁▁▁▁▁▁▁▁▁▁▁▁▁▁▁▁▁▁▁▁▁▁▁</td></tr><tr><td>train/iter_FP_9</td><td>▁██▆▅▅▄▅▅▇▅▇█▄▅▆▄█▄▄▄▃▄▄▄▄▃▆▆▆▄▄▄▄▄▄▆▄▃▄</td></tr><tr><td>train/iter_IoU_0</td><td>▁▆▇▇▅▇▆▆▆▆▇▇▆▇█▇▇▇▇▇▇▆█▇▅█▆▇▆▆▆██▇█▇██▇▇</td></tr><tr><td>train/iter_IoU_1</td><td>▁▅▆▆▅▆▆▆▆▆▇▇▆▇▇▇▇▇▇▇▇▇▇▇▆▇▇▇▇▇██▇▇██▆▇▇▇</td></tr><tr><td>train/iter_IoU_10</td><td>▁▅▆▅▃▆▄▅▅▄▆▇▅▆▇▆▆▆▇▆▆▅▇▆▄▇▅▆▅▅▅▇▇▇█▅▇▇▆▆</td></tr><tr><td>train/iter_IoU_11</td><td>▁▁▁▁▁▁▁▁▁▄▂▆▁▃▁▅▁▇▃▇▇█▇▇▆▇▁▅▆▅▇▄▇█▇█▆█▇▇</td></tr><tr><td>train/iter_IoU_12</td><td>▁▄▆▆▄▆▅▆▅▅▇▆▅▆▇▇▇▅▇▇▆▇▇▇▆▇██▆▇██▇███▇███</td></tr><tr><td>train/iter_IoU_13</td><td>▁▁▁▁▁▁▁▁▁▁▁▁▁▁▁▁▁▄▄▆▆▆▆▇▇▆▂▆▄▇▇▇▇█▇▇▆▇▇▇</td></tr><tr><td>train/iter_IoU_2</td><td>▁▁▁▁▁▁▁▁▁▁▁▁▁▁▁▁▁▁▁▁▁▁▁▁▁▁▁▁▁▁▁▁▁▁▁▁▁▁▁▁</td></tr><tr><td>train/iter_IoU_3</td><td>▁▁▁▁▁▃▄▅▄▄▆▆▄▆▅▅▆▄▇▇▆▇▇▇▅▇▇▇▆▇██▇▆██▅▇▇▇</td></tr><tr><td>train/iter_IoU_4</td><td>▁▁▄▅▄▄▃▅▃▅▆▆▅▅▅▆▆▇▆▆▆▇▆▇▅▇▇▇▆▇██▇▇▇█▆█▇█</td></tr><tr><td>train/iter_IoU_5</td><td>▁▁▁▁▁▁▁▁▁▂▅▂▂▃▅▅▅▄▄▆▆▆▆▆▆▇▇▆▅▆▇█▆▇▇▇▁█▆▇</td></tr><tr><td>train/iter_IoU_6</td><td>▁▁▁▁▁▁▁▁▁▂▁▆▁▆▆▇▇▇▁▇▁▇▁▇▁▁▁█▂▇▂█▁████▁██</td></tr><tr><td>train/iter_IoU_7</td><td>▁▁▁▁▁▁▁▁▁▁▁▁▁▁▁▁▁▁▁▁▁▁▁▁▁▁▁▁▁▁▁▁▁▁▁▁▁▁▁▁</td></tr><tr><td>train/iter_IoU_8</td><td>▁▁▁▁▁▁▁▁▁▁▁▁▁▁▁▁▁▁▁▁▁▁▁▁▁▁▁▁▁▁▁▁▁▁▁▁▁▁▁▁</td></tr><tr><td>train/iter_IoU_9</td><td>▁▅▆▆▅▆▆▆▆▆▇▇▆▇▇▇▇▇▇▇▇▇▇▇▆▇▇▇▇▇██▇▇██▆▇▇▇</td></tr><tr><td>train/iter_Precision_0</td><td>▆▄▄▄▁▆▄▂█▃▅▅█▇▇▅▃▅▆▆▅▄█▄▁▆▂▅▃▃▄▆▇▆▇▆▇▇▄▅</td></tr><tr><td>train/iter_Precision_1</td><td>▁▆▆▇▆▇█▆▇▇▇▇▆▇▇▇▇▇▇▇▇▇▇▇▇▇█▇▇▇██▇███▆█▇▇</td></tr><tr><td>train/iter_Precision_10</td><td>▇▅▆▆▁▇▃▄▆▄▇▆█▆█▆▅▅▇▆▆▅█▅▂▇▄▆▃▄▄▆▇▆█▆▇▇▅▆</td></tr><tr><td>train/iter_Precision_11</td><td>▁▁▁▁▁▁▁█▁▅▁▆▆▇▁▆▁▆▃▆▆▆▆▆▆▆▁▄▆▅▇▇▆▆▆▇▅▇▆▆</td></tr><tr><td>train/iter_Precision_12</td><td>▁▅▆▆▅▇▆▆▆▅▇▇▅▇▇▇▇▅▇▇▆▇▇▆▇██▇▆▇██▇███▆█▇█</td></tr><tr><td>train/iter_Precision_13</td><td>▁▁▁▁▁▁▁▁▁▁▁▁▁▁▁▂▁▇▄▆▇█▆▇▆▅▃▆█▇▇▇▆▇▆▇▆▇▆▇</td></tr><tr><td>train/iter_Precision_2</td><td>▁▁▁▁▁▁▁▁▁▁▁▁▁▁▁▁▁▁▁▁▁▁▁▁▁▁▁▁▁▁▁▁▁▁▁▁▁▁▁▁</td></tr><tr><td>train/iter_Precision_3</td><td>▁▁▁▅▄▄▅▅▆▅▇▆▅▇▇▆▇▄█▇▆█▇▇▅▇▇▇▆▇█▇▇▆██▅█▇▇</td></tr><tr><td>train/iter_Precision_4</td><td>▁▁▆▆▆▅▆▆▇▆▇▇▆▆▅▇▆▇▆▇█▇▇▇█▇▇▇▆▇██▇█▇█▇███</td></tr><tr><td>train/iter_Precision_5</td><td>▁▁▁▁▁▁▁█▁▄█▆▅▄▅▆▅▅▅▇▆▇▆▆▆▆▇▆▇▆▇▇▇▇▆▆▁▇▅▆</td></tr><tr><td>train/iter_Precision_6</td><td>▁▁▁▁▁▁▁▁▁▅▁▆▁█▇▆▇▇▁▇▁▇▁▇▂▁▁▇▂▇█▇▁▇▇▇▇▁▇▇</td></tr><tr><td>train/iter_Precision_7</td><td>▁▁▁▁▁▁▁▁▁▁▁▁▁▁▁▁▁▁▁▁▁▁▁▁▁▁▁▁▁▁▁▁▁▁▁▁▁▁▁▁</td></tr><tr><td>train/iter_Precision_8</td><td>▁▁▁▁▁▁▁▁▁▁▁▁▁▁▁▁▁▁▁▁▁▁▁▁▁▁▁▁▁▁▁▁▁▁▁▁▁▁▁▁</td></tr><tr><td>train/iter_Precision_9</td><td>▁▆▆▇▆▇█▆▇▇▇▇▆▇▇▇▇▇▇▇▇▇▇▇▇▇█▇▇▇██▇███▆█▇▇</td></tr><tr><td>train/iter_Recall_0</td><td>▁▇▇▇▇▇▆▇▆▆▇▇▆▇▇▇███▇▇▇▇▇▇█▇███▇████▇▇█▇▇</td></tr><tr><td>train/iter_Recall_1</td><td>▁▆▇▇▆▆▆▇▆▇▇▇▇▇▇▇▇████▇██▇▇███████████▇██</td></tr><tr><td>train/iter_Recall_10</td><td>▁▆▇▆▇▇▅▆▅▅▆▇▅▆▇▆██▇▇▇▆▇█▇█▇▇██▇████▆▇█▇▇</td></tr><tr><td>train/iter_Recall_11</td><td>▁▁▁▁▁▁▁▁▁▄▆▆▁▂▁▅▁▇▅▇▇█▇▇▆█▁█▆▆▇▄▇██▇▇▇██</td></tr><tr><td>train/iter_Recall_12</td><td>▁▅▆▆▆▆▆▇▆▇▇▇▇▇▇▇▇█▇▇████▇▇▇███████▇██▇██</td></tr><tr><td>train/iter_Recall_13</td><td>▁▁▁▁▁▁▁▁▁▁▁▁▁▁▁▁▁▃▅▆▆▅▇▇██▃▆▄▆▇▆▇█▇▇▇▇▇▇</td></tr><tr><td>train/iter_Recall_2</td><td>▁▁▁▁▁▁▁▁▁▁▁▁▁▁▁▁▁▁▁▁▁▁▁▁▁▁▁▁▁▁▁▁▁▁▁▁▁▁▁▁</td></tr><tr><td>train/iter_Recall_3</td><td>▁▁▁▁▁▃▅▇▅▆▆▇▆▇▅▇▆▇▇▇▇▇▇█▇▇██▇▇██▇███▇▇█▇</td></tr><tr><td>train/iter_Recall_4</td><td>▁▁▄▅▄▄▃▅▃▅▇▆▆▆▇▇▇▇██▅█▆▇▅▇▇▇▇████▇▇█▆█▇▇</td></tr><tr><td>train/iter_Recall_5</td><td>▁▁▁▁▁▁▁▁▁▂▄▂▂▄▆▅▆▄▅▆▇▇█▇▇▇▇█▅▆▇█▆▆█▇▁▇█▇</td></tr><tr><td>train/iter_Recall_6</td><td>▁▁▁▁▁▁▁▁▁▂▁▇▁▅▆█▇█▁▇▁▇▁█▁▁▁█▅█▂█▁████▁██</td></tr><tr><td>train/iter_Recall_7</td><td>▁▁▁▁▁▁▁▁▁▁▁▁▁▁▁▁▁▁▁▁▁▁▁▁▁▁▁▁▁▁▁▁▁▁▁▁▁▁▁▁</td></tr><tr><td>train/iter_Recall_8</td><td>▁▁▁▁▁▁▁▁▁▁▁▁▁▁▁▁▁▁▁▁▁▁▁▁▁▁▁▁▁▁▁▁▁▁▁▁▁▁▁▁</td></tr><tr><td>train/iter_Recall_9</td><td>▁▆▇▇▆▆▆▇▆▇▇▇▇▇▇▇▇████▇██▇▇███████████▇██</td></tr><tr><td>train/iter_TN_0</td><td>▆▃▃▃▆▄▃▇▂▁▆▂▂▅▄▂▅▃▆▂▆█▆▆▇▄█▂▄▄▇▅▂▆▅▆▄▃▆▇</td></tr><tr><td>train/iter_TN_1</td><td>▇▃▄▃▆▄▂▇▃▃▅▁▃▆▅▃▆▂▇▅▅█▆▆▇▆█▃▄▃▅▅▅▆▅▅▆▄█▆</td></tr><tr><td>train/iter_TN_10</td><td>▇▃▃▃▆▄▃▇▃▁▆▂▂▅▄▂▅▃▆▂▆█▆██▄█▂▄▅▇▄▁▇▆▇▄▃▇▇</td></tr><tr><td>train/iter_TN_11</td><td>▅▅▇▇▄▇▂█▂▂▇▃▅▅█▄█▂▇▇▃█▄▃▇▇█▆▂▃▅█▆▅▁▃▇▇▇▅</td></tr><tr><td>train/iter_TN_12</td><td>█▄▃▃▆▄▃▆▃▃▅▁▃▆▄▃▅▂▆▅▅▇▆▇▇▆▇▂▄▄▅▅▅▆▆▅▅▃▇▇</td></tr><tr><td>train/iter_TN_13</td><td>▄▅▇▆▄▆▁█▁▄█▄▅▆█▆█▁▅▇▁▇▄▃▆▅█▇▅▂▃▆▆▅▃▄▇▇▇▄</td></tr><tr><td>train/iter_TN_2</td><td>▁▁▁▁▁▁▁▁▁▁▁▁▁▁▁▁▁▁▁▁▁▁▁▁▁▁▁▁▁▁▁▁▁▁▁▁▁▁▁▁</td></tr><tr><td>train/iter_TN_3</td><td>█▇▆▆█▅▂▆▁▄▅▃▄▇▆▆▆▃▄▆▄▆▅▇▆▆▆▄▅▃▄▆▇▇▁▄▅▃█▆</td></tr><tr><td>train/iter_TN_4</td><td>▇▆▅▄▅▄▂▆▅▃▅▁▃▆▅▂▅▂▇▅▅█▆▅▇▆█▃▄▄▆▅▄▆▇▅▆▄▆▆</td></tr><tr><td>train/iter_TN_5</td><td>▄▆▄█▆▅▅█▃▅▆▅▄▅▃▄▅▃▇▆▄▇▆▅▄▆▃▅▃▅▃▅▄▁▇▆█▆▇▆</td></tr><tr><td>train/iter_TN_6</td><td>▃▄▆▁█▂▅█▆▅▇▅▅▅▃▅▂▅█▄█▇█▆▆██▂▇▁▇▅█▇▇▅▅█▆▅</td></tr><tr><td>train/iter_TN_7</td><td>▁▁▁▁▁▁▁▁▁▁▁▁▁▁▁▁▁▁▁▁▁▁▁▁▁▁▁▁▁▁▁▁▁▁▁▁▁▁▁▁</td></tr><tr><td>train/iter_TN_8</td><td>▁▁▁▁▁▁▁▁▁▁▁▁▁▁▁▁▁▁▁▁▁▁▁▁▁▁▁▁▁▁▁▁▁▁▁▁▁▁▁▁</td></tr><tr><td>train/iter_TN_9</td><td>▇▄▃▃▆▄▂▇▃▃▅▁▃▆▅▃▆▂▇▅▅█▆▆▇▆█▃▄▃▅▅▅▆▅▅▆▄█▆</td></tr><tr><td>train/iter_TP_0</td><td>▁▆▅▆▃▅▅▂▆▆▄▇▆▄▅▇▄▆▄▇▄▁▄▃▂▅▁▇▅▅▃▅█▃▄▃▅▆▃▃</td></tr><tr><td>train/iter_TP_1</td><td>▁▄▅▆▄▅▆▄▆▆▅█▆▄▅▇▅▇▄▅▆▃▅▅▄▅▄▇▆▇▆▆▅▅▆▆▅▆▄▅</td></tr><tr><td>train/iter_TP_10</td><td>▁▅▅▅▂▅▄▂▅▅▃▆▅▄▅▆▄▅▃▇▃▁▃▁▁▅▁▇▄▄▂▅█▂▃▂▅▆▂▂</td></tr><tr><td>train/iter_TP_11</td><td>▁▁▁▁▁▁▁▁▁▄▁▅▁▂▁▃▁▇▁▂▆▁▅▆▂▂▁▃▆▅▄▁▃▅█▆▁▂▂▄</td></tr><tr><td>train/iter_TP_12</td><td>▁▄▅▆▃▅▅▄▅▅▆█▅▄▆▇▅▆▄▆▄▄▄▄▄▅▄█▅▆▆▆▆▅▅▆▅▇▄▄</td></tr><tr><td>train/iter_TP_13</td><td>▁▁▁▁▁▁▁▁▁▁▁▁▁▁▁▁▁▄▃▂█▂▅█▄▄▁▂▃█▆▃▃▅▆▆▂▂▂▅</td></tr><tr><td>train/iter_TP_2</td><td>▁▁▁▁▁▁▁▁▁▁▁▁▁▁▁▁▁▁▁▁▁▁▁▁▁▁▁▁▁▁▁▁▁▁▁▁▁▁▁▁</td></tr><tr><td>train/iter_TP_3</td><td>▁▁▁▁▁▂▄▃▄▃▄▅▃▃▃▃▃▃▅▄▅▄▅▄▃▄▄▆▄▆▆▄▃▃█▆▄▆▃▄</td></tr><tr><td>train/iter_TP_4</td><td>▁▁▃▄▃▃▃▃▃▅▅█▅▃▄▇▄█▃▅▄▂▃▄▃▄▂▆▅▆▄▆▆▄▃▅▄▆▄▄</td></tr><tr><td>train/iter_TP_5</td><td>▁▁▁▁▁▁▁▁▁▂▃▂▂▂▄▄▃▃▂▃▅▃▄▄▅▃▇▄▄▄▇▅▄█▃▃▁▃▂▃</td></tr><tr><td>train/iter_TP_6</td><td>▁▁▁▁▁▁▁▁▁▁▁▃▁▃▅▄▆▄▁▅▁▂▁▃▁▁▁▇▁█▁▄▁▂▃▅▄▁▃▄</td></tr><tr><td>train/iter_TP_7</td><td>▁▁▁▁▁▁▁▁▁▁▁▁▁▁▁▁▁▁▁▁▁▁▁▁▁▁▁▁▁▁▁▁▁▁▁▁▁▁▁▁</td></tr><tr><td>train/iter_TP_8</td><td>▁▁▁▁▁▁▁▁▁▁▁▁▁▁▁▁▁▁▁▁▁▁▁▁▁▁▁▁▁▁▁▁▁▁▁▁▁▁▁▁</td></tr><tr><td>train/iter_TP_9</td><td>▁▄▅▆▃▅▆▄▆▆▅█▆▄▅▇▅▇▄▅▆▃▅▅▄▅▄▇▆▇▆▆▅▅▆▆▅▆▄▅</td></tr><tr><td>train/iter_loss</td><td>█▇▇▇▄▇▇▄▇▇▄▆▄▇▄▆▇▇▄▆▄▇▇▇▇▄▁▆▇▆▆▆▃▇▆▆▇▃▇▇</td></tr><tr><td>train/mean_F1</td><td>▁▃▄▄▄▄▅▅▅▅▆▆▆▆▆▇▆▇▇▇▇▇▇▇▇▇██▇▇██▇███▇███</td></tr><tr><td>train/mean_IoU</td><td>▁▂▃▄▃▄▄▄▄▄▅▆▅▅▆▆▆▆▇▇▆▇▇▇▇▇▇▇▇▇▇█▇▇██▇███</td></tr><tr><td>trainer/global_step</td><td>▁▁▁▂▂▂▂▂▂▃▃▃▃▃▄▄▄▄▄▄▅▅▅▅▅▅▆▆▆▆▆▇▇▇▇▇▇███</td></tr><tr><td>val/epoch_F1_0</td><td>▁▆▇▇▇▇██▇███████████████████████████████</td></tr><tr><td>val/epoch_F1_1</td><td>▁▇▇▇▇▇██▇▇██████████████████████████████</td></tr><tr><td>val/epoch_F1_10</td><td>▁▅▇▇▇▇▇█▇▇██████████████████▇███████▇███</td></tr><tr><td>val/epoch_F1_11</td><td>▁▁▁▁▁▁▁▁▁▅▇▇▆▇▇▇▇▇█▇▆▇███▇▇█▇▇███▇██▆███</td></tr><tr><td>val/epoch_F1_12</td><td>▁▄▇▇▇▇▇▇▇▇▇▇▇▇▇▇▇▇██▇███████████████████</td></tr><tr><td>val/epoch_F1_13</td><td>▁▁▁▁▁▁▁▁▁▁▁▁▁▁▂▃▃▆▇▇▅▇▇▇▇▇▇▇▇▇██▇▇██████</td></tr><tr><td>val/epoch_F1_2</td><td>▁▁▁▁▁▁▁▁▁▁▁▁▁▁▁▁▁▁▁▁▁▁▁▁▁▁▁▁▁▁▁▁▁▁▁▁▁▁▁▁</td></tr><tr><td>val/epoch_F1_3</td><td>▁▁▁▁▁▃▆▇▇▇▇█▇▇▇█▇▇██▇▇██▇███▇███▇███████</td></tr><tr><td>val/epoch_F1_4</td><td>▁▁▄▅▅▆▆▇▅▇▇▇▇▇▇█▇▇██▇▇██▆███▇███▇███▇███</td></tr><tr><td>val/epoch_F1_5</td><td>▁▁▁▁▁▁▁▁▁▃▅▅▄▆▅▇▆▆▇▇▆▇▇▇▇▇▇█▇▇██▇▇▇█▇███</td></tr><tr><td>val/epoch_F1_6</td><td>▁▁▁▁▁▁▁▁▁▁▆▆▆▆▇▇▇▇▇▇▇▇▇▇▇▇▇▇▆▇██████████</td></tr><tr><td>val/epoch_F1_7</td><td>▁▁▁▁▁▁▁▁▁▁▁▁▁▁▁▁▁▁▁▁▁▁▁▁▁▁▁▁▁▁▁▁▁▁▁▁▁▁▁▁</td></tr><tr><td>val/epoch_F1_8</td><td>▁▁▁▁▁▁▁▁▁▁▁▁▁▁▁▁▁▁▁▁▁▁▁▁▁▁▁▁▁▁▁▁▁▁▁▁▁▁▁▁</td></tr><tr><td>val/epoch_F1_9</td><td>▁▆▇▇▇▇██▇▇██████████████████████████████</td></tr><tr><td>val/epoch_FN_0</td><td>█▄▃▂▃▃▂▂▃▂▂▂▂▁▂▁▁▂▂▁▂▁▂▁▁▁▂▁▂▁▁▁▂▁▁▁▂▁▁▁</td></tr><tr><td>val/epoch_FN_1</td><td>█▃▃▂▂▂▂▁▁▁▁▁▁▁▁▁▁▂▁▁▂▁▁▁▁▁▁▁▁▁▁▁▁▁▁▁▂▁▁▁</td></tr><tr><td>val/epoch_FN_10</td><td>█▄▃▂▃▂▂▁▂▂▂▂▁▁▂▂▁▂▂▂▂▁▂▁▁▁▁▁▃▁▂▂▃▁▁▁▂▁▁▁</td></tr><tr><td>val/epoch_FN_11</td><td>█████████▆▄▃▅▃▃▂▁▄▂▂▅▂▂▂▁▂▃▂▃▄▂▂▂▂▂▂▃▂▂▂</td></tr><tr><td>val/epoch_FN_12</td><td>█▇▃▂▂▂▂▁▁▁▁▁▁▁▁▁▁▂▁▁▂▂▂▂▂▂▂▂▂▁▂▂▁▂▂▂▂▁▂▂</td></tr><tr><td>val/epoch_FN_13</td><td>███████████████▇▇▄▃▃▅▂▃▂▂▂▂▂▂▂▁▁▂▁▁▂▂▂▂▂</td></tr><tr><td>val/epoch_FN_2</td><td>▁▁▁▁▁▁▁▁▁▁▁▁▁▁▁▁▁▁▁▁▁▁▁▁▁▁▁▁▁▁▁▁▁▁▁▁▁▁▁▁</td></tr><tr><td>val/epoch_FN_3</td><td>█████▇▄▂▁▂▃▂▃▂▃▁▂▂▂▂▂▁▂▂▁▂▁▂▂▂▁▁▁▁▁▁▂▂▁▁</td></tr><tr><td>val/epoch_FN_4</td><td>██▆▅▄▃▃▂▄▃▂▁▂▂▁▂▂▂▂▁▂▃▁▂▃▂▂▂▃▁▁▁▁▁▁▁▂▁▁▁</td></tr><tr><td>val/epoch_FN_5</td><td>█████████▇▅▅▅▄▅▃▄▄▃▂▄▂▂▂▁▃▂▂▂▂▂▁▃▂▂▁▃▁▁▁</td></tr><tr><td>val/epoch_FN_6</td><td>██████████▃▃▂▂▂▂▂▂▂▂▃▂▂▂▃▃▂▂▂▂▂▁▁▁▁▁▂▁▁▁</td></tr><tr><td>val/epoch_FN_7</td><td>▁▁▁▁▁▁▁▁▁▁▁▁▁▁▁▁▁▁▁▁▁▁▁▁▁▁▁▁▁▁▁▁▁▁▁▁▁▁▁▁</td></tr><tr><td>val/epoch_FN_8</td><td>▁▁▁▁▁▁▁▁▁▁▁▁▁▁▁▁▁▁▁▁▁▁▁▁▁▁▁▁▁▁▁▁▁▁▁▁▁▁▁▁</td></tr><tr><td>val/epoch_FN_9</td><td>█▄▃▂▂▂▂▁▁▁▁▁▁▁▁▁▁▂▁▁▂▁▁▁▁▁▁▁▁▁▁▁▁▁▁▁▂▁▁▁</td></tr><tr><td>val/epoch_FP_0</td><td>▁▄▄▅▄▄▅▅▄▄▄▅▆█▄▆█▅▅▅▄▆▅▅▇▇▅▅▄▅▅▅▃▅▅▅▅▅▅▅</td></tr><tr><td>val/epoch_FP_1</td><td>▁▆▄▅▅▆▄▇██▇▇▇▇▆▆▆▅▆▆▅▇▆▆▆▆▆▆▆▆▆▆▇▇▆▆▆▆▆▆</td></tr><tr><td>val/epoch_FP_10</td><td>▁▄▄▆▅▅▆▆▅▄▄▄▇█▄▅▆▅▄▄▅▆▄▅▅▆▅▅▃▆▄▄▃▅▅▅▅▅▅▅</td></tr><tr><td>val/epoch_FP_11</td><td>▁▁▁▁▁▁▁▁▁▂▃▄▂▄▄▅█▃▆▅▂▅▄▅▇▆▄▅▅▃▆▅▅▅▅▅▄▄▄▅</td></tr><tr><td>val/epoch_FP_12</td><td>▁▂▅▅▆▇▅▇██▇▇██▆▆▆▅▅▅▅▅▅▄▄▅▄▄▄▅▄▄▅▄▄▄▄▅▄▄</td></tr><tr><td>val/epoch_FP_13</td><td>▁▁▁▁▁▁▁▁▁▁▁▁▁▁▁▁▂▃▄▄▂▅▄▅▆▄▄▅▆▄▆▅▅█▆▅▄▄▅▅</td></tr><tr><td>val/epoch_FP_2</td><td>▁▁▁▁▁▁▁▁▁▁▁▁▁▁▁▁▁▁▁▁▁▁▁▁▁▁▁▁▁▁▁▁▁▁▁▁▁▁▁▁</td></tr><tr><td>val/epoch_FP_3</td><td>▁▁▁▁▁▂▃▅█▆▃▅▅▆▄▅▅▅▅▅▄▆▅▄▆▅▅▅▅▄▄▅▆▅▅▅▄▄▄▄</td></tr><tr><td>val/epoch_FP_4</td><td>▁▁▃▅▅█▅▆▄▅▅▆▆▆▆▅▆▄▄▅▄▄▅▅▃▅▄▅▄▅▅▄▆▅▅▅▅▆▄▅</td></tr><tr><td>val/epoch_FP_5</td><td>▁▁▁▁▁▁▁▁▁▂▅▅▆▅▄▅▅▄▅▅▃█▅▆█▅▅▆▇▅▅▇▄▆▅▆▄▆▆▆</td></tr><tr><td>val/epoch_FP_6</td><td>▁▁▁▁▁▁▁▁▁▁█▄▇▇▂▃▄▃▃▃▂▃▂▂▂▂▂▂▃▃▂▃▃▃▃▃▂▃▃▃</td></tr><tr><td>val/epoch_FP_7</td><td>▁▁▁▁▁▁▁▁▁▁▁▁▁▁▁▁▁▁▁▁▁▁▁▁▁▁▁▁▁▁▁▁▁▁▁▁▁▁▁▁</td></tr><tr><td>val/epoch_FP_8</td><td>▁▁▁▁▁▁▁▁▁▁▁▁▁▁▁▁▁▁▁▁▁▁▁▁▁▁▁▁▁▁▁▁▁▁▁▁▁▁▁▁</td></tr><tr><td>val/epoch_FP_9</td><td>▁▄▄▅▅▆▅▇██▆▆▇▇▆▆▆▅▅▆▅▇▆▆▆▆▅▆▆▆▅▆▇▇▆▆▅▆▅▅</td></tr><tr><td>val/epoch_IoU_0</td><td>▁▅▆▇▆▇▇█▇▇██▇▇██▇███████████▇███████▇███</td></tr><tr><td>val/epoch_IoU_1</td><td>▁▆▇▇▇▇▇█▇▇██▇▇██▇███████████████▇███████</td></tr><tr><td>val/epoch_IoU_10</td><td>▁▅▆▇▆▇▇▇▇▇▇█▇▇██▇███████████▇███▇███▇███</td></tr><tr><td>val/epoch_IoU_11</td><td>▁▁▁▁▁▁▁▁▁▄▇▇▅▇▇▇▇▆▇▇▆▇▇▇▇▇▇▇▇▇███▇▇█▆███</td></tr><tr><td>val/epoch_IoU_12</td><td>▁▃▆▇▆▇▇▇▆▇▇▇▇▇▇▇▇▇▇█▇▇██████▇███▇▇██████</td></tr><tr><td>val/epoch_IoU_13</td><td>▁▁▁▁▁▁▁▁▁▁▁▁▁▁▂▂▂▆▇▇▅▇▇▇▇▇▇▇▇▇██▇▇██████</td></tr><tr><td>val/epoch_IoU_2</td><td>▁▁▁▁▁▁▁▁▁▁▁▁▁▁▁▁▁▁▁▁▁▁▁▁▁▁▁▁▁▁▁▁▁▁▁▁▁▁▁▁</td></tr><tr><td>val/epoch_IoU_3</td><td>▁▁▁▁▁▂▆▇▆▆▇▇▆▇▇▇▆▇▇▇▇▇▇█▇███▇███▇███▇▇██</td></tr><tr><td>val/epoch_IoU_4</td><td>▁▁▃▄▄▅▆▆▅▆▇▇▆▇▇▇▇▇▇█▇▇▇█▆▇█▇▇███▇███▇███</td></tr><tr><td>val/epoch_IoU_5</td><td>▁▁▁▁▁▁▁▁▁▂▄▄▄▅▅▆▅▅▆▇▆▇▇▇▇▆▇▇▇▇██▆▇▇▇▇███</td></tr><tr><td>val/epoch_IoU_6</td><td>▁▁▁▁▁▁▁▁▁▁▅▆▅▅▇▇▆▇▇▇▆▇▇▇▇▇▇▇▆▇██▇███▇███</td></tr><tr><td>val/epoch_IoU_7</td><td>▁▁▁▁▁▁▁▁▁▁▁▁▁▁▁▁▁▁▁▁▁▁▁▁▁▁▁▁▁▁▁▁▁▁▁▁▁▁▁▁</td></tr><tr><td>val/epoch_IoU_8</td><td>▁▁▁▁▁▁▁▁▁▁▁▁▁▁▁▁▁▁▁▁▁▁▁▁▁▁▁▁▁▁▁▁▁▁▁▁▁▁▁▁</td></tr><tr><td>val/epoch_IoU_9</td><td>▁▆▇▇▇▇▇█▇▇██▇▇██▇███████████████▇███████</td></tr><tr><td>val/epoch_Precision_0</td><td>▁▇█▇▇██▇███▇▇▇█▇▇█▇▇█▇█▇▇▇███▇▇██▇▇▇▇█▇█</td></tr><tr><td>val/epoch_Precision_1</td><td>▁▇██▇▇█▇▇▇▇▇▇▇██▇████▇▇█████████▇▇▇██▇██</td></tr><tr><td>val/epoch_Precision_10</td><td>▁▆▇▆▆▇▇▆▇▇▇▇▆▆█▇▇▇█▇▇▇▇▇▇▇▇▇█▇▇▇█▇▇▇▇▇▇▇</td></tr><tr><td>val/epoch_Precision_11</td><td>▁▁▁▁▁▁▂▂▂▇▆▆▆▆▆▆▅▆▅▆▇▆▆▆▅▅▆▆▆█▆▆▆▆▆▆▆▆▆▆</td></tr><tr><td>val/epoch_Precision_12</td><td>▁▇▇▇▇▆▇▆▆▆▆▆▆▆▇▇▇▇▇▇▇▇▇█████████▇████▇██</td></tr><tr><td>val/epoch_Precision_13</td><td>▁▁▁▁▁▁▁▁▁▁▁▁▁▆▇█▇▇▇▇█▇▇▇▇▇▇▇▆▇▇▇▇▆▇▇██▇▇</td></tr><tr><td>val/epoch_Precision_2</td><td>▁▁▁▁▁▁▁▁▁▁▁▁▁▁▁▁▁▁▁▁▁▁▁▁▁▁▁▁▁▁▁▁▁▁▁▁▁▁▁▁</td></tr><tr><td>val/epoch_Precision_3</td><td>▁▁▁▄▇▇▇▇▅▆█▇▇▆█▇▆▇▇▇▇▆▇█▇▇██▇███▇▇▇█▇▇██</td></tr><tr><td>val/epoch_Precision_4</td><td>▁▁▅▅▅▅▆▆▆▆▇▆▆▆▆▇▇▇█▇▇▇▇▇█▇▇▇█▇██▆▇▇▇▇▇██</td></tr><tr><td>val/epoch_Precision_5</td><td>▁▁▁▁▁▁▁▂▃▇▆▆▆▇▇▇▆▇▇▇█▆▇▇▆▇▇▇▇▇▇▇▇▇▇▇█▇▇▇</td></tr><tr><td>val/epoch_Precision_6</td><td>▁▁▁▁▁▁▁▁▁▄▅▆▅▆▇▇▆▇▇▇█▇▇▇████▇▇██▇▇████▇▇</td></tr><tr><td>val/epoch_Precision_7</td><td>▁▁▁▁▁▁▁▁▁▁▁▁▁▁▁▁▁▁▁▁▁▁▁▁▁▁▁▁▁▁▁▁▁▁▁▁▁▁▁▁</td></tr><tr><td>val/epoch_Precision_8</td><td>▁▁▁▁▁▁▁▁▁▁▁▁▁▁▁▁▁▁▁▁▁▁▁▁▁▁▁▁▁▁▁▁▁▁▁▁▁▁▁▁</td></tr><tr><td>val/epoch_Precision_9</td><td>▁███▇▇█▇▇▇▇▇▇▇██▇████▇▇█████████▇▇██████</td></tr><tr><td>val/epoch_Recall_0</td><td>▁▅▆▇▆▆▇▇▆▇▇▇▇█▇██▇▇█▇█▇███▇█▇███▇███▇███</td></tr><tr><td>val/epoch_Recall_1</td><td>▁▆▆▇▇▇▇██████████▇██▇███████▇███████▇███</td></tr><tr><td>val/epoch_Recall_10</td><td>▁▄▆▇▆▇▇█▇▇▇▇██▇▇▇▇▇▇▇█▇▇▇█▇▇▆█▇▇▆▇▇█▇▇██</td></tr><tr><td>val/epoch_Recall_11</td><td>▁▁▁▁▁▁▁▁▁▃▆▆▄▆▇▇█▅▇▇▄▇▇▇█▇▆▆▆▅▇▇▇▇▇▇▅▆▇▇</td></tr><tr><td>val/epoch_Recall_12</td><td>▁▂▆▇▇▇▇██████████▇██▇▇▇▇▇▇▇▇▇▇▇▇█▇▇▇▇█▇▇</td></tr><tr><td>val/epoch_Recall_13</td><td>▁▁▁▁▁▁▁▁▁▁▁▁▁▁▁▂▂▅▆▆▄▇▇▇▇▇▇▇▇▇██▇██▇▇▇▇▇</td></tr><tr><td>val/epoch_Recall_2</td><td>▁▁▁▁▁▁▁▁▁▁▁▁▁▁▁▁▁▁▁▁▁▁▁▁▁▁▁▁▁▁▁▁▁▁▁▁▁▁▁▁</td></tr><tr><td>val/epoch_Recall_3</td><td>▁▁▁▁▁▂▅▇█▇▆▇▆▇▆█▇▇▇▇▇█▇▇███▇▇▇██████▇▇██</td></tr><tr><td>val/epoch_Recall_4</td><td>▁▁▃▄▄▆▆▇▄▆▇█▇▇█▇▇▇▇▇▆▆█▇▅▇▇▇▆██▇████▇███</td></tr><tr><td>val/epoch_Recall_5</td><td>▁▁▁▁▁▁▁▁▁▂▄▄▄▅▄▆▅▅▆▇▅▇▇▇█▆▇▇▇▇██▆▇▇█▆███</td></tr><tr><td>val/epoch_Recall_6</td><td>▁▁▁▁▁▁▁▁▁▁▇▆▇▇▆▇▇▇▇▇▆▇▇▇▆▆▇▇▇▇▇█████▇███</td></tr><tr><td>val/epoch_Recall_7</td><td>▁▁▁▁▁▁▁▁▁▁▁▁▁▁▁▁▁▁▁▁▁▁▁▁▁▁▁▁▁▁▁▁▁▁▁▁▁▁▁▁</td></tr><tr><td>val/epoch_Recall_8</td><td>▁▁▁▁▁▁▁▁▁▁▁▁▁▁▁▁▁▁▁▁▁▁▁▁▁▁▁▁▁▁▁▁▁▁▁▁▁▁▁▁</td></tr><tr><td>val/epoch_Recall_9</td><td>▁▅▆▇▇▇▇██████████▇██▇███████▇███████▇███</td></tr><tr><td>val/epoch_TN_0</td><td>█▅▅▄▅▅▄▄▅▅▅▄▃▁▅▃▁▄▄▄▅▃▄▄▂▂▄▄▅▄▄▄▆▄▄▄▄▄▄▄</td></tr><tr><td>val/epoch_TN_1</td><td>█▃▅▄▄▃▅▂▁▁▂▂▂▂▃▃▃▄▃▃▄▂▃▃▃▃▃▃▃▃▃▃▂▂▃▃▃▃▃▃</td></tr><tr><td>val/epoch_TN_10</td><td>█▅▅▃▄▄▃▃▄▅▅▅▂▁▅▄▃▄▅▅▄▃▅▄▄▃▄▄▆▃▅▅▆▄▄▄▄▄▄▄</td></tr><tr><td>val/epoch_TN_11</td><td>█████████▇▆▅▇▅▅▄▁▆▃▄▇▄▅▄▂▃▅▄▄▆▃▄▄▄▄▄▅▅▅▄</td></tr><tr><td>val/epoch_TN_12</td><td>█▇▄▄▃▂▄▂▁▁▂▂▁▁▃▃▃▄▄▄▄▄▄▅▅▄▅▅▅▄▅▅▄▅▅▅▅▄▅▅</td></tr><tr><td>val/epoch_TN_13</td><td>████████████████▇▆▅▅▇▄▅▄▃▅▅▄▃▅▃▄▄▁▃▄▅▅▄▄</td></tr><tr><td>val/epoch_TN_2</td><td>▁▁▁▁▁▁▁▁▁▁▁▁▁▁▁▁▁▁▁▁▁▁▁▁▁▁▁▁▁▁▁▁▁▁▁▁▁▁▁▁</td></tr><tr><td>val/epoch_TN_3</td><td>█████▇▆▄▁▃▆▄▄▃▅▄▄▄▄▄▅▃▄▅▃▄▄▄▄▅▅▄▃▄▄▄▅▅▅▅</td></tr><tr><td>val/epoch_TN_4</td><td>██▆▄▄▁▄▃▅▄▄▃▃▃▃▄▃▅▅▄▅▅▄▄▆▄▅▄▅▄▄▅▃▄▄▄▄▃▅▄</td></tr><tr><td>val/epoch_TN_5</td><td>█████████▇▄▄▃▄▅▄▄▅▄▄▆▁▄▃▁▄▄▃▂▄▄▂▅▃▄▃▅▃▃▃</td></tr><tr><td>val/epoch_TN_6</td><td>██████████▁▅▂▂▇▆▅▆▆▆▇▆▇▇▇▇▇▇▆▆▇▆▆▆▆▆▇▆▆▆</td></tr><tr><td>val/epoch_TN_7</td><td>▁▁▁▁▁▁▁▁▁▁▁▁▁▁▁▁▁▁▁▁▁▁▁▁▁▁▁▁▁▁▁▁▁▁▁▁▁▁▁▁</td></tr><tr><td>val/epoch_TN_8</td><td>▁▁▁▁▁▁▁▁▁▁▁▁▁▁▁▁▁▁▁▁▁▁▁▁▁▁▁▁▁▁▁▁▁▁▁▁▁▁▁▁</td></tr><tr><td>val/epoch_TN_9</td><td>█▅▅▄▄▃▄▂▁▁▃▃▂▂▃▃▃▄▄▃▄▂▃▃▃▃▄▃▃▃▄▃▂▂▃▃▄▃▄▄</td></tr><tr><td>val/epoch_TP_0</td><td>▁▅▆▇▆▆▇▇▆▇▇▇▇█▇██▇▇█▇█▇███▇█▇███▇███▇███</td></tr><tr><td>val/epoch_TP_1</td><td>▁▆▆▇▇▇▇██████████▇██▇███████████████▇███</td></tr><tr><td>val/epoch_TP_10</td><td>▁▅▆▇▆▇▇█▇▇▇▇██▇▇█▇▇▇▇█▇█████▆█▇▇▆███▇███</td></tr><tr><td>val/epoch_TP_11</td><td>▁▁▁▁▁▁▁▁▁▃▅▆▄▆▆▇█▅▇▇▄▇▇▇█▇▆▇▆▅▇▇▇▇▇▇▆▇▇▇</td></tr><tr><td>val/epoch_TP_12</td><td>▁▂▆▇▇▇▇██████████▇██▇▇▇▇▇▇▇▇▇█▇▇█▇▇▇▇█▇▇</td></tr><tr><td>val/epoch_TP_13</td><td>▁▁▁▁▁▁▁▁▁▁▁▁▁▁▁▂▂▅▆▆▄▇▆▇▇▇▇▇▇▇██▇██▇▇▇▇▇</td></tr><tr><td>val/epoch_TP_2</td><td>▁▁▁▁▁▁▁▁▁▁▁▁▁▁▁▁▁▁▁▁▁▁▁▁▁▁▁▁▁▁▁▁▁▁▁▁▁▁▁▁</td></tr><tr><td>val/epoch_TP_3</td><td>▁▁▁▁▁▂▅▇█▇▆▇▆▇▆█▇▇▇▇▇█▇▇█▇█▇▇▇██████▇▇██</td></tr><tr><td>val/epoch_TP_4</td><td>▁▁▃▄▅▆▆▇▅▆▇█▇▇█▇▇▇▇█▇▆█▇▆▇▇▇▆███████▇███</td></tr><tr><td>val/epoch_TP_5</td><td>▁▁▁▁▁▁▁▁▁▂▄▄▄▅▄▆▅▅▆▇▅▇▇▇█▆▇▇▇▇▇█▆▇▇█▆███</td></tr><tr><td>val/epoch_TP_6</td><td>▁▁▁▁▁▁▁▁▁▁▆▆▇▇▇▇▇▇▇▇▆▇▇▇▆▆▇▇▇▇▇█████▇███</td></tr><tr><td>val/epoch_TP_7</td><td>▁▁▁▁▁▁▁▁▁▁▁▁▁▁▁▁▁▁▁▁▁▁▁▁▁▁▁▁▁▁▁▁▁▁▁▁▁▁▁▁</td></tr><tr><td>val/epoch_TP_8</td><td>▁▁▁▁▁▁▁▁▁▁▁▁▁▁▁▁▁▁▁▁▁▁▁▁▁▁▁▁▁▁▁▁▁▁▁▁▁▁▁▁</td></tr><tr><td>val/epoch_TP_9</td><td>▁▅▆▇▇▇▇██████████▇██▇███████████████▇███</td></tr><tr><td>val/epoch_loss</td><td>█▃▂▂▂▂▁▁▂▁▁▁▁▁▁▁▁▁▁▁▁▁▁▁▁▁▁▁▁▁▁▁▁▁▁▁▂▁▁▁</td></tr><tr><td>val/iter_F1_0</td><td>▁▆▇▇▇▇██▇███████████████████████████████</td></tr><tr><td>val/iter_F1_1</td><td>▁▇▇▇▇▇██▇▇██████████████████████████████</td></tr><tr><td>val/iter_F1_10</td><td>▁▅▇▇▇▇▇█▇▇██████████████████▇███████▇███</td></tr><tr><td>val/iter_F1_11</td><td>▁▁▁▁▁▁▁▁▁▅▇▇▆▇▇▇▇▇█▇▆▇███▇▇█▇▇███▇██▆███</td></tr><tr><td>val/iter_F1_12</td><td>▁▄▇▇▇▇▇▇▇▇▇▇▇▇▇▇▇▇██▇███████████████████</td></tr><tr><td>val/iter_F1_13</td><td>▁▁▁▁▁▁▁▁▁▁▁▁▁▁▂▃▃▆▇▇▅▇▇▇▇▇▇▇▇▇██▇▇██████</td></tr><tr><td>val/iter_F1_2</td><td>▁▁▁▁▁▁▁▁▁▁▁▁▁▁▁▁▁▁▁▁▁▁▁▁▁▁▁▁▁▁▁▁▁▁▁▁▁▁▁▁</td></tr><tr><td>val/iter_F1_3</td><td>▁▁▁▁▁▃▆▇▇▇▇█▇▇▇█▇▇██▇▇██▇███▇███▇███████</td></tr><tr><td>val/iter_F1_4</td><td>▁▁▄▅▅▆▆▇▅▇▇▇▇▇▇█▇▇██▇▇██▆███▇███▇███▇███</td></tr><tr><td>val/iter_F1_5</td><td>▁▁▁▁▁▁▁▁▁▃▅▅▄▆▅▇▆▆▇▇▆▇▇▇▇▇▇█▇▇██▇▇▇█▇███</td></tr><tr><td>val/iter_F1_6</td><td>▁▁▁▁▁▁▁▁▁▁▆▆▆▆▇▇▇▇▇▇▇▇▇▇▇▇▇▇▆▇██████████</td></tr><tr><td>val/iter_F1_7</td><td>▁▁▁▁▁▁▁▁▁▁▁▁▁▁▁▁▁▁▁▁▁▁▁▁▁▁▁▁▁▁▁▁▁▁▁▁▁▁▁▁</td></tr><tr><td>val/iter_F1_8</td><td>▁▁▁▁▁▁▁▁▁▁▁▁▁▁▁▁▁▁▁▁▁▁▁▁▁▁▁▁▁▁▁▁▁▁▁▁▁▁▁▁</td></tr><tr><td>val/iter_F1_9</td><td>▁▆▇▇▇▇██▇▇██████████████████████████████</td></tr><tr><td>val/iter_FN_0</td><td>█▄▃▂▃▃▂▂▃▂▂▂▂▁▂▁▁▂▂▁▂▁▂▁▁▁▂▁▂▁▁▁▂▁▁▁▂▁▁▁</td></tr><tr><td>val/iter_FN_1</td><td>█▃▃▂▂▂▂▁▁▁▁▁▁▁▁▁▁▂▁▁▂▁▁▁▁▁▁▁▁▁▁▁▁▁▁▁▂▁▁▁</td></tr><tr><td>val/iter_FN_10</td><td>█▄▃▂▃▂▂▁▂▂▂▂▁▁▂▂▁▂▂▂▂▁▂▁▁▁▁▁▃▁▂▂▃▁▁▁▂▁▁▁</td></tr><tr><td>val/iter_FN_11</td><td>█████████▆▄▃▅▃▃▂▁▄▂▂▅▂▂▂▁▂▃▂▃▄▂▂▂▂▂▂▃▂▂▂</td></tr><tr><td>val/iter_FN_12</td><td>█▇▃▂▂▂▂▁▁▁▁▁▁▁▁▁▁▂▁▁▂▂▂▂▂▂▂▂▂▁▂▂▁▂▂▂▂▁▂▂</td></tr><tr><td>val/iter_FN_13</td><td>███████████████▇▇▄▃▃▅▂▃▂▂▂▂▂▂▂▁▁▂▁▁▂▂▂▂▂</td></tr><tr><td>val/iter_FN_2</td><td>▁▁▁▁▁▁▁▁▁▁▁▁▁▁▁▁▁▁▁▁▁▁▁▁▁▁▁▁▁▁▁▁▁▁▁▁▁▁▁▁</td></tr><tr><td>val/iter_FN_3</td><td>█████▇▄▂▁▂▃▂▃▂▃▁▂▂▂▂▂▁▂▂▁▂▁▂▂▂▁▁▁▁▁▁▂▂▁▁</td></tr><tr><td>val/iter_FN_4</td><td>██▆▅▄▃▃▂▄▃▂▁▂▂▁▂▂▂▂▁▂▃▁▂▃▂▂▂▃▁▁▁▁▁▁▁▂▁▁▁</td></tr><tr><td>val/iter_FN_5</td><td>█████████▇▅▅▅▄▅▃▄▄▃▂▄▂▂▂▁▃▂▂▂▂▂▁▃▂▂▁▃▁▁▁</td></tr><tr><td>val/iter_FN_6</td><td>██████████▃▃▂▂▂▂▂▂▂▂▃▂▂▂▃▃▂▂▂▂▂▁▁▁▁▁▂▁▁▁</td></tr><tr><td>val/iter_FN_7</td><td>▁▁▁▁▁▁▁▁▁▁▁▁▁▁▁▁▁▁▁▁▁▁▁▁▁▁▁▁▁▁▁▁▁▁▁▁▁▁▁▁</td></tr><tr><td>val/iter_FN_8</td><td>▁▁▁▁▁▁▁▁▁▁▁▁▁▁▁▁▁▁▁▁▁▁▁▁▁▁▁▁▁▁▁▁▁▁▁▁▁▁▁▁</td></tr><tr><td>val/iter_FN_9</td><td>█▄▃▂▂▂▂▁▁▁▁▁▁▁▁▁▁▂▁▁▂▁▁▁▁▁▁▁▁▁▁▁▁▁▁▁▂▁▁▁</td></tr><tr><td>val/iter_FP_0</td><td>▁▄▄▅▄▄▅▅▄▄▄▅▆█▄▆█▅▅▅▄▆▅▅▇▇▅▅▄▅▅▅▃▅▅▅▅▅▅▅</td></tr><tr><td>val/iter_FP_1</td><td>▁▆▄▅▅▆▄▇██▇▇▇▇▆▆▆▅▆▆▅▇▆▆▆▆▆▆▆▆▆▆▇▇▆▆▆▆▆▆</td></tr><tr><td>val/iter_FP_10</td><td>▁▄▄▆▅▅▆▆▅▄▄▄▇█▄▅▆▅▄▄▅▆▄▅▅▆▅▅▃▆▄▄▃▅▅▅▅▅▅▅</td></tr><tr><td>val/iter_FP_11</td><td>▁▁▁▁▁▁▁▁▁▂▃▄▂▄▄▅█▃▆▅▂▅▄▅▇▆▄▅▅▃▆▅▅▅▅▅▄▄▄▅</td></tr><tr><td>val/iter_FP_12</td><td>▁▂▅▅▆▇▅▇██▇▇██▆▆▆▅▅▅▅▅▅▄▄▅▄▄▄▅▄▄▅▄▄▄▄▅▄▄</td></tr><tr><td>val/iter_FP_13</td><td>▁▁▁▁▁▁▁▁▁▁▁▁▁▁▁▁▂▃▄▄▂▅▄▅▆▄▄▅▆▄▆▅▅█▆▅▄▄▅▅</td></tr><tr><td>val/iter_FP_2</td><td>▁▁▁▁▁▁▁▁▁▁▁▁▁▁▁▁▁▁▁▁▁▁▁▁▁▁▁▁▁▁▁▁▁▁▁▁▁▁▁▁</td></tr><tr><td>val/iter_FP_3</td><td>▁▁▁▁▁▂▃▅█▆▃▅▅▆▄▅▅▅▅▅▄▆▅▄▆▅▅▅▅▄▄▅▆▅▅▅▄▄▄▄</td></tr><tr><td>val/iter_FP_4</td><td>▁▁▃▅▅█▅▆▄▅▅▆▆▆▆▅▆▄▄▅▄▄▅▅▃▅▄▅▄▅▅▄▆▅▅▅▅▆▄▅</td></tr><tr><td>val/iter_FP_5</td><td>▁▁▁▁▁▁▁▁▁▂▅▅▆▅▄▅▅▄▅▅▃█▅▆█▅▅▆▇▅▅▇▄▆▅▆▄▆▆▆</td></tr><tr><td>val/iter_FP_6</td><td>▁▁▁▁▁▁▁▁▁▁█▄▇▇▂▃▄▃▃▃▂▃▂▂▂▂▂▂▃▃▂▃▃▃▃▃▂▃▃▃</td></tr><tr><td>val/iter_FP_7</td><td>▁▁▁▁▁▁▁▁▁▁▁▁▁▁▁▁▁▁▁▁▁▁▁▁▁▁▁▁▁▁▁▁▁▁▁▁▁▁▁▁</td></tr><tr><td>val/iter_FP_8</td><td>▁▁▁▁▁▁▁▁▁▁▁▁▁▁▁▁▁▁▁▁▁▁▁▁▁▁▁▁▁▁▁▁▁▁▁▁▁▁▁▁</td></tr><tr><td>val/iter_FP_9</td><td>▁▄▄▅▅▆▅▇██▆▆▇▇▆▆▆▅▅▆▅▇▆▆▆▆▅▆▆▆▅▆▇▇▆▆▅▆▅▅</td></tr><tr><td>val/iter_IoU_0</td><td>▁▅▆▇▆▇▇█▇▇██▇▇██▇███████████▇███████▇███</td></tr><tr><td>val/iter_IoU_1</td><td>▁▆▇▇▇▇▇█▇▇██▇▇██▇███████████████▇███████</td></tr><tr><td>val/iter_IoU_10</td><td>▁▅▆▇▆▇▇▇▇▇▇█▇▇██▇███████████▇███▇███▇███</td></tr><tr><td>val/iter_IoU_11</td><td>▁▁▁▁▁▁▁▁▁▄▇▇▅▇▇▇▇▆▇▇▆▇▇▇▇▇▇▇▇▇███▇▇█▆███</td></tr><tr><td>val/iter_IoU_12</td><td>▁▃▆▇▆▇▇▇▆▇▇▇▇▇▇▇▇▇▇█▇▇██████▇███▇▇██████</td></tr><tr><td>val/iter_IoU_13</td><td>▁▁▁▁▁▁▁▁▁▁▁▁▁▁▂▂▂▆▇▇▅▇▇▇▇▇▇▇▇▇██▇▇██████</td></tr><tr><td>val/iter_IoU_2</td><td>▁▁▁▁▁▁▁▁▁▁▁▁▁▁▁▁▁▁▁▁▁▁▁▁▁▁▁▁▁▁▁▁▁▁▁▁▁▁▁▁</td></tr><tr><td>val/iter_IoU_3</td><td>▁▁▁▁▁▂▆▇▆▆▇▇▆▇▇▇▆▇▇▇▇▇▇█▇███▇███▇███▇▇██</td></tr><tr><td>val/iter_IoU_4</td><td>▁▁▃▄▄▅▆▆▅▆▇▇▆▇▇▇▇▇▇█▇▇▇█▆▇█▇▇███▇███▇███</td></tr><tr><td>val/iter_IoU_5</td><td>▁▁▁▁▁▁▁▁▁▂▄▄▄▅▅▆▅▅▆▇▆▇▇▇▇▆▇▇▇▇██▆▇▇▇▇███</td></tr><tr><td>val/iter_IoU_6</td><td>▁▁▁▁▁▁▁▁▁▁▅▆▅▅▇▇▆▇▇▇▆▇▇▇▇▇▇▇▆▇██▇███▇███</td></tr><tr><td>val/iter_IoU_7</td><td>▁▁▁▁▁▁▁▁▁▁▁▁▁▁▁▁▁▁▁▁▁▁▁▁▁▁▁▁▁▁▁▁▁▁▁▁▁▁▁▁</td></tr><tr><td>val/iter_IoU_8</td><td>▁▁▁▁▁▁▁▁▁▁▁▁▁▁▁▁▁▁▁▁▁▁▁▁▁▁▁▁▁▁▁▁▁▁▁▁▁▁▁▁</td></tr><tr><td>val/iter_IoU_9</td><td>▁▆▇▇▇▇▇█▇▇██▇▇██▇███████████████▇███████</td></tr><tr><td>val/iter_Precision_0</td><td>▁▇█▇▇██▇███▇▇▇█▇▇█▇▇█▇█▇▇▇███▇▇██▇▇▇▇█▇█</td></tr><tr><td>val/iter_Precision_1</td><td>▁▇██▇▇█▇▇▇▇▇▇▇██▇████▇▇█████████▇▇▇██▇██</td></tr><tr><td>val/iter_Precision_10</td><td>▁▆▇▆▆▇▇▆▇▇▇▇▆▆█▇▇▇█▇▇▇▇▇▇▇▇▇█▇▇▇█▇▇▇▇▇▇▇</td></tr><tr><td>val/iter_Precision_11</td><td>▁▁▁▁▁▁▂▂▂▇▆▆▆▆▆▆▅▆▅▆▇▆▆▆▅▅▆▆▆█▆▆▆▆▆▆▆▆▆▆</td></tr><tr><td>val/iter_Precision_12</td><td>▁▇▇▇▇▆▇▆▆▆▆▆▆▆▇▇▇▇▇▇▇▇▇█████████▇████▇██</td></tr><tr><td>val/iter_Precision_13</td><td>▁▁▁▁▁▁▁▁▁▁▁▁▁▆▇█▇▇▇▇█▇▇▇▇▇▇▇▆▇▇▇▇▆▇▇██▇▇</td></tr><tr><td>val/iter_Precision_2</td><td>▁▁▁▁▁▁▁▁▁▁▁▁▁▁▁▁▁▁▁▁▁▁▁▁▁▁▁▁▁▁▁▁▁▁▁▁▁▁▁▁</td></tr><tr><td>val/iter_Precision_3</td><td>▁▁▁▄▇▇▇▇▅▆█▇▇▆█▇▆▇▇▇▇▆▇█▇▇██▇███▇▇▇█▇▇██</td></tr><tr><td>val/iter_Precision_4</td><td>▁▁▅▅▅▅▆▆▆▆▇▆▆▆▆▇▇▇█▇▇▇▇▇█▇▇▇█▇██▆▇▇▇▇▇██</td></tr><tr><td>val/iter_Precision_5</td><td>▁▁▁▁▁▁▁▂▃▇▆▆▆▇▇▇▆▇▇▇█▆▇▇▆▇▇▇▇▇▇▇▇▇▇▇█▇▇▇</td></tr><tr><td>val/iter_Precision_6</td><td>▁▁▁▁▁▁▁▁▁▄▅▆▅▆▇▇▆▇▇▇█▇▇▇████▇▇██▇▇████▇▇</td></tr><tr><td>val/iter_Precision_7</td><td>▁▁▁▁▁▁▁▁▁▁▁▁▁▁▁▁▁▁▁▁▁▁▁▁▁▁▁▁▁▁▁▁▁▁▁▁▁▁▁▁</td></tr><tr><td>val/iter_Precision_8</td><td>▁▁▁▁▁▁▁▁▁▁▁▁▁▁▁▁▁▁▁▁▁▁▁▁▁▁▁▁▁▁▁▁▁▁▁▁▁▁▁▁</td></tr><tr><td>val/iter_Precision_9</td><td>▁███▇▇█▇▇▇▇▇▇▇██▇████▇▇█████████▇▇██████</td></tr><tr><td>val/iter_Recall_0</td><td>▁▅▆▇▆▆▇▇▆▇▇▇▇█▇██▇▇█▇█▇███▇█▇███▇███▇███</td></tr><tr><td>val/iter_Recall_1</td><td>▁▆▆▇▇▇▇██████████▇██▇███████▇███████▇███</td></tr><tr><td>val/iter_Recall_10</td><td>▁▄▆▇▆▇▇█▇▇▇▇██▇▇▇▇▇▇▇█▇▇▇█▇▇▆█▇▇▆▇▇█▇▇██</td></tr><tr><td>val/iter_Recall_11</td><td>▁▁▁▁▁▁▁▁▁▃▆▆▄▆▇▇█▅▇▇▄▇▇▇█▇▆▆▆▅▇▇▇▇▇▇▅▆▇▇</td></tr><tr><td>val/iter_Recall_12</td><td>▁▂▆▇▇▇▇██████████▇██▇▇▇▇▇▇▇▇▇▇▇▇█▇▇▇▇█▇▇</td></tr><tr><td>val/iter_Recall_13</td><td>▁▁▁▁▁▁▁▁▁▁▁▁▁▁▁▂▂▅▆▆▄▇▇▇▇▇▇▇▇▇██▇██▇▇▇▇▇</td></tr><tr><td>val/iter_Recall_2</td><td>▁▁▁▁▁▁▁▁▁▁▁▁▁▁▁▁▁▁▁▁▁▁▁▁▁▁▁▁▁▁▁▁▁▁▁▁▁▁▁▁</td></tr><tr><td>val/iter_Recall_3</td><td>▁▁▁▁▁▂▅▇█▇▆▇▆▇▆█▇▇▇▇▇█▇▇███▇▇▇██████▇▇██</td></tr><tr><td>val/iter_Recall_4</td><td>▁▁▃▄▄▆▆▇▄▆▇█▇▇█▇▇▇▇▇▆▆█▇▅▇▇▇▆██▇████▇███</td></tr><tr><td>val/iter_Recall_5</td><td>▁▁▁▁▁▁▁▁▁▂▄▄▄▅▄▆▅▅▆▇▅▇▇▇█▆▇▇▇▇██▆▇▇█▆███</td></tr><tr><td>val/iter_Recall_6</td><td>▁▁▁▁▁▁▁▁▁▁▇▆▇▇▆▇▇▇▇▇▆▇▇▇▆▆▇▇▇▇▇█████▇███</td></tr><tr><td>val/iter_Recall_7</td><td>▁▁▁▁▁▁▁▁▁▁▁▁▁▁▁▁▁▁▁▁▁▁▁▁▁▁▁▁▁▁▁▁▁▁▁▁▁▁▁▁</td></tr><tr><td>val/iter_Recall_8</td><td>▁▁▁▁▁▁▁▁▁▁▁▁▁▁▁▁▁▁▁▁▁▁▁▁▁▁▁▁▁▁▁▁▁▁▁▁▁▁▁▁</td></tr><tr><td>val/iter_Recall_9</td><td>▁▅▆▇▇▇▇██████████▇██▇███████▇███████▇███</td></tr><tr><td>val/iter_TN_0</td><td>█▅▅▄▅▅▄▄▅▅▅▄▃▁▅▃▁▄▄▄▅▃▄▄▂▂▄▄▅▄▄▄▆▄▄▄▄▄▄▄</td></tr><tr><td>val/iter_TN_1</td><td>█▃▅▄▄▃▅▂▁▁▂▂▂▂▃▃▃▄▃▃▄▂▃▃▃▃▃▃▃▃▃▃▂▂▃▃▃▃▃▃</td></tr><tr><td>val/iter_TN_10</td><td>█▅▅▃▄▄▃▃▄▅▅▅▂▁▅▄▃▄▅▅▄▃▅▄▄▃▄▄▆▃▅▅▆▄▄▄▄▄▄▄</td></tr><tr><td>val/iter_TN_11</td><td>█████████▇▆▅▇▅▅▄▁▆▃▄▇▄▅▄▂▃▅▄▄▆▃▄▄▄▄▄▅▅▅▄</td></tr><tr><td>val/iter_TN_12</td><td>█▇▄▄▃▂▄▂▁▁▂▂▁▁▃▃▃▄▄▄▄▄▄▅▅▄▅▅▅▄▅▅▄▅▅▅▅▄▅▅</td></tr><tr><td>val/iter_TN_13</td><td>████████████████▇▆▅▅▇▄▅▄▃▅▅▄▃▅▃▄▄▁▃▄▅▅▄▄</td></tr><tr><td>val/iter_TN_2</td><td>▁▁▁▁▁▁▁▁▁▁▁▁▁▁▁▁▁▁▁▁▁▁▁▁▁▁▁▁▁▁▁▁▁▁▁▁▁▁▁▁</td></tr><tr><td>val/iter_TN_3</td><td>█████▇▆▄▁▃▆▄▄▃▅▄▄▄▄▄▅▃▄▅▃▄▄▄▄▅▅▄▃▄▄▄▅▅▅▅</td></tr><tr><td>val/iter_TN_4</td><td>██▆▄▄▁▄▃▅▄▄▃▃▃▃▄▃▅▅▄▅▅▄▄▆▄▅▄▅▄▄▅▃▄▄▄▄▃▅▄</td></tr><tr><td>val/iter_TN_5</td><td>█████████▇▄▄▃▄▅▄▄▅▄▄▆▁▄▃▁▄▄▃▂▄▄▂▅▃▄▃▅▃▃▃</td></tr><tr><td>val/iter_TN_6</td><td>██████████▁▅▂▂▇▆▅▆▆▆▇▆▇▇▇▇▇▇▆▆▇▆▆▆▆▆▇▆▆▆</td></tr><tr><td>val/iter_TN_7</td><td>▁▁▁▁▁▁▁▁▁▁▁▁▁▁▁▁▁▁▁▁▁▁▁▁▁▁▁▁▁▁▁▁▁▁▁▁▁▁▁▁</td></tr><tr><td>val/iter_TN_8</td><td>▁▁▁▁▁▁▁▁▁▁▁▁▁▁▁▁▁▁▁▁▁▁▁▁▁▁▁▁▁▁▁▁▁▁▁▁▁▁▁▁</td></tr><tr><td>val/iter_TN_9</td><td>█▅▅▄▄▃▄▂▁▁▃▃▂▂▃▃▃▄▄▃▄▂▃▃▃▃▄▃▃▃▄▃▂▂▃▃▄▃▄▄</td></tr><tr><td>val/iter_TP_0</td><td>▁▅▆▇▆▆▇▇▆▇▇▇▇█▇██▇▇█▇█▇███▇█▇███▇███▇███</td></tr><tr><td>val/iter_TP_1</td><td>▁▆▆▇▇▇▇██████████▇██▇███████████████▇███</td></tr><tr><td>val/iter_TP_10</td><td>▁▅▆▇▆▇▇█▇▇▇▇██▇▇█▇▇▇▇█▇█████▆█▇▇▆███▇███</td></tr><tr><td>val/iter_TP_11</td><td>▁▁▁▁▁▁▁▁▁▃▅▆▄▆▆▇█▅▇▇▄▇▇▇█▇▆▇▆▅▇▇▇▇▇▇▆▇▇▇</td></tr><tr><td>val/iter_TP_12</td><td>▁▂▆▇▇▇▇██████████▇██▇▇▇▇▇▇▇▇▇█▇▇█▇▇▇▇█▇▇</td></tr><tr><td>val/iter_TP_13</td><td>▁▁▁▁▁▁▁▁▁▁▁▁▁▁▁▂▂▅▆▆▄▇▆▇▇▇▇▇▇▇██▇██▇▇▇▇▇</td></tr><tr><td>val/iter_TP_2</td><td>▁▁▁▁▁▁▁▁▁▁▁▁▁▁▁▁▁▁▁▁▁▁▁▁▁▁▁▁▁▁▁▁▁▁▁▁▁▁▁▁</td></tr><tr><td>val/iter_TP_3</td><td>▁▁▁▁▁▂▅▇█▇▆▇▆▇▆█▇▇▇▇▇█▇▇█▇█▇▇▇██████▇▇██</td></tr><tr><td>val/iter_TP_4</td><td>▁▁▃▄▅▆▆▇▅▆▇█▇▇█▇▇▇▇█▇▆█▇▆▇▇▇▆███████▇███</td></tr><tr><td>val/iter_TP_5</td><td>▁▁▁▁▁▁▁▁▁▂▄▄▄▅▄▆▅▅▆▇▅▇▇▇█▆▇▇▇▇▇█▆▇▇█▆███</td></tr><tr><td>val/iter_TP_6</td><td>▁▁▁▁▁▁▁▁▁▁▆▆▇▇▇▇▇▇▇▇▆▇▇▇▆▆▇▇▇▇▇█████▇███</td></tr><tr><td>val/iter_TP_7</td><td>▁▁▁▁▁▁▁▁▁▁▁▁▁▁▁▁▁▁▁▁▁▁▁▁▁▁▁▁▁▁▁▁▁▁▁▁▁▁▁▁</td></tr><tr><td>val/iter_TP_8</td><td>▁▁▁▁▁▁▁▁▁▁▁▁▁▁▁▁▁▁▁▁▁▁▁▁▁▁▁▁▁▁▁▁▁▁▁▁▁▁▁▁</td></tr><tr><td>val/iter_TP_9</td><td>▁▅▆▇▇▇▇██████████▇██▇███████████████▇███</td></tr><tr><td>val/iter_loss</td><td>█▃▂▂▂▂▁▁▂▁▁▁▁▁▁▁▁▁▁▁▁▁▁▁▁▁▁▁▁▁▁▁▁▁▁▁▂▁▁▁</td></tr><tr><td>val/mean_F1</td><td>▁▃▄▄▄▅▅▅▅▆▇▇▆▇▇▇▇▇██▇▇██████▇███████████</td></tr><tr><td>val/mean_IoU</td><td>▁▃▄▄▄▄▅▅▅▅▆▆▆▆▇▇▆▇▇▇▇▇▇█▇▇██▇███▇███▇███</td></tr></table><br/></div><div class=\"wandb-col\"><h3>Run summary:</h3><br/><table class=\"wandb\"><tr><td>epoch</td><td>199</td></tr><tr><td>lr-AdamW</td><td>2e-05</td></tr><tr><td>train/epoch_F1_0</td><td>0.82486</td></tr><tr><td>train/epoch_F1_1</td><td>0.86302</td></tr><tr><td>train/epoch_F1_10</td><td>0.83198</td></tr><tr><td>train/epoch_F1_11</td><td>0.65399</td></tr><tr><td>train/epoch_F1_12</td><td>0.8591</td></tr><tr><td>train/epoch_F1_13</td><td>0.76646</td></tr><tr><td>train/epoch_F1_2</td><td>0.0</td></tr><tr><td>train/epoch_F1_3</td><td>0.83775</td></tr><tr><td>train/epoch_F1_4</td><td>0.83866</td></tr><tr><td>train/epoch_F1_5</td><td>0.83873</td></tr><tr><td>train/epoch_F1_6</td><td>0.70575</td></tr><tr><td>train/epoch_F1_7</td><td>0.0</td></tr><tr><td>train/epoch_F1_8</td><td>0.0</td></tr><tr><td>train/epoch_F1_9</td><td>0.86301</td></tr><tr><td>train/epoch_FN_0</td><td>10302.25</td></tr><tr><td>train/epoch_FN_1</td><td>8161.125</td></tr><tr><td>train/epoch_FN_10</td><td>8445.2998</td></tr><tr><td>train/epoch_FN_11</td><td>2765.625</td></tr><tr><td>train/epoch_FN_12</td><td>7461.7749</td></tr><tr><td>train/epoch_FN_13</td><td>2137.44995</td></tr><tr><td>train/epoch_FN_2</td><td>0.0</td></tr><tr><td>train/epoch_FN_3</td><td>4946.0249</td></tr><tr><td>train/epoch_FN_4</td><td>4361.0</td></tr><tr><td>train/epoch_FN_5</td><td>1135.77502</td></tr><tr><td>train/epoch_FN_6</td><td>566.375</td></tr><tr><td>train/epoch_FN_7</td><td>0.0</td></tr><tr><td>train/epoch_FN_8</td><td>0.0</td></tr><tr><td>train/epoch_FN_9</td><td>8168.4751</td></tr><tr><td>train/epoch_FP_0</td><td>17956.52539</td></tr><tr><td>train/epoch_FP_1</td><td>20264.34961</td></tr><tr><td>train/epoch_FP_10</td><td>14174.0</td></tr><tr><td>train/epoch_FP_11</td><td>3540.42505</td></tr><tr><td>train/epoch_FP_12</td><td>17367.55078</td></tr><tr><td>train/epoch_FP_13</td><td>3553.5</td></tr><tr><td>train/epoch_FP_2</td><td>0.0</td></tr><tr><td>train/epoch_FP_3</td><td>9306.25</td></tr><tr><td>train/epoch_FP_4</td><td>8067.0249</td></tr><tr><td>train/epoch_FP_5</td><td>2000.95007</td></tr><tr><td>train/epoch_FP_6</td><td>1512.72498</td></tr><tr><td>train/epoch_FP_7</td><td>0.0</td></tr><tr><td>train/epoch_FP_8</td><td>0.0</td></tr><tr><td>train/epoch_FP_9</td><td>20257.47461</td></tr><tr><td>train/epoch_IoU_0</td><td>0.70344</td></tr><tr><td>train/epoch_IoU_1</td><td>0.75931</td></tr><tr><td>train/epoch_IoU_10</td><td>0.7141</td></tr><tr><td>train/epoch_IoU_11</td><td>0.51663</td></tr><tr><td>train/epoch_IoU_12</td><td>0.75333</td></tr><tr><td>train/epoch_IoU_13</td><td>0.64485</td></tr><tr><td>train/epoch_IoU_2</td><td>0.0</td></tr><tr><td>train/epoch_IoU_3</td><td>0.72138</td></tr><tr><td>train/epoch_IoU_4</td><td>0.72291</td></tr><tr><td>train/epoch_IoU_5</td><td>0.73754</td></tr><tr><td>train/epoch_IoU_6</td><td>0.61991</td></tr><tr><td>train/epoch_IoU_7</td><td>0.0</td></tr><tr><td>train/epoch_IoU_8</td><td>0.0</td></tr><tr><td>train/epoch_IoU_9</td><td>0.75929</td></tr><tr><td>train/epoch_Precision_0</td><td>0.78987</td></tr><tr><td>train/epoch_Precision_1</td><td>0.81536</td></tr><tr><td>train/epoch_Precision_10</td><td>0.80179</td></tr><tr><td>train/epoch_Precision_11</td><td>0.6292</td></tr><tr><td>train/epoch_Precision_12</td><td>0.81343</td></tr><tr><td>train/epoch_Precision_13</td><td>0.7337</td></tr><tr><td>train/epoch_Precision_2</td><td>0.0</td></tr><tr><td>train/epoch_Precision_3</td><td>0.79539</td></tr><tr><td>train/epoch_Precision_4</td><td>0.80045</td></tr><tr><td>train/epoch_Precision_5</td><td>0.80431</td></tr><tr><td>train/epoch_Precision_6</td><td>0.66501</td></tr><tr><td>train/epoch_Precision_7</td><td>0.0</td></tr><tr><td>train/epoch_Precision_8</td><td>0.0</td></tr><tr><td>train/epoch_Precision_9</td><td>0.81536</td></tr><tr><td>train/epoch_Recall_0</td><td>0.86473</td></tr><tr><td>train/epoch_Recall_1</td><td>0.91702</td></tr><tr><td>train/epoch_Recall_10</td><td>0.86585</td></tr><tr><td>train/epoch_Recall_11</td><td>0.69102</td></tr><tr><td>train/epoch_Recall_12</td><td>0.91063</td></tr><tr><td>train/epoch_Recall_13</td><td>0.80521</td></tr><tr><td>train/epoch_Recall_2</td><td>0.0</td></tr><tr><td>train/epoch_Recall_3</td><td>0.88626</td></tr><tr><td>train/epoch_Recall_4</td><td>0.88184</td></tr><tr><td>train/epoch_Recall_5</td><td>0.87948</td></tr><tr><td>train/epoch_Recall_6</td><td>0.7545</td></tr><tr><td>train/epoch_Recall_7</td><td>0.0</td></tr><tr><td>train/epoch_Recall_8</td><td>0.0</td></tr><tr><td>train/epoch_Recall_9</td><td>0.917</td></tr><tr><td>train/epoch_TN_0</td><td>4096376.5</td></tr><tr><td>train/epoch_TN_1</td><td>4076272.0</td></tr><tr><td>train/epoch_TN_10</td><td>4111984.0</td></tr><tr><td>train/epoch_TN_11</td><td>4178938.0</td></tr><tr><td>train/epoch_TN_12</td><td>4093569.25</td></tr><tr><td>train/epoch_TN_13</td><td>4176350.5</td></tr><tr><td>train/epoch_TN_2</td><td>4194304.0</td></tr><tr><td>train/epoch_TN_3</td><td>4142485.75</td></tr><tr><td>train/epoch_TN_4</td><td>4148863.25</td></tr><tr><td>train/epoch_TN_5</td><td>4181804.75</td></tr><tr><td>train/epoch_TN_6</td><td>4185407.75</td></tr><tr><td>train/epoch_TN_7</td><td>4194304.0</td></tr><tr><td>train/epoch_TN_8</td><td>4194304.0</td></tr><tr><td>train/epoch_TN_9</td><td>4076279.25</td></tr><tr><td>train/epoch_TP_0</td><td>69668.875</td></tr><tr><td>train/epoch_TP_1</td><td>89606.30469</td></tr><tr><td>train/epoch_TP_10</td><td>59700.32422</td></tr><tr><td>train/epoch_TP_11</td><td>9059.875</td></tr><tr><td>train/epoch_TP_12</td><td>75905.42969</td></tr><tr><td>train/epoch_TP_13</td><td>12262.77539</td></tr><tr><td>train/epoch_TP_2</td><td>0.0</td></tr><tr><td>train/epoch_TP_3</td><td>37565.90234</td></tr><tr><td>train/epoch_TP_4</td><td>33012.75</td></tr><tr><td>train/epoch_TP_5</td><td>9362.2002</td></tr><tr><td>train/epoch_TP_6</td><td>6817.3999</td></tr><tr><td>train/epoch_TP_7</td><td>0.0</td></tr><tr><td>train/epoch_TP_8</td><td>0.0</td></tr><tr><td>train/epoch_TP_9</td><td>89598.95312</td></tr><tr><td>train/epoch_loss</td><td>0.3732</td></tr><tr><td>train/iter_F1_0</td><td>0.75337</td></tr><tr><td>train/iter_F1_1</td><td>0.83181</td></tr><tr><td>train/iter_F1_10</td><td>0.7602</td></tr><tr><td>train/iter_F1_11</td><td>0.72312</td></tr><tr><td>train/iter_F1_12</td><td>0.847</td></tr><tr><td>train/iter_F1_13</td><td>0.77168</td></tr><tr><td>train/iter_F1_2</td><td>0.0</td></tr><tr><td>train/iter_F1_3</td><td>0.78483</td></tr><tr><td>train/iter_F1_4</td><td>0.82748</td></tr><tr><td>train/iter_F1_5</td><td>0.78209</td></tr><tr><td>train/iter_F1_6</td><td>0.89349</td></tr><tr><td>train/iter_F1_7</td><td>0.0</td></tr><tr><td>train/iter_F1_8</td><td>0.0</td></tr><tr><td>train/iter_F1_9</td><td>0.83186</td></tr><tr><td>train/iter_FN_0</td><td>8023.0</td></tr><tr><td>train/iter_FN_1</td><td>8401.0</td></tr><tr><td>train/iter_FN_10</td><td>6058.0</td></tr><tr><td>train/iter_FN_11</td><td>2449.0</td></tr><tr><td>train/iter_FN_12</td><td>5637.0</td></tr><tr><td>train/iter_FN_13</td><td>3059.0</td></tr><tr><td>train/iter_FN_2</td><td>0.0</td></tr><tr><td>train/iter_FN_3</td><td>5329.0</td></tr><tr><td>train/iter_FN_4</td><td>5101.0</td></tr><tr><td>train/iter_FN_5</td><td>1402.0</td></tr><tr><td>train/iter_FN_6</td><td>442.0</td></tr><tr><td>train/iter_FN_7</td><td>0.0</td></tr><tr><td>train/iter_FN_8</td><td>0.0</td></tr><tr><td>train/iter_FN_9</td><td>8334.0</td></tr><tr><td>train/iter_FP_0</td><td>11590.0</td></tr><tr><td>train/iter_FP_1</td><td>19465.0</td></tr><tr><td>train/iter_FP_10</td><td>6504.0</td></tr><tr><td>train/iter_FP_11</td><td>4872.0</td></tr><tr><td>train/iter_FP_12</td><td>14035.0</td></tr><tr><td>train/iter_FP_13</td><td>5322.0</td></tr><tr><td>train/iter_FP_2</td><td>0.0</td></tr><tr><td>train/iter_FP_3</td><td>9521.0</td></tr><tr><td>train/iter_FP_4</td><td>5418.0</td></tr><tr><td>train/iter_FP_5</td><td>1913.0</td></tr><tr><td>train/iter_FP_6</td><td>1174.0</td></tr><tr><td>train/iter_FP_7</td><td>0.0</td></tr><tr><td>train/iter_FP_8</td><td>0.0</td></tr><tr><td>train/iter_FP_9</td><td>19549.0</td></tr><tr><td>train/iter_IoU_0</td><td>0.60433</td></tr><tr><td>train/iter_IoU_1</td><td>0.71205</td></tr><tr><td>train/iter_IoU_10</td><td>0.61317</td></tr><tr><td>train/iter_IoU_11</td><td>0.56632</td></tr><tr><td>train/iter_IoU_12</td><td>0.7346</td></tr><tr><td>train/iter_IoU_13</td><td>0.62824</td></tr><tr><td>train/iter_IoU_2</td><td>0.0</td></tr><tr><td>train/iter_IoU_3</td><td>0.64586</td></tr><tr><td>train/iter_IoU_4</td><td>0.70573</td></tr><tr><td>train/iter_IoU_5</td><td>0.64216</td></tr><tr><td>train/iter_IoU_6</td><td>0.80748</td></tr><tr><td>train/iter_IoU_7</td><td>0.0</td></tr><tr><td>train/iter_IoU_8</td><td>0.0</td></tr><tr><td>train/iter_IoU_9</td><td>0.71213</td></tr><tr><td>train/iter_Precision_0</td><td>0.72103</td></tr><tr><td>train/iter_Precision_1</td><td>0.77974</td></tr><tr><td>train/iter_Precision_10</td><td>0.75379</td></tr><tr><td>train/iter_Precision_11</td><td>0.66242</td></tr><tr><td>train/iter_Precision_12</td><td>0.79507</td></tr><tr><td>train/iter_Precision_13</td><td>0.72687</td></tr><tr><td>train/iter_Precision_2</td><td>0.0</td></tr><tr><td>train/iter_Precision_3</td><td>0.73988</td></tr><tr><td>train/iter_Precision_4</td><td>0.8232</td></tr><tr><td>train/iter_Precision_5</td><td>0.75668</td></tr><tr><td>train/iter_Precision_6</td><td>0.85236</td></tr><tr><td>train/iter_Precision_7</td><td>0.0</td></tr><tr><td>train/iter_Precision_8</td><td>0.0</td></tr><tr><td>train/iter_Precision_9</td><td>0.77917</td></tr><tr><td>train/iter_Recall_0</td><td>0.78875</td></tr><tr><td>train/iter_Recall_1</td><td>0.89133</td></tr><tr><td>train/iter_Recall_10</td><td>0.76673</td></tr><tr><td>train/iter_Recall_11</td><td>0.79607</td></tr><tr><td>train/iter_Recall_12</td><td>0.90619</td></tr><tr><td>train/iter_Recall_13</td><td>0.82238</td></tr><tr><td>train/iter_Recall_2</td><td>0.0</td></tr><tr><td>train/iter_Recall_3</td><td>0.83558</td></tr><tr><td>train/iter_Recall_4</td><td>0.83181</td></tr><tr><td>train/iter_Recall_5</td><td>0.80928</td></tr><tr><td>train/iter_Recall_6</td><td>0.93878</td></tr><tr><td>train/iter_Recall_7</td><td>0.0</td></tr><tr><td>train/iter_Recall_8</td><td>0.0</td></tr><tr><td>train/iter_Recall_9</td><td>0.8922</td></tr><tr><td>train/iter_TN_0</td><td>4144735.0</td></tr><tr><td>train/iter_TN_1</td><td>4097529.0</td></tr><tr><td>train/iter_TN_10</td><td>4161830.0</td></tr><tr><td>train/iter_TN_11</td><td>4177423.0</td></tr><tr><td>train/iter_TN_12</td><td>4120181.0</td></tr><tr><td>train/iter_TN_13</td><td>4171760.0</td></tr><tr><td>train/iter_TN_2</td><td>4194304.0</td></tr><tr><td>train/iter_TN_3</td><td>4152372.0</td></tr><tr><td>train/iter_TN_4</td><td>4158558.0</td></tr><tr><td>train/iter_TN_5</td><td>4185040.0</td></tr><tr><td>train/iter_TN_6</td><td>4185910.0</td></tr><tr><td>train/iter_TN_7</td><td>4194304.0</td></tr><tr><td>train/iter_TN_8</td><td>4194304.0</td></tr><tr><td>train/iter_TN_9</td><td>4097445.0</td></tr><tr><td>train/iter_TP_0</td><td>29956.0</td></tr><tr><td>train/iter_TP_1</td><td>68909.0</td></tr><tr><td>train/iter_TP_10</td><td>19912.0</td></tr><tr><td>train/iter_TP_11</td><td>9560.0</td></tr><tr><td>train/iter_TP_12</td><td>54451.0</td></tr><tr><td>train/iter_TP_13</td><td>14163.0</td></tr><tr><td>train/iter_TP_2</td><td>0.0</td></tr><tr><td>train/iter_TP_3</td><td>27082.0</td></tr><tr><td>train/iter_TP_4</td><td>25227.0</td></tr><tr><td>train/iter_TP_5</td><td>5949.0</td></tr><tr><td>train/iter_TP_6</td><td>6778.0</td></tr><tr><td>train/iter_TP_7</td><td>0.0</td></tr><tr><td>train/iter_TP_8</td><td>0.0</td></tr><tr><td>train/iter_TP_9</td><td>68976.0</td></tr><tr><td>train/iter_loss</td><td>0.3872</td></tr><tr><td>train/mean_F1</td><td>0.63452</td></tr><tr><td>train/mean_IoU</td><td>0.54662</td></tr><tr><td>trainer/global_step</td><td>7999</td></tr><tr><td>val/epoch_F1_0</td><td>0.77259</td></tr><tr><td>val/epoch_F1_1</td><td>0.70177</td></tr><tr><td>val/epoch_F1_10</td><td>0.70682</td></tr><tr><td>val/epoch_F1_11</td><td>0.49735</td></tr><tr><td>val/epoch_F1_12</td><td>0.66572</td></tr><tr><td>val/epoch_F1_13</td><td>0.60052</td></tr><tr><td>val/epoch_F1_2</td><td>0.0</td></tr><tr><td>val/epoch_F1_3</td><td>0.51728</td></tr><tr><td>val/epoch_F1_4</td><td>0.62969</td></tr><tr><td>val/epoch_F1_5</td><td>0.69589</td></tr><tr><td>val/epoch_F1_6</td><td>0.49806</td></tr><tr><td>val/epoch_F1_7</td><td>0.0</td></tr><tr><td>val/epoch_F1_8</td><td>0.0</td></tr><tr><td>val/epoch_F1_9</td><td>0.70175</td></tr><tr><td>val/epoch_FN_0</td><td>16009.0</td></tr><tr><td>val/epoch_FN_1</td><td>25843.40039</td></tr><tr><td>val/epoch_FN_10</td><td>16483.59961</td></tr><tr><td>val/epoch_FN_11</td><td>5813.7002</td></tr><tr><td>val/epoch_FN_12</td><td>23785.90039</td></tr><tr><td>val/epoch_FN_13</td><td>7878.1001</td></tr><tr><td>val/epoch_FN_2</td><td>0.0</td></tr><tr><td>val/epoch_FN_3</td><td>17854.20117</td></tr><tr><td>val/epoch_FN_4</td><td>12584.5</td></tr><tr><td>val/epoch_FN_5</td><td>4284.80029</td></tr><tr><td>val/epoch_FN_6</td><td>728.5</td></tr><tr><td>val/epoch_FN_7</td><td>0.0</td></tr><tr><td>val/epoch_FN_8</td><td>0.0</td></tr><tr><td>val/epoch_FN_9</td><td>25850.80078</td></tr><tr><td>val/epoch_FP_0</td><td>20064.20117</td></tr><tr><td>val/epoch_FP_1</td><td>34369.60156</td></tr><tr><td>val/epoch_FP_10</td><td>14316.5</td></tr><tr><td>val/epoch_FP_11</td><td>10210.40039</td></tr><tr><td>val/epoch_FP_12</td><td>26245.90039</td></tr><tr><td>val/epoch_FP_13</td><td>9862.90039</td></tr><tr><td>val/epoch_FP_2</td><td>0.0</td></tr><tr><td>val/epoch_FP_3</td><td>20197.59961</td></tr><tr><td>val/epoch_FP_4</td><td>14086.2998</td></tr><tr><td>val/epoch_FP_5</td><td>3573.1001</td></tr><tr><td>val/epoch_FP_6</td><td>1660.20007</td></tr><tr><td>val/epoch_FP_7</td><td>0.0</td></tr><tr><td>val/epoch_FP_8</td><td>0.0</td></tr><tr><td>val/epoch_FP_9</td><td>34356.0</td></tr><tr><td>val/epoch_IoU_0</td><td>0.63265</td></tr><tr><td>val/epoch_IoU_1</td><td>0.54355</td></tr><tr><td>val/epoch_IoU_10</td><td>0.56223</td></tr><tr><td>val/epoch_IoU_11</td><td>0.35299</td></tr><tr><td>val/epoch_IoU_12</td><td>0.50405</td></tr><tr><td>val/epoch_IoU_13</td><td>0.44063</td></tr><tr><td>val/epoch_IoU_2</td><td>0.0</td></tr><tr><td>val/epoch_IoU_3</td><td>0.35564</td></tr><tr><td>val/epoch_IoU_4</td><td>0.46259</td></tr><tr><td>val/epoch_IoU_5</td><td>0.54893</td></tr><tr><td>val/epoch_IoU_6</td><td>0.42866</td></tr><tr><td>val/epoch_IoU_7</td><td>0.0</td></tr><tr><td>val/epoch_IoU_8</td><td>0.0</td></tr><tr><td>val/epoch_IoU_9</td><td>0.54351</td></tr><tr><td>val/epoch_Precision_0</td><td>0.75058</td></tr><tr><td>val/epoch_Precision_1</td><td>0.67025</td></tr><tr><td>val/epoch_Precision_10</td><td>0.71555</td></tr><tr><td>val/epoch_Precision_11</td><td>0.46545</td></tr><tr><td>val/epoch_Precision_12</td><td>0.65552</td></tr><tr><td>val/epoch_Precision_13</td><td>0.56587</td></tr><tr><td>val/epoch_Precision_2</td><td>0.0</td></tr><tr><td>val/epoch_Precision_3</td><td>0.50282</td></tr><tr><td>val/epoch_Precision_4</td><td>0.61903</td></tr><tr><td>val/epoch_Precision_5</td><td>0.70957</td></tr><tr><td>val/epoch_Precision_6</td><td>0.46799</td></tr><tr><td>val/epoch_Precision_7</td><td>0.0</td></tr><tr><td>val/epoch_Precision_8</td><td>0.0</td></tr><tr><td>val/epoch_Precision_9</td><td>0.67028</td></tr><tr><td>val/epoch_Recall_0</td><td>0.79946</td></tr><tr><td>val/epoch_Recall_1</td><td>0.73824</td></tr><tr><td>val/epoch_Recall_10</td><td>0.70416</td></tr><tr><td>val/epoch_Recall_11</td><td>0.63453</td></tr><tr><td>val/epoch_Recall_12</td><td>0.67978</td></tr><tr><td>val/epoch_Recall_13</td><td>0.6528</td></tr><tr><td>val/epoch_Recall_2</td><td>0.0</td></tr><tr><td>val/epoch_Recall_3</td><td>0.54291</td></tr><tr><td>val/epoch_Recall_4</td><td>0.64661</td></tr><tr><td>val/epoch_Recall_5</td><td>0.68952</td></tr><tr><td>val/epoch_Recall_6</td><td>0.53463</td></tr><tr><td>val/epoch_Recall_7</td><td>0.0</td></tr><tr><td>val/epoch_Recall_8</td><td>0.0</td></tr><tr><td>val/epoch_Recall_9</td><td>0.73812</td></tr><tr><td>val/epoch_TN_0</td><td>4093577.75</td></tr><tr><td>val/epoch_TN_1</td><td>4063252.0</td></tr><tr><td>val/epoch_TN_10</td><td>4115401.25</td></tr><tr><td>val/epoch_TN_11</td><td>4168018.0</td></tr><tr><td>val/epoch_TN_12</td><td>4093256.0</td></tr><tr><td>val/epoch_TN_13</td><td>4162560.75</td></tr><tr><td>val/epoch_TN_2</td><td>4194304.0</td></tr><tr><td>val/epoch_TN_3</td><td>4134768.75</td></tr><tr><td>val/epoch_TN_4</td><td>4143546.0</td></tr><tr><td>val/epoch_TN_5</td><td>4177847.25</td></tr><tr><td>val/epoch_TN_6</td><td>4184854.75</td></tr><tr><td>val/epoch_TN_7</td><td>4194304.0</td></tr><tr><td>val/epoch_TN_8</td><td>4194304.0</td></tr><tr><td>val/epoch_TN_9</td><td>4063265.75</td></tr><tr><td>val/epoch_TP_0</td><td>64653.0</td></tr><tr><td>val/epoch_TP_1</td><td>70839.0</td></tr><tr><td>val/epoch_TP_10</td><td>48102.80078</td></tr><tr><td>val/epoch_TP_11</td><td>10261.90039</td></tr><tr><td>val/epoch_TP_12</td><td>51016.19922</td></tr><tr><td>val/epoch_TP_13</td><td>14002.2002</td></tr><tr><td>val/epoch_TP_2</td><td>0.0</td></tr><tr><td>val/epoch_TP_3</td><td>21483.59961</td></tr><tr><td>val/epoch_TP_4</td><td>24087.20117</td></tr><tr><td>val/epoch_TP_5</td><td>8599.0</td></tr><tr><td>val/epoch_TP_6</td><td>7060.6001</td></tr><tr><td>val/epoch_TP_7</td><td>0.0</td></tr><tr><td>val/epoch_TP_8</td><td>0.0</td></tr><tr><td>val/epoch_TP_9</td><td>70831.60156</td></tr><tr><td>val/epoch_loss</td><td>0.37701</td></tr><tr><td>val/iter_F1_0</td><td>0.77259</td></tr><tr><td>val/iter_F1_1</td><td>0.70177</td></tr><tr><td>val/iter_F1_10</td><td>0.70682</td></tr><tr><td>val/iter_F1_11</td><td>0.49735</td></tr><tr><td>val/iter_F1_12</td><td>0.66572</td></tr><tr><td>val/iter_F1_13</td><td>0.60052</td></tr><tr><td>val/iter_F1_2</td><td>0.0</td></tr><tr><td>val/iter_F1_3</td><td>0.51728</td></tr><tr><td>val/iter_F1_4</td><td>0.62969</td></tr><tr><td>val/iter_F1_5</td><td>0.69589</td></tr><tr><td>val/iter_F1_6</td><td>0.49806</td></tr><tr><td>val/iter_F1_7</td><td>0.0</td></tr><tr><td>val/iter_F1_8</td><td>0.0</td></tr><tr><td>val/iter_F1_9</td><td>0.70175</td></tr><tr><td>val/iter_FN_0</td><td>16009.0</td></tr><tr><td>val/iter_FN_1</td><td>25843.40039</td></tr><tr><td>val/iter_FN_10</td><td>16483.59961</td></tr><tr><td>val/iter_FN_11</td><td>5813.7002</td></tr><tr><td>val/iter_FN_12</td><td>23785.90039</td></tr><tr><td>val/iter_FN_13</td><td>7878.1001</td></tr><tr><td>val/iter_FN_2</td><td>0.0</td></tr><tr><td>val/iter_FN_3</td><td>17854.19922</td></tr><tr><td>val/iter_FN_4</td><td>12584.5</td></tr><tr><td>val/iter_FN_5</td><td>4284.7998</td></tr><tr><td>val/iter_FN_6</td><td>728.5</td></tr><tr><td>val/iter_FN_7</td><td>0.0</td></tr><tr><td>val/iter_FN_8</td><td>0.0</td></tr><tr><td>val/iter_FN_9</td><td>25850.80078</td></tr><tr><td>val/iter_FP_0</td><td>20064.19922</td></tr><tr><td>val/iter_FP_1</td><td>34369.60156</td></tr><tr><td>val/iter_FP_10</td><td>14316.5</td></tr><tr><td>val/iter_FP_11</td><td>10210.40039</td></tr><tr><td>val/iter_FP_12</td><td>26245.90039</td></tr><tr><td>val/iter_FP_13</td><td>9862.90039</td></tr><tr><td>val/iter_FP_2</td><td>0.0</td></tr><tr><td>val/iter_FP_3</td><td>20197.59961</td></tr><tr><td>val/iter_FP_4</td><td>14086.2998</td></tr><tr><td>val/iter_FP_5</td><td>3573.1001</td></tr><tr><td>val/iter_FP_6</td><td>1660.19995</td></tr><tr><td>val/iter_FP_7</td><td>0.0</td></tr><tr><td>val/iter_FP_8</td><td>0.0</td></tr><tr><td>val/iter_FP_9</td><td>34356.0</td></tr><tr><td>val/iter_IoU_0</td><td>0.63265</td></tr><tr><td>val/iter_IoU_1</td><td>0.54355</td></tr><tr><td>val/iter_IoU_10</td><td>0.56223</td></tr><tr><td>val/iter_IoU_11</td><td>0.35299</td></tr><tr><td>val/iter_IoU_12</td><td>0.50405</td></tr><tr><td>val/iter_IoU_13</td><td>0.44063</td></tr><tr><td>val/iter_IoU_2</td><td>0.0</td></tr><tr><td>val/iter_IoU_3</td><td>0.35564</td></tr><tr><td>val/iter_IoU_4</td><td>0.46259</td></tr><tr><td>val/iter_IoU_5</td><td>0.54893</td></tr><tr><td>val/iter_IoU_6</td><td>0.42866</td></tr><tr><td>val/iter_IoU_7</td><td>0.0</td></tr><tr><td>val/iter_IoU_8</td><td>0.0</td></tr><tr><td>val/iter_IoU_9</td><td>0.54351</td></tr><tr><td>val/iter_Precision_0</td><td>0.75058</td></tr><tr><td>val/iter_Precision_1</td><td>0.67025</td></tr><tr><td>val/iter_Precision_10</td><td>0.71555</td></tr><tr><td>val/iter_Precision_11</td><td>0.46545</td></tr><tr><td>val/iter_Precision_12</td><td>0.65552</td></tr><tr><td>val/iter_Precision_13</td><td>0.56587</td></tr><tr><td>val/iter_Precision_2</td><td>0.0</td></tr><tr><td>val/iter_Precision_3</td><td>0.50282</td></tr><tr><td>val/iter_Precision_4</td><td>0.61903</td></tr><tr><td>val/iter_Precision_5</td><td>0.70957</td></tr><tr><td>val/iter_Precision_6</td><td>0.46799</td></tr><tr><td>val/iter_Precision_7</td><td>0.0</td></tr><tr><td>val/iter_Precision_8</td><td>0.0</td></tr><tr><td>val/iter_Precision_9</td><td>0.67028</td></tr><tr><td>val/iter_Recall_0</td><td>0.79946</td></tr><tr><td>val/iter_Recall_1</td><td>0.73824</td></tr><tr><td>val/iter_Recall_10</td><td>0.70416</td></tr><tr><td>val/iter_Recall_11</td><td>0.63453</td></tr><tr><td>val/iter_Recall_12</td><td>0.67978</td></tr><tr><td>val/iter_Recall_13</td><td>0.6528</td></tr><tr><td>val/iter_Recall_2</td><td>0.0</td></tr><tr><td>val/iter_Recall_3</td><td>0.54291</td></tr><tr><td>val/iter_Recall_4</td><td>0.64661</td></tr><tr><td>val/iter_Recall_5</td><td>0.68952</td></tr><tr><td>val/iter_Recall_6</td><td>0.53463</td></tr><tr><td>val/iter_Recall_7</td><td>0.0</td></tr><tr><td>val/iter_Recall_8</td><td>0.0</td></tr><tr><td>val/iter_Recall_9</td><td>0.73812</td></tr><tr><td>val/iter_TN_0</td><td>4093577.5</td></tr><tr><td>val/iter_TN_1</td><td>4063252.0</td></tr><tr><td>val/iter_TN_10</td><td>4115400.75</td></tr><tr><td>val/iter_TN_11</td><td>4168018.5</td></tr><tr><td>val/iter_TN_12</td><td>4093256.0</td></tr><tr><td>val/iter_TN_13</td><td>4162560.75</td></tr><tr><td>val/iter_TN_2</td><td>4194304.0</td></tr><tr><td>val/iter_TN_3</td><td>4134768.75</td></tr><tr><td>val/iter_TN_4</td><td>4143546.0</td></tr><tr><td>val/iter_TN_5</td><td>4177847.25</td></tr><tr><td>val/iter_TN_6</td><td>4184854.75</td></tr><tr><td>val/iter_TN_7</td><td>4194304.0</td></tr><tr><td>val/iter_TN_8</td><td>4194304.0</td></tr><tr><td>val/iter_TN_9</td><td>4063265.5</td></tr><tr><td>val/iter_TP_0</td><td>64653.0</td></tr><tr><td>val/iter_TP_1</td><td>70839.0</td></tr><tr><td>val/iter_TP_10</td><td>48102.80078</td></tr><tr><td>val/iter_TP_11</td><td>10261.90039</td></tr><tr><td>val/iter_TP_12</td><td>51016.19922</td></tr><tr><td>val/iter_TP_13</td><td>14002.2002</td></tr><tr><td>val/iter_TP_2</td><td>0.0</td></tr><tr><td>val/iter_TP_3</td><td>21483.59961</td></tr><tr><td>val/iter_TP_4</td><td>24087.19922</td></tr><tr><td>val/iter_TP_5</td><td>8599.0</td></tr><tr><td>val/iter_TP_6</td><td>7060.6001</td></tr><tr><td>val/iter_TP_7</td><td>0.0</td></tr><tr><td>val/iter_TP_8</td><td>0.0</td></tr><tr><td>val/iter_TP_9</td><td>70831.60156</td></tr><tr><td>val/iter_loss</td><td>0.37701</td></tr><tr><td>val/mean_F1</td><td>0.4991</td></tr><tr><td>val/mean_IoU</td><td>0.38396</td></tr></table><br/></div></div>"
      ],
      "text/plain": [
       "<IPython.core.display.HTML object>"
      ]
     },
     "metadata": {},
     "output_type": "display_data"
    },
    {
     "data": {
      "text/html": [
       "Synced <strong style=\"color:#cdcd00\">3090_fold2</strong>: <a href=\"https://wandb.ai/spaceshift/SpaceNet8/runs/nm3ab61w\" target=\"_blank\">https://wandb.ai/spaceshift/SpaceNet8/runs/nm3ab61w</a><br/>Synced 6 W&B file(s), 0 media file(s), 0 artifact file(s) and 1 other file(s)"
      ],
      "text/plain": [
       "<IPython.core.display.HTML object>"
      ]
     },
     "metadata": {},
     "output_type": "display_data"
    },
    {
     "data": {
      "text/html": [
       "Find logs at: <code>./wandb/run-20220723_075522-nm3ab61w/logs</code>"
      ],
      "text/plain": [
       "<IPython.core.display.HTML object>"
      ]
     },
     "metadata": {},
     "output_type": "display_data"
    },
    {
     "name": "stdout",
     "output_type": "stream",
     "text": [
      "############################################################\n",
      "### Fold: 3\n",
      "############################################################\n"
     ]
    },
    {
     "data": {
      "text/html": [
       "Changes to your `wandb` environment variables will be ignored because your `wandb` session has already started. For more information on how to modify your settings with `wandb.init()` arguments, please refer to <a href=\"https://wandb.me/wandb-init\" target=\"_blank\">the W&B docs</a>."
      ],
      "text/plain": [
       "<IPython.core.display.HTML object>"
      ]
     },
     "metadata": {},
     "output_type": "display_data"
    },
    {
     "data": {
      "text/html": [
       "Tracking run with wandb version 0.12.21"
      ],
      "text/plain": [
       "<IPython.core.display.HTML object>"
      ]
     },
     "metadata": {},
     "output_type": "display_data"
    },
    {
     "data": {
      "text/html": [
       "Run data is saved locally in <code>/media/syu/c983cccd-1cc7-4ce4-b206-7eb1a2cc5c94/topcoder/spacenet8/SpaceNet8/baseline/wandb/run-20220723_100333-1lgmehfd</code>"
      ],
      "text/plain": [
       "<IPython.core.display.HTML object>"
      ]
     },
     "metadata": {},
     "output_type": "display_data"
    },
    {
     "data": {
      "text/html": [
       "Syncing run <strong><a href=\"https://wandb.ai/spaceshift/SpaceNet8/runs/1lgmehfd\" target=\"_blank\">3090_fold3</a></strong> to <a href=\"https://wandb.ai/spaceshift/SpaceNet8\" target=\"_blank\">Weights & Biases</a> (<a href=\"https://wandb.me/run\" target=\"_blank\">docs</a>)<br/>"
      ],
      "text/plain": [
       "<IPython.core.display.HTML object>"
      ]
     },
     "metadata": {},
     "output_type": "display_data"
    },
    {
     "name": "stderr",
     "output_type": "stream",
     "text": [
      "Using 16bit native Automatic Mixed Precision (AMP)\n",
      "GPU available: True, used: True\n",
      "TPU available: False, using: 0 TPU cores\n",
      "IPU available: False, using: 0 IPUs\n",
      "HPU available: False, using: 0 HPUs\n",
      "`Trainer(val_check_interval=1.0)` was configured so validation will run at the end of the training epoch..\n",
      "LOCAL_RANK: 0 - CUDA_VISIBLE_DEVICES: [0]\n",
      "\n",
      "  | Name       | Type             | Params\n",
      "------------------------------------------------\n",
      "0 | backbone   | UnetPlusPlus     | 6.6 M \n",
      "1 | _criterion | MultiBCEDiceLoss | 0     \n",
      "------------------------------------------------\n",
      "6.6 M     Trainable params\n",
      "0         Non-trainable params\n",
      "6.6 M     Total params\n",
      "13.286    Total estimated model params size (MB)\n"
     ]
    },
    {
     "name": "stdout",
     "output_type": "stream",
     "text": [
      "### Start Trainig\n",
      "loaded 641 image filepaths\n",
      "loaded 160 image filepaths\n"
     ]
    },
    {
     "data": {
      "application/vnd.jupyter.widget-view+json": {
       "model_id": "6340b534d08e4d748ab00d9fdad7b758",
       "version_major": 2,
       "version_minor": 0
      },
      "text/plain": [
       "Training: 0it [00:00, ?it/s]"
      ]
     },
     "metadata": {},
     "output_type": "display_data"
    },
    {
     "data": {
      "application/vnd.jupyter.widget-view+json": {
       "model_id": "9713150d140f48bba51efd26609f49fd",
       "version_major": 2,
       "version_minor": 0
      },
      "text/plain": [
       "Validation: 0it [00:00, ?it/s]"
      ]
     },
     "metadata": {},
     "output_type": "display_data"
    },
    {
     "data": {
      "application/vnd.jupyter.widget-view+json": {
       "model_id": "a5829d33433a4ff5a18ff3c8c08b3d57",
       "version_major": 2,
       "version_minor": 0
      },
      "text/plain": [
       "Validation: 0it [00:00, ?it/s]"
      ]
     },
     "metadata": {},
     "output_type": "display_data"
    },
    {
     "data": {
      "application/vnd.jupyter.widget-view+json": {
       "model_id": "5964c36597a042a2b15a2bf54446ac1d",
       "version_major": 2,
       "version_minor": 0
      },
      "text/plain": [
       "Validation: 0it [00:00, ?it/s]"
      ]
     },
     "metadata": {},
     "output_type": "display_data"
    },
    {
     "data": {
      "application/vnd.jupyter.widget-view+json": {
       "model_id": "936b2fc922a04953ad45bf6478f1e00b",
       "version_major": 2,
       "version_minor": 0
      },
      "text/plain": [
       "Validation: 0it [00:00, ?it/s]"
      ]
     },
     "metadata": {},
     "output_type": "display_data"
    },
    {
     "data": {
      "application/vnd.jupyter.widget-view+json": {
       "model_id": "872918d93d0c478fad8f11113248851f",
       "version_major": 2,
       "version_minor": 0
      },
      "text/plain": [
       "Validation: 0it [00:00, ?it/s]"
      ]
     },
     "metadata": {},
     "output_type": "display_data"
    },
    {
     "data": {
      "application/vnd.jupyter.widget-view+json": {
       "model_id": "711bebb4754d4dce80c022267434149f",
       "version_major": 2,
       "version_minor": 0
      },
      "text/plain": [
       "Validation: 0it [00:00, ?it/s]"
      ]
     },
     "metadata": {},
     "output_type": "display_data"
    },
    {
     "data": {
      "application/vnd.jupyter.widget-view+json": {
       "model_id": "be76aaa0c2fb4ee387ad15726f839e77",
       "version_major": 2,
       "version_minor": 0
      },
      "text/plain": [
       "Validation: 0it [00:00, ?it/s]"
      ]
     },
     "metadata": {},
     "output_type": "display_data"
    },
    {
     "data": {
      "application/vnd.jupyter.widget-view+json": {
       "model_id": "332647182fca4b649f5d86a76a9f6076",
       "version_major": 2,
       "version_minor": 0
      },
      "text/plain": [
       "Validation: 0it [00:00, ?it/s]"
      ]
     },
     "metadata": {},
     "output_type": "display_data"
    },
    {
     "data": {
      "application/vnd.jupyter.widget-view+json": {
       "model_id": "e9b475ca67be423487ca2a0ab23a0789",
       "version_major": 2,
       "version_minor": 0
      },
      "text/plain": [
       "Validation: 0it [00:00, ?it/s]"
      ]
     },
     "metadata": {},
     "output_type": "display_data"
    },
    {
     "data": {
      "application/vnd.jupyter.widget-view+json": {
       "model_id": "2d48befa8f3d4f0b994e6dd6d5829411",
       "version_major": 2,
       "version_minor": 0
      },
      "text/plain": [
       "Validation: 0it [00:00, ?it/s]"
      ]
     },
     "metadata": {},
     "output_type": "display_data"
    },
    {
     "data": {
      "application/vnd.jupyter.widget-view+json": {
       "model_id": "6ee3ae6a7f604dee94d5357228fd4db6",
       "version_major": 2,
       "version_minor": 0
      },
      "text/plain": [
       "Validation: 0it [00:00, ?it/s]"
      ]
     },
     "metadata": {},
     "output_type": "display_data"
    },
    {
     "data": {
      "application/vnd.jupyter.widget-view+json": {
       "model_id": "9123ade989404dae87756217988a4fd7",
       "version_major": 2,
       "version_minor": 0
      },
      "text/plain": [
       "Validation: 0it [00:00, ?it/s]"
      ]
     },
     "metadata": {},
     "output_type": "display_data"
    },
    {
     "data": {
      "application/vnd.jupyter.widget-view+json": {
       "model_id": "6a1bccd242d640898840b7057771ba8f",
       "version_major": 2,
       "version_minor": 0
      },
      "text/plain": [
       "Validation: 0it [00:00, ?it/s]"
      ]
     },
     "metadata": {},
     "output_type": "display_data"
    },
    {
     "data": {
      "application/vnd.jupyter.widget-view+json": {
       "model_id": "24b2819e401c4c889b00e5847e61b002",
       "version_major": 2,
       "version_minor": 0
      },
      "text/plain": [
       "Validation: 0it [00:00, ?it/s]"
      ]
     },
     "metadata": {},
     "output_type": "display_data"
    },
    {
     "data": {
      "application/vnd.jupyter.widget-view+json": {
       "model_id": "1f22a63dc70644ba969027f570ee9751",
       "version_major": 2,
       "version_minor": 0
      },
      "text/plain": [
       "Validation: 0it [00:00, ?it/s]"
      ]
     },
     "metadata": {},
     "output_type": "display_data"
    },
    {
     "data": {
      "application/vnd.jupyter.widget-view+json": {
       "model_id": "a210eeb184ee49b992aef0720dbb7123",
       "version_major": 2,
       "version_minor": 0
      },
      "text/plain": [
       "Validation: 0it [00:00, ?it/s]"
      ]
     },
     "metadata": {},
     "output_type": "display_data"
    },
    {
     "data": {
      "application/vnd.jupyter.widget-view+json": {
       "model_id": "8bcfe87df543477ea412d2b6d3d7a0b2",
       "version_major": 2,
       "version_minor": 0
      },
      "text/plain": [
       "Validation: 0it [00:00, ?it/s]"
      ]
     },
     "metadata": {},
     "output_type": "display_data"
    },
    {
     "data": {
      "application/vnd.jupyter.widget-view+json": {
       "model_id": "f3bfb8d949a14b5f9171dafced3b9bf7",
       "version_major": 2,
       "version_minor": 0
      },
      "text/plain": [
       "Validation: 0it [00:00, ?it/s]"
      ]
     },
     "metadata": {},
     "output_type": "display_data"
    },
    {
     "data": {
      "application/vnd.jupyter.widget-view+json": {
       "model_id": "15a0a95c578e45eb8c8ca83554bab6d2",
       "version_major": 2,
       "version_minor": 0
      },
      "text/plain": [
       "Validation: 0it [00:00, ?it/s]"
      ]
     },
     "metadata": {},
     "output_type": "display_data"
    },
    {
     "data": {
      "application/vnd.jupyter.widget-view+json": {
       "model_id": "18953c92541b4216b14655a108a68742",
       "version_major": 2,
       "version_minor": 0
      },
      "text/plain": [
       "Validation: 0it [00:00, ?it/s]"
      ]
     },
     "metadata": {},
     "output_type": "display_data"
    },
    {
     "data": {
      "application/vnd.jupyter.widget-view+json": {
       "model_id": "a399fa68977148ab96c0ef5496159e00",
       "version_major": 2,
       "version_minor": 0
      },
      "text/plain": [
       "Validation: 0it [00:00, ?it/s]"
      ]
     },
     "metadata": {},
     "output_type": "display_data"
    },
    {
     "data": {
      "application/vnd.jupyter.widget-view+json": {
       "model_id": "7bfc351db7224dc0b7acebf65d318ffc",
       "version_major": 2,
       "version_minor": 0
      },
      "text/plain": [
       "Validation: 0it [00:00, ?it/s]"
      ]
     },
     "metadata": {},
     "output_type": "display_data"
    },
    {
     "data": {
      "application/vnd.jupyter.widget-view+json": {
       "model_id": "4ef665b087ae41b18b62e4d97975ca97",
       "version_major": 2,
       "version_minor": 0
      },
      "text/plain": [
       "Validation: 0it [00:00, ?it/s]"
      ]
     },
     "metadata": {},
     "output_type": "display_data"
    },
    {
     "data": {
      "application/vnd.jupyter.widget-view+json": {
       "model_id": "0cb7492722704a26b736e00ec0c8c93c",
       "version_major": 2,
       "version_minor": 0
      },
      "text/plain": [
       "Validation: 0it [00:00, ?it/s]"
      ]
     },
     "metadata": {},
     "output_type": "display_data"
    },
    {
     "data": {
      "application/vnd.jupyter.widget-view+json": {
       "model_id": "44785d1816df4194bc81073840ed9a84",
       "version_major": 2,
       "version_minor": 0
      },
      "text/plain": [
       "Validation: 0it [00:00, ?it/s]"
      ]
     },
     "metadata": {},
     "output_type": "display_data"
    },
    {
     "data": {
      "application/vnd.jupyter.widget-view+json": {
       "model_id": "c06699d7d1184371b49495f9cf606ece",
       "version_major": 2,
       "version_minor": 0
      },
      "text/plain": [
       "Validation: 0it [00:00, ?it/s]"
      ]
     },
     "metadata": {},
     "output_type": "display_data"
    },
    {
     "data": {
      "application/vnd.jupyter.widget-view+json": {
       "model_id": "8bd49efab7f5459a8e3f886df60f9ef1",
       "version_major": 2,
       "version_minor": 0
      },
      "text/plain": [
       "Validation: 0it [00:00, ?it/s]"
      ]
     },
     "metadata": {},
     "output_type": "display_data"
    },
    {
     "data": {
      "application/vnd.jupyter.widget-view+json": {
       "model_id": "8eb7f13f212a4b5fa6b177be586aa349",
       "version_major": 2,
       "version_minor": 0
      },
      "text/plain": [
       "Validation: 0it [00:00, ?it/s]"
      ]
     },
     "metadata": {},
     "output_type": "display_data"
    },
    {
     "data": {
      "application/vnd.jupyter.widget-view+json": {
       "model_id": "62ce1ab46c8344949bdcc802684c9e74",
       "version_major": 2,
       "version_minor": 0
      },
      "text/plain": [
       "Validation: 0it [00:00, ?it/s]"
      ]
     },
     "metadata": {},
     "output_type": "display_data"
    },
    {
     "data": {
      "application/vnd.jupyter.widget-view+json": {
       "model_id": "b9d363e3e3b74b4b91f69e044777a997",
       "version_major": 2,
       "version_minor": 0
      },
      "text/plain": [
       "Validation: 0it [00:00, ?it/s]"
      ]
     },
     "metadata": {},
     "output_type": "display_data"
    },
    {
     "data": {
      "application/vnd.jupyter.widget-view+json": {
       "model_id": "da061bd76dc942e3855e934d97a2ed7f",
       "version_major": 2,
       "version_minor": 0
      },
      "text/plain": [
       "Validation: 0it [00:00, ?it/s]"
      ]
     },
     "metadata": {},
     "output_type": "display_data"
    },
    {
     "data": {
      "application/vnd.jupyter.widget-view+json": {
       "model_id": "76eb26a1391b4918a736a4790c31139f",
       "version_major": 2,
       "version_minor": 0
      },
      "text/plain": [
       "Validation: 0it [00:00, ?it/s]"
      ]
     },
     "metadata": {},
     "output_type": "display_data"
    },
    {
     "data": {
      "application/vnd.jupyter.widget-view+json": {
       "model_id": "e6d92b3071a74061bc7ab8fecd3512b0",
       "version_major": 2,
       "version_minor": 0
      },
      "text/plain": [
       "Validation: 0it [00:00, ?it/s]"
      ]
     },
     "metadata": {},
     "output_type": "display_data"
    },
    {
     "data": {
      "application/vnd.jupyter.widget-view+json": {
       "model_id": "a73a487790c54175af5c707d31934289",
       "version_major": 2,
       "version_minor": 0
      },
      "text/plain": [
       "Validation: 0it [00:00, ?it/s]"
      ]
     },
     "metadata": {},
     "output_type": "display_data"
    },
    {
     "data": {
      "application/vnd.jupyter.widget-view+json": {
       "model_id": "3b1421286440476d8500d8f307041445",
       "version_major": 2,
       "version_minor": 0
      },
      "text/plain": [
       "Validation: 0it [00:00, ?it/s]"
      ]
     },
     "metadata": {},
     "output_type": "display_data"
    },
    {
     "data": {
      "application/vnd.jupyter.widget-view+json": {
       "model_id": "1ca2a6d4034144c4986311bb368529f0",
       "version_major": 2,
       "version_minor": 0
      },
      "text/plain": [
       "Validation: 0it [00:00, ?it/s]"
      ]
     },
     "metadata": {},
     "output_type": "display_data"
    },
    {
     "data": {
      "application/vnd.jupyter.widget-view+json": {
       "model_id": "070a7a8796bd41a6b8691e14d5d211b9",
       "version_major": 2,
       "version_minor": 0
      },
      "text/plain": [
       "Validation: 0it [00:00, ?it/s]"
      ]
     },
     "metadata": {},
     "output_type": "display_data"
    },
    {
     "data": {
      "application/vnd.jupyter.widget-view+json": {
       "model_id": "bc541791e33741dcba48ebf4539cc027",
       "version_major": 2,
       "version_minor": 0
      },
      "text/plain": [
       "Validation: 0it [00:00, ?it/s]"
      ]
     },
     "metadata": {},
     "output_type": "display_data"
    },
    {
     "data": {
      "application/vnd.jupyter.widget-view+json": {
       "model_id": "d76d29e730be48e3ae2cc5b9e1b50112",
       "version_major": 2,
       "version_minor": 0
      },
      "text/plain": [
       "Validation: 0it [00:00, ?it/s]"
      ]
     },
     "metadata": {},
     "output_type": "display_data"
    },
    {
     "data": {
      "application/vnd.jupyter.widget-view+json": {
       "model_id": "36336698c03b40ba8ca81ac3a8927935",
       "version_major": 2,
       "version_minor": 0
      },
      "text/plain": [
       "Validation: 0it [00:00, ?it/s]"
      ]
     },
     "metadata": {},
     "output_type": "display_data"
    },
    {
     "data": {
      "application/vnd.jupyter.widget-view+json": {
       "model_id": "977588839dc54e0aa608d6af1cd44da0",
       "version_major": 2,
       "version_minor": 0
      },
      "text/plain": [
       "Validation: 0it [00:00, ?it/s]"
      ]
     },
     "metadata": {},
     "output_type": "display_data"
    },
    {
     "data": {
      "application/vnd.jupyter.widget-view+json": {
       "model_id": "66a915af98e140dfb01f50cfc56824eb",
       "version_major": 2,
       "version_minor": 0
      },
      "text/plain": [
       "Validation: 0it [00:00, ?it/s]"
      ]
     },
     "metadata": {},
     "output_type": "display_data"
    },
    {
     "data": {
      "application/vnd.jupyter.widget-view+json": {
       "model_id": "8265940072264505ba49616663a154be",
       "version_major": 2,
       "version_minor": 0
      },
      "text/plain": [
       "Validation: 0it [00:00, ?it/s]"
      ]
     },
     "metadata": {},
     "output_type": "display_data"
    },
    {
     "data": {
      "application/vnd.jupyter.widget-view+json": {
       "model_id": "f7a6d62042ab4ba1a3ab7fcd3e192f95",
       "version_major": 2,
       "version_minor": 0
      },
      "text/plain": [
       "Validation: 0it [00:00, ?it/s]"
      ]
     },
     "metadata": {},
     "output_type": "display_data"
    },
    {
     "data": {
      "application/vnd.jupyter.widget-view+json": {
       "model_id": "f9b5d775bed6422883c55e77460cc3ad",
       "version_major": 2,
       "version_minor": 0
      },
      "text/plain": [
       "Validation: 0it [00:00, ?it/s]"
      ]
     },
     "metadata": {},
     "output_type": "display_data"
    },
    {
     "data": {
      "application/vnd.jupyter.widget-view+json": {
       "model_id": "3041b77b54024286a2049925c1941a41",
       "version_major": 2,
       "version_minor": 0
      },
      "text/plain": [
       "Validation: 0it [00:00, ?it/s]"
      ]
     },
     "metadata": {},
     "output_type": "display_data"
    },
    {
     "data": {
      "application/vnd.jupyter.widget-view+json": {
       "model_id": "069b29f6bc0c477598927fbf7bc9cf02",
       "version_major": 2,
       "version_minor": 0
      },
      "text/plain": [
       "Validation: 0it [00:00, ?it/s]"
      ]
     },
     "metadata": {},
     "output_type": "display_data"
    },
    {
     "data": {
      "application/vnd.jupyter.widget-view+json": {
       "model_id": "b6b69ea6b54b4775843feb8c419a0673",
       "version_major": 2,
       "version_minor": 0
      },
      "text/plain": [
       "Validation: 0it [00:00, ?it/s]"
      ]
     },
     "metadata": {},
     "output_type": "display_data"
    },
    {
     "data": {
      "application/vnd.jupyter.widget-view+json": {
       "model_id": "d2bb6be159134c26a705cf98016cf1ce",
       "version_major": 2,
       "version_minor": 0
      },
      "text/plain": [
       "Validation: 0it [00:00, ?it/s]"
      ]
     },
     "metadata": {},
     "output_type": "display_data"
    },
    {
     "data": {
      "application/vnd.jupyter.widget-view+json": {
       "model_id": "28c62de9a97a4fd8ba7dedded4aa3e2c",
       "version_major": 2,
       "version_minor": 0
      },
      "text/plain": [
       "Validation: 0it [00:00, ?it/s]"
      ]
     },
     "metadata": {},
     "output_type": "display_data"
    },
    {
     "data": {
      "application/vnd.jupyter.widget-view+json": {
       "model_id": "8c695f8594424343865aaf27873e51cb",
       "version_major": 2,
       "version_minor": 0
      },
      "text/plain": [
       "Validation: 0it [00:00, ?it/s]"
      ]
     },
     "metadata": {},
     "output_type": "display_data"
    },
    {
     "data": {
      "application/vnd.jupyter.widget-view+json": {
       "model_id": "f0c1bdb9fdd0438d9c6d8ff47d3d01e3",
       "version_major": 2,
       "version_minor": 0
      },
      "text/plain": [
       "Validation: 0it [00:00, ?it/s]"
      ]
     },
     "metadata": {},
     "output_type": "display_data"
    },
    {
     "data": {
      "application/vnd.jupyter.widget-view+json": {
       "model_id": "4fcdfd9e3a474844bad0d0672a495194",
       "version_major": 2,
       "version_minor": 0
      },
      "text/plain": [
       "Validation: 0it [00:00, ?it/s]"
      ]
     },
     "metadata": {},
     "output_type": "display_data"
    },
    {
     "data": {
      "application/vnd.jupyter.widget-view+json": {
       "model_id": "136ae9377fc34a8d97bf3a796b772a93",
       "version_major": 2,
       "version_minor": 0
      },
      "text/plain": [
       "Validation: 0it [00:00, ?it/s]"
      ]
     },
     "metadata": {},
     "output_type": "display_data"
    },
    {
     "data": {
      "application/vnd.jupyter.widget-view+json": {
       "model_id": "2be7a529600e4c11a92d52fff17d0f1a",
       "version_major": 2,
       "version_minor": 0
      },
      "text/plain": [
       "Validation: 0it [00:00, ?it/s]"
      ]
     },
     "metadata": {},
     "output_type": "display_data"
    },
    {
     "data": {
      "application/vnd.jupyter.widget-view+json": {
       "model_id": "174d4a39213444bfa90b720682aaaba9",
       "version_major": 2,
       "version_minor": 0
      },
      "text/plain": [
       "Validation: 0it [00:00, ?it/s]"
      ]
     },
     "metadata": {},
     "output_type": "display_data"
    },
    {
     "data": {
      "application/vnd.jupyter.widget-view+json": {
       "model_id": "7158b9f4e8b2494a93b6bc1c9272452f",
       "version_major": 2,
       "version_minor": 0
      },
      "text/plain": [
       "Validation: 0it [00:00, ?it/s]"
      ]
     },
     "metadata": {},
     "output_type": "display_data"
    },
    {
     "data": {
      "application/vnd.jupyter.widget-view+json": {
       "model_id": "a7413a274ee248bab1b51d3c9657be43",
       "version_major": 2,
       "version_minor": 0
      },
      "text/plain": [
       "Validation: 0it [00:00, ?it/s]"
      ]
     },
     "metadata": {},
     "output_type": "display_data"
    },
    {
     "data": {
      "application/vnd.jupyter.widget-view+json": {
       "model_id": "582d7c5338d6442cae09a5906d0484bd",
       "version_major": 2,
       "version_minor": 0
      },
      "text/plain": [
       "Validation: 0it [00:00, ?it/s]"
      ]
     },
     "metadata": {},
     "output_type": "display_data"
    },
    {
     "data": {
      "application/vnd.jupyter.widget-view+json": {
       "model_id": "db14b9c602d448e9bd4d7344fae58787",
       "version_major": 2,
       "version_minor": 0
      },
      "text/plain": [
       "Validation: 0it [00:00, ?it/s]"
      ]
     },
     "metadata": {},
     "output_type": "display_data"
    },
    {
     "data": {
      "application/vnd.jupyter.widget-view+json": {
       "model_id": "a1ad2dae41ad4601b6d0934cfde23f2d",
       "version_major": 2,
       "version_minor": 0
      },
      "text/plain": [
       "Validation: 0it [00:00, ?it/s]"
      ]
     },
     "metadata": {},
     "output_type": "display_data"
    },
    {
     "data": {
      "application/vnd.jupyter.widget-view+json": {
       "model_id": "32ec7c712d03498e82fd17169b2bf646",
       "version_major": 2,
       "version_minor": 0
      },
      "text/plain": [
       "Validation: 0it [00:00, ?it/s]"
      ]
     },
     "metadata": {},
     "output_type": "display_data"
    },
    {
     "data": {
      "application/vnd.jupyter.widget-view+json": {
       "model_id": "292231cd9e5a4a98932510b6227d6b10",
       "version_major": 2,
       "version_minor": 0
      },
      "text/plain": [
       "Validation: 0it [00:00, ?it/s]"
      ]
     },
     "metadata": {},
     "output_type": "display_data"
    },
    {
     "data": {
      "application/vnd.jupyter.widget-view+json": {
       "model_id": "d3cb166bdea443bfac27edcc68620ac9",
       "version_major": 2,
       "version_minor": 0
      },
      "text/plain": [
       "Validation: 0it [00:00, ?it/s]"
      ]
     },
     "metadata": {},
     "output_type": "display_data"
    },
    {
     "data": {
      "application/vnd.jupyter.widget-view+json": {
       "model_id": "85e6a180ebff44988cff07eeb7d4be3c",
       "version_major": 2,
       "version_minor": 0
      },
      "text/plain": [
       "Validation: 0it [00:00, ?it/s]"
      ]
     },
     "metadata": {},
     "output_type": "display_data"
    },
    {
     "data": {
      "application/vnd.jupyter.widget-view+json": {
       "model_id": "9c3ac30e78034cd58809511a99bf3479",
       "version_major": 2,
       "version_minor": 0
      },
      "text/plain": [
       "Validation: 0it [00:00, ?it/s]"
      ]
     },
     "metadata": {},
     "output_type": "display_data"
    },
    {
     "data": {
      "application/vnd.jupyter.widget-view+json": {
       "model_id": "36115e46582b44d9a27deae9874b02d2",
       "version_major": 2,
       "version_minor": 0
      },
      "text/plain": [
       "Validation: 0it [00:00, ?it/s]"
      ]
     },
     "metadata": {},
     "output_type": "display_data"
    },
    {
     "data": {
      "application/vnd.jupyter.widget-view+json": {
       "model_id": "165a45edde55405c8ec43955e1749d24",
       "version_major": 2,
       "version_minor": 0
      },
      "text/plain": [
       "Validation: 0it [00:00, ?it/s]"
      ]
     },
     "metadata": {},
     "output_type": "display_data"
    },
    {
     "data": {
      "application/vnd.jupyter.widget-view+json": {
       "model_id": "416b6602af694681ab3dda22a559324f",
       "version_major": 2,
       "version_minor": 0
      },
      "text/plain": [
       "Validation: 0it [00:00, ?it/s]"
      ]
     },
     "metadata": {},
     "output_type": "display_data"
    },
    {
     "data": {
      "application/vnd.jupyter.widget-view+json": {
       "model_id": "561c0af99050455d809d152599915f66",
       "version_major": 2,
       "version_minor": 0
      },
      "text/plain": [
       "Validation: 0it [00:00, ?it/s]"
      ]
     },
     "metadata": {},
     "output_type": "display_data"
    },
    {
     "data": {
      "application/vnd.jupyter.widget-view+json": {
       "model_id": "faa956f0d0a54021934783b120c3e60d",
       "version_major": 2,
       "version_minor": 0
      },
      "text/plain": [
       "Validation: 0it [00:00, ?it/s]"
      ]
     },
     "metadata": {},
     "output_type": "display_data"
    },
    {
     "data": {
      "application/vnd.jupyter.widget-view+json": {
       "model_id": "b08ce77dc75c47b5999b93efec0637c8",
       "version_major": 2,
       "version_minor": 0
      },
      "text/plain": [
       "Validation: 0it [00:00, ?it/s]"
      ]
     },
     "metadata": {},
     "output_type": "display_data"
    },
    {
     "data": {
      "application/vnd.jupyter.widget-view+json": {
       "model_id": "c6e373bf31974c679f31b734691e71b1",
       "version_major": 2,
       "version_minor": 0
      },
      "text/plain": [
       "Validation: 0it [00:00, ?it/s]"
      ]
     },
     "metadata": {},
     "output_type": "display_data"
    },
    {
     "data": {
      "application/vnd.jupyter.widget-view+json": {
       "model_id": "60462821a1f64929892f2016912013ba",
       "version_major": 2,
       "version_minor": 0
      },
      "text/plain": [
       "Validation: 0it [00:00, ?it/s]"
      ]
     },
     "metadata": {},
     "output_type": "display_data"
    },
    {
     "data": {
      "application/vnd.jupyter.widget-view+json": {
       "model_id": "1905f814bc3c4fdf9f5efe435ee7a268",
       "version_major": 2,
       "version_minor": 0
      },
      "text/plain": [
       "Validation: 0it [00:00, ?it/s]"
      ]
     },
     "metadata": {},
     "output_type": "display_data"
    },
    {
     "data": {
      "application/vnd.jupyter.widget-view+json": {
       "model_id": "358e2013d9814e2985d381e3600ab5f6",
       "version_major": 2,
       "version_minor": 0
      },
      "text/plain": [
       "Validation: 0it [00:00, ?it/s]"
      ]
     },
     "metadata": {},
     "output_type": "display_data"
    },
    {
     "data": {
      "application/vnd.jupyter.widget-view+json": {
       "model_id": "98987a8d72b14d1fa5f83eff8e9a1232",
       "version_major": 2,
       "version_minor": 0
      },
      "text/plain": [
       "Validation: 0it [00:00, ?it/s]"
      ]
     },
     "metadata": {},
     "output_type": "display_data"
    },
    {
     "data": {
      "application/vnd.jupyter.widget-view+json": {
       "model_id": "2e680b62b4c44da4b301e1d45ece80f4",
       "version_major": 2,
       "version_minor": 0
      },
      "text/plain": [
       "Validation: 0it [00:00, ?it/s]"
      ]
     },
     "metadata": {},
     "output_type": "display_data"
    },
    {
     "data": {
      "application/vnd.jupyter.widget-view+json": {
       "model_id": "5e61dd30d0ea4de1ae60cf69d17df762",
       "version_major": 2,
       "version_minor": 0
      },
      "text/plain": [
       "Validation: 0it [00:00, ?it/s]"
      ]
     },
     "metadata": {},
     "output_type": "display_data"
    },
    {
     "data": {
      "application/vnd.jupyter.widget-view+json": {
       "model_id": "1d3904e85c834425b3496cf2e1d42412",
       "version_major": 2,
       "version_minor": 0
      },
      "text/plain": [
       "Validation: 0it [00:00, ?it/s]"
      ]
     },
     "metadata": {},
     "output_type": "display_data"
    },
    {
     "data": {
      "application/vnd.jupyter.widget-view+json": {
       "model_id": "bfaff5d28f0f4540ad2afd73e1e327c6",
       "version_major": 2,
       "version_minor": 0
      },
      "text/plain": [
       "Validation: 0it [00:00, ?it/s]"
      ]
     },
     "metadata": {},
     "output_type": "display_data"
    },
    {
     "data": {
      "application/vnd.jupyter.widget-view+json": {
       "model_id": "f7e56c1d104341fa99338dd91c9f07ad",
       "version_major": 2,
       "version_minor": 0
      },
      "text/plain": [
       "Validation: 0it [00:00, ?it/s]"
      ]
     },
     "metadata": {},
     "output_type": "display_data"
    },
    {
     "data": {
      "application/vnd.jupyter.widget-view+json": {
       "model_id": "fe772649654e45abbc142ed5e5e96c7c",
       "version_major": 2,
       "version_minor": 0
      },
      "text/plain": [
       "Validation: 0it [00:00, ?it/s]"
      ]
     },
     "metadata": {},
     "output_type": "display_data"
    },
    {
     "data": {
      "application/vnd.jupyter.widget-view+json": {
       "model_id": "e74151f3e1d341b6bbdbeb03817a5f04",
       "version_major": 2,
       "version_minor": 0
      },
      "text/plain": [
       "Validation: 0it [00:00, ?it/s]"
      ]
     },
     "metadata": {},
     "output_type": "display_data"
    },
    {
     "data": {
      "application/vnd.jupyter.widget-view+json": {
       "model_id": "396d0a771c2a45ab998f0252110e2ffe",
       "version_major": 2,
       "version_minor": 0
      },
      "text/plain": [
       "Validation: 0it [00:00, ?it/s]"
      ]
     },
     "metadata": {},
     "output_type": "display_data"
    },
    {
     "data": {
      "application/vnd.jupyter.widget-view+json": {
       "model_id": "443e93346ae4458d97fcdcff5e7a4788",
       "version_major": 2,
       "version_minor": 0
      },
      "text/plain": [
       "Validation: 0it [00:00, ?it/s]"
      ]
     },
     "metadata": {},
     "output_type": "display_data"
    },
    {
     "data": {
      "application/vnd.jupyter.widget-view+json": {
       "model_id": "4694b45c0f5e49f88a8696795e4614a1",
       "version_major": 2,
       "version_minor": 0
      },
      "text/plain": [
       "Validation: 0it [00:00, ?it/s]"
      ]
     },
     "metadata": {},
     "output_type": "display_data"
    },
    {
     "data": {
      "application/vnd.jupyter.widget-view+json": {
       "model_id": "73b1c98e43a147d798f41543c6f7fe37",
       "version_major": 2,
       "version_minor": 0
      },
      "text/plain": [
       "Validation: 0it [00:00, ?it/s]"
      ]
     },
     "metadata": {},
     "output_type": "display_data"
    },
    {
     "data": {
      "application/vnd.jupyter.widget-view+json": {
       "model_id": "b04db1a18a6d4158a7f3f8e306059df1",
       "version_major": 2,
       "version_minor": 0
      },
      "text/plain": [
       "Validation: 0it [00:00, ?it/s]"
      ]
     },
     "metadata": {},
     "output_type": "display_data"
    },
    {
     "data": {
      "application/vnd.jupyter.widget-view+json": {
       "model_id": "1188e8139f794ab3a4935f170dac7451",
       "version_major": 2,
       "version_minor": 0
      },
      "text/plain": [
       "Validation: 0it [00:00, ?it/s]"
      ]
     },
     "metadata": {},
     "output_type": "display_data"
    },
    {
     "data": {
      "application/vnd.jupyter.widget-view+json": {
       "model_id": "a9f79e2a79ac40e6a77124fd10f24dc1",
       "version_major": 2,
       "version_minor": 0
      },
      "text/plain": [
       "Validation: 0it [00:00, ?it/s]"
      ]
     },
     "metadata": {},
     "output_type": "display_data"
    },
    {
     "data": {
      "application/vnd.jupyter.widget-view+json": {
       "model_id": "521fce52a9564b5f9fa6fbafab487915",
       "version_major": 2,
       "version_minor": 0
      },
      "text/plain": [
       "Validation: 0it [00:00, ?it/s]"
      ]
     },
     "metadata": {},
     "output_type": "display_data"
    },
    {
     "data": {
      "application/vnd.jupyter.widget-view+json": {
       "model_id": "c8abf2f38faf4f02bd857ee79749f8ee",
       "version_major": 2,
       "version_minor": 0
      },
      "text/plain": [
       "Validation: 0it [00:00, ?it/s]"
      ]
     },
     "metadata": {},
     "output_type": "display_data"
    },
    {
     "data": {
      "application/vnd.jupyter.widget-view+json": {
       "model_id": "053ae292886244978960c0213030bc50",
       "version_major": 2,
       "version_minor": 0
      },
      "text/plain": [
       "Validation: 0it [00:00, ?it/s]"
      ]
     },
     "metadata": {},
     "output_type": "display_data"
    },
    {
     "data": {
      "application/vnd.jupyter.widget-view+json": {
       "model_id": "44bc444476bc4fd7930996ac00915035",
       "version_major": 2,
       "version_minor": 0
      },
      "text/plain": [
       "Validation: 0it [00:00, ?it/s]"
      ]
     },
     "metadata": {},
     "output_type": "display_data"
    },
    {
     "data": {
      "application/vnd.jupyter.widget-view+json": {
       "model_id": "b317d491345d4f0e9c78b36c4bcee770",
       "version_major": 2,
       "version_minor": 0
      },
      "text/plain": [
       "Validation: 0it [00:00, ?it/s]"
      ]
     },
     "metadata": {},
     "output_type": "display_data"
    },
    {
     "data": {
      "application/vnd.jupyter.widget-view+json": {
       "model_id": "1f19ec3cb1d1442eb10893107d506ee4",
       "version_major": 2,
       "version_minor": 0
      },
      "text/plain": [
       "Validation: 0it [00:00, ?it/s]"
      ]
     },
     "metadata": {},
     "output_type": "display_data"
    },
    {
     "data": {
      "application/vnd.jupyter.widget-view+json": {
       "model_id": "6ab65e276c0243c09f67a1f495e508da",
       "version_major": 2,
       "version_minor": 0
      },
      "text/plain": [
       "Validation: 0it [00:00, ?it/s]"
      ]
     },
     "metadata": {},
     "output_type": "display_data"
    },
    {
     "data": {
      "application/vnd.jupyter.widget-view+json": {
       "model_id": "64dcb076e7c74310a8b0382eed359325",
       "version_major": 2,
       "version_minor": 0
      },
      "text/plain": [
       "Validation: 0it [00:00, ?it/s]"
      ]
     },
     "metadata": {},
     "output_type": "display_data"
    },
    {
     "data": {
      "application/vnd.jupyter.widget-view+json": {
       "model_id": "f016d6918c1545349feb66624a8ef8d0",
       "version_major": 2,
       "version_minor": 0
      },
      "text/plain": [
       "Validation: 0it [00:00, ?it/s]"
      ]
     },
     "metadata": {},
     "output_type": "display_data"
    },
    {
     "data": {
      "text/html": [
       "Waiting for W&B process to finish... <strong style=\"color:green\">(success).</strong>"
      ],
      "text/plain": [
       "<IPython.core.display.HTML object>"
      ]
     },
     "metadata": {},
     "output_type": "display_data"
    },
    {
     "data": {
      "application/vnd.jupyter.widget-view+json": {
       "model_id": "2e63cde2a92947ff8022ae9892cf7358",
       "version_major": 2,
       "version_minor": 0
      },
      "text/plain": [
       "VBox(children=(Label(value='0.001 MB of 0.464 MB uploaded (0.000 MB deduped)\\r'), FloatProgress(value=0.001577…"
      ]
     },
     "metadata": {},
     "output_type": "display_data"
    },
    {
     "data": {
      "text/html": [
       "<style>\n",
       "    table.wandb td:nth-child(1) { padding: 0 10px; text-align: left ; width: auto;} td:nth-child(2) {text-align: left ; width: 100%}\n",
       "    .wandb-row { display: flex; flex-direction: row; flex-wrap: wrap; justify-content: flex-start; width: 100% }\n",
       "    .wandb-col { display: flex; flex-direction: column; flex-basis: 100%; flex: 1; padding: 10px; }\n",
       "    </style>\n",
       "<div class=\"wandb-row\"><div class=\"wandb-col\"><h3>Run history:</h3><br/><table class=\"wandb\"><tr><td>epoch</td><td>▁▁▁▁▂▂▂▂▂▃▃▃▃▃▃▄▄▄▄▄▅▅▅▅▅▅▆▆▆▆▆▇▇▇▇▇▇███</td></tr><tr><td>lr-AdamW</td><td>█▇▄▂█▇▄▂█▇▄▂█▆▄▁█▆▄▁█▆▄▁█▆▃▁█▆▃▁█▆▃▁█▆▃▁</td></tr><tr><td>train/epoch_F1_0</td><td>▁▆▇▇▇▇▇▇▇▇██▇▇██▇███████████████████████</td></tr><tr><td>train/epoch_F1_1</td><td>▁▅▆▆▆▆▇▇▇▇▇▇▇▇▇▇▇▇▇█▇▇██████████████████</td></tr><tr><td>train/epoch_F1_10</td><td>▁▆▆▆▆▆▇▇▇▇▇▇▇▇▇█▇▇██▇███████████████████</td></tr><tr><td>train/epoch_F1_11</td><td>▁▁▁▁▁▁▂▃▃▄▅▅▅▆▆▆▅▆▆▆▆▆▆▇▆▆▇▇▆▆█▇▆▇▇█▆▇█▇</td></tr><tr><td>train/epoch_F1_12</td><td>▁▄▆▆▆▆▆▇▆▆▇▇▇▇▇▇▇▇▇█▇▇██▇███▇███████████</td></tr><tr><td>train/epoch_F1_13</td><td>▁▁▁▁▁▁▁▁▁▁▁▁▁▄▆▆▅▆▆▇▆▆▆▇▆▇▇▇▆▇██▇▇██▆▇██</td></tr><tr><td>train/epoch_F1_2</td><td>▁▁▁▁▁▁▁▁▁▁▁▁▁▁▁▁▁▁▁▁▁▁▁▁▁▁▁▁▁▁▁▁▁▁▁▁▁▁▁▁</td></tr><tr><td>train/epoch_F1_3</td><td>▁▁▁▁▁▂▅▅▅▅▆▆▅▆▇▇▆▇▇▇▇▇▇█▇▇██▇▇██▇▇██▇███</td></tr><tr><td>train/epoch_F1_4</td><td>▁▃▄▄▄▅▅▅▅▅▆▆▆▆▆▇▆▇▇▇▇▇▇█▇▇██▇███▇███▇███</td></tr><tr><td>train/epoch_F1_5</td><td>▁▁▁▁▁▁▁▁▁▁▂▂▃▄▄▅▄▅▅▆▆▇▇█▇▇▇█▇██▇▇███▇███</td></tr><tr><td>train/epoch_F1_6</td><td>▁▁▁▁▁▁▁▁▁▁▁▁▁▂▄▄▄▄▅▆▆▇▇█▇▇▇▇▇██▇▇███▇█▇█</td></tr><tr><td>train/epoch_F1_7</td><td>▁▁▁▁▁▁▁▁▁▁▁▁▁▁▁▁▁▁▁▁▁▁▁▁▁▁▁▁▁▁▁▁▁▁▁▁▁▁▁▁</td></tr><tr><td>train/epoch_F1_8</td><td>▁▁▁▁▁▁▁▁▁▁▁▁▁▁▁▁▁▁▁▁▁▁▁▁▁▁▁▁▁▁▁▁▁▁▁▁▁▁▁▁</td></tr><tr><td>train/epoch_F1_9</td><td>▁▅▆▆▆▆▇▇▇▇▇▇▇▇▇▇▇▇▇█▇▇██████████████████</td></tr><tr><td>train/epoch_FN_0</td><td>█▃▂▂▂▂▂▁▂▂▁▁▂▁▁▁▁▁▁▁▁▁▁▁▁▁▁▁▁▁▁▁▁▁▁▁▁▁▁▁</td></tr><tr><td>train/epoch_FN_1</td><td>█▅▃▃▃▃▂▂▂▂▂▂▂▂▂▂▂▂▁▁▂▂▁▁▁▁▁▁▁▁▁▁▁▁▁▁▁▁▁▁</td></tr><tr><td>train/epoch_FN_10</td><td>█▃▂▂▂▂▂▂▂▂▂▂▂▂▂▁▂▂▁▁▂▁▁▁▁▁▁▁▁▁▁▁▁▁▁▁▁▁▁▁</td></tr><tr><td>train/epoch_FN_11</td><td>██████▇▇▆▆▄▄▄▃▃▂▃▃▂▂▃▂▂▂▂▂▁▁▂▂▁▁▂▂▁▁▂▂▁▁</td></tr><tr><td>train/epoch_FN_12</td><td>█▆▃▃▃▃▂▂▂▂▂▂▂▂▂▂▂▂▂▁▂▂▁▁▂▁▁▁▂▁▁▁▁▁▁▁▁▁▁▁</td></tr><tr><td>train/epoch_FN_13</td><td>█████████████▅▄▃▄▃▃▂▃▃▂▂▃▂▂▂▃▂▂▁▂▂▁▁▃▁▁▁</td></tr><tr><td>train/epoch_FN_2</td><td>▁▁▁▁▁▁▁▁▁▁▁▁▁▁▁▁▁▁▁▁▁▁▁▁▁▁▁▁▁▁▁▁▁▁▁▁▁▁▁▁</td></tr><tr><td>train/epoch_FN_3</td><td>█████▇▅▄▄▄▃▃▄▃▃▂▃▂▂▂▂▂▂▂▂▂▂▁▂▂▁▁▂▁▁▁▂▁▁▁</td></tr><tr><td>train/epoch_FN_4</td><td>█▆▅▅▅▅▄▄▄▄▃▃▃▃▃▂▃▂▂▂▂▂▂▁▂▂▁▁▂▁▁▁▁▁▁▁▁▁▁▁</td></tr><tr><td>train/epoch_FN_5</td><td>███████████▇▇▅▅▄▅▄▄▃▃▃▂▂▃▂▁▁▂▂▁▁▂▁▁▁▂▂▁▁</td></tr><tr><td>train/epoch_FN_6</td><td>█████████████▇▅▅▄▄▃▃▃▂▂▁▂▂▁▁▁▁▁▁▁▁▁▁▁▁▁▁</td></tr><tr><td>train/epoch_FN_7</td><td>▁▁▁▁▁▁▁▁▁▁▁▁▁▁▁▁▁▁▁▁▁▁▁▁▁▁▁▁▁▁▁▁▁▁▁▁▁▁▁▁</td></tr><tr><td>train/epoch_FN_8</td><td>▁▁▁▁▁▁▁▁▁▁▁▁▁▁▁▁▁▁▁▁▁▁▁▁▁▁▁▁▁▁▁▁▁▁▁▁▁▁▁▁</td></tr><tr><td>train/epoch_FN_9</td><td>█▄▃▃▃▃▂▂▂▂▂▂▂▂▂▁▂▂▁▁▂▂▁▁▁▁▁▁▁▁▁▁▁▁▁▁▁▁▁▁</td></tr><tr><td>train/epoch_FP_0</td><td>▁█▇▇▇▆▆▆▆▆▆▆▆▆▅▅▆▆▅▅▅▆▅▅▅▅▅▅▅▅▅▅▅▅▅▅▅▅▅▅</td></tr><tr><td>train/epoch_FP_1</td><td>▁▅███▇▇▇▇▇▆▆▇▆▆▆▆▆▆▅▆▅▅▅▅▅▅▅▅▅▅▅▅▅▄▄▅▅▄▄</td></tr><tr><td>train/epoch_FP_10</td><td>▁█▆▇▇▆▆▆▆▆▅▅▅▅▄▄▄▅▄▄▄▄▄▄▄▄▄▄▄▄▄▄▄▄▄▄▄▄▄▄</td></tr><tr><td>train/epoch_FP_11</td><td>▁▁▁▁▁▁▂▂▄▄▆▆▇▇▇▇█▇▇▇▆▆▇▆▆▆▆▆▇▆▅▆▆▅▅▅▆▆▅▅</td></tr><tr><td>train/epoch_FP_12</td><td>▁▃████████▇▇█▇▆▆▆▆▆▅▆▅▅▅▅▅▅▅▅▅▅▄▅▅▄▄▅▅▄▄</td></tr><tr><td>train/epoch_FP_13</td><td>▁▁▁▁▁▁▁▁▁▁▁▁▁▄▆▇▇▇█▇▇█▇▆▇▆▆▆▇▇▆▆▆▆▅▅▆▇▅▅</td></tr><tr><td>train/epoch_FP_2</td><td>█▁▁▁▁▁▁▁▁▁▁▁▁▁▁▁▁▁▁▁▁▁▁▁▁▁▁▁▁▁▁▁▁▁▁▁▁▁▁▁</td></tr><tr><td>train/epoch_FP_3</td><td>▁▁▁▁▁▂███▇▇▆▇▆▅▅▆▅▅▅▅▅▅▅▅▅▅▅▅▅▅▄▅▅▄▄▅▅▄▄</td></tr><tr><td>train/epoch_FP_4</td><td>▁▅▇█▇▇▇▇▇▇██▇▅▅▅▆▅▅▅▅▅▅▅▅▅▄▄▅▄▄▄▅▄▄▄▅▄▄▄</td></tr><tr><td>train/epoch_FP_5</td><td>▁▁▁▁▁▁▁▁▁▁▂▂▄▇███▇▇▆▅▄▄▄▄▄▄▄▄▄▄▄▄▄▄▄▄▄▃▄</td></tr><tr><td>train/epoch_FP_6</td><td>▁▁▁▁▁▁▁▁▁▁▁▁▁▃▇▇█▇▇▄▅▄▄▄▄▄▄▄▄▄▄▄▄▄▃▃▄▄▃▃</td></tr><tr><td>train/epoch_FP_7</td><td>█▁▁▁▁▁▁▁▁▁▁▁▁▁▁▁▁▁▁▁▁▁▁▁▁▁▁▁▁▁▁▁▁▁▁▁▁▁▁▁</td></tr><tr><td>train/epoch_FP_8</td><td>█▁▁▁▁▁▁▁▁▁▁▁▁▁▁▁▁▁▁▁▁▁▁▁▁▁▁▁▁▁▁▁▁▁▁▁▁▁▁▁</td></tr><tr><td>train/epoch_FP_9</td><td>▁█▇▇▇▇▆▆▆▆▆▆▆▆▆▆▆▆▆▅▆▅▅▅▅▅▅▅▅▅▅▅▅▅▄▄▅▅▄▄</td></tr><tr><td>train/epoch_IoU_0</td><td>▁▅▆▆▆▆▇▇▇▇▇▇▇▇▇▇▇▇▇█▇▇██████████████████</td></tr><tr><td>train/epoch_IoU_1</td><td>▁▄▅▅▅▅▆▆▆▆▇▇▆▇▇▇▇▇▇▇▇▇▇█▇▇██▇▇██▇███▇███</td></tr><tr><td>train/epoch_IoU_10</td><td>▁▅▆▆▆▆▆▇▆▆▇▇▆▇▇▇▇▇▇▇▇▇▇█▇███▇███▇███▇███</td></tr><tr><td>train/epoch_IoU_11</td><td>▁▁▁▁▁▁▂▂▃▄▅▄▄▅▅▅▅▆▅▅▅▆▆▇▆▆▇▇▆▆█▇▆▇▇█▅▇█▇</td></tr><tr><td>train/epoch_IoU_12</td><td>▁▃▅▅▅▅▆▆▆▆▆▆▆▆▇▇▆▇▇▇▇▇▇▇▇▇██▇▇██▇▇██▇███</td></tr><tr><td>train/epoch_IoU_13</td><td>▁▁▁▁▁▁▁▁▁▁▁▁▁▄▅▅▄▅▆▆▅▆▆▇▆▆▇▇▆▇▇█▆▇██▆▇██</td></tr><tr><td>train/epoch_IoU_2</td><td>▁▁▁▁▁▁▁▁▁▁▁▁▁▁▁▁▁▁▁▁▁▁▁▁▁▁▁▁▁▁▁▁▁▁▁▁▁▁▁▁</td></tr><tr><td>train/epoch_IoU_3</td><td>▁▁▁▁▁▂▄▄▄▄▅▅▅▆▆▆▆▆▆▇▆▆▇▇▇▇▇▇▇▇▇█▇▇██▇▇██</td></tr><tr><td>train/epoch_IoU_4</td><td>▁▃▃▃▃▄▄▄▄▄▅▅▅▅▆▆▆▆▇▇▆▇▇▇▇▇▇█▇▇██▇▇██▇███</td></tr><tr><td>train/epoch_IoU_5</td><td>▁▁▁▁▁▁▁▁▁▁▂▂▂▃▃▄▃▄▄▅▅▆▇▇▆▇▇█▇▇▇▇▇▇██▇▇██</td></tr><tr><td>train/epoch_IoU_6</td><td>▁▁▁▁▁▁▁▁▁▁▁▁▁▂▃▄▄▄▅▆▅▆▇█▆▆▇▇▆█▇▇▇███▇█▇█</td></tr><tr><td>train/epoch_IoU_7</td><td>▁▁▁▁▁▁▁▁▁▁▁▁▁▁▁▁▁▁▁▁▁▁▁▁▁▁▁▁▁▁▁▁▁▁▁▁▁▁▁▁</td></tr><tr><td>train/epoch_IoU_8</td><td>▁▁▁▁▁▁▁▁▁▁▁▁▁▁▁▁▁▁▁▁▁▁▁▁▁▁▁▁▁▁▁▁▁▁▁▁▁▁▁▁</td></tr><tr><td>train/epoch_IoU_9</td><td>▁▄▅▆▅▅▆▆▆▆▇▇▆▇▇▇▇▇▇▇▇▇▇█▇▇██▇▇██▇███▇███</td></tr><tr><td>train/epoch_Precision_0</td><td>▁▅▆▆▆▆▆▇▆▆▇▇▆▇▇▇▇▇▇▇▇▇▇█▇███▇███▇███████</td></tr><tr><td>train/epoch_Precision_1</td><td>▁▆▆▆▆▆▇▇▆▇▇▇▇▇▇▇▇▇▇▇▇▇▇█▇▇██▇███████████</td></tr><tr><td>train/epoch_Precision_10</td><td>▁▆▆▆▆▆▇▇▇▇▇▇▇▇██▇▇██████████████████████</td></tr><tr><td>train/epoch_Precision_11</td><td>▁▁▁▁▁▄▆▆▆▆▆▆▆▆▆▆▆▆▆▆▆▆▆▇▇▇▇▇▇▇█▇▇█▇█▇▇▇▇</td></tr><tr><td>train/epoch_Precision_12</td><td>▁▆▆▆▆▆▆▆▆▆▆▇▆▇▇▇▇▇▇▇▇▇▇█▇▇██▇███████▇███</td></tr><tr><td>train/epoch_Precision_13</td><td>▁▁▁▁▁▁▁▁▁▁▃▄▃▆▆▆▆▆▇▇▆▇▆▇▇▇▇▇▇▇██▇███▇▇██</td></tr><tr><td>train/epoch_Precision_2</td><td>▁▁▁▁▁▁▁▁▁▁▁▁▁▁▁▁▁▁▁▁▁▁▁▁▁▁▁▁▁▁▁▁▁▁▁▁▁▁▁▁</td></tr><tr><td>train/epoch_Precision_3</td><td>▁▁▁▂▂▄▅▅▅▆▆▆▆▇▇▇▇▇▇▇▇▇▇█▇▇██▇▇███▇██▇███</td></tr><tr><td>train/epoch_Precision_4</td><td>▁▅▅▅▅▅▅▅▅▅▆▆▆▇▇▇▇▇▇▇▇▇▇█▇▇██▇███▇███▇███</td></tr><tr><td>train/epoch_Precision_5</td><td>▁▁▁▁▁▁▂▂▂▄▅▅▅▅▅▅▅▆▆▆▆▇▇█▇▇▇█▇███████▇███</td></tr><tr><td>train/epoch_Precision_6</td><td>▁▁▁▁▁▁▁▁▁▁▁▁▂▅▅▅▅▅▆▆▇▇▇█▇▇▇▇▆█▇▇▇███▇█▇█</td></tr><tr><td>train/epoch_Precision_7</td><td>▁▁▁▁▁▁▁▁▁▁▁▁▁▁▁▁▁▁▁▁▁▁▁▁▁▁▁▁▁▁▁▁▁▁▁▁▁▁▁▁</td></tr><tr><td>train/epoch_Precision_8</td><td>▁▁▁▁▁▁▁▁▁▁▁▁▁▁▁▁▁▁▁▁▁▁▁▁▁▁▁▁▁▁▁▁▁▁▁▁▁▁▁▁</td></tr><tr><td>train/epoch_Precision_9</td><td>▁▆▆▆▆▆▇▇▇▇▇▇▇▇▇▇▇▇▇█▇▇██▇███████████████</td></tr><tr><td>train/epoch_Recall_0</td><td>▁▆▇▇▇▇▇█▇▇██▇███████████████████████████</td></tr><tr><td>train/epoch_Recall_1</td><td>▁▄▆▆▆▆▇▇▇▇▇▇▇▇▇█▇▇██▇▇██████████████████</td></tr><tr><td>train/epoch_Recall_10</td><td>▁▆▇▇▇▇▇▇▇▇▇▇▇▇▇█▇▇▇█▇███████████████████</td></tr><tr><td>train/epoch_Recall_11</td><td>▁▁▁▁▁▁▂▂▃▃▅▅▅▆▆▆▅▆▆▆▆▆▆▇▆▆█▇▇▆█▇▆▇▇█▆▇█▇</td></tr><tr><td>train/epoch_Recall_12</td><td>▁▃▆▆▆▆▇▇▇▇▇▇▇▇▇█▇▇▇█▇▇██████████████████</td></tr><tr><td>train/epoch_Recall_13</td><td>▁▁▁▁▁▁▁▁▁▁▁▁▁▃▅▆▅▆▇▇▆▇▆▇▆▇▇▇▆▇▇█▇▇██▆▇██</td></tr><tr><td>train/epoch_Recall_2</td><td>▁▁▁▁▁▁▁▁▁▁▁▁▁▁▁▁▁▁▁▁▁▁▁▁▁▁▁▁▁▁▁▁▁▁▁▁▁▁▁▁</td></tr><tr><td>train/epoch_Recall_3</td><td>▁▁▁▁▁▂▅▅▅▅▆▆▅▆▆▇▆▇▇▇▇▇▇█▇▇██▇▇██▇███▇███</td></tr><tr><td>train/epoch_Recall_4</td><td>▁▃▄▄▄▄▅▅▅▅▆▆▆▆▆▇▆▇▇▇▇▇▇█▇▇██▇███████████</td></tr><tr><td>train/epoch_Recall_5</td><td>▁▁▁▁▁▁▁▁▁▁▁▁▂▄▄▅▄▅▅▆▅▆▇▇▆▇▇█▇▇█▇▇███▇███</td></tr><tr><td>train/epoch_Recall_6</td><td>▁▁▁▁▁▁▁▁▁▁▁▁▁▂▄▄▄▄▆▆▆▇▇█▇▇▇▇▇██▇▇███▇█▇█</td></tr><tr><td>train/epoch_Recall_7</td><td>▁▁▁▁▁▁▁▁▁▁▁▁▁▁▁▁▁▁▁▁▁▁▁▁▁▁▁▁▁▁▁▁▁▁▁▁▁▁▁▁</td></tr><tr><td>train/epoch_Recall_8</td><td>▁▁▁▁▁▁▁▁▁▁▁▁▁▁▁▁▁▁▁▁▁▁▁▁▁▁▁▁▁▁▁▁▁▁▁▁▁▁▁▁</td></tr><tr><td>train/epoch_Recall_9</td><td>▁▅▆▆▆▆▇▇▇▇▇▇▇▇▇█▇▇██▇███████████████████</td></tr><tr><td>train/epoch_TN_0</td><td>█▁▂▂▂▃▃▃▃▂▃▃▃▃▄▄▃▃▄▄▄▄▄▄▄▄▄▄▄▄▄▄▄▄▄▄▄▄▄▄</td></tr><tr><td>train/epoch_TN_1</td><td>█▄▁▁▁▂▂▂▂▂▃▃▂▃▃▃▃▃▃▄▃▄▄▄▄▄▄▄▄▄▄▄▄▄▅▅▄▄▅▅</td></tr><tr><td>train/epoch_TN_10</td><td>█▁▂▂▂▃▃▃▄▃▄▄▄▄▅▅▄▄▅▅▄▅▅▅▅▅▅▅▅▅▅▅▅▅▅▅▄▅▅▅</td></tr><tr><td>train/epoch_TN_11</td><td>██████▇▇▅▅▂▃▁▁▂▂▁▂▂▂▂▂▂▃▃▃▃▃▂▃▃▃▃▃▃▄▃▃▃▄</td></tr><tr><td>train/epoch_TN_12</td><td>█▅▁▁▁▁▁▁▁▁▂▂▁▂▃▃▃▃▃▄▃▄▄▄▄▄▄▄▄▄▄▅▄▄▅▅▄▅▅▅</td></tr><tr><td>train/epoch_TN_13</td><td>█████████████▅▂▂▂▂▁▁▂▁▂▂▂▂▃▃▂▂▃▃▃▃▃▃▃▂▃▄</td></tr><tr><td>train/epoch_TN_2</td><td>▁███████████████████████████████████████</td></tr><tr><td>train/epoch_TN_3</td><td>█████▆▁▁▁▂▂▃▂▃▄▄▃▄▄▄▄▄▄▄▄▄▄▄▄▄▄▅▄▄▅▅▄▄▅▅</td></tr><tr><td>train/epoch_TN_4</td><td>█▄▂▁▂▂▂▂▂▂▁▁▂▄▄▄▃▄▄▄▄▄▄▄▄▄▅▅▄▅▅▅▄▅▅▅▄▅▅▅</td></tr><tr><td>train/epoch_TN_5</td><td>██████████▇▇▅▂▁▁▁▂▂▃▄▅▅▅▅▅▅▅▅▅▅▅▅▅▅▅▅▅▆▅</td></tr><tr><td>train/epoch_TN_6</td><td>███████▇██▇██▆▂▂▁▂▂▄▃▄▅▅▅▅▅▅▅▅▅▅▅▅▅▅▅▅▅▅</td></tr><tr><td>train/epoch_TN_7</td><td>▁███████████████████████████████████████</td></tr><tr><td>train/epoch_TN_8</td><td>▁███████████████████████████████████████</td></tr><tr><td>train/epoch_TN_9</td><td>█▁▂▂▂▂▃▃▃▃▃▃▃▃▃▃▃▃▄▄▄▄▄▄▄▄▄▄▄▄▄▅▄▄▅▅▄▄▅▅</td></tr><tr><td>train/epoch_TP_0</td><td>▁▆▇▇▇▇▇█▇▇██▇███████████████████████████</td></tr><tr><td>train/epoch_TP_1</td><td>▁▄▆▆▆▆▇▇▇▇▇▇▇▇▇█▇▇██▇▇██████████████████</td></tr><tr><td>train/epoch_TP_10</td><td>▁▆▇▇▇▇▇▇▇▇▇▇▇▇▇▇▇▇██▇▇██████████████████</td></tr><tr><td>train/epoch_TP_11</td><td>▁▁▁▁▁▁▂▂▃▃▅▅▅▆▆▇▆▆▆▇▆▇▇▇▇▇██▇▇██▇▇██▇▇██</td></tr><tr><td>train/epoch_TP_12</td><td>▁▃▆▆▆▆▇▇▆▇▇▇▇▇▇█▇▇▇█▇▇██▇███████████████</td></tr><tr><td>train/epoch_TP_13</td><td>▁▁▁▁▁▁▁▁▁▁▁▁▁▄▅▆▅▆▆▇▆▆▇▇▆▇▇▇▆▇▇█▇▇██▆███</td></tr><tr><td>train/epoch_TP_2</td><td>▁▁▁▁▁▁▁▁▁▁▁▁▁▁▁▁▁▁▁▁▁▁▁▁▁▁▁▁▁▁▁▁▁▁▁▁▁▁▁▁</td></tr><tr><td>train/epoch_TP_3</td><td>▁▁▁▁▁▂▅▅▅▅▆▆▅▆▆▇▆▇▇▇▇▇▇▇▇▇▇█▇▇██▇▇██▇███</td></tr><tr><td>train/epoch_TP_4</td><td>▁▃▄▄▄▄▅▅▅▅▆▆▆▆▆▇▆▇▇▇▇▇▇█▇▇██▇███████████</td></tr><tr><td>train/epoch_TP_5</td><td>▁▁▁▁▁▁▁▁▁▁▁▁▂▄▄▅▄▅▅▆▆▆▇▇▆▇██▇███▇███▇███</td></tr><tr><td>train/epoch_TP_6</td><td>▁▁▁▁▁▁▁▁▁▁▁▁▁▂▄▄▄▅▆▆▆▇▇█▇▇██████████▇███</td></tr><tr><td>train/epoch_TP_7</td><td>▁▁▁▁▁▁▁▁▁▁▁▁▁▁▁▁▁▁▁▁▁▁▁▁▁▁▁▁▁▁▁▁▁▁▁▁▁▁▁▁</td></tr><tr><td>train/epoch_TP_8</td><td>▁▁▁▁▁▁▁▁▁▁▁▁▁▁▁▁▁▁▁▁▁▁▁▁▁▁▁▁▁▁▁▁▁▁▁▁▁▁▁▁</td></tr><tr><td>train/epoch_TP_9</td><td>▁▅▆▆▆▆▇▇▇▇▇▇▇▇▇█▇▇██▇▇██████████████████</td></tr><tr><td>train/epoch_loss</td><td>█▃▃▂▃▃▃▃▃▁▄▂▃▄▃▂▂▂▂▁▂▂▂▂▂▂▂▂▂▂▂▁▂▂▁▃▂▂▂▁</td></tr><tr><td>train/iter_F1_0</td><td>▁▄▆█▇▇▇▇▇▇▇▇▇▇▇▇▇▇▇▇▇▇█▇█▇▇▇█▇██▇█▇▇█▇██</td></tr><tr><td>train/iter_F1_1</td><td>▁▅▇▆▆▇▇▇▆▇▇▇▇▇▇▇▇▇▇▇▇████████▇██████▇███</td></tr><tr><td>train/iter_F1_10</td><td>▁▄▆▇▇▇▇▇▇▇▇▇▇▆▇▇▇▇▇▇▆▇█▇▇▇▇▇▇▇██▇█▇▇█▇██</td></tr><tr><td>train/iter_F1_11</td><td>▁▁▁▁▁▁▁▃▂▁▂▁▁▄▆▅▅▇▆▆▆▃▆▆▇▆▆▁▇▅▆▇▄▆▁▇█▆▇▇</td></tr><tr><td>train/iter_F1_12</td><td>▁▄▇▆▆▆▇▇▆▇▇▇▇▇▇▇▇▇▇▇▆▇██▇█▇██▇██████▇███</td></tr><tr><td>train/iter_F1_13</td><td>▁▁▁▁▁▁▁▁▁▁▁▁▁▂▅▆▅▇▇▆▆▇▇▇▆▇▇█▃█▃▇▇▇▇█▄▇██</td></tr><tr><td>train/iter_F1_2</td><td>▁▁▁▁▁▁▁▁▁▁▁▁▁▁▁▁▁▁▁▁▁▁▁▁▁▁▁▁▁▁▁▁▁▁▁▁▁▁▁▁</td></tr><tr><td>train/iter_F1_3</td><td>▁▁▁▁▁▃▆▅▄▆▆▆▆▆▇▇▆▇▇▇▆▇▇█▇█▇█▇▇▇██▇▇█▇███</td></tr><tr><td>train/iter_F1_4</td><td>▁▃▅▃▄▅▆▅▆▆▆▆▅▅▇▇▆▇▇▇▆▇▇██▇▇█▇▇███▇█▇▇██▇</td></tr><tr><td>train/iter_F1_5</td><td>▁▁▁▁▁▁▁▁▁▁▂▃▅▂▄▂▅▇▆▆▅▇▇▇▁███▆▇█▇█▇█▇▇▆██</td></tr><tr><td>train/iter_F1_6</td><td>▁▁▁▁▁▁▁▁▁▁▁▁▁▁▅▆▃▁█▁▆▇▇▇▇█▆▁▆▇██████▁███</td></tr><tr><td>train/iter_F1_7</td><td>▁▁▁▁▁▁▁▁▁▁▁▁▁▁▁▁▁▁▁▁▁▁▁▁▁▁▁▁▁▁▁▁▁▁▁▁▁▁▁▁</td></tr><tr><td>train/iter_F1_8</td><td>▁▁▁▁▁▁▁▁▁▁▁▁▁▁▁▁▁▁▁▁▁▁▁▁▁▁▁▁▁▁▁▁▁▁▁▁▁▁▁▁</td></tr><tr><td>train/iter_F1_9</td><td>▁▅▇▆▆▇▇▇▆▇▇▇▇▇██▇▇▇▇▇█████▇██▇██████▇███</td></tr><tr><td>train/iter_FN_0</td><td>█▂▂▂▃▂▄▃▃▅▂▂▃▂▂▃▃▂▂▁▂▃▂▂▂▁▂▁▃▁▂▂▂▂▂▂▂▂▁▁</td></tr><tr><td>train/iter_FN_1</td><td>█▂▂▃▄▂▃▁▂▂▂▂▂▂▂▂▂▁▁▁▁▂▁▁▃▁▁▁▂▁▁▁▁▁▁▁▁▁▁▁</td></tr><tr><td>train/iter_FN_10</td><td>▇▂▃▃▄▃▄▄▄█▅▃▄▂▂▄▅▂▂▁▂▆▂▂▃▂▂▁▃▂▂▂▂▂▃▁▃▃▁▁</td></tr><tr><td>train/iter_FN_11</td><td>█▂▁▁▂▂█▂▂▁▁▁▁▂▂▂▂▂▂▁▄▂▂▂▁▁▁▁▁▁▁▁▁▂▁▂▁▁▁▁</td></tr><tr><td>train/iter_FN_12</td><td>█▃▃▅▇▃▃▂▃▃▂▂▂▃▂▃▃▁▂▂▁▃▁▁▃▂▂▁▂▁▂▁▁▁▁▁▂▂▁▁</td></tr><tr><td>train/iter_FN_13</td><td>█▂▁▂▂▂▃▄▂▃▄▂▃▃▂▁▁▂▂▁▃▁▂▂▃▁▁▁▁▁▁▁▁▂▁▂▁▁▁▁</td></tr><tr><td>train/iter_FN_2</td><td>▁▁▁▁▁▁▁▁▁▁▁▁▁▁▁▁▁▁▁▁▁▁▁▁▁▁▁▁▁▁▁▁▁▁▁▁▁▁▁▁</td></tr><tr><td>train/iter_FN_3</td><td>▆▄▃▇█▃▃▂▃▂▂▂▂▄▂▂▃▁▂▁▂▂▂▁▃▁▁▁▁▁▁▁▂▁▁▁▁▁▁▁</td></tr><tr><td>train/iter_FN_4</td><td>█▃▅▅▄▃▇▅▄▅▄▃▂▃▃▃▂▂▂▂▄▃▁▂▃▂▂▂▃▁▃▂▁▂▁▂▃▃▁▁</td></tr><tr><td>train/iter_FN_5</td><td>▅▅▂▃▅█▄▂▄▅▇▆█▃▃▃▄▂▃▃▃▂▃▂▁▁▂▁▄▁▁▁▁▃▁▂▂▁▁▁</td></tr><tr><td>train/iter_FN_6</td><td>▅▁▃▅█▃▂▄▁▄▃▃▃▄▃▄▁▁▂▁▁▂▂▁▃▁▁▁▁▁▁▁▁▂▁▁▁▁▁▁</td></tr><tr><td>train/iter_FN_7</td><td>▁▁▁▁▁▁▁▁▁▁▁▁▁▁▁▁▁▁▁▁▁▁▁▁▁▁▁▁▁▁▁▁▁▁▁▁▁▁▁▁</td></tr><tr><td>train/iter_FN_8</td><td>▁▁▁▁▁▁▁▁▁▁▁▁▁▁▁▁▁▁▁▁▁▁▁▁▁▁▁▁▁▁▁▁▁▁▁▁▁▁▁▁</td></tr><tr><td>train/iter_FN_9</td><td>█▂▂▃▄▂▃▂▂▂▂▂▂▂▂▂▂▁▁▁▁▂▁▁▃▁▁▁▂▁▁▁▁▁▁▁▁▁▁▁</td></tr><tr><td>train/iter_FP_0</td><td>▁▇▆▃▆▄▆▄▅▆▅▄▃▄▄█▃▃▄▃▅█▃▃▅▃▃▂▃▂▃▄▂▄▄▃▅▄▂▁</td></tr><tr><td>train/iter_FP_1</td><td>▁█▆▇▆▆▅▇▆█▆▆█▇▅█▆▅▆▄▅▆▅▄▆▃▄▄▅▄▄▄▄▅▄▃▅▄▄▄</td></tr><tr><td>train/iter_FP_10</td><td>▁█▆▃▆▄▆▃▅▆▅▄▃▅▄█▃▃▄▂▄▇▂▃▅▃▃▂▅▂▄▄▂▄▄▃▆▅▃▁</td></tr><tr><td>train/iter_FP_11</td><td>▁▁▁▁▁▁▁▃▁▁█▂▁▂▄▁▄▅▃▃▆▂▄▆▂▁▅▁▁▂▁▂▂▄▁▄▁▁▁▂</td></tr><tr><td>train/iter_FP_12</td><td>▁▆▅▅▅▆▅▇▅▇▆▅█▇▅▆▅▄▅▃▅▅▄▄▅▃▄▄▅▄▄▄▄▅▃▂▅▄▄▃</td></tr><tr><td>train/iter_FP_13</td><td>▁▁▁▁▁▁▁▁▁▁▁▁▁▁▅▆▇▇█▆█▃█▆▄▂▄▂▁▂▂▃▂▄▃▆▃▃▂▂</td></tr><tr><td>train/iter_FP_2</td><td>▁▁▁▁▁▁▁▁▁▁▁▁▁▁▁▁▁▁▁▁▁▁▁▁▁▁▁▁▁▁▁▁▁▁▁▁▁▁▁▁</td></tr><tr><td>train/iter_FP_3</td><td>▁▁▁▁▁▂▂▇▄█▅▆▄▄▃▄▅▃▄▃▄▄▄▃▄▃▃▃▄▄▃▃▃▄▂▂▄▂▃▄</td></tr><tr><td>train/iter_FP_4</td><td>▁▄▄▇██▅▅▅▇▇▆█▅▄▇▅▄▅▃▃▆▄▄▄▃▃▃▃▃▅▃▃▄▃▃▅▄▂▂</td></tr><tr><td>train/iter_FP_5</td><td>▁▁▁▁▁▁▁▁▁▁▁▁▂▅▆█▂▂▅▃▂▂▃▂▃▁▃▁▂▂▁▂▁▃▂▂▃▂▂▂</td></tr><tr><td>train/iter_FP_6</td><td>▁▁▁▁▁▁▁▁▁▁▁▁▁▁▃▃▅▄▂▂█▂▃▁▇▂▂▁▄▁▂▃▁▄▂▃▁▃▄▂</td></tr><tr><td>train/iter_FP_7</td><td>▁▁▁▁▁▁▁▁▁▁▁▁▁▁▁▁▁▁▁▁▁▁▁▁▁▁▁▁▁▁▁▁▁▁▁▁▁▁▁▁</td></tr><tr><td>train/iter_FP_8</td><td>▁▁▁▁▁▁▁▁▁▁▁▁▁▁▁▁▁▁▁▁▁▁▁▁▁▁▁▁▁▁▁▁▁▁▁▁▁▁▁▁</td></tr><tr><td>train/iter_FP_9</td><td>▁█▆▆▆▆▅▇▆▇▅▆█▆▅█▆▅▆▄▆▆▅▄▆▃▄▄▅▄▄▄▄▅▄▃▅▄▄▄</td></tr><tr><td>train/iter_IoU_0</td><td>▁▃▅▇▆▇▆▆▆▇▇▇▇▆▇▇▇▇▇▇▆▇█▇▇▇▇▇▇▆▇▇▇▇▇▆▇▇██</td></tr><tr><td>train/iter_IoU_1</td><td>▁▄▆▅▅▆▇▆▅▇▇▇▆▆▇▇▆▇▇▇▇▇▇█▇▇▇▇█▇████▇█▇███</td></tr><tr><td>train/iter_IoU_10</td><td>▁▃▅▇▆▆▆▆▆▇▆▇▆▆▇▇▆▇▇▇▅▆█▇▇▇▇▇▇▆▇▇▇▇▆▆▇▇▇█</td></tr><tr><td>train/iter_IoU_11</td><td>▁▁▁▁▁▁▁▂▂▁▂▁▁▃▆▄▄▆▅▅▅▂▅▆▆▅▆▁▆▄▆▆▃▆▁▆█▅▆▆</td></tr><tr><td>train/iter_IoU_12</td><td>▁▃▆▅▅▆▆▆▅▆▆▇▆▆▇▇▆▆▇▇▆▇▇▇▇▇▇▇█▇███▇▇█▇███</td></tr><tr><td>train/iter_IoU_13</td><td>▁▁▁▁▁▁▁▁▁▁▁▁▁▁▄▅▄▆▆▅▆▇▆▆▅▇▇█▂█▂▇▇▆▆█▃▇██</td></tr><tr><td>train/iter_IoU_2</td><td>▁▁▁▁▁▁▁▁▁▁▁▁▁▁▁▁▁▁▁▁▁▁▁▁▁▁▁▁▁▁▁▁▁▁▁▁▁▁▁▁</td></tr><tr><td>train/iter_IoU_3</td><td>▁▁▁▁▁▂▅▄▃▅▅▅▅▅▇▆▆▇▇▆▅▆▆█▇█▇▇▇▆▇█▇▇▇█▆███</td></tr><tr><td>train/iter_IoU_4</td><td>▁▂▄▃▃▄▅▅▅▅▅▅▄▄▆▇▆▇▆▇▆▇▆█▇▆▇▇▇▆▇██▇█▇▆▇█▇</td></tr><tr><td>train/iter_IoU_5</td><td>▁▁▁▁▁▁▁▁▁▁▁▂▄▂▃▂▄▆▅▅▄▆▇▆▁▇▇█▅▇█▇█▆█▇▇▆▇█</td></tr><tr><td>train/iter_IoU_6</td><td>▁▁▁▁▁▁▁▁▁▁▁▁▁▁▄▅▂▁▇▁▅▇▇▆▇█▅▁▅▇██▇▇▇█▁▇██</td></tr><tr><td>train/iter_IoU_7</td><td>▁▁▁▁▁▁▁▁▁▁▁▁▁▁▁▁▁▁▁▁▁▁▁▁▁▁▁▁▁▁▁▁▁▁▁▁▁▁▁▁</td></tr><tr><td>train/iter_IoU_8</td><td>▁▁▁▁▁▁▁▁▁▁▁▁▁▁▁▁▁▁▁▁▁▁▁▁▁▁▁▁▁▁▁▁▁▁▁▁▁▁▁▁</td></tr><tr><td>train/iter_IoU_9</td><td>▁▄▆▅▅▆▇▇▅▇▇▇▆▆▇▇▆▇▇▇▇▇▇█▇▇▇▇█▇████▇█▇███</td></tr><tr><td>train/iter_Precision_0</td><td>▅▁▄▇▆▆▆▆▆▇▆▇▇▅▆▇█▇▆▆▆▆█▇▇▆▇▆█▆▇▇█▇▆▆▇▇▇█</td></tr><tr><td>train/iter_Precision_1</td><td>▁▂▅▆▆▅▇▆▅▆▇▆▅▆▇▇▆▆▇▆▆▇▇▇█▇▇▇█▆███▇▇█▇███</td></tr><tr><td>train/iter_Precision_10</td><td>▁▃▅█▆▇▆▇▆▇▇▇▇▆▇▇█▇▇▇▅▇█▇▇▇▇▇▇▇▇▇▇▇▇▆▇▇▇█</td></tr><tr><td>train/iter_Precision_11</td><td>▁▁▁▁▁▂▇▃▄▁▂▁▁▅▆▇▅▅▅▅▆▃▅▅▇▅▅▁█▄▅▆▄▅▂▆▇▆▆▆</td></tr><tr><td>train/iter_Precision_12</td><td>▁▄▇▇▇▆▇▆▆▇▆▇▆▆▇▇▇▇▇▇▆█▇▇██▇▇█▇███▇██▇███</td></tr><tr><td>train/iter_Precision_13</td><td>▁▁▁▁▁▁▁▁▁▁█▁█▄▅▄▃▅▅▄▆▆▅▆▆▅▆▆▇▆▂▆▇▆▅▆▃▆▆▆</td></tr><tr><td>train/iter_Precision_2</td><td>▁▁▁▁▁▁▁▁▁▁▁▁▁▁▁▁▁▁▁▁▁▁▁▁▁▁▁▁▁▁▁▁▁▁▁▁▁▁▁▁</td></tr><tr><td>train/iter_Precision_3</td><td>▁▁▁▂▁▅▇▄▅▅▅▅▆▇▇▇▇▇▇▇▅▇▇██▇▇▇▇▇▇██▇▇█▇███</td></tr><tr><td>train/iter_Precision_4</td><td>▁▃▆▄▄▄▇▆▆▇▆▆▄▅▇▇▆▇▇▇▇▇▆██▇█▇█▆███▇█▇▇██▇</td></tr><tr><td>train/iter_Precision_5</td><td>▁▁▁▁▁▁▁▁▂▁██▇▂▃▂▆▆▅▆▅▇▇▆▁▆▇▇█▆▇▆▇▇▇▇▆▅▆▇</td></tr><tr><td>train/iter_Precision_6</td><td>▁▁▁▁▁▁▁▁▁▁▁▁▁▃▆█▂▁█▁▅██▇▇█▅▁▅▇████▇█▁▇█▇</td></tr><tr><td>train/iter_Precision_7</td><td>▁▁▁▁▁▁▁▁▁▁▁▁▁▁▁▁▁▁▁▁▁▁▁▁▁▁▁▁▁▁▁▁▁▁▁▁▁▁▁▁</td></tr><tr><td>train/iter_Precision_8</td><td>▁▁▁▁▁▁▁▁▁▁▁▁▁▁▁▁▁▁▁▁▁▁▁▁▁▁▁▁▁▁▁▁▁▁▁▁▁▁▁▁</td></tr><tr><td>train/iter_Precision_9</td><td>█▁▄▅▅▅▆▅▄▅▆▅▄▅▆▆▅▅▆▅▅▆▆▆▇▆▆▆▇▅▇▇▇▆▆▇▆▇▆▆</td></tr><tr><td>train/iter_Recall_0</td><td>▁▇▇▇▇▇▇▇▇▇▇█▇▇██▇██▇▇▇██████▇▇██▇█▇▇████</td></tr><tr><td>train/iter_Recall_1</td><td>▁▅▇▆▅▇▇▇▆▇▇▇▇▇▇█▇██▇▇▇██▇▇██████████▇███</td></tr><tr><td>train/iter_Recall_10</td><td>▁▆▇▇▇▇▇▆▇▇▆▇▇▇██▆▇█▇▇▇█▇█▇▇▇█▇██▇█▇▇████</td></tr><tr><td>train/iter_Recall_11</td><td>▁▁▁▁▁▁▁▃▂▁▅▁▁▃▇▄▅▇▆▇▅▃▇▇▆▆▇▁▆▇▇▇▄▇▁▇█▆▆█</td></tr><tr><td>train/iter_Recall_12</td><td>▁▄▆▅▅▆▆▇▆▇▇▇▇▇▇▇▆▇▇▇▇▇██▇▇▇███▇█████▇███</td></tr><tr><td>train/iter_Recall_13</td><td>▁▁▁▁▁▁▁▁▁▁▁▁▁▁▄▆█▇▇▇▅▆▆▆▅▇▇▇▂█▅▇▆▆▇▇▅▇▇▇</td></tr><tr><td>train/iter_Recall_2</td><td>▁▁▁▁▁▁▁▁▁▁▁▁▁▁▁▁▁▁▁▁▁▁▁▁▁▁▁▁▁▁▁▁▁▁▁▁▁▁▁▁</td></tr><tr><td>train/iter_Recall_3</td><td>▁▁▁▁▁▂▅▅▃▆▆▇▅▅▇▆▆▇▇▇▆▆▇█▆████▇▇█▇▇▇█▇▇██</td></tr><tr><td>train/iter_Recall_4</td><td>▁▃▄▃▄▆▅▅▆▆▆▆▆▆▇▇▇▇▇▇▆▇██▇▇▇█▇▇▇████▇▇▇██</td></tr><tr><td>train/iter_Recall_5</td><td>▁▁▁▁▁▁▁▁▁▁▁▂▃▂▄▃▄▆▆▅▄▆▇▆▁█▇▇▅██▇▇▆█▇▇▇██</td></tr><tr><td>train/iter_Recall_6</td><td>▁▁▁▁▁▁▁▁▁▁▁▁▁▁▄▅▅▁▇▁█▆▇▆▇█▇▁████▇▇██▁███</td></tr><tr><td>train/iter_Recall_7</td><td>▁▁▁▁▁▁▁▁▁▁▁▁▁▁▁▁▁▁▁▁▁▁▁▁▁▁▁▁▁▁▁▁▁▁▁▁▁▁▁▁</td></tr><tr><td>train/iter_Recall_8</td><td>▁▁▁▁▁▁▁▁▁▁▁▁▁▁▁▁▁▁▁▁▁▁▁▁▁▁▁▁▁▁▁▁▁▁▁▁▁▁▁▁</td></tr><tr><td>train/iter_Recall_9</td><td>▁▅▇▆▅▇▆▇▆▇▇▇▇▇▇█▇██▇▇▇██▇▇██████████▇███</td></tr><tr><td>train/iter_TN_0</td><td>▇▇▆▅▅▆▄▆▅▁▅▅▆▇▆▂▅▆▆▇▆▂▆▆▄▇▆█▅█▆▆█▅▆▇▄▅▇█</td></tr><tr><td>train/iter_TN_1</td><td>▅▇▆▄▂▆▄▅▆▂▅▅▄▄▅▁▅▇▅█▆▃▅▆▁█▇█▄█▅▆▇▅██▆▆▆▇</td></tr><tr><td>train/iter_TN_10</td><td>█▇▆▅▅▆▅▆▅▁▅▅▆▇▆▂▆▇▆█▇▃▆▇▄▇▇█▅█▅▆█▆▆█▄▅▇█</td></tr><tr><td>train/iter_TN_11</td><td>▃▇███▇▂▆▇█▅██▆▅▇▅▄▆▇▁▇▅▄▇█▄██▇█▇▇▅█▃█▇█▇</td></tr><tr><td>train/iter_TN_12</td><td>▇▆▅▃▂▅▄▄▅▂▅▄▄▃▅▁▄▇▅▇▇▃▆▆▂▆▆▇▃▇▄▅▆▅▇█▄▅▅▆</td></tr><tr><td>train/iter_TN_13</td><td>▁▇██▇▇▆▆▇▆▅█▇▆▅▆▆▄▄▆▁▆▂▄▄█▆▇█▇█▇▇▅▇▃█▇▇▇</td></tr><tr><td>train/iter_TN_2</td><td>▁▁▁▁▁▁▁▁▁▁▁▁▁▁▁▁▁▁▁▁▁▁▁▁▁▁▁▁▁▁▁▁▁▁▁▁▁▁▁▁</td></tr><tr><td>train/iter_TN_3</td><td>▄▇█▃▁▇▆▄▅▁▅▄▅▁▄▂▁█▃▇▇▅▄▅▁▇▇▆▄▅▆▄▄▅██▆▆▄▃</td></tr><tr><td>train/iter_TN_4</td><td>▆▇▅▄▄▄▂▃▄▁▃▄▅▅▅▁▅▅▅▇▅▂▆▅▃▆▅▆▄▇▂▆▅▆▆▆▄▃▇█</td></tr><tr><td>train/iter_TN_5</td><td>▆▆▇▇▆▄▇█▆▆▅▅▁▅▄▃▅▆▃▅▅▅▁▆▇█▃▇▄▇█▆█▃▆▄▄▇▇▅</td></tr><tr><td>train/iter_TN_6</td><td>▆█▇▆▄▇▇▆█▇▇▇▇▆▅▄▇▇▆█▅▆▆█▁▆▇█▆█▇▆█▄▇▆█▆▄▇</td></tr><tr><td>train/iter_TN_7</td><td>▁▁▁▁▁▁▁▁▁▁▁▁▁▁▁▁▁▁▁▁▁▁▁▁▁▁▁▁▁▁▁▁▁▁▁▁▁▁▁▁</td></tr><tr><td>train/iter_TN_8</td><td>▁▁▁▁▁▁▁▁▁▁▁▁▁▁▁▁▁▁▁▁▁▁▁▁▁▁▁▁▁▁▁▁▁▁▁▁▁▁▁▁</td></tr><tr><td>train/iter_TN_9</td><td>▅▇▆▄▂▆▄▅▆▂▅▅▄▄▅▁▄▇▅█▆▃▅▆▁█▇█▄█▅▆▇▅██▆▆▆▇</td></tr><tr><td>train/iter_TP_0</td><td>▁▂▃▄▄▃▅▃▄█▄▄▃▃▄▇▄▃▄▂▃▆▄▃▅▃▃▂▅▂▄▄▂▄▃▂▆▄▂▂</td></tr><tr><td>train/iter_TP_1</td><td>▁▃▄▅▅▄▆▅▄▇▅▅▅▅▆█▅▄▆▄▅▇▆▅█▄▅▄▆▄▆▅▅▆▄▄▅▆▅▅</td></tr><tr><td>train/iter_TP_10</td><td>▁▂▃▄▄▃▄▃▄█▄▄▄▂▃▇▄▃▃▂▂▆▄▃▅▃▃▂▅▂▄▄▂▄▃▂▆▄▃▂</td></tr><tr><td>train/iter_TP_11</td><td>▁▁▁▁▁▁▁▂▁▁▂▁▁▂▅▂▄▆▃▂█▂▄▆▃▁▆▁▁▂▁▂▁▄▁█▂▂▁▂</td></tr><tr><td>train/iter_TP_12</td><td>▁▂▄▅▅▄▆▅▄▇▅▆▅▅▅█▅▃▅▃▃▇▅▅█▄▄▄▇▄▆▆▅▅▄▃▆▆▅▅</td></tr><tr><td>train/iter_TP_13</td><td>▁▁▁▁▁▁▁▁▁▁▁▁▁▁▃▃▂▅▅▃▇▄▆▅▄▁▄▂▁▃▁▃▂▅▂█▁▂▂▃</td></tr><tr><td>train/iter_TP_2</td><td>▁▁▁▁▁▁▁▁▁▁▁▁▁▁▁▁▁▁▁▁▁▁▁▁▁▁▁▁▁▁▁▁▁▁▁▁▁▁▁▁</td></tr><tr><td>train/iter_TP_3</td><td>▁▁▁▁▁▂▄▃▂▆▄▅▄▆▆▇▇▄▇▄▃▅▅▆█▄▄▅▆▅▅▇▇▅▃▄▅▅▇█</td></tr><tr><td>train/iter_TP_4</td><td>▁▁▃▂▂▃▆▄▄▆▅▄▃▃▄█▃▄▄▃▄█▃▅▆▄▄▄▆▂▇▄▅▄▄▄▅▇▃▂</td></tr><tr><td>train/iter_TP_5</td><td>▁▁▁▁▁▁▁▁▁▁▁▂▄▁▂▂▃▃▅▃▂▄█▃▁▂▇▂▄▂▁▃▁▆▄▅▆▂▃▅</td></tr><tr><td>train/iter_TP_6</td><td>▁▁▁▁▁▁▁▁▁▁▁▁▁▁▂▄▁▁▃▁▄▃▃▁█▄▁▁▂▁▃▃▁▆▂▄▁▃▆▃</td></tr><tr><td>train/iter_TP_7</td><td>▁▁▁▁▁▁▁▁▁▁▁▁▁▁▁▁▁▁▁▁▁▁▁▁▁▁▁▁▁▁▁▁▁▁▁▁▁▁▁▁</td></tr><tr><td>train/iter_TP_8</td><td>▁▁▁▁▁▁▁▁▁▁▁▁▁▁▁▁▁▁▁▁▁▁▁▁▁▁▁▁▁▁▁▁▁▁▁▁▁▁▁▁</td></tr><tr><td>train/iter_TP_9</td><td>▁▃▄▅▅▄▆▅▄▇▅▅▅▅▆█▅▄▆▄▅▇▆▅█▄▄▄▆▄▆▅▅▆▄▄▅▆▅▅</td></tr><tr><td>train/iter_loss</td><td>█▃▂▂▆▆▆▆▂▅▆▆▂▆▆▅▆▁▆▂▆▅▅▆▅▆▆▁▅▆▅▅▆▅▆▆▁▅▆▆</td></tr><tr><td>train/mean_F1</td><td>▁▃▄▄▄▄▅▅▅▅▅▅▅▆▆▇▆▇▇▇▇▇▇█▇▇██▇███▇███▇███</td></tr><tr><td>train/mean_IoU</td><td>▁▃▃▃▃▄▄▄▄▄▅▅▅▅▆▆▆▆▆▇▆▇▇▇▇▇▇█▇▇██▇███▇███</td></tr><tr><td>trainer/global_step</td><td>▁▁▁▂▂▂▂▂▂▃▃▃▃▃▄▄▄▄▄▄▅▅▅▅▅▅▆▆▆▆▆▇▇▇▇▇▇███</td></tr><tr><td>val/epoch_F1_0</td><td>▁▇▆▇▇▇██▇▇██▇███▇███████████████████████</td></tr><tr><td>val/epoch_F1_1</td><td>▁▆▇▇▇▇██████▇███████████████████████▇███</td></tr><tr><td>val/epoch_F1_10</td><td>▁▆▆▇▇▇▇▇▇▇▇█▇███████████████▇███▇███▇███</td></tr><tr><td>val/epoch_F1_11</td><td>▁▁▁▁▁▁▃▄▆▆▄▇▄█▆█▆▇▇█▇▅▇█▆█▇▇▇▆▇▇▇▇▇▇▆▇▇▇</td></tr><tr><td>val/epoch_F1_12</td><td>▁▆▆▇▇▇▇▇▇▇▇█▇███████████████████████████</td></tr><tr><td>val/epoch_F1_13</td><td>▁▁▁▁▁▁▁▁▁▁▁▁▁▆▆█▆▇██▇▇▇█▇███▇███▇▇██▇▇██</td></tr><tr><td>val/epoch_F1_2</td><td>▁▁▁▁▁▁▁▁▁▁▁▁▁▁▁▁▁▁▁▁▁▁▁▁▁▁▁▁▁▁▁▁▁▁▁▁▁▁▁▁</td></tr><tr><td>val/epoch_F1_3</td><td>▁▁▁▁▁▂▆▇▄▆▇▇▆▇▇▇▇█▇█▇███▇███▇███▇███▇▇██</td></tr><tr><td>val/epoch_F1_4</td><td>▁▅▄▅▄▅▆▇▆▇▇▇▆▇██▇████▇██▇███████████▇███</td></tr><tr><td>val/epoch_F1_5</td><td>▁▁▁▁▁▁▁▁▁▁▁▂▃▄▄▄▄▅▅▆▆▇██▇▇██▇████▇██▇███</td></tr><tr><td>val/epoch_F1_6</td><td>▁▁▁▁▁▁▁▁▁▁▁▁▁▄▅▆▄▇▇▇▆▇██▇███████▇███████</td></tr><tr><td>val/epoch_F1_7</td><td>▁▁▁▁▁▁▁▁▁▁▁▁▁▁▁▁▁▁▁▁▁▁▁▁▁▁▁▁▁▁▁▁▁▁▁▁▁▁▁▁</td></tr><tr><td>val/epoch_F1_8</td><td>▁▁▁▁▁▁▁▁▁▁▁▁▁▁▁▁▁▁▁▁▁▁▁▁▁▁▁▁▁▁▁▁▁▁▁▁▁▁▁▁</td></tr><tr><td>val/epoch_F1_9</td><td>▁▆▆▇▇▇██████▇███████████████████████▇███</td></tr><tr><td>val/epoch_FN_0</td><td>█▂▄▃▃▂▂▂▁▁▂▂▄▂▂▁▁▂▂▁▁▂▂▁▂▁▁▁▁▁▂▁▁▁▁▁▁▂▁▁</td></tr><tr><td>val/epoch_FN_1</td><td>█▄▄▃▂▄▂▂▂▂▂▂▃▁▂▂▁▂▂▁▁▂▂▁▂▁▁▂▁▁▂▁▁▂▁▂▂▂▂▂</td></tr><tr><td>val/epoch_FN_10</td><td>█▂▄▂▃▂▂▂▁▁▁▂▄▃▁▂▁▂▂▂▂▁▂▂▂▁▁▂▁▂▂▂▁▂▂▂▁▂▁▁</td></tr><tr><td>val/epoch_FN_11</td><td>██████▇▇▄▅▆▃▆▂▄▁▃▃▂▁▃▆▂▁▄▁▂▂▂▃▄▃▂▁▂▂▅▁▂▃</td></tr><tr><td>val/epoch_FN_12</td><td>█▄▄▃▃▄▂▁▂▂▂▂▃▁▂▂▁▂▂▂▁▁▂▂▂▂▂▂▁▁▂▂▂▂▁▂▂▂▂▂</td></tr><tr><td>val/epoch_FN_13</td><td>█████████████▄▅▂▃▃▂▂▃▄▂▂▃▁▂▂▂▂▃▂▁▁▂▂▄▂▂▂</td></tr><tr><td>val/epoch_FN_2</td><td>▁▁▁▁▁▁▁▁▁▁▁▁▁▁▁▁▁▁▁▁▁▁▁▁▁▁▁▁▁▁▁▁▁▁▁▁▁▁▁▁</td></tr><tr><td>val/epoch_FN_3</td><td>██████▃▃▆▅▃▂▄▁▃▂▁▂▂▂▁▁▂▂▁▂▁▂▁▁▁▁▂▂▁▂▄▂▂▂</td></tr><tr><td>val/epoch_FN_4</td><td>█▅▆▅▅▄▃▂▁▂▂▂▃▂▂▂▂▂▁▁▁▂▂▂▃▁▂▁▁▂▂▁▁▁▁▁▂▂▁▁</td></tr><tr><td>val/epoch_FN_5</td><td>████████████▇▅▅▅▆▄▃▃▃▄▂▁▃▃▂▂▂▁▁▁▁▃▁▁▃▂▁▁</td></tr><tr><td>val/epoch_FN_6</td><td>█████████████▆▅▄▆▃▃▂▄▂▂▁▂▂▁▁▁▁▁▁▂▁▁▁▂▂▁▁</td></tr><tr><td>val/epoch_FN_7</td><td>▁▁▁▁▁▁▁▁▁▁▁▁▁▁▁▁▁▁▁▁▁▁▁▁▁▁▁▁▁▁▁▁▁▁▁▁▁▁▁▁</td></tr><tr><td>val/epoch_FN_8</td><td>▁▁▁▁▁▁▁▁▁▁▁▁▁▁▁▁▁▁▁▁▁▁▁▁▁▁▁▁▁▁▁▁▁▁▁▁▁▁▁▁</td></tr><tr><td>val/epoch_FN_9</td><td>█▃▄▃▃▄▂▂▂▂▂▂▃▁▂▂▁▂▂▁▁▂▂▁▂▁▁▂▁▁▂▁▁▂▁▂▂▂▂▂</td></tr><tr><td>val/epoch_FP_0</td><td>▁█▃▄▄▇▅▅▇▇▅▅▂▄▄▅▇▄▄▅▆▅▄▅▅▇▅▅▇▅▄▅▇▅▅▅▆▅▅▅</td></tr><tr><td>val/epoch_FP_1</td><td>▁▅▄▄▆▃▆▆▆▆▅▆▄█▅▆▇▅▆▆█▆▅▆▆▆▆▆▇▆▅▅▇▅▆▆▅▅▅▆</td></tr><tr><td>val/epoch_FP_10</td><td>▁█▃▄▄▆▅▅▆▆▆▄▁▂▄▃▆▃▃▃▅▅▃▃▄▄▄▄▅▄▃▄▅▃▄▄▆▃▄▄</td></tr><tr><td>val/epoch_FP_11</td><td>▁▁▁▁▁▁▁▁▄▂▁▄▂▆▃▆▅▅▅▆▆▂▅▅▅▇▅▆▇▆▄▆▆█▆▆▃█▆▅</td></tr><tr><td>val/epoch_FP_12</td><td>▁▄▄▅▆▄▇▇▇▆▇▇▅█▆▅▇▅▅▅█▆▅▅▆▅▅▅▇▆▅▅▅▄▆▅▅▄▅▅</td></tr><tr><td>val/epoch_FP_13</td><td>▁▁▁▁▁▁▁▁▁▁▁▁▁▄▂▅▅▅▅▅▅▃▅▆▄▆▅▅▆▅▄▅█▆▅▅▃▆▄▅</td></tr><tr><td>val/epoch_FP_2</td><td>▁▁▁▁▁▁▁▁▁▁▁▁▁▁▁▁▁▁▁▁▁▁▁▁▁▁▁▁▁▁▁▁▁▁▁▁▁▁▁▁</td></tr><tr><td>val/epoch_FP_3</td><td>▁▁▁▁▁▁▅▅▂▃▅▆▅▇▅▅█▄▅▅█▆▆▅▇▅▆▅▇▆▅▅▅▅▆▅▄▄▅▅</td></tr><tr><td>val/epoch_FP_4</td><td>▁▄▃▄▄▄▅▆█▆▅▄▃▃▄▃▄▃▄▄▄▃▃▃▂▄▃▄▄▄▃▃▄▄▄▄▄▄▄▄</td></tr><tr><td>val/epoch_FP_5</td><td>▁▁▁▁▁▁▁▁▁▁▁▁▂▆▅▇▄██▆▅▃▅▅▄▄▄▅▆▅▅▅▅▄▅▅▄▄▅▅</td></tr><tr><td>val/epoch_FP_6</td><td>▁▁▁▁▁▁▁▁▁▁▁▁▁▅▅▇▆▆▆▅▄▇▅▅█▅▅▅▆▅▅▅▆▆▅▅▆▄▅▅</td></tr><tr><td>val/epoch_FP_7</td><td>█▁▁▁▁▁▁▁▁▁▁▁▁▁▁▁▁▁▁▁▁▁▁▁▁▁▁▁▁▁▁▁▁▁▁▁▁▁▁▁</td></tr><tr><td>val/epoch_FP_8</td><td>▁▁▁▁▁▁▁▁▁▁▁▁▁▁▁▁▁▁▁▁▁▁▁▁▁▁▁▁▁▁▁▁▁▁▁▁▁▁▁▁</td></tr><tr><td>val/epoch_FP_9</td><td>▁▆▃▄▅▃▆▆▆▆▅▅▄█▅▆▇▅▆▆█▆▅▆▆▆▆▆▇▆▅▅▇▅▆▆▅▅▅▆</td></tr><tr><td>val/epoch_IoU_0</td><td>▁▆▆▇▇▇██▇▇▇█▆███▇███████████▇███▇███████</td></tr><tr><td>val/epoch_IoU_1</td><td>▁▆▆▇▇▆██▇▇██▇▇██▇███████████████████▇███</td></tr><tr><td>val/epoch_IoU_10</td><td>▁▆▆▆▆▆▇▇▇▇▇█▆▇██▇███▇████▇▇█▇███▇███▇███</td></tr><tr><td>val/epoch_IoU_11</td><td>▁▁▁▁▁▁▃▃▅▅▄▆▃▇▆█▆▇▇█▆▅▇█▅█▇▇▇▆▆▆▆▇▇▇▆▇▇▇</td></tr><tr><td>val/epoch_IoU_12</td><td>▁▅▆▆▆▆▇▇▇▇▇▇▇▇██████████████████▇███▇███</td></tr><tr><td>val/epoch_IoU_13</td><td>▁▁▁▁▁▁▁▁▁▁▁▁▁▆▆█▆▇▇█▇▇▇█▇███▇▇▇█▇▇██▇▇██</td></tr><tr><td>val/epoch_IoU_2</td><td>▁▁▁▁▁▁▁▁▁▁▁▁▁▁▁▁▁▁▁▁▁▁▁▁▁▁▁▁▁▁▁▁▁▁▁▁▁▁▁▁</td></tr><tr><td>val/epoch_IoU_3</td><td>▁▁▁▁▁▁▆▆▄▅▆▇▆▇▇▇▇▇▇█▇▇▇█▇███▇███▇▇██▆▇▇█</td></tr><tr><td>val/epoch_IoU_4</td><td>▁▄▃▄▄▅▆▆▆▆▇▇▆▇██▇████▇▇█▇███████████▇███</td></tr><tr><td>val/epoch_IoU_5</td><td>▁▁▁▁▁▁▁▁▁▁▁▁▂▄▃▄▃▄▄▅▆▆▇▇▆▇▇█▇▇██▇▇██▇███</td></tr><tr><td>val/epoch_IoU_6</td><td>▁▁▁▁▁▁▁▁▁▁▁▁▁▃▄▅▃▆▆▇▅▇██▆▇██████▇███▇███</td></tr><tr><td>val/epoch_IoU_7</td><td>▁▁▁▁▁▁▁▁▁▁▁▁▁▁▁▁▁▁▁▁▁▁▁▁▁▁▁▁▁▁▁▁▁▁▁▁▁▁▁▁</td></tr><tr><td>val/epoch_IoU_8</td><td>▁▁▁▁▁▁▁▁▁▁▁▁▁▁▁▁▁▁▁▁▁▁▁▁▁▁▁▁▁▁▁▁▁▁▁▁▁▁▁▁</td></tr><tr><td>val/epoch_IoU_9</td><td>▁▆▆▆▇▆██▇▇██▇▇██▇███████████████████▇███</td></tr><tr><td>val/epoch_Precision_0</td><td>▁▅▇▆▆▅▆▆▅▅▆▆█▇▇▇▆▇▇▆▆▇▇▇▆▆▆▆▆▆▇▆▆▆▆▆▆▆▆▆</td></tr><tr><td>val/epoch_Precision_1</td><td>▁▇█▇▇█▇▇▇▇▇▇▇▆▇▇▇▇▇▇▆▇▇▇▇▇▇▇▇▇▇▇▇▇▇▇▇█▇▇</td></tr><tr><td>val/epoch_Precision_10</td><td>▁▄▆▅▅▄▅▅▄▅▄▆█▇▆▇▅▇▆▇▆▅▇▆▆▅▆▆▅▆▆▆▅▆▆▆▅▆▆▆</td></tr><tr><td>val/epoch_Precision_11</td><td>▁▁▁▁▁▅▇▇▆▇▄▇▇▇▇▇▅▆▆▆▆▇▆▇▅▇▆▆▆▆▇▆▇▆▆▆█▆▆▆</td></tr><tr><td>val/epoch_Precision_12</td><td>▁▇▇▇▇▇▇▇▇▇▇▇▇▇▇█▇███▇▇██▇███▇▇████▇█████</td></tr><tr><td>val/epoch_Precision_13</td><td>▁▁▁▁▁▁▁▁▁▁▂▅▂▇█▇▆▆▇▇▆▇▇▇▇▇▇▇▆▇▇▇▅▆▇▇▇▆▇▇</td></tr><tr><td>val/epoch_Precision_2</td><td>▁▁▁▁▁▁▁▁▁▁▁▁▁▁▁▁▁▁▁▁▁▁▁▁▁▁▁▁▁▁▁▁▁▁▁▁▁▁▁▁</td></tr><tr><td>val/epoch_Precision_3</td><td>▁▁▁▃▃█▇▇██▇▇▇▇██▆███▆▇▇█▇███▇▇██▇█▇█████</td></tr><tr><td>val/epoch_Precision_4</td><td>▁▅▅▅▅▆▅▅▅▅▆▆▇▇▇▇▇█▇▇▇██▇█▇▇▇▇▇█▇▇▇▇▇▇▇▇▇</td></tr><tr><td>val/epoch_Precision_5</td><td>▁▁▁▁▁▁▂▂▃▂▇▇▇▆▆▅▆▆▅▆▇██▇████▇███▇███▇███</td></tr><tr><td>val/epoch_Precision_6</td><td>▁▁▁▁▁▁▁▁▁▁▁▁▁▅▆▆▆▇▇██▇██▇███████████▇███</td></tr><tr><td>val/epoch_Precision_7</td><td>▁▁▁▁▁▁▁▁▁▁▁▁▁▁▁▁▁▁▁▁▁▁▁▁▁▁▁▁▁▁▁▁▁▁▁▁▁▁▁▁</td></tr><tr><td>val/epoch_Precision_8</td><td>▁▁▁▁▁▁▁▁▁▁▁▁▁▁▁▁▁▁▁▁▁▁▁▁▁▁▁▁▁▁▁▁▁▁▁▁▁▁▁▁</td></tr><tr><td>val/epoch_Precision_9</td><td>▁▆█▇▇█▇▇▇▇▇▇▇▆▇▇▇▇▇▇▆▇▇▇▇▇▇▇▇▇▇▇▇▇▇▇▇▇▇▇</td></tr><tr><td>val/epoch_Recall_0</td><td>▁▇▅▆▆▇▇▇██▇▇▅▇▇▇█▇▇██▇▇█▇█████▇██████▇██</td></tr><tr><td>val/epoch_Recall_1</td><td>▁▅▅▆▇▆▇▇▇▇▇▇▆█▇▇█▇▇▇█▇▇█▇█▇▇██▇██▇█▇▇▇▇▇</td></tr><tr><td>val/epoch_Recall_10</td><td>▁▇▅▇▆▇▇▇███▇▅▆▇▇█▇▇▇▇█▇▇▇█▇▇█▇▇▇█▇▇▇█▇▇█</td></tr><tr><td>val/epoch_Recall_11</td><td>▁▁▁▁▁▁▂▃▅▄▃▆▃▇▅█▆▇▇█▇▄▇█▆█▇▇▇▆▆▆▆█▇▇▅▇▇▆</td></tr><tr><td>val/epoch_Recall_12</td><td>▁▅▅▆▆▅▇█▇▇▇▇▆█▇▇█▇▇▇██▇▇▇▇▇▇██▇▇▇▇█▇▇▇▇▇</td></tr><tr><td>val/epoch_Recall_13</td><td>▁▁▁▁▁▁▁▁▁▁▁▁▁▅▄▇▆▇▇▇▆▆▆▇▆█▇▇▇▇▇▇██▇▇▅▇▇▇</td></tr><tr><td>val/epoch_Recall_2</td><td>▁▁▁▁▁▁▁▁▁▁▁▁▁▁▁▁▁▁▁▁▁▁▁▁▁▁▁▁▁▁▁▁▁▁▁▁▁▁▁▁</td></tr><tr><td>val/epoch_Recall_3</td><td>▁▁▁▁▁▁▆▆▃▄▆▇▆▇▆▇█▇▇▇██▇▇█▇█▇████▇▇█▇▅▇▇▇</td></tr><tr><td>val/epoch_Recall_4</td><td>▁▄▃▄▄▅▇▇█▇▇▇▅▆▇▇▆▇█▇▇▆▇▇▆█▇██▇▇▇████▇▇▇█</td></tr><tr><td>val/epoch_Recall_5</td><td>▁▁▁▁▁▁▁▁▁▁▁▁▂▄▄▅▄▅▆▇▇▆▇█▆▇▇██████▇██▇▇██</td></tr><tr><td>val/epoch_Recall_6</td><td>▁▁▁▁▁▁▁▁▁▁▁▁▁▃▄▅▃▆▆▇▅▇▇█▇▇██████▇███▇▇██</td></tr><tr><td>val/epoch_Recall_7</td><td>▁▁▁▁▁▁▁▁▁▁▁▁▁▁▁▁▁▁▁▁▁▁▁▁▁▁▁▁▁▁▁▁▁▁▁▁▁▁▁▁</td></tr><tr><td>val/epoch_Recall_8</td><td>▁▁▁▁▁▁▁▁▁▁▁▁▁▁▁▁▁▁▁▁▁▁▁▁▁▁▁▁▁▁▁▁▁▁▁▁▁▁▁▁</td></tr><tr><td>val/epoch_Recall_9</td><td>▁▆▅▆▆▅▇▇▇▇▇▇▆█▇▇█▇▇▇█▇▇█▇█▇▇██▇██▇█▇▇▇▇▇</td></tr><tr><td>val/epoch_TN_0</td><td>█▁▆▅▅▂▄▄▂▂▄▄▇▅▅▄▂▅▅▄▃▄▅▄▄▂▄▄▂▄▅▄▂▄▄▄▃▄▄▄</td></tr><tr><td>val/epoch_TN_1</td><td>█▄▅▅▃▆▃▃▃▃▄▃▅▁▄▃▂▄▃▃▁▃▄▃▃▃▃▃▂▃▄▄▂▄▃▃▄▄▄▃</td></tr><tr><td>val/epoch_TN_10</td><td>█▁▆▅▅▃▄▄▃▃▃▅█▇▅▆▃▆▆▆▄▄▆▆▅▅▅▅▄▅▆▅▄▆▅▅▃▆▅▅</td></tr><tr><td>val/epoch_TN_11</td><td>████████▅▇█▅▇▃▆▃▄▄▄▃▃▇▄▄▄▂▄▃▂▃▅▃▃▁▃▃▆▁▃▄</td></tr><tr><td>val/epoch_TN_12</td><td>█▅▅▄▃▅▂▂▂▃▂▂▄▁▃▄▂▄▄▄▁▃▄▄▃▄▄▄▂▃▄▄▄▅▃▄▄▅▄▄</td></tr><tr><td>val/epoch_TN_13</td><td>█████████████▅▇▄▄▄▄▄▄▆▄▃▅▃▄▄▃▄▅▄▁▃▄▄▆▃▅▄</td></tr><tr><td>val/epoch_TN_2</td><td>▁▁▁▁▁▁▁▁▁▁▁▁▁▁▁▁▁▁▁▁▁▁▁▁▁▁▁▁▁▁▁▁▁▁▁▁▁▁▁▁</td></tr><tr><td>val/epoch_TN_3</td><td>██████▄▄▇▆▄▃▄▂▄▄▁▅▄▄▁▃▃▄▂▄▃▄▂▃▄▄▄▄▃▄▅▅▄▄</td></tr><tr><td>val/epoch_TN_4</td><td>█▅▆▅▅▅▄▃▁▃▄▅▆▆▅▆▅▆▅▅▅▆▆▆▇▅▆▅▅▅▆▆▅▅▅▅▅▅▅▅</td></tr><tr><td>val/epoch_TN_5</td><td>████████████▇▃▄▂▅▁▁▃▄▆▄▄▅▅▅▄▃▄▄▄▄▅▄▄▅▅▄▄</td></tr><tr><td>val/epoch_TN_6</td><td>█████████████▄▄▂▃▃▃▄▅▂▄▄▁▄▄▄▃▄▄▄▃▃▄▄▃▅▄▄</td></tr><tr><td>val/epoch_TN_7</td><td>▁███████████████████████████████████████</td></tr><tr><td>val/epoch_TN_8</td><td>▁▁▁▁▁▁▁▁▁▁▁▁▁▁▁▁▁▁▁▁▁▁▁▁▁▁▁▁▁▁▁▁▁▁▁▁▁▁▁▁</td></tr><tr><td>val/epoch_TN_9</td><td>█▃▆▅▄▆▃▃▃▃▄▄▅▁▄▃▂▄▃▃▁▃▄▃▃▃▃▃▂▃▄▄▂▄▃▃▄▄▄▃</td></tr><tr><td>val/epoch_TP_0</td><td>▁▇▅▆▆▇▇▇██▇▇▅▇▇██▇▇██▇▇█▇█████▇██████▇██</td></tr><tr><td>val/epoch_TP_1</td><td>▁▅▅▆▇▅▇▇▇▇▇▇▆█▇▇█▇▇██▇▇█▇██▇██▇██▇█▇▇▇▇▇</td></tr><tr><td>val/epoch_TP_10</td><td>▁▇▅▇▆▇▇▇███▇▅▆█▇█▇▇▇▇█▇▇▇██▇█▇▇▇█▇▇▇█▇██</td></tr><tr><td>val/epoch_TP_11</td><td>▁▁▁▁▁▁▂▂▅▄▃▆▃▇▅█▆▆▇█▆▃▇█▅█▇▇▇▆▅▆▇█▇▇▄█▇▆</td></tr><tr><td>val/epoch_TP_12</td><td>▁▅▅▆▆▅▇█▇▇▇▇▆█▇▇█▇▇▇██▇▇▇▇▇▇██▇▇▇▇█▇▇▇▇▇</td></tr><tr><td>val/epoch_TP_13</td><td>▁▁▁▁▁▁▁▁▁▁▁▁▁▅▄▇▆▆▇▇▆▅▇▇▆█▇▇▇▇▆▇██▇▇▅▇▇▇</td></tr><tr><td>val/epoch_TP_2</td><td>▁▁▁▁▁▁▁▁▁▁▁▁▁▁▁▁▁▁▁▁▁▁▁▁▁▁▁▁▁▁▁▁▁▁▁▁▁▁▁▁</td></tr><tr><td>val/epoch_TP_3</td><td>▁▁▁▁▁▁▆▆▃▄▆▇▅█▆▇█▇▇▇██▇▇█▇█▇████▇▇█▇▅▇▇▇</td></tr><tr><td>val/epoch_TP_4</td><td>▁▄▃▄▄▅▆▇█▇▇▇▆▇▇▇▇▇███▇▇▇▆█▇██▇▇█████▇▇██</td></tr><tr><td>val/epoch_TP_5</td><td>▁▁▁▁▁▁▁▁▁▁▁▁▂▄▄▄▃▅▆▆▆▅▇█▆▆▇▇▇████▆██▆▇██</td></tr><tr><td>val/epoch_TP_6</td><td>▁▁▁▁▁▁▁▁▁▁▁▁▁▃▄▅▃▆▆▇▅▇▇█▇▇██████▇███▇▇██</td></tr><tr><td>val/epoch_TP_7</td><td>▁▁▁▁▁▁▁▁▁▁▁▁▁▁▁▁▁▁▁▁▁▁▁▁▁▁▁▁▁▁▁▁▁▁▁▁▁▁▁▁</td></tr><tr><td>val/epoch_TP_8</td><td>▁▁▁▁▁▁▁▁▁▁▁▁▁▁▁▁▁▁▁▁▁▁▁▁▁▁▁▁▁▁▁▁▁▁▁▁▁▁▁▁</td></tr><tr><td>val/epoch_TP_9</td><td>▁▆▅▆▆▅▇▇▇▇▇▇▆█▇▇█▇▇██▇▇█▇██▇██▇██▇█▇▇▇▇▇</td></tr><tr><td>val/epoch_loss</td><td>█▃▂▂▂▂▁▁▁▁▁▁▂▁▁▁▁▁▁▁▁▁▁▁▁▁▁▁▁▁▁▁▁▁▁▁▂▁▂▂</td></tr><tr><td>val/iter_F1_0</td><td>▁▇▆▇▇▇██▇▇██▇███▇███████████████████████</td></tr><tr><td>val/iter_F1_1</td><td>▁▆▇▇▇▇██████▇███████████████████████▇███</td></tr><tr><td>val/iter_F1_10</td><td>▁▆▆▇▇▇▇▇▇▇▇█▇███████████████▇███▇███▇███</td></tr><tr><td>val/iter_F1_11</td><td>▁▁▁▁▁▁▃▄▆▆▄▇▄█▆█▆▇▇█▇▅▇█▆█▇▇▇▆▇▇▇▇▇▇▆▇▇▇</td></tr><tr><td>val/iter_F1_12</td><td>▁▆▆▇▇▇▇▇▇▇▇█▇███████████████████████████</td></tr><tr><td>val/iter_F1_13</td><td>▁▁▁▁▁▁▁▁▁▁▁▁▁▆▆█▆▇██▇▇▇█▇███▇███▇▇██▇▇██</td></tr><tr><td>val/iter_F1_2</td><td>▁▁▁▁▁▁▁▁▁▁▁▁▁▁▁▁▁▁▁▁▁▁▁▁▁▁▁▁▁▁▁▁▁▁▁▁▁▁▁▁</td></tr><tr><td>val/iter_F1_3</td><td>▁▁▁▁▁▂▆▇▄▆▇▇▆▇▇▇▇█▇█▇███▇███▇███▇███▇▇██</td></tr><tr><td>val/iter_F1_4</td><td>▁▅▄▅▄▅▆▇▆▇▇▇▆▇██▇████▇██▇███████████▇███</td></tr><tr><td>val/iter_F1_5</td><td>▁▁▁▁▁▁▁▁▁▁▁▂▃▄▄▄▄▅▅▆▆▇██▇▇██▇████▇██▇███</td></tr><tr><td>val/iter_F1_6</td><td>▁▁▁▁▁▁▁▁▁▁▁▁▁▄▅▆▄▇▇▇▆▇██▇███████▇███████</td></tr><tr><td>val/iter_F1_7</td><td>▁▁▁▁▁▁▁▁▁▁▁▁▁▁▁▁▁▁▁▁▁▁▁▁▁▁▁▁▁▁▁▁▁▁▁▁▁▁▁▁</td></tr><tr><td>val/iter_F1_8</td><td>▁▁▁▁▁▁▁▁▁▁▁▁▁▁▁▁▁▁▁▁▁▁▁▁▁▁▁▁▁▁▁▁▁▁▁▁▁▁▁▁</td></tr><tr><td>val/iter_F1_9</td><td>▁▆▆▇▇▇██████▇███████████████████████▇███</td></tr><tr><td>val/iter_FN_0</td><td>█▂▄▃▃▂▂▂▁▁▂▂▄▂▂▁▁▂▂▁▁▂▂▁▂▁▁▁▁▁▂▁▁▁▁▁▁▂▁▁</td></tr><tr><td>val/iter_FN_1</td><td>█▄▄▃▂▄▂▂▂▂▂▂▃▁▂▂▁▂▂▁▁▂▂▁▂▁▁▂▁▁▂▁▁▂▁▂▂▂▂▂</td></tr><tr><td>val/iter_FN_10</td><td>█▂▄▂▃▂▂▂▁▁▁▂▄▃▁▂▁▂▂▂▂▁▂▂▂▁▁▂▁▂▂▂▁▂▂▂▁▂▁▁</td></tr><tr><td>val/iter_FN_11</td><td>██████▇▇▄▅▆▃▆▂▄▁▃▃▂▁▃▆▂▁▄▁▂▂▂▃▄▃▂▁▂▂▅▁▂▃</td></tr><tr><td>val/iter_FN_12</td><td>█▄▄▃▃▄▂▁▂▂▂▂▃▁▂▂▁▂▂▂▁▁▂▂▂▂▂▂▁▁▂▂▂▂▁▂▂▂▂▂</td></tr><tr><td>val/iter_FN_13</td><td>█████████████▄▅▂▃▃▂▂▃▄▂▂▃▁▂▂▂▂▃▂▁▁▂▂▄▂▂▂</td></tr><tr><td>val/iter_FN_2</td><td>▁▁▁▁▁▁▁▁▁▁▁▁▁▁▁▁▁▁▁▁▁▁▁▁▁▁▁▁▁▁▁▁▁▁▁▁▁▁▁▁</td></tr><tr><td>val/iter_FN_3</td><td>██████▃▃▆▅▃▂▄▁▃▂▁▂▂▂▁▁▂▂▁▂▁▂▁▁▁▁▂▂▁▂▄▂▂▂</td></tr><tr><td>val/iter_FN_4</td><td>█▅▆▅▅▄▃▂▁▂▂▂▃▂▂▂▂▂▁▁▁▂▂▂▃▁▂▁▁▂▂▁▁▁▁▁▂▂▁▁</td></tr><tr><td>val/iter_FN_5</td><td>████████████▇▅▅▅▆▄▃▃▃▄▂▁▃▃▂▂▂▁▁▁▁▃▁▁▃▂▁▁</td></tr><tr><td>val/iter_FN_6</td><td>█████████████▆▅▄▆▃▃▂▄▂▂▁▂▂▁▁▁▁▁▁▂▁▁▁▂▂▁▁</td></tr><tr><td>val/iter_FN_7</td><td>▁▁▁▁▁▁▁▁▁▁▁▁▁▁▁▁▁▁▁▁▁▁▁▁▁▁▁▁▁▁▁▁▁▁▁▁▁▁▁▁</td></tr><tr><td>val/iter_FN_8</td><td>▁▁▁▁▁▁▁▁▁▁▁▁▁▁▁▁▁▁▁▁▁▁▁▁▁▁▁▁▁▁▁▁▁▁▁▁▁▁▁▁</td></tr><tr><td>val/iter_FN_9</td><td>█▃▄▃▃▄▂▂▂▂▂▂▃▁▂▂▁▂▂▁▁▂▂▁▂▁▁▂▁▁▂▁▁▂▁▂▂▂▂▂</td></tr><tr><td>val/iter_FP_0</td><td>▁█▃▄▄▇▅▅▇▇▅▅▂▄▄▅▇▄▄▅▆▅▄▅▅▇▅▅▇▅▄▅▇▅▅▅▆▅▅▅</td></tr><tr><td>val/iter_FP_1</td><td>▁▅▄▄▆▃▆▆▆▆▅▆▄█▅▆▇▅▆▆█▆▅▆▆▆▆▆▇▆▅▅▇▅▆▆▅▅▅▆</td></tr><tr><td>val/iter_FP_10</td><td>▁█▃▄▄▆▅▅▆▆▆▄▁▂▄▃▆▃▃▃▅▅▃▃▄▄▄▄▅▄▃▄▅▃▄▄▆▃▄▄</td></tr><tr><td>val/iter_FP_11</td><td>▁▁▁▁▁▁▁▁▄▂▁▄▂▆▃▆▅▅▅▆▆▂▅▅▅▇▅▆▇▆▄▆▆█▆▆▃█▆▅</td></tr><tr><td>val/iter_FP_12</td><td>▁▄▄▅▆▄▇▇▇▆▇▇▅█▆▅▇▅▅▅█▆▅▅▆▅▅▅▇▆▅▅▅▄▆▅▅▄▅▅</td></tr><tr><td>val/iter_FP_13</td><td>▁▁▁▁▁▁▁▁▁▁▁▁▁▄▂▅▅▅▅▅▅▃▅▆▄▆▅▅▆▅▄▅█▆▅▅▃▆▄▅</td></tr><tr><td>val/iter_FP_2</td><td>▁▁▁▁▁▁▁▁▁▁▁▁▁▁▁▁▁▁▁▁▁▁▁▁▁▁▁▁▁▁▁▁▁▁▁▁▁▁▁▁</td></tr><tr><td>val/iter_FP_3</td><td>▁▁▁▁▁▁▅▅▂▃▅▆▅▇▅▅█▄▅▅█▆▆▅▇▅▆▅▇▆▅▅▅▅▆▅▄▄▅▅</td></tr><tr><td>val/iter_FP_4</td><td>▁▄▃▄▄▄▅▆█▆▅▄▃▃▄▃▄▃▄▄▄▃▃▃▂▄▃▄▄▄▃▃▄▄▄▄▄▄▄▄</td></tr><tr><td>val/iter_FP_5</td><td>▁▁▁▁▁▁▁▁▁▁▁▁▂▆▅▇▄██▆▅▃▅▅▄▄▄▅▆▅▅▅▅▄▅▅▄▄▅▅</td></tr><tr><td>val/iter_FP_6</td><td>▁▁▁▁▁▁▁▁▁▁▁▁▁▅▅▇▆▆▆▅▄▇▅▅█▅▅▅▆▅▅▅▆▆▅▅▆▄▅▅</td></tr><tr><td>val/iter_FP_7</td><td>█▁▁▁▁▁▁▁▁▁▁▁▁▁▁▁▁▁▁▁▁▁▁▁▁▁▁▁▁▁▁▁▁▁▁▁▁▁▁▁</td></tr><tr><td>val/iter_FP_8</td><td>▁▁▁▁▁▁▁▁▁▁▁▁▁▁▁▁▁▁▁▁▁▁▁▁▁▁▁▁▁▁▁▁▁▁▁▁▁▁▁▁</td></tr><tr><td>val/iter_FP_9</td><td>▁▆▃▄▅▃▆▆▆▆▅▅▄█▅▆▇▅▆▆█▆▅▆▆▆▆▆▇▆▅▅▇▅▆▆▅▅▅▆</td></tr><tr><td>val/iter_IoU_0</td><td>▁▆▆▇▇▇██▇▇▇█▆███▇███████████▇███▇███████</td></tr><tr><td>val/iter_IoU_1</td><td>▁▆▆▇▇▆██▇▇██▇▇██▇███████████████████▇███</td></tr><tr><td>val/iter_IoU_10</td><td>▁▆▆▆▆▆▇▇▇▇▇█▆▇██▇███▇████▇▇█▇███▇███▇███</td></tr><tr><td>val/iter_IoU_11</td><td>▁▁▁▁▁▁▃▃▅▅▄▆▃▇▆█▆▇▇█▆▅▇█▅█▇▇▇▆▆▆▆▇▇▇▆▇▇▇</td></tr><tr><td>val/iter_IoU_12</td><td>▁▅▆▆▆▆▇▇▇▇▇▇▇▇██████████████████▇███▇███</td></tr><tr><td>val/iter_IoU_13</td><td>▁▁▁▁▁▁▁▁▁▁▁▁▁▆▆█▆▇▇█▇▇▇█▇███▇▇▇█▇▇██▇▇██</td></tr><tr><td>val/iter_IoU_2</td><td>▁▁▁▁▁▁▁▁▁▁▁▁▁▁▁▁▁▁▁▁▁▁▁▁▁▁▁▁▁▁▁▁▁▁▁▁▁▁▁▁</td></tr><tr><td>val/iter_IoU_3</td><td>▁▁▁▁▁▁▆▆▄▅▆▇▆▇▇▇▇▇▇█▇▇▇█▇███▇███▇▇██▆▇▇█</td></tr><tr><td>val/iter_IoU_4</td><td>▁▄▃▄▄▅▆▆▆▆▇▇▆▇██▇████▇▇█▇███████████▇███</td></tr><tr><td>val/iter_IoU_5</td><td>▁▁▁▁▁▁▁▁▁▁▁▁▂▄▃▄▃▄▄▅▆▆▇▇▆▇▇█▇▇██▇▇██▇███</td></tr><tr><td>val/iter_IoU_6</td><td>▁▁▁▁▁▁▁▁▁▁▁▁▁▃▄▅▃▆▆▇▅▇██▆▇██████▇███▇███</td></tr><tr><td>val/iter_IoU_7</td><td>▁▁▁▁▁▁▁▁▁▁▁▁▁▁▁▁▁▁▁▁▁▁▁▁▁▁▁▁▁▁▁▁▁▁▁▁▁▁▁▁</td></tr><tr><td>val/iter_IoU_8</td><td>▁▁▁▁▁▁▁▁▁▁▁▁▁▁▁▁▁▁▁▁▁▁▁▁▁▁▁▁▁▁▁▁▁▁▁▁▁▁▁▁</td></tr><tr><td>val/iter_IoU_9</td><td>▁▆▆▆▇▆██▇▇██▇▇██▇███████████████████▇███</td></tr><tr><td>val/iter_Precision_0</td><td>▁▅▇▆▆▅▆▆▅▅▆▆█▇▇▇▆▇▇▆▆▇▇▇▆▆▆▆▆▆▇▆▆▆▆▆▆▆▆▆</td></tr><tr><td>val/iter_Precision_1</td><td>▁▇█▇▇█▇▇▇▇▇▇▇▆▇▇▇▇▇▇▆▇▇▇▇▇▇▇▇▇▇▇▇▇▇▇▇█▇▇</td></tr><tr><td>val/iter_Precision_10</td><td>▁▄▆▅▅▄▅▅▄▅▄▆█▇▆▇▅▇▆▇▆▅▇▆▆▅▆▆▅▆▆▆▅▆▆▆▅▆▆▆</td></tr><tr><td>val/iter_Precision_11</td><td>▁▁▁▁▁▅▇▇▆▇▄▇▇▇▇▇▅▆▆▆▆▇▆▇▅▇▆▆▆▆▇▆▇▆▆▆█▆▆▆</td></tr><tr><td>val/iter_Precision_12</td><td>▁▇▇▇▇▇▇▇▇▇▇▇▇▇▇█▇███▇▇██▇███▇▇████▇█████</td></tr><tr><td>val/iter_Precision_13</td><td>▁▁▁▁▁▁▁▁▁▁▂▅▂▇█▇▆▆▇▇▆▇▇▇▇▇▇▇▆▇▇▇▅▆▇▇▇▆▇▇</td></tr><tr><td>val/iter_Precision_2</td><td>▁▁▁▁▁▁▁▁▁▁▁▁▁▁▁▁▁▁▁▁▁▁▁▁▁▁▁▁▁▁▁▁▁▁▁▁▁▁▁▁</td></tr><tr><td>val/iter_Precision_3</td><td>▁▁▁▃▃█▇▇██▇▇▇▇██▆███▆▇▇█▇███▇▇██▇█▇█████</td></tr><tr><td>val/iter_Precision_4</td><td>▁▅▅▅▅▆▅▅▅▅▆▆▇▇▇▇▇█▇▇▇██▇█▇▇▇▇▇█▇▇▇▇▇▇▇▇▇</td></tr><tr><td>val/iter_Precision_5</td><td>▁▁▁▁▁▁▂▂▃▂▇▇▇▆▆▅▆▆▅▆▇██▇████▇███▇███▇███</td></tr><tr><td>val/iter_Precision_6</td><td>▁▁▁▁▁▁▁▁▁▁▁▁▁▅▆▆▆▇▇██▇██▇███████████▇███</td></tr><tr><td>val/iter_Precision_7</td><td>▁▁▁▁▁▁▁▁▁▁▁▁▁▁▁▁▁▁▁▁▁▁▁▁▁▁▁▁▁▁▁▁▁▁▁▁▁▁▁▁</td></tr><tr><td>val/iter_Precision_8</td><td>▁▁▁▁▁▁▁▁▁▁▁▁▁▁▁▁▁▁▁▁▁▁▁▁▁▁▁▁▁▁▁▁▁▁▁▁▁▁▁▁</td></tr><tr><td>val/iter_Precision_9</td><td>▁▆█▇▇█▇▇▇▇▇▇▇▆▇▇▇▇▇▇▆▇▇▇▇▇▇▇▇▇▇▇▇▇▇▇▇▇▇▇</td></tr><tr><td>val/iter_Recall_0</td><td>▁▇▅▆▆▇▇▇██▇▇▅▇▇▇█▇▇██▇▇█▇█████▇██████▇██</td></tr><tr><td>val/iter_Recall_1</td><td>▁▅▅▆▇▆▇▇▇▇▇▇▆█▇▇█▇▇▇█▇▇█▇█▇▇██▇██▇█▇▇▇▇▇</td></tr><tr><td>val/iter_Recall_10</td><td>▁▇▅▇▆▇▇▇███▇▅▆▇▇█▇▇▇▇█▇▇▇█▇▇█▇▇▇█▇▇▇█▇▇█</td></tr><tr><td>val/iter_Recall_11</td><td>▁▁▁▁▁▁▂▃▅▄▃▆▃▇▅█▆▇▇█▇▄▇█▆█▇▇▇▆▆▆▆█▇▇▅▇▇▆</td></tr><tr><td>val/iter_Recall_12</td><td>▁▅▅▆▆▅▇█▇▇▇▇▆█▇▇█▇▇▇██▇▇▇▇▇▇██▇▇▇▇█▇▇▇▇▇</td></tr><tr><td>val/iter_Recall_13</td><td>▁▁▁▁▁▁▁▁▁▁▁▁▁▅▄▇▆▇▇▇▆▆▆▇▆█▇▇▇▇▇▇██▇▇▅▇▇▇</td></tr><tr><td>val/iter_Recall_2</td><td>▁▁▁▁▁▁▁▁▁▁▁▁▁▁▁▁▁▁▁▁▁▁▁▁▁▁▁▁▁▁▁▁▁▁▁▁▁▁▁▁</td></tr><tr><td>val/iter_Recall_3</td><td>▁▁▁▁▁▁▆▆▃▄▆▇▆▇▆▇█▇▇▇██▇▇█▇█▇████▇▇█▇▅▇▇▇</td></tr><tr><td>val/iter_Recall_4</td><td>▁▄▃▄▄▅▇▇█▇▇▇▅▆▇▇▆▇█▇▇▆▇▇▆█▇██▇▇▇████▇▇▇█</td></tr><tr><td>val/iter_Recall_5</td><td>▁▁▁▁▁▁▁▁▁▁▁▁▂▄▄▅▄▅▆▇▇▆▇█▆▇▇██████▇██▇▇██</td></tr><tr><td>val/iter_Recall_6</td><td>▁▁▁▁▁▁▁▁▁▁▁▁▁▃▄▅▃▆▆▇▅▇▇█▇▇██████▇███▇▇██</td></tr><tr><td>val/iter_Recall_7</td><td>▁▁▁▁▁▁▁▁▁▁▁▁▁▁▁▁▁▁▁▁▁▁▁▁▁▁▁▁▁▁▁▁▁▁▁▁▁▁▁▁</td></tr><tr><td>val/iter_Recall_8</td><td>▁▁▁▁▁▁▁▁▁▁▁▁▁▁▁▁▁▁▁▁▁▁▁▁▁▁▁▁▁▁▁▁▁▁▁▁▁▁▁▁</td></tr><tr><td>val/iter_Recall_9</td><td>▁▆▅▆▆▅▇▇▇▇▇▇▆█▇▇█▇▇▇█▇▇█▇█▇▇██▇██▇█▇▇▇▇▇</td></tr><tr><td>val/iter_TN_0</td><td>█▁▆▅▅▂▄▄▂▂▄▄▇▅▅▄▂▅▅▄▃▄▅▄▄▂▄▄▂▄▅▄▂▄▄▄▃▄▄▄</td></tr><tr><td>val/iter_TN_1</td><td>█▄▅▅▃▆▃▃▃▃▄▃▅▁▄▃▂▄▃▃▁▃▄▃▃▃▃▃▂▃▄▄▂▄▃▃▄▄▄▃</td></tr><tr><td>val/iter_TN_10</td><td>█▁▆▅▅▃▄▄▃▃▃▅█▇▅▆▃▆▆▆▄▄▆▆▅▅▅▅▄▅▆▅▄▆▅▅▃▆▅▅</td></tr><tr><td>val/iter_TN_11</td><td>████████▅▇█▅▇▃▆▃▄▄▄▃▃▇▄▄▄▂▄▃▂▃▅▃▃▁▃▃▆▁▃▄</td></tr><tr><td>val/iter_TN_12</td><td>█▅▅▄▃▅▂▂▂▃▂▂▄▁▃▄▂▄▄▄▁▃▄▄▃▄▄▄▂▃▄▄▄▅▃▄▄▅▄▄</td></tr><tr><td>val/iter_TN_13</td><td>█████████████▅▇▄▄▄▄▄▄▆▄▃▅▃▄▄▃▄▅▄▁▃▄▄▆▃▅▄</td></tr><tr><td>val/iter_TN_2</td><td>▁▁▁▁▁▁▁▁▁▁▁▁▁▁▁▁▁▁▁▁▁▁▁▁▁▁▁▁▁▁▁▁▁▁▁▁▁▁▁▁</td></tr><tr><td>val/iter_TN_3</td><td>██████▄▄▇▆▄▃▄▂▄▄▁▅▄▄▁▃▃▄▂▄▃▄▂▃▄▄▄▄▃▄▅▅▄▄</td></tr><tr><td>val/iter_TN_4</td><td>█▅▆▅▅▅▄▃▁▃▄▅▆▆▅▆▅▆▅▅▅▆▆▆▇▅▆▅▅▅▆▆▅▅▅▅▅▅▅▅</td></tr><tr><td>val/iter_TN_5</td><td>████████████▇▃▄▂▅▁▁▃▄▆▄▄▅▅▅▄▃▄▄▄▄▅▄▄▅▅▄▄</td></tr><tr><td>val/iter_TN_6</td><td>█████████████▄▄▂▃▃▃▄▅▂▄▄▁▄▄▄▃▄▄▄▃▃▄▄▃▅▄▄</td></tr><tr><td>val/iter_TN_7</td><td>▁███████████████████████████████████████</td></tr><tr><td>val/iter_TN_8</td><td>▁▁▁▁▁▁▁▁▁▁▁▁▁▁▁▁▁▁▁▁▁▁▁▁▁▁▁▁▁▁▁▁▁▁▁▁▁▁▁▁</td></tr><tr><td>val/iter_TN_9</td><td>█▃▆▅▄▆▃▃▃▃▄▄▅▁▄▃▂▄▃▃▁▃▄▃▃▃▃▃▂▃▄▄▂▄▃▃▄▄▄▃</td></tr><tr><td>val/iter_TP_0</td><td>▁▇▅▆▆▇▇▇██▇▇▅▇▇██▇▇██▇▇█▇█████▇██████▇██</td></tr><tr><td>val/iter_TP_1</td><td>▁▅▅▆▇▅▇▇▇▇▇▇▆█▇▇█▇▇██▇▇█▇██▇██▇██▇█▇▇▇▇▇</td></tr><tr><td>val/iter_TP_10</td><td>▁▇▅▇▆▇▇▇███▇▅▆█▇█▇▇▇▇█▇▇▇██▇█▇▇▇█▇▇▇█▇██</td></tr><tr><td>val/iter_TP_11</td><td>▁▁▁▁▁▁▂▂▅▄▃▆▃▇▅█▆▆▇█▆▃▇█▅█▇▇▇▆▅▆▇█▇▇▄█▇▆</td></tr><tr><td>val/iter_TP_12</td><td>▁▅▅▆▆▅▇█▇▇▇▇▆█▇▇█▇▇▇██▇▇▇▇▇▇██▇▇▇▇█▇▇▇▇▇</td></tr><tr><td>val/iter_TP_13</td><td>▁▁▁▁▁▁▁▁▁▁▁▁▁▅▄▇▆▆▇▇▆▅▇▇▆█▇▇▇▇▆▇██▇▇▅▇▇▇</td></tr><tr><td>val/iter_TP_2</td><td>▁▁▁▁▁▁▁▁▁▁▁▁▁▁▁▁▁▁▁▁▁▁▁▁▁▁▁▁▁▁▁▁▁▁▁▁▁▁▁▁</td></tr><tr><td>val/iter_TP_3</td><td>▁▁▁▁▁▁▆▆▃▄▆▇▅█▆▇█▇▇▇██▇▇█▇█▇████▇▇█▇▅▇▇▇</td></tr><tr><td>val/iter_TP_4</td><td>▁▄▃▄▄▅▆▇█▇▇▇▆▇▇▇▇▇███▇▇▇▆█▇██▇▇█████▇▇██</td></tr><tr><td>val/iter_TP_5</td><td>▁▁▁▁▁▁▁▁▁▁▁▁▂▄▄▄▃▅▆▆▆▅▇█▆▆▇▇▇████▆██▆▇██</td></tr><tr><td>val/iter_TP_6</td><td>▁▁▁▁▁▁▁▁▁▁▁▁▁▃▄▅▃▆▆▇▅▇▇█▇▇██████▇███▇▇██</td></tr><tr><td>val/iter_TP_7</td><td>▁▁▁▁▁▁▁▁▁▁▁▁▁▁▁▁▁▁▁▁▁▁▁▁▁▁▁▁▁▁▁▁▁▁▁▁▁▁▁▁</td></tr><tr><td>val/iter_TP_8</td><td>▁▁▁▁▁▁▁▁▁▁▁▁▁▁▁▁▁▁▁▁▁▁▁▁▁▁▁▁▁▁▁▁▁▁▁▁▁▁▁▁</td></tr><tr><td>val/iter_TP_9</td><td>▁▆▅▆▆▅▇▇▇▇▇▇▆█▇▇█▇▇██▇▇█▇██▇██▇██▇█▇▇▇▇▇</td></tr><tr><td>val/iter_loss</td><td>█▃▂▂▂▂▁▁▁▁▁▁▂▁▁▁▁▁▁▁▁▁▁▁▁▁▁▁▁▁▁▁▁▁▁▁▂▁▂▂</td></tr><tr><td>val/mean_F1</td><td>▁▄▄▄▄▄▅▆▅▆▆▆▅▇▇▇▇▇██▇▇██▇███████████▇███</td></tr><tr><td>val/mean_IoU</td><td>▁▄▄▄▄▄▅▅▅▅▅▆▅▇▇▇▆▇▇█▇▇██▇███████▇███▇███</td></tr></table><br/></div><div class=\"wandb-col\"><h3>Run summary:</h3><br/><table class=\"wandb\"><tr><td>epoch</td><td>199</td></tr><tr><td>lr-AdamW</td><td>2e-05</td></tr><tr><td>train/epoch_F1_0</td><td>0.82849</td></tr><tr><td>train/epoch_F1_1</td><td>0.85005</td></tr><tr><td>train/epoch_F1_10</td><td>0.83166</td></tr><tr><td>train/epoch_F1_11</td><td>0.60967</td></tr><tr><td>train/epoch_F1_12</td><td>0.84346</td></tr><tr><td>train/epoch_F1_13</td><td>0.76815</td></tr><tr><td>train/epoch_F1_2</td><td>0.0</td></tr><tr><td>train/epoch_F1_3</td><td>0.82363</td></tr><tr><td>train/epoch_F1_4</td><td>0.82135</td></tr><tr><td>train/epoch_F1_5</td><td>0.81261</td></tr><tr><td>train/epoch_F1_6</td><td>0.71812</td></tr><tr><td>train/epoch_F1_7</td><td>0.0</td></tr><tr><td>train/epoch_F1_8</td><td>0.0</td></tr><tr><td>train/epoch_F1_9</td><td>0.85016</td></tr><tr><td>train/epoch_FN_0</td><td>10175.35059</td></tr><tr><td>train/epoch_FN_1</td><td>9053.5498</td></tr><tr><td>train/epoch_FN_10</td><td>8343.10059</td></tr><tr><td>train/epoch_FN_11</td><td>2357.44995</td></tr><tr><td>train/epoch_FN_12</td><td>8372.0752</td></tr><tr><td>train/epoch_FN_13</td><td>2183.1001</td></tr><tr><td>train/epoch_FN_2</td><td>0.0</td></tr><tr><td>train/epoch_FN_3</td><td>5069.05029</td></tr><tr><td>train/epoch_FN_4</td><td>4537.5</td></tr><tr><td>train/epoch_FN_5</td><td>1148.55005</td></tr><tr><td>train/epoch_FN_6</td><td>568.72504</td></tr><tr><td>train/epoch_FN_7</td><td>0.0</td></tr><tr><td>train/epoch_FN_8</td><td>0.0</td></tr><tr><td>train/epoch_FN_9</td><td>8981.9502</td></tr><tr><td>train/epoch_FP_0</td><td>17531.97461</td></tr><tr><td>train/epoch_FP_1</td><td>20591.0</td></tr><tr><td>train/epoch_FP_10</td><td>14188.02539</td></tr><tr><td>train/epoch_FP_11</td><td>3417.4751</td></tr><tr><td>train/epoch_FP_12</td><td>17623.59961</td></tr><tr><td>train/epoch_FP_13</td><td>4291.9751</td></tr><tr><td>train/epoch_FP_2</td><td>0.0</td></tr><tr><td>train/epoch_FP_3</td><td>8937.4248</td></tr><tr><td>train/epoch_FP_4</td><td>8735.9502</td></tr><tr><td>train/epoch_FP_5</td><td>2402.3501</td></tr><tr><td>train/epoch_FP_6</td><td>1463.95007</td></tr><tr><td>train/epoch_FP_7</td><td>0.0</td></tr><tr><td>train/epoch_FP_8</td><td>0.0</td></tr><tr><td>train/epoch_FP_9</td><td>20660.95117</td></tr><tr><td>train/epoch_IoU_0</td><td>0.70866</td></tr><tr><td>train/epoch_IoU_1</td><td>0.73949</td></tr><tr><td>train/epoch_IoU_10</td><td>0.71414</td></tr><tr><td>train/epoch_IoU_11</td><td>0.48547</td></tr><tr><td>train/epoch_IoU_12</td><td>0.72964</td></tr><tr><td>train/epoch_IoU_13</td><td>0.63684</td></tr><tr><td>train/epoch_IoU_2</td><td>0.0</td></tr><tr><td>train/epoch_IoU_3</td><td>0.70075</td></tr><tr><td>train/epoch_IoU_4</td><td>0.69872</td></tr><tr><td>train/epoch_IoU_5</td><td>0.70287</td></tr><tr><td>train/epoch_IoU_6</td><td>0.63669</td></tr><tr><td>train/epoch_IoU_7</td><td>0.0</td></tr><tr><td>train/epoch_IoU_8</td><td>0.0</td></tr><tr><td>train/epoch_IoU_9</td><td>0.73965</td></tr><tr><td>train/epoch_Precision_0</td><td>0.79378</td></tr><tr><td>train/epoch_Precision_1</td><td>0.80332</td></tr><tr><td>train/epoch_Precision_10</td><td>0.79764</td></tr><tr><td>train/epoch_Precision_11</td><td>0.58129</td></tr><tr><td>train/epoch_Precision_12</td><td>0.79894</td></tr><tr><td>train/epoch_Precision_13</td><td>0.71743</td></tr><tr><td>train/epoch_Precision_2</td><td>0.0</td></tr><tr><td>train/epoch_Precision_3</td><td>0.78422</td></tr><tr><td>train/epoch_Precision_4</td><td>0.77741</td></tr><tr><td>train/epoch_Precision_5</td><td>0.76582</td></tr><tr><td>train/epoch_Precision_6</td><td>0.67959</td></tr><tr><td>train/epoch_Precision_7</td><td>0.0</td></tr><tr><td>train/epoch_Precision_8</td><td>0.0</td></tr><tr><td>train/epoch_Precision_9</td><td>0.80287</td></tr><tr><td>train/epoch_Recall_0</td><td>0.86727</td></tr><tr><td>train/epoch_Recall_1</td><td>0.90312</td></tr><tr><td>train/epoch_Recall_10</td><td>0.8696</td></tr><tr><td>train/epoch_Recall_11</td><td>0.64574</td></tr><tr><td>train/epoch_Recall_12</td><td>0.8939</td></tr><tr><td>train/epoch_Recall_13</td><td>0.83017</td></tr><tr><td>train/epoch_Recall_2</td><td>0.0</td></tr><tr><td>train/epoch_Recall_3</td><td>0.8683</td></tr><tr><td>train/epoch_Recall_4</td><td>0.87186</td></tr><tr><td>train/epoch_Recall_5</td><td>0.87246</td></tr><tr><td>train/epoch_Recall_6</td><td>0.76298</td></tr><tr><td>train/epoch_Recall_7</td><td>0.0</td></tr><tr><td>train/epoch_Recall_8</td><td>0.0</td></tr><tr><td>train/epoch_Recall_9</td><td>0.90392</td></tr><tr><td>train/epoch_TN_0</td><td>4096840.75</td></tr><tr><td>train/epoch_TN_1</td><td>4080065.75</td></tr><tr><td>train/epoch_TN_10</td><td>4111216.0</td></tr><tr><td>train/epoch_TN_11</td><td>4179855.25</td></tr><tr><td>train/epoch_TN_12</td><td>4097463.75</td></tr><tr><td>train/epoch_TN_13</td><td>4175581.25</td></tr><tr><td>train/epoch_TN_2</td><td>4194304.0</td></tr><tr><td>train/epoch_TN_3</td><td>4146905.75</td></tr><tr><td>train/epoch_TN_4</td><td>4148774.75</td></tr><tr><td>train/epoch_TN_5</td><td>4180852.5</td></tr><tr><td>train/epoch_TN_6</td><td>4185496.0</td></tr><tr><td>train/epoch_TN_7</td><td>4194304.0</td></tr><tr><td>train/epoch_TN_8</td><td>4194304.0</td></tr><tr><td>train/epoch_TN_9</td><td>4079995.75</td></tr><tr><td>train/epoch_TP_0</td><td>69755.625</td></tr><tr><td>train/epoch_TP_1</td><td>84593.82812</td></tr><tr><td>train/epoch_TP_10</td><td>60556.80078</td></tr><tr><td>train/epoch_TP_11</td><td>8673.625</td></tr><tr><td>train/epoch_TP_12</td><td>70844.625</td></tr><tr><td>train/epoch_TP_13</td><td>12247.5752</td></tr><tr><td>train/epoch_TP_2</td><td>0.0</td></tr><tr><td>train/epoch_TP_3</td><td>33391.75</td></tr><tr><td>train/epoch_TP_4</td><td>32255.72461</td></tr><tr><td>train/epoch_TP_5</td><td>9900.77539</td></tr><tr><td>train/epoch_TP_6</td><td>6775.30029</td></tr><tr><td>train/epoch_TP_7</td><td>0.0</td></tr><tr><td>train/epoch_TP_8</td><td>0.0</td></tr><tr><td>train/epoch_TP_9</td><td>84665.42969</td></tr><tr><td>train/epoch_loss</td><td>0.37189</td></tr><tr><td>train/iter_F1_0</td><td>0.88645</td></tr><tr><td>train/iter_F1_1</td><td>0.85153</td></tr><tr><td>train/iter_F1_10</td><td>0.90242</td></tr><tr><td>train/iter_F1_11</td><td>0.75878</td></tr><tr><td>train/iter_F1_12</td><td>0.85143</td></tr><tr><td>train/iter_F1_13</td><td>0.80884</td></tr><tr><td>train/iter_F1_2</td><td>0.0</td></tr><tr><td>train/iter_F1_3</td><td>0.84208</td></tr><tr><td>train/iter_F1_4</td><td>0.77409</td></tr><tr><td>train/iter_F1_5</td><td>0.87631</td></tr><tr><td>train/iter_F1_6</td><td>0.88178</td></tr><tr><td>train/iter_F1_7</td><td>0.0</td></tr><tr><td>train/iter_F1_8</td><td>0.0</td></tr><tr><td>train/iter_F1_9</td><td>0.85176</td></tr><tr><td>train/iter_FN_0</td><td>2502.0</td></tr><tr><td>train/iter_FN_1</td><td>6446.0</td></tr><tr><td>train/iter_FN_10</td><td>2272.0</td></tr><tr><td>train/iter_FN_11</td><td>189.0</td></tr><tr><td>train/iter_FN_12</td><td>5549.0</td></tr><tr><td>train/iter_FN_13</td><td>1132.0</td></tr><tr><td>train/iter_FN_2</td><td>0.0</td></tr><tr><td>train/iter_FN_3</td><td>6044.0</td></tr><tr><td>train/iter_FN_4</td><td>758.0</td></tr><tr><td>train/iter_FN_5</td><td>562.0</td></tr><tr><td>train/iter_FN_6</td><td>117.0</td></tr><tr><td>train/iter_FN_7</td><td>0.0</td></tr><tr><td>train/iter_FN_8</td><td>0.0</td></tr><tr><td>train/iter_FN_9</td><td>6372.0</td></tr><tr><td>train/iter_FP_0</td><td>3633.0</td></tr><tr><td>train/iter_FP_1</td><td>18285.0</td></tr><tr><td>train/iter_FP_10</td><td>2465.0</td></tr><tr><td>train/iter_FP_11</td><td>1136.0</td></tr><tr><td>train/iter_FP_12</td><td>17024.0</td></tr><tr><td>train/iter_FP_13</td><td>1705.0</td></tr><tr><td>train/iter_FP_2</td><td>0.0</td></tr><tr><td>train/iter_FP_3</td><td>11819.0</td></tr><tr><td>train/iter_FP_4</td><td>2607.0</td></tr><tr><td>train/iter_FP_5</td><td>2576.0</td></tr><tr><td>train/iter_FP_6</td><td>1325.0</td></tr><tr><td>train/iter_FP_7</td><td>0.0</td></tr><tr><td>train/iter_FP_8</td><td>0.0</td></tr><tr><td>train/iter_FP_9</td><td>18340.0</td></tr><tr><td>train/iter_IoU_0</td><td>0.79606</td></tr><tr><td>train/iter_IoU_1</td><td>0.74145</td></tr><tr><td>train/iter_IoU_10</td><td>0.8222</td></tr><tr><td>train/iter_IoU_11</td><td>0.61132</td></tr><tr><td>train/iter_IoU_12</td><td>0.7413</td></tr><tr><td>train/iter_IoU_13</td><td>0.67904</td></tr><tr><td>train/iter_IoU_2</td><td>0.0</td></tr><tr><td>train/iter_IoU_3</td><td>0.72724</td></tr><tr><td>train/iter_IoU_4</td><td>0.63143</td></tr><tr><td>train/iter_IoU_5</td><td>0.77985</td></tr><tr><td>train/iter_IoU_6</td><td>0.78856</td></tr><tr><td>train/iter_IoU_7</td><td>0.0</td></tr><tr><td>train/iter_IoU_8</td><td>0.0</td></tr><tr><td>train/iter_IoU_9</td><td>0.74179</td></tr><tr><td>train/iter_Precision_0</td><td>0.86828</td></tr><tr><td>train/iter_Precision_1</td><td>0.79502</td></tr><tr><td>train/iter_Precision_10</td><td>0.89885</td></tr><tr><td>train/iter_Precision_11</td><td>0.6472</td></tr><tr><td>train/iter_Precision_12</td><td>0.79165</td></tr><tr><td>train/iter_Precision_13</td><td>0.77877</td></tr><tr><td>train/iter_Precision_2</td><td>0.0</td></tr><tr><td>train/iter_Precision_3</td><td>0.80118</td></tr><tr><td>train/iter_Precision_4</td><td>0.6886</td></tr><tr><td>train/iter_Precision_5</td><td>0.81186</td></tr><tr><td>train/iter_Precision_6</td><td>0.80233</td></tr><tr><td>train/iter_Precision_7</td><td>0.0</td></tr><tr><td>train/iter_Precision_8</td><td>0.0</td></tr><tr><td>train/iter_Precision_9</td><td>0.7947</td></tr><tr><td>train/iter_Recall_0</td><td>0.90541</td></tr><tr><td>train/iter_Recall_1</td><td>0.91668</td></tr><tr><td>train/iter_Recall_10</td><td>0.90603</td></tr><tr><td>train/iter_Recall_11</td><td>0.91685</td></tr><tr><td>train/iter_Recall_12</td><td>0.92099</td></tr><tr><td>train/iter_Recall_13</td><td>0.84132</td></tr><tr><td>train/iter_Recall_2</td><td>0.0</td></tr><tr><td>train/iter_Recall_3</td><td>0.88739</td></tr><tr><td>train/iter_Recall_4</td><td>0.8838</td></tr><tr><td>train/iter_Recall_5</td><td>0.95188</td></tr><tr><td>train/iter_Recall_6</td><td>0.97871</td></tr><tr><td>train/iter_Recall_7</td><td>0.0</td></tr><tr><td>train/iter_Recall_8</td><td>0.0</td></tr><tr><td>train/iter_Recall_9</td><td>0.91764</td></tr><tr><td>train/iter_TN_0</td><td>4164221.0</td></tr><tr><td>train/iter_TN_1</td><td>4098653.0</td></tr><tr><td>train/iter_TN_10</td><td>4167662.0</td></tr><tr><td>train/iter_TN_11</td><td>4190895.0</td></tr><tr><td>train/iter_TN_12</td><td>4107048.0</td></tr><tr><td>train/iter_TN_13</td><td>4185465.0</td></tr><tr><td>train/iter_TN_2</td><td>4194304.0</td></tr><tr><td>train/iter_TN_3</td><td>4128815.0</td></tr><tr><td>train/iter_TN_4</td><td>4185174.0</td></tr><tr><td>train/iter_TN_5</td><td>4180050.0</td></tr><tr><td>train/iter_TN_6</td><td>4187484.0</td></tr><tr><td>train/iter_TN_7</td><td>4194304.0</td></tr><tr><td>train/iter_TN_8</td><td>4194304.0</td></tr><tr><td>train/iter_TN_9</td><td>4098598.0</td></tr><tr><td>train/iter_TP_0</td><td>23948.0</td></tr><tr><td>train/iter_TP_1</td><td>70920.0</td></tr><tr><td>train/iter_TP_10</td><td>21905.0</td></tr><tr><td>train/iter_TP_11</td><td>2084.0</td></tr><tr><td>train/iter_TP_12</td><td>64683.0</td></tr><tr><td>train/iter_TP_13</td><td>6002.0</td></tr><tr><td>train/iter_TP_2</td><td>0.0</td></tr><tr><td>train/iter_TP_3</td><td>47626.0</td></tr><tr><td>train/iter_TP_4</td><td>5765.0</td></tr><tr><td>train/iter_TP_5</td><td>11116.0</td></tr><tr><td>train/iter_TP_6</td><td>5378.0</td></tr><tr><td>train/iter_TP_7</td><td>0.0</td></tr><tr><td>train/iter_TP_8</td><td>0.0</td></tr><tr><td>train/iter_TP_9</td><td>70994.0</td></tr><tr><td>train/iter_loss</td><td>0.3867</td></tr><tr><td>train/mean_F1</td><td>0.62553</td></tr><tr><td>train/mean_IoU</td><td>0.53521</td></tr><tr><td>trainer/global_step</td><td>7999</td></tr><tr><td>val/epoch_F1_0</td><td>0.74372</td></tr><tr><td>val/epoch_F1_1</td><td>0.67233</td></tr><tr><td>val/epoch_F1_10</td><td>0.68709</td></tr><tr><td>val/epoch_F1_11</td><td>0.42163</td></tr><tr><td>val/epoch_F1_12</td><td>0.62715</td></tr><tr><td>val/epoch_F1_13</td><td>0.5038</td></tr><tr><td>val/epoch_F1_2</td><td>0.0</td></tr><tr><td>val/epoch_F1_3</td><td>0.51583</td></tr><tr><td>val/epoch_F1_4</td><td>0.53682</td></tr><tr><td>val/epoch_F1_5</td><td>0.67552</td></tr><tr><td>val/epoch_F1_6</td><td>0.5813</td></tr><tr><td>val/epoch_F1_7</td><td>0.0</td></tr><tr><td>val/epoch_F1_8</td><td>0.0</td></tr><tr><td>val/epoch_F1_9</td><td>0.67262</td></tr><tr><td>val/epoch_FN_0</td><td>14233.5</td></tr><tr><td>val/epoch_FN_1</td><td>35904.30078</td></tr><tr><td>val/epoch_FN_10</td><td>13139.0</td></tr><tr><td>val/epoch_FN_11</td><td>9044.90039</td></tr><tr><td>val/epoch_FN_12</td><td>34892.90234</td></tr><tr><td>val/epoch_FN_13</td><td>8661.60059</td></tr><tr><td>val/epoch_FN_2</td><td>0.0</td></tr><tr><td>val/epoch_FN_3</td><td>27703.80078</td></tr><tr><td>val/epoch_FN_4</td><td>16000.5</td></tr><tr><td>val/epoch_FN_5</td><td>3651.30005</td></tr><tr><td>val/epoch_FN_6</td><td>770.20001</td></tr><tr><td>val/epoch_FN_7</td><td>0.0</td></tr><tr><td>val/epoch_FN_8</td><td>0.0</td></tr><tr><td>val/epoch_FN_9</td><td>35784.90234</td></tr><tr><td>val/epoch_FP_0</td><td>23580.59961</td></tr><tr><td>val/epoch_FP_1</td><td>35738.10156</td></tr><tr><td>val/epoch_FP_10</td><td>19400.90039</td></tr><tr><td>val/epoch_FP_11</td><td>9786.7002</td></tr><tr><td>val/epoch_FP_12</td><td>28172.90039</td></tr><tr><td>val/epoch_FP_13</td><td>12980.5</td></tr><tr><td>val/epoch_FP_2</td><td>0.0</td></tr><tr><td>val/epoch_FP_3</td><td>21599.70117</td></tr><tr><td>val/epoch_FP_4</td><td>15434.2998</td></tr><tr><td>val/epoch_FP_5</td><td>4315.1001</td></tr><tr><td>val/epoch_FP_6</td><td>1924.40002</td></tr><tr><td>val/epoch_FP_7</td><td>0.0</td></tr><tr><td>val/epoch_FP_8</td><td>0.0</td></tr><tr><td>val/epoch_FP_9</td><td>35890.30078</td></tr><tr><td>val/epoch_IoU_0</td><td>0.60449</td></tr><tr><td>val/epoch_IoU_1</td><td>0.50911</td></tr><tr><td>val/epoch_IoU_10</td><td>0.54528</td></tr><tr><td>val/epoch_IoU_11</td><td>0.30947</td></tr><tr><td>val/epoch_IoU_12</td><td>0.46514</td></tr><tr><td>val/epoch_IoU_13</td><td>0.35243</td></tr><tr><td>val/epoch_IoU_2</td><td>0.0</td></tr><tr><td>val/epoch_IoU_3</td><td>0.35081</td></tr><tr><td>val/epoch_IoU_4</td><td>0.38034</td></tr><tr><td>val/epoch_IoU_5</td><td>0.53593</td></tr><tr><td>val/epoch_IoU_6</td><td>0.49762</td></tr><tr><td>val/epoch_IoU_7</td><td>0.0</td></tr><tr><td>val/epoch_IoU_8</td><td>0.0</td></tr><tr><td>val/epoch_IoU_9</td><td>0.50942</td></tr><tr><td>val/epoch_Precision_0</td><td>0.70283</td></tr><tr><td>val/epoch_Precision_1</td><td>0.67084</td></tr><tr><td>val/epoch_Precision_10</td><td>0.65017</td></tr><tr><td>val/epoch_Precision_11</td><td>0.46838</td></tr><tr><td>val/epoch_Precision_12</td><td>0.65556</td></tr><tr><td>val/epoch_Precision_13</td><td>0.47211</td></tr><tr><td>val/epoch_Precision_2</td><td>0.0</td></tr><tr><td>val/epoch_Precision_3</td><td>0.54788</td></tr><tr><td>val/epoch_Precision_4</td><td>0.53955</td></tr><tr><td>val/epoch_Precision_5</td><td>0.64948</td></tr><tr><td>val/epoch_Precision_6</td><td>0.54566</td></tr><tr><td>val/epoch_Precision_7</td><td>0.0</td></tr><tr><td>val/epoch_Precision_8</td><td>0.0</td></tr><tr><td>val/epoch_Precision_9</td><td>0.67028</td></tr><tr><td>val/epoch_Recall_0</td><td>0.81135</td></tr><tr><td>val/epoch_Recall_1</td><td>0.67637</td></tr><tr><td>val/epoch_Recall_10</td><td>0.75352</td></tr><tr><td>val/epoch_Recall_11</td><td>0.44281</td></tr><tr><td>val/epoch_Recall_12</td><td>0.60858</td></tr><tr><td>val/epoch_Recall_13</td><td>0.58068</td></tr><tr><td>val/epoch_Recall_2</td><td>0.0</td></tr><tr><td>val/epoch_Recall_3</td><td>0.49322</td></tr><tr><td>val/epoch_Recall_4</td><td>0.54197</td></tr><tr><td>val/epoch_Recall_5</td><td>0.72265</td></tr><tr><td>val/epoch_Recall_6</td><td>0.62265</td></tr><tr><td>val/epoch_Recall_7</td><td>0.0</td></tr><tr><td>val/epoch_Recall_8</td><td>0.0</td></tr><tr><td>val/epoch_Recall_9</td><td>0.67754</td></tr><tr><td>val/epoch_TN_0</td><td>4092303.25</td></tr><tr><td>val/epoch_TN_1</td><td>4049491.75</td></tr><tr><td>val/epoch_TN_10</td><td>4115423.25</td></tr><tr><td>val/epoch_TN_11</td><td>4165576.75</td></tr><tr><td>val/epoch_TN_12</td><td>4077206.5</td></tr><tr><td>val/epoch_TN_13</td><td>4161173.75</td></tr><tr><td>val/epoch_TN_2</td><td>4194304.0</td></tr><tr><td>val/epoch_TN_3</td><td>4117753.25</td></tr><tr><td>val/epoch_TN_4</td><td>4142385.75</td></tr><tr><td>val/epoch_TN_5</td><td>4179640.0</td></tr><tr><td>val/epoch_TN_6</td><td>4185089.75</td></tr><tr><td>val/epoch_TN_7</td><td>4194304.0</td></tr><tr><td>val/epoch_TN_8</td><td>4194304.0</td></tr><tr><td>val/epoch_TN_9</td><td>4049339.25</td></tr><tr><td>val/epoch_TP_0</td><td>64186.80078</td></tr><tr><td>val/epoch_TP_1</td><td>73170.20312</td></tr><tr><td>val/epoch_TP_10</td><td>46340.69922</td></tr><tr><td>val/epoch_TP_11</td><td>9895.7002</td></tr><tr><td>val/epoch_TP_12</td><td>54031.80078</td></tr><tr><td>val/epoch_TP_13</td><td>11488.2002</td></tr><tr><td>val/epoch_TP_2</td><td>0.0</td></tr><tr><td>val/epoch_TP_3</td><td>27247.30078</td></tr><tr><td>val/epoch_TP_4</td><td>20483.80078</td></tr><tr><td>val/epoch_TP_5</td><td>6697.7002</td></tr><tr><td>val/epoch_TP_6</td><td>6519.8999</td></tr><tr><td>val/epoch_TP_7</td><td>0.0</td></tr><tr><td>val/epoch_TP_8</td><td>0.0</td></tr><tr><td>val/epoch_TP_9</td><td>73289.60156</td></tr><tr><td>val/epoch_loss</td><td>0.38226</td></tr><tr><td>val/iter_F1_0</td><td>0.74372</td></tr><tr><td>val/iter_F1_1</td><td>0.67233</td></tr><tr><td>val/iter_F1_10</td><td>0.68709</td></tr><tr><td>val/iter_F1_11</td><td>0.42163</td></tr><tr><td>val/iter_F1_12</td><td>0.62715</td></tr><tr><td>val/iter_F1_13</td><td>0.5038</td></tr><tr><td>val/iter_F1_2</td><td>0.0</td></tr><tr><td>val/iter_F1_3</td><td>0.51583</td></tr><tr><td>val/iter_F1_4</td><td>0.53682</td></tr><tr><td>val/iter_F1_5</td><td>0.67552</td></tr><tr><td>val/iter_F1_6</td><td>0.5813</td></tr><tr><td>val/iter_F1_7</td><td>0.0</td></tr><tr><td>val/iter_F1_8</td><td>0.0</td></tr><tr><td>val/iter_F1_9</td><td>0.67262</td></tr><tr><td>val/iter_FN_0</td><td>14233.5</td></tr><tr><td>val/iter_FN_1</td><td>35904.30078</td></tr><tr><td>val/iter_FN_10</td><td>13139.0</td></tr><tr><td>val/iter_FN_11</td><td>9044.90039</td></tr><tr><td>val/iter_FN_12</td><td>34892.89844</td></tr><tr><td>val/iter_FN_13</td><td>8661.59961</td></tr><tr><td>val/iter_FN_2</td><td>0.0</td></tr><tr><td>val/iter_FN_3</td><td>27703.80078</td></tr><tr><td>val/iter_FN_4</td><td>16000.5</td></tr><tr><td>val/iter_FN_5</td><td>3651.30005</td></tr><tr><td>val/iter_FN_6</td><td>770.20001</td></tr><tr><td>val/iter_FN_7</td><td>0.0</td></tr><tr><td>val/iter_FN_8</td><td>0.0</td></tr><tr><td>val/iter_FN_9</td><td>35784.89844</td></tr><tr><td>val/iter_FP_0</td><td>23580.59961</td></tr><tr><td>val/iter_FP_1</td><td>35738.10156</td></tr><tr><td>val/iter_FP_10</td><td>19400.90039</td></tr><tr><td>val/iter_FP_11</td><td>9786.7002</td></tr><tr><td>val/iter_FP_12</td><td>28172.90039</td></tr><tr><td>val/iter_FP_13</td><td>12980.5</td></tr><tr><td>val/iter_FP_2</td><td>0.0</td></tr><tr><td>val/iter_FP_3</td><td>21599.69922</td></tr><tr><td>val/iter_FP_4</td><td>15434.2998</td></tr><tr><td>val/iter_FP_5</td><td>4315.1001</td></tr><tr><td>val/iter_FP_6</td><td>1924.40002</td></tr><tr><td>val/iter_FP_7</td><td>0.0</td></tr><tr><td>val/iter_FP_8</td><td>0.0</td></tr><tr><td>val/iter_FP_9</td><td>35890.30078</td></tr><tr><td>val/iter_IoU_0</td><td>0.60449</td></tr><tr><td>val/iter_IoU_1</td><td>0.50911</td></tr><tr><td>val/iter_IoU_10</td><td>0.54528</td></tr><tr><td>val/iter_IoU_11</td><td>0.30947</td></tr><tr><td>val/iter_IoU_12</td><td>0.46514</td></tr><tr><td>val/iter_IoU_13</td><td>0.35243</td></tr><tr><td>val/iter_IoU_2</td><td>0.0</td></tr><tr><td>val/iter_IoU_3</td><td>0.35081</td></tr><tr><td>val/iter_IoU_4</td><td>0.38034</td></tr><tr><td>val/iter_IoU_5</td><td>0.53593</td></tr><tr><td>val/iter_IoU_6</td><td>0.49762</td></tr><tr><td>val/iter_IoU_7</td><td>0.0</td></tr><tr><td>val/iter_IoU_8</td><td>0.0</td></tr><tr><td>val/iter_IoU_9</td><td>0.50942</td></tr><tr><td>val/iter_Precision_0</td><td>0.70283</td></tr><tr><td>val/iter_Precision_1</td><td>0.67084</td></tr><tr><td>val/iter_Precision_10</td><td>0.65017</td></tr><tr><td>val/iter_Precision_11</td><td>0.46838</td></tr><tr><td>val/iter_Precision_12</td><td>0.65556</td></tr><tr><td>val/iter_Precision_13</td><td>0.47211</td></tr><tr><td>val/iter_Precision_2</td><td>0.0</td></tr><tr><td>val/iter_Precision_3</td><td>0.54788</td></tr><tr><td>val/iter_Precision_4</td><td>0.53955</td></tr><tr><td>val/iter_Precision_5</td><td>0.64948</td></tr><tr><td>val/iter_Precision_6</td><td>0.54566</td></tr><tr><td>val/iter_Precision_7</td><td>0.0</td></tr><tr><td>val/iter_Precision_8</td><td>0.0</td></tr><tr><td>val/iter_Precision_9</td><td>0.67028</td></tr><tr><td>val/iter_Recall_0</td><td>0.81135</td></tr><tr><td>val/iter_Recall_1</td><td>0.67637</td></tr><tr><td>val/iter_Recall_10</td><td>0.75352</td></tr><tr><td>val/iter_Recall_11</td><td>0.44281</td></tr><tr><td>val/iter_Recall_12</td><td>0.60858</td></tr><tr><td>val/iter_Recall_13</td><td>0.58068</td></tr><tr><td>val/iter_Recall_2</td><td>0.0</td></tr><tr><td>val/iter_Recall_3</td><td>0.49322</td></tr><tr><td>val/iter_Recall_4</td><td>0.54197</td></tr><tr><td>val/iter_Recall_5</td><td>0.72265</td></tr><tr><td>val/iter_Recall_6</td><td>0.62265</td></tr><tr><td>val/iter_Recall_7</td><td>0.0</td></tr><tr><td>val/iter_Recall_8</td><td>0.0</td></tr><tr><td>val/iter_Recall_9</td><td>0.67754</td></tr><tr><td>val/iter_TN_0</td><td>4092303.25</td></tr><tr><td>val/iter_TN_1</td><td>4049491.25</td></tr><tr><td>val/iter_TN_10</td><td>4115423.25</td></tr><tr><td>val/iter_TN_11</td><td>4165576.5</td></tr><tr><td>val/iter_TN_12</td><td>4077206.0</td></tr><tr><td>val/iter_TN_13</td><td>4161173.5</td></tr><tr><td>val/iter_TN_2</td><td>4194304.0</td></tr><tr><td>val/iter_TN_3</td><td>4117752.75</td></tr><tr><td>val/iter_TN_4</td><td>4142385.25</td></tr><tr><td>val/iter_TN_5</td><td>4179640.0</td></tr><tr><td>val/iter_TN_6</td><td>4185089.5</td></tr><tr><td>val/iter_TN_7</td><td>4194304.0</td></tr><tr><td>val/iter_TN_8</td><td>4194304.0</td></tr><tr><td>val/iter_TN_9</td><td>4049339.25</td></tr><tr><td>val/iter_TP_0</td><td>64186.80078</td></tr><tr><td>val/iter_TP_1</td><td>73170.20312</td></tr><tr><td>val/iter_TP_10</td><td>46340.69922</td></tr><tr><td>val/iter_TP_11</td><td>9895.7002</td></tr><tr><td>val/iter_TP_12</td><td>54031.80078</td></tr><tr><td>val/iter_TP_13</td><td>11488.2002</td></tr><tr><td>val/iter_TP_2</td><td>0.0</td></tr><tr><td>val/iter_TP_3</td><td>27247.30078</td></tr><tr><td>val/iter_TP_4</td><td>20483.80078</td></tr><tr><td>val/iter_TP_5</td><td>6697.7002</td></tr><tr><td>val/iter_TP_6</td><td>6519.8999</td></tr><tr><td>val/iter_TP_7</td><td>0.0</td></tr><tr><td>val/iter_TP_8</td><td>0.0</td></tr><tr><td>val/iter_TP_9</td><td>73289.60156</td></tr><tr><td>val/iter_loss</td><td>0.38226</td></tr><tr><td>val/mean_F1</td><td>0.47413</td></tr><tr><td>val/mean_IoU</td><td>0.36143</td></tr></table><br/></div></div>"
      ],
      "text/plain": [
       "<IPython.core.display.HTML object>"
      ]
     },
     "metadata": {},
     "output_type": "display_data"
    },
    {
     "data": {
      "text/html": [
       "Synced <strong style=\"color:#cdcd00\">3090_fold3</strong>: <a href=\"https://wandb.ai/spaceshift/SpaceNet8/runs/1lgmehfd\" target=\"_blank\">https://wandb.ai/spaceshift/SpaceNet8/runs/1lgmehfd</a><br/>Synced 6 W&B file(s), 0 media file(s), 0 artifact file(s) and 1 other file(s)"
      ],
      "text/plain": [
       "<IPython.core.display.HTML object>"
      ]
     },
     "metadata": {},
     "output_type": "display_data"
    },
    {
     "data": {
      "text/html": [
       "Find logs at: <code>./wandb/run-20220723_100333-1lgmehfd/logs</code>"
      ],
      "text/plain": [
       "<IPython.core.display.HTML object>"
      ]
     },
     "metadata": {},
     "output_type": "display_data"
    },
    {
     "name": "stdout",
     "output_type": "stream",
     "text": [
      "############################################################\n",
      "### Fold: 4\n",
      "############################################################\n"
     ]
    },
    {
     "data": {
      "text/html": [
       "Changes to your `wandb` environment variables will be ignored because your `wandb` session has already started. For more information on how to modify your settings with `wandb.init()` arguments, please refer to <a href=\"https://wandb.me/wandb-init\" target=\"_blank\">the W&B docs</a>."
      ],
      "text/plain": [
       "<IPython.core.display.HTML object>"
      ]
     },
     "metadata": {},
     "output_type": "display_data"
    },
    {
     "data": {
      "text/html": [
       "Tracking run with wandb version 0.12.21"
      ],
      "text/plain": [
       "<IPython.core.display.HTML object>"
      ]
     },
     "metadata": {},
     "output_type": "display_data"
    },
    {
     "data": {
      "text/html": [
       "Run data is saved locally in <code>/media/syu/c983cccd-1cc7-4ce4-b206-7eb1a2cc5c94/topcoder/spacenet8/SpaceNet8/baseline/wandb/run-20220723_121321-1as76vze</code>"
      ],
      "text/plain": [
       "<IPython.core.display.HTML object>"
      ]
     },
     "metadata": {},
     "output_type": "display_data"
    },
    {
     "data": {
      "text/html": [
       "Syncing run <strong><a href=\"https://wandb.ai/spaceshift/SpaceNet8/runs/1as76vze\" target=\"_blank\">3090_fold4</a></strong> to <a href=\"https://wandb.ai/spaceshift/SpaceNet8\" target=\"_blank\">Weights & Biases</a> (<a href=\"https://wandb.me/run\" target=\"_blank\">docs</a>)<br/>"
      ],
      "text/plain": [
       "<IPython.core.display.HTML object>"
      ]
     },
     "metadata": {},
     "output_type": "display_data"
    },
    {
     "name": "stderr",
     "output_type": "stream",
     "text": [
      "Using 16bit native Automatic Mixed Precision (AMP)\n",
      "GPU available: True, used: True\n",
      "TPU available: False, using: 0 TPU cores\n",
      "IPU available: False, using: 0 IPUs\n",
      "HPU available: False, using: 0 HPUs\n",
      "`Trainer(val_check_interval=1.0)` was configured so validation will run at the end of the training epoch..\n",
      "LOCAL_RANK: 0 - CUDA_VISIBLE_DEVICES: [0]\n",
      "\n",
      "  | Name       | Type             | Params\n",
      "------------------------------------------------\n",
      "0 | backbone   | UnetPlusPlus     | 6.6 M \n",
      "1 | _criterion | MultiBCEDiceLoss | 0     \n",
      "------------------------------------------------\n",
      "6.6 M     Trainable params\n",
      "0         Non-trainable params\n",
      "6.6 M     Total params\n",
      "13.286    Total estimated model params size (MB)\n"
     ]
    },
    {
     "name": "stdout",
     "output_type": "stream",
     "text": [
      "### Start Trainig\n",
      "loaded 641 image filepaths\n",
      "loaded 160 image filepaths\n"
     ]
    },
    {
     "data": {
      "application/vnd.jupyter.widget-view+json": {
       "model_id": "f1889861e15f4f1a9b5a8ec6a3bf27ac",
       "version_major": 2,
       "version_minor": 0
      },
      "text/plain": [
       "Training: 0it [00:00, ?it/s]"
      ]
     },
     "metadata": {},
     "output_type": "display_data"
    },
    {
     "data": {
      "application/vnd.jupyter.widget-view+json": {
       "model_id": "514e7ebc12cf49619fc0cd90c6fef7e0",
       "version_major": 2,
       "version_minor": 0
      },
      "text/plain": [
       "Validation: 0it [00:00, ?it/s]"
      ]
     },
     "metadata": {},
     "output_type": "display_data"
    },
    {
     "data": {
      "application/vnd.jupyter.widget-view+json": {
       "model_id": "156fbd9c40ee4614b1376b91628a817c",
       "version_major": 2,
       "version_minor": 0
      },
      "text/plain": [
       "Validation: 0it [00:00, ?it/s]"
      ]
     },
     "metadata": {},
     "output_type": "display_data"
    },
    {
     "data": {
      "application/vnd.jupyter.widget-view+json": {
       "model_id": "8c7a0872559340dd99dbf50b60261c68",
       "version_major": 2,
       "version_minor": 0
      },
      "text/plain": [
       "Validation: 0it [00:00, ?it/s]"
      ]
     },
     "metadata": {},
     "output_type": "display_data"
    },
    {
     "data": {
      "application/vnd.jupyter.widget-view+json": {
       "model_id": "f6b65fed9f1041799b4674a449ad9bd1",
       "version_major": 2,
       "version_minor": 0
      },
      "text/plain": [
       "Validation: 0it [00:00, ?it/s]"
      ]
     },
     "metadata": {},
     "output_type": "display_data"
    },
    {
     "data": {
      "application/vnd.jupyter.widget-view+json": {
       "model_id": "29549917e1af42e2a3950cf9a245131e",
       "version_major": 2,
       "version_minor": 0
      },
      "text/plain": [
       "Validation: 0it [00:00, ?it/s]"
      ]
     },
     "metadata": {},
     "output_type": "display_data"
    },
    {
     "data": {
      "application/vnd.jupyter.widget-view+json": {
       "model_id": "084754c8025d49ef815cf97b12d31746",
       "version_major": 2,
       "version_minor": 0
      },
      "text/plain": [
       "Validation: 0it [00:00, ?it/s]"
      ]
     },
     "metadata": {},
     "output_type": "display_data"
    },
    {
     "data": {
      "application/vnd.jupyter.widget-view+json": {
       "model_id": "91a9f81ead7243129318829fc510c970",
       "version_major": 2,
       "version_minor": 0
      },
      "text/plain": [
       "Validation: 0it [00:00, ?it/s]"
      ]
     },
     "metadata": {},
     "output_type": "display_data"
    },
    {
     "data": {
      "application/vnd.jupyter.widget-view+json": {
       "model_id": "fcf4a4be989d465ab434d451f3ea88ee",
       "version_major": 2,
       "version_minor": 0
      },
      "text/plain": [
       "Validation: 0it [00:00, ?it/s]"
      ]
     },
     "metadata": {},
     "output_type": "display_data"
    },
    {
     "data": {
      "application/vnd.jupyter.widget-view+json": {
       "model_id": "0e04052422764fef9eda535382766418",
       "version_major": 2,
       "version_minor": 0
      },
      "text/plain": [
       "Validation: 0it [00:00, ?it/s]"
      ]
     },
     "metadata": {},
     "output_type": "display_data"
    },
    {
     "data": {
      "application/vnd.jupyter.widget-view+json": {
       "model_id": "2f2ecd57cadf4b2cbae4298afb006d4d",
       "version_major": 2,
       "version_minor": 0
      },
      "text/plain": [
       "Validation: 0it [00:00, ?it/s]"
      ]
     },
     "metadata": {},
     "output_type": "display_data"
    },
    {
     "data": {
      "application/vnd.jupyter.widget-view+json": {
       "model_id": "85807d1b394649d3aa254074e27772b3",
       "version_major": 2,
       "version_minor": 0
      },
      "text/plain": [
       "Validation: 0it [00:00, ?it/s]"
      ]
     },
     "metadata": {},
     "output_type": "display_data"
    },
    {
     "data": {
      "application/vnd.jupyter.widget-view+json": {
       "model_id": "81857a937c1245de9ce89f77d8ed8c25",
       "version_major": 2,
       "version_minor": 0
      },
      "text/plain": [
       "Validation: 0it [00:00, ?it/s]"
      ]
     },
     "metadata": {},
     "output_type": "display_data"
    },
    {
     "data": {
      "application/vnd.jupyter.widget-view+json": {
       "model_id": "6660277c8ba14ff4914995df245bf028",
       "version_major": 2,
       "version_minor": 0
      },
      "text/plain": [
       "Validation: 0it [00:00, ?it/s]"
      ]
     },
     "metadata": {},
     "output_type": "display_data"
    },
    {
     "data": {
      "application/vnd.jupyter.widget-view+json": {
       "model_id": "ebce8d81e7944e5d91b5a89015561a2a",
       "version_major": 2,
       "version_minor": 0
      },
      "text/plain": [
       "Validation: 0it [00:00, ?it/s]"
      ]
     },
     "metadata": {},
     "output_type": "display_data"
    },
    {
     "data": {
      "application/vnd.jupyter.widget-view+json": {
       "model_id": "4a9febd80cb641a59511e944b63ff443",
       "version_major": 2,
       "version_minor": 0
      },
      "text/plain": [
       "Validation: 0it [00:00, ?it/s]"
      ]
     },
     "metadata": {},
     "output_type": "display_data"
    },
    {
     "data": {
      "application/vnd.jupyter.widget-view+json": {
       "model_id": "b597152152f74a7ca8579bedd99f120c",
       "version_major": 2,
       "version_minor": 0
      },
      "text/plain": [
       "Validation: 0it [00:00, ?it/s]"
      ]
     },
     "metadata": {},
     "output_type": "display_data"
    },
    {
     "data": {
      "application/vnd.jupyter.widget-view+json": {
       "model_id": "08abebf8464b47f4a461ea714f9bc84e",
       "version_major": 2,
       "version_minor": 0
      },
      "text/plain": [
       "Validation: 0it [00:00, ?it/s]"
      ]
     },
     "metadata": {},
     "output_type": "display_data"
    },
    {
     "data": {
      "application/vnd.jupyter.widget-view+json": {
       "model_id": "e41bca484e21414cbbf4e5277e9452f5",
       "version_major": 2,
       "version_minor": 0
      },
      "text/plain": [
       "Validation: 0it [00:00, ?it/s]"
      ]
     },
     "metadata": {},
     "output_type": "display_data"
    },
    {
     "data": {
      "application/vnd.jupyter.widget-view+json": {
       "model_id": "1b41c2f9141a4fdf8c918061924b381f",
       "version_major": 2,
       "version_minor": 0
      },
      "text/plain": [
       "Validation: 0it [00:00, ?it/s]"
      ]
     },
     "metadata": {},
     "output_type": "display_data"
    },
    {
     "data": {
      "application/vnd.jupyter.widget-view+json": {
       "model_id": "e32c848b3cf945f59c5bb16760c460e7",
       "version_major": 2,
       "version_minor": 0
      },
      "text/plain": [
       "Validation: 0it [00:00, ?it/s]"
      ]
     },
     "metadata": {},
     "output_type": "display_data"
    },
    {
     "data": {
      "application/vnd.jupyter.widget-view+json": {
       "model_id": "3d9b89bc0b5b4b8c90d26e7ecac060da",
       "version_major": 2,
       "version_minor": 0
      },
      "text/plain": [
       "Validation: 0it [00:00, ?it/s]"
      ]
     },
     "metadata": {},
     "output_type": "display_data"
    },
    {
     "data": {
      "application/vnd.jupyter.widget-view+json": {
       "model_id": "220ba5334ddf47e9ba93c7c8b14ccbb1",
       "version_major": 2,
       "version_minor": 0
      },
      "text/plain": [
       "Validation: 0it [00:00, ?it/s]"
      ]
     },
     "metadata": {},
     "output_type": "display_data"
    },
    {
     "data": {
      "application/vnd.jupyter.widget-view+json": {
       "model_id": "ee990139a5424642a90b7926907ae776",
       "version_major": 2,
       "version_minor": 0
      },
      "text/plain": [
       "Validation: 0it [00:00, ?it/s]"
      ]
     },
     "metadata": {},
     "output_type": "display_data"
    },
    {
     "data": {
      "application/vnd.jupyter.widget-view+json": {
       "model_id": "93eef0e67602416cbaea81dca62b31b8",
       "version_major": 2,
       "version_minor": 0
      },
      "text/plain": [
       "Validation: 0it [00:00, ?it/s]"
      ]
     },
     "metadata": {},
     "output_type": "display_data"
    },
    {
     "data": {
      "application/vnd.jupyter.widget-view+json": {
       "model_id": "e352a5c799484d028736eb6aa33e3f1a",
       "version_major": 2,
       "version_minor": 0
      },
      "text/plain": [
       "Validation: 0it [00:00, ?it/s]"
      ]
     },
     "metadata": {},
     "output_type": "display_data"
    },
    {
     "data": {
      "application/vnd.jupyter.widget-view+json": {
       "model_id": "36058ecc4de142b2b6bd8cb30be4ca22",
       "version_major": 2,
       "version_minor": 0
      },
      "text/plain": [
       "Validation: 0it [00:00, ?it/s]"
      ]
     },
     "metadata": {},
     "output_type": "display_data"
    },
    {
     "data": {
      "application/vnd.jupyter.widget-view+json": {
       "model_id": "6f5da5889c1945418f4d1626919f64fe",
       "version_major": 2,
       "version_minor": 0
      },
      "text/plain": [
       "Validation: 0it [00:00, ?it/s]"
      ]
     },
     "metadata": {},
     "output_type": "display_data"
    },
    {
     "data": {
      "application/vnd.jupyter.widget-view+json": {
       "model_id": "750740024c704ddfa84faae56f9ed23a",
       "version_major": 2,
       "version_minor": 0
      },
      "text/plain": [
       "Validation: 0it [00:00, ?it/s]"
      ]
     },
     "metadata": {},
     "output_type": "display_data"
    },
    {
     "data": {
      "application/vnd.jupyter.widget-view+json": {
       "model_id": "c500a6fdc0d64872bb7f9ca7521cb0fe",
       "version_major": 2,
       "version_minor": 0
      },
      "text/plain": [
       "Validation: 0it [00:00, ?it/s]"
      ]
     },
     "metadata": {},
     "output_type": "display_data"
    },
    {
     "data": {
      "application/vnd.jupyter.widget-view+json": {
       "model_id": "66b8110ad5e74d37a893829d108e6a78",
       "version_major": 2,
       "version_minor": 0
      },
      "text/plain": [
       "Validation: 0it [00:00, ?it/s]"
      ]
     },
     "metadata": {},
     "output_type": "display_data"
    },
    {
     "data": {
      "application/vnd.jupyter.widget-view+json": {
       "model_id": "4e2c5d6b156d443ba09d9d476ea22d17",
       "version_major": 2,
       "version_minor": 0
      },
      "text/plain": [
       "Validation: 0it [00:00, ?it/s]"
      ]
     },
     "metadata": {},
     "output_type": "display_data"
    },
    {
     "data": {
      "application/vnd.jupyter.widget-view+json": {
       "model_id": "758dd8a8970d4912b5961fd70137bd30",
       "version_major": 2,
       "version_minor": 0
      },
      "text/plain": [
       "Validation: 0it [00:00, ?it/s]"
      ]
     },
     "metadata": {},
     "output_type": "display_data"
    },
    {
     "data": {
      "application/vnd.jupyter.widget-view+json": {
       "model_id": "06e6c4d6f1a745f4b6580ad66d13b7f8",
       "version_major": 2,
       "version_minor": 0
      },
      "text/plain": [
       "Validation: 0it [00:00, ?it/s]"
      ]
     },
     "metadata": {},
     "output_type": "display_data"
    },
    {
     "data": {
      "application/vnd.jupyter.widget-view+json": {
       "model_id": "bf653dd5b73243cd82f1997354161d0c",
       "version_major": 2,
       "version_minor": 0
      },
      "text/plain": [
       "Validation: 0it [00:00, ?it/s]"
      ]
     },
     "metadata": {},
     "output_type": "display_data"
    },
    {
     "data": {
      "application/vnd.jupyter.widget-view+json": {
       "model_id": "c574e476d739460fb2c62ec553348911",
       "version_major": 2,
       "version_minor": 0
      },
      "text/plain": [
       "Validation: 0it [00:00, ?it/s]"
      ]
     },
     "metadata": {},
     "output_type": "display_data"
    },
    {
     "data": {
      "application/vnd.jupyter.widget-view+json": {
       "model_id": "4ce96d689fb143828fc493d337aa70cd",
       "version_major": 2,
       "version_minor": 0
      },
      "text/plain": [
       "Validation: 0it [00:00, ?it/s]"
      ]
     },
     "metadata": {},
     "output_type": "display_data"
    },
    {
     "data": {
      "application/vnd.jupyter.widget-view+json": {
       "model_id": "9bdd02b3fb564a0ba7b0ba8a0e57db48",
       "version_major": 2,
       "version_minor": 0
      },
      "text/plain": [
       "Validation: 0it [00:00, ?it/s]"
      ]
     },
     "metadata": {},
     "output_type": "display_data"
    },
    {
     "data": {
      "application/vnd.jupyter.widget-view+json": {
       "model_id": "1df5389109e440e191a04520a86aaf72",
       "version_major": 2,
       "version_minor": 0
      },
      "text/plain": [
       "Validation: 0it [00:00, ?it/s]"
      ]
     },
     "metadata": {},
     "output_type": "display_data"
    },
    {
     "data": {
      "application/vnd.jupyter.widget-view+json": {
       "model_id": "167790cd6bd5491fa29e96422421501b",
       "version_major": 2,
       "version_minor": 0
      },
      "text/plain": [
       "Validation: 0it [00:00, ?it/s]"
      ]
     },
     "metadata": {},
     "output_type": "display_data"
    },
    {
     "data": {
      "application/vnd.jupyter.widget-view+json": {
       "model_id": "e9395e159c4944c4b39b5a0d0e5237b2",
       "version_major": 2,
       "version_minor": 0
      },
      "text/plain": [
       "Validation: 0it [00:00, ?it/s]"
      ]
     },
     "metadata": {},
     "output_type": "display_data"
    },
    {
     "data": {
      "application/vnd.jupyter.widget-view+json": {
       "model_id": "803f79dc32da4ac6adab629664c961d7",
       "version_major": 2,
       "version_minor": 0
      },
      "text/plain": [
       "Validation: 0it [00:00, ?it/s]"
      ]
     },
     "metadata": {},
     "output_type": "display_data"
    },
    {
     "data": {
      "application/vnd.jupyter.widget-view+json": {
       "model_id": "69e08da648964bdbb97525b05b85aabc",
       "version_major": 2,
       "version_minor": 0
      },
      "text/plain": [
       "Validation: 0it [00:00, ?it/s]"
      ]
     },
     "metadata": {},
     "output_type": "display_data"
    },
    {
     "data": {
      "application/vnd.jupyter.widget-view+json": {
       "model_id": "9cb107725a37450e8f00b80da3d908d1",
       "version_major": 2,
       "version_minor": 0
      },
      "text/plain": [
       "Validation: 0it [00:00, ?it/s]"
      ]
     },
     "metadata": {},
     "output_type": "display_data"
    },
    {
     "data": {
      "application/vnd.jupyter.widget-view+json": {
       "model_id": "8327004e22144cbf9dc48dec307a1aaf",
       "version_major": 2,
       "version_minor": 0
      },
      "text/plain": [
       "Validation: 0it [00:00, ?it/s]"
      ]
     },
     "metadata": {},
     "output_type": "display_data"
    },
    {
     "data": {
      "application/vnd.jupyter.widget-view+json": {
       "model_id": "6aa9307047e74ff7a83f23760d5ca2ad",
       "version_major": 2,
       "version_minor": 0
      },
      "text/plain": [
       "Validation: 0it [00:00, ?it/s]"
      ]
     },
     "metadata": {},
     "output_type": "display_data"
    },
    {
     "data": {
      "application/vnd.jupyter.widget-view+json": {
       "model_id": "f50b4c4cdc9d46949c0dff0ac9617570",
       "version_major": 2,
       "version_minor": 0
      },
      "text/plain": [
       "Validation: 0it [00:00, ?it/s]"
      ]
     },
     "metadata": {},
     "output_type": "display_data"
    },
    {
     "data": {
      "application/vnd.jupyter.widget-view+json": {
       "model_id": "0bb7c4b086a744c295e9a2d47420b0ea",
       "version_major": 2,
       "version_minor": 0
      },
      "text/plain": [
       "Validation: 0it [00:00, ?it/s]"
      ]
     },
     "metadata": {},
     "output_type": "display_data"
    },
    {
     "data": {
      "application/vnd.jupyter.widget-view+json": {
       "model_id": "4977d1602f4745a0bfcf97d6ee0006e2",
       "version_major": 2,
       "version_minor": 0
      },
      "text/plain": [
       "Validation: 0it [00:00, ?it/s]"
      ]
     },
     "metadata": {},
     "output_type": "display_data"
    },
    {
     "data": {
      "application/vnd.jupyter.widget-view+json": {
       "model_id": "5ed07ca0c59b43609540b781d06a6aa1",
       "version_major": 2,
       "version_minor": 0
      },
      "text/plain": [
       "Validation: 0it [00:00, ?it/s]"
      ]
     },
     "metadata": {},
     "output_type": "display_data"
    },
    {
     "data": {
      "application/vnd.jupyter.widget-view+json": {
       "model_id": "adc3178dafe84a2a90a32290e792713a",
       "version_major": 2,
       "version_minor": 0
      },
      "text/plain": [
       "Validation: 0it [00:00, ?it/s]"
      ]
     },
     "metadata": {},
     "output_type": "display_data"
    },
    {
     "data": {
      "application/vnd.jupyter.widget-view+json": {
       "model_id": "2fc5e244d67a4fb4b2333bf81be6c89c",
       "version_major": 2,
       "version_minor": 0
      },
      "text/plain": [
       "Validation: 0it [00:00, ?it/s]"
      ]
     },
     "metadata": {},
     "output_type": "display_data"
    },
    {
     "data": {
      "application/vnd.jupyter.widget-view+json": {
       "model_id": "34b6f337dae2462f930524bb892e84a6",
       "version_major": 2,
       "version_minor": 0
      },
      "text/plain": [
       "Validation: 0it [00:00, ?it/s]"
      ]
     },
     "metadata": {},
     "output_type": "display_data"
    },
    {
     "data": {
      "application/vnd.jupyter.widget-view+json": {
       "model_id": "d99970a9eb114b18a62c9f706d921c06",
       "version_major": 2,
       "version_minor": 0
      },
      "text/plain": [
       "Validation: 0it [00:00, ?it/s]"
      ]
     },
     "metadata": {},
     "output_type": "display_data"
    },
    {
     "data": {
      "application/vnd.jupyter.widget-view+json": {
       "model_id": "7c8a57ea722c40f582a6b3e36c6ace97",
       "version_major": 2,
       "version_minor": 0
      },
      "text/plain": [
       "Validation: 0it [00:00, ?it/s]"
      ]
     },
     "metadata": {},
     "output_type": "display_data"
    },
    {
     "data": {
      "application/vnd.jupyter.widget-view+json": {
       "model_id": "1a9b25de14504680b8f5e1abf283311e",
       "version_major": 2,
       "version_minor": 0
      },
      "text/plain": [
       "Validation: 0it [00:00, ?it/s]"
      ]
     },
     "metadata": {},
     "output_type": "display_data"
    },
    {
     "data": {
      "application/vnd.jupyter.widget-view+json": {
       "model_id": "6ed64ac1a57f4138b03e63a0bb7b245c",
       "version_major": 2,
       "version_minor": 0
      },
      "text/plain": [
       "Validation: 0it [00:00, ?it/s]"
      ]
     },
     "metadata": {},
     "output_type": "display_data"
    },
    {
     "data": {
      "application/vnd.jupyter.widget-view+json": {
       "model_id": "acc32d9eee204979bba440a64bb46975",
       "version_major": 2,
       "version_minor": 0
      },
      "text/plain": [
       "Validation: 0it [00:00, ?it/s]"
      ]
     },
     "metadata": {},
     "output_type": "display_data"
    },
    {
     "data": {
      "application/vnd.jupyter.widget-view+json": {
       "model_id": "07887051362e4629a515489e3dd1698f",
       "version_major": 2,
       "version_minor": 0
      },
      "text/plain": [
       "Validation: 0it [00:00, ?it/s]"
      ]
     },
     "metadata": {},
     "output_type": "display_data"
    },
    {
     "data": {
      "application/vnd.jupyter.widget-view+json": {
       "model_id": "f4a0ca6db30f432db04eb72cf3e7f902",
       "version_major": 2,
       "version_minor": 0
      },
      "text/plain": [
       "Validation: 0it [00:00, ?it/s]"
      ]
     },
     "metadata": {},
     "output_type": "display_data"
    },
    {
     "data": {
      "application/vnd.jupyter.widget-view+json": {
       "model_id": "3d7d31c5469c4835b23167af8a1058cc",
       "version_major": 2,
       "version_minor": 0
      },
      "text/plain": [
       "Validation: 0it [00:00, ?it/s]"
      ]
     },
     "metadata": {},
     "output_type": "display_data"
    },
    {
     "data": {
      "application/vnd.jupyter.widget-view+json": {
       "model_id": "d522108cfe8049b8bbcd29abfc85cf14",
       "version_major": 2,
       "version_minor": 0
      },
      "text/plain": [
       "Validation: 0it [00:00, ?it/s]"
      ]
     },
     "metadata": {},
     "output_type": "display_data"
    },
    {
     "data": {
      "application/vnd.jupyter.widget-view+json": {
       "model_id": "4443f984c11146609011ff02ec444800",
       "version_major": 2,
       "version_minor": 0
      },
      "text/plain": [
       "Validation: 0it [00:00, ?it/s]"
      ]
     },
     "metadata": {},
     "output_type": "display_data"
    },
    {
     "data": {
      "application/vnd.jupyter.widget-view+json": {
       "model_id": "b254a61df91d4598a74bdb10823f62ed",
       "version_major": 2,
       "version_minor": 0
      },
      "text/plain": [
       "Validation: 0it [00:00, ?it/s]"
      ]
     },
     "metadata": {},
     "output_type": "display_data"
    },
    {
     "data": {
      "application/vnd.jupyter.widget-view+json": {
       "model_id": "166ed5a5595442f38d68e8b130fc1f8a",
       "version_major": 2,
       "version_minor": 0
      },
      "text/plain": [
       "Validation: 0it [00:00, ?it/s]"
      ]
     },
     "metadata": {},
     "output_type": "display_data"
    },
    {
     "data": {
      "application/vnd.jupyter.widget-view+json": {
       "model_id": "c6c5fc0639cc41f397ec3b083a59b15a",
       "version_major": 2,
       "version_minor": 0
      },
      "text/plain": [
       "Validation: 0it [00:00, ?it/s]"
      ]
     },
     "metadata": {},
     "output_type": "display_data"
    },
    {
     "data": {
      "application/vnd.jupyter.widget-view+json": {
       "model_id": "02092ee2924747a8b54010c76f132520",
       "version_major": 2,
       "version_minor": 0
      },
      "text/plain": [
       "Validation: 0it [00:00, ?it/s]"
      ]
     },
     "metadata": {},
     "output_type": "display_data"
    },
    {
     "data": {
      "application/vnd.jupyter.widget-view+json": {
       "model_id": "e016675108b14a168deb81ef1a8a86ec",
       "version_major": 2,
       "version_minor": 0
      },
      "text/plain": [
       "Validation: 0it [00:00, ?it/s]"
      ]
     },
     "metadata": {},
     "output_type": "display_data"
    },
    {
     "data": {
      "application/vnd.jupyter.widget-view+json": {
       "model_id": "002e873e179f41399e6a1eda8a0f4fe6",
       "version_major": 2,
       "version_minor": 0
      },
      "text/plain": [
       "Validation: 0it [00:00, ?it/s]"
      ]
     },
     "metadata": {},
     "output_type": "display_data"
    },
    {
     "data": {
      "application/vnd.jupyter.widget-view+json": {
       "model_id": "969f622199db453581462ac43d70cf70",
       "version_major": 2,
       "version_minor": 0
      },
      "text/plain": [
       "Validation: 0it [00:00, ?it/s]"
      ]
     },
     "metadata": {},
     "output_type": "display_data"
    },
    {
     "data": {
      "application/vnd.jupyter.widget-view+json": {
       "model_id": "da612bf606c24975b554616a82849b01",
       "version_major": 2,
       "version_minor": 0
      },
      "text/plain": [
       "Validation: 0it [00:00, ?it/s]"
      ]
     },
     "metadata": {},
     "output_type": "display_data"
    },
    {
     "data": {
      "application/vnd.jupyter.widget-view+json": {
       "model_id": "bc6f9da08c1846c3b410bbf07b3703e2",
       "version_major": 2,
       "version_minor": 0
      },
      "text/plain": [
       "Validation: 0it [00:00, ?it/s]"
      ]
     },
     "metadata": {},
     "output_type": "display_data"
    },
    {
     "data": {
      "application/vnd.jupyter.widget-view+json": {
       "model_id": "a018ecf98a924df8a0442cf5d207a717",
       "version_major": 2,
       "version_minor": 0
      },
      "text/plain": [
       "Validation: 0it [00:00, ?it/s]"
      ]
     },
     "metadata": {},
     "output_type": "display_data"
    },
    {
     "data": {
      "application/vnd.jupyter.widget-view+json": {
       "model_id": "9a2f4cdb9f544d2a8fec750ae19983af",
       "version_major": 2,
       "version_minor": 0
      },
      "text/plain": [
       "Validation: 0it [00:00, ?it/s]"
      ]
     },
     "metadata": {},
     "output_type": "display_data"
    },
    {
     "data": {
      "application/vnd.jupyter.widget-view+json": {
       "model_id": "e0de916a4da840f9ada6efdc5d91f727",
       "version_major": 2,
       "version_minor": 0
      },
      "text/plain": [
       "Validation: 0it [00:00, ?it/s]"
      ]
     },
     "metadata": {},
     "output_type": "display_data"
    },
    {
     "data": {
      "application/vnd.jupyter.widget-view+json": {
       "model_id": "9f74d3ba610247588143a76926157946",
       "version_major": 2,
       "version_minor": 0
      },
      "text/plain": [
       "Validation: 0it [00:00, ?it/s]"
      ]
     },
     "metadata": {},
     "output_type": "display_data"
    },
    {
     "data": {
      "application/vnd.jupyter.widget-view+json": {
       "model_id": "26efcdee0ffc45dc8ae2e0be9444a95b",
       "version_major": 2,
       "version_minor": 0
      },
      "text/plain": [
       "Validation: 0it [00:00, ?it/s]"
      ]
     },
     "metadata": {},
     "output_type": "display_data"
    },
    {
     "data": {
      "application/vnd.jupyter.widget-view+json": {
       "model_id": "9ff36069b65741cd88cad63689d4b4c2",
       "version_major": 2,
       "version_minor": 0
      },
      "text/plain": [
       "Validation: 0it [00:00, ?it/s]"
      ]
     },
     "metadata": {},
     "output_type": "display_data"
    },
    {
     "data": {
      "application/vnd.jupyter.widget-view+json": {
       "model_id": "91524a8dc9bd49e3b9c2890956627317",
       "version_major": 2,
       "version_minor": 0
      },
      "text/plain": [
       "Validation: 0it [00:00, ?it/s]"
      ]
     },
     "metadata": {},
     "output_type": "display_data"
    },
    {
     "data": {
      "application/vnd.jupyter.widget-view+json": {
       "model_id": "bd2347bd493549dfabe41b7ce24fa637",
       "version_major": 2,
       "version_minor": 0
      },
      "text/plain": [
       "Validation: 0it [00:00, ?it/s]"
      ]
     },
     "metadata": {},
     "output_type": "display_data"
    },
    {
     "data": {
      "application/vnd.jupyter.widget-view+json": {
       "model_id": "7c8c3251b8304407bbd65ae602b45dcf",
       "version_major": 2,
       "version_minor": 0
      },
      "text/plain": [
       "Validation: 0it [00:00, ?it/s]"
      ]
     },
     "metadata": {},
     "output_type": "display_data"
    },
    {
     "data": {
      "application/vnd.jupyter.widget-view+json": {
       "model_id": "4a920bf4376249879b247027ebc9076d",
       "version_major": 2,
       "version_minor": 0
      },
      "text/plain": [
       "Validation: 0it [00:00, ?it/s]"
      ]
     },
     "metadata": {},
     "output_type": "display_data"
    },
    {
     "data": {
      "application/vnd.jupyter.widget-view+json": {
       "model_id": "266ab8ee1d6345a9a2035c85e6a5085f",
       "version_major": 2,
       "version_minor": 0
      },
      "text/plain": [
       "Validation: 0it [00:00, ?it/s]"
      ]
     },
     "metadata": {},
     "output_type": "display_data"
    },
    {
     "data": {
      "application/vnd.jupyter.widget-view+json": {
       "model_id": "ad9709d1b1fe49f89097b3c8f6c25262",
       "version_major": 2,
       "version_minor": 0
      },
      "text/plain": [
       "Validation: 0it [00:00, ?it/s]"
      ]
     },
     "metadata": {},
     "output_type": "display_data"
    },
    {
     "data": {
      "application/vnd.jupyter.widget-view+json": {
       "model_id": "43256b41fb124d318588fc6780d0f5e2",
       "version_major": 2,
       "version_minor": 0
      },
      "text/plain": [
       "Validation: 0it [00:00, ?it/s]"
      ]
     },
     "metadata": {},
     "output_type": "display_data"
    },
    {
     "data": {
      "application/vnd.jupyter.widget-view+json": {
       "model_id": "2e3e00110b2742fcbb1d2a1ba0bcbaf4",
       "version_major": 2,
       "version_minor": 0
      },
      "text/plain": [
       "Validation: 0it [00:00, ?it/s]"
      ]
     },
     "metadata": {},
     "output_type": "display_data"
    },
    {
     "data": {
      "application/vnd.jupyter.widget-view+json": {
       "model_id": "1eb9e716bab34c58a5187b0956be2303",
       "version_major": 2,
       "version_minor": 0
      },
      "text/plain": [
       "Validation: 0it [00:00, ?it/s]"
      ]
     },
     "metadata": {},
     "output_type": "display_data"
    },
    {
     "data": {
      "application/vnd.jupyter.widget-view+json": {
       "model_id": "59cd0512e9cb4937b125e5e219bff5ed",
       "version_major": 2,
       "version_minor": 0
      },
      "text/plain": [
       "Validation: 0it [00:00, ?it/s]"
      ]
     },
     "metadata": {},
     "output_type": "display_data"
    },
    {
     "data": {
      "application/vnd.jupyter.widget-view+json": {
       "model_id": "edd8abdec1e144498acb01441b93bad0",
       "version_major": 2,
       "version_minor": 0
      },
      "text/plain": [
       "Validation: 0it [00:00, ?it/s]"
      ]
     },
     "metadata": {},
     "output_type": "display_data"
    },
    {
     "data": {
      "application/vnd.jupyter.widget-view+json": {
       "model_id": "1c94fc0b9d69479ab989fb8d3f2b11ca",
       "version_major": 2,
       "version_minor": 0
      },
      "text/plain": [
       "Validation: 0it [00:00, ?it/s]"
      ]
     },
     "metadata": {},
     "output_type": "display_data"
    },
    {
     "data": {
      "application/vnd.jupyter.widget-view+json": {
       "model_id": "54caf815a38c4f78a2305ac2a32972b9",
       "version_major": 2,
       "version_minor": 0
      },
      "text/plain": [
       "Validation: 0it [00:00, ?it/s]"
      ]
     },
     "metadata": {},
     "output_type": "display_data"
    },
    {
     "data": {
      "application/vnd.jupyter.widget-view+json": {
       "model_id": "da5ad3f4ceaf46bdada1335f47b52740",
       "version_major": 2,
       "version_minor": 0
      },
      "text/plain": [
       "Validation: 0it [00:00, ?it/s]"
      ]
     },
     "metadata": {},
     "output_type": "display_data"
    },
    {
     "data": {
      "application/vnd.jupyter.widget-view+json": {
       "model_id": "56dc0f96b2c14e299c89a114815a22a3",
       "version_major": 2,
       "version_minor": 0
      },
      "text/plain": [
       "Validation: 0it [00:00, ?it/s]"
      ]
     },
     "metadata": {},
     "output_type": "display_data"
    },
    {
     "data": {
      "application/vnd.jupyter.widget-view+json": {
       "model_id": "65502563e1044d708504a262dd6352ba",
       "version_major": 2,
       "version_minor": 0
      },
      "text/plain": [
       "Validation: 0it [00:00, ?it/s]"
      ]
     },
     "metadata": {},
     "output_type": "display_data"
    },
    {
     "data": {
      "application/vnd.jupyter.widget-view+json": {
       "model_id": "2f9dc6fbe3d54ed2967e3e73c53e630d",
       "version_major": 2,
       "version_minor": 0
      },
      "text/plain": [
       "Validation: 0it [00:00, ?it/s]"
      ]
     },
     "metadata": {},
     "output_type": "display_data"
    },
    {
     "data": {
      "application/vnd.jupyter.widget-view+json": {
       "model_id": "3cfd51c082fa47708aaac801cec046c4",
       "version_major": 2,
       "version_minor": 0
      },
      "text/plain": [
       "Validation: 0it [00:00, ?it/s]"
      ]
     },
     "metadata": {},
     "output_type": "display_data"
    },
    {
     "data": {
      "application/vnd.jupyter.widget-view+json": {
       "model_id": "91fa210f20684ff58fab572a4a78bfad",
       "version_major": 2,
       "version_minor": 0
      },
      "text/plain": [
       "Validation: 0it [00:00, ?it/s]"
      ]
     },
     "metadata": {},
     "output_type": "display_data"
    },
    {
     "data": {
      "application/vnd.jupyter.widget-view+json": {
       "model_id": "bf1e025f317c4269b4e41925d824089a",
       "version_major": 2,
       "version_minor": 0
      },
      "text/plain": [
       "Validation: 0it [00:00, ?it/s]"
      ]
     },
     "metadata": {},
     "output_type": "display_data"
    },
    {
     "data": {
      "application/vnd.jupyter.widget-view+json": {
       "model_id": "def57cf8cd394ac49eb8c1741b7704d1",
       "version_major": 2,
       "version_minor": 0
      },
      "text/plain": [
       "Validation: 0it [00:00, ?it/s]"
      ]
     },
     "metadata": {},
     "output_type": "display_data"
    },
    {
     "data": {
      "application/vnd.jupyter.widget-view+json": {
       "model_id": "87eb6fc941f3448b95feaf7aff0e9819",
       "version_major": 2,
       "version_minor": 0
      },
      "text/plain": [
       "Validation: 0it [00:00, ?it/s]"
      ]
     },
     "metadata": {},
     "output_type": "display_data"
    },
    {
     "data": {
      "application/vnd.jupyter.widget-view+json": {
       "model_id": "193350c04ce943dba22dde72ea7a9726",
       "version_major": 2,
       "version_minor": 0
      },
      "text/plain": [
       "Validation: 0it [00:00, ?it/s]"
      ]
     },
     "metadata": {},
     "output_type": "display_data"
    },
    {
     "data": {
      "text/html": [
       "Waiting for W&B process to finish... <strong style=\"color:green\">(success).</strong>"
      ],
      "text/plain": [
       "<IPython.core.display.HTML object>"
      ]
     },
     "metadata": {},
     "output_type": "display_data"
    },
    {
     "data": {
      "application/vnd.jupyter.widget-view+json": {
       "model_id": "2355f7621d9a4540b4e91db86122998a",
       "version_major": 2,
       "version_minor": 0
      },
      "text/plain": [
       "VBox(children=(Label(value='0.595 MB of 0.595 MB uploaded (0.000 MB deduped)\\r'), FloatProgress(value=1.0, max…"
      ]
     },
     "metadata": {},
     "output_type": "display_data"
    },
    {
     "data": {
      "text/html": [
       "<style>\n",
       "    table.wandb td:nth-child(1) { padding: 0 10px; text-align: left ; width: auto;} td:nth-child(2) {text-align: left ; width: 100%}\n",
       "    .wandb-row { display: flex; flex-direction: row; flex-wrap: wrap; justify-content: flex-start; width: 100% }\n",
       "    .wandb-col { display: flex; flex-direction: column; flex-basis: 100%; flex: 1; padding: 10px; }\n",
       "    </style>\n",
       "<div class=\"wandb-row\"><div class=\"wandb-col\"><h3>Run history:</h3><br/><table class=\"wandb\"><tr><td>epoch</td><td>▁▁▁▁▂▂▂▂▂▃▃▃▃▃▃▄▄▄▄▄▅▅▅▅▅▅▆▆▆▆▆▇▇▇▇▇▇███</td></tr><tr><td>lr-AdamW</td><td>█▇▄▂█▇▄▂█▇▄▂█▆▄▁█▆▄▁█▆▄▁█▆▃▁█▆▃▁█▆▃▁█▆▃▁</td></tr><tr><td>train/epoch_F1_0</td><td>▁▅▇▇▇▇▇▇▇▇██████▇███████████████████████</td></tr><tr><td>train/epoch_F1_1</td><td>▁▂▆▆▆▇▇▇▇▇▇▇▇▇▇▇▇▇▇█▇▇██▇███▇███████████</td></tr><tr><td>train/epoch_F1_10</td><td>▁▅▆▆▆▇▇▇▇▇▇▇▇▇▇█▇▇▇█▇▇██▇███████████████</td></tr><tr><td>train/epoch_F1_11</td><td>▁▁▁▁▁▁▁▁▁▄▅▅▅▆▆▆▅▅▆▇▆▇▇▇▆▇▇▇▆▇▇▇▇▇▇▇▇▇██</td></tr><tr><td>train/epoch_F1_12</td><td>▁▁▆▆▆▆▆▆▆▆▇▇▇▇▇▇▇▇▇▇▇▇▇█▇▇██▇███████████</td></tr><tr><td>train/epoch_F1_13</td><td>▁▁▁▁▁▁▁▁▁▁▁▁▁▄▅▆▆▅▆▇▆▆▇▇▆▇▇▇▇▇▇▇▇▇▇█▇███</td></tr><tr><td>train/epoch_F1_2</td><td>▁▁▁▁▁▁▁▁▁▁▁▁▁▁▁▁▁▁▁▁▁▁▁▁▁▁▁▁▁▁▁▁▁▁▁▁▁▁▁▁</td></tr><tr><td>train/epoch_F1_3</td><td>▁▁▁▁▁▂▅▅▅▅▆▆▆▆▇▇▆▇▇▇▇▇▇▇▇▇██▇▇██▇▇██████</td></tr><tr><td>train/epoch_F1_4</td><td>▁▁▁▂▄▅▅▆▅▆▆▆▆▆▇▇▇▇▇▇▇▇▇▇▇▇▇█▇▇██▇▇██▇███</td></tr><tr><td>train/epoch_F1_5</td><td>▁▁▁▁▁▁▁▁▁▃▄▅▅▅▆▆▆▆▇▇▆▇▇▇▇▇██▇▇█▇▇▇██▇▇██</td></tr><tr><td>train/epoch_F1_6</td><td>▁▁▁▁▁▁▁▁▁▃▅▆▆▆▇▇▆▇▇▇▇▇▇▇▇▆▇█▇██▇█████▇██</td></tr><tr><td>train/epoch_F1_7</td><td>▁▁▁▁▁▁▁▁▁▁▁▁▁▁▁▁▁▁▁▁▁▁▁▁▁▁▁▁▁▁▁▁▁▁▁▁▁▁▁▁</td></tr><tr><td>train/epoch_F1_8</td><td>▁▁▁▁▁▁▁▁▁▁▁▁▁▁▁▁▁▁▁▁▁▁▁▁▁▁▁▁▁▁▁▁▁▁▁▁▁▁▁▁</td></tr><tr><td>train/epoch_F1_9</td><td>▁▅▆▆▆▆▇▇▇▇▇▇▇▇▇▇▇▇▇█▇▇██▇███▇███████████</td></tr><tr><td>train/epoch_FN_0</td><td>█▅▂▂▂▂▂▂▂▂▁▁▁▁▁▁▁▁▁▁▁▁▁▁▁▁▁▁▁▁▁▁▁▁▁▁▁▁▁▁</td></tr><tr><td>train/epoch_FN_1</td><td>██▃▃▃▂▂▂▂▂▂▂▂▂▂▁▂▂▁▁▂▂▁▁▁▁▁▁▁▁▁▁▁▁▁▁▁▁▁▁</td></tr><tr><td>train/epoch_FN_10</td><td>█▅▃▂▃▂▂▂▂▂▂▂▂▂▂▂▂▂▂▁▂▂▁▁▂▁▁▁▁▁▁▁▁▁▁▁▁▁▁▁</td></tr><tr><td>train/epoch_FN_11</td><td>█████████▄▃▃▃▃▃▂▃▃▂▂▃▂▂▂▂▂▁▂▂▂▁▁▂▂▁▁▁▂▁▁</td></tr><tr><td>train/epoch_FN_12</td><td>██▃▃▃▃▂▂▂▂▂▂▂▂▂▂▂▂▂▁▂▂▂▁▂▁▁▁▂▁▁▁▁▁▁▁▁▁▁▁</td></tr><tr><td>train/epoch_FN_13</td><td>█████████████▆▄▃▄▃▃▂▃▂▂▂▂▂▂▁▂▂▁▁▂▂▁▁▁▂▁▁</td></tr><tr><td>train/epoch_FN_2</td><td>▁▁▁▁▁▁▁▁▁▁▁▁▁▁▁▁▁▁▁▁▁▁▁▁▁▁▁▁▁▁▁▁▁▁▁▁▁▁▁▁</td></tr><tr><td>train/epoch_FN_3</td><td>█████▇▅▄▄▄▃▃▃▃▂▂▃▂▂▂▂▂▂▂▂▂▁▁▂▂▁▁▂▂▁▁▁▁▁▁</td></tr><tr><td>train/epoch_FN_4</td><td>███▇▆▄▄▃▄▃▃▃▃▃▂▂▂▂▂▂▂▂▂▁▂▂▁▁▂▂▁▁▂▂▁▁▁▁▁▁</td></tr><tr><td>train/epoch_FN_5</td><td>█████████▇▅▅▅▄▃▃▄▃▃▂▃▃▂▂▂▂▂▁▂▂▁▁▂▂▁▁▁▁▁▁</td></tr><tr><td>train/epoch_FN_6</td><td>█████████▆▃▃▃▂▂▂▃▂▂▁▂▂▁▁▁▁▁▁▁▁▁▁▁▁▁▁▁▁▁▁</td></tr><tr><td>train/epoch_FN_7</td><td>▁▁▁▁▁▁▁▁▁▁▁▁▁▁▁▁▁▁▁▁▁▁▁▁▁▁▁▁▁▁▁▁▁▁▁▁▁▁▁▁</td></tr><tr><td>train/epoch_FN_8</td><td>▁▁▁▁▁▁▁▁▁▁▁▁▁▁▁▁▁▁▁▁▁▁▁▁▁▁▁▁▁▁▁▁▁▁▁▁▁▁▁▁</td></tr><tr><td>train/epoch_FN_9</td><td>█▄▃▃▃▂▂▂▂▂▂▂▂▂▂▁▂▂▁▁▂▁▁▁▁▁▁▁▁▁▁▁▁▁▁▁▁▁▁▁</td></tr><tr><td>train/epoch_FP_0</td><td>▁▄█▇█▇▇▇▇▇▇▆▇▆▆▆▇▆▆▆▆▆▆▆▆▆▆▆▆▆▅▅▆▆▅▅▆▆▅▅</td></tr><tr><td>train/epoch_FP_1</td><td>▁▁█▇▇▇▇▇▇▇▆▆▆▆▆▆▆▆▅▅▆▆▅▅▅▅▅▅▅▅▅▅▅▅▅▄▅▅▄▄</td></tr><tr><td>train/epoch_FP_10</td><td>▅▂█▇▇▆▅▆▆▅▄▃▃▃▃▂▃▃▂▂▃▃▂▂▂▂▂▁▃▂▂▂▂▂▁▂▂▂▁▁</td></tr><tr><td>train/epoch_FP_11</td><td>▁▁▁▁▁▁▁▁▁▇▆▇█▇▆▆▆▆▆▅▅▆▆▅▆▅▅▅▆▅▅▅▅▅▅▅▅▅▅▅</td></tr><tr><td>train/epoch_FP_12</td><td>▁▁████████▇▇█▇▇▆▇▆▅▅▆▆▅▅▆▅▅▅▅▅▅▅▅▅▄▄▅▅▄▄</td></tr><tr><td>train/epoch_FP_13</td><td>▁▁▁▁▁▁▁▁▁▁▁▁▁▃▅▆▇██▆██▇▇█▇▇▇▇▇▆▆▇▆▆▆▆▆▆▅</td></tr><tr><td>train/epoch_FP_2</td><td>▁▁▁▁▁▁▁▁▁▁▁▁▁▁▁▁▁▁▁▁▁▁▁▁▁▁▁▁▁▁▁▁▁▁▁▁▁▁▁▁</td></tr><tr><td>train/epoch_FP_3</td><td>▁▁▁▂▂▃▇█▇▇▆▆▇▆▆▅▆▆▅▅▆▆▅▅▆▆▅▅▆▅▅▅▅▅▅▄▅▅▄▄</td></tr><tr><td>train/epoch_FP_4</td><td>▁▁▁▃▇██▇▇▇█▇▇▇▆▆▇▆▆▆▆▆▆▆▆▆▅▅▆▆▅▅▅▅▅▅▅▅▅▄</td></tr><tr><td>train/epoch_FP_5</td><td>▁▁▁▁▁▁▁▁▁▃▆▆█▅▅▅▆▆▆▆▆▆▆▆▇▇▆▆▆▆▆▅▆▇▆▅▆▆▅▅</td></tr><tr><td>train/epoch_FP_6</td><td>▁▁▁▁▁▁▁▁▁▃██▇▆▅▅▅▅▅▅▅▅▅▅▅▅▅▅▅▅▄▄▅▄▄▄▅▄▄▄</td></tr><tr><td>train/epoch_FP_7</td><td>▁▁▁▁▁▁▁▁▁▁▁▁▁▁▁▁▁▁▁▁▁▁▁▁▁▁▁▁▁▁▁▁▁▁▁▁▁▁▁▁</td></tr><tr><td>train/epoch_FP_8</td><td>█▁▁▁▁▁▁▁▁▁▁▁▁▁▁▁▁▁▁▁▁▁▁▁▁▁▁▁▁▁▁▁▁▁▁▁▁▁▁▁</td></tr><tr><td>train/epoch_FP_9</td><td>▁▆█▇█▇▇▇▇▇▆▆▇▆▆▆▆▆▆▅▆▆▅▅▆▅▅▅▅▅▅▅▅▅▅▄▅▅▄▄</td></tr><tr><td>train/epoch_IoU_0</td><td>▁▄▆▆▆▇▇▇▇▇▇▇▇▇▇▇▇▇▇█▇▇██▇███▇███████████</td></tr><tr><td>train/epoch_IoU_1</td><td>▁▁▅▆▅▆▆▆▆▆▇▇▇▇▇▇▇▇▇▇▇▇▇▇▇▇▇█▇▇██▇▇██████</td></tr><tr><td>train/epoch_IoU_10</td><td>▁▄▅▆▆▆▆▆▆▆▇▇▇▇▇▇▇▇▇▇▇▇▇█▇▇██▇███▇███████</td></tr><tr><td>train/epoch_IoU_11</td><td>▁▁▁▁▁▁▁▁▁▄▄▅▄▅▅▆▅▅▆▆▆▆▇▆▆▇▇▇▆▆▇▇▆▇▇▇▇▇██</td></tr><tr><td>train/epoch_IoU_12</td><td>▁▁▅▅▅▅▆▆▆▆▆▆▆▆▆▇▆▇▇▇▇▇▇▇▇▇▇█▇▇██▇▇██▇███</td></tr><tr><td>train/epoch_IoU_13</td><td>▁▁▁▁▁▁▁▁▁▁▁▁▁▃▄▆▅▅▆▆▆▆▆▇▆▇▇▇▆▇▇▇▇▇▇█▇▇██</td></tr><tr><td>train/epoch_IoU_2</td><td>▁▁▁▁▁▁▁▁▁▁▁▁▁▁▁▁▁▁▁▁▁▁▁▁▁▁▁▁▁▁▁▁▁▁▁▁▁▁▁▁</td></tr><tr><td>train/epoch_IoU_3</td><td>▁▁▁▁▁▂▄▄▄▅▅▆▅▅▆▆▆▆▇▇▆▆▇▇▇▇▇▇▇▇▇█▇▇██▇▇██</td></tr><tr><td>train/epoch_IoU_4</td><td>▁▁▁▂▃▄▅▅▅▅▅▆▅▆▆▆▆▆▇▇▆▆▇▇▇▇▇▇▇▇▇█▇▇██▇███</td></tr><tr><td>train/epoch_IoU_5</td><td>▁▁▁▁▁▁▁▁▁▂▄▄▄▅▅▆▅▅▆▆▆▆▆▇▆▇▇▇▇▇▇▇▇▇▇█▇▇██</td></tr><tr><td>train/epoch_IoU_6</td><td>▁▁▁▁▁▁▁▁▁▃▅▅▆▆▇▇▆▇▇▇▆▇▇▇▇▆▇█▇██▇█████▇██</td></tr><tr><td>train/epoch_IoU_7</td><td>▁▁▁▁▁▁▁▁▁▁▁▁▁▁▁▁▁▁▁▁▁▁▁▁▁▁▁▁▁▁▁▁▁▁▁▁▁▁▁▁</td></tr><tr><td>train/epoch_IoU_8</td><td>▁▁▁▁▁▁▁▁▁▁▁▁▁▁▁▁▁▁▁▁▁▁▁▁▁▁▁▁▁▁▁▁▁▁▁▁▁▁▁▁</td></tr><tr><td>train/epoch_IoU_9</td><td>▁▄▅▆▅▆▆▆▆▆▇▇▇▇▇▇▇▇▇▇▇▇▇▇▇▇▇█▇▇██▇▇██████</td></tr><tr><td>train/epoch_Precision_0</td><td>▁▇▆▆▆▇▇▇▇▇▇▇▇▇▇▇▇▇▇█▇▇██▇███▇███████████</td></tr><tr><td>train/epoch_Precision_1</td><td>▁▇▆▆▆▆▇▇▇▇▇▇▇▇▇▇▇▇▇█▇▇██▇▇██▇███████████</td></tr><tr><td>train/epoch_Precision_10</td><td>▁▆▆▆▆▆▇▇▇▇▇▇▇▇▇█▇▇██▇▇██▇███████████████</td></tr><tr><td>train/epoch_Precision_11</td><td>▁▁▁▁▁▁▁▁▅▅▅▅▆▆▆▆▆▆▆▇▇▇▇▇▇▇▇▇▇▇▇▇▇▇▇▇▇▇██</td></tr><tr><td>train/epoch_Precision_12</td><td>▁▁▆▆▆▆▆▆▆▆▇▇▆▇▇▇▇▇▇▇▇▇▇█▇▇██▇███████████</td></tr><tr><td>train/epoch_Precision_13</td><td>▁▁▁▁▁▁▂▂▂▃▃▆▆▇▆▇▆▆▆▇▇▆▇▇▇▇▇▇▇▇▇▇▇▇▇█▇███</td></tr><tr><td>train/epoch_Precision_2</td><td>▁▁▁▁▁▁▁▁▁▁▁▁▁▁▁▁▁▁▁▁▁▁▁▁▁▁▁▁▁▁▁▁▁▁▁▁▁▁▁▁</td></tr><tr><td>train/epoch_Precision_3</td><td>▁▁▁▃▃▄▅▆▆▆▆▇▆▇▇▇▇▇▇▇▇▇▇█▇▇▇█▇▇██▇███████</td></tr><tr><td>train/epoch_Precision_4</td><td>▁▁▅▅▅▅▆▆▆▆▆▆▆▇▇▇▇▇▇▇▇▇▇▇▇▇▇█▇▇███▇██▇███</td></tr><tr><td>train/epoch_Precision_5</td><td>▁▁▁▁▁▁▃▄▅▅▆▆▆▇▇▇▇▇▇▇▇▇▇█▇▇██▇▇██▇▇███▇██</td></tr><tr><td>train/epoch_Precision_6</td><td>▁▁▁▁▁▁▁▁▁▆▆▆▇▇▇▇▇▇▇▇▇▇▇▇▇▆▇█▇██▇████████</td></tr><tr><td>train/epoch_Precision_7</td><td>▁▁▁▁▁▁▁▁▁▁▁▁▁▁▁▁▁▁▁▁▁▁▁▁▁▁▁▁▁▁▁▁▁▁▁▁▁▁▁▁</td></tr><tr><td>train/epoch_Precision_8</td><td>▁▁▁▁▁▁▁▁▁▁▁▁▁▁▁▁▁▁▁▁▁▁▁▁▁▁▁▁▁▁▁▁▁▁▁▁▁▁▁▁</td></tr><tr><td>train/epoch_Precision_9</td><td>▁▆▆▆▆▆▆▆▆▆▇▇▇▇▇▇▇▇▇▇▇▇▇█▇▇██▇▇██████████</td></tr><tr><td>train/epoch_Recall_0</td><td>▁▄▇▇▇▇▇█▇▇██████████████████████████████</td></tr><tr><td>train/epoch_Recall_1</td><td>▁▁▆▆▆▇▇▇▇▇▇▇▇▇▇█▇▇██▇███████████████████</td></tr><tr><td>train/epoch_Recall_10</td><td>▁▄▇▇▇▇▇▇▇▇▇▇▇▇▇▇▇▇▇█▇█▇█▇███▇███████████</td></tr><tr><td>train/epoch_Recall_11</td><td>▁▁▁▁▁▁▁▁▁▅▅▆▆▆▆▆▆▅▇▆▆▇▇▇▆▇▇▇▇▇▇▇▇▇▇▇█▇██</td></tr><tr><td>train/epoch_Recall_12</td><td>▁▁▆▆▆▆▇▇▇▇▇▇▇▇▇▇▇▇▇█▇▇▇█▇███████████████</td></tr><tr><td>train/epoch_Recall_13</td><td>▁▁▁▁▁▁▁▁▁▁▁▁▁▃▅▆▆▅▆▆▆▇▇▇▆▇▇▇▇▇▇▇▇▇██▇███</td></tr><tr><td>train/epoch_Recall_2</td><td>▁▁▁▁▁▁▁▁▁▁▁▁▁▁▁▁▁▁▁▁▁▁▁▁▁▁▁▁▁▁▁▁▁▁▁▁▁▁▁▁</td></tr><tr><td>train/epoch_Recall_3</td><td>▁▁▁▁▁▂▅▅▅▅▆▆▆▆▇▇▆▇▇▇▇▇▇▇▇▇██▇▇██▇▇██████</td></tr><tr><td>train/epoch_Recall_4</td><td>▁▁▁▂▃▅▅▆▅▅▆▆▆▆▇▇▇▇▇▇▇▇▇█▇▇██▇▇██▇▇██▇███</td></tr><tr><td>train/epoch_Recall_5</td><td>▁▁▁▁▁▁▁▁▁▂▄▄▄▅▆▆▅▅▆▆▆▆▇▇▇▇█▇▇▇█▇▇▇▇█▇▇██</td></tr><tr><td>train/epoch_Recall_6</td><td>▁▁▁▁▁▁▁▁▁▂▅▅▆▆▇▇▆▇▇▇▇▇▇▇▇▆▇█▇█▇▇█████▇▇█</td></tr><tr><td>train/epoch_Recall_7</td><td>▁▁▁▁▁▁▁▁▁▁▁▁▁▁▁▁▁▁▁▁▁▁▁▁▁▁▁▁▁▁▁▁▁▁▁▁▁▁▁▁</td></tr><tr><td>train/epoch_Recall_8</td><td>▁▁▁▁▁▁▁▁▁▁▁▁▁▁▁▁▁▁▁▁▁▁▁▁▁▁▁▁▁▁▁▁▁▁▁▁▁▁▁▁</td></tr><tr><td>train/epoch_Recall_9</td><td>▁▅▆▆▆▇▇▇▇▇▇▇▇▇▇█▇▇██▇███████████████████</td></tr><tr><td>train/epoch_TN_0</td><td>█▅▁▂▁▂▂▂▂▂▂▃▂▂▃▃▂▃▃▃▃▃▃▃▃▃▃▃▃▃▄▄▃▃▄▄▃▃▄▄</td></tr><tr><td>train/epoch_TN_1</td><td>██▁▂▂▂▂▂▂▃▃▃▃▃▃▃▃▃▄▄▃▄▄▄▄▄▄▄▄▄▄▄▄▄▄▅▄▄▅▅</td></tr><tr><td>train/epoch_TN_10</td><td>▄▇▁▂▁▃▄▃▃▄▅▆▅▆▆▆▆▆▇▇▆▆▇▇▆▇██▇███▇▇██▇▇▇█</td></tr><tr><td>train/epoch_TN_11</td><td>█████████▂▃▁▁▂▃▃▃▃▂▄▄▃▃▄▃▃▃▄▃▃▄▄▄▄▄▄▄▄▄▄</td></tr><tr><td>train/epoch_TN_12</td><td>██▁▁▁▁▁▁▁▁▂▂▁▂▂▃▂▃▄▄▃▃▄▄▄▄▄▄▄▄▄▅▄▄▅▅▄▄▅▅</td></tr><tr><td>train/epoch_TN_13</td><td>████████▇████▆▄▃▁▁▁▂▁▁▂▁▁▁▂▂▁▂▃▂▂▂▃▃▂▃▃▃</td></tr><tr><td>train/epoch_TN_2</td><td>▁▁▁▁▁▁▁▁▁▁▁▁▁▁▁▁▁▁▁▁▁▁▁▁▁▁▁▁▁▁▁▁▁▁▁▁▁▁▁▁</td></tr><tr><td>train/epoch_TN_3</td><td>███▇▇▆▂▁▂▂▃▃▂▃▃▄▃▃▄▄▃▃▄▄▃▃▄▄▃▄▄▄▄▄▄▅▄▄▅▅</td></tr><tr><td>train/epoch_TN_4</td><td>███▆▂▁▁▂▁▂▁▂▂▂▃▂▂▃▃▄▃▃▃▃▃▃▄▄▃▄▄▄▄▄▄▄▄▄▅▄</td></tr><tr><td>train/epoch_TN_5</td><td>██▇██████▆▃▃▁▄▄▄▃▃▃▃▃▃▃▄▂▂▃▄▃▃▄▄▃▃▄▄▃▃▄▄</td></tr><tr><td>train/epoch_TN_6</td><td>█▇█▇▇▇██▇▅▁▁▂▃▄▄▃▄▅▄▄▄▄▄▄▄▄▄▄▄▄▅▄▄▅▅▄▄▅▅</td></tr><tr><td>train/epoch_TN_7</td><td>▁▁▁▁▁▁▁▁▁▁▁▁▁▁▁▁▁▁▁▁▁▁▁▁▁▁▁▁▁▁▁▁▁▁▁▁▁▁▁▁</td></tr><tr><td>train/epoch_TN_8</td><td>▁███████████████████████████████████████</td></tr><tr><td>train/epoch_TN_9</td><td>█▃▁▂▁▂▂▂▂▂▃▃▃▃▃▃▃▃▃▄▃▃▄▄▄▄▄▄▄▄▄▄▄▄▄▅▄▄▅▅</td></tr><tr><td>train/epoch_TP_0</td><td>▁▄▇▇▇▇▇█▇▇██████████████████████████████</td></tr><tr><td>train/epoch_TP_1</td><td>▁▁▆▆▆▇▇▇▇▇▇▇▇▇▇█▇▇██▇▇██████████████████</td></tr><tr><td>train/epoch_TP_10</td><td>▁▄▆▇▆▇▇▇▇▇▇▇▇▇▇█▇▇▇█▇▇██████▇███████████</td></tr><tr><td>train/epoch_TP_11</td><td>▁▁▁▁▁▁▁▁▁▅▆▆▅▆▆▇▆▆▇▇▆▇▇▇▆▇█▇▇▇██▇▇███▇██</td></tr><tr><td>train/epoch_TP_12</td><td>▁▁▆▆▆▆▇▇▇▇▇▇▇▇▇▇▇▇▇█▇▇▇█▇███▇███████████</td></tr><tr><td>train/epoch_TP_13</td><td>▁▁▁▁▁▁▁▁▁▁▁▁▁▃▄▆▅▆▆▆▆▆▇▇▆▇▇▇▇▇██▇▇██▇▇██</td></tr><tr><td>train/epoch_TP_2</td><td>▁▁▁▁▁▁▁▁▁▁▁▁▁▁▁▁▁▁▁▁▁▁▁▁▁▁▁▁▁▁▁▁▁▁▁▁▁▁▁▁</td></tr><tr><td>train/epoch_TP_3</td><td>▁▁▁▁▁▂▄▅▅▅▆▆▆▆▇▇▆▇▇▇▇▇▇▇▇▇██▇▇██▇▇██████</td></tr><tr><td>train/epoch_TP_4</td><td>▁▁▁▂▃▅▅▆▅▅▆▆▆▆▇▇▆▇▇▇▇▇▇█▇▇▇█▇▇██▇▇██████</td></tr><tr><td>train/epoch_TP_5</td><td>▁▁▁▁▁▁▁▁▁▂▄▄▄▅▅▆▅▆▆▇▆▆▇▇▇▇▇▇▇▇▇█▇▇██████</td></tr><tr><td>train/epoch_TP_6</td><td>▁▁▁▁▁▁▁▁▁▂▆▆▆▇▇▇▇▇▇█▇▇██▇███████████████</td></tr><tr><td>train/epoch_TP_7</td><td>▁▁▁▁▁▁▁▁▁▁▁▁▁▁▁▁▁▁▁▁▁▁▁▁▁▁▁▁▁▁▁▁▁▁▁▁▁▁▁▁</td></tr><tr><td>train/epoch_TP_8</td><td>▁▁▁▁▁▁▁▁▁▁▁▁▁▁▁▁▁▁▁▁▁▁▁▁▁▁▁▁▁▁▁▁▁▁▁▁▁▁▁▁</td></tr><tr><td>train/epoch_TP_9</td><td>▁▅▆▆▆▇▇▇▇▇▇▇▇▇▇█▇▇██▇▇██████████████████</td></tr><tr><td>train/epoch_loss</td><td>█▄▃▃▃▃▂▄▃▃▂▂▃▂▂▂▂▁▂▂▂▂▂▁▂▁▁▂▁▂▂▁▂▁▁▁▂▂▂▂</td></tr><tr><td>train/iter_F1_0</td><td>▁▆▇▇▇▆█▇▇██▇▇▇▇▇████▇▇▇█▇██▇█▇▇█▇▇██████</td></tr><tr><td>train/iter_F1_1</td><td>▁▆▆▆▆▆▇▇▆▇▇▇▇▇▇█▇▇▇▇▇▇▇█▇▇█▇▇▇██████████</td></tr><tr><td>train/iter_F1_10</td><td>▁▆▆▇▇▄█▇▇██▇▇▇▆▇████▇▇▇█▅██▆█▇▇█▇▇██████</td></tr><tr><td>train/iter_F1_11</td><td>▁▁▁▁▁▁▁▁▁▄▆▆▂▅▅▇▇▁▆▇▄▆▇▇▆▇▃▇▇▇▆▇███▇▇▆█▇</td></tr><tr><td>train/iter_F1_12</td><td>▁▃▅▇▆▅▆▇▆▆▇▆▆▇▇▇▇▇▇▇▇▆▇█▇▇█▇▇▇████▇█████</td></tr><tr><td>train/iter_F1_13</td><td>▁▁▁▁▁▁▁▁▁▁▁▁▂▃▃▆▆▁▆▇▆▅▇▇▆▇█▆▇▇▇▇▇▇▇█▆███</td></tr><tr><td>train/iter_F1_2</td><td>▁▁▁▁▁▁▁▁▁▁▁▁▁▁▁▁▁▁▁▁▁▁▁▁▁▁▁▁▁▁▁▁▁▁▁▁▁▁▁▁</td></tr><tr><td>train/iter_F1_3</td><td>▁▁▁▂▂▃▅▆▅▅▆▆▆▆▆▇▇▇▆▇▆▇▇▇▇▇█▇▇▇████▇█████</td></tr><tr><td>train/iter_F1_4</td><td>▁▁▁▃▄▅▄▅▅▆▅▆▇▆▅▇▆▇▇▇▆▇▇▇▇▇▇▇▇▇▇█▇▇█▇▇▇██</td></tr><tr><td>train/iter_F1_5</td><td>▁▁▁▁▁▁▁▁▂▃▃▄▅▄▆█▆▆▇▃▅▅▇▇▇▄█▆▆▇██▇▇▇█▇▆▇█</td></tr><tr><td>train/iter_F1_6</td><td>▁▁▁▁▁▁▁▁▁▅▆▆▁▇▇█▁▁▁█▁▇█▇▁▁██▇▇▇█▇█████▁█</td></tr><tr><td>train/iter_F1_7</td><td>▁▁▁▁▁▁▁▁▁▁▁▁▁▁▁▁▁▁▁▁▁▁▁▁▁▁▁▁▁▁▁▁▁▁▁▁▁▁▁▁</td></tr><tr><td>train/iter_F1_8</td><td>▁▁▁▁▁▁▁▁▁▁▁▁▁▁▁▁▁▁▁▁▁▁▁▁▁▁▁▁▁▁▁▁▁▁▁▁▁▁▁▁</td></tr><tr><td>train/iter_F1_9</td><td>▁▆▆▆▆▆▇▇▆▇▇▇▇▇▇█▇▇▇▇▇▇▇█▇▇█▇▇▇██████████</td></tr><tr><td>train/iter_FN_0</td><td>█▃▄▁▅▁▂▁▁▂▂▃▁▃▂▁▂▁▂▃▃▂▂▁▃▂▂▂▁▁▁▁▁▁▁▂▁▂▁▃</td></tr><tr><td>train/iter_FN_1</td><td>█▅▃▁▃▂▂▂▂▂▃▂▂▃▃▂▂▁▂▂▂▂▂▂▂▁▁▁▁▂▁▁▂▂▂▁▁▂▁▁</td></tr><tr><td>train/iter_FN_10</td><td>▇▄▅▂█▁▃▂▂▂▂▄▃▅▂▂▂▁▂▃▄▃▃▁▄▃▅▂▂▂▁▂▁▁▁▂▂▂▁▃</td></tr><tr><td>train/iter_FN_11</td><td>█▃▄▂▁▆▁▁▁▂▂▃▁▃▂▁▃▁▂▂▄▂▃▂▃▁▁▂▂▂▁▁▁▁▂▂▁▂▁▂</td></tr><tr><td>train/iter_FN_12</td><td>▇█▃▂▄▃▂▂▂▂▃▂▂▃▃▂▂▂▁▂▂▂▂▂▂▁▁▁▁▁▁▁▂▂▁▁▂▂▁▁</td></tr><tr><td>train/iter_FN_13</td><td>▆▄█▁▁▆▄▃▃▆▅█▇▅▃▃▂▁▂▂▄█▂▂▄▂▁▃▂▃▂▁▂▁▄▂▁▂▁▂</td></tr><tr><td>train/iter_FN_2</td><td>▁▁▁▁▁▁▁▁▁▁▁▁▁▁▁▁▁▁▁▁▁▁▁▁▁▁▁▁▁▁▁▁▁▁▁▁▁▁▁▁</td></tr><tr><td>train/iter_FN_3</td><td>▅█▇▆█▆▅▄▄▃▅▄▄▄▄▃▂▂▂▂▂▂▃▃▂▁▁▁▁▂▂▁▂▂▂▁▂▃▂▂</td></tr><tr><td>train/iter_FN_4</td><td>▆▇█▃▄▂▃▁▁▃▂▂▂▄▂▁▃▁▁▃▄▃▂▁▂▂▂▂▂▁▁▁▁▁▁▁▁▁▁▁</td></tr><tr><td>train/iter_FN_5</td><td>█▄▄▄▅▇▄▅▄▄▆▃▃▅▃▁▄▂▃▂▃▃▂▂▃▁▁▂▃▂▁▂▂▂▃▂▂▂▁▁</td></tr><tr><td>train/iter_FN_6</td><td>▁▅▂▅▄▃▆▁█▂▇▃▁▂▂▂▁▁▁▁▁▁▂▂▁▁▁▁▁▁▁▁▄▁▁▁▂▁▁▁</td></tr><tr><td>train/iter_FN_7</td><td>▁▁▁▁▁▁▁▁▁▁▁▁▁▁▁▁▁▁▁▁▁▁▁▁▁▁▁▁▁▁▁▁▁▁▁▁▁▁▁▁</td></tr><tr><td>train/iter_FN_8</td><td>▁▁▁▁▁▁▁▁▁▁▁▁▁▁▁▁▁▁▁▁▁▁▁▁▁▁▁▁▁▁▁▁▁▁▁▁▁▁▁▁</td></tr><tr><td>train/iter_FN_9</td><td>█▄▃▁▃▂▂▂▂▂▃▂▂▃▃▂▂▁▂▂▂▂▂▂▂▁▁▁▁▂▁▁▂▂▂▁▁▂▁▂</td></tr><tr><td>train/iter_FP_0</td><td>▁▅▆▅▅▆▅▃▄▄▅██▅▅▃▄▂▆▆▃▄▇▃▅▄▅▄▂▄▃▃▃▃▃▃▃▃▃▇</td></tr><tr><td>train/iter_FP_1</td><td>▁▅█▇▇▅▆▄▆▅▆▇▇▆▅▄▄▄▅▆▅▄▅▃▅▄▅▄▄▄▃▃▃▄▅▃▄▅▃▅</td></tr><tr><td>train/iter_FP_10</td><td>▁▅▇▅▄█▃▂▃▄▄▇▇▄▅▂▃▂▆▆▃▃▄▃▃▄▅▃▂▄▃▃▃▃▂▃▂▂▃▇</td></tr><tr><td>train/iter_FP_11</td><td>▁▁▁▁▁▁▁▁▁▂▃▅▇▄▃▂▅▁▃▃▃▂▅▂█▁▅▄▂▁▁▁▂▁▃▃▃▂▂▃</td></tr><tr><td>train/iter_FP_12</td><td>▁▂█▅▅▆▆▄▅▅▆█▇▆▄▄▃▃▅▅▅▅▅▃▄▄▄▃▄▄▃▃▃▃▄▃▃▄▂▄</td></tr><tr><td>train/iter_FP_13</td><td>▁▁▁▁▁▁▁▁▁▁▁▁▁▂▃▃▇▅▄▅▄▃▅▃█▂▅▄▃▃▂▁▅▂▅▄▄▄▂▆</td></tr><tr><td>train/iter_FP_2</td><td>▁▁▁▁▁▁▁▁▁▁▁▁▁▁▁▁▁▁▁▁▁▁▁▁▁▁▁▁▁▁▁▁▁▁▁▁▁▁▁▁</td></tr><tr><td>train/iter_FP_3</td><td>▁▁▁▂▃▄▇▃▅▆▆▅▆▇▅▄▅▅▃▆█▃▄▃▄▄▄▄▄▅▃▃▃▅▅▃▄▅▃▄</td></tr><tr><td>train/iter_FP_4</td><td>▁▁▁▃▄▅▇▄▅▅▇██▄▆▄▃▂▇▆▃▄▆▄▆▄▆▄▄▅▃▃▄▂▃▃▄▄▃▆</td></tr><tr><td>train/iter_FP_5</td><td>▁▁▁▁▁▁▁▁▃▄█▂▂▂▃▂▂▄▆▃▃▂▄▃▅▂▂▂▃▂▂▄▂▂▄▃▆▄▄▃</td></tr><tr><td>train/iter_FP_6</td><td>▁▁▁▁▁▁▁▁▁▂▄▆▅█▄▃▂▁▁▃▁▄▄▃▁▁▂▂▁▂▁▂▂▂▃▃▃▂▁▅</td></tr><tr><td>train/iter_FP_7</td><td>▁▁▁▁▁▁▁▁▁▁▁▁▁▁▁▁▁▁▁▁▁▁▁▁▁▁▁▁▁▁▁▁▁▁▁▁▁▁▁▁</td></tr><tr><td>train/iter_FP_8</td><td>▁▁▁▁▁▁▁▁▁▁▁▁▁▁▁▁▁▁▁▁▁▁▁▁▁▁▁▁▁▁▁▁▁▁▁▁▁▁▁▁</td></tr><tr><td>train/iter_FP_9</td><td>▁▆█▇▇▅▆▄▅▅▆▆▇▆▅▃▄▄▅▆▅▄▅▃▄▄▅▄▄▄▃▃▃▃▄▃▄▅▃▅</td></tr><tr><td>train/iter_IoU_0</td><td>▁▆▆▆▆▅▇▇▇█▇▇▇▇▆▇▇▇██▇▇▇█▆██▆█▆▇█▇▇▇█████</td></tr><tr><td>train/iter_IoU_1</td><td>▁▅▅▆▅▆▆▆▆▆▇▆▆▇▆▇▇▇▇▇▇▇▇▇▇▇▇▇▇▇███▇▇█▇▇██</td></tr><tr><td>train/iter_IoU_10</td><td>▁▅▅▆▆▃█▇▇█▇▇▆▇▆▇▇▇██▇▆▇█▄█▇▅█▆▆█▇▇▇█▇█▇█</td></tr><tr><td>train/iter_IoU_11</td><td>▁▁▁▁▁▁▁▁▁▃▅▅▂▅▄▆▇▁▅▇▄▅▆▆▅▆▃▇▆▆▆▇███▇▇▅█▆</td></tr><tr><td>train/iter_IoU_12</td><td>▁▂▄▆▅▄▆▆▅▅▆▆▅▆▆▇▆▇▇▇▆▅▇▇▆▇▇▇▇▇▇█▇▇▇█▇▇██</td></tr><tr><td>train/iter_IoU_13</td><td>▁▁▁▁▁▁▁▁▁▁▁▁▂▂▂▅▅▁▅▆▅▄▆▆▅▇█▆▆▆▆▇▇▇▇▇▆▇██</td></tr><tr><td>train/iter_IoU_2</td><td>▁▁▁▁▁▁▁▁▁▁▁▁▁▁▁▁▁▁▁▁▁▁▁▁▁▁▁▁▁▁▁▁▁▁▁▁▁▁▁▁</td></tr><tr><td>train/iter_IoU_3</td><td>▁▁▁▂▂▂▄▆▄▄▅▆▅▆▅▇▆▆▅▆▆▆▇▇▆▇▇▇▆▇███▇▇█▇▇▇█</td></tr><tr><td>train/iter_IoU_4</td><td>▁▁▁▂▃▄▃▄▄▅▄▆▆▆▄▆▅▆▇▆▅▆▆▆▆▇▇▇▆▇▇▇▆▇▇▇▇▇██</td></tr><tr><td>train/iter_IoU_5</td><td>▁▁▁▁▁▁▁▁▂▂▃▃▄▃▅▇▅▅▇▃▄▄▆▇▆▃█▅▅▇██▆▇▆█▆▅▇▇</td></tr><tr><td>train/iter_IoU_6</td><td>▁▁▁▁▁▁▁▁▁▄▅▆▁▇▆▇▁▁▁▇▁▆█▇▁▁▇█▇▇▆█▇▇████▁█</td></tr><tr><td>train/iter_IoU_7</td><td>▁▁▁▁▁▁▁▁▁▁▁▁▁▁▁▁▁▁▁▁▁▁▁▁▁▁▁▁▁▁▁▁▁▁▁▁▁▁▁▁</td></tr><tr><td>train/iter_IoU_8</td><td>▁▁▁▁▁▁▁▁▁▁▁▁▁▁▁▁▁▁▁▁▁▁▁▁▁▁▁▁▁▁▁▁▁▁▁▁▁▁▁▁</td></tr><tr><td>train/iter_IoU_9</td><td>▁▅▅▆▅▅▆▆▆▆▇▆▆▇▆▇▇▇▇▇▇▇▇▇▇▇▇▇▇▇███▇▇█▇▇██</td></tr><tr><td>train/iter_Precision_0</td><td>▁▆▆▅▇▄▇▆▆▇▇▆▆▇▅▇▇▇▇██▇▆▇▆██▆█▆▆█▆▆▇█▇▇▇▇</td></tr><tr><td>train/iter_Precision_1</td><td>▁▇▆▆▆▆▇▇▆▇▇▇▆▇▇█▇▇▇▇▇▇▇█▇▇▇▇▇▇████▇█▇███</td></tr><tr><td>train/iter_Precision_10</td><td>▁▆▆▆▇▃█▇▇▇▇▇▆▇▆▇█▇▇██▇▇▇▆██▆█▆▆█▆▆▇█▇█▇█</td></tr><tr><td>train/iter_Precision_11</td><td>▁▁▁▁▁▁▁▁▁▅▆▆▂▆▅▇▇▁▅▇▆▇▇▇▆▆▂████▇███▇▆▆█▆</td></tr><tr><td>train/iter_Precision_12</td><td>▁▇▅▆▆▅▆▆▆▆▇▆▅▇▇▇▇▇▇▇▇▆▇█▇▇▇▇▇▇▇███▇██▇██</td></tr><tr><td>train/iter_Precision_13</td><td>▁▁▁▁▁▁▁▁▄▁▃▇█▆▄▇▅▁▆▆▆▇▆▆▅▇▇▇▆▇▇▇▇▆▇▇▅▇▇▇</td></tr><tr><td>train/iter_Precision_2</td><td>▁▁▁▁▁▁▁▁▁▁▁▁▁▁▁▁▁▁▁▁▁▁▁▁▁▁▁▁▁▁▁▁▁▁▁▁▁▁▁▁</td></tr><tr><td>train/iter_Precision_3</td><td>▁▁▁▄▄▄▅█▅▅▇▇▆▆▇█▆▇▆▆▆▇▇█▇▇▇▇▆▇███▇▇█▇███</td></tr><tr><td>train/iter_Precision_4</td><td>▁▁▆▄▅▅▄▄▄▆▅▆▆▇▅▇▇█▇▇██▆▆▇▇▇▇▇▇▇█▆▇█▇▇▇██</td></tr><tr><td>train/iter_Precision_5</td><td>▁▁▁▁▁▁▁▃▃▃▄▆▇▆▇▇█▆▇▄▇▇▇▇▇▃█▇▇████▇▇█▆▆▇▇</td></tr><tr><td>train/iter_Precision_6</td><td>▁▁▁▁▁▁▁▁▁▅▇▆▁▇▆█▁▁▁▇▁▆▇█▁▁▇▇▇▇███▇▇█▇▇▁▇</td></tr><tr><td>train/iter_Precision_7</td><td>▁▁▁▁▁▁▁▁▁▁▁▁▁▁▁▁▁▁▁▁▁▁▁▁▁▁▁▁▁▁▁▁▁▁▁▁▁▁▁▁</td></tr><tr><td>train/iter_Precision_8</td><td>▁▁▁▁▁▁▁▁▁▁▁▁▁▁▁▁▁▁▁▁▁▁▁▁▁▁▁▁▁▁▁▁▁▁▁▁▁▁▁▁</td></tr><tr><td>train/iter_Precision_9</td><td>▁▅▄▃▄▄▅▅▄▅▆▆▅▇▆█▆▆▆▆▇▇▇█▆▆▇▇▆▇▇██▇▇█▇▇██</td></tr><tr><td>train/iter_Recall_0</td><td>▁▆▆█▆▇█▇███▇█▇▇▇▇███▆▇▇█▇██▇▇███████████</td></tr><tr><td>train/iter_Recall_1</td><td>▁▅▇█▆▆▇▇▇▇▇▇▇▇▇▇▇▇██▇▇▇█▇██▇▇███▇████▇██</td></tr><tr><td>train/iter_Recall_10</td><td>▁▆▆▇▆▇▇▇███▇▇▇▇▇▇▇██▆▆▇█▅█▇▆▇▇██▇██▇▇███</td></tr><tr><td>train/iter_Recall_11</td><td>▁▁▁▁▁▁▁▁▂▄▆▆▅▅▄▇▇▁▆▇▄▅▆▅▆█▇▇▆▅▅▇██▇▇█▆█▇</td></tr><tr><td>train/iter_Recall_12</td><td>▁▂▆▇▆▆▇▇▆▇▇▇▇▇▇█▆▇█▇▇▇▇█▆███▇███▇▇▇█████</td></tr><tr><td>train/iter_Recall_13</td><td>▁▁▁▁▁▁▁▁▁▁▁▁▂▂▂▅▆▁▆▇▄▄▇▆▆▆█▆▆▆▆▇▇█▇▇▇▇██</td></tr><tr><td>train/iter_Recall_2</td><td>▁▁▁▁▁▁▁▁▁▁▁▁▁▁▁▁▁▁▁▁▁▁▁▁▁▁▁▁▁▁▁▁▁▁▁▁▁▁▁▁</td></tr><tr><td>train/iter_Recall_3</td><td>▁▁▁▂▂▂▅▅▅▅▅▆▆▆▅▇▇▇▆▇▇▇▇▇▇▇█▇▇▇▇█▇█▇██▇▇█</td></tr><tr><td>train/iter_Recall_4</td><td>▁▁▁▂▃▅▄▆▆▅▅▇▇▆▅▇▅▆█▇▅▆▇▇▆▇█▇▇▇▇█▇▇███▇██</td></tr><tr><td>train/iter_Recall_5</td><td>▁▁▁▁▁▁▁▁▂▃▃▃▄▃▅█▅▆▇▃▅▄▇▇▆▇█▅▅▇██▆▇▇██▆██</td></tr><tr><td>train/iter_Recall_6</td><td>▁▁▁▁▁▁▁▁▁▄▅▆▁█▇▇▁▁▁█▁▇█▇▁▁██▇▇▆█▆███▇█▁█</td></tr><tr><td>train/iter_Recall_7</td><td>▁▁▁▁▁▁▁▁▁▁▁▁▁▁▁▁▁▁▁▁▁▁▁▁▁▁▁▁▁▁▁▁▁▁▁▁▁▁▁▁</td></tr><tr><td>train/iter_Recall_8</td><td>▁▁▁▁▁▁▁▁▁▁▁▁▁▁▁▁▁▁▁▁▁▁▁▁▁▁▁▁▁▁▁▁▁▁▁▁▁▁▁▁</td></tr><tr><td>train/iter_Recall_9</td><td>▁▆▆▇▆▆▇▇▇▇▇▇▇▇▇▇▇▇██▇▇▇█▇██▇▇███▇████▇██</td></tr><tr><td>train/iter_TN_0</td><td>▆▅▄▆▃▆▆█▇▅▅▃▄▄▆▇▅█▄▂▅▆▄▇▅▅▃▇█▇█▇██▇▆▇▇▇▁</td></tr><tr><td>train/iter_TN_1</td><td>▇▄▃▆▄▆▄▇▆▆▃▃▄▁▅▆▆▇▅▃▄▅▄▆▅▇▅▇▇▅█▇▅▆▅▆▆▄█▁</td></tr><tr><td>train/iter_TN_10</td><td>▇▅▅▆▃▇▅█▇▅▅▄▄▄▆█▇█▄▂▆▆▆▇▇▄▂██▇█▆███▇▇▇▇▁</td></tr><tr><td>train/iter_TN_11</td><td>▄▇▆▇█▅███▇▆▃▅▅▆▇▃█▆▅▄▆▂▇▁█▆▃▇▇██▆█▄▅▆▇▇▆</td></tr><tr><td>train/iter_TN_12</td><td>█▅▃▆▄▆▄▆▆▆▃▃▄▁▅▆▆▆▅▃▅▆▄▆▆▇▆▇▇▆█▆▆▆▇▇▆▄█▃</td></tr><tr><td>train/iter_TN_13</td><td>▅▆▄██▅▆▇▇▆▆▄▅▅▆▅▅▇▆▅▄▂▅▅▂▇▄▄▆▅▅█▄▇▁▄▆▄▇▂</td></tr><tr><td>train/iter_TN_2</td><td>▁▁▁▁▁▁▁▁▁▁▁▁▁▁▁▁▁▁▁▁▁▁▁▁▁▁▁▁▁▁▁▁▁▁▁▁▁▁▁▁</td></tr><tr><td>train/iter_TN_3</td><td>█▆▆▇▅▅▃▄▅▆▂▃▄▁▃▅▅▄▇▅▃▇▃▄▆▇▆▆▇▄▆▇▄▃▄▆▅▁▇▃</td></tr><tr><td>train/iter_TN_4</td><td>▆▅▄▇▆▇▆█▇▅▅▄▄▃▆▇▆█▄▂▅▄▅█▄▅▄▆▆▅█▇▇█▆▇▇▆▇▁</td></tr><tr><td>train/iter_TN_5</td><td>▅▇▇▇▆▅▇▆▆▆▃▇▆▅▅▆▅▅▁▇▆▆▄▄▃█▆▇▅▆▆▃▆▆▄▃▄▅▆▆</td></tr><tr><td>train/iter_TN_6</td><td>█▆█▆▇▇▅█▅▇▁▄▇▁▆▅███▆█▆▃▅██▇▇▇▇█▇▃▆▅▅▅▆█▄</td></tr><tr><td>train/iter_TN_7</td><td>▁▁▁▁▁▁▁▁▁▁▁▁▁▁▁▁▁▁▁▁▁▁▁▁▁▁▁▁▁▁▁▁▁▁▁▁▁▁▁▁</td></tr><tr><td>train/iter_TN_8</td><td>▁▁▁▁▁▁▁▁▁▁▁▁▁▁▁▁▁▁▁▁▁▁▁▁▁▁▁▁▁▁▁▁▁▁▁▁▁▁▁▁</td></tr><tr><td>train/iter_TN_9</td><td>▇▃▃▆▄▆▄▇▆▆▃▃▄▁▅▆▆▇▅▃▄▅▄▆▅▇▅▇▇▅█▇▆▆▅▆▆▄█▁</td></tr><tr><td>train/iter_TP_0</td><td>▁▃▄▃▅▃▄▂▃▅▄▆▅▅▃▃▄▂▆█▄▃▅▃▃▅▇▃▃▃▂▄▂▂▃▄▃▃▃█</td></tr><tr><td>train/iter_TP_1</td><td>▁▄▅▄▄▄▅▄▄▄▆▆▅▇▅▅▄▄▅▆▅▅▆▅▅▄▅▄▄▅▄▄▅▅▅▅▅▆▄█</td></tr><tr><td>train/iter_TP_10</td><td>▁▃▃▃▅▂▄▂▃▅▄▅▄▅▃▂▃▂▆▇▄▃▄▃▂▅▇▂▂▂▂▄▂▂▂▃▂▃▃█</td></tr><tr><td>train/iter_TP_11</td><td>▁▁▁▁▁▁▁▁▁▂▃▇▁▃▂▂▇▁▃▅▃▃█▂█▁▂▇▂▂▁▂▄▂▇▅▄▂▃▄</td></tr><tr><td>train/iter_TP_12</td><td>▁▂▄▄▅▃▅▄▄▄▆▅▄▇▅▅▄▄▆▆▅▄▆▅▄▄▅▄▄▅▄▅▅▅▄▅▅▆▄█</td></tr><tr><td>train/iter_TP_13</td><td>▁▁▁▁▁▁▁▁▁▁▁▁▁▂▁▃▃▁▃▄▄▄▄▃▅▂▆▄▃▄▄▂▆▂█▅▃▅▃▇</td></tr><tr><td>train/iter_TP_2</td><td>▁▁▁▁▁▁▁▁▁▁▁▁▁▁▁▁▁▁▁▁▁▁▁▁▁▁▁▁▁▁▁▁▁▁▁▁▁▁▁▁</td></tr><tr><td>train/iter_TP_3</td><td>▁▁▁▁▂▂▄▄▃▃▅▅▄▆▅▅▄▅▃▄▅▃▆▅▄▄▄▄▃▅▅▄▆▇▅▅▅█▄▇</td></tr><tr><td>train/iter_TP_4</td><td>▁▁▁▁▂▂▂▂▂▃▃▄▄▄▂▃▃▂▅▆▄▅▄▂▄▄▅▄▃▄▃▃▃▂▃▃▃▄▃█</td></tr><tr><td>train/iter_TP_5</td><td>▁▁▁▁▁▁▁▁▁▂▂▂▂▂▃▃▃▃█▁▃▂▅▅▆▁▄▂▃▃▃▇▃▃▅▇▅▃▄▃</td></tr><tr><td>train/iter_TP_6</td><td>▁▁▁▁▁▁▁▁▁▂▅▄▁█▃▅▁▁▁▃▁▃▆▄▁▁▃▃▂▂▁▂▆▃▄▄▄▃▁▅</td></tr><tr><td>train/iter_TP_7</td><td>▁▁▁▁▁▁▁▁▁▁▁▁▁▁▁▁▁▁▁▁▁▁▁▁▁▁▁▁▁▁▁▁▁▁▁▁▁▁▁▁</td></tr><tr><td>train/iter_TP_8</td><td>▁▁▁▁▁▁▁▁▁▁▁▁▁▁▁▁▁▁▁▁▁▁▁▁▁▁▁▁▁▁▁▁▁▁▁▁▁▁▁▁</td></tr><tr><td>train/iter_TP_9</td><td>▁▄▅▄▄▄▅▄▄▄▆▆▅▇▅▅▄▄▅▆▅▅▆▅▅▄▅▄▄▅▄▄▅▅▅▅▅▆▄█</td></tr><tr><td>train/iter_loss</td><td>▆██████▄█▇▇▇▄▇█▇▄▁▄▇▄▇▇▇▄▄▇▇▇▇▇▇▇▇▇▇▇▇▄▆</td></tr><tr><td>train/mean_F1</td><td>▁▂▃▄▄▄▅▅▅▅▆▆▆▆▇▇▇▇▇▇▇▇▇█▇▇██▇███▇███████</td></tr><tr><td>train/mean_IoU</td><td>▁▂▃▃▃▄▄▄▄▅▅▆▅▆▆▇▆▆▇▇▆▇▇▇▇▇▇▇▇▇██▇▇██▇███</td></tr><tr><td>trainer/global_step</td><td>▁▁▁▂▂▂▂▂▂▃▃▃▃▃▄▄▄▄▄▄▅▅▅▅▅▅▆▆▆▆▆▇▇▇▇▇▇███</td></tr><tr><td>val/epoch_F1_0</td><td>▁▅▇▇▇▇███▇██████▇███████████▇███████████</td></tr><tr><td>val/epoch_F1_1</td><td>▁▃▇▇▇▇██▇███████████████████████████████</td></tr><tr><td>val/epoch_F1_10</td><td>▁▅▇▇▇▇█▇█▇██▇███▇███████████▇███████████</td></tr><tr><td>val/epoch_F1_11</td><td>▁▁▁▁▁▁▁▁▂▃▇▇▆▆▇█▆▆▇▇▅▆▇▇▅▇▇█▅███▇▇▇█▇▆▇▇</td></tr><tr><td>val/epoch_F1_12</td><td>▁▁▇▇▇▇▇▇▇▇██▇███▇███████████████████████</td></tr><tr><td>val/epoch_F1_13</td><td>▁▁▁▁▁▁▁▁▁▁▁▁▁▃▆▆▆▆▆▇▆▆██▇███▆███▇████▇██</td></tr><tr><td>val/epoch_F1_2</td><td>▁▁▁▁▁▁▁▁▁▁▁▁▁▁▁▁▁▁▁▁▁▁▁▁▁▁▁▁▁▁▁▁▁▁▁▁▁▁▁▁</td></tr><tr><td>val/epoch_F1_3</td><td>▁▁▁▁▁▃▆▇▇▇▇▇▇▇▇█▇▇▇█▇█▇█▇███▇▇███▇██▇███</td></tr><tr><td>val/epoch_F1_4</td><td>▁▁▁▃▄▆▇▇▇▆▇█▇▇██▇███▇▇██▇▇██▇███████████</td></tr><tr><td>val/epoch_F1_5</td><td>▁▁▁▁▁▁▁▁▂▃▅▅▅▆▆▇▆▇▇▇▇▇██▇▇██▇███████▇███</td></tr><tr><td>val/epoch_F1_6</td><td>▁▁▁▁▁▁▁▁▁▃▆▆▇▇▇█▇███▇███████████████████</td></tr><tr><td>val/epoch_F1_7</td><td>▁▁▁▁▁▁▁▁▁▁▁▁▁▁▁▁▁▁▁▁▁▁▁▁▁▁▁▁▁▁▁▁▁▁▁▁▁▁▁▁</td></tr><tr><td>val/epoch_F1_8</td><td>▁▁▁▁▁▁▁▁▁▁▁▁▁▁▁▁▁▁▁▁▁▁▁▁▁▁▁▁▁▁▁▁▁▁▁▁▁▁▁▁</td></tr><tr><td>val/epoch_F1_9</td><td>▁▆▇▇▇▇██▇███████████████████████████████</td></tr><tr><td>val/epoch_FN_0</td><td>█▅▃▂▃▂▂▂▂▃▂▁▁▂▁▂▁▂▁▂▂▂▁▂▂▁▂▂▁▂▁▂▁▂▂▁▁▁▂▁</td></tr><tr><td>val/epoch_FN_1</td><td>█▇▂▂▂▂▂▂▁▂▁▁▁▂▁▁▁▂▁▁▁▁▁▁▁▁▁▁▁▂▁▁▁▂▁▁▁▁▁▁</td></tr><tr><td>val/epoch_FN_10</td><td>█▅▃▂▃▂▂▂▂▃▂▂▂▂▂▂▁▂▁▂▂▂▂▂▂▂▂▂▁▂▂▂▂▂▂▂▁▁▂▂</td></tr><tr><td>val/epoch_FN_11</td><td>████████▇▇▃▃▂▃▁▂▂▄▃▂▄▃▂▂▄▂▃▂▅▂▃▃▁▂▁▂▄▄▃▂</td></tr><tr><td>val/epoch_FN_12</td><td>██▃▂▃▂▂▂▁▂▂▁▁▁▂▁▂▂▁▁▁▁▂▁▂▂▂▁▁▂▂▁▂▂▂▂▁▁▂▂</td></tr><tr><td>val/epoch_FN_13</td><td>█████████████▇▃▄▃▄▃▂▄▃▂▂▂▂▁▂▄▂▂▂▁▂▂▁▂▄▂▂</td></tr><tr><td>val/epoch_FN_2</td><td>▁▁▁▁▁▁▁▁▁▁▁▁▁▁▁▁▁▁▁▁▁▁▁▁▁▁▁▁▁▁▁▁▁▁▁▁▁▁▁▁</td></tr><tr><td>val/epoch_FN_3</td><td>█████▆▄▃▂▂▂▂▃▂▃▂▃▂▂▂▁▁▃▂▂▂▂▂▁▂▂▁▂▂▂▁▂▂▂▂</td></tr><tr><td>val/epoch_FN_4</td><td>███▇▆▄▃▃▃▄▂▂▂▃▁▂▂▂▂▁▂▃▂▂▂▂▁▂▃▂▂▂▁▂▂▂▂▂▁▂</td></tr><tr><td>val/epoch_FN_5</td><td>█████████▇▅▅▅▃▄▃▃▃▂▂▂▂▂▂▃▂▂▁▂▂▁▁▂▂▁▁▁▁▁▁</td></tr><tr><td>val/epoch_FN_6</td><td>█████████▇▃▃▃▁▂▁▁▁▁▁▂▁▁▁▂▁▁▁▁▁▁▁▁▁▁▁▁▁▁▁</td></tr><tr><td>val/epoch_FN_7</td><td>▁▁▁▁▁▁▁▁▁▁▁▁▁▁▁▁▁▁▁▁▁▁▁▁▁▁▁▁▁▁▁▁▁▁▁▁▁▁▁▁</td></tr><tr><td>val/epoch_FN_8</td><td>▁▁▁▁▁▁▁▁▁▁▁▁▁▁▁▁▁▁▁▁▁▁▁▁▁▁▁▁▁▁▁▁▁▁▁▁▁▁▁▁</td></tr><tr><td>val/epoch_FN_9</td><td>█▄▂▂▂▂▂▁▁▂▁▁▁▂▁▁▁▂▁▁▁▁▁▁▁▁▁▁▁▂▁▁▁▂▁▁▁▁▁▁</td></tr><tr><td>val/epoch_FP_0</td><td>▁▂▃▅▃▆▄▄▃▂▃▅▅▄▅▄█▃▆▄▄▄▄▄▃▄▄▄▆▄▄▄▄▄▄▄▄▅▄▄</td></tr><tr><td>val/epoch_FP_1</td><td>▁▂▆▇▅▆▅▆█▅▆▆▆▅▆▆▇▅▆▅▇▆▅▅▆▅▅▅▇▅▅▅▆▆▅▅▆▅▅▅</td></tr><tr><td>val/epoch_FP_10</td><td>▁▂▃▅▃▆▅▄▃▃▃▅▄▄▅▄▇▃▆▄▄▅▄▄▄▄▄▄█▄▄▄▃▄▄▄▅▅▄▄</td></tr><tr><td>val/epoch_FP_11</td><td>▁▁▁▁▁▁▁▁▁▁▃▄█▃▆▄█▂▄▄▃▂▄▄▃▅▃▄▂▃▃▃▇▅▆▄▃▂▃▄</td></tr><tr><td>val/epoch_FP_12</td><td>▁▁▅▆▅▆▅▆█▆▆▆▆▆▅▆▆▅▆▅▇▆▄▅▅▅▄▅▇▄▅▅▅▅▅▅▆▅▅▅</td></tr><tr><td>val/epoch_FP_13</td><td>▁▁▁▁▁▁▁▁▁▁▁▁▁▁▅▄█▄▅▆▅▄▆▅▇▆▆▅▂▅▅▅█▅▅▅▅▂▅▄</td></tr><tr><td>val/epoch_FP_2</td><td>▁▁▁▁▁▁▁▁▁▁▁▁▁▁▁▁▁▁▁▁▁▁▁▁▁▁▁▁▁▁▁▁▁▁▁▁▁▁▁▁</td></tr><tr><td>val/epoch_FP_3</td><td>▁▁▁▂▁▄▄▅▇▆▆▅▅▅▄▅▄▅▅▄▇▇▄▅▆▅▄▅█▅▅▅▅▆▅▅▆▅▅▄</td></tr><tr><td>val/epoch_FP_4</td><td>▁▁▁▃▂▅▄▄▅▄▅▇▇▃█▆█▅▆▆▆▅▆▆▆▅▆▆▅▅▅▅█▆▅▅▆▅▆▆</td></tr><tr><td>val/epoch_FP_5</td><td>▁▁▁▁▁▁▁▁▂▄▃▄▄▅▃▄▅▄▅▄▆▅▅▄▃▆▄▅▅▅▅▅▄▃▄▄█▆▄▄</td></tr><tr><td>val/epoch_FP_6</td><td>▁▁▁▁▁▁▁▁▁▄█▅▅▆▅▅▇▅▆▅▃▅▄▄▃▄▄▅▆▅▅▅▄▅▄▅▅▆▄▄</td></tr><tr><td>val/epoch_FP_7</td><td>▁▁▁▁▁▁▁▁▁▁▁▁▁▁▁▁▁▁▁▁▁▁▁▁▁▁▁▁▁▁▁▁▁▁▁▁▁▁▁▁</td></tr><tr><td>val/epoch_FP_8</td><td>▁▁▁▁▁▁▁▁▁▁▁▁▁▁▁▁▁▁▁▁▁▁▁▁▁▁▁▁▁▁▁▁▁▁▁▁▁▁▁▁</td></tr><tr><td>val/epoch_FP_9</td><td>▁▅▆▆▅▆▅▅█▅▅▆▆▅▅▅▆▅▆▅▇▆▅▅▅▅▅▅▆▅▅▅▆▅▅▅▆▅▅▅</td></tr><tr><td>val/epoch_IoU_0</td><td>▁▄▇▇▇▇▇█▇▇██▇███▇█▇█████████▇███████████</td></tr><tr><td>val/epoch_IoU_1</td><td>▁▂▇▇▇▇██▇▇██▇███▇███████████▇███████████</td></tr><tr><td>val/epoch_IoU_10</td><td>▁▄▇▇▇▇▇▇▇▇██▇█▇█▇▇▇█████████▇███████████</td></tr><tr><td>val/epoch_IoU_11</td><td>▁▁▁▁▁▁▁▁▂▃▇▇▆▆▇█▆▆▇▇▅▆▇▇▅▇▇█▅███▇▇▇▇▇▆▇▇</td></tr><tr><td>val/epoch_IoU_12</td><td>▁▁▆▇▆▇▇▇▇▇▇▇▇▇██▇▇██▇███████▇████▇██████</td></tr><tr><td>val/epoch_IoU_13</td><td>▁▁▁▁▁▁▁▁▁▁▁▁▁▃▆▆▆▆▆▇▅▆▇█▇▇██▅███▇███▇▇██</td></tr><tr><td>val/epoch_IoU_2</td><td>▁▁▁▁▁▁▁▁▁▁▁▁▁▁▁▁▁▁▁▁▁▁▁▁▁▁▁▁▁▁▁▁▁▁▁▁▁▁▁▁</td></tr><tr><td>val/epoch_IoU_3</td><td>▁▁▁▁▁▃▅▆▆▇▇▇▇▇▇▇▆▇▇█▇▇▇█▇███▇▇██▇▇██▇███</td></tr><tr><td>val/epoch_IoU_4</td><td>▁▁▁▃▃▆▇▇▆▆▇▇▇▇▇▇▇▇██▇▇██▇▇██▇███████▇███</td></tr><tr><td>val/epoch_IoU_5</td><td>▁▁▁▁▁▁▁▁▁▃▄▅▄▆▆▇▆▆▇▇▆▇▇▇▇▇█▇▇████▇██▇███</td></tr><tr><td>val/epoch_IoU_6</td><td>▁▁▁▁▁▁▁▁▁▂▅▆▆▇▇█▇█▇█▇███▇███▇████████▇██</td></tr><tr><td>val/epoch_IoU_7</td><td>▁▁▁▁▁▁▁▁▁▁▁▁▁▁▁▁▁▁▁▁▁▁▁▁▁▁▁▁▁▁▁▁▁▁▁▁▁▁▁▁</td></tr><tr><td>val/epoch_IoU_8</td><td>▁▁▁▁▁▁▁▁▁▁▁▁▁▁▁▁▁▁▁▁▁▁▁▁▁▁▁▁▁▁▁▁▁▁▁▁▁▁▁▁</td></tr><tr><td>val/epoch_IoU_9</td><td>▁▆▇▇▇▇▇█▇▇██▇███▇███████████▇███████████</td></tr><tr><td>val/epoch_Precision_0</td><td>▁█▇▆▇▅▇▇▇█▇▆▆▇▆▆▄▇▅▇▇▆▇▇▇▆▇▇▅▇▇▇▇▆▇▇▆▆▇▇</td></tr><tr><td>val/epoch_Precision_1</td><td>▁█▇▇▇▇██▇███▇███▇███▇███████▇███▇███▇███</td></tr><tr><td>val/epoch_Precision_10</td><td>▁██▇█▇▇▇███▇▇▇▇▇▆█▇█▇▇███▇██▆▇▇██▇██▇▇██</td></tr><tr><td>val/epoch_Precision_11</td><td>▁▁▁▁▁▁▁▁▇▇▇▇▅█▆▇▅█▇▇▆▇▆▆▇▇▇▇▇▇█▇▅▆▆▆██▇▇</td></tr><tr><td>val/epoch_Precision_12</td><td>▁▁▇▇▇▇▇▇▆▇▇▇▇▇▇▇▇▇▇█▇▇██████▇███▇▇██▇▇██</td></tr><tr><td>val/epoch_Precision_13</td><td>▁▁▁▁▁▁▁▁▃▁▃▅▆█▆▇▅▆▆▆▆▇▆▇▆▇▇▇█▇▇▇▆▇▇▇▇█▇▇</td></tr><tr><td>val/epoch_Precision_2</td><td>▁▁▁▁▁▁▁▁▁▁▁▁▁▁▁▁▁▁▁▁▁▁▁▁▁▁▁▁▁▁▁▁▁▁▁▁▁▁▁▁</td></tr><tr><td>val/epoch_Precision_3</td><td>▁▁▁▄▃▄▆▇▆▇▇▇▇▇▇▇▇▇▇█▆▇██▇▇█▇▆▇▇▇▇▇██▇███</td></tr><tr><td>val/epoch_Precision_4</td><td>▁▁▆▆▇▆▇▇▇█▇▇▆█▆▇▆█▇▇▇▇▇▇▇▇▇▇▇▇▇▇▆▇▇▇▇▇▇▇</td></tr><tr><td>val/epoch_Precision_5</td><td>▁▁▁▁▁▁▃▄▄▅▇▇▆▆▇▇▆▇▇▇▆▇▇▇▇▇▇▇▇▇▇▇███▇▆▇██</td></tr><tr><td>val/epoch_Precision_6</td><td>▁▁▁▁▁▁▁▁▁▄▅▆▇▇▇▇▆▇▇▇█▇▇██▇█▇▇▇▇▇▇▇▇▇▇▇██</td></tr><tr><td>val/epoch_Precision_7</td><td>▁▁▁▁▁▁▁▁▁▁▁▁▁▁▁▁▁▁▁▁▁▁▁▁▁▁▁▁▁▁▁▁▁▁▁▁▁▁▁▁</td></tr><tr><td>val/epoch_Precision_8</td><td>▁▁▁▁▁▁▁▁▁▁▁▁▁▁▁▁▁▁▁▁▁▁▁▁▁▁▁▁▁▁▁▁▁▁▁▁▁▁▁▁</td></tr><tr><td>val/epoch_Precision_9</td><td>▁▆▇▆▇▇█▇▅█▇▇▇█▇▇▆█▇█▆▇██▇███▆███▇▇██▇███</td></tr><tr><td>val/epoch_Recall_0</td><td>▁▄▆▇▆▇▇▇▇▆▇██▇█▇█▇█▇▇▇▇▇▇█▇▇█▇▇▇▇▇▇▇▇█▇▇</td></tr><tr><td>val/epoch_Recall_1</td><td>▁▂▇▇▇▇▇▇█▇██▇▇███▇███████████▇███▇██████</td></tr><tr><td>val/epoch_Recall_10</td><td>▁▃▆▇▆▇▇▇▆▆▇▇▇▇▇▇▇▇█▇▇▇▇▇▇▇▇▇█▇▇▇▇▇▇▇▇█▇▇</td></tr><tr><td>val/epoch_Recall_11</td><td>▁▁▁▁▁▁▁▁▁▂▅▆▆▅▇▆▇▄▅▆▄▄▆▆▄▆▅▆▃▆▆▆█▇█▇▅▅▆▆</td></tr><tr><td>val/epoch_Recall_12</td><td>▁▁▆▇▆▇▇▇█▇▇███▇█▇▇████▇█▇▇▇██▇▇█▇▇▇▇██▇▇</td></tr><tr><td>val/epoch_Recall_13</td><td>▁▁▁▁▁▁▁▁▁▁▁▁▁▂▆▅▆▅▆▇▅▅▇▇▇▇█▇▄▇▇▇█▇▇▇▇▅▇▇</td></tr><tr><td>val/epoch_Recall_2</td><td>▁▁▁▁▁▁▁▁▁▁▁▁▁▁▁▁▁▁▁▁▁▁▁▁▁▁▁▁▁▁▁▁▁▁▁▁▁▁▁▁</td></tr><tr><td>val/epoch_Recall_3</td><td>▁▁▁▁▁▃▅▆▇▇▇▇▆▇▆▇▆▇▇▇██▇▇▇▇▇▇█▇▇█▇▇▇█▇▇▇▇</td></tr><tr><td>val/epoch_Recall_4</td><td>▁▁▁▂▃▅▆▆▆▅▆▇▇▅█▇▇▆▇█▇▆▇▇▇▇█▇▆▇▇▇█▇▇▇▇▇█▇</td></tr><tr><td>val/epoch_Recall_5</td><td>▁▁▁▁▁▁▁▁▁▃▄▄▄▆▅▆▆▆▇▇▇▇▇▇▆▇▇▇▇▇██▇▇██████</td></tr><tr><td>val/epoch_Recall_6</td><td>▁▁▁▁▁▁▁▁▁▂▆▆▆█▇█████▇███▇███████████████</td></tr><tr><td>val/epoch_Recall_7</td><td>▁▁▁▁▁▁▁▁▁▁▁▁▁▁▁▁▁▁▁▁▁▁▁▁▁▁▁▁▁▁▁▁▁▁▁▁▁▁▁▁</td></tr><tr><td>val/epoch_Recall_8</td><td>▁▁▁▁▁▁▁▁▁▁▁▁▁▁▁▁▁▁▁▁▁▁▁▁▁▁▁▁▁▁▁▁▁▁▁▁▁▁▁▁</td></tr><tr><td>val/epoch_Recall_9</td><td>▁▅▇▇▇▇▇██▇███▇███▇███████████▇███▇██████</td></tr><tr><td>val/epoch_TN_0</td><td>█▇▆▄▆▃▅▅▆▇▆▄▄▅▄▅▁▆▃▅▅▅▅▅▆▅▅▅▃▅▅▅▅▅▅▅▅▄▅▅</td></tr><tr><td>val/epoch_TN_1</td><td>█▇▃▂▄▃▄▃▁▄▃▃▃▄▃▃▂▄▃▄▂▃▄▄▃▄▄▄▂▄▄▄▃▃▄▄▃▄▄▄</td></tr><tr><td>val/epoch_TN_10</td><td>█▇▆▄▆▃▄▅▆▆▆▄▅▅▄▅▂▆▃▅▅▄▅▅▅▅▅▅▁▅▅▅▆▅▅▅▄▄▅▅</td></tr><tr><td>val/epoch_TN_11</td><td>██████████▆▅▁▆▃▅▁▇▅▅▆▇▅▅▆▄▆▅▇▆▆▆▂▄▃▅▆▇▆▅</td></tr><tr><td>val/epoch_TN_12</td><td>██▄▃▄▃▄▃▁▃▃▃▃▃▄▃▃▄▃▄▂▃▅▄▄▄▅▄▂▅▄▄▄▄▄▄▃▄▄▄</td></tr><tr><td>val/epoch_TN_13</td><td>██████████████▄▅▁▅▄▃▄▅▃▄▂▃▃▄▇▄▄▄▁▄▄▄▄▇▄▅</td></tr><tr><td>val/epoch_TN_2</td><td>▁▁▁▁▁▁▁▁▁▁▁▁▁▁▁▁▁▁▁▁▁▁▁▁▁▁▁▁▁▁▁▁▁▁▁▁▁▁▁▁</td></tr><tr><td>val/epoch_TN_3</td><td>███▇█▅▅▄▂▃▃▄▄▄▅▄▅▄▄▅▂▂▅▄▃▄▅▄▁▄▄▄▄▃▄▄▃▄▄▅</td></tr><tr><td>val/epoch_TN_4</td><td>███▆▇▄▅▅▄▅▄▂▂▆▁▃▁▄▃▃▃▄▃▃▃▄▃▃▄▄▄▄▁▃▄▄▃▄▃▃</td></tr><tr><td>val/epoch_TN_5</td><td>████████▇▅▆▅▅▄▆▅▄▅▄▅▃▄▄▅▆▃▅▄▄▄▄▄▅▆▅▅▁▃▅▅</td></tr><tr><td>val/epoch_TN_6</td><td>█████████▅▁▄▄▃▄▄▂▄▃▄▆▄▅▅▆▅▅▄▃▄▄▄▅▄▅▄▄▃▅▅</td></tr><tr><td>val/epoch_TN_7</td><td>▁▁▁▁▁▁▁▁▁▁▁▁▁▁▁▁▁▁▁▁▁▁▁▁▁▁▁▁▁▁▁▁▁▁▁▁▁▁▁▁</td></tr><tr><td>val/epoch_TN_8</td><td>▁▁▁▁▁▁▁▁▁▁▁▁▁▁▁▁▁▁▁▁▁▁▁▁▁▁▁▁▁▁▁▁▁▁▁▁▁▁▁▁</td></tr><tr><td>val/epoch_TN_9</td><td>█▄▃▃▄▃▄▄▁▄▄▃▃▄▄▄▃▄▃▄▂▃▄▄▄▄▄▄▃▄▄▄▃▄▄▄▃▄▄▄</td></tr><tr><td>val/epoch_TP_0</td><td>▁▄▆▇▆▇▇▇▇▆▇██▇█▇█▇█▇▇▇█▇▇█▇▇█▇█▇█▇▇███▇█</td></tr><tr><td>val/epoch_TP_1</td><td>▁▂▇▇▇▇▇▇█▇███▇███▇███████████▇███▇██████</td></tr><tr><td>val/epoch_TP_10</td><td>▁▄▆▇▆▇▇▇▇▆▇▇▇▇▇▇█▇█▇▇▇▇▇▇▇▇▇█▇▇▇▇▇▇▇██▇▇</td></tr><tr><td>val/epoch_TP_11</td><td>▁▁▁▁▁▁▁▁▂▂▆▆▇▆█▇▇▅▆▇▅▆▇▇▅▇▆▇▄▇▆▆█▇█▇▅▅▆▇</td></tr><tr><td>val/epoch_TP_12</td><td>▁▁▆▇▆▇▇▇█▇▇███▇█▇▇████▇█▇▇▇██▇▇█▇▇▇▇██▇▇</td></tr><tr><td>val/epoch_TP_13</td><td>▁▁▁▁▁▁▁▁▁▁▁▁▁▂▆▅▆▅▆▇▅▆▇▇▇▇█▇▅▇▇▇█▇▇█▇▅▇▇</td></tr><tr><td>val/epoch_TP_2</td><td>▁▁▁▁▁▁▁▁▁▁▁▁▁▁▁▁▁▁▁▁▁▁▁▁▁▁▁▁▁▁▁▁▁▁▁▁▁▁▁▁</td></tr><tr><td>val/epoch_TP_3</td><td>▁▁▁▁▁▃▅▆▇▇▇▇▆▇▆▇▆▇▇▇██▆▇▇▇▇▇█▇▇█▇▇▇█▇▇▇▇</td></tr><tr><td>val/epoch_TP_4</td><td>▁▁▁▂▃▅▆▆▆▅▇▇▇▆█▇▇▇▇█▇▆▇▇▇▇█▇▆▇▇▇█▇▇▇▇▇█▇</td></tr><tr><td>val/epoch_TP_5</td><td>▁▁▁▁▁▁▁▁▁▂▄▄▄▆▅▆▆▆▇▇▇▇▇▇▆▇▇█▇▇██▇▇██████</td></tr><tr><td>val/epoch_TP_6</td><td>▁▁▁▁▁▁▁▁▁▂▆▆▆█▇█████▇███▇███████████████</td></tr><tr><td>val/epoch_TP_7</td><td>▁▁▁▁▁▁▁▁▁▁▁▁▁▁▁▁▁▁▁▁▁▁▁▁▁▁▁▁▁▁▁▁▁▁▁▁▁▁▁▁</td></tr><tr><td>val/epoch_TP_8</td><td>▁▁▁▁▁▁▁▁▁▁▁▁▁▁▁▁▁▁▁▁▁▁▁▁▁▁▁▁▁▁▁▁▁▁▁▁▁▁▁▁</td></tr><tr><td>val/epoch_TP_9</td><td>▁▅▇▇▇▇▇██▇███▇███▇███████████▇███▇██████</td></tr><tr><td>val/epoch_loss</td><td>█▃▂▂▂▂▁▁▁▂▁▁▁▁▁▁▁▁▁▁▁▁▁▁▁▁▁▁▁▁▁▁▁▂▁▁▁▁▁▁</td></tr><tr><td>val/iter_F1_0</td><td>▁▅▇▇▇▇███▇██████▇███████████▇███████████</td></tr><tr><td>val/iter_F1_1</td><td>▁▃▇▇▇▇██▇███████████████████████████████</td></tr><tr><td>val/iter_F1_10</td><td>▁▅▇▇▇▇█▇█▇██▇███▇███████████▇███████████</td></tr><tr><td>val/iter_F1_11</td><td>▁▁▁▁▁▁▁▁▂▃▇▇▆▆▇█▆▆▇▇▅▆▇▇▅▇▇█▅███▇▇▇█▇▆▇▇</td></tr><tr><td>val/iter_F1_12</td><td>▁▁▇▇▇▇▇▇▇▇██▇███▇███████████████████████</td></tr><tr><td>val/iter_F1_13</td><td>▁▁▁▁▁▁▁▁▁▁▁▁▁▃▆▆▆▆▆▇▆▆██▇███▆███▇████▇██</td></tr><tr><td>val/iter_F1_2</td><td>▁▁▁▁▁▁▁▁▁▁▁▁▁▁▁▁▁▁▁▁▁▁▁▁▁▁▁▁▁▁▁▁▁▁▁▁▁▁▁▁</td></tr><tr><td>val/iter_F1_3</td><td>▁▁▁▁▁▃▆▇▇▇▇▇▇▇▇█▇▇▇█▇█▇█▇███▇▇███▇██▇███</td></tr><tr><td>val/iter_F1_4</td><td>▁▁▁▃▄▆▇▇▇▆▇█▇▇██▇███▇▇██▇▇██▇███████████</td></tr><tr><td>val/iter_F1_5</td><td>▁▁▁▁▁▁▁▁▂▃▅▅▅▆▆▇▆▇▇▇▇▇██▇▇██▇███████▇███</td></tr><tr><td>val/iter_F1_6</td><td>▁▁▁▁▁▁▁▁▁▃▆▆▇▇▇█▇███▇███████████████████</td></tr><tr><td>val/iter_F1_7</td><td>▁▁▁▁▁▁▁▁▁▁▁▁▁▁▁▁▁▁▁▁▁▁▁▁▁▁▁▁▁▁▁▁▁▁▁▁▁▁▁▁</td></tr><tr><td>val/iter_F1_8</td><td>▁▁▁▁▁▁▁▁▁▁▁▁▁▁▁▁▁▁▁▁▁▁▁▁▁▁▁▁▁▁▁▁▁▁▁▁▁▁▁▁</td></tr><tr><td>val/iter_F1_9</td><td>▁▆▇▇▇▇██▇███████████████████████████████</td></tr><tr><td>val/iter_FN_0</td><td>█▅▃▂▃▂▂▂▂▃▂▁▁▂▁▂▁▂▁▂▂▂▁▂▂▁▂▂▁▂▁▂▁▂▂▁▁▁▂▁</td></tr><tr><td>val/iter_FN_1</td><td>█▇▂▂▂▂▂▂▁▂▁▁▁▂▁▁▁▂▁▁▁▁▁▁▁▁▁▁▁▂▁▁▁▂▁▁▁▁▁▁</td></tr><tr><td>val/iter_FN_10</td><td>█▅▃▂▃▂▂▂▂▃▂▂▂▂▂▂▁▂▁▂▂▂▂▂▂▂▂▂▁▂▂▂▂▂▂▂▁▁▂▂</td></tr><tr><td>val/iter_FN_11</td><td>████████▇▇▃▃▂▃▁▂▂▄▃▂▄▃▂▂▄▂▃▂▅▂▃▃▁▂▁▂▄▄▃▂</td></tr><tr><td>val/iter_FN_12</td><td>██▃▂▃▂▂▂▁▂▂▁▁▁▂▁▂▂▁▁▁▁▂▁▂▂▂▁▁▂▂▁▂▂▂▂▁▁▂▂</td></tr><tr><td>val/iter_FN_13</td><td>█████████████▇▃▄▃▄▃▂▄▃▂▂▂▂▁▂▄▂▂▂▁▂▂▁▂▄▂▂</td></tr><tr><td>val/iter_FN_2</td><td>▁▁▁▁▁▁▁▁▁▁▁▁▁▁▁▁▁▁▁▁▁▁▁▁▁▁▁▁▁▁▁▁▁▁▁▁▁▁▁▁</td></tr><tr><td>val/iter_FN_3</td><td>█████▆▄▃▂▂▂▂▃▂▃▂▃▂▂▂▁▁▃▂▂▂▂▂▁▂▂▁▂▂▂▁▂▂▂▂</td></tr><tr><td>val/iter_FN_4</td><td>███▇▆▄▃▃▃▄▂▂▂▃▁▂▂▂▂▁▂▃▂▂▂▂▁▂▃▂▂▂▁▂▂▂▂▂▁▂</td></tr><tr><td>val/iter_FN_5</td><td>█████████▇▅▅▅▃▄▃▃▃▂▂▂▂▂▂▃▂▂▁▂▂▁▁▂▂▁▁▁▁▁▁</td></tr><tr><td>val/iter_FN_6</td><td>█████████▇▃▃▃▁▂▁▁▁▁▁▂▁▁▁▂▁▁▁▁▁▁▁▁▁▁▁▁▁▁▁</td></tr><tr><td>val/iter_FN_7</td><td>▁▁▁▁▁▁▁▁▁▁▁▁▁▁▁▁▁▁▁▁▁▁▁▁▁▁▁▁▁▁▁▁▁▁▁▁▁▁▁▁</td></tr><tr><td>val/iter_FN_8</td><td>▁▁▁▁▁▁▁▁▁▁▁▁▁▁▁▁▁▁▁▁▁▁▁▁▁▁▁▁▁▁▁▁▁▁▁▁▁▁▁▁</td></tr><tr><td>val/iter_FN_9</td><td>█▄▂▂▂▂▂▁▁▂▁▁▁▂▁▁▁▂▁▁▁▁▁▁▁▁▁▁▁▂▁▁▁▂▁▁▁▁▁▁</td></tr><tr><td>val/iter_FP_0</td><td>▁▂▃▅▃▆▄▄▃▂▃▅▅▄▅▄█▃▆▄▄▄▄▄▃▄▄▄▆▄▄▄▄▄▄▄▄▅▄▄</td></tr><tr><td>val/iter_FP_1</td><td>▁▂▆▇▅▆▅▆█▅▆▆▆▅▆▆▇▅▆▅▇▆▅▅▆▅▅▅▇▅▅▅▆▆▅▅▆▅▅▅</td></tr><tr><td>val/iter_FP_10</td><td>▁▂▃▅▃▆▅▄▃▃▃▅▄▄▅▄▇▃▆▄▄▅▄▄▄▄▄▄█▄▄▄▃▄▄▄▅▅▄▄</td></tr><tr><td>val/iter_FP_11</td><td>▁▁▁▁▁▁▁▁▁▁▃▄█▃▆▄█▂▄▄▃▂▄▄▃▅▃▄▂▃▃▃▇▅▆▄▃▂▃▄</td></tr><tr><td>val/iter_FP_12</td><td>▁▁▅▆▅▆▅▆█▆▆▆▆▆▅▆▆▅▆▅▇▆▄▅▅▅▄▅▇▄▅▅▅▅▅▅▆▅▅▅</td></tr><tr><td>val/iter_FP_13</td><td>▁▁▁▁▁▁▁▁▁▁▁▁▁▁▅▄█▄▅▆▅▄▆▅▇▆▆▅▂▅▅▅█▅▅▅▅▂▅▄</td></tr><tr><td>val/iter_FP_2</td><td>▁▁▁▁▁▁▁▁▁▁▁▁▁▁▁▁▁▁▁▁▁▁▁▁▁▁▁▁▁▁▁▁▁▁▁▁▁▁▁▁</td></tr><tr><td>val/iter_FP_3</td><td>▁▁▁▂▁▄▄▅▇▆▆▅▅▅▄▅▄▅▅▄▇▇▄▅▆▅▄▅█▅▅▅▅▆▅▅▆▅▅▄</td></tr><tr><td>val/iter_FP_4</td><td>▁▁▁▃▂▅▄▄▅▄▅▇▇▃█▆█▅▆▆▆▅▆▆▆▅▆▆▅▅▅▅█▆▅▅▆▅▆▆</td></tr><tr><td>val/iter_FP_5</td><td>▁▁▁▁▁▁▁▁▂▄▃▄▄▅▃▄▅▄▅▄▆▅▅▄▃▆▄▅▅▅▅▅▄▃▄▄█▆▄▄</td></tr><tr><td>val/iter_FP_6</td><td>▁▁▁▁▁▁▁▁▁▄█▅▅▆▅▅▇▅▆▅▃▅▄▄▃▄▄▅▆▅▅▅▄▅▄▅▅▆▄▄</td></tr><tr><td>val/iter_FP_7</td><td>▁▁▁▁▁▁▁▁▁▁▁▁▁▁▁▁▁▁▁▁▁▁▁▁▁▁▁▁▁▁▁▁▁▁▁▁▁▁▁▁</td></tr><tr><td>val/iter_FP_8</td><td>▁▁▁▁▁▁▁▁▁▁▁▁▁▁▁▁▁▁▁▁▁▁▁▁▁▁▁▁▁▁▁▁▁▁▁▁▁▁▁▁</td></tr><tr><td>val/iter_FP_9</td><td>▁▅▆▆▅▆▅▅█▅▅▆▆▅▅▅▆▅▆▅▇▆▅▅▅▅▅▅▆▅▅▅▆▅▅▅▆▅▅▅</td></tr><tr><td>val/iter_IoU_0</td><td>▁▄▇▇▇▇▇█▇▇██▇███▇█▇█████████▇███████████</td></tr><tr><td>val/iter_IoU_1</td><td>▁▂▇▇▇▇██▇▇██▇███▇███████████▇███████████</td></tr><tr><td>val/iter_IoU_10</td><td>▁▄▇▇▇▇▇▇▇▇██▇█▇█▇▇▇█████████▇███████████</td></tr><tr><td>val/iter_IoU_11</td><td>▁▁▁▁▁▁▁▁▂▃▇▇▆▆▇█▆▆▇▇▅▆▇▇▅▇▇█▅███▇▇▇▇▇▆▇▇</td></tr><tr><td>val/iter_IoU_12</td><td>▁▁▆▇▆▇▇▇▇▇▇▇▇▇██▇▇██▇███████▇████▇██████</td></tr><tr><td>val/iter_IoU_13</td><td>▁▁▁▁▁▁▁▁▁▁▁▁▁▃▆▆▆▆▆▇▅▆▇█▇▇██▅███▇███▇▇██</td></tr><tr><td>val/iter_IoU_2</td><td>▁▁▁▁▁▁▁▁▁▁▁▁▁▁▁▁▁▁▁▁▁▁▁▁▁▁▁▁▁▁▁▁▁▁▁▁▁▁▁▁</td></tr><tr><td>val/iter_IoU_3</td><td>▁▁▁▁▁▃▅▆▆▇▇▇▇▇▇▇▆▇▇█▇▇▇█▇███▇▇██▇▇██▇███</td></tr><tr><td>val/iter_IoU_4</td><td>▁▁▁▃▃▆▇▇▆▆▇▇▇▇▇▇▇▇██▇▇██▇▇██▇███████▇███</td></tr><tr><td>val/iter_IoU_5</td><td>▁▁▁▁▁▁▁▁▁▃▄▅▄▆▆▇▆▆▇▇▆▇▇▇▇▇█▇▇████▇██▇███</td></tr><tr><td>val/iter_IoU_6</td><td>▁▁▁▁▁▁▁▁▁▂▅▆▆▇▇█▇█▇█▇███▇███▇████████▇██</td></tr><tr><td>val/iter_IoU_7</td><td>▁▁▁▁▁▁▁▁▁▁▁▁▁▁▁▁▁▁▁▁▁▁▁▁▁▁▁▁▁▁▁▁▁▁▁▁▁▁▁▁</td></tr><tr><td>val/iter_IoU_8</td><td>▁▁▁▁▁▁▁▁▁▁▁▁▁▁▁▁▁▁▁▁▁▁▁▁▁▁▁▁▁▁▁▁▁▁▁▁▁▁▁▁</td></tr><tr><td>val/iter_IoU_9</td><td>▁▆▇▇▇▇▇█▇▇██▇███▇███████████▇███████████</td></tr><tr><td>val/iter_Precision_0</td><td>▁█▇▆▇▅▇▇▇█▇▆▆▇▆▆▄▇▅▇▇▆▇▇▇▆▇▇▅▇▇▇▇▆▇▇▆▆▇▇</td></tr><tr><td>val/iter_Precision_1</td><td>▁█▇▇▇▇██▇███▇███▇███▇███████▇███▇███▇███</td></tr><tr><td>val/iter_Precision_10</td><td>▁██▇█▇▇▇███▇▇▇▇▇▆█▇█▇▇███▇██▆▇▇██▇██▇▇██</td></tr><tr><td>val/iter_Precision_11</td><td>▁▁▁▁▁▁▁▁▇▇▇▇▅█▆▇▅█▇▇▆▇▆▆▇▇▇▇▇▇█▇▅▆▆▆██▇▇</td></tr><tr><td>val/iter_Precision_12</td><td>▁▁▇▇▇▇▇▇▆▇▇▇▇▇▇▇▇▇▇█▇▇██████▇███▇▇██▇▇██</td></tr><tr><td>val/iter_Precision_13</td><td>▁▁▁▁▁▁▁▁▃▁▃▅▆█▆▇▅▆▆▆▆▇▆▇▆▇▇▇█▇▇▇▆▇▇▇▇█▇▇</td></tr><tr><td>val/iter_Precision_2</td><td>▁▁▁▁▁▁▁▁▁▁▁▁▁▁▁▁▁▁▁▁▁▁▁▁▁▁▁▁▁▁▁▁▁▁▁▁▁▁▁▁</td></tr><tr><td>val/iter_Precision_3</td><td>▁▁▁▄▃▄▆▇▆▇▇▇▇▇▇▇▇▇▇█▆▇██▇▇█▇▆▇▇▇▇▇██▇███</td></tr><tr><td>val/iter_Precision_4</td><td>▁▁▆▆▇▆▇▇▇█▇▇▆█▆▇▆█▇▇▇▇▇▇▇▇▇▇▇▇▇▇▆▇▇▇▇▇▇▇</td></tr><tr><td>val/iter_Precision_5</td><td>▁▁▁▁▁▁▃▄▄▅▇▇▆▆▇▇▆▇▇▇▆▇▇▇▇▇▇▇▇▇▇▇███▇▆▇██</td></tr><tr><td>val/iter_Precision_6</td><td>▁▁▁▁▁▁▁▁▁▄▅▆▇▇▇▇▆▇▇▇█▇▇██▇█▇▇▇▇▇▇▇▇▇▇▇██</td></tr><tr><td>val/iter_Precision_7</td><td>▁▁▁▁▁▁▁▁▁▁▁▁▁▁▁▁▁▁▁▁▁▁▁▁▁▁▁▁▁▁▁▁▁▁▁▁▁▁▁▁</td></tr><tr><td>val/iter_Precision_8</td><td>▁▁▁▁▁▁▁▁▁▁▁▁▁▁▁▁▁▁▁▁▁▁▁▁▁▁▁▁▁▁▁▁▁▁▁▁▁▁▁▁</td></tr><tr><td>val/iter_Precision_9</td><td>▁▆▇▆▇▇█▇▅█▇▇▇█▇▇▆█▇█▆▇██▇███▆███▇▇██▇███</td></tr><tr><td>val/iter_Recall_0</td><td>▁▄▆▇▆▇▇▇▇▆▇██▇█▇█▇█▇▇▇▇▇▇█▇▇█▇▇▇▇▇▇▇▇█▇▇</td></tr><tr><td>val/iter_Recall_1</td><td>▁▂▇▇▇▇▇▇█▇██▇▇███▇███████████▇███▇██████</td></tr><tr><td>val/iter_Recall_10</td><td>▁▃▆▇▆▇▇▇▆▆▇▇▇▇▇▇▇▇█▇▇▇▇▇▇▇▇▇█▇▇▇▇▇▇▇▇█▇▇</td></tr><tr><td>val/iter_Recall_11</td><td>▁▁▁▁▁▁▁▁▁▂▅▆▆▅▇▆▇▄▅▆▄▄▆▆▄▆▅▆▃▆▆▆█▇█▇▅▅▆▆</td></tr><tr><td>val/iter_Recall_12</td><td>▁▁▆▇▆▇▇▇█▇▇███▇█▇▇████▇█▇▇▇██▇▇█▇▇▇▇██▇▇</td></tr><tr><td>val/iter_Recall_13</td><td>▁▁▁▁▁▁▁▁▁▁▁▁▁▂▆▅▆▅▆▇▅▅▇▇▇▇█▇▄▇▇▇█▇▇▇▇▅▇▇</td></tr><tr><td>val/iter_Recall_2</td><td>▁▁▁▁▁▁▁▁▁▁▁▁▁▁▁▁▁▁▁▁▁▁▁▁▁▁▁▁▁▁▁▁▁▁▁▁▁▁▁▁</td></tr><tr><td>val/iter_Recall_3</td><td>▁▁▁▁▁▃▅▆▇▇▇▇▆▇▆▇▆▇▇▇██▇▇▇▇▇▇█▇▇█▇▇▇█▇▇▇▇</td></tr><tr><td>val/iter_Recall_4</td><td>▁▁▁▂▃▅▆▆▆▅▆▇▇▅█▇▇▆▇█▇▆▇▇▇▇█▇▆▇▇▇█▇▇▇▇▇█▇</td></tr><tr><td>val/iter_Recall_5</td><td>▁▁▁▁▁▁▁▁▁▃▄▄▄▆▅▆▆▆▇▇▇▇▇▇▆▇▇▇▇▇██▇▇██████</td></tr><tr><td>val/iter_Recall_6</td><td>▁▁▁▁▁▁▁▁▁▂▆▆▆█▇█████▇███▇███████████████</td></tr><tr><td>val/iter_Recall_7</td><td>▁▁▁▁▁▁▁▁▁▁▁▁▁▁▁▁▁▁▁▁▁▁▁▁▁▁▁▁▁▁▁▁▁▁▁▁▁▁▁▁</td></tr><tr><td>val/iter_Recall_8</td><td>▁▁▁▁▁▁▁▁▁▁▁▁▁▁▁▁▁▁▁▁▁▁▁▁▁▁▁▁▁▁▁▁▁▁▁▁▁▁▁▁</td></tr><tr><td>val/iter_Recall_9</td><td>▁▅▇▇▇▇▇██▇███▇███▇███████████▇███▇██████</td></tr><tr><td>val/iter_TN_0</td><td>█▇▆▄▆▃▅▅▆▇▆▄▄▅▄▅▁▆▃▅▅▅▅▅▆▅▅▅▃▅▅▅▅▅▅▅▅▄▅▅</td></tr><tr><td>val/iter_TN_1</td><td>█▇▃▂▄▃▄▃▁▄▃▃▃▄▃▃▂▄▃▄▂▃▄▄▃▄▄▄▂▄▄▄▃▃▄▄▃▄▄▄</td></tr><tr><td>val/iter_TN_10</td><td>█▇▆▄▆▃▄▅▆▆▆▄▅▅▄▅▂▆▃▅▅▄▅▅▅▅▅▅▁▅▅▅▆▅▅▅▄▄▅▅</td></tr><tr><td>val/iter_TN_11</td><td>██████████▆▅▁▆▃▅▁▇▅▅▆▇▅▅▆▄▆▅▇▆▆▆▂▄▃▅▆▇▆▅</td></tr><tr><td>val/iter_TN_12</td><td>██▄▃▄▃▄▃▁▃▃▃▃▃▄▃▃▄▃▄▂▃▅▄▄▄▅▄▂▅▄▄▄▄▄▄▃▄▄▄</td></tr><tr><td>val/iter_TN_13</td><td>██████████████▄▅▁▅▄▃▄▅▃▄▂▃▃▄▇▄▄▄▁▄▄▄▄▇▄▅</td></tr><tr><td>val/iter_TN_2</td><td>▁▁▁▁▁▁▁▁▁▁▁▁▁▁▁▁▁▁▁▁▁▁▁▁▁▁▁▁▁▁▁▁▁▁▁▁▁▁▁▁</td></tr><tr><td>val/iter_TN_3</td><td>███▇█▅▅▄▂▃▃▄▄▄▅▄▅▄▄▅▂▂▅▄▃▄▅▄▁▄▄▄▄▃▄▄▃▄▄▅</td></tr><tr><td>val/iter_TN_4</td><td>███▆▇▄▅▅▄▅▄▂▂▆▁▃▁▄▃▃▃▄▃▃▃▄▃▃▄▄▄▄▁▃▄▄▃▄▃▃</td></tr><tr><td>val/iter_TN_5</td><td>████████▇▅▆▅▅▄▆▅▄▅▄▅▃▄▄▅▆▃▅▄▄▄▄▄▅▆▅▅▁▃▅▅</td></tr><tr><td>val/iter_TN_6</td><td>█████████▅▁▄▄▃▄▄▂▄▃▄▆▄▅▅▆▅▅▄▃▄▄▄▅▄▅▄▄▃▅▅</td></tr><tr><td>val/iter_TN_7</td><td>▁▁▁▁▁▁▁▁▁▁▁▁▁▁▁▁▁▁▁▁▁▁▁▁▁▁▁▁▁▁▁▁▁▁▁▁▁▁▁▁</td></tr><tr><td>val/iter_TN_8</td><td>▁▁▁▁▁▁▁▁▁▁▁▁▁▁▁▁▁▁▁▁▁▁▁▁▁▁▁▁▁▁▁▁▁▁▁▁▁▁▁▁</td></tr><tr><td>val/iter_TN_9</td><td>█▄▃▃▄▃▄▄▁▄▄▃▃▄▄▄▃▄▃▄▂▃▄▄▄▄▄▄▃▄▄▄▃▄▄▄▃▄▄▄</td></tr><tr><td>val/iter_TP_0</td><td>▁▄▆▇▆▇▇▇▇▆▇██▇█▇█▇█▇▇▇█▇▇█▇▇█▇█▇█▇▇███▇█</td></tr><tr><td>val/iter_TP_1</td><td>▁▂▇▇▇▇▇▇█▇███▇███▇███████████▇███▇██████</td></tr><tr><td>val/iter_TP_10</td><td>▁▄▆▇▆▇▇▇▇▆▇▇▇▇▇▇█▇█▇▇▇▇▇▇▇▇▇█▇▇▇▇▇▇▇██▇▇</td></tr><tr><td>val/iter_TP_11</td><td>▁▁▁▁▁▁▁▁▂▂▆▆▇▆█▇▇▅▆▇▅▆▇▇▅▇▆▇▄▇▆▆█▇█▇▅▅▆▇</td></tr><tr><td>val/iter_TP_12</td><td>▁▁▆▇▆▇▇▇█▇▇███▇█▇▇████▇█▇▇▇██▇▇█▇▇▇▇██▇▇</td></tr><tr><td>val/iter_TP_13</td><td>▁▁▁▁▁▁▁▁▁▁▁▁▁▂▆▅▆▅▆▇▅▆▇▇▇▇█▇▅▇▇▇█▇▇█▇▅▇▇</td></tr><tr><td>val/iter_TP_2</td><td>▁▁▁▁▁▁▁▁▁▁▁▁▁▁▁▁▁▁▁▁▁▁▁▁▁▁▁▁▁▁▁▁▁▁▁▁▁▁▁▁</td></tr><tr><td>val/iter_TP_3</td><td>▁▁▁▁▁▃▅▆▇▇▇▇▆▇▆▇▆▇▇▇██▆▇▇▇▇▇█▇▇█▇▇▇█▇▇▇▇</td></tr><tr><td>val/iter_TP_4</td><td>▁▁▁▂▃▅▆▆▆▅▇▇▇▆█▇▇▇▇█▇▆▇▇▇▇█▇▆▇▇▇█▇▇▇▇▇█▇</td></tr><tr><td>val/iter_TP_5</td><td>▁▁▁▁▁▁▁▁▁▂▄▄▄▆▅▆▆▆▇▇▇▇▇▇▆▇▇█▇▇██▇▇██████</td></tr><tr><td>val/iter_TP_6</td><td>▁▁▁▁▁▁▁▁▁▂▆▆▆█▇█████▇███▇███████████████</td></tr><tr><td>val/iter_TP_7</td><td>▁▁▁▁▁▁▁▁▁▁▁▁▁▁▁▁▁▁▁▁▁▁▁▁▁▁▁▁▁▁▁▁▁▁▁▁▁▁▁▁</td></tr><tr><td>val/iter_TP_8</td><td>▁▁▁▁▁▁▁▁▁▁▁▁▁▁▁▁▁▁▁▁▁▁▁▁▁▁▁▁▁▁▁▁▁▁▁▁▁▁▁▁</td></tr><tr><td>val/iter_TP_9</td><td>▁▅▇▇▇▇▇██▇███▇███▇███████████▇███▇██████</td></tr><tr><td>val/iter_loss</td><td>█▃▂▂▂▂▁▁▁▂▁▁▁▁▁▁▁▁▁▁▁▁▁▁▁▁▁▁▁▁▁▁▁▂▁▁▁▁▁▁</td></tr><tr><td>val/mean_F1</td><td>▁▃▄▄▄▅▅▅▅▆▇▇▇▇▇█▇▇██▇███▇███▇███████████</td></tr><tr><td>val/mean_IoU</td><td>▁▂▄▄▄▅▅▅▅▅▆▇▆▇▇█▇▇▇█▇▇██▇███▇███████████</td></tr></table><br/></div><div class=\"wandb-col\"><h3>Run summary:</h3><br/><table class=\"wandb\"><tr><td>epoch</td><td>199</td></tr><tr><td>lr-AdamW</td><td>2e-05</td></tr><tr><td>train/epoch_F1_0</td><td>0.82363</td></tr><tr><td>train/epoch_F1_1</td><td>0.85945</td></tr><tr><td>train/epoch_F1_10</td><td>0.82873</td></tr><tr><td>train/epoch_F1_11</td><td>0.69311</td></tr><tr><td>train/epoch_F1_12</td><td>0.85387</td></tr><tr><td>train/epoch_F1_13</td><td>0.77183</td></tr><tr><td>train/epoch_F1_2</td><td>0.0</td></tr><tr><td>train/epoch_F1_3</td><td>0.83015</td></tr><tr><td>train/epoch_F1_4</td><td>0.83837</td></tr><tr><td>train/epoch_F1_5</td><td>0.83323</td></tr><tr><td>train/epoch_F1_6</td><td>0.69629</td></tr><tr><td>train/epoch_F1_7</td><td>0.0</td></tr><tr><td>train/epoch_F1_8</td><td>0.0</td></tr><tr><td>train/epoch_F1_9</td><td>0.8593</td></tr><tr><td>train/epoch_FN_0</td><td>10403.2998</td></tr><tr><td>train/epoch_FN_1</td><td>8793.2002</td></tr><tr><td>train/epoch_FN_10</td><td>8268.02539</td></tr><tr><td>train/epoch_FN_11</td><td>2779.625</td></tr><tr><td>train/epoch_FN_12</td><td>7764.75</td></tr><tr><td>train/epoch_FN_13</td><td>2154.44995</td></tr><tr><td>train/epoch_FN_2</td><td>0.0</td></tr><tr><td>train/epoch_FN_3</td><td>5232.0</td></tr><tr><td>train/epoch_FN_4</td><td>4117.7002</td></tr><tr><td>train/epoch_FN_5</td><td>1357.57507</td></tr><tr><td>train/epoch_FN_6</td><td>425.875</td></tr><tr><td>train/epoch_FN_7</td><td>0.0</td></tr><tr><td>train/epoch_FN_8</td><td>0.0</td></tr><tr><td>train/epoch_FN_9</td><td>8764.72559</td></tr><tr><td>train/epoch_FP_0</td><td>18074.22461</td></tr><tr><td>train/epoch_FP_1</td><td>20251.375</td></tr><tr><td>train/epoch_FP_10</td><td>13863.27539</td></tr><tr><td>train/epoch_FP_11</td><td>4279.42529</td></tr><tr><td>train/epoch_FP_12</td><td>17260.15039</td></tr><tr><td>train/epoch_FP_13</td><td>4481.4502</td></tr><tr><td>train/epoch_FP_2</td><td>0.0</td></tr><tr><td>train/epoch_FP_3</td><td>9525.9502</td></tr><tr><td>train/epoch_FP_4</td><td>8523.75</td></tr><tr><td>train/epoch_FP_5</td><td>2458.875</td></tr><tr><td>train/epoch_FP_6</td><td>1424.30005</td></tr><tr><td>train/epoch_FP_7</td><td>0.0</td></tr><tr><td>train/epoch_FP_8</td><td>0.0</td></tr><tr><td>train/epoch_FP_9</td><td>20320.65039</td></tr><tr><td>train/epoch_IoU_0</td><td>0.70154</td></tr><tr><td>train/epoch_IoU_1</td><td>0.75386</td></tr><tr><td>train/epoch_IoU_10</td><td>0.70939</td></tr><tr><td>train/epoch_IoU_11</td><td>0.55669</td></tr><tr><td>train/epoch_IoU_12</td><td>0.74542</td></tr><tr><td>train/epoch_IoU_13</td><td>0.64498</td></tr><tr><td>train/epoch_IoU_2</td><td>0.0</td></tr><tr><td>train/epoch_IoU_3</td><td>0.71035</td></tr><tr><td>train/epoch_IoU_4</td><td>0.72276</td></tr><tr><td>train/epoch_IoU_5</td><td>0.71821</td></tr><tr><td>train/epoch_IoU_6</td><td>0.61727</td></tr><tr><td>train/epoch_IoU_7</td><td>0.0</td></tr><tr><td>train/epoch_IoU_8</td><td>0.0</td></tr><tr><td>train/epoch_IoU_9</td><td>0.75363</td></tr><tr><td>train/epoch_Precision_0</td><td>0.78535</td></tr><tr><td>train/epoch_Precision_1</td><td>0.81423</td></tr><tr><td>train/epoch_Precision_10</td><td>0.79394</td></tr><tr><td>train/epoch_Precision_11</td><td>0.6543</td></tr><tr><td>train/epoch_Precision_12</td><td>0.80901</td></tr><tr><td>train/epoch_Precision_13</td><td>0.72097</td></tr><tr><td>train/epoch_Precision_2</td><td>0.0</td></tr><tr><td>train/epoch_Precision_3</td><td>0.78828</td></tr><tr><td>train/epoch_Precision_4</td><td>0.79331</td></tr><tr><td>train/epoch_Precision_5</td><td>0.79126</td></tr><tr><td>train/epoch_Precision_6</td><td>0.6518</td></tr><tr><td>train/epoch_Precision_7</td><td>0.0</td></tr><tr><td>train/epoch_Precision_8</td><td>0.0</td></tr><tr><td>train/epoch_Precision_9</td><td>0.81371</td></tr><tr><td>train/epoch_Recall_0</td><td>0.86707</td></tr><tr><td>train/epoch_Recall_1</td><td>0.91024</td></tr><tr><td>train/epoch_Recall_10</td><td>0.86798</td></tr><tr><td>train/epoch_Recall_11</td><td>0.74674</td></tr><tr><td>train/epoch_Recall_12</td><td>0.90444</td></tr><tr><td>train/epoch_Recall_13</td><td>0.83408</td></tr><tr><td>train/epoch_Recall_2</td><td>0.0</td></tr><tr><td>train/epoch_Recall_3</td><td>0.87828</td></tr><tr><td>train/epoch_Recall_4</td><td>0.89008</td></tr><tr><td>train/epoch_Recall_5</td><td>0.88526</td></tr><tr><td>train/epoch_Recall_6</td><td>0.74878</td></tr><tr><td>train/epoch_Recall_7</td><td>0.0</td></tr><tr><td>train/epoch_Recall_8</td><td>0.0</td></tr><tr><td>train/epoch_Recall_9</td><td>0.91056</td></tr><tr><td>train/epoch_TN_0</td><td>4096110.0</td></tr><tr><td>train/epoch_TN_1</td><td>4076168.0</td></tr><tr><td>train/epoch_TN_10</td><td>4114222.0</td></tr><tr><td>train/epoch_TN_11</td><td>4176124.0</td></tr><tr><td>train/epoch_TN_12</td><td>4095451.75</td></tr><tr><td>train/epoch_TN_13</td><td>4173530.5</td></tr><tr><td>train/epoch_TN_2</td><td>4194304.0</td></tr><tr><td>train/epoch_TN_3</td><td>4142732.75</td></tr><tr><td>train/epoch_TN_4</td><td>4148050.75</td></tr><tr><td>train/epoch_TN_5</td><td>4180405.75</td></tr><tr><td>train/epoch_TN_6</td><td>4186209.25</td></tr><tr><td>train/epoch_TN_7</td><td>4194304.0</td></tr><tr><td>train/epoch_TN_8</td><td>4194304.0</td></tr><tr><td>train/epoch_TN_9</td><td>4076098.5</td></tr><tr><td>train/epoch_TP_0</td><td>69716.45312</td></tr><tr><td>train/epoch_TP_1</td><td>89091.47656</td></tr><tr><td>train/epoch_TP_10</td><td>57950.75</td></tr><tr><td>train/epoch_TP_11</td><td>11121.35059</td></tr><tr><td>train/epoch_TP_12</td><td>73827.55469</td></tr><tr><td>train/epoch_TP_13</td><td>14137.9248</td></tr><tr><td>train/epoch_TP_2</td><td>0.0</td></tr><tr><td>train/epoch_TP_3</td><td>36813.57422</td></tr><tr><td>train/epoch_TP_4</td><td>33611.69922</td></tr><tr><td>train/epoch_TP_5</td><td>10081.6748</td></tr><tr><td>train/epoch_TP_6</td><td>6244.5752</td></tr><tr><td>train/epoch_TP_7</td><td>0.0</td></tr><tr><td>train/epoch_TP_8</td><td>0.0</td></tr><tr><td>train/epoch_TP_9</td><td>89119.95312</td></tr><tr><td>train/epoch_loss</td><td>0.37415</td></tr><tr><td>train/iter_F1_0</td><td>0.83552</td></tr><tr><td>train/iter_F1_1</td><td>0.87574</td></tr><tr><td>train/iter_F1_10</td><td>0.84751</td></tr><tr><td>train/iter_F1_11</td><td>0.67483</td></tr><tr><td>train/iter_F1_12</td><td>0.87665</td></tr><tr><td>train/iter_F1_13</td><td>0.81143</td></tr><tr><td>train/iter_F1_2</td><td>0.0</td></tr><tr><td>train/iter_F1_3</td><td>0.8477</td></tr><tr><td>train/iter_F1_4</td><td>0.86927</td></tr><tr><td>train/iter_F1_5</td><td>0.84747</td></tr><tr><td>train/iter_F1_6</td><td>0.87549</td></tr><tr><td>train/iter_F1_7</td><td>0.0</td></tr><tr><td>train/iter_F1_8</td><td>0.0</td></tr><tr><td>train/iter_F1_9</td><td>0.87576</td></tr><tr><td>train/iter_FN_0</td><td>23159.0</td></tr><tr><td>train/iter_FN_1</td><td>11488.0</td></tr><tr><td>train/iter_FN_10</td><td>20691.0</td></tr><tr><td>train/iter_FN_11</td><td>3137.0</td></tr><tr><td>train/iter_FN_12</td><td>9540.0</td></tr><tr><td>train/iter_FN_13</td><td>3694.0</td></tr><tr><td>train/iter_FN_2</td><td>0.0</td></tr><tr><td>train/iter_FN_3</td><td>5996.0</td></tr><tr><td>train/iter_FN_4</td><td>6402.0</td></tr><tr><td>train/iter_FN_5</td><td>464.0</td></tr><tr><td>train/iter_FN_6</td><td>402.0</td></tr><tr><td>train/iter_FN_7</td><td>0.0</td></tr><tr><td>train/iter_FN_8</td><td>0.0</td></tr><tr><td>train/iter_FN_9</td><td>11608.0</td></tr><tr><td>train/iter_FP_0</td><td>41375.0</td></tr><tr><td>train/iter_FP_1</td><td>32361.0</td></tr><tr><td>train/iter_FP_10</td><td>34184.0</td></tr><tr><td>train/iter_FP_11</td><td>7216.0</td></tr><tr><td>train/iter_FP_12</td><td>24508.0</td></tr><tr><td>train/iter_FP_13</td><td>11079.0</td></tr><tr><td>train/iter_FP_2</td><td>0.0</td></tr><tr><td>train/iter_FP_3</td><td>12192.0</td></tr><tr><td>train/iter_FP_4</td><td>18192.0</td></tr><tr><td>train/iter_FP_5</td><td>2032.0</td></tr><tr><td>train/iter_FP_6</td><td>3418.0</td></tr><tr><td>train/iter_FP_7</td><td>0.0</td></tr><tr><td>train/iter_FP_8</td><td>0.0</td></tr><tr><td>train/iter_FP_9</td><td>32200.0</td></tr><tr><td>train/iter_IoU_0</td><td>0.7175</td></tr><tr><td>train/iter_IoU_1</td><td>0.77896</td></tr><tr><td>train/iter_IoU_10</td><td>0.73537</td></tr><tr><td>train/iter_IoU_11</td><td>0.50924</td></tr><tr><td>train/iter_IoU_12</td><td>0.78039</td></tr><tr><td>train/iter_IoU_13</td><td>0.6827</td></tr><tr><td>train/iter_IoU_2</td><td>0.0</td></tr><tr><td>train/iter_IoU_3</td><td>0.73567</td></tr><tr><td>train/iter_IoU_4</td><td>0.76876</td></tr><tr><td>train/iter_IoU_5</td><td>0.73531</td></tr><tr><td>train/iter_IoU_6</td><td>0.77855</td></tr><tr><td>train/iter_IoU_7</td><td>0.0</td></tr><tr><td>train/iter_IoU_8</td><td>0.0</td></tr><tr><td>train/iter_IoU_9</td><td>0.77898</td></tr><tr><td>train/iter_Precision_0</td><td>0.79845</td></tr><tr><td>train/iter_Precision_1</td><td>0.82684</td></tr><tr><td>train/iter_Precision_10</td><td>0.81688</td></tr><tr><td>train/iter_Precision_11</td><td>0.5982</td></tr><tr><td>train/iter_Precision_12</td><td>0.83156</td></tr><tr><td>train/iter_Precision_13</td><td>0.74153</td></tr><tr><td>train/iter_Precision_2</td><td>0.0</td></tr><tr><td>train/iter_Precision_3</td><td>0.80589</td></tr><tr><td>train/iter_Precision_4</td><td>0.818</td></tr><tr><td>train/iter_Precision_5</td><td>0.77337</td></tr><tr><td>train/iter_Precision_6</td><td>0.79713</td></tr><tr><td>train/iter_Precision_7</td><td>0.0</td></tr><tr><td>train/iter_Precision_8</td><td>0.0</td></tr><tr><td>train/iter_Precision_9</td><td>0.82744</td></tr><tr><td>train/iter_Recall_0</td><td>0.8762</td></tr><tr><td>train/iter_Recall_1</td><td>0.9308</td></tr><tr><td>train/iter_Recall_10</td><td>0.88053</td></tr><tr><td>train/iter_Recall_11</td><td>0.77399</td></tr><tr><td>train/iter_Recall_12</td><td>0.92691</td></tr><tr><td>train/iter_Recall_13</td><td>0.89588</td></tr><tr><td>train/iter_Recall_2</td><td>0.0</td></tr><tr><td>train/iter_Recall_3</td><td>0.89409</td></tr><tr><td>train/iter_Recall_4</td><td>0.92739</td></tr><tr><td>train/iter_Recall_5</td><td>0.93728</td></tr><tr><td>train/iter_Recall_6</td><td>0.97094</td></tr><tr><td>train/iter_Recall_7</td><td>0.0</td></tr><tr><td>train/iter_Recall_8</td><td>0.0</td></tr><tr><td>train/iter_Recall_9</td><td>0.93008</td></tr><tr><td>train/iter_TN_0</td><td>3965865.0</td></tr><tr><td>train/iter_TN_1</td><td>3995932.0</td></tr><tr><td>train/iter_TN_10</td><td>3986936.0</td></tr><tr><td>train/iter_TN_11</td><td>4173208.0</td></tr><tr><td>train/iter_TN_12</td><td>4039264.0</td></tr><tr><td>train/iter_TN_13</td><td>4147746.0</td></tr><tr><td>train/iter_TN_2</td><td>4194304.0</td></tr><tr><td>train/iter_TN_3</td><td>4125497.0</td></tr><tr><td>train/iter_TN_4</td><td>4087946.0</td></tr><tr><td>train/iter_TN_5</td><td>4184874.0</td></tr><tr><td>train/iter_TN_6</td><td>4177054.0</td></tr><tr><td>train/iter_TN_7</td><td>4194304.0</td></tr><tr><td>train/iter_TN_8</td><td>4194304.0</td></tr><tr><td>train/iter_TN_9</td><td>3996093.0</td></tr><tr><td>train/iter_TP_0</td><td>163905.0</td></tr><tr><td>train/iter_TP_1</td><td>154523.0</td></tr><tr><td>train/iter_TP_10</td><td>152493.0</td></tr><tr><td>train/iter_TP_11</td><td>10743.0</td></tr><tr><td>train/iter_TP_12</td><td>120992.0</td></tr><tr><td>train/iter_TP_13</td><td>31785.0</td></tr><tr><td>train/iter_TP_2</td><td>0.0</td></tr><tr><td>train/iter_TP_3</td><td>50619.0</td></tr><tr><td>train/iter_TP_4</td><td>81764.0</td></tr><tr><td>train/iter_TP_5</td><td>6934.0</td></tr><tr><td>train/iter_TP_6</td><td>13430.0</td></tr><tr><td>train/iter_TP_7</td><td>0.0</td></tr><tr><td>train/iter_TP_8</td><td>0.0</td></tr><tr><td>train/iter_TP_9</td><td>154403.0</td></tr><tr><td>train/iter_loss</td><td>0.3764</td></tr><tr><td>train/mean_F1</td><td>0.63485</td></tr><tr><td>train/mean_IoU</td><td>0.54529</td></tr><tr><td>trainer/global_step</td><td>7999</td></tr><tr><td>val/epoch_F1_0</td><td>0.76913</td></tr><tr><td>val/epoch_F1_1</td><td>0.69335</td></tr><tr><td>val/epoch_F1_10</td><td>0.73786</td></tr><tr><td>val/epoch_F1_11</td><td>0.41752</td></tr><tr><td>val/epoch_F1_12</td><td>0.66581</td></tr><tr><td>val/epoch_F1_13</td><td>0.53252</td></tr><tr><td>val/epoch_F1_2</td><td>0.0</td></tr><tr><td>val/epoch_F1_3</td><td>0.52934</td></tr><tr><td>val/epoch_F1_4</td><td>0.62166</td></tr><tr><td>val/epoch_F1_5</td><td>0.61492</td></tr><tr><td>val/epoch_F1_6</td><td>0.65297</td></tr><tr><td>val/epoch_F1_7</td><td>0.0</td></tr><tr><td>val/epoch_F1_8</td><td>0.0</td></tr><tr><td>val/epoch_F1_9</td><td>0.69342</td></tr><tr><td>val/epoch_FN_0</td><td>13288.2002</td></tr><tr><td>val/epoch_FN_1</td><td>27717.20117</td></tr><tr><td>val/epoch_FN_10</td><td>13852.2998</td></tr><tr><td>val/epoch_FN_11</td><td>2871.19995</td></tr><tr><td>val/epoch_FN_12</td><td>26386.90039</td></tr><tr><td>val/epoch_FN_13</td><td>5683.5</td></tr><tr><td>val/epoch_FN_2</td><td>0.0</td></tr><tr><td>val/epoch_FN_3</td><td>20451.90039</td></tr><tr><td>val/epoch_FN_4</td><td>11905.7998</td></tr><tr><td>val/epoch_FN_5</td><td>1808.80005</td></tr><tr><td>val/epoch_FN_6</td><td>1384.0</td></tr><tr><td>val/epoch_FN_7</td><td>0.0</td></tr><tr><td>val/epoch_FN_8</td><td>0.0</td></tr><tr><td>val/epoch_FN_9</td><td>27702.20117</td></tr><tr><td>val/epoch_FP_0</td><td>20322.40039</td></tr><tr><td>val/epoch_FP_1</td><td>29696.80078</td></tr><tr><td>val/epoch_FP_10</td><td>17796.5</td></tr><tr><td>val/epoch_FP_11</td><td>4636.8999</td></tr><tr><td>val/epoch_FP_12</td><td>26069.70117</td></tr><tr><td>val/epoch_FP_13</td><td>7093.30029</td></tr><tr><td>val/epoch_FP_2</td><td>0.0</td></tr><tr><td>val/epoch_FP_3</td><td>15545.7002</td></tr><tr><td>val/epoch_FP_4</td><td>14780.2998</td></tr><tr><td>val/epoch_FP_5</td><td>3304.1001</td></tr><tr><td>val/epoch_FP_6</td><td>2134.1001</td></tr><tr><td>val/epoch_FP_7</td><td>0.0</td></tr><tr><td>val/epoch_FP_8</td><td>0.0</td></tr><tr><td>val/epoch_FP_9</td><td>29709.0</td></tr><tr><td>val/epoch_IoU_0</td><td>0.62872</td></tr><tr><td>val/epoch_IoU_1</td><td>0.53409</td></tr><tr><td>val/epoch_IoU_10</td><td>0.5943</td></tr><tr><td>val/epoch_IoU_11</td><td>0.29221</td></tr><tr><td>val/epoch_IoU_12</td><td>0.50607</td></tr><tr><td>val/epoch_IoU_13</td><td>0.37262</td></tr><tr><td>val/epoch_IoU_2</td><td>0.0</td></tr><tr><td>val/epoch_IoU_3</td><td>0.36332</td></tr><tr><td>val/epoch_IoU_4</td><td>0.45557</td></tr><tr><td>val/epoch_IoU_5</td><td>0.50574</td></tr><tr><td>val/epoch_IoU_6</td><td>0.55972</td></tr><tr><td>val/epoch_IoU_7</td><td>0.0</td></tr><tr><td>val/epoch_IoU_8</td><td>0.0</td></tr><tr><td>val/epoch_IoU_9</td><td>0.53418</td></tr><tr><td>val/epoch_Precision_0</td><td>0.73028</td></tr><tr><td>val/epoch_Precision_1</td><td>0.68713</td></tr><tr><td>val/epoch_Precision_10</td><td>0.71597</td></tr><tr><td>val/epoch_Precision_11</td><td>0.39797</td></tr><tr><td>val/epoch_Precision_12</td><td>0.66982</td></tr><tr><td>val/epoch_Precision_13</td><td>0.52797</td></tr><tr><td>val/epoch_Precision_2</td><td>0.0</td></tr><tr><td>val/epoch_Precision_3</td><td>0.57058</td></tr><tr><td>val/epoch_Precision_4</td><td>0.60685</td></tr><tr><td>val/epoch_Precision_5</td><td>0.57953</td></tr><tr><td>val/epoch_Precision_6</td><td>0.63155</td></tr><tr><td>val/epoch_Precision_7</td><td>0.0</td></tr><tr><td>val/epoch_Precision_8</td><td>0.0</td></tr><tr><td>val/epoch_Precision_9</td><td>0.6871</td></tr><tr><td>val/epoch_Recall_0</td><td>0.81502</td></tr><tr><td>val/epoch_Recall_1</td><td>0.70082</td></tr><tr><td>val/epoch_Recall_10</td><td>0.76736</td></tr><tr><td>val/epoch_Recall_11</td><td>0.49405</td></tr><tr><td>val/epoch_Recall_12</td><td>0.66438</td></tr><tr><td>val/epoch_Recall_13</td><td>0.56345</td></tr><tr><td>val/epoch_Recall_2</td><td>0.0</td></tr><tr><td>val/epoch_Recall_3</td><td>0.50154</td></tr><tr><td>val/epoch_Recall_4</td><td>0.64549</td></tr><tr><td>val/epoch_Recall_5</td><td>0.67089</td></tr><tr><td>val/epoch_Recall_6</td><td>0.68224</td></tr><tr><td>val/epoch_Recall_7</td><td>0.0</td></tr><tr><td>val/epoch_Recall_8</td><td>0.0</td></tr><tr><td>val/epoch_Recall_9</td><td>0.70097</td></tr><tr><td>val/epoch_TN_0</td><td>4096029.25</td></tr><tr><td>val/epoch_TN_1</td><td>4069383.25</td></tr><tr><td>val/epoch_TN_10</td><td>4105728.0</td></tr><tr><td>val/epoch_TN_11</td><td>4182494.0</td></tr><tr><td>val/epoch_TN_12</td><td>4086492.5</td></tr><tr><td>val/epoch_TN_13</td><td>4173728.75</td></tr><tr><td>val/epoch_TN_2</td><td>4194304.0</td></tr><tr><td>val/epoch_TN_3</td><td>4138046.75</td></tr><tr><td>val/epoch_TN_4</td><td>4143689.75</td></tr><tr><td>val/epoch_TN_5</td><td>4181539.25</td></tr><tr><td>val/epoch_TN_6</td><td>4182953.25</td></tr><tr><td>val/epoch_TN_7</td><td>4194304.0</td></tr><tr><td>val/epoch_TN_8</td><td>4194304.0</td></tr><tr><td>val/epoch_TN_9</td><td>4069371.25</td></tr><tr><td>val/epoch_TP_0</td><td>64664.30078</td></tr><tr><td>val/epoch_TP_1</td><td>67506.60156</td></tr><tr><td>val/epoch_TP_10</td><td>56927.30078</td></tr><tr><td>val/epoch_TP_11</td><td>4301.7002</td></tr><tr><td>val/epoch_TP_12</td><td>55355.0</td></tr><tr><td>val/epoch_TP_13</td><td>7798.3999</td></tr><tr><td>val/epoch_TP_2</td><td>0.0</td></tr><tr><td>val/epoch_TP_3</td><td>20259.80078</td></tr><tr><td>val/epoch_TP_4</td><td>23928.59961</td></tr><tr><td>val/epoch_TP_5</td><td>7652.0</td></tr><tr><td>val/epoch_TP_6</td><td>7832.8999</td></tr><tr><td>val/epoch_TP_7</td><td>0.0</td></tr><tr><td>val/epoch_TP_8</td><td>0.0</td></tr><tr><td>val/epoch_TP_9</td><td>67521.60156</td></tr><tr><td>val/epoch_loss</td><td>0.37693</td></tr><tr><td>val/iter_F1_0</td><td>0.76913</td></tr><tr><td>val/iter_F1_1</td><td>0.69335</td></tr><tr><td>val/iter_F1_10</td><td>0.73786</td></tr><tr><td>val/iter_F1_11</td><td>0.41752</td></tr><tr><td>val/iter_F1_12</td><td>0.66581</td></tr><tr><td>val/iter_F1_13</td><td>0.53252</td></tr><tr><td>val/iter_F1_2</td><td>0.0</td></tr><tr><td>val/iter_F1_3</td><td>0.52934</td></tr><tr><td>val/iter_F1_4</td><td>0.62166</td></tr><tr><td>val/iter_F1_5</td><td>0.61492</td></tr><tr><td>val/iter_F1_6</td><td>0.65297</td></tr><tr><td>val/iter_F1_7</td><td>0.0</td></tr><tr><td>val/iter_F1_8</td><td>0.0</td></tr><tr><td>val/iter_F1_9</td><td>0.69342</td></tr><tr><td>val/iter_FN_0</td><td>13288.2002</td></tr><tr><td>val/iter_FN_1</td><td>27717.19922</td></tr><tr><td>val/iter_FN_10</td><td>13852.2998</td></tr><tr><td>val/iter_FN_11</td><td>2871.19995</td></tr><tr><td>val/iter_FN_12</td><td>26386.90039</td></tr><tr><td>val/iter_FN_13</td><td>5683.5</td></tr><tr><td>val/iter_FN_2</td><td>0.0</td></tr><tr><td>val/iter_FN_3</td><td>20451.90039</td></tr><tr><td>val/iter_FN_4</td><td>11905.7998</td></tr><tr><td>val/iter_FN_5</td><td>1808.80005</td></tr><tr><td>val/iter_FN_6</td><td>1384.0</td></tr><tr><td>val/iter_FN_7</td><td>0.0</td></tr><tr><td>val/iter_FN_8</td><td>0.0</td></tr><tr><td>val/iter_FN_9</td><td>27702.19922</td></tr><tr><td>val/iter_FP_0</td><td>20322.40039</td></tr><tr><td>val/iter_FP_1</td><td>29696.80078</td></tr><tr><td>val/iter_FP_10</td><td>17796.5</td></tr><tr><td>val/iter_FP_11</td><td>4636.8999</td></tr><tr><td>val/iter_FP_12</td><td>26069.69922</td></tr><tr><td>val/iter_FP_13</td><td>7093.2998</td></tr><tr><td>val/iter_FP_2</td><td>0.0</td></tr><tr><td>val/iter_FP_3</td><td>15545.7002</td></tr><tr><td>val/iter_FP_4</td><td>14780.2998</td></tr><tr><td>val/iter_FP_5</td><td>3304.1001</td></tr><tr><td>val/iter_FP_6</td><td>2134.1001</td></tr><tr><td>val/iter_FP_7</td><td>0.0</td></tr><tr><td>val/iter_FP_8</td><td>0.0</td></tr><tr><td>val/iter_FP_9</td><td>29709.0</td></tr><tr><td>val/iter_IoU_0</td><td>0.62872</td></tr><tr><td>val/iter_IoU_1</td><td>0.53409</td></tr><tr><td>val/iter_IoU_10</td><td>0.5943</td></tr><tr><td>val/iter_IoU_11</td><td>0.29221</td></tr><tr><td>val/iter_IoU_12</td><td>0.50607</td></tr><tr><td>val/iter_IoU_13</td><td>0.37262</td></tr><tr><td>val/iter_IoU_2</td><td>0.0</td></tr><tr><td>val/iter_IoU_3</td><td>0.36332</td></tr><tr><td>val/iter_IoU_4</td><td>0.45557</td></tr><tr><td>val/iter_IoU_5</td><td>0.50574</td></tr><tr><td>val/iter_IoU_6</td><td>0.55972</td></tr><tr><td>val/iter_IoU_7</td><td>0.0</td></tr><tr><td>val/iter_IoU_8</td><td>0.0</td></tr><tr><td>val/iter_IoU_9</td><td>0.53418</td></tr><tr><td>val/iter_Precision_0</td><td>0.73028</td></tr><tr><td>val/iter_Precision_1</td><td>0.68713</td></tr><tr><td>val/iter_Precision_10</td><td>0.71597</td></tr><tr><td>val/iter_Precision_11</td><td>0.39797</td></tr><tr><td>val/iter_Precision_12</td><td>0.66982</td></tr><tr><td>val/iter_Precision_13</td><td>0.52797</td></tr><tr><td>val/iter_Precision_2</td><td>0.0</td></tr><tr><td>val/iter_Precision_3</td><td>0.57058</td></tr><tr><td>val/iter_Precision_4</td><td>0.60685</td></tr><tr><td>val/iter_Precision_5</td><td>0.57953</td></tr><tr><td>val/iter_Precision_6</td><td>0.63155</td></tr><tr><td>val/iter_Precision_7</td><td>0.0</td></tr><tr><td>val/iter_Precision_8</td><td>0.0</td></tr><tr><td>val/iter_Precision_9</td><td>0.6871</td></tr><tr><td>val/iter_Recall_0</td><td>0.81502</td></tr><tr><td>val/iter_Recall_1</td><td>0.70082</td></tr><tr><td>val/iter_Recall_10</td><td>0.76736</td></tr><tr><td>val/iter_Recall_11</td><td>0.49405</td></tr><tr><td>val/iter_Recall_12</td><td>0.66438</td></tr><tr><td>val/iter_Recall_13</td><td>0.56345</td></tr><tr><td>val/iter_Recall_2</td><td>0.0</td></tr><tr><td>val/iter_Recall_3</td><td>0.50154</td></tr><tr><td>val/iter_Recall_4</td><td>0.64549</td></tr><tr><td>val/iter_Recall_5</td><td>0.67089</td></tr><tr><td>val/iter_Recall_6</td><td>0.68224</td></tr><tr><td>val/iter_Recall_7</td><td>0.0</td></tr><tr><td>val/iter_Recall_8</td><td>0.0</td></tr><tr><td>val/iter_Recall_9</td><td>0.70097</td></tr><tr><td>val/iter_TN_0</td><td>4096029.25</td></tr><tr><td>val/iter_TN_1</td><td>4069383.5</td></tr><tr><td>val/iter_TN_10</td><td>4105728.0</td></tr><tr><td>val/iter_TN_11</td><td>4182494.0</td></tr><tr><td>val/iter_TN_12</td><td>4086492.0</td></tr><tr><td>val/iter_TN_13</td><td>4173728.75</td></tr><tr><td>val/iter_TN_2</td><td>4194304.0</td></tr><tr><td>val/iter_TN_3</td><td>4138046.75</td></tr><tr><td>val/iter_TN_4</td><td>4143689.5</td></tr><tr><td>val/iter_TN_5</td><td>4181539.25</td></tr><tr><td>val/iter_TN_6</td><td>4182953.25</td></tr><tr><td>val/iter_TN_7</td><td>4194304.0</td></tr><tr><td>val/iter_TN_8</td><td>4194304.0</td></tr><tr><td>val/iter_TN_9</td><td>4069371.25</td></tr><tr><td>val/iter_TP_0</td><td>64664.30078</td></tr><tr><td>val/iter_TP_1</td><td>67506.60156</td></tr><tr><td>val/iter_TP_10</td><td>56927.30078</td></tr><tr><td>val/iter_TP_11</td><td>4301.7002</td></tr><tr><td>val/iter_TP_12</td><td>55355.0</td></tr><tr><td>val/iter_TP_13</td><td>7798.3999</td></tr><tr><td>val/iter_TP_2</td><td>0.0</td></tr><tr><td>val/iter_TP_3</td><td>20259.80078</td></tr><tr><td>val/iter_TP_4</td><td>23928.59961</td></tr><tr><td>val/iter_TP_5</td><td>7652.0</td></tr><tr><td>val/iter_TP_6</td><td>7832.8999</td></tr><tr><td>val/iter_TP_7</td><td>0.0</td></tr><tr><td>val/iter_TP_8</td><td>0.0</td></tr><tr><td>val/iter_TP_9</td><td>67521.60156</td></tr><tr><td>val/iter_loss</td><td>0.37693</td></tr><tr><td>val/mean_F1</td><td>0.49489</td></tr><tr><td>val/mean_IoU</td><td>0.3819</td></tr></table><br/></div></div>"
      ],
      "text/plain": [
       "<IPython.core.display.HTML object>"
      ]
     },
     "metadata": {},
     "output_type": "display_data"
    },
    {
     "data": {
      "text/html": [
       "Synced <strong style=\"color:#cdcd00\">3090_fold4</strong>: <a href=\"https://wandb.ai/spaceshift/SpaceNet8/runs/1as76vze\" target=\"_blank\">https://wandb.ai/spaceshift/SpaceNet8/runs/1as76vze</a><br/>Synced 6 W&B file(s), 0 media file(s), 0 artifact file(s) and 1 other file(s)"
      ],
      "text/plain": [
       "<IPython.core.display.HTML object>"
      ]
     },
     "metadata": {},
     "output_type": "display_data"
    },
    {
     "data": {
      "text/html": [
       "Find logs at: <code>./wandb/run-20220723_121321-1as76vze/logs</code>"
      ],
      "text/plain": [
       "<IPython.core.display.HTML object>"
      ]
     },
     "metadata": {},
     "output_type": "display_data"
    }
   ],
   "source": [
    "for fold in range(cfg.folds):\n",
    "    print(f'#'*60)\n",
    "    print(f'### Fold: {fold}')\n",
    "    print(f'#'*60)\n",
    "    \n",
    "    # Setting   \n",
    "    cfg.fold = fold\n",
    "    wandb_logger = WandbLogger(\n",
    "        config=cfg,\n",
    "        name=f\"{cfg.runname}_fold{fold}\",\n",
    "        project=f\"SpaceNet8\",\n",
    "        group=cfg.group,\n",
    "        tags=[f'fold{fold}', '3090', 'notebook',],\n",
    "        entity='spaceshift',\n",
    "    )\n",
    "    \n",
    "    # Data\n",
    "    datamodule = SpaceNnet8Module(fold, cfg)\n",
    "    \n",
    "    # Model\n",
    "    model = SpaceNet8Model(cfg)\n",
    "    \n",
    "    # PATH\n",
    "    dirpath = f'{cfg.outdir}{cfg.group}/{cfg.runname}_fold-{fold}/'\n",
    "    filename = f\"best_fold-{fold}\"\n",
    "    best_model_path = dirpath + filename + \".ckpt\"\n",
    "\n",
    "\n",
    "    # Logging\n",
    "    lr_monitor = callbacks.LearningRateMonitor()\n",
    "    loss_checkpoint = callbacks.ModelCheckpoint(\n",
    "        dirpath=dirpath,\n",
    "        filename=filename,\n",
    "        monitor=\"val/mean_IoU\",\n",
    "        save_top_k=1,\n",
    "        mode=\"max\",\n",
    "        save_last=True,\n",
    "    )\n",
    "    wandb.save(cfg.notebook)\n",
    "    # logger = TensorBoardLogger()\n",
    "    \n",
    "    print(f'### Start Trainig')\n",
    "    # Train\n",
    "    trainer = Trainer(\n",
    "        logger=wandb_logger,\n",
    "        max_epochs=cfg.epoch,\n",
    "        callbacks=[lr_monitor, loss_checkpoint],\n",
    "        **cfg.trainer,\n",
    "    )\n",
    "    # 実行\n",
    "    trainer.fit(model, datamodule=datamodule)\n",
    "    \n",
    "    # saving\n",
    "    with open(f'{dirpath}cfg.json', 'w') as f:\n",
    "        json.dump(cfg.to_dict(), f, indent=4)\n",
    "        \n",
    "    wandb.save(cfg.notebook)\n",
    "    wandb.finish()\n",
    "    # break\n",
    "      "
   ]
  },
  {
   "cell_type": "code",
   "execution_count": 8,
   "metadata": {},
   "outputs": [],
   "source": [
    "try:\n",
    "    wandb.finish()\n",
    "except Exception as e:\n",
    "    print(f'[Error] {e} --> OK')"
   ]
  },
  {
   "cell_type": "code",
   "execution_count": 13,
   "metadata": {},
   "outputs": [],
   "source": []
  },
  {
   "cell_type": "code",
   "execution_count": null,
   "metadata": {},
   "outputs": [],
   "source": []
  }
 ],
 "metadata": {
  "kernelspec": {
   "display_name": "Python 3.8.13 ('sn8')",
   "language": "python",
   "name": "python3"
  },
  "language_info": {
   "codemirror_mode": {
    "name": "ipython",
    "version": 3
   },
   "file_extension": ".py",
   "mimetype": "text/x-python",
   "name": "python",
   "nbconvert_exporter": "python",
   "pygments_lexer": "ipython3",
   "version": "3.8.13"
  },
  "orig_nbformat": 4,
  "vscode": {
   "interpreter": {
    "hash": "5035d61452180bc2f6c97d30efe0351efc32bce343eab0f718e68b06cec485d6"
   }
  }
 },
 "nbformat": 4,
 "nbformat_minor": 2
}

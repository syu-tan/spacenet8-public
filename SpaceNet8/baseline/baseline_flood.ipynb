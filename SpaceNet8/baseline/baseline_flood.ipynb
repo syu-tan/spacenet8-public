{
 "cells": [
  {
   "cell_type": "markdown",
   "metadata": {},
   "source": [
    "# SpaceNet8 Flood baseline\n",
    "\n",
    "1. flood\n",
    "\n",
    "## overview\n",
    "- `data_prep` までは公開ベースラインと同じ\n",
    "- 学習部分のみの改善を試みる\n",
    "- pytorch lightning + wandb + SMP or TimmUNet の導入\n"
   ]
  },
  {
   "cell_type": "markdown",
   "metadata": {},
   "source": [
    "## Env"
   ]
  },
  {
   "cell_type": "code",
   "execution_count": 4,
   "metadata": {},
   "outputs": [
    {
     "name": "stdout",
     "output_type": "stream",
     "text": [
      "Overwriting requirements.txt\n"
     ]
    }
   ],
   "source": [
    "%%writefile requirements.txt\n",
    "joblib\n",
    "python-box\n",
    "tqdm\n",
    "timm\n",
    "ttach\n",
    "adabelief-pytorch\n",
    "albumentations\n",
    "segmentation-models-pytorch\n",
    "wandb\n",
    "tensorboard\n",
    "tensorboardX\n",
    "pytorch-lightning"
   ]
  },
  {
   "cell_type": "code",
   "execution_count": 9,
   "metadata": {},
   "outputs": [
    {
     "name": "stdout",
     "output_type": "stream",
     "text": [
      "Collecting package metadata (current_repodata.json): done\n",
      "Solving environment: done\n",
      "\n",
      "\n",
      "==> WARNING: A newer version of conda exists. <==\n",
      "  current version: 4.9.2\n",
      "  latest version: 4.13.0\n",
      "\n",
      "Please update conda by running\n",
      "\n",
      "    $ conda update -n base -c defaults conda\n",
      "\n",
      "\n",
      "\n",
      "# All requested packages already installed.\n",
      "\n",
      "Looking in indexes: https://pypi.org/simple, https://pypi.ngc.nvidia.com\n",
      "Looking in links: https://download.pytorch.org/whl/torch_stable.html\n",
      "Collecting torch==1.8.0+cu111\n",
      "  Downloading https://download.pytorch.org/whl/cu111/torch-1.8.0%2Bcu111-cp38-cp38-linux_x86_64.whl (1982.2 MB)\n",
      "\u001b[2K     \u001b[90m━━━━━━━━━━━━━━━━━━━━━━━━━━━━━━━━━━━━━━━━\u001b[0m \u001b[32m2.0/2.0 GB\u001b[0m \u001b[31m20.6 MB/s\u001b[0m eta \u001b[36m0:00:00\u001b[0m00:01\u001b[0m00:04\u001b[0m\n",
      "\u001b[?25hCollecting torchvision==0.9.0+cu111\n",
      "  Downloading https://download.pytorch.org/whl/cu111/torchvision-0.9.0%2Bcu111-cp38-cp38-linux_x86_64.whl (17.6 MB)\n",
      "\u001b[2K     \u001b[90m━━━━━━━━━━━━━━━━━━━━━━━━━━━━━━━━━━━━━━━━\u001b[0m \u001b[32m17.6/17.6 MB\u001b[0m \u001b[31m24.4 MB/s\u001b[0m eta \u001b[36m0:00:00\u001b[0m00:01\u001b[0m00:01\u001b[0m\n",
      "\u001b[?25hCollecting torchaudio==0.8.0\n",
      "  Downloading torchaudio-0.8.0-cp38-cp38-manylinux1_x86_64.whl (1.9 MB)\n",
      "\u001b[2K     \u001b[90m━━━━━━━━━━━━━━━━━━━━━━━━━━━━━━━━━━━━━━━━\u001b[0m \u001b[32m1.9/1.9 MB\u001b[0m \u001b[31m12.6 MB/s\u001b[0m eta \u001b[36m0:00:00\u001b[0ma \u001b[36m0:00:01\u001b[0m\n",
      "\u001b[?25hRequirement already satisfied: typing-extensions in /home/syu/anaconda3/envs/sn8/lib/python3.8/site-packages (from torch==1.8.0+cu111) (4.3.0)\n",
      "Requirement already satisfied: numpy in /home/syu/anaconda3/envs/sn8/lib/python3.8/site-packages (from torch==1.8.0+cu111) (1.23.1)\n",
      "Requirement already satisfied: pillow>=4.1.1 in /home/syu/anaconda3/envs/sn8/lib/python3.8/site-packages (from torchvision==0.9.0+cu111) (9.2.0)\n",
      "Installing collected packages: torch, torchvision, torchaudio\n",
      "  Attempting uninstall: torch\n",
      "    Found existing installation: torch 1.12.0\n",
      "    Uninstalling torch-1.12.0:\n",
      "      Successfully uninstalled torch-1.12.0\n",
      "  Attempting uninstall: torchvision\n",
      "    Found existing installation: torchvision 0.13.0\n",
      "    Uninstalling torchvision-0.13.0:\n",
      "      Successfully uninstalled torchvision-0.13.0\n",
      "Successfully installed torch-1.8.0+cu111 torchaudio-0.8.0 torchvision-0.9.0+cu111\n"
     ]
    }
   ],
   "source": [
    "# !pip install -q -r ../docker/requirements.txt\n",
    "!pip install -q -r requirements.txt\n",
    "!conda install -y gdal\n",
    "!pip install torch==1.8.0+cu111 torchvision==0.9.0+cu111 torchaudio==0.8.0 -f https://download.pytorch.org/whl/torch_stable.html"
   ]
  },
  {
   "cell_type": "markdown",
   "metadata": {},
   "source": [
    "## Import"
   ]
  },
  {
   "cell_type": "code",
   "execution_count": 8,
   "metadata": {},
   "outputs": [
    {
     "name": "stderr",
     "output_type": "stream",
     "text": [
      "\u001b[34m\u001b[1mwandb\u001b[0m: \u001b[33mWARNING\u001b[0m If you're specifying your api key in code, ensure this code is not shared publicly.\n",
      "\u001b[34m\u001b[1mwandb\u001b[0m: \u001b[33mWARNING\u001b[0m Consider setting the WANDB_API_KEY environment variable, or running `wandb login` from the command line.\n",
      "\u001b[34m\u001b[1mwandb\u001b[0m: Appending key for api.wandb.ai to your netrc file: /home/syu/.netrc\n"
     ]
    }
   ],
   "source": [
    "import os\n",
    "import warnings\n",
    "import random\n",
    "from pprint import pprint\n",
    "import copy\n",
    "from typing import List, Tuple\n",
    "import glob\n",
    "import json\n",
    "import csv\n",
    "# import dataclasses\n",
    "from joblib import Parallel, delayed\n",
    "\n",
    "from tqdm import tqdm\n",
    "import numpy as np\n",
    "import pandas as pd\n",
    "from box import Box\n",
    "import matplotlib.pyplot as plt\n",
    "\n",
    "import tifffile\n",
    "from osgeo import gdal\n",
    "\n",
    "from sklearn.model_selection import StratifiedKFold, KFold\n",
    "import torch\n",
    "import torch.optim as optim\n",
    "import torch.nn as nn\n",
    "from torch.utils.data import DataLoader, Dataset\n",
    "import albumentations as A\n",
    "from albumentations.pytorch import ToTensorV2\n",
    "from timm import create_model\n",
    "from adabelief_pytorch import AdaBelief\n",
    "import segmentation_models_pytorch as smp\n",
    "\n",
    "from pytorch_lightning import Trainer\n",
    "from pytorch_lightning.utilities.seed import seed_everything\n",
    "from pytorch_lightning import callbacks\n",
    "from pytorch_lightning.callbacks.progress import ProgressBarBase\n",
    "from pytorch_lightning.loggers import TensorBoardLogger, WandbLogger\n",
    "from pytorch_lightning import LightningDataModule, LightningModule\n",
    "\n",
    "import wandb\n",
    "wandb.login(key='****')\n",
    "\n",
    "warnings.filterwarnings(\"ignore\")\n",
    "\n",
    "torch.autograd.set_detect_anomaly(True)\n",
    "pd.options.display.max_colwidth = 250\n",
    "pd.options.display.max_rows = 30\n",
    "\n",
    "# インライン表示\n",
    "%matplotlib inline"
   ]
  },
  {
   "cell_type": "markdown",
   "metadata": {},
   "source": [
    "## Config"
   ]
  },
  {
   "cell_type": "code",
   "execution_count": 11,
   "metadata": {},
   "outputs": [
    {
     "name": "stderr",
     "output_type": "stream",
     "text": [
      "Global seed set to 417\n"
     ]
    },
    {
     "name": "stdout",
     "output_type": "stream",
     "text": [
      "{'PATH_FOLD_CSV': '../../data/folds/',\n",
      " 'augmentation': '',\n",
      " 'debug': False,\n",
      " 'debug_sample': 32,\n",
      " 'epoch': 100,\n",
      " 'eps': 1e-12,\n",
      " 'f': 'flood',\n",
      " 'features': BoxList(['preimg', 'postimg', 'building', 'road', 'roadspeed', 'flood']),\n",
      " 'fold': -1,\n",
      " 'folds': 5,\n",
      " 'group': '3090_V1_IMG1280_flip-trans',\n",
      " 'model': {'act': None,\n",
      "           'architecture': 'smp',\n",
      "           'decoder_channels': BoxList([256, 128, 64, 32, 16]),\n",
      "           'encoder_name': 'efficientnet-b0',\n",
      "           'in_channels': 6,\n",
      "           'loss': 'MultiBCEDiceLoss(raito=0.5)',\n",
      "           'loss_mode': 'multilabel',\n",
      "           'out_channels': 4,\n",
      "           'threshold': 0.45},\n",
      " 'notebook': 'baseline_flood.ipynb',\n",
      " 'optimizer': Box({'name': 'optim.AdamW', 'params': {'lr': 0.001}}),\n",
      " 'outdir': '../../train/output/flood/',\n",
      " 'preprocess': Box({'input_size': 1280}),\n",
      " 'project': 'SpaceNet8_flood',\n",
      " 'runname': '3090',\n",
      " 'scheduler': {'name': 'optim.lr_scheduler.CosineAnnealingWarmRestarts',\n",
      "               'params': Box({'T_0': 20, 'eta_min': 1e-05})},\n",
      " 'seed': 417,\n",
      " 'train_loader': {'batch_size': 4,\n",
      "                  'drop_last': True,\n",
      "                  'num_workers': 8,\n",
      "                  'pin_memory': False,\n",
      "                  'shuffle': True},\n",
      " 'trainer': {'accumulate_grad_batches': 1,\n",
      "             'check_val_every_n_epoch': 2,\n",
      "             'fast_dev_run': False,\n",
      "             'gpus': 1,\n",
      "             'gradient_clip_algorithm': 'value',\n",
      "             'gradient_clip_val': 10.0,\n",
      "             'num_sanity_val_steps': 0,\n",
      "             'precision': 16,\n",
      "             'progress_bar_refresh_rate': 1,\n",
      "             'resume_from_checkpoint': None,\n",
      "             'stochastic_weight_avg': False,\n",
      "             'val_check_interval': 1.0},\n",
      " 'val_loader': {'batch_size': 4,\n",
      "                'drop_last': False,\n",
      "                'num_workers': 8,\n",
      "                'pin_memory': False,\n",
      "                'shuffle': False}}\n"
     ]
    }
   ],
   "source": [
    "from typing import List, Set, Dict, Any\n",
    "\n",
    "class CFG(object):\n",
    "    # basic\n",
    "    debug: bool = False\n",
    "    debug_sample: int = 32\n",
    "    folds: int  = 5\n",
    "    seed: int   = 417\n",
    "    eps: float  = 1e-12\n",
    "    outdir: str = '../../train/output/flood/'\n",
    "    \n",
    "    # data\n",
    "    PATH_FOLD_CSV: str  =  f'../../data/folds/'\n",
    "    \n",
    "    # train\n",
    "    epoch: int  = 100\n",
    "    trainer: Dict[str, Any]   = {\n",
    "        'gpus': 1,\n",
    "        'accumulate_grad_batches': 1,\n",
    "        'progress_bar_refresh_rate': 1,\n",
    "        'stochastic_weight_avg': False,\n",
    "        'fast_dev_run': False,\n",
    "        'num_sanity_val_steps': 0,\n",
    "        'resume_from_checkpoint': None,\n",
    "        'check_val_every_n_epoch': 2,\n",
    "        'val_check_interval': 1.0,\n",
    "        'precision' : 16,\n",
    "        'gradient_clip_val': 10., \n",
    "        'gradient_clip_algorithm': \"value\"\n",
    "    }\n",
    "    optimizer: Dict[str, Any] = {\n",
    "        'name': 'optim.AdamW',\n",
    "        'params': {\n",
    "            'lr': 1e-3,\n",
    "            },\n",
    "    }\n",
    "    scheduler: Dict[str, Any] = {\n",
    "        'name': 'optim.lr_scheduler.CosineAnnealingWarmRestarts',\n",
    "        'params':{\n",
    "            'T_0': 20,\n",
    "            'eta_min': 1e-5,\n",
    "            }\n",
    "    }\n",
    "    model: Dict[str, Any] = {\n",
    "        \"architecture\": 'smp', # timmu, smp\n",
    "        \"threshold\": 0.45,\n",
    "        'loss': 'MultiBCEDiceLoss(raito=0.5)',\n",
    "        # smp loss mode: https://smp.readthedocs.io/en/latest/_modules/segmentation_models_pytorch/losses/dice.html\n",
    "        'loss_mode': 'multilabel', # 'binary', 'multiclass' ,'multilabel'\n",
    "        \n",
    "        'in_channels': 0,\n",
    "        'out_channels': 4, # background\n",
    "        \n",
    "        'decoder_channels': [int(256 / 2**i) for i in range(5)],\n",
    "        'encoder_name': 'efficientnet-b0',\n",
    "        'act': None,\n",
    "    }\n",
    "    train_loader: Dict[str, Any] = {\n",
    "        'batch_size': 4,\n",
    "        'shuffle': True,\n",
    "        'num_workers': 8,\n",
    "        'pin_memory': False,\n",
    "        'drop_last': True,\n",
    "    }\n",
    "    val_loader :Dict[str, Any]= {\n",
    "        'batch_size': 4,\n",
    "        'shuffle': False,\n",
    "        'num_workers': 8,\n",
    "        'pin_memory': False,\n",
    "        'drop_last': False\n",
    "    }\n",
    "    \n",
    "    # preprocess\n",
    "    features :List[str] = [\"preimg\",\"postimg\",\"building\",\"road\",\"roadspeed\",\"flood\"]\n",
    "    # [\"preimg\",\"postimg\",\"building\",\"road\",\"roadspeed\",\"flood\"]\n",
    "    \n",
    "    preprocess: Dict = {\n",
    "        \"input_size\": 1280,\n",
    "    }\n",
    "    \n",
    "    # logging\n",
    "    project: str = \"SpaceNet8_flood\"\n",
    "    runname: str = \"3090\"\n",
    "    group: str   = f'3090_V1_IMG{preprocess[\"input_size\"]}_flip-trans'\n",
    "    notebook: str = 'baseline_flood.ipynb'\n",
    "    \n",
    "    # post info\n",
    "    augmentation: str =  ''\n",
    "    fold: int = -1\n",
    "    \n",
    "    \n",
    "    # channels\n",
    "    for f in features:\n",
    "        if f == 'preimg':\n",
    "            model['in_channels'] += 3\n",
    "        elif f == 'postimg':\n",
    "            model['in_channels'] += 3\n",
    "        \n",
    "\n",
    "    if debug:\n",
    "        epoch = 2\n",
    "        group = 'DEBUG'\n",
    "\n",
    "\n",
    "# box\n",
    "cfg = Box({k:v for k, v in dict(vars(CFG)).items() if '__' not in k})\n",
    "    \n",
    "# 乱数のシードを設定\n",
    "seed_everything(cfg.seed)\n",
    "torch.manual_seed(cfg.seed)\n",
    "np.random.seed(cfg.seed)\n",
    "random.seed(cfg.seed)\n",
    "    \n",
    "pprint(cfg)"
   ]
  },
  {
   "cell_type": "markdown",
   "metadata": {},
   "source": [
    "## Augmentation"
   ]
  },
  {
   "cell_type": "code",
   "execution_count": 12,
   "metadata": {},
   "outputs": [
    {
     "data": {
      "text/plain": [
       "\"{'train':Compose([Transpose(always_apply=False,p=0.25),Flip(always_apply=False,p=0.5),Resize(always_apply=False,p=1,height=1280,width=1280,interpolation=1),ToTensorV2(always_apply=True,p=1.0,transpose_mask=False),],p=1.0,bbox_params=None,keypoint_params=None,additional_targets={}),'val':Compose([Resize(always_apply=False,p=1,height=1280,width=1280,interpolation=1),ToTensorV2(always_apply=True,p=1.0,transpose_mask=False),],p=1.0,bbox_params=None,keypoint_params=None,additional_targets={})}\""
      ]
     },
     "execution_count": 12,
     "metadata": {},
     "output_type": "execute_result"
    }
   ],
   "source": [
    "# augmentation\n",
    "tf_dict = {\n",
    "    \n",
    "    'train': A.Compose(\n",
    "        [\n",
    "\n",
    "            # A.CoarseDropout(max_holes=4, max_height=4, max_width=4, \n",
    "            #                     min_holes=None, min_height=None, min_width=None, \n",
    "            #                     fill_value=0.15, mask_fill_value=0.0, always_apply=False, p=0.25),\n",
    "            # A.ElasticTransform(alpha=1, sigma=50, alpha_affine=50, interpolation=1,\n",
    "            #                     border_mode=4, value=None, mask_value=None, always_apply=False,\n",
    "            #                     approximate=False, same_dxdy=False, p=0.25),\n",
    "            # A.GridDistortion(num_steps=5, distort_limit=0.4, interpolation=1, \n",
    "            #                     border_mode=4, value=None, mask_value=None, always_apply=False, p=0.25),\n",
    "            # A.ShiftScaleRotate(shift_limit=0.1, scale_limit=0.1, rotate_limit=15, interpolation=1, \n",
    "            #                     border_mode=4, value=0.01, mask_value=0.0, shift_limit_x=None, shift_limit_y=None, \n",
    "            #                     p=0.5),\n",
    "            # A.OneOf([\n",
    "            #     # A.GaussNoise(var_limit=(1e-3, 8e-1), mean=0.15, p=0.5),\n",
    "            #     A.Blur(blur_limit=9, p=0.25),\n",
    "            #     A.RandomBrightnessContrast(brightness_limit=0.1, contrast_limit=0.1, brightness_by_max=True, p=0.5),\n",
    "            # ], p=0.9),\n",
    "            A.Transpose(p=0.25),\n",
    "            A.Flip(p=0.5),\n",
    "            # A.HueSaturationValue (hue_shift_limit=5, sat_shift_limit=10, val_shift_limit=5, p=0.5),\n",
    "            # A.Rotate(limit=30, p=0.5),\n",
    "            A.Resize(cfg.preprocess.input_size, cfg.preprocess.input_size),\n",
    "    #         A.Normalize(mean=(0.485), std=(0.229)),\n",
    "            ToTensorV2(),\n",
    "            ]\n",
    "        ),\n",
    "    'val': A.Compose(\n",
    "        [\n",
    "            A.Resize(cfg.preprocess.input_size, cfg.preprocess.input_size),\n",
    "            # A.Normalize(mean=(0.485), std=(0.229)),\n",
    "            ToTensorV2(),\n",
    "        ]\n",
    "    ),\n",
    "}\n",
    "\n",
    "cfg.augmentation = str(tf_dict).replace('\\n', '').replace(' ', '')\n",
    "cfg.augmentation"
   ]
  },
  {
   "cell_type": "markdown",
   "metadata": {},
   "source": [
    "## Dataset"
   ]
  },
  {
   "cell_type": "code",
   "execution_count": 13,
   "metadata": {},
   "outputs": [],
   "source": [
    "class SpaceNnet8Dataset(Dataset):\n",
    "    def __init__(self,\n",
    "                 fold: int,\n",
    "                 phase: str,\n",
    "                 ):\n",
    "        \"\"\" pytorch dataset for spacenet-8 data. loads images from a csv that contains filepaths to the images\n",
    "        \n",
    "        Parameters:\n",
    "        ------------\n",
    "        fold: (int) \n",
    "            preimg column contains filepaths to the pre-event image tiles (.tif)\n",
    "            postimg column contains filepaths to the post-event image tiles (.tif)\n",
    "            building column contains the filepaths to the binary building labels (.tif)\n",
    "            road column contains the filepaths to the binary road labels (.tif)\n",
    "            roadspeed column contains the filepaths to the road speed labels (.tif)\n",
    "            flood column contains the filepaths to the flood labels (.tif)\n",
    "        data_to_load (list): a list that defines which of the images and labels to load from the .csv. \n",
    "        \n",
    "        \"\"\"\n",
    "        self.all_data_types = [\"preimg\", \"postimg\", \"building\", \"road\", \"roadspeed\", \"flood\"]\n",
    "        \n",
    "        self.data_to_load = cfg.features\n",
    "        self.phase = phase\n",
    "        csv_filename = os.path.join(cfg.PATH_FOLD_CSV, f'fold{fold}_seed{cfg.seed}_{self.phase}.csv')\n",
    "        self.transform = tf_dict[self.phase]\n",
    "        \n",
    "        self.files = []\n",
    "\n",
    "        dict_template = {}\n",
    "        for i in self.all_data_types:\n",
    "            dict_template[i] = None\n",
    "        \n",
    "        with open(csv_filename, newline='') as csvfile:\n",
    "            reader = csv.DictReader(csvfile)\n",
    "            for k, row in enumerate(reader):\n",
    "                in_data = copy.copy(dict_template)\n",
    "                for j in self.data_to_load:\n",
    "                    in_data[j]=row[j]\n",
    "                self.files.append(in_data)\n",
    "                \n",
    "                if cfg.debug and k > cfg.debug_sample:\n",
    "                    break\n",
    "        \n",
    "        print(\"loaded\", len(self.files), \"image filepaths\")\n",
    "\n",
    "    def __len__(self):\n",
    "        return len(self.files)\n",
    "\n",
    "    def __getitem__(self, index):\n",
    "        data_dict = self.files[index]\n",
    "\n",
    "        imgs, masks = [], []\n",
    "        \n",
    "        # gather\n",
    "        for i in self.all_data_types:\n",
    "            filepath = data_dict[i]\n",
    "            if filepath is not None:\n",
    "                # need to resample postimg to same spatial resolution/extent as preimg and labels.\n",
    "                if i == \"postimg\":\n",
    "                    ds = self.get_warped_ds(data_dict[\"postimg\"])\n",
    "                else:\n",
    "                    ds = gdal.Open(filepath)\n",
    "                image = ds.ReadAsArray()\n",
    "                ds = None\n",
    "            \n",
    "                if i in ['preimg' ,'postimg']:\n",
    "                    imgs.append(image.transpose(1, 2, 0))\n",
    "                else:\n",
    "                    # 1 channel\n",
    "                    if len(image.shape) <= 2:\n",
    "                        masks.append(image[:,:, np.newaxis])\n",
    "                    else:\n",
    "                        masks.append(image.transpose(1, 2, 0))\n",
    "                        \n",
    "                \n",
    "        \n",
    "        \n",
    "        # align channel last\n",
    "        imgs = np.concatenate(imgs, axis=2)\n",
    "        masks = np.concatenate(masks, axis=2)\n",
    "        \n",
    "        # augmentation\n",
    "        transformed = self.transform(image=imgs, mask=masks)\n",
    "        \n",
    "        imgs = transformed[\"image\"]\n",
    "        masks = transformed[\"mask\"].permute(2, 0, 1) # torch channel fast\n",
    "        \n",
    "        return imgs, masks\n",
    "\n",
    "    def get_image_filename(self, index: int) -> str:\n",
    "        \"\"\" return pre-event image absolute filepath at index \"\"\"\n",
    "        data_dict = self.files[index]\n",
    "        return data_dict[\"preimg\"]\n",
    "\n",
    "    def get_warped_ds(self, post_image_filename: str) -> gdal.Dataset:\n",
    "        \"\"\" gdal warps (resamples) the post-event image to the same spatial resolution as the pre-event image and masks \n",
    "        \n",
    "        SN8 labels are created from referencing pre-event image. Spatial resolution of the post-event image does not match the spatial resolution of the pre-event imagery and therefore the labels.\n",
    "        In order to align the post-event image with the pre-event image and mask labels, we must resample the post-event image to the resolution of the pre-event image. Also need to make sure\n",
    "        the post-event image covers the exact same spatial extent as the pre-event image. this is taken care of in the the tiling\"\"\"\n",
    "        ds = gdal.Warp(\"\", post_image_filename,\n",
    "                       format='MEM', width=1300, height=1300,\n",
    "                       resampleAlg=gdal.GRIORA_Bilinear,\n",
    "                       outputType=gdal.GDT_Byte)\n",
    "        return ds\n",
    "    \n",
    "class SpaceNnet8Module(LightningDataModule):\n",
    "    def __init__(\n",
    "        self,\n",
    "        fold,\n",
    "        cfg,\n",
    "    ):\n",
    "        super().__init__()\n",
    "        self.fold = fold\n",
    "        self._cfg = cfg\n",
    "\n",
    "    def train_dataloader(self):\n",
    "        dataset = SpaceNnet8Dataset(self.fold, phase='train')\n",
    "        return DataLoader(dataset, **self._cfg.train_loader)\n",
    "\n",
    "    def val_dataloader(self):\n",
    "        dataset = SpaceNnet8Dataset(self.fold, phase='val')\n",
    "        return DataLoader(dataset, **self._cfg.val_loader)"
   ]
  },
  {
   "cell_type": "markdown",
   "metadata": {},
   "source": [
    "## Model"
   ]
  },
  {
   "cell_type": "code",
   "execution_count": 14,
   "metadata": {},
   "outputs": [],
   "source": [
    "class DiceLoss(smp.utils.base.Loss):\n",
    "    \"\"\"DiceLoss which supports ignore mask.\n",
    "    \"\"\"\n",
    "    def __init__(self, eps=cfg.eps, beta=0.5, ignore_mask_channel=None, **kwargs):\n",
    "        super().__init__(**kwargs)\n",
    "        self.eps = eps\n",
    "        self.beta = beta\n",
    "        self.ignore_mask_channel = ignore_mask_channel\n",
    "\n",
    "    def forward(self, y_pr, y_gt):\n",
    "        # y_pr, y_gt = _apply_ignore_mask(y_pr, y_gt, self.ignore_mask_channel)\n",
    "\n",
    "        return 1 - smp.utils.functional.f_score(\n",
    "            y_pr,\n",
    "            y_gt,\n",
    "            beta=self.beta,\n",
    "            eps=self.eps,\n",
    "            threshold=None,\n",
    "            ignore_channels=None,\n",
    "        )\n",
    "\n",
    "class BCEDiceLoss(torch.nn.Module):\n",
    "    def __init__(self, raito=0.5):\n",
    "        super(BCEDiceLoss, self).__init__()\n",
    "        assert 0 <= raito <= 1, \"loss raito invalid.\"\n",
    "        \n",
    "        self.raito = raito\n",
    "        self.bce_criterion = torch.nn.BCEWithLogitsLoss()\n",
    "        self.dice_criterion = DiceLoss()\n",
    "        \n",
    "    def forward(self, y_pr, y_gt):\n",
    "        loss = self.raito * self.bce_criterion(y_pr, y_gt) + (1 - self.raito) * self.dice_criterion(torch.sigmoid(y_pr), y_gt)\n",
    "        return loss\n",
    "    \n",
    "class MultiBCEDiceLoss(torch.nn.Module):\n",
    "    def __init__(self, raito=0.5):\n",
    "        super(MultiBCEDiceLoss, self).__init__()\n",
    "        assert 0 <= raito <= 1, \"loss raito invalid.\"\n",
    "        \n",
    "        self.raito = raito\n",
    "        self.bce_criterion = torch.nn.BCEWithLogitsLoss()\n",
    "        self.dice_criterion = smp.losses.DiceLoss(mode=cfg.model.loss_mode)\n",
    "        \n",
    "    def forward(self, y_pr, y_gt):\n",
    "        loss_bce = self.raito * self.bce_criterion(y_pr, y_gt)\n",
    "\n",
    "        if cfg.model.loss_mode == 'multiclass':\n",
    "            y_gt = y_gt.long()\n",
    "            y_gt = torch.argmax(y_gt, dim=1)\n",
    "        loss_dice = (1 - self.raito) * self.dice_criterion(torch.sigmoid(y_pr), y_gt)\n",
    "        \n",
    "        loss = loss_bce + loss_dice\n",
    "        return loss\n",
    "\n",
    "class MultiBCETverskyLoss(torch.nn.Module):\n",
    "    def __init__(self, raito=0.5):\n",
    "        super(MultiBCETverskyLoss, self).__init__()\n",
    "        assert 0 <= raito <= 1, \"loss raito invalid.\"\n",
    "        \n",
    "        self.raito = raito\n",
    "        self.bce_criterion = torch.nn.BCEWithLogitsLoss()\n",
    "        self.tvrsky_criterion = smp.losses.TverskyLoss(mode=cfg.model.loss_mode, log_loss=False)\n",
    "        \n",
    "    def forward(self, y_pr, y_gt):\n",
    "        loss_bce = self.raito * self.bce_criterion(y_pr, y_gt)\n",
    "\n",
    "        if cfg.model.loss_mode == 'multiclass':\n",
    "            y_gt = y_gt.long()\n",
    "            y_gt = torch.argmax(y_gt, dim=1)\n",
    "        loss_dice = (1 - self.raito) * self.tvrsky_criterion(torch.sigmoid(y_pr), y_gt)\n",
    "        \n",
    "        loss = loss_bce + loss_dice\n",
    "        return loss"
   ]
  },
  {
   "cell_type": "code",
   "execution_count": 15,
   "metadata": {},
   "outputs": [],
   "source": [
    "def mixup(x: torch.Tensor, y: torch.Tensor, alpha: float = 1.0):\n",
    "    assert alpha > 0, \"alpha should be larger than 0\"\n",
    "    assert x.size(0) > 1, \"Mixup cannot be applied to a single instance.\"\n",
    "\n",
    "    lam = np.random.beta(alpha, alpha)\n",
    "    rand_index = torch.randperm(x.size()[0])\n",
    "    mixed_x = lam * x + (1 - lam) * x[rand_index, :]\n",
    "    target_a, target_b = y, y[rand_index]\n",
    "    return mixed_x, target_a, target_b, lam\n",
    "\n",
    "\n",
    "class SpaceNet8Model(LightningModule):\n",
    "    def __init__(self, cfg):\n",
    "        super().__init__()\n",
    "        self.cfg = cfg\n",
    "        self.__build_model()\n",
    "        self._criterion = eval(cfg.model.loss)\n",
    "        \n",
    "    def __build_model(self):\n",
    "        self.backbone = smp.UnetPlusPlus(encoder_name=cfg.model.encoder_name,\n",
    "                                              encoder_weights=\"imagenet\",\n",
    "                                      decoder_attention_type='scse',\n",
    "                                      in_channels=cfg.model.in_channels, activation=cfg.model.act,\n",
    "                                      decoder_channels=cfg.model.decoder_channels,\n",
    "                                      classes=cfg.model.out_channels)\n",
    "\n",
    "    def forward(self, x):\n",
    "        feat = self.backbone(x)\n",
    "        return feat\n",
    "\n",
    "    def training_step(self, batch, batch_idx):\n",
    "        return self.__share_step(batch, 'train')\n",
    "        \n",
    "    def validation_step(self, batch, batch_idx):\n",
    "        return self.__share_step(batch, 'val')\n",
    "    \n",
    "    def __share_step(self, batch, mode):\n",
    "        images, labels = batch\n",
    "        labels = labels.float()\n",
    "        images = images.float()\n",
    "\n",
    "        outputs = self.forward(images)\n",
    "\n",
    "        # loss\n",
    "        loss = self._criterion(outputs, labels[:, 10:14,...])\n",
    "        \n",
    "        logits = torch.sigmoid(outputs)\n",
    "        preds = (logits > cfg.model.threshold).float()\n",
    "        return_dict = {'loss': loss ,}\n",
    "        \n",
    "        # metrics\n",
    "        for c in range(4):\n",
    "            preds_c, labels_c = preds[:, c, :, :], labels[:, c, :, :]\n",
    "            tp = (preds_c * labels_c).sum().to(torch.float32)\n",
    "            tn = ((1. - preds_c) * (1. - labels_c)).sum().to(torch.float32)\n",
    "            fp = (preds_c * (1. - labels_c)).sum().to(torch.float32)\n",
    "            fn = ((1. - preds_c) * labels_c).sum().to(torch.float32)\n",
    "            return_dict[f'TP_{c}'] = tp.unsqueeze(dim=0).detach().cpu()\n",
    "            return_dict[f'TN_{c}'] = tn.unsqueeze(dim=0).detach().cpu()\n",
    "            return_dict[f'FP_{c}'] = fp.unsqueeze(dim=0).detach().cpu()\n",
    "            return_dict[f'FN_{c}'] = fn.unsqueeze(dim=0).detach().cpu()\n",
    "            \n",
    "            precision = tp / (tp + fp + cfg.eps)\n",
    "            recall = tp / (tp + fn + cfg.eps)\n",
    "            f1 = 2 * (precision*recall) / (precision + recall + cfg.eps)\n",
    "            iou = tp / (tp + fp + fn + cfg.eps)\n",
    "            \n",
    "            return_dict[f'Precision_{c}'] = precision.unsqueeze(dim=0).detach().cpu()\n",
    "            return_dict[f'Recall_{c}'] = recall.unsqueeze(dim=0).detach().cpu()\n",
    "            return_dict[f'F1_{c}'] = f1.unsqueeze(dim=0).detach().cpu()\n",
    "            return_dict[f'IoU_{c}'] = iou.unsqueeze(dim=0).detach().cpu()\n",
    "            \n",
    "            # logging \n",
    "            self.log(f'{mode}/iter_TP_{c}', tp)\n",
    "            self.log(f'{mode}/iter_TN_{c}', tn)\n",
    "            self.log(f'{mode}/iter_FP_{c}', fp)\n",
    "            self.log(f'{mode}/iter_FN_{c}', fn)\n",
    "            \n",
    "            self.log(f'{mode}/iter_Precision_{c}', precision)\n",
    "            self.log(f'{mode}/iter_Recall_{c}', recall)\n",
    "            \n",
    "            self.log(f'{mode}/iter_F1_{c}', f1)\n",
    "            self.log(f'{mode}/iter_IoU_{c}', iou) \n",
    "            \n",
    "        self.log(f'{mode}/iter_loss', loss)\n",
    "\n",
    "        return return_dict\n",
    "        \n",
    "    def training_epoch_end(self, outputs):\n",
    "        self.__share_epoch_end(outputs, 'train')\n",
    "\n",
    "    def validation_epoch_end(self, outputs):\n",
    "        self.__share_epoch_end(outputs, 'val')    \n",
    "        \n",
    "    def __share_epoch_end(self, outputs, mode):\n",
    "        \n",
    "        # loss\n",
    "        losses = []\n",
    "        for out in outputs:\n",
    "            losses.append(out['loss'].cpu().detach().numpy())\n",
    "        losses = np.mean(losses)\n",
    "        self.log(f'{mode}/epoch_loss', losses)\n",
    "        \n",
    "        mean_iou = 0\n",
    "        mean_f1 = 0\n",
    "    \n",
    "        # metrics\n",
    "        for c in range(4):\n",
    "            tps, tns, fps, fns, precisions, recalls, f1s, IoUs = \\\n",
    "                [], [], [], [], [], [], [], []\n",
    "            for out in outputs:\n",
    "                # assert False, (out[f'TP_{c}'], out[f'TP_{c}'].shape)\n",
    "                for (tp, tn, fp, fn, precision, recall, f1, iou) in zip(out[f'TP_{c}'], \n",
    "                                         out[f'TN_{c}'],\n",
    "                                         out[f'FP_{c}'],\n",
    "                                         out[f'FN_{c}'],\n",
    "                                         out[f'Precision_{c}'],\n",
    "                                         out[f'Recall_{c}'],\n",
    "                                         out[f'F1_{c}'],\n",
    "                                         out[f'IoU_{c}'],):\n",
    "                    \n",
    "                    tps.append(tp.unsqueeze(dim=0))\n",
    "                    tns.append(tn.unsqueeze(dim=0))\n",
    "                    fps.append(fp.unsqueeze(dim=0))\n",
    "                    fns.append(fn.unsqueeze(dim=0))\n",
    "                    \n",
    "                    precisions.append(precision.unsqueeze(dim=0))\n",
    "                    recalls.append(recall.unsqueeze(dim=0))\n",
    "                    f1s.append(f1.unsqueeze(dim=0))\n",
    "                    IoUs.append(iou.unsqueeze(dim=0))\n",
    "                    \n",
    "            tps = torch.cat(tps, dim=0).squeeze()\n",
    "            tns = torch.cat(tns, dim=0).squeeze()\n",
    "            fps = torch.cat(fps, dim=0).squeeze()\n",
    "            fns = torch.cat(fns, dim=0).squeeze()\n",
    "            \n",
    "            precisions = torch.cat(precisions, dim=0).squeeze()\n",
    "            recalls = torch.cat(recalls, dim=0).squeeze()\n",
    "            f1s = torch.cat(f1s, dim=0).squeeze()\n",
    "            IoUs = torch.cat(IoUs, dim=0).squeeze()\n",
    "            \n",
    "            \n",
    "            # logging \n",
    "            self.log(f'{mode}/epoch_TP_{c}', tps)\n",
    "            self.log(f'{mode}/epoch_TN_{c}', tns)\n",
    "            self.log(f'{mode}/epoch_FP_{c}', fps)\n",
    "            self.log(f'{mode}/epoch_FN_{c}', fns)\n",
    "            \n",
    "            self.log(f'{mode}/epoch_Precision_{c}', precisions)\n",
    "            self.log(f'{mode}/epoch_Recall_{c}', recalls)\n",
    "            \n",
    "            self.log(f'{mode}/epoch_F1_{c}', f1s)\n",
    "            self.log(f'{mode}/epoch_IoU_{c}', IoUs)\n",
    "            \n",
    "            mean_iou += np.mean(IoUs.numpy()).item()\n",
    "            mean_f1 += np.mean(f1s.numpy()).item()\n",
    "        \n",
    "        mean_iou /= 4\n",
    "        mean_f1 /= 4\n",
    "        self.log(f'{mode}/mean_IoU', mean_iou)\n",
    "        self.log(f'{mode}/mean_F1', mean_f1)\n",
    "\n",
    "    def configure_optimizers(self):\n",
    "        optimizer = eval(self.cfg.optimizer.name)(\n",
    "            self.parameters(), **self.cfg.optimizer.params\n",
    "        )\n",
    "        scheduler = eval(self.cfg.scheduler.name)(\n",
    "            optimizer,\n",
    "            **self.cfg.scheduler.params\n",
    "        )\n",
    "        return [optimizer], [scheduler]"
   ]
  },
  {
   "cell_type": "markdown",
   "metadata": {},
   "source": [
    "## Train"
   ]
  },
  {
   "cell_type": "code",
   "execution_count": 16,
   "metadata": {},
   "outputs": [
    {
     "name": "stdout",
     "output_type": "stream",
     "text": [
      "############################################################\n",
      "### Fold: 0\n",
      "############################################################\n"
     ]
    },
    {
     "data": {
      "text/html": [
       "Changes to your `wandb` environment variables will be ignored because your `wandb` session has already started. For more information on how to modify your settings with `wandb.init()` arguments, please refer to <a href=\"https://wandb.me/wandb-init\" target=\"_blank\">the W&B docs</a>."
      ],
      "text/plain": [
       "<IPython.core.display.HTML object>"
      ]
     },
     "metadata": {},
     "output_type": "display_data"
    },
    {
     "data": {
      "text/html": [
       "Tracking run with wandb version 0.12.21"
      ],
      "text/plain": [
       "<IPython.core.display.HTML object>"
      ]
     },
     "metadata": {},
     "output_type": "display_data"
    },
    {
     "data": {
      "text/html": [
       "Run data is saved locally in <code>/media/syu/c983cccd-1cc7-4ce4-b206-7eb1a2cc5c94/topcoder/spacenet8/SpaceNet8/baseline/wandb/run-20220726_004119-2jby3q6e</code>"
      ],
      "text/plain": [
       "<IPython.core.display.HTML object>"
      ]
     },
     "metadata": {},
     "output_type": "display_data"
    },
    {
     "data": {
      "text/html": [
       "Syncing run <strong><a href=\"https://wandb.ai/syuchimu/SpaceNet8_flood/runs/2jby3q6e\" target=\"_blank\">3090_fold0</a></strong> to <a href=\"https://wandb.ai/syuchimu/SpaceNet8_flood\" target=\"_blank\">Weights & Biases</a> (<a href=\"https://wandb.me/run\" target=\"_blank\">docs</a>)<br/>"
      ],
      "text/plain": [
       "<IPython.core.display.HTML object>"
      ]
     },
     "metadata": {},
     "output_type": "display_data"
    },
    {
     "name": "stderr",
     "output_type": "stream",
     "text": [
      "Using 16bit native Automatic Mixed Precision (AMP)\n",
      "GPU available: True, used: True\n",
      "TPU available: False, using: 0 TPU cores\n",
      "IPU available: False, using: 0 IPUs\n",
      "HPU available: False, using: 0 HPUs\n",
      "`Trainer(val_check_interval=1.0)` was configured so validation will run at the end of the training epoch..\n",
      "LOCAL_RANK: 0 - CUDA_VISIBLE_DEVICES: [0]\n",
      "\n",
      "  | Name       | Type             | Params\n",
      "------------------------------------------------\n",
      "0 | backbone   | UnetPlusPlus     | 6.6 M \n",
      "1 | _criterion | MultiBCEDiceLoss | 0     \n",
      "------------------------------------------------\n",
      "6.6 M     Trainable params\n",
      "0         Non-trainable params\n",
      "6.6 M     Total params\n",
      "13.283    Total estimated model params size (MB)\n"
     ]
    },
    {
     "name": "stdout",
     "output_type": "stream",
     "text": [
      "### Start Trainig\n",
      "loaded 640 image filepaths\n",
      "loaded 161 image filepaths\n"
     ]
    },
    {
     "data": {
      "application/vnd.jupyter.widget-view+json": {
       "model_id": "51e87d0161944eb595ba5a8b26a8ca93",
       "version_major": 2,
       "version_minor": 0
      },
      "text/plain": [
       "Training: 0it [00:00, ?it/s]"
      ]
     },
     "metadata": {},
     "output_type": "display_data"
    },
    {
     "data": {
      "application/vnd.jupyter.widget-view+json": {
       "model_id": "283d7f5cf9ef4d20834c79b332d359ff",
       "version_major": 2,
       "version_minor": 0
      },
      "text/plain": [
       "Validation: 0it [00:00, ?it/s]"
      ]
     },
     "metadata": {},
     "output_type": "display_data"
    },
    {
     "data": {
      "application/vnd.jupyter.widget-view+json": {
       "model_id": "ed8bbd42562f42549463cb77079ca801",
       "version_major": 2,
       "version_minor": 0
      },
      "text/plain": [
       "Validation: 0it [00:00, ?it/s]"
      ]
     },
     "metadata": {},
     "output_type": "display_data"
    },
    {
     "data": {
      "application/vnd.jupyter.widget-view+json": {
       "model_id": "761b1c70eff045ccb05125517e54c33a",
       "version_major": 2,
       "version_minor": 0
      },
      "text/plain": [
       "Validation: 0it [00:00, ?it/s]"
      ]
     },
     "metadata": {},
     "output_type": "display_data"
    },
    {
     "data": {
      "application/vnd.jupyter.widget-view+json": {
       "model_id": "742d1fb1b8a14a3ebd82473b1cc5bb32",
       "version_major": 2,
       "version_minor": 0
      },
      "text/plain": [
       "Validation: 0it [00:00, ?it/s]"
      ]
     },
     "metadata": {},
     "output_type": "display_data"
    },
    {
     "data": {
      "application/vnd.jupyter.widget-view+json": {
       "model_id": "bae1cdf084bc4ffb95d7e742178efd0d",
       "version_major": 2,
       "version_minor": 0
      },
      "text/plain": [
       "Validation: 0it [00:00, ?it/s]"
      ]
     },
     "metadata": {},
     "output_type": "display_data"
    },
    {
     "data": {
      "application/vnd.jupyter.widget-view+json": {
       "model_id": "40e40728dbeb47eea70519ee1ee1aa90",
       "version_major": 2,
       "version_minor": 0
      },
      "text/plain": [
       "Validation: 0it [00:00, ?it/s]"
      ]
     },
     "metadata": {},
     "output_type": "display_data"
    },
    {
     "data": {
      "application/vnd.jupyter.widget-view+json": {
       "model_id": "0b76407462824e9faf0a32c2828f79d8",
       "version_major": 2,
       "version_minor": 0
      },
      "text/plain": [
       "Validation: 0it [00:00, ?it/s]"
      ]
     },
     "metadata": {},
     "output_type": "display_data"
    },
    {
     "data": {
      "application/vnd.jupyter.widget-view+json": {
       "model_id": "5967d09b58f3471db37f4151482f4f67",
       "version_major": 2,
       "version_minor": 0
      },
      "text/plain": [
       "Validation: 0it [00:00, ?it/s]"
      ]
     },
     "metadata": {},
     "output_type": "display_data"
    },
    {
     "data": {
      "application/vnd.jupyter.widget-view+json": {
       "model_id": "02ffebf7eafb416db25b4a91e89d239d",
       "version_major": 2,
       "version_minor": 0
      },
      "text/plain": [
       "Validation: 0it [00:00, ?it/s]"
      ]
     },
     "metadata": {},
     "output_type": "display_data"
    },
    {
     "data": {
      "application/vnd.jupyter.widget-view+json": {
       "model_id": "8703011ae9be4247996e6568ae9cd20d",
       "version_major": 2,
       "version_minor": 0
      },
      "text/plain": [
       "Validation: 0it [00:00, ?it/s]"
      ]
     },
     "metadata": {},
     "output_type": "display_data"
    },
    {
     "data": {
      "application/vnd.jupyter.widget-view+json": {
       "model_id": "c90fca67ce9e46c49703aa04440d0db4",
       "version_major": 2,
       "version_minor": 0
      },
      "text/plain": [
       "Validation: 0it [00:00, ?it/s]"
      ]
     },
     "metadata": {},
     "output_type": "display_data"
    },
    {
     "data": {
      "application/vnd.jupyter.widget-view+json": {
       "model_id": "f6df6fe989004a6b9dfc780a4ca0b511",
       "version_major": 2,
       "version_minor": 0
      },
      "text/plain": [
       "Validation: 0it [00:00, ?it/s]"
      ]
     },
     "metadata": {},
     "output_type": "display_data"
    },
    {
     "data": {
      "application/vnd.jupyter.widget-view+json": {
       "model_id": "03c3f6e794c3475c8128a37d6d5937dd",
       "version_major": 2,
       "version_minor": 0
      },
      "text/plain": [
       "Validation: 0it [00:00, ?it/s]"
      ]
     },
     "metadata": {},
     "output_type": "display_data"
    },
    {
     "data": {
      "application/vnd.jupyter.widget-view+json": {
       "model_id": "4ada89e3b17c49f4973402b6ca893403",
       "version_major": 2,
       "version_minor": 0
      },
      "text/plain": [
       "Validation: 0it [00:00, ?it/s]"
      ]
     },
     "metadata": {},
     "output_type": "display_data"
    },
    {
     "data": {
      "application/vnd.jupyter.widget-view+json": {
       "model_id": "14113d2686104fdd96217b2719b959a9",
       "version_major": 2,
       "version_minor": 0
      },
      "text/plain": [
       "Validation: 0it [00:00, ?it/s]"
      ]
     },
     "metadata": {},
     "output_type": "display_data"
    },
    {
     "data": {
      "application/vnd.jupyter.widget-view+json": {
       "model_id": "109bae7a73c644539b6019e52c056c30",
       "version_major": 2,
       "version_minor": 0
      },
      "text/plain": [
       "Validation: 0it [00:00, ?it/s]"
      ]
     },
     "metadata": {},
     "output_type": "display_data"
    },
    {
     "data": {
      "application/vnd.jupyter.widget-view+json": {
       "model_id": "b583e576384e4137833be80b1ab33074",
       "version_major": 2,
       "version_minor": 0
      },
      "text/plain": [
       "Validation: 0it [00:00, ?it/s]"
      ]
     },
     "metadata": {},
     "output_type": "display_data"
    },
    {
     "data": {
      "application/vnd.jupyter.widget-view+json": {
       "model_id": "ae36020977ff4e16b50e9e8e95bd3a70",
       "version_major": 2,
       "version_minor": 0
      },
      "text/plain": [
       "Validation: 0it [00:00, ?it/s]"
      ]
     },
     "metadata": {},
     "output_type": "display_data"
    },
    {
     "data": {
      "application/vnd.jupyter.widget-view+json": {
       "model_id": "8a2e276c94534868ae512098b660d5ab",
       "version_major": 2,
       "version_minor": 0
      },
      "text/plain": [
       "Validation: 0it [00:00, ?it/s]"
      ]
     },
     "metadata": {},
     "output_type": "display_data"
    },
    {
     "data": {
      "application/vnd.jupyter.widget-view+json": {
       "model_id": "9e267c766d8a47efa227d84bd06e461c",
       "version_major": 2,
       "version_minor": 0
      },
      "text/plain": [
       "Validation: 0it [00:00, ?it/s]"
      ]
     },
     "metadata": {},
     "output_type": "display_data"
    },
    {
     "data": {
      "application/vnd.jupyter.widget-view+json": {
       "model_id": "18cb3131a05d45e9b998ce4f02519837",
       "version_major": 2,
       "version_minor": 0
      },
      "text/plain": [
       "Validation: 0it [00:00, ?it/s]"
      ]
     },
     "metadata": {},
     "output_type": "display_data"
    },
    {
     "data": {
      "application/vnd.jupyter.widget-view+json": {
       "model_id": "56aeaef49a2f454099e0574003c84ff7",
       "version_major": 2,
       "version_minor": 0
      },
      "text/plain": [
       "Validation: 0it [00:00, ?it/s]"
      ]
     },
     "metadata": {},
     "output_type": "display_data"
    },
    {
     "data": {
      "application/vnd.jupyter.widget-view+json": {
       "model_id": "fec9d3af58cd4e3191332b879b2d9c36",
       "version_major": 2,
       "version_minor": 0
      },
      "text/plain": [
       "Validation: 0it [00:00, ?it/s]"
      ]
     },
     "metadata": {},
     "output_type": "display_data"
    },
    {
     "data": {
      "application/vnd.jupyter.widget-view+json": {
       "model_id": "364d19a3b30c480bbab878e3a683e7f4",
       "version_major": 2,
       "version_minor": 0
      },
      "text/plain": [
       "Validation: 0it [00:00, ?it/s]"
      ]
     },
     "metadata": {},
     "output_type": "display_data"
    },
    {
     "data": {
      "application/vnd.jupyter.widget-view+json": {
       "model_id": "693683311efc458697ab5295a8aa7e15",
       "version_major": 2,
       "version_minor": 0
      },
      "text/plain": [
       "Validation: 0it [00:00, ?it/s]"
      ]
     },
     "metadata": {},
     "output_type": "display_data"
    },
    {
     "data": {
      "application/vnd.jupyter.widget-view+json": {
       "model_id": "fb53aca64ec74054a9ccb010503157f2",
       "version_major": 2,
       "version_minor": 0
      },
      "text/plain": [
       "Validation: 0it [00:00, ?it/s]"
      ]
     },
     "metadata": {},
     "output_type": "display_data"
    },
    {
     "data": {
      "application/vnd.jupyter.widget-view+json": {
       "model_id": "f56514a72b5f4ed1bfc8795083961dfe",
       "version_major": 2,
       "version_minor": 0
      },
      "text/plain": [
       "Validation: 0it [00:00, ?it/s]"
      ]
     },
     "metadata": {},
     "output_type": "display_data"
    },
    {
     "data": {
      "application/vnd.jupyter.widget-view+json": {
       "model_id": "bbed6ca69dee4cc09a33ae1cae3408ae",
       "version_major": 2,
       "version_minor": 0
      },
      "text/plain": [
       "Validation: 0it [00:00, ?it/s]"
      ]
     },
     "metadata": {},
     "output_type": "display_data"
    },
    {
     "data": {
      "application/vnd.jupyter.widget-view+json": {
       "model_id": "2849fa16664040b4ac881a1598ddcdeb",
       "version_major": 2,
       "version_minor": 0
      },
      "text/plain": [
       "Validation: 0it [00:00, ?it/s]"
      ]
     },
     "metadata": {},
     "output_type": "display_data"
    },
    {
     "data": {
      "application/vnd.jupyter.widget-view+json": {
       "model_id": "b6419cdfac444acc9c578ee335bc65d2",
       "version_major": 2,
       "version_minor": 0
      },
      "text/plain": [
       "Validation: 0it [00:00, ?it/s]"
      ]
     },
     "metadata": {},
     "output_type": "display_data"
    },
    {
     "data": {
      "application/vnd.jupyter.widget-view+json": {
       "model_id": "4febf4e5ea8e49cb9dd590ed2d54fbf4",
       "version_major": 2,
       "version_minor": 0
      },
      "text/plain": [
       "Validation: 0it [00:00, ?it/s]"
      ]
     },
     "metadata": {},
     "output_type": "display_data"
    },
    {
     "data": {
      "application/vnd.jupyter.widget-view+json": {
       "model_id": "f5b55c3ebd9c4f0b9e26b7030017d38f",
       "version_major": 2,
       "version_minor": 0
      },
      "text/plain": [
       "Validation: 0it [00:00, ?it/s]"
      ]
     },
     "metadata": {},
     "output_type": "display_data"
    },
    {
     "data": {
      "application/vnd.jupyter.widget-view+json": {
       "model_id": "f2beab770712474eb8c25cac490d7bf3",
       "version_major": 2,
       "version_minor": 0
      },
      "text/plain": [
       "Validation: 0it [00:00, ?it/s]"
      ]
     },
     "metadata": {},
     "output_type": "display_data"
    },
    {
     "data": {
      "application/vnd.jupyter.widget-view+json": {
       "model_id": "ad58f4cb9cfd40ba872636b899a8d6f2",
       "version_major": 2,
       "version_minor": 0
      },
      "text/plain": [
       "Validation: 0it [00:00, ?it/s]"
      ]
     },
     "metadata": {},
     "output_type": "display_data"
    },
    {
     "data": {
      "application/vnd.jupyter.widget-view+json": {
       "model_id": "1b632a784bb84cb79ef62fbfb8685c71",
       "version_major": 2,
       "version_minor": 0
      },
      "text/plain": [
       "Validation: 0it [00:00, ?it/s]"
      ]
     },
     "metadata": {},
     "output_type": "display_data"
    },
    {
     "data": {
      "application/vnd.jupyter.widget-view+json": {
       "model_id": "082ed094f1d0415097a9d315901a2fe1",
       "version_major": 2,
       "version_minor": 0
      },
      "text/plain": [
       "Validation: 0it [00:00, ?it/s]"
      ]
     },
     "metadata": {},
     "output_type": "display_data"
    },
    {
     "data": {
      "application/vnd.jupyter.widget-view+json": {
       "model_id": "abcbcd2280484726891b86537f5f4deb",
       "version_major": 2,
       "version_minor": 0
      },
      "text/plain": [
       "Validation: 0it [00:00, ?it/s]"
      ]
     },
     "metadata": {},
     "output_type": "display_data"
    },
    {
     "data": {
      "application/vnd.jupyter.widget-view+json": {
       "model_id": "e3c0b43ff26a46548d7ed4f93f6858e0",
       "version_major": 2,
       "version_minor": 0
      },
      "text/plain": [
       "Validation: 0it [00:00, ?it/s]"
      ]
     },
     "metadata": {},
     "output_type": "display_data"
    },
    {
     "data": {
      "application/vnd.jupyter.widget-view+json": {
       "model_id": "00f97ff6dd1f461483808020b49f2f72",
       "version_major": 2,
       "version_minor": 0
      },
      "text/plain": [
       "Validation: 0it [00:00, ?it/s]"
      ]
     },
     "metadata": {},
     "output_type": "display_data"
    },
    {
     "data": {
      "application/vnd.jupyter.widget-view+json": {
       "model_id": "7d8c568c44aa4429a2e8e86eb8b46d4e",
       "version_major": 2,
       "version_minor": 0
      },
      "text/plain": [
       "Validation: 0it [00:00, ?it/s]"
      ]
     },
     "metadata": {},
     "output_type": "display_data"
    },
    {
     "data": {
      "application/vnd.jupyter.widget-view+json": {
       "model_id": "2ea6e05858d64ed687fef9ba6cb7b855",
       "version_major": 2,
       "version_minor": 0
      },
      "text/plain": [
       "Validation: 0it [00:00, ?it/s]"
      ]
     },
     "metadata": {},
     "output_type": "display_data"
    },
    {
     "data": {
      "application/vnd.jupyter.widget-view+json": {
       "model_id": "27018fd665e440dd8467f730a0f44862",
       "version_major": 2,
       "version_minor": 0
      },
      "text/plain": [
       "Validation: 0it [00:00, ?it/s]"
      ]
     },
     "metadata": {},
     "output_type": "display_data"
    },
    {
     "data": {
      "application/vnd.jupyter.widget-view+json": {
       "model_id": "02343660f53d467083a9ecf031675432",
       "version_major": 2,
       "version_minor": 0
      },
      "text/plain": [
       "Validation: 0it [00:00, ?it/s]"
      ]
     },
     "metadata": {},
     "output_type": "display_data"
    },
    {
     "data": {
      "application/vnd.jupyter.widget-view+json": {
       "model_id": "c2b5f444106a4695895bab7f2a6ce9bf",
       "version_major": 2,
       "version_minor": 0
      },
      "text/plain": [
       "Validation: 0it [00:00, ?it/s]"
      ]
     },
     "metadata": {},
     "output_type": "display_data"
    },
    {
     "data": {
      "application/vnd.jupyter.widget-view+json": {
       "model_id": "9d02e547a9144e53896f0f6d2a3b42cc",
       "version_major": 2,
       "version_minor": 0
      },
      "text/plain": [
       "Validation: 0it [00:00, ?it/s]"
      ]
     },
     "metadata": {},
     "output_type": "display_data"
    },
    {
     "data": {
      "application/vnd.jupyter.widget-view+json": {
       "model_id": "fe8de0b31d7c4d0c8bf765015b509bc0",
       "version_major": 2,
       "version_minor": 0
      },
      "text/plain": [
       "Validation: 0it [00:00, ?it/s]"
      ]
     },
     "metadata": {},
     "output_type": "display_data"
    },
    {
     "data": {
      "application/vnd.jupyter.widget-view+json": {
       "model_id": "5e0061106b9047bf83d519dbd5a6d33a",
       "version_major": 2,
       "version_minor": 0
      },
      "text/plain": [
       "Validation: 0it [00:00, ?it/s]"
      ]
     },
     "metadata": {},
     "output_type": "display_data"
    },
    {
     "data": {
      "application/vnd.jupyter.widget-view+json": {
       "model_id": "e8a2b2a0d48d4101b73a4f7c782fe88c",
       "version_major": 2,
       "version_minor": 0
      },
      "text/plain": [
       "Validation: 0it [00:00, ?it/s]"
      ]
     },
     "metadata": {},
     "output_type": "display_data"
    },
    {
     "data": {
      "application/vnd.jupyter.widget-view+json": {
       "model_id": "7252ace65f664a998585f845638c775d",
       "version_major": 2,
       "version_minor": 0
      },
      "text/plain": [
       "Validation: 0it [00:00, ?it/s]"
      ]
     },
     "metadata": {},
     "output_type": "display_data"
    },
    {
     "data": {
      "application/vnd.jupyter.widget-view+json": {
       "model_id": "f5e231f5da6d4790af39d5a6b0ded1f3",
       "version_major": 2,
       "version_minor": 0
      },
      "text/plain": [
       "Validation: 0it [00:00, ?it/s]"
      ]
     },
     "metadata": {},
     "output_type": "display_data"
    },
    {
     "data": {
      "text/html": [
       "Waiting for W&B process to finish... <strong style=\"color:green\">(success).</strong>"
      ],
      "text/plain": [
       "<IPython.core.display.HTML object>"
      ]
     },
     "metadata": {},
     "output_type": "display_data"
    },
    {
     "data": {
      "application/vnd.jupyter.widget-view+json": {
       "model_id": "efa6224530984a1c8e31f4248b4a21c0",
       "version_major": 2,
       "version_minor": 0
      },
      "text/plain": [
       "VBox(children=(Label(value='0.943 MB of 0.943 MB uploaded (0.000 MB deduped)\\r'), FloatProgress(value=1.0, max…"
      ]
     },
     "metadata": {},
     "output_type": "display_data"
    },
    {
     "data": {
      "text/html": [
       "<style>\n",
       "    table.wandb td:nth-child(1) { padding: 0 10px; text-align: left ; width: auto;} td:nth-child(2) {text-align: left ; width: 100%}\n",
       "    .wandb-row { display: flex; flex-direction: row; flex-wrap: wrap; justify-content: flex-start; width: 100% }\n",
       "    .wandb-col { display: flex; flex-direction: column; flex-basis: 100%; flex: 1; padding: 10px; }\n",
       "    </style>\n",
       "<div class=\"wandb-row\"><div class=\"wandb-col\"><h3>Run history:</h3><br/><table class=\"wandb\"><tr><td>epoch</td><td>▁▁▁▁▂▂▂▂▂▃▃▃▃▃▃▄▄▄▄▄▅▅▅▅▅▅▆▆▆▆▆▇▇▇▇▇▇███</td></tr><tr><td>lr-AdamW</td><td>██▇▆▄▃▂▁██▇▆▄▃▂▁██▇▆▄▃▂▁██▇▆▄▃▂▁██▇▆▄▃▂▁</td></tr><tr><td>train/epoch_F1_0</td><td>▁▆▇▇▆▆▇▇▆▆▇▇▇▇▇▇▇▆▇▇▇▇█▇▇▇▇█████▇▇▇▇██▇█</td></tr><tr><td>train/epoch_F1_1</td><td>█▁▁▁▁▁▁▁▂▂▁▁▁▁▁▁▁▁▁▁▁▁▁▁▁▁▁▁▁▁▁▁▁▁▁▁▁▁▁▁</td></tr><tr><td>train/epoch_F1_2</td><td>▁▁▁▁▁▁▁▁▁▁▁▁▁▁▁▁▁▁▁▁▁▁▁▁▁▁▁▁▁▁▁▁▁▁▁▁▁▁▁▁</td></tr><tr><td>train/epoch_F1_3</td><td>▁▁▁▁▁▄▅▆▅▄▅▅▆▆▆▇▅▆▅▆▆▇▇▇▆▆▆▇▆▇▇█▆▇▆▇▇▇██</td></tr><tr><td>train/epoch_FN_0</td><td>█▄▂▂▂▂▂▂▂▂▂▂▂▂▁▁▂▂▁▂▁▂▁▁▂▂▁▁▁▁▁▁▂▁▁▁▁▁▁▁</td></tr><tr><td>train/epoch_FN_1</td><td>▁███████████████████████████████████████</td></tr><tr><td>train/epoch_FN_2</td><td>▁▁▁▁▁▁▁▁▁▁▁▁▁▁▁▁▁▁▁▁▁▁▁▁▁▁▁▁▁▁▁▁▁▁▁▁▁▁▁▁</td></tr><tr><td>train/epoch_FN_3</td><td>▇████▆▄▄▅▆▅▅▄▃▃▃▄▃▄▃▃▂▂▂▃▃▃▃▃▂▂▁▄▃▃▂▂▁▁▁</td></tr><tr><td>train/epoch_FP_0</td><td>█▂▂▁▁▁▁▁▁▁▁▁▁▁▁▁▁▁▁▁▁▁▁▁▁▁▁▁▁▁▁▁▁▁▁▁▁▁▁▁</td></tr><tr><td>train/epoch_FP_1</td><td>█▁▁▁▂▂▂▂▂▂▂▂▂▂▂▂▂▂▂▂▂▂▂▂▂▂▂▂▂▂▂▂▂▂▂▂▂▂▂▂</td></tr><tr><td>train/epoch_FP_2</td><td>█▁▂▃▃▃▃▃▃▃▃▃▄▄▄▄▄▄▄▄▄▄▅▅▄▄▄▅▅▅▅▅▄▄▅▅▅▅▅▅</td></tr><tr><td>train/epoch_FP_3</td><td>█▁▁▁▁▂▃▃▂▂▂▃▃▃▃▃▂▃▂▃▃▃▃▃▃▃▃▃▃▃▃▃▃▃▃▃▃▃▃▃</td></tr><tr><td>train/epoch_IoU_0</td><td>▁▅▆▆▆▆▇▇▆▆▆▇▇▇▇▇▇▆▇▇▇▇█▇▇▆▇█████▇▇▇▇████</td></tr><tr><td>train/epoch_IoU_1</td><td>█▁▁▁▁▁▁▁▂▂▁▁▁▁▁▁▁▁▁▁▁▁▁▁▁▁▁▁▁▁▁▁▁▁▁▁▁▁▁▁</td></tr><tr><td>train/epoch_IoU_2</td><td>▁▁▁▁▁▁▁▁▁▁▁▁▁▁▁▁▁▁▁▁▁▁▁▁▁▁▁▁▁▁▁▁▁▁▁▁▁▁▁▁</td></tr><tr><td>train/epoch_IoU_3</td><td>▁▁▁▁▁▄▅▅▄▃▄▅▅▆▆▆▅▆▅▆▆▇▇▆▆▆▆▆▆▇▇█▆▆▆▆▇▇██</td></tr><tr><td>train/epoch_Precision_0</td><td>▁▄▅▆▆▆▇▇▆▅▆▆▇▇▇▇▇▆▇▇▇█▇▇▇▇▇█████▇▇▇▇█▇██</td></tr><tr><td>train/epoch_Precision_1</td><td>▅▁▃▃▃▅▂▂▃▅▇▂▁▃▄▂▂▂█▂▂▁▂▅▁▄▂▂▂▂▁▅▅▂▂▂▂▁▂▂</td></tr><tr><td>train/epoch_Precision_2</td><td>▁▁▁▁▁▁▁▁▁▁▁▁▁▁▁▁▁▁▁▁▁▁▁▁▁▁▁▁▁▁▁▁▁▁▁▁▁▁▁▁</td></tr><tr><td>train/epoch_Precision_3</td><td>▁▁▁▁▁▆▇▆▇▆▇▇▇▇▇▇▆▇▇▇▇█▇▇▇▇▆▇█▇▇▇▇█▇▇▆▇█▇</td></tr><tr><td>train/epoch_Recall_0</td><td>▁▆▇▇▆▆▆▇▆▆▆▇▇▇▇▇▇▆▇▇▇▇█▇▇▆▇▇████▇▇▇▇██▇█</td></tr><tr><td>train/epoch_Recall_1</td><td>█▁▁▁▁▁▁▁▁▁▁▁▁▁▁▁▁▁▁▁▁▁▁▁▁▁▁▁▁▁▁▁▁▁▁▁▁▁▁▁</td></tr><tr><td>train/epoch_Recall_2</td><td>▁▁▁▁▁▁▁▁▁▁▁▁▁▁▁▁▁▁▁▁▁▁▁▁▁▁▁▁▁▁▁▁▁▁▁▁▁▁▁▁</td></tr><tr><td>train/epoch_Recall_3</td><td>▂▁▁▁▁▃▅▅▄▃▄▅▅▅▇▆▄▆▅▆▆▇▇▆▆▅▅▆▆▇▇█▅▆▆▆▇▇██</td></tr><tr><td>train/epoch_TN_0</td><td>▁▇▇█████████████████████████████████████</td></tr><tr><td>train/epoch_TN_1</td><td>▁███▇▇▇▇▇▇▇▇▇▇▇▇▇▇▇▇▇▇▇▇▇▇▇▇▇▇▇▇▇▇▇▇▇▇▇▇</td></tr><tr><td>train/epoch_TN_2</td><td>▁█▇▆▆▆▆▆▆▆▆▆▅▅▅▅▅▅▅▅▅▅▄▄▅▅▅▄▄▄▄▄▅▅▄▄▄▄▄▄</td></tr><tr><td>train/epoch_TN_3</td><td>▁████▇▆▆▇▇▇▆▆▆▆▆▇▆▇▆▆▆▆▆▆▆▆▆▆▆▆▆▆▆▆▆▆▆▆▆</td></tr><tr><td>train/epoch_TP_0</td><td>▁▅▇▇▇▇▇▇▇▇▇▇▇▇██▇▇█▇█▇██▇▇██████▇███████</td></tr><tr><td>train/epoch_TP_1</td><td>█▁▁▁▁▁▁▁▁▁▁▁▁▁▁▁▁▁▁▁▁▁▁▁▁▁▁▁▁▁▁▁▁▁▁▁▁▁▁▁</td></tr><tr><td>train/epoch_TP_2</td><td>▁▁▁▁▁▁▁▁▁▁▁▁▁▁▁▁▁▁▁▁▁▁▁▁▁▁▁▁▁▁▁▁▁▁▁▁▁▁▁▁</td></tr><tr><td>train/epoch_TP_3</td><td>▂▁▁▁▁▃▅▅▄▃▄▄▅▆▆▆▅▆▅▆▆▇▇▇▆▆▆▆▆▇▇█▅▆▆▇▇███</td></tr><tr><td>train/epoch_loss</td><td>█▄▃▂▁▃▃▃▂▁▁▂▃▃▂▁▂▂▃▂▂▁▃▁▂▃▃▃▃▂▁▂▃▁▃▃▃▁▁▂</td></tr><tr><td>train/iter_F1_0</td><td>▆▄▇▃▂▄▇█▇▄▇▆█▇▇▆▄▆███▃▅▁▅█▅▇▇▆▇█▇▇██▇█▇▇</td></tr><tr><td>train/iter_F1_1</td><td>▁▁▁▁▁▃▁▁▁▁▁▁▁▁▁▁▁▁▁▁▁▂▁▃▁▁▁▁▁▁▁▁█▁▁▁▁▁▁▄</td></tr><tr><td>train/iter_F1_2</td><td>▁▁▁▁▁▁▁▁▁▁▁▁▁▁▁▁▁▁▁▁▁▁▁▁▁▁▁▁▁▁▁▁▁▁▁▁▁▁▁▁</td></tr><tr><td>train/iter_F1_3</td><td>▁▁▁▁▁▁▃▁▁▃▂▁▁▁▁▅▂▃▁▄▁▄▅▃▁▁▂▁▁▆▆▁▅▃▅▁█▁▁▂</td></tr><tr><td>train/iter_FN_0</td><td>▁▁▂▆▃▃▁▂▂▁▇▁▃▂▁▃▂▁▂▂▃▅▃▇▁▁▄▁▁█▁▁▂▁▁▁▂▁▁▂</td></tr><tr><td>train/iter_FN_1</td><td>▂▁▆▃▂▃▅▅▃▂▆▂▇▄▃▄▃▃█▄▄▇▆▅▂▄▆▁▁█▄▃▂▁▅▂▁▁▃▅</td></tr><tr><td>train/iter_FN_2</td><td>▁▁▁▁▁▁▁▁▁▁▁▁▁▁▁▁▁▁▁▁▁▁▁▁▁▁▁▁▁▁▁▁▁▁▁▁▁▁▁▁</td></tr><tr><td>train/iter_FN_3</td><td>▃▄█▃▃▂▆▅▃▃▂▂▄▁▅▃▃▅▅▃▂▅▆▂▄▅▆▃▂▃▅▃▃▃▇▃▁▃▃▃</td></tr><tr><td>train/iter_FP_0</td><td>▃▂▂▂▁▁▂▃▄█▅▄▄▄▁▃▁▂▆▃▆▂▂▁▁▁▂▁▁▅▁▃▁▁▃▂▂▁▁▅</td></tr><tr><td>train/iter_FP_1</td><td>▁▁▁▃▂▃▁▁▁▁▃▁▁▁▁▂▂▁▁▃▁▇▄█▁▁▁▁▁▇▁▁▁▁▁▁▁▁▁▁</td></tr><tr><td>train/iter_FP_2</td><td>▁▂▂▃▂▁▃▄▃▃▅▃▇▄▃▄▃▂█▄▆▃▅▂▃▄▄▂▂▆▃▄▂▂▅▂▂▂▄▅</td></tr><tr><td>train/iter_FP_3</td><td>▁▁▁▁▁▃▁▁▁▃▅▁▁▁▁▁▁▁▁▃▁█▃█▁▂▄▁▁▄▂▁▁▂▂▁▁▁▁▁</td></tr><tr><td>train/iter_IoU_0</td><td>▅▃▆▂▁▃▆█▇▃▇▆█▇▇▆▃▅▇▇█▂▄▁▄█▄▇▇▅▇█▆▆▇▇▇▇▇▆</td></tr><tr><td>train/iter_IoU_1</td><td>▁▁▁▁▁▃▁▁▁▁▁▁▁▁▁▁▁▁▁▁▁▂▁▃▁▁▁▁▁▁▁▁█▁▁▁▁▁▁▄</td></tr><tr><td>train/iter_IoU_2</td><td>▁▁▁▁▁▁▁▁▁▁▁▁▁▁▁▁▁▁▁▁▁▁▁▁▁▁▁▁▁▁▁▁▁▁▁▁▁▁▁▁</td></tr><tr><td>train/iter_IoU_3</td><td>▁▁▁▁▁▁▂▁▁▂▂▁▁▁▁▄▂▃▁▄▁▃▄▃▁▁▂▁▁▆▆▁▅▃▅▁█▁▁▂</td></tr><tr><td>train/iter_Precision_0</td><td>▄▂▆▆▂█▆▇▆▁▇▄▇▆▆▆▆▅▆▇▇▅▆▇▂█▇█▇▆▇▇█▅▆▆▇▆▆▆</td></tr><tr><td>train/iter_Precision_1</td><td>▁▁▁▁▁▁▁▁▁▁▁▁▁▁▁▁▁▁▁▁▁▁▁▁▁▁▁▁▁▁▁▁█▁▁▁▁▁▁▁</td></tr><tr><td>train/iter_Precision_2</td><td>▁▁▁▁▁▁▁▁▁▁▁▁▁▁▁▁▁▁▁▁▁▁▁▁▁▁▁▁▁▁▁▁▁▁▁▁▁▁▁▁</td></tr><tr><td>train/iter_Precision_3</td><td>▁▁▁▁▁▁█▁▄▃▂▁▂▁▁▆▄▇▁▄▁▃▅▂▁▁▂▁▁▄▇▁█▃▇▁▅▁▁▄</td></tr><tr><td>train/iter_Recall_0</td><td>▇▅▆▂▁▃▆▇▇▇▆█▇▇▇▅▃▆█▇█▂▄▁▆▇▄▆▇▅▇█▆▇██▆█▇▇</td></tr><tr><td>train/iter_Recall_1</td><td>▁▁▁▁▁▃▁▁▁▁▁▁▁▁▁▁▁▁▁▁▁▂▂▄▁▁▁▁▁▁▁▁█▁▁▁▁▁▁▄</td></tr><tr><td>train/iter_Recall_2</td><td>▁▁▁▁▁▁▁▁▁▁▁▁▁▁▁▁▁▁▁▁▁▁▁▁▁▁▁▁▁▁▁▁▁▁▁▁▁▁▁▁</td></tr><tr><td>train/iter_Recall_3</td><td>▁▁▁▁▁▁▂▁▁▂▄▁▁▁▁▃▂▂▁▄▁▄▄▅▁▁▂▁▁▇▅▁▄▂▄▁█▁▁▂</td></tr><tr><td>train/iter_TN_0</td><td>██▇▆▇▇█▇▆▇▁▇▄▅█▆██▅▆▃▆▇▆█▇▆██▄█▆▇█▇█▇██▆</td></tr><tr><td>train/iter_TN_1</td><td>▇█▅▆▇▆▅▆▇█▄▇▄▆▇▆▆▆▄▅▆▂▄▃▇▆▅██▁▆▆▇█▅███▇▅</td></tr><tr><td>train/iter_TN_2</td><td>█▇▇▆▇█▆▅▆▆▄▆▂▅▆▅▆▇▁▅▃▆▄▇▆▅▅▇▇▃▆▅▇▇▄▇▇▇▅▄</td></tr><tr><td>train/iter_TN_3</td><td>▆▆▃▆▇▆▄▅▇▅▆▇▆█▅▆▆▅▅▅▇▁▂▄▆▅▃▆▇▄▄▇▆▆▂▇█▇▆▆</td></tr><tr><td>train/iter_TP_0</td><td>▁▁▂▁▁▁▁▃▃▁█▂▅▄▁▂▁▁▄▃▇▁▂▁▁▂▂▁▁▄▁▃▂▁▂▁▂▁▁▃</td></tr><tr><td>train/iter_TP_1</td><td>▁▁▁▁▁▄▁▁▁▁▁▁▁▁▁▁▁▁▁▁▁▄▂▇▁▁▁▁▁▂▁▁█▁▁▁▁▁▁▇</td></tr><tr><td>train/iter_TP_2</td><td>▁▁▁▁▁▁▁▁▁▁▁▁▁▁▁▁▁▁▁▁▁▁▁▁▁▁▁▁▁▁▁▁▁▁▁▁▁▁▁▁</td></tr><tr><td>train/iter_TP_3</td><td>▁▁▁▁▁▁▃▁▁▂▂▁▁▁▁▃▂▃▁▄▁▆▇▃▁▁▂▁▁█▇▁▃▂█▁▂▁▁▂</td></tr><tr><td>train/iter_loss</td><td>▂▁████▁▁▁▅▇▁▁▁█▁██▁█▁███▁▁█▁▁██▁▅▅▄▁█▁▁█</td></tr><tr><td>train/mean_F1</td><td>▁▄▅▅▅▆▇▇▆▆▆▇▇▇▇▇▆▇▇▇▇▇█▇▇▇▇▇████▇▇▇▇████</td></tr><tr><td>train/mean_IoU</td><td>▁▄▅▅▅▆▇▇▆▆▆▆▇▇▇▇▆▆▇▇▇▇█▇▇▆▇▇████▇▇▇▇████</td></tr><tr><td>trainer/global_step</td><td>▁▁▁▁▂▂▂▂▂▃▃▃▃▃▃▄▄▄▄▄▄▅▅▅▅▅▆▆▆▆▆▆▇▇▇▇▇███</td></tr><tr><td>val/epoch_F1_0</td><td>▁▇▇▅▇▇▆▇▆▇▇█▆▇▆▇▄▇▆▆▇█▇▇█▇▆█▆█▇▇▇▇█▇█▇▇▇</td></tr><tr><td>val/epoch_F1_1</td><td>▁▁▁▂▂▂▂▂▃▁▂▂▃▃▃▃▅▂▂█▃▃▃▃▃▄▄▂▄▃▄▄▃▂▂▃▄▃▃▃</td></tr><tr><td>val/epoch_F1_2</td><td>▁▁▁▁▁▁▁▁▁▁▁▁▁▁▁▁▁▁▁▁▁▁▁▁▁▁▁▁▁▁▁▁▁▁▁▁▁▁▁▁</td></tr><tr><td>val/epoch_F1_3</td><td>▁▁▁▁▁▄▅▅▃▄▅▃▇▆▅▆█▅▃▅▅▅▆▆▄▅▅▅▆▆▆▆▅▅▄▆▆▆▆▇</td></tr><tr><td>val/epoch_FN_0</td><td>█▃▃▃▂▂▃▃▂▂▂▁▃▂▃▂▅▃▃▃▂▂▃▂▂▂▂▂▃▂▃▂▃▃▁▂▂▂▂▂</td></tr><tr><td>val/epoch_FN_1</td><td>█████▇▇▇▇███▆▇▇▆▄█▇▁▇▇▆▇▇▆▆▇▆▆▆▆▇▇█▇▆▇▇▇</td></tr><tr><td>val/epoch_FN_2</td><td>▁▁▁▁▁▁▁▁▁▁▁▁▁▁▁▁▁▁▁▁▁▁▁▁▁▁▁▁▁▁▁▁▁▁▁▁▁▁▁▁</td></tr><tr><td>val/epoch_FN_3</td><td>█████▅▄▅▆▇▃▇▂▅▅▄▁▅▇▄▅▅▅▄▆▆▅▅▃▅▄▄▅▅▆▄▄▄▄▄</td></tr><tr><td>val/epoch_FP_0</td><td>▁▅▅▆▅▇▃▄█▇▄█▅▅▄▄▃▃▃▃▄▆▃▄▅█▄▄▃▃▃▃▃▅▆▄▄▃▄▃</td></tr><tr><td>val/epoch_FP_1</td><td>▁▁▁▂▃▃▄▃▃▂▃▂▅▄▄▄▇▂▂█▄▄▄▄▃▄▅▃▅▄▄▄▃▃▂▄▄▄▄▄</td></tr><tr><td>val/epoch_FP_2</td><td>▂▁▃▃▆▅▅▄▃▅▄▆▅▄▃▄▁▃▄▂▄▆▅▄▆▄▅▆▄▅▅▅▆▅█▄▅▄▅▅</td></tr><tr><td>val/epoch_FP_3</td><td>▁▁▁▁▂▅▆▆▄▃█▃█▆▅▇█▅▃▅▆▆▆▆▅▆▅▇█▆▆▇▅▆▃▇▆▆▆▇</td></tr><tr><td>val/epoch_IoU_0</td><td>▁▇▇▅▇▇▇▇▆▇▇█▆▇▇▇▄▇▆▆▇█▇▇█▇▇█▆█▇▇▇▇█▇█▇██</td></tr><tr><td>val/epoch_IoU_1</td><td>▁▁▁▂▂▂▂▂▃▁▂▂▃▃▃▃▅▂▂█▃▃▃▃▃▄▄▂▄▃▄▃▃▂▂▃▄▃▃▃</td></tr><tr><td>val/epoch_IoU_2</td><td>▁▁▁▁▁▁▁▁▁▁▁▁▁▁▁▁▁▁▁▁▁▁▁▁▁▁▁▁▁▁▁▁▁▁▁▁▁▁▁▁</td></tr><tr><td>val/epoch_IoU_3</td><td>▁▁▁▁▁▄▅▅▃▄▆▃▇▆▆▆█▅▃▅▅▆▆▆▅▅▅▅▇▆▆▇▅▅▄▆▇▇▇▇</td></tr><tr><td>val/epoch_Precision_0</td><td>█▄▃▃▅▁▆▅▃▃▅▂▃▄▆▅▂██▆▅▃▇▆▄▁▄▆▆▅▇▆▇▅▄▇▅▆▆▆</td></tr><tr><td>val/epoch_Precision_1</td><td>▁▁▁▁▂▁▁▁█▁▁▁▂▁▁▁▂▂▂▆▂▁▂▂▂▂▂▁▂▂▂▂▂▂▁▂▂▂▂▂</td></tr><tr><td>val/epoch_Precision_2</td><td>▁▁▁▁▁▁▁▁▁▁▁▁▁▁▁▁▁▁▁▁▁▁▁▁▁▁▁▁▁▁▁▁▁▁▁▁▁▁▁▁</td></tr><tr><td>val/epoch_Precision_3</td><td>▁▁▁▁▁▅▅▅█▄▆▅▆▅▅▆█▅▄▆▅▅▆▇▅▅▅▆▆▆▇▆▅▅▅▅▆▆▇▆</td></tr><tr><td>val/epoch_Recall_0</td><td>▁▆▆▅▇▇▆▆▆▇▆█▆▇▆▆▄▆▅▅▇▇▆▆▇▇▆▇▅▇▆▆▆▆▇▆▇▆▇▇</td></tr><tr><td>val/epoch_Recall_1</td><td>▁▁▁▁▂▂▂▂▂▁▂▁▃▂▃▃▄▁▂█▃▂▃▃▂▃▄▂▃▃▃▃▂▂▂▃▄▃▂▃</td></tr><tr><td>val/epoch_Recall_2</td><td>▁▁▁▁▁▁▁▁▁▁▁▁▁▁▁▁▁▁▁▁▁▁▁▁▁▁▁▁▁▁▁▁▁▁▁▁▁▁▁▁</td></tr><tr><td>val/epoch_Recall_3</td><td>▁▁▁▁▁▄▅▅▃▄▆▃█▆▆▇█▅▃▅▆▆▇▇▅▆▅▇▇█▇▇▅▇▄▇▇▇▇▇</td></tr><tr><td>val/epoch_TN_0</td><td>█▄▄▃▄▂▆▅▁▂▅▁▄▄▅▅▆▆▆▆▅▃▆▅▄▁▅▅▆▆▆▆▆▄▃▅▅▆▅▆</td></tr><tr><td>val/epoch_TN_1</td><td>███▇▆▆▅▆▆▇▆▇▄▅▅▅▂▇▇▁▅▅▅▅▆▅▄▆▄▅▅▅▆▆▇▅▅▅▅▅</td></tr><tr><td>val/epoch_TN_2</td><td>▇█▆▆▃▄▄▅▆▄▅▃▄▅▆▅█▆▅▇▅▃▄▅▃▅▄▃▅▄▄▄▃▄▁▅▄▅▄▄</td></tr><tr><td>val/epoch_TN_3</td><td>████▇▄▃▃▅▆▁▆▁▃▄▂▁▄▆▄▃▃▃▃▄▃▄▂▁▃▃▂▄▃▆▂▃▃▃▂</td></tr><tr><td>val/epoch_TP_0</td><td>▁▆▆▆▇▇▆▆▇▇▇█▆▇▆▇▄▆▆▆▇▇▆▇▇▇▇▇▆▇▆▇▆▆█▇▇▇▇▇</td></tr><tr><td>val/epoch_TP_1</td><td>▁▁▁▁▁▂▂▂▂▁▁▁▃▂▂▃▅▁▂█▂▂▃▂▂▃▃▂▃▃▃▃▂▂▁▂▃▂▂▂</td></tr><tr><td>val/epoch_TP_2</td><td>▁▁▁▁▁▁▁▁▁▁▁▁▁▁▁▁▁▁▁▁▁▁▁▁▁▁▁▁▁▁▁▁▁▁▁▁▁▁▁▁</td></tr><tr><td>val/epoch_TP_3</td><td>▁▁▁▁▁▄▅▄▃▂▆▂▇▄▄▅█▄▂▅▄▄▄▅▃▃▄▄▆▄▅▅▄▄▃▅▅▅▅▅</td></tr><tr><td>val/epoch_loss</td><td>█▅▄▃▂▂▂▁▃▃▂▂▂▁▁▁▅▂▂▃▁▁▁▁▂▂▁▂▁▁▁▁▂▂▂▁▁▂▁▁</td></tr><tr><td>val/iter_F1_0</td><td>▁▇▇▅▇▇▆▇▆▇▇█▆▇▆▇▄▇▆▆▇▇▇▇█▇▆█▆▇▇▇▇▇█▇█▇▇▇</td></tr><tr><td>val/iter_F1_1</td><td>▁▁▁▂▂▂▂▂▃▁▂▂▃▃▃▃▅▂▂█▃▃▃▃▃▄▄▂▄▃▄▄▃▂▂▃▄▃▃▃</td></tr><tr><td>val/iter_F1_2</td><td>▁▁▁▁▁▁▁▁▁▁▁▁▁▁▁▁▁▁▁▁▁▁▁▁▁▁▁▁▁▁▁▁▁▁▁▁▁▁▁▁</td></tr><tr><td>val/iter_F1_3</td><td>▁▁▁▁▁▄▅▅▃▄▅▃▇▆▅▆█▅▃▅▅▅▆▆▄▅▅▅▆▆▆▆▅▅▄▆▆▆▆▇</td></tr><tr><td>val/iter_FN_0</td><td>█▃▃▃▂▂▃▃▂▂▃▁▃▂▃▂▅▃▃▃▂▂▃▂▂▂▂▂▃▂▃▂▃▃▁▂▂▂▂▂</td></tr><tr><td>val/iter_FN_1</td><td>█████▇▇▇▇███▆▇▇▆▄█▇▁▇▇▆▇▇▆▆▇▆▆▆▆▇▇█▇▆▇▇▇</td></tr><tr><td>val/iter_FN_2</td><td>▁▁▁▁▁▁▁▁▁▁▁▁▁▁▁▁▁▁▁▁▁▁▁▁▁▁▁▁▁▁▁▁▁▁▁▁▁▁▁▁</td></tr><tr><td>val/iter_FN_3</td><td>█████▅▄▅▆▇▃▇▂▅▅▄▁▅▇▄▅▅▅▄▆▆▅▅▃▅▄▄▅▅▆▄▄▄▄▄</td></tr><tr><td>val/iter_FP_0</td><td>▁▅▅▆▅▇▃▄█▇▄█▅▅▄▄▃▃▃▃▄▆▃▄▅█▄▄▃▃▃▃▃▅▆▄▄▃▄▃</td></tr><tr><td>val/iter_FP_1</td><td>▁▁▁▂▃▃▄▃▃▂▃▂▅▄▄▅▇▂▂█▄▄▄▄▃▄▅▃▅▄▄▄▃▃▂▄▄▄▄▄</td></tr><tr><td>val/iter_FP_2</td><td>▂▁▃▃▆▅▅▄▃▅▄▆▅▄▃▄▁▃▄▂▄▅▅▄▆▄▅▆▄▅▅▅▆▅█▄▅▄▅▅</td></tr><tr><td>val/iter_FP_3</td><td>▁▁▁▁▂▅▆▆▄▃█▃█▆▅▇█▅▃▅▆▆▆▆▅▆▅▇█▆▆▇▅▆▃▇▆▆▆▇</td></tr><tr><td>val/iter_IoU_0</td><td>▁▇▇▅▇▇▆▇▆▇▇█▆▇▇▇▄▇▆▆▇█▇▇█▇▇█▆█▇▇▇▇█▇█▇██</td></tr><tr><td>val/iter_IoU_1</td><td>▁▁▁▂▂▂▂▂▃▁▂▂▃▃▃▃▅▂▂█▃▃▃▃▃▄▄▂▄▃▄▄▃▂▂▃▄▃▃▃</td></tr><tr><td>val/iter_IoU_2</td><td>▁▁▁▁▁▁▁▁▁▁▁▁▁▁▁▁▁▁▁▁▁▁▁▁▁▁▁▁▁▁▁▁▁▁▁▁▁▁▁▁</td></tr><tr><td>val/iter_IoU_3</td><td>▁▁▁▁▁▄▅▅▃▄▆▃▇▆▆▆█▅▃▅▅▆▆▆▅▅▅▅▇▆▆▇▅▅▄▆▇▇▇▇</td></tr><tr><td>val/iter_Precision_0</td><td>█▄▃▃▅▁▆▅▃▃▅▂▃▄▆▅▂██▆▅▃▇▆▄▁▄▆▆▅▇▆▇▅▄▇▅▆▆▆</td></tr><tr><td>val/iter_Precision_1</td><td>▁▁▁▁▂▁▁▁█▁▁▁▂▁▁▁▂▂▂▆▂▁▂▂▂▂▂▁▂▂▂▂▂▂▁▂▂▂▂▂</td></tr><tr><td>val/iter_Precision_2</td><td>▁▁▁▁▁▁▁▁▁▁▁▁▁▁▁▁▁▁▁▁▁▁▁▁▁▁▁▁▁▁▁▁▁▁▁▁▁▁▁▁</td></tr><tr><td>val/iter_Precision_3</td><td>▁▁▁▁▁▅▅▅█▄▆▅▆▅▅▆█▅▄▆▅▅▆▇▅▅▅▆▆▆▇▆▅▅▅▅▆▆▇▆</td></tr><tr><td>val/iter_Recall_0</td><td>▁▆▆▅▇▇▆▆▆▇▆█▆▆▆▆▄▅▅▅▇▇▆▆▇▇▆▇▅▇▆▆▆▆▇▆▇▆▇▇</td></tr><tr><td>val/iter_Recall_1</td><td>▁▁▁▁▂▂▂▂▂▁▂▁▃▂▃▃▄▁▂█▃▂▃▃▂▃▄▂▃▃▃▃▂▂▂▃▄▃▂▃</td></tr><tr><td>val/iter_Recall_2</td><td>▁▁▁▁▁▁▁▁▁▁▁▁▁▁▁▁▁▁▁▁▁▁▁▁▁▁▁▁▁▁▁▁▁▁▁▁▁▁▁▁</td></tr><tr><td>val/iter_Recall_3</td><td>▁▁▁▁▁▄▅▅▃▄▆▃█▆▆▇█▅▃▅▆▆▇▇▅▆▅▇▇█▇▇▅▇▄▇▇▇▇▇</td></tr><tr><td>val/iter_TN_0</td><td>█▄▄▃▄▂▆▅▁▂▅▁▄▄▅▅▆▆▆▆▅▃▆▅▄▁▅▅▆▆▆▆▆▄▃▅▅▆▅▆</td></tr><tr><td>val/iter_TN_1</td><td>███▇▆▆▅▆▆▇▆▇▄▅▅▄▂▇▇▁▅▅▅▅▆▅▄▆▄▅▅▅▆▆▇▅▅▅▅▅</td></tr><tr><td>val/iter_TN_2</td><td>▇█▆▆▃▄▄▅▆▄▅▃▄▅▆▅█▆▅▇▅▄▄▅▃▅▄▃▅▄▄▄▃▄▁▅▄▅▄▄</td></tr><tr><td>val/iter_TN_3</td><td>████▇▄▃▃▅▆▁▆▁▃▄▂▁▄▆▄▃▃▃▃▄▃▄▂▁▃▃▂▄▃▆▂▃▃▃▂</td></tr><tr><td>val/iter_TP_0</td><td>▁▆▆▆▇▇▆▆▇▇▆█▆▇▆▇▄▆▆▆▇▇▆▇▇▇▇▇▆▇▆▇▆▆█▇▇▇▇▇</td></tr><tr><td>val/iter_TP_1</td><td>▁▁▁▁▁▂▂▂▂▁▁▁▃▂▂▃▅▁▂█▂▂▃▂▂▃▃▂▃▃▃▃▂▂▁▂▃▂▂▂</td></tr><tr><td>val/iter_TP_2</td><td>▁▁▁▁▁▁▁▁▁▁▁▁▁▁▁▁▁▁▁▁▁▁▁▁▁▁▁▁▁▁▁▁▁▁▁▁▁▁▁▁</td></tr><tr><td>val/iter_TP_3</td><td>▁▁▁▁▁▄▅▄▃▂▆▂▇▄▄▅█▄▂▅▄▄▄▅▃▃▄▄▆▄▅▅▄▄▃▅▅▅▅▅</td></tr><tr><td>val/iter_loss</td><td>█▅▄▃▂▂▂▁▃▃▂▂▂▁▁▁▅▂▂▃▁▁▁▁▂▂▁▂▁▁▁▁▂▂▂▁▁▁▁▁</td></tr><tr><td>val/mean_F1</td><td>▁▇▆▅▇▇▇▇▆▇▇█▇▇▇▇▅▇▆▆▇█▇▇█▇▇█▇███▇▇█▇████</td></tr><tr><td>val/mean_IoU</td><td>▁▇▆▅▇▇▇▇▆▇▇█▇▇▇▇▅▇▆▆▇█▇▇█▇▇█▇█▇█▇▇█▇████</td></tr></table><br/></div><div class=\"wandb-col\"><h3>Run summary:</h3><br/><table class=\"wandb\"><tr><td>epoch</td><td>99</td></tr><tr><td>lr-AdamW</td><td>2e-05</td></tr><tr><td>train/epoch_F1_0</td><td>0.67792</td></tr><tr><td>train/epoch_F1_1</td><td>0.00052</td></tr><tr><td>train/epoch_F1_2</td><td>0.0</td></tr><tr><td>train/epoch_F1_3</td><td>0.13057</td></tr><tr><td>train/epoch_FN_0</td><td>33487.22656</td></tr><tr><td>train/epoch_FN_1</td><td>153593.20312</td></tr><tr><td>train/epoch_FN_2</td><td>0.0</td></tr><tr><td>train/epoch_FN_3</td><td>58558.87109</td></tr><tr><td>train/epoch_FP_0</td><td>17141.65039</td></tr><tr><td>train/epoch_FP_1</td><td>20873.34961</td></tr><tr><td>train/epoch_FP_2</td><td>135590.28125</td></tr><tr><td>train/epoch_FP_3</td><td>19867.13867</td></tr><tr><td>train/epoch_IoU_0</td><td>0.56053</td></tr><tr><td>train/epoch_IoU_1</td><td>0.00026</td></tr><tr><td>train/epoch_IoU_2</td><td>0.0</td></tr><tr><td>train/epoch_IoU_3</td><td>0.08284</td></tr><tr><td>train/epoch_Precision_0</td><td>0.79911</td></tr><tr><td>train/epoch_Precision_1</td><td>0.00174</td></tr><tr><td>train/epoch_Precision_2</td><td>0.0</td></tr><tr><td>train/epoch_Precision_3</td><td>0.26138</td></tr><tr><td>train/epoch_Recall_0</td><td>0.65647</td></tr><tr><td>train/epoch_Recall_1</td><td>0.00036</td></tr><tr><td>train/epoch_Recall_2</td><td>0.0</td></tr><tr><td>train/epoch_Recall_3</td><td>0.11982</td></tr><tr><td>train/epoch_TN_0</td><td>6412398.5</td></tr><tr><td>train/epoch_TN_1</td><td>6379084.5</td></tr><tr><td>train/epoch_TN_2</td><td>6418009.5</td></tr><tr><td>train/epoch_TN_3</td><td>6466821.0</td></tr><tr><td>train/epoch_TP_0</td><td>90572.66406</td></tr><tr><td>train/epoch_TP_1</td><td>48.94375</td></tr><tr><td>train/epoch_TP_2</td><td>0.0</td></tr><tr><td>train/epoch_TP_3</td><td>8352.98145</td></tr><tr><td>train/epoch_loss</td><td>0.39457</td></tr><tr><td>train/iter_F1_0</td><td>0.75544</td></tr><tr><td>train/iter_F1_1</td><td>0.00126</td></tr><tr><td>train/iter_F1_2</td><td>0.0</td></tr><tr><td>train/iter_F1_3</td><td>0.08551</td></tr><tr><td>train/iter_FN_0</td><td>32529.0</td></tr><tr><td>train/iter_FN_1</td><td>200947.0</td></tr><tr><td>train/iter_FN_2</td><td>0.0</td></tr><tr><td>train/iter_FN_3</td><td>62127.0</td></tr><tr><td>train/iter_FP_0</td><td>39404.0</td></tr><tr><td>train/iter_FP_1</td><td>10450.0</td></tr><tr><td>train/iter_FP_2</td><td>190173.0</td></tr><tr><td>train/iter_FP_3</td><td>3878.0</td></tr><tr><td>train/iter_IoU_0</td><td>0.60699</td></tr><tr><td>train/iter_IoU_1</td><td>0.00063</td></tr><tr><td>train/iter_IoU_2</td><td>0.0</td></tr><tr><td>train/iter_IoU_3</td><td>0.04467</td></tr><tr><td>train/iter_Precision_0</td><td>0.73818</td></tr><tr><td>train/iter_Precision_1</td><td>0.01257</td></tr><tr><td>train/iter_Precision_2</td><td>0.0</td></tr><tr><td>train/iter_Precision_3</td><td>0.44314</td></tr><tr><td>train/iter_Recall_0</td><td>0.77352</td></tr><tr><td>train/iter_Recall_1</td><td>0.00066</td></tr><tr><td>train/iter_Recall_2</td><td>0.0</td></tr><tr><td>train/iter_Recall_3</td><td>0.04732</td></tr><tr><td>train/iter_TN_0</td><td>6370569.0</td></tr><tr><td>train/iter_TN_1</td><td>6342070.0</td></tr><tr><td>train/iter_TN_2</td><td>6363427.0</td></tr><tr><td>train/iter_TN_3</td><td>6484509.0</td></tr><tr><td>train/iter_TP_0</td><td>111098.0</td></tr><tr><td>train/iter_TP_1</td><td>133.0</td></tr><tr><td>train/iter_TP_2</td><td>0.0</td></tr><tr><td>train/iter_TP_3</td><td>3086.0</td></tr><tr><td>train/iter_loss</td><td>0.49119</td></tr><tr><td>train/mean_F1</td><td>0.20225</td></tr><tr><td>train/mean_IoU</td><td>0.16091</td></tr><tr><td>trainer/global_step</td><td>15999</td></tr><tr><td>val/epoch_F1_0</td><td>0.67998</td></tr><tr><td>val/epoch_F1_1</td><td>0.00042</td></tr><tr><td>val/epoch_F1_2</td><td>0.0</td></tr><tr><td>val/epoch_F1_3</td><td>0.06159</td></tr><tr><td>val/epoch_FN_0</td><td>37602.65625</td></tr><tr><td>val/epoch_FN_1</td><td>142239.26562</td></tr><tr><td>val/epoch_FN_2</td><td>0.0</td></tr><tr><td>val/epoch_FN_3</td><td>54152.82812</td></tr><tr><td>val/epoch_FP_0</td><td>17992.63281</td></tr><tr><td>val/epoch_FP_1</td><td>18154.46289</td></tr><tr><td>val/epoch_FP_2</td><td>125252.24219</td></tr><tr><td>val/epoch_FP_3</td><td>15932.6582</td></tr><tr><td>val/epoch_IoU_0</td><td>0.54747</td></tr><tr><td>val/epoch_IoU_1</td><td>0.00021</td></tr><tr><td>val/epoch_IoU_2</td><td>0.0</td></tr><tr><td>val/epoch_IoU_3</td><td>0.03583</td></tr><tr><td>val/epoch_Precision_0</td><td>0.79655</td></tr><tr><td>val/epoch_Precision_1</td><td>0.00125</td></tr><tr><td>val/epoch_Precision_2</td><td>0.0</td></tr><tr><td>val/epoch_Precision_3</td><td>0.12165</td></tr><tr><td>val/epoch_Recall_0</td><td>0.64013</td></tr><tr><td>val/epoch_Recall_1</td><td>0.00033</td></tr><tr><td>val/epoch_Recall_2</td><td>0.0</td></tr><tr><td>val/epoch_Recall_3</td><td>0.06101</td></tr><tr><td>val/epoch_TN_0</td><td>6291559.0</td></tr><tr><td>val/epoch_TN_1</td><td>6273266.5</td></tr><tr><td>val/epoch_TN_2</td><td>6308464.0</td></tr><tr><td>val/epoch_TN_3</td><td>6360774.0</td></tr><tr><td>val/epoch_TP_0</td><td>86562.60938</td></tr><tr><td>val/epoch_TP_1</td><td>56.78049</td></tr><tr><td>val/epoch_TP_2</td><td>0.0</td></tr><tr><td>val/epoch_TP_3</td><td>2856.87793</td></tr><tr><td>val/epoch_loss</td><td>0.3401</td></tr><tr><td>val/iter_F1_0</td><td>0.67644</td></tr><tr><td>val/iter_F1_1</td><td>0.00043</td></tr><tr><td>val/iter_F1_2</td><td>0.0</td></tr><tr><td>val/iter_F1_3</td><td>0.06274</td></tr><tr><td>val/iter_FN_0</td><td>38132.66406</td></tr><tr><td>val/iter_FN_1</td><td>144073.39062</td></tr><tr><td>val/iter_FN_2</td><td>0.0</td></tr><tr><td>val/iter_FN_3</td><td>54696.08594</td></tr><tr><td>val/iter_FP_0</td><td>18169.19922</td></tr><tr><td>val/iter_FP_1</td><td>18492.74609</td></tr><tr><td>val/iter_FP_2</td><td>126885.78906</td></tr><tr><td>val/iter_FP_3</td><td>16229.54004</td></tr><tr><td>val/iter_IoU_0</td><td>0.54331</td></tr><tr><td>val/iter_IoU_1</td><td>0.00021</td></tr><tr><td>val/iter_IoU_2</td><td>0.0</td></tr><tr><td>val/iter_IoU_3</td><td>0.0365</td></tr><tr><td>val/iter_Precision_0</td><td>0.79509</td></tr><tr><td>val/iter_Precision_1</td><td>0.00128</td></tr><tr><td>val/iter_Precision_2</td><td>0.0</td></tr><tr><td>val/iter_Precision_3</td><td>0.12392</td></tr><tr><td>val/iter_Recall_0</td><td>0.63592</td></tr><tr><td>val/iter_Recall_1</td><td>0.00033</td></tr><tr><td>val/iter_Recall_2</td><td>0.0</td></tr><tr><td>val/iter_Recall_3</td><td>0.06215</td></tr><tr><td>val/iter_TN_0</td><td>6379698.5</td></tr><tr><td>val/iter_TN_1</td><td>6360447.0</td></tr><tr><td>val/iter_TN_2</td><td>6396186.0</td></tr><tr><td>val/iter_TN_3</td><td>6449234.5</td></tr><tr><td>val/iter_TP_0</td><td>87070.16406</td></tr><tr><td>val/iter_TP_1</td><td>57.83851</td></tr><tr><td>val/iter_TP_2</td><td>0.0</td></tr><tr><td>val/iter_TP_3</td><td>2910.11182</td></tr><tr><td>val/iter_loss</td><td>0.34201</td></tr><tr><td>val/mean_F1</td><td>0.1855</td></tr><tr><td>val/mean_IoU</td><td>0.14588</td></tr></table><br/></div></div>"
      ],
      "text/plain": [
       "<IPython.core.display.HTML object>"
      ]
     },
     "metadata": {},
     "output_type": "display_data"
    },
    {
     "data": {
      "text/html": [
       "Synced <strong style=\"color:#cdcd00\">3090_fold0</strong>: <a href=\"https://wandb.ai/syuchimu/SpaceNet8_flood/runs/2jby3q6e\" target=\"_blank\">https://wandb.ai/syuchimu/SpaceNet8_flood/runs/2jby3q6e</a><br/>Synced 7 W&B file(s), 0 media file(s), 0 artifact file(s) and 2 other file(s)"
      ],
      "text/plain": [
       "<IPython.core.display.HTML object>"
      ]
     },
     "metadata": {},
     "output_type": "display_data"
    },
    {
     "data": {
      "text/html": [
       "Find logs at: <code>./wandb/run-20220726_004119-2jby3q6e/logs</code>"
      ],
      "text/plain": [
       "<IPython.core.display.HTML object>"
      ]
     },
     "metadata": {},
     "output_type": "display_data"
    },
    {
     "name": "stdout",
     "output_type": "stream",
     "text": [
      "############################################################\n",
      "### Fold: 1\n",
      "############################################################\n"
     ]
    },
    {
     "data": {
      "text/html": [
       "Changes to your `wandb` environment variables will be ignored because your `wandb` session has already started. For more information on how to modify your settings with `wandb.init()` arguments, please refer to <a href=\"https://wandb.me/wandb-init\" target=\"_blank\">the W&B docs</a>."
      ],
      "text/plain": [
       "<IPython.core.display.HTML object>"
      ]
     },
     "metadata": {},
     "output_type": "display_data"
    },
    {
     "data": {
      "text/html": [
       "Tracking run with wandb version 0.12.21"
      ],
      "text/plain": [
       "<IPython.core.display.HTML object>"
      ]
     },
     "metadata": {},
     "output_type": "display_data"
    },
    {
     "data": {
      "text/html": [
       "Run data is saved locally in <code>/media/syu/c983cccd-1cc7-4ce4-b206-7eb1a2cc5c94/topcoder/spacenet8/SpaceNet8/baseline/wandb/run-20220726_062149-11f2bsw4</code>"
      ],
      "text/plain": [
       "<IPython.core.display.HTML object>"
      ]
     },
     "metadata": {},
     "output_type": "display_data"
    },
    {
     "data": {
      "text/html": [
       "Syncing run <strong><a href=\"https://wandb.ai/syuchimu/SpaceNet8_flood/runs/11f2bsw4\" target=\"_blank\">3090_fold1</a></strong> to <a href=\"https://wandb.ai/syuchimu/SpaceNet8_flood\" target=\"_blank\">Weights & Biases</a> (<a href=\"https://wandb.me/run\" target=\"_blank\">docs</a>)<br/>"
      ],
      "text/plain": [
       "<IPython.core.display.HTML object>"
      ]
     },
     "metadata": {},
     "output_type": "display_data"
    },
    {
     "name": "stderr",
     "output_type": "stream",
     "text": [
      "Using 16bit native Automatic Mixed Precision (AMP)\n",
      "GPU available: True, used: True\n",
      "TPU available: False, using: 0 TPU cores\n",
      "IPU available: False, using: 0 IPUs\n",
      "HPU available: False, using: 0 HPUs\n",
      "`Trainer(val_check_interval=1.0)` was configured so validation will run at the end of the training epoch..\n",
      "LOCAL_RANK: 0 - CUDA_VISIBLE_DEVICES: [0]\n",
      "\n",
      "  | Name       | Type             | Params\n",
      "------------------------------------------------\n",
      "0 | backbone   | UnetPlusPlus     | 6.6 M \n",
      "1 | _criterion | MultiBCEDiceLoss | 0     \n",
      "------------------------------------------------\n",
      "6.6 M     Trainable params\n",
      "0         Non-trainable params\n",
      "6.6 M     Total params\n",
      "13.283    Total estimated model params size (MB)\n"
     ]
    },
    {
     "name": "stdout",
     "output_type": "stream",
     "text": [
      "### Start Trainig\n",
      "loaded 641 image filepaths\n",
      "loaded 160 image filepaths\n"
     ]
    },
    {
     "data": {
      "application/vnd.jupyter.widget-view+json": {
       "model_id": "1332fc0284a44f63a745e28fd8ac9086",
       "version_major": 2,
       "version_minor": 0
      },
      "text/plain": [
       "Training: 0it [00:00, ?it/s]"
      ]
     },
     "metadata": {},
     "output_type": "display_data"
    },
    {
     "data": {
      "application/vnd.jupyter.widget-view+json": {
       "model_id": "704809fd15334ca6aa91cb9e82b2c64a",
       "version_major": 2,
       "version_minor": 0
      },
      "text/plain": [
       "Validation: 0it [00:00, ?it/s]"
      ]
     },
     "metadata": {},
     "output_type": "display_data"
    },
    {
     "data": {
      "application/vnd.jupyter.widget-view+json": {
       "model_id": "a5d3e256150e473eb40ffb970b1860cd",
       "version_major": 2,
       "version_minor": 0
      },
      "text/plain": [
       "Validation: 0it [00:00, ?it/s]"
      ]
     },
     "metadata": {},
     "output_type": "display_data"
    },
    {
     "data": {
      "application/vnd.jupyter.widget-view+json": {
       "model_id": "52ee29c0c9614b0781628a1eeb725f89",
       "version_major": 2,
       "version_minor": 0
      },
      "text/plain": [
       "Validation: 0it [00:00, ?it/s]"
      ]
     },
     "metadata": {},
     "output_type": "display_data"
    },
    {
     "data": {
      "application/vnd.jupyter.widget-view+json": {
       "model_id": "99ab4851d930487c84e782ea79663bc0",
       "version_major": 2,
       "version_minor": 0
      },
      "text/plain": [
       "Validation: 0it [00:00, ?it/s]"
      ]
     },
     "metadata": {},
     "output_type": "display_data"
    },
    {
     "data": {
      "application/vnd.jupyter.widget-view+json": {
       "model_id": "0dbfcacc097748deb1528569d202bc98",
       "version_major": 2,
       "version_minor": 0
      },
      "text/plain": [
       "Validation: 0it [00:00, ?it/s]"
      ]
     },
     "metadata": {},
     "output_type": "display_data"
    },
    {
     "data": {
      "application/vnd.jupyter.widget-view+json": {
       "model_id": "4c1de83c4a344cdda4c670e9751c200e",
       "version_major": 2,
       "version_minor": 0
      },
      "text/plain": [
       "Validation: 0it [00:00, ?it/s]"
      ]
     },
     "metadata": {},
     "output_type": "display_data"
    },
    {
     "data": {
      "application/vnd.jupyter.widget-view+json": {
       "model_id": "662d668fc6374a5ab11baca07f3ed7c3",
       "version_major": 2,
       "version_minor": 0
      },
      "text/plain": [
       "Validation: 0it [00:00, ?it/s]"
      ]
     },
     "metadata": {},
     "output_type": "display_data"
    },
    {
     "data": {
      "application/vnd.jupyter.widget-view+json": {
       "model_id": "aad3c4302f794043ab15264dde0c038c",
       "version_major": 2,
       "version_minor": 0
      },
      "text/plain": [
       "Validation: 0it [00:00, ?it/s]"
      ]
     },
     "metadata": {},
     "output_type": "display_data"
    },
    {
     "data": {
      "application/vnd.jupyter.widget-view+json": {
       "model_id": "3956da22821b423b9215f6338b76d01e",
       "version_major": 2,
       "version_minor": 0
      },
      "text/plain": [
       "Validation: 0it [00:00, ?it/s]"
      ]
     },
     "metadata": {},
     "output_type": "display_data"
    },
    {
     "data": {
      "application/vnd.jupyter.widget-view+json": {
       "model_id": "94a33dcb6ad24d4c8f91ae7cb600d281",
       "version_major": 2,
       "version_minor": 0
      },
      "text/plain": [
       "Validation: 0it [00:00, ?it/s]"
      ]
     },
     "metadata": {},
     "output_type": "display_data"
    },
    {
     "data": {
      "application/vnd.jupyter.widget-view+json": {
       "model_id": "85521995112e450dbf0d45146ad3a7de",
       "version_major": 2,
       "version_minor": 0
      },
      "text/plain": [
       "Validation: 0it [00:00, ?it/s]"
      ]
     },
     "metadata": {},
     "output_type": "display_data"
    },
    {
     "data": {
      "application/vnd.jupyter.widget-view+json": {
       "model_id": "8633cddd955b4f19873a67da4f1018a3",
       "version_major": 2,
       "version_minor": 0
      },
      "text/plain": [
       "Validation: 0it [00:00, ?it/s]"
      ]
     },
     "metadata": {},
     "output_type": "display_data"
    },
    {
     "data": {
      "application/vnd.jupyter.widget-view+json": {
       "model_id": "867e3dd7110b4f8e86877b78bc50d747",
       "version_major": 2,
       "version_minor": 0
      },
      "text/plain": [
       "Validation: 0it [00:00, ?it/s]"
      ]
     },
     "metadata": {},
     "output_type": "display_data"
    },
    {
     "data": {
      "application/vnd.jupyter.widget-view+json": {
       "model_id": "d5c59f82774242efa56f365d5702955f",
       "version_major": 2,
       "version_minor": 0
      },
      "text/plain": [
       "Validation: 0it [00:00, ?it/s]"
      ]
     },
     "metadata": {},
     "output_type": "display_data"
    },
    {
     "data": {
      "application/vnd.jupyter.widget-view+json": {
       "model_id": "346b718622f3412e8b66fedeec9586cc",
       "version_major": 2,
       "version_minor": 0
      },
      "text/plain": [
       "Validation: 0it [00:00, ?it/s]"
      ]
     },
     "metadata": {},
     "output_type": "display_data"
    },
    {
     "data": {
      "application/vnd.jupyter.widget-view+json": {
       "model_id": "cfe3085fc6524a31ac1fe6f2e666a77e",
       "version_major": 2,
       "version_minor": 0
      },
      "text/plain": [
       "Validation: 0it [00:00, ?it/s]"
      ]
     },
     "metadata": {},
     "output_type": "display_data"
    },
    {
     "data": {
      "application/vnd.jupyter.widget-view+json": {
       "model_id": "837d0080d936434b99269ada6f54993e",
       "version_major": 2,
       "version_minor": 0
      },
      "text/plain": [
       "Validation: 0it [00:00, ?it/s]"
      ]
     },
     "metadata": {},
     "output_type": "display_data"
    },
    {
     "data": {
      "application/vnd.jupyter.widget-view+json": {
       "model_id": "26cc3f2b45b34f339492a7cda01a3369",
       "version_major": 2,
       "version_minor": 0
      },
      "text/plain": [
       "Validation: 0it [00:00, ?it/s]"
      ]
     },
     "metadata": {},
     "output_type": "display_data"
    },
    {
     "data": {
      "application/vnd.jupyter.widget-view+json": {
       "model_id": "0576a7321755474db546893ab9e1355f",
       "version_major": 2,
       "version_minor": 0
      },
      "text/plain": [
       "Validation: 0it [00:00, ?it/s]"
      ]
     },
     "metadata": {},
     "output_type": "display_data"
    },
    {
     "data": {
      "application/vnd.jupyter.widget-view+json": {
       "model_id": "072d7b51d9a4453183270e8db3cd9a69",
       "version_major": 2,
       "version_minor": 0
      },
      "text/plain": [
       "Validation: 0it [00:00, ?it/s]"
      ]
     },
     "metadata": {},
     "output_type": "display_data"
    },
    {
     "data": {
      "application/vnd.jupyter.widget-view+json": {
       "model_id": "132dd4777e054450bbb04bda62f8d25f",
       "version_major": 2,
       "version_minor": 0
      },
      "text/plain": [
       "Validation: 0it [00:00, ?it/s]"
      ]
     },
     "metadata": {},
     "output_type": "display_data"
    },
    {
     "data": {
      "application/vnd.jupyter.widget-view+json": {
       "model_id": "3801c7758e6f4c11af5d1c138012b86c",
       "version_major": 2,
       "version_minor": 0
      },
      "text/plain": [
       "Validation: 0it [00:00, ?it/s]"
      ]
     },
     "metadata": {},
     "output_type": "display_data"
    },
    {
     "data": {
      "application/vnd.jupyter.widget-view+json": {
       "model_id": "98479d1298694ac98c133663a5182553",
       "version_major": 2,
       "version_minor": 0
      },
      "text/plain": [
       "Validation: 0it [00:00, ?it/s]"
      ]
     },
     "metadata": {},
     "output_type": "display_data"
    },
    {
     "data": {
      "application/vnd.jupyter.widget-view+json": {
       "model_id": "0275fde069e04627b78f3d91e59e9d87",
       "version_major": 2,
       "version_minor": 0
      },
      "text/plain": [
       "Validation: 0it [00:00, ?it/s]"
      ]
     },
     "metadata": {},
     "output_type": "display_data"
    },
    {
     "data": {
      "application/vnd.jupyter.widget-view+json": {
       "model_id": "e6abf565b187408fa401d7269ae2dcfc",
       "version_major": 2,
       "version_minor": 0
      },
      "text/plain": [
       "Validation: 0it [00:00, ?it/s]"
      ]
     },
     "metadata": {},
     "output_type": "display_data"
    },
    {
     "data": {
      "application/vnd.jupyter.widget-view+json": {
       "model_id": "df849ffd143c4985868cbb6422927dc8",
       "version_major": 2,
       "version_minor": 0
      },
      "text/plain": [
       "Validation: 0it [00:00, ?it/s]"
      ]
     },
     "metadata": {},
     "output_type": "display_data"
    },
    {
     "data": {
      "application/vnd.jupyter.widget-view+json": {
       "model_id": "0fcec14ec0124875844ffe2eea07af7a",
       "version_major": 2,
       "version_minor": 0
      },
      "text/plain": [
       "Validation: 0it [00:00, ?it/s]"
      ]
     },
     "metadata": {},
     "output_type": "display_data"
    },
    {
     "data": {
      "application/vnd.jupyter.widget-view+json": {
       "model_id": "205a4e443569455bb67694d9b3e88a13",
       "version_major": 2,
       "version_minor": 0
      },
      "text/plain": [
       "Validation: 0it [00:00, ?it/s]"
      ]
     },
     "metadata": {},
     "output_type": "display_data"
    },
    {
     "data": {
      "application/vnd.jupyter.widget-view+json": {
       "model_id": "fe8292c28e244174b7495fcc4b75ad00",
       "version_major": 2,
       "version_minor": 0
      },
      "text/plain": [
       "Validation: 0it [00:00, ?it/s]"
      ]
     },
     "metadata": {},
     "output_type": "display_data"
    },
    {
     "data": {
      "application/vnd.jupyter.widget-view+json": {
       "model_id": "78c1de54df704745b3f18e29cb070e31",
       "version_major": 2,
       "version_minor": 0
      },
      "text/plain": [
       "Validation: 0it [00:00, ?it/s]"
      ]
     },
     "metadata": {},
     "output_type": "display_data"
    },
    {
     "data": {
      "application/vnd.jupyter.widget-view+json": {
       "model_id": "5cd21af9293b487b9355615f76ff5149",
       "version_major": 2,
       "version_minor": 0
      },
      "text/plain": [
       "Validation: 0it [00:00, ?it/s]"
      ]
     },
     "metadata": {},
     "output_type": "display_data"
    },
    {
     "data": {
      "application/vnd.jupyter.widget-view+json": {
       "model_id": "04180b53e75f4ba4861c7458f52f86f8",
       "version_major": 2,
       "version_minor": 0
      },
      "text/plain": [
       "Validation: 0it [00:00, ?it/s]"
      ]
     },
     "metadata": {},
     "output_type": "display_data"
    },
    {
     "data": {
      "application/vnd.jupyter.widget-view+json": {
       "model_id": "bd004973ce444097a7b27e431c9954c6",
       "version_major": 2,
       "version_minor": 0
      },
      "text/plain": [
       "Validation: 0it [00:00, ?it/s]"
      ]
     },
     "metadata": {},
     "output_type": "display_data"
    },
    {
     "data": {
      "application/vnd.jupyter.widget-view+json": {
       "model_id": "5beee7dd74a6422a88c361faa3240d64",
       "version_major": 2,
       "version_minor": 0
      },
      "text/plain": [
       "Validation: 0it [00:00, ?it/s]"
      ]
     },
     "metadata": {},
     "output_type": "display_data"
    },
    {
     "data": {
      "application/vnd.jupyter.widget-view+json": {
       "model_id": "eb1a6714e72f47edb617ad793610c936",
       "version_major": 2,
       "version_minor": 0
      },
      "text/plain": [
       "Validation: 0it [00:00, ?it/s]"
      ]
     },
     "metadata": {},
     "output_type": "display_data"
    },
    {
     "data": {
      "application/vnd.jupyter.widget-view+json": {
       "model_id": "0e813dabf16446b2b060023f6a4372ed",
       "version_major": 2,
       "version_minor": 0
      },
      "text/plain": [
       "Validation: 0it [00:00, ?it/s]"
      ]
     },
     "metadata": {},
     "output_type": "display_data"
    },
    {
     "data": {
      "application/vnd.jupyter.widget-view+json": {
       "model_id": "f13b589786ae469a879cc97d7fa8134a",
       "version_major": 2,
       "version_minor": 0
      },
      "text/plain": [
       "Validation: 0it [00:00, ?it/s]"
      ]
     },
     "metadata": {},
     "output_type": "display_data"
    },
    {
     "data": {
      "application/vnd.jupyter.widget-view+json": {
       "model_id": "b6f57c364d1e4e419c058d49735dd4d6",
       "version_major": 2,
       "version_minor": 0
      },
      "text/plain": [
       "Validation: 0it [00:00, ?it/s]"
      ]
     },
     "metadata": {},
     "output_type": "display_data"
    },
    {
     "data": {
      "application/vnd.jupyter.widget-view+json": {
       "model_id": "a611dc0f6258468c80fac70778fe5f45",
       "version_major": 2,
       "version_minor": 0
      },
      "text/plain": [
       "Validation: 0it [00:00, ?it/s]"
      ]
     },
     "metadata": {},
     "output_type": "display_data"
    },
    {
     "data": {
      "application/vnd.jupyter.widget-view+json": {
       "model_id": "5cba4320c62d4bceabde843a6168def0",
       "version_major": 2,
       "version_minor": 0
      },
      "text/plain": [
       "Validation: 0it [00:00, ?it/s]"
      ]
     },
     "metadata": {},
     "output_type": "display_data"
    },
    {
     "data": {
      "application/vnd.jupyter.widget-view+json": {
       "model_id": "57816ee3a8034a029c753980a9a252f7",
       "version_major": 2,
       "version_minor": 0
      },
      "text/plain": [
       "Validation: 0it [00:00, ?it/s]"
      ]
     },
     "metadata": {},
     "output_type": "display_data"
    },
    {
     "data": {
      "application/vnd.jupyter.widget-view+json": {
       "model_id": "a3d6860653994d83b38e9b0e9ce7e069",
       "version_major": 2,
       "version_minor": 0
      },
      "text/plain": [
       "Validation: 0it [00:00, ?it/s]"
      ]
     },
     "metadata": {},
     "output_type": "display_data"
    },
    {
     "data": {
      "application/vnd.jupyter.widget-view+json": {
       "model_id": "cdb55aca20754d1ebb53d89a48d08b6d",
       "version_major": 2,
       "version_minor": 0
      },
      "text/plain": [
       "Validation: 0it [00:00, ?it/s]"
      ]
     },
     "metadata": {},
     "output_type": "display_data"
    },
    {
     "data": {
      "application/vnd.jupyter.widget-view+json": {
       "model_id": "9965a6d721b24fa98e4983a1d5541a8c",
       "version_major": 2,
       "version_minor": 0
      },
      "text/plain": [
       "Validation: 0it [00:00, ?it/s]"
      ]
     },
     "metadata": {},
     "output_type": "display_data"
    },
    {
     "data": {
      "application/vnd.jupyter.widget-view+json": {
       "model_id": "e0637aa51a6940dda4810435a5230b02",
       "version_major": 2,
       "version_minor": 0
      },
      "text/plain": [
       "Validation: 0it [00:00, ?it/s]"
      ]
     },
     "metadata": {},
     "output_type": "display_data"
    },
    {
     "data": {
      "application/vnd.jupyter.widget-view+json": {
       "model_id": "56c802d7765c4bb8ae96164672f9b01a",
       "version_major": 2,
       "version_minor": 0
      },
      "text/plain": [
       "Validation: 0it [00:00, ?it/s]"
      ]
     },
     "metadata": {},
     "output_type": "display_data"
    },
    {
     "data": {
      "application/vnd.jupyter.widget-view+json": {
       "model_id": "9f535e721bc6414ca04434d3261f123c",
       "version_major": 2,
       "version_minor": 0
      },
      "text/plain": [
       "Validation: 0it [00:00, ?it/s]"
      ]
     },
     "metadata": {},
     "output_type": "display_data"
    },
    {
     "data": {
      "application/vnd.jupyter.widget-view+json": {
       "model_id": "1be845f3d6c947fbb501e54e45928020",
       "version_major": 2,
       "version_minor": 0
      },
      "text/plain": [
       "Validation: 0it [00:00, ?it/s]"
      ]
     },
     "metadata": {},
     "output_type": "display_data"
    },
    {
     "data": {
      "application/vnd.jupyter.widget-view+json": {
       "model_id": "ce4cae5be9d7421583b036578ea318f3",
       "version_major": 2,
       "version_minor": 0
      },
      "text/plain": [
       "Validation: 0it [00:00, ?it/s]"
      ]
     },
     "metadata": {},
     "output_type": "display_data"
    },
    {
     "data": {
      "application/vnd.jupyter.widget-view+json": {
       "model_id": "ea88fde3fb3a4a289d87f289f575aded",
       "version_major": 2,
       "version_minor": 0
      },
      "text/plain": [
       "Validation: 0it [00:00, ?it/s]"
      ]
     },
     "metadata": {},
     "output_type": "display_data"
    },
    {
     "data": {
      "text/html": [
       "Waiting for W&B process to finish... <strong style=\"color:green\">(success).</strong>"
      ],
      "text/plain": [
       "<IPython.core.display.HTML object>"
      ]
     },
     "metadata": {},
     "output_type": "display_data"
    },
    {
     "data": {
      "application/vnd.jupyter.widget-view+json": {
       "model_id": "80694065841449fb8df3dd367d457322",
       "version_major": 2,
       "version_minor": 0
      },
      "text/plain": [
       "VBox(children=(Label(value='0.906 MB of 1.013 MB uploaded (0.000 MB deduped)\\r'), FloatProgress(value=0.893646…"
      ]
     },
     "metadata": {},
     "output_type": "display_data"
    },
    {
     "data": {
      "text/html": [
       "<style>\n",
       "    table.wandb td:nth-child(1) { padding: 0 10px; text-align: left ; width: auto;} td:nth-child(2) {text-align: left ; width: 100%}\n",
       "    .wandb-row { display: flex; flex-direction: row; flex-wrap: wrap; justify-content: flex-start; width: 100% }\n",
       "    .wandb-col { display: flex; flex-direction: column; flex-basis: 100%; flex: 1; padding: 10px; }\n",
       "    </style>\n",
       "<div class=\"wandb-row\"><div class=\"wandb-col\"><h3>Run history:</h3><br/><table class=\"wandb\"><tr><td>epoch</td><td>▁▁▁▁▂▂▂▂▂▃▃▃▃▃▃▄▄▄▄▄▅▅▅▅▅▅▆▆▆▆▆▇▇▇▇▇▇███</td></tr><tr><td>lr-AdamW</td><td>██▇▆▄▃▂▁██▇▆▄▃▂▁██▇▆▄▃▂▁██▇▆▄▃▂▁██▇▆▄▃▂▁</td></tr><tr><td>train/epoch_F1_0</td><td>▁▆▇▇▇█▇▇▇▇▇▇▇█▇▇▇▇▇▇▇███▇▇██████▇███████</td></tr><tr><td>train/epoch_F1_1</td><td>█▁▁▁▁▁▁▁▁▁▁▁▁▁▁▁▁▁▁▁▁▁▁▁▁▁▁▁▁▁▁▁▁▁▁▁▁▁▁▁</td></tr><tr><td>train/epoch_F1_2</td><td>▁▁▁▁▁▁▁▁▁▁▁▁▁▁▁▁▁▁▁▁▁▁▁▁▁▁▁▁▁▁▁▁▁▁▁▁▁▁▁▁</td></tr><tr><td>train/epoch_F1_3</td><td>▁▁▁▁▁▁▁▃▃▃▅▅▅▆▆▆▄▆▅▆▆▇▇▆▆▆▆▆▇▇▇█▆▇▆█▇█▇▇</td></tr><tr><td>train/epoch_FN_0</td><td>█▃▂▂▂▂▂▂▂▂▂▂▂▁▂▂▂▂▂▂▁▁▁▁▂▂▁▁▁▁▁▁▂▁▁▁▁▁▁▁</td></tr><tr><td>train/epoch_FN_1</td><td>▁██████████████████████▇▇█████▇█████████</td></tr><tr><td>train/epoch_FN_2</td><td>▁▁▁▁▁▁▁▁▁▁▁▁▁▁▁▁▁▁▁▁▁▁▁▁▁▁▁▁▁▁▁▁▁▁▁▁▁▁▁▁</td></tr><tr><td>train/epoch_FN_3</td><td>▆██████▇▇▆▅▄▄▃▂▃▅▃▄▄▃▂▂▂▃▄▃▂▂▁▁▁▂▂▂▂▁▁▁▁</td></tr><tr><td>train/epoch_FP_0</td><td>█▂▁▁▁▁▁▁▁▁▁▁▁▁▁▁▁▁▁▁▁▁▁▁▁▁▁▁▁▁▁▁▁▁▁▁▁▁▁▁</td></tr><tr><td>train/epoch_FP_1</td><td>█▁▁▁▁▁▁▁▁▁▁▁▁▁▁▁▁▁▁▁▁▁▁▁▁▁▁▁▁▁▁▁▁▁▁▁▁▁▁▁</td></tr><tr><td>train/epoch_FP_2</td><td>█▁▃▃▃▄▃▃▃▃▄▃▄▄▄▄▃▄▄▄▄▄▄▄▄▄▄▄▄▄▄▄▄▄▄▄▄▄▄▄</td></tr><tr><td>train/epoch_FP_3</td><td>█▁▁▁▁▁▁▁▁▁▁▁▁▁▂▁▁▁▁▁▁▁▁▁▁▁▁▁▁▁▁▁▁▁▁▁▁▁▂▁</td></tr><tr><td>train/epoch_IoU_0</td><td>▁▅▆▆▇▇▇▇▆▆▇▇▇▇▇▇▇▇▇▇▇███▇▇██████▇██▇████</td></tr><tr><td>train/epoch_IoU_1</td><td>█▁▁▁▁▁▁▁▁▁▁▁▁▁▁▁▁▁▁▁▁▁▁▁▁▁▁▁▁▁▁▁▁▁▁▁▁▁▁▁</td></tr><tr><td>train/epoch_IoU_2</td><td>▁▁▁▁▁▁▁▁▁▁▁▁▁▁▁▁▁▁▁▁▁▁▁▁▁▁▁▁▁▁▁▁▁▁▁▁▁▁▁▁</td></tr><tr><td>train/epoch_IoU_3</td><td>▁▁▁▁▁▁▁▂▂▃▅▅▅▆▆▆▄▅▅▅▆▇▆▆▆▆▆▆▇▇▇█▆▇▆█▇█▇▇</td></tr><tr><td>train/epoch_Precision_0</td><td>▁▄▆▇▇█▇▇▇▇▇▇▇█▇█▇▇▇▇▇███▇▇██▇███▇█▇█████</td></tr><tr><td>train/epoch_Precision_1</td><td>█▁▃▁▂▂▂▂▁▂▁▂▁▁▁▁▁▂▃▁▁▁▂▁▁▂▁▁▁▁▁▁▁▁▁▁▂▁▁▁</td></tr><tr><td>train/epoch_Precision_2</td><td>▁▁▁▁▁▁▁▁▁▁▁▁▁▁▁▁▁▁▁▁▁▁▁▁▁▁▁▁▁▁▁▁▁▁▁▁▁▁▁▁</td></tr><tr><td>train/epoch_Precision_3</td><td>▁▁▁▁▁▁▃▆▅▅█▆▇▇▇▇▆▇▆▇█▇▇▇▇▇▇▇▇▇██▇█████▇▇</td></tr><tr><td>train/epoch_Recall_0</td><td>▁▇▇▇▇▇▇▇▇▇▇▇▇▇▇▇▇▇▇▇▇███▇▇██████▇███████</td></tr><tr><td>train/epoch_Recall_1</td><td>█▁▁▁▁▁▁▁▁▁▁▁▁▁▁▁▁▁▁▁▁▁▁▁▁▁▁▁▁▁▁▁▁▁▁▁▁▁▁▁</td></tr><tr><td>train/epoch_Recall_2</td><td>▁▁▁▁▁▁▁▁▁▁▁▁▁▁▁▁▁▁▁▁▁▁▁▁▁▁▁▁▁▁▁▁▁▁▁▁▁▁▁▁</td></tr><tr><td>train/epoch_Recall_3</td><td>▃▁▁▁▁▁▁▂▂▂▄▄▅▅▆▆▄▅▅▅▆▇▆▆▆▅▅▆▆▇▆█▅▆▆▇▇▇▇▇</td></tr><tr><td>train/epoch_TN_0</td><td>▁▇██████████████████████████████████████</td></tr><tr><td>train/epoch_TN_1</td><td>▁███████████████████████████████████████</td></tr><tr><td>train/epoch_TN_2</td><td>▁█▆▆▆▅▆▆▆▆▅▆▅▅▅▅▆▅▅▅▅▅▅▅▅▅▅▅▅▅▅▅▅▅▅▅▅▅▅▅</td></tr><tr><td>train/epoch_TN_3</td><td>▁█████████████████████████████████████▇█</td></tr><tr><td>train/epoch_TP_0</td><td>▁▆▆▇▇▇▇▇▇▇▇▇▇█▇▇▇▇▇▇▇███▇▇██████▇███████</td></tr><tr><td>train/epoch_TP_1</td><td>█▁▁▁▁▁▁▁▁▁▁▁▁▁▁▁▁▁▁▁▁▁▁▁▁▁▁▁▁▁▁▁▁▁▁▁▁▁▁▁</td></tr><tr><td>train/epoch_TP_2</td><td>▁▁▁▁▁▁▁▁▁▁▁▁▁▁▁▁▁▁▁▁▁▁▁▁▁▁▁▁▁▁▁▁▁▁▁▁▁▁▁▁</td></tr><tr><td>train/epoch_TP_3</td><td>▃▁▁▁▁▁▁▂▂▃▄▅▅▆▆▆▄▅▅▅▆▇▇▆▆▅▆▇▇███▆▇▇▇████</td></tr><tr><td>train/epoch_loss</td><td>█▃▃▃▃▂▁▂▂▂▂▂▂▂▂▂▁▂▂▂▁▂▂▁▁▂▂▂▂▁▂▂▂▂▂▂▂▁▂▂</td></tr><tr><td>train/iter_F1_0</td><td>▁▇▂▇▇▇███▆▂▇▇▇▅▇██▇▃▇▃█▇▇▆██▇▇▇▇▇▆█▇▄█▁█</td></tr><tr><td>train/iter_F1_1</td><td>▁▁▁▁▁▁▁▁▁▁▁▁▁▁▁▁▁▁▁▁▁▂▁▁▁▁▁▁▁▁▁▁▁▁▁▁▁▁█▁</td></tr><tr><td>train/iter_F1_2</td><td>▁▁▁▁▁▁▁▁▁▁▁▁▁▁▁▁▁▁▁▁▁▁▁▁▁▁▁▁▁▁▁▁▁▁▁▁▁▁▁▁</td></tr><tr><td>train/iter_F1_3</td><td>▁▁▁▁▁▁▁▅▁▁▁▄▁▁▁█▁▁▁▁▃▅▁▆▁▁▁▅▁▁▁▁▁▁▄▁▅▁▂▁</td></tr><tr><td>train/iter_FN_0</td><td>▂▁▁▂▁▁▁▂▂▂▃▃▂▁▃▁▂▁▂▃▁▄▂▂▁▁▂▁█▁▁▂▁▁▁▂▇▁▅▁</td></tr><tr><td>train/iter_FN_1</td><td>▃▁▂▃▂▃▃▂▄▃▂▅▅▄▃▂▃▄▂▂▃▅▃▃▃▂▆▁█▂▁▄▅▃▅▅▅▂▂▃</td></tr><tr><td>train/iter_FN_2</td><td>▁▁▁▁▁▁▁▁▁▁▁▁▁▁▁▁▁▁▁▁▁▁▁▁▁▁▁▁▁▁▁▁▁▁▁▁▁▁▁▁</td></tr><tr><td>train/iter_FN_3</td><td>▅▂▂▃▅▃▃▄▂▄▂▃▁▅▃▁▃▅▁▁▄▄▃▃▄▃▃▂█▃▃▄▄▃▆▅▁▃▂▄</td></tr><tr><td>train/iter_FP_0</td><td>█▁▃▂▁▁▂▁▄▁▁▅▄▂▁▁▂▁▂▁▂▁▂▁▂▁▂▁▂▁▁▁▅▂▁▂▁▁▁▁</td></tr><tr><td>train/iter_FP_1</td><td>▁▁▁▁▂▁▁▂▁▁▄▁▂▁▃▁▂▁▁▃▁▅▁▁▁▁▁▁▆▁▁▁▁▁▁▁█▁▇▁</td></tr><tr><td>train/iter_FP_2</td><td>▃▃▃▄▃▃▆▂▅▃▂▇▆▇▂▁▃▄▄▂▅▂▅▃▄▂█▁█▂▂▆▆▅▅▇▃▃▁▄</td></tr><tr><td>train/iter_FP_3</td><td>▁▁▁▁▁▁▁▂▁▁▂▁▃▁▆▃▂▁▁▅▁▆▁▁▁▁▁▁▅▁▁▁▁▁▁▁█▁▅▁</td></tr><tr><td>train/iter_IoU_0</td><td>▁▇▂▇▆▆█▇▇▅▂▇▇▇▄▇▇█▆▂▇▂█▇▇▆█▇▇▇▆▇▆▆▇▇▃█▁█</td></tr><tr><td>train/iter_IoU_1</td><td>▁▁▁▁▁▁▁▁▁▁▁▁▁▁▁▁▁▁▁▁▁▂▁▁▁▁▁▁▁▁▁▁▁▁▁▁▁▁█▁</td></tr><tr><td>train/iter_IoU_2</td><td>▁▁▁▁▁▁▁▁▁▁▁▁▁▁▁▁▁▁▁▁▁▁▁▁▁▁▁▁▁▁▁▁▁▁▁▁▁▁▁▁</td></tr><tr><td>train/iter_IoU_3</td><td>▁▁▁▁▁▁▁▄▁▁▁▃▁▁▁█▁▁▁▁▂▅▁▅▁▁▁▅▁▁▁▁▁▁▄▁▄▁▂▁</td></tr><tr><td>train/iter_Precision_0</td><td>▁▇▂▇▇▆▇█▇▇▇▆▆▇▇▇█▇▆▆▇██▇▇▇█▇█▇▆█▆▅▇▇█▇▆▇</td></tr><tr><td>train/iter_Precision_1</td><td>▁▁▁▁▁▁▁▁▁▁▁▁▁▁▁▁▁▁▁▁▁▃▁▁▁▁▁▁▁▁▁▁▁▁▁▁▂▁█▁</td></tr><tr><td>train/iter_Precision_2</td><td>▁▁▁▁▁▁▁▁▁▁▁▁▁▁▁▁▁▁▁▁▁▁▁▁▁▁▁▁▁▁▁▁▁▁▁▁▁▁▁▁</td></tr><tr><td>train/iter_Precision_3</td><td>▁▁▁▁▁▁▁▅▁▁▁▆▁▁▁▄▁▁▁▁▅▃▁▆▁▁▁█▁▆▁▁▁▁▇▃▂▁▁▁</td></tr><tr><td>train/iter_Recall_0</td><td>▃▇▇▇▆██▆█▅▁▇▇▇▄▇▇▇▆▂▇▂▇▆▇▅▇▇▆▇▇▆█▇█▇▂█▁█</td></tr><tr><td>train/iter_Recall_1</td><td>▁▁▁▁▁▁▁▁▁▁▁▁▁▁▁▁▁▁▁▁▁▂▁▁▁▁▁▁▁▁▁▁▁▁▁▁▁▁█▁</td></tr><tr><td>train/iter_Recall_2</td><td>▁▁▁▁▁▁▁▁▁▁▁▁▁▁▁▁▁▁▁▁▁▁▁▁▁▁▁▁▁▁▁▁▁▁▁▁▁▁▁▁</td></tr><tr><td>train/iter_Recall_3</td><td>▁▁▁▁▁▁▁▃▁▁▁▂▁▁▁█▁▁▁▁▂▄▁▃▁▁▁▃▁▁▁▁▁▁▂▁▇▁▂▁</td></tr><tr><td>train/iter_TN_0</td><td>▆█▇▆██▆▆▄▇▇▂▄▇▇█▆▇▇▇▆▇▅▇▇█▅█▁██▇▅▇▇▇▆▇▇█</td></tr><tr><td>train/iter_TN_1</td><td>▇██▆▇▇▆▇▆▆▆▅▅▆▆▇▆▆▇▆▇▄▇▇▇█▄█▁██▆▅▇▅▅▂█▅▇</td></tr><tr><td>train/iter_TN_2</td><td>▆▆▆▅▆▆▃▇▄▆▇▂▃▂▇█▆▅▅▇▄▇▄▆▅▇▁█▁▇▇▃▃▄▄▂▆▆█▅</td></tr><tr><td>train/iter_TN_3</td><td>▅▇█▇▅▇▇▅█▆▇▆▇▅▄▇▆▅█▆▅▃▇▆▆▇▇▇▁▇▇▆▆▆▄▅▄▇▅▆</td></tr><tr><td>train/iter_TP_0</td><td>▁▁▁▃▁▁▃▃▆▁▁▇▅▂▁▁▃▂▂▁▃▁▅▂▂▁▄▁█▁▁▂▄▂▂▂▂▂▁▁</td></tr><tr><td>train/iter_TP_1</td><td>▁▁▁▁▁▁▁▁▁▁▁▁▁▁▁▁▁▁▁▁▁▂▁▁▁▁▁▁▁▁▁▁▁▁▁▁▂▁█▁</td></tr><tr><td>train/iter_TP_2</td><td>▁▁▁▁▁▁▁▁▁▁▁▁▁▁▁▁▁▁▁▁▁▁▁▁▁▁▁▁▁▁▁▁▁▁▁▁▁▁▁▁</td></tr><tr><td>train/iter_TP_3</td><td>▁▁▁▁▁▁▁▄▁▁▁▃▁▁▁▄▁▁▁▁▂█▁▄▁▁▁▂▁▁▁▁▁▁▅▁▆▁▂▁</td></tr><tr><td>train/iter_loss</td><td>▅▁▅█▅▁▁█▁▁█▄█▅███▅▁█▁█▄█▁█▁▅▇▁▁▄▁▁█▁█▁█▁</td></tr><tr><td>train/mean_F1</td><td>▁▅▆▆▆▆▆▆▆▆▇▇▇▇▇▇▇▇▇▇▇███▇▇██████▇███████</td></tr><tr><td>train/mean_IoU</td><td>▁▄▅▆▆▆▆▆▆▆▇▇▇▇▇▇▆▇▇▇▇███▇▇▇█████▇███████</td></tr><tr><td>trainer/global_step</td><td>▁▁▁▁▂▂▂▂▂▃▃▃▃▃▃▄▄▄▄▄▄▅▅▅▅▅▆▆▆▆▆▆▇▇▇▇▇███</td></tr><tr><td>val/epoch_F1_0</td><td>▁▅▆▆██▇▆▅▆▇▇▅▆▇▆▆▆▇▆▃▅▆▆▃▆▇▅▅▅▆▅▄▇▅▆▆▅▆▆</td></tr><tr><td>val/epoch_F1_1</td><td>▁▁▁▁▂▂▂▃▅▃▂▁▄▂▁▃▁▁▁▅▂▃▂▂█▂▃▄▂▃▄▃▅▂▂▁▂▂▃▂</td></tr><tr><td>val/epoch_F1_2</td><td>▁▁▁▁▁▁▁▁▁▁▁▁▁▁▁▁▁▁▁▁▁▁▁▁▁▁▁▁▁▁▁▁▁▁▁▁▁▁▁▁</td></tr><tr><td>val/epoch_F1_3</td><td>▁▁▁▁▁▁▁▂▂▅▂▁▅▄▃▅▃▃▂▄▅▅▅▄█▃▄▄▅▄▅▅▅▄▅▅▄▅▅▅</td></tr><tr><td>val/epoch_FN_0</td><td>█▃▂▄▁▁▃▃▄▃▂▂▂▃▂▃▃▃▂▃▅▃▃▃▅▄▁▃▂▃▂▂▃▂▄▂▃▃▂▂</td></tr><tr><td>val/epoch_FN_1</td><td>████▆▇▇▆▃▆▇█▄▆█▅███▄▆▅▇▆▁▇▆▂▇▆▄▆▂▇▇█▇▇▅▆</td></tr><tr><td>val/epoch_FN_2</td><td>▁▁▁▁▁▁▁▁▁▁▁▁▁▁▁▁▁▁▁▁▁▁▁▁▁▁▁▁▁▁▁▁▁▁▁▁▁▁▁▁</td></tr><tr><td>val/epoch_FN_3</td><td>███████▇▇▅▇█▄▅▅▄▆▇▇▄▃▄▄▄▁▆▆▅▄▄▄▄▄▅▄▃▅▃▄▄</td></tr><tr><td>val/epoch_FP_0</td><td>▂▇█▃▇▇▃▃▃▅▄▆▄▄▄▃▄▄█▅▁▂▃▄▃▃▆▂▄▃▅▄▅▆▂▅▃▄▄▄</td></tr><tr><td>val/epoch_FP_1</td><td>▁▁▁▁▄▃▃▄▅▅▃▂▇▅▃▅▂▃▂▇▅▅▄▅█▄▄▆▄▄▄▄▆▅▄▃▄▄▄▄</td></tr><tr><td>val/epoch_FP_2</td><td>▁▁▆▆▇▆▅▅▅▆▇█▆▆▆▆▅▅▇▃▆▅▆▆▃▃▆▇▄▅▆▅▆▇▅█▆▆▆▆</td></tr><tr><td>val/epoch_FP_3</td><td>▁▁▁▁▁▁▁▃▃▆▂▁▅▅▄▅▃▃▃▇▇▅▆▅█▃▃▆▅▅▅▅▆▅▆▆▄▅▅▅</td></tr><tr><td>val/epoch_IoU_0</td><td>▁▅▆▆██▇▆▅▆▇▇▆▆▇▆▆▆▆▆▄▅▆▆▄▆▇▆▆▅▆▆▅▇▆▇▆▅▇▇</td></tr><tr><td>val/epoch_IoU_1</td><td>▁▁▁▁▂▂▂▃▅▃▂▁▄▂▁▃▁▁▁▅▂▃▂▂█▂▃▄▂▃▄▃▅▂▂▁▂▂▃▂</td></tr><tr><td>val/epoch_IoU_2</td><td>▁▁▁▁▁▁▁▁▁▁▁▁▁▁▁▁▁▁▁▁▁▁▁▁▁▁▁▁▁▁▁▁▁▁▁▁▁▁▁▁</td></tr><tr><td>val/epoch_IoU_3</td><td>▁▁▁▁▁▁▁▂▂▅▂▁▅▄▃▅▃▃▂▄▅▅▅▄█▃▄▄▅▄▅▅▅▄▅▅▄▅▅▅</td></tr><tr><td>val/epoch_Precision_0</td><td>▆▁▃▆▃▄▆▇▅▅▅▅▄▆▆▆▇▅▃▁█▆▆▅▄▇▃▇▆▇▅▆▃▄█▅▇▄▅▆</td></tr><tr><td>val/epoch_Precision_1</td><td>▁▁▁▁▃▂▂█▄▃▂▁▃▂▁▃▁▁▁▃▂▂▂▂▆▁▂▃▂▂▃▂▄▂▂▁▂▂▂▂</td></tr><tr><td>val/epoch_Precision_2</td><td>▁▁▁▁▁▁▁▁▁▁▁▁▁▁▁▁▁▁▁▁▁▁▁▁▁▁▁▁▁▁▁▁▁▁▁▁▁▁▁▁</td></tr><tr><td>val/epoch_Precision_3</td><td>▁▁▁▁▁▁▁▃▄▇▃▂▇▆▆▆▇▅▆▇▆▆▆▆█▆▆▅▇▆▅▆█▅▅▅▆▆▆▆</td></tr><tr><td>val/epoch_Recall_0</td><td>▁▆▆▅██▆▆▅▆▇▇▆▆▆▆▆▆▇▆▃▄▅▆▄▆▇▅▅▅▆▅▅▇▅▆▆▅▆▆</td></tr><tr><td>val/epoch_Recall_1</td><td>▁▁▁▁▂▂▂▂▅▃▂▁▄▂▁▃▁▁▁▅▂▃▂▂█▂▃▅▂▃▄▃▆▂▂▁▂▂▃▃</td></tr><tr><td>val/epoch_Recall_2</td><td>▁▁▁▁▁▁▁▁▁▁▁▁▁▁▁▁▁▁▁▁▁▁▁▁▁▁▁▁▁▁▁▁▁▁▁▁▁▁▁▁</td></tr><tr><td>val/epoch_Recall_3</td><td>▁▁▁▁▁▁▁▂▂▄▂▁▄▄▃▄▃▂▂▄▅▄▅▄█▃▃▄▄▄▅▅▅▄▄▅▄▅▄▄</td></tr><tr><td>val/epoch_TN_0</td><td>▇▂▁▆▂▂▆▆▆▄▅▃▅▅▅▆▅▅▁▄█▇▆▅▆▆▃▇▅▆▄▅▄▃▇▄▆▅▅▅</td></tr><tr><td>val/epoch_TN_1</td><td>████▅▆▆▅▄▄▆▇▂▄▆▄▇▆▇▂▄▄▅▄▁▅▅▃▅▅▅▅▃▄▅▆▅▅▅▅</td></tr><tr><td>val/epoch_TN_2</td><td>██▃▃▂▃▄▄▄▃▂▁▃▃▃▃▄▄▂▆▃▄▃▃▆▆▃▂▅▄▃▄▃▂▄▁▃▃▃▃</td></tr><tr><td>val/epoch_TN_3</td><td>███████▆▆▃▇█▄▄▅▄▆▆▆▂▂▄▃▄▁▆▆▃▄▄▄▄▃▄▃▃▅▄▄▄</td></tr><tr><td>val/epoch_TP_0</td><td>▁▆▇▅██▆▆▅▆▇▇▇▆▇▆▆▆▇▆▄▆▆▆▄▅█▆▇▆▇▇▆▇▅▇▆▆▇▇</td></tr><tr><td>val/epoch_TP_1</td><td>▁▁▁▁▃▂▂▃▆▃▂▁▅▃▁▄▁▁▁▅▃▄▂▃█▂▃▇▂▃▅▃▇▂▂▁▂▂▄▃</td></tr><tr><td>val/epoch_TP_2</td><td>▁▁▁▁▁▁▁▁▁▁▁▁▁▁▁▁▁▁▁▁▁▁▁▁▁▁▁▁▁▁▁▁▁▁▁▁▁▁▁▁</td></tr><tr><td>val/epoch_TP_3</td><td>▁▁▁▁▁▁▁▂▂▄▂▁▅▄▄▅▃▂▂▅▆▅▅▅█▃▃▄▅▅▅▅▅▄▅▆▄▆▅▅</td></tr><tr><td>val/epoch_loss</td><td>█▅▄▄▂▂▂▁▃▃▂▂▁▁▁▁▂▁▂▃▂▁▁▁▄▂▁▁▁▁▁▁▂▂▂▂▂▂▂▂</td></tr><tr><td>val/iter_F1_0</td><td>▁▅▆▆██▇▆▅▆▇▇▅▆▇▆▆▆▇▆▃▅▆▆▃▆▇▅▅▅▆▅▄▇▅▆▆▅▆▆</td></tr><tr><td>val/iter_F1_1</td><td>▁▁▁▁▂▂▂▃▅▃▂▁▄▂▁▃▁▁▁▅▂▃▂▂█▂▃▄▂▃▄▃▅▂▂▁▂▂▃▂</td></tr><tr><td>val/iter_F1_2</td><td>▁▁▁▁▁▁▁▁▁▁▁▁▁▁▁▁▁▁▁▁▁▁▁▁▁▁▁▁▁▁▁▁▁▁▁▁▁▁▁▁</td></tr><tr><td>val/iter_F1_3</td><td>▁▁▁▁▁▁▁▂▂▅▂▁▅▄▃▅▃▃▂▄▅▅▅▄█▃▄▄▅▄▅▅▅▄▅▅▄▅▅▅</td></tr><tr><td>val/iter_FN_0</td><td>█▃▂▄▁▁▃▃▄▃▂▂▂▃▂▃▃▃▂▃▅▃▃▃▅▄▁▃▂▃▂▂▃▂▄▂▃▃▂▂</td></tr><tr><td>val/iter_FN_1</td><td>████▆▇▇▆▃▆▇█▄▆█▅███▄▆▅▇▆▁▇▆▂▇▆▄▆▂▇▇█▇▇▅▆</td></tr><tr><td>val/iter_FN_2</td><td>▁▁▁▁▁▁▁▁▁▁▁▁▁▁▁▁▁▁▁▁▁▁▁▁▁▁▁▁▁▁▁▁▁▁▁▁▁▁▁▁</td></tr><tr><td>val/iter_FN_3</td><td>███████▇▇▅▇█▄▅▅▄▆▇▇▄▃▄▄▄▁▆▆▅▄▄▄▄▄▅▄▃▅▃▄▄</td></tr><tr><td>val/iter_FP_0</td><td>▂▇█▃▇▇▃▃▃▅▄▆▄▄▄▃▄▄█▅▁▂▃▄▃▃▆▂▄▃▅▄▅▆▂▅▃▄▄▄</td></tr><tr><td>val/iter_FP_1</td><td>▁▁▁▁▄▃▃▄▅▅▃▂▇▅▃▅▂▃▂▇▅▅▄▅█▄▄▆▄▄▄▄▆▅▄▃▄▄▄▄</td></tr><tr><td>val/iter_FP_2</td><td>▁▁▆▆▇▆▅▅▅▆▇█▆▆▆▆▅▅▇▃▆▅▆▆▃▃▆▇▄▅▆▅▆▇▅█▆▆▆▆</td></tr><tr><td>val/iter_FP_3</td><td>▁▁▁▁▁▁▁▃▃▆▂▁▅▅▄▅▃▃▃▇▇▅▆▅█▃▃▆▅▅▅▅▆▅▆▆▄▅▅▅</td></tr><tr><td>val/iter_IoU_0</td><td>▁▅▆▆██▇▆▅▆▇▇▆▆▇▆▆▆▆▆▄▅▆▆▄▆▇▆▆▅▆▆▅▇▆▇▆▅▇▇</td></tr><tr><td>val/iter_IoU_1</td><td>▁▁▁▁▂▂▂▃▅▃▂▁▄▂▁▃▁▁▁▅▂▃▂▂█▂▃▄▂▃▄▃▅▂▂▁▂▂▃▂</td></tr><tr><td>val/iter_IoU_2</td><td>▁▁▁▁▁▁▁▁▁▁▁▁▁▁▁▁▁▁▁▁▁▁▁▁▁▁▁▁▁▁▁▁▁▁▁▁▁▁▁▁</td></tr><tr><td>val/iter_IoU_3</td><td>▁▁▁▁▁▁▁▂▂▅▂▁▅▄▃▅▃▃▂▄▅▅▅▄█▃▄▄▅▄▅▅▅▄▅▅▄▅▅▅</td></tr><tr><td>val/iter_Precision_0</td><td>▆▁▃▆▃▄▆▇▅▅▅▅▄▆▆▆▇▅▃▁█▆▆▅▄▇▃▇▆▇▅▆▃▄█▅▇▄▅▆</td></tr><tr><td>val/iter_Precision_1</td><td>▁▁▁▁▃▂▂█▄▃▂▁▃▂▁▃▁▁▁▃▂▂▂▂▆▁▂▃▂▂▃▂▄▂▂▁▂▂▂▂</td></tr><tr><td>val/iter_Precision_2</td><td>▁▁▁▁▁▁▁▁▁▁▁▁▁▁▁▁▁▁▁▁▁▁▁▁▁▁▁▁▁▁▁▁▁▁▁▁▁▁▁▁</td></tr><tr><td>val/iter_Precision_3</td><td>▁▁▁▁▁▁▁▃▄▇▃▂▇▆▆▆▇▅▆▇▆▆▆▆█▆▆▅▇▆▅▆█▅▅▅▆▆▆▆</td></tr><tr><td>val/iter_Recall_0</td><td>▁▆▆▅██▆▆▅▆▇▇▆▆▆▆▆▆▇▆▃▄▅▆▄▆▇▅▅▅▆▅▅▇▅▆▆▅▆▆</td></tr><tr><td>val/iter_Recall_1</td><td>▁▁▁▁▂▂▂▂▅▃▂▁▄▂▁▃▁▁▁▅▂▃▂▂█▂▃▅▂▃▄▃▆▂▂▁▂▂▃▃</td></tr><tr><td>val/iter_Recall_2</td><td>▁▁▁▁▁▁▁▁▁▁▁▁▁▁▁▁▁▁▁▁▁▁▁▁▁▁▁▁▁▁▁▁▁▁▁▁▁▁▁▁</td></tr><tr><td>val/iter_Recall_3</td><td>▁▁▁▁▁▁▁▂▂▄▂▁▄▄▃▄▃▂▂▄▅▄▅▄█▃▃▄▄▄▅▅▅▄▄▅▄▅▄▄</td></tr><tr><td>val/iter_TN_0</td><td>▇▂▁▆▂▂▆▆▆▄▅▃▅▅▅▆▅▅▁▄█▇▆▅▆▆▃▇▅▆▄▅▄▃▇▄▆▅▅▅</td></tr><tr><td>val/iter_TN_1</td><td>████▅▆▆▅▄▄▆▇▂▄▆▄▇▆▇▂▄▄▅▄▁▅▅▃▅▅▅▅▃▄▅▆▅▅▅▅</td></tr><tr><td>val/iter_TN_2</td><td>██▃▃▂▃▄▄▄▃▂▁▃▃▃▃▄▄▂▆▃▄▃▃▆▆▃▂▅▄▃▄▃▂▄▁▃▃▃▃</td></tr><tr><td>val/iter_TN_3</td><td>███████▆▆▃▇█▄▄▅▄▆▆▆▂▂▄▃▄▁▆▆▃▄▄▄▄▃▄▃▃▅▄▄▄</td></tr><tr><td>val/iter_TP_0</td><td>▁▆▇▅██▆▆▅▆▇▇▇▆▇▆▆▆▇▆▄▆▆▆▄▅█▆▇▆▇▇▆▇▅▇▆▆▇▇</td></tr><tr><td>val/iter_TP_1</td><td>▁▁▁▁▃▂▂▃▆▃▂▁▅▃▁▄▁▁▁▅▃▄▂▃█▂▃▇▂▃▅▃▇▂▂▁▂▂▄▃</td></tr><tr><td>val/iter_TP_2</td><td>▁▁▁▁▁▁▁▁▁▁▁▁▁▁▁▁▁▁▁▁▁▁▁▁▁▁▁▁▁▁▁▁▁▁▁▁▁▁▁▁</td></tr><tr><td>val/iter_TP_3</td><td>▁▁▁▁▁▁▁▂▂▄▂▁▅▄▄▅▃▂▂▅▆▅▅▅█▃▃▄▅▅▅▅▅▄▅▆▄▆▅▅</td></tr><tr><td>val/iter_loss</td><td>█▅▄▄▂▂▂▁▃▃▂▂▁▁▁▁▂▁▂▃▂▁▁▁▄▂▁▁▁▁▁▁▂▂▂▂▂▂▂▂</td></tr><tr><td>val/mean_F1</td><td>▁▅▆▅▇▇▆▆▅█▆▆▇▇▇▇▇▆▇▇▅▆▇▇▇▆█▆▇▆█▇▆█▇█▇▇██</td></tr><tr><td>val/mean_IoU</td><td>▁▅▆▅▇█▆▆▅▇▇▇▇▇▇▇▇▆▇▇▅▆▇▇▆▆█▆▇▆█▇▆█▇█▇▇██</td></tr></table><br/></div><div class=\"wandb-col\"><h3>Run summary:</h3><br/><table class=\"wandb\"><tr><td>epoch</td><td>99</td></tr><tr><td>lr-AdamW</td><td>2e-05</td></tr><tr><td>train/epoch_F1_0</td><td>0.72091</td></tr><tr><td>train/epoch_F1_1</td><td>0.00017</td></tr><tr><td>train/epoch_F1_2</td><td>0.0</td></tr><tr><td>train/epoch_F1_3</td><td>0.11157</td></tr><tr><td>train/epoch_FN_0</td><td>32891.74609</td></tr><tr><td>train/epoch_FN_1</td><td>153736.53125</td></tr><tr><td>train/epoch_FN_2</td><td>0.0</td></tr><tr><td>train/epoch_FN_3</td><td>59924.73047</td></tr><tr><td>train/epoch_FP_0</td><td>17566.71289</td></tr><tr><td>train/epoch_FP_1</td><td>22008.88086</td></tr><tr><td>train/epoch_FP_2</td><td>137798.35938</td></tr><tr><td>train/epoch_FP_3</td><td>18686.45703</td></tr><tr><td>train/epoch_IoU_0</td><td>0.6026</td></tr><tr><td>train/epoch_IoU_1</td><td>8e-05</td></tr><tr><td>train/epoch_IoU_2</td><td>0.0</td></tr><tr><td>train/epoch_IoU_3</td><td>0.06999</td></tr><tr><td>train/epoch_Precision_0</td><td>0.80443</td></tr><tr><td>train/epoch_Precision_1</td><td>0.00045</td></tr><tr><td>train/epoch_Precision_2</td><td>0.0</td></tr><tr><td>train/epoch_Precision_3</td><td>0.21397</td></tr><tr><td>train/epoch_Recall_0</td><td>0.70701</td></tr><tr><td>train/epoch_Recall_1</td><td>0.00013</td></tr><tr><td>train/epoch_Recall_2</td><td>0.0</td></tr><tr><td>train/epoch_Recall_3</td><td>0.10798</td></tr><tr><td>train/epoch_TN_0</td><td>6411632.5</td></tr><tr><td>train/epoch_TN_1</td><td>6377828.0</td></tr><tr><td>train/epoch_TN_2</td><td>6415801.5</td></tr><tr><td>train/epoch_TN_3</td><td>6467697.5</td></tr><tr><td>train/epoch_TP_0</td><td>91509.07031</td></tr><tr><td>train/epoch_TP_1</td><td>26.35625</td></tr><tr><td>train/epoch_TP_2</td><td>0.0</td></tr><tr><td>train/epoch_TP_3</td><td>7290.88135</td></tr><tr><td>train/epoch_loss</td><td>0.3893</td></tr><tr><td>train/iter_F1_0</td><td>0.8696</td></tr><tr><td>train/iter_F1_1</td><td>0.0</td></tr><tr><td>train/iter_F1_2</td><td>0.0</td></tr><tr><td>train/iter_F1_3</td><td>0.0</td></tr><tr><td>train/iter_FN_0</td><td>1795.0</td></tr><tr><td>train/iter_FN_1</td><td>133554.0</td></tr><tr><td>train/iter_FN_2</td><td>0.0</td></tr><tr><td>train/iter_FN_3</td><td>67798.0</td></tr><tr><td>train/iter_FP_0</td><td>4634.0</td></tr><tr><td>train/iter_FP_1</td><td>0.0</td></tr><tr><td>train/iter_FP_2</td><td>130034.0</td></tr><tr><td>train/iter_FP_3</td><td>0.0</td></tr><tr><td>train/iter_IoU_0</td><td>0.76929</td></tr><tr><td>train/iter_IoU_1</td><td>0.0</td></tr><tr><td>train/iter_IoU_2</td><td>0.0</td></tr><tr><td>train/iter_IoU_3</td><td>0.0</td></tr><tr><td>train/iter_Precision_0</td><td>0.82225</td></tr><tr><td>train/iter_Precision_1</td><td>0.0</td></tr><tr><td>train/iter_Precision_2</td><td>0.0</td></tr><tr><td>train/iter_Precision_3</td><td>0.0</td></tr><tr><td>train/iter_Recall_0</td><td>0.92274</td></tr><tr><td>train/iter_Recall_1</td><td>0.0</td></tr><tr><td>train/iter_Recall_2</td><td>0.0</td></tr><tr><td>train/iter_Recall_3</td><td>0.0</td></tr><tr><td>train/iter_TN_0</td><td>6525734.0</td></tr><tr><td>train/iter_TN_1</td><td>6420046.0</td></tr><tr><td>train/iter_TN_2</td><td>6423566.0</td></tr><tr><td>train/iter_TN_3</td><td>6485802.0</td></tr><tr><td>train/iter_TP_0</td><td>21437.0</td></tr><tr><td>train/iter_TP_1</td><td>0.0</td></tr><tr><td>train/iter_TP_2</td><td>0.0</td></tr><tr><td>train/iter_TP_3</td><td>0.0</td></tr><tr><td>train/iter_loss</td><td>0.24368</td></tr><tr><td>train/mean_F1</td><td>0.20816</td></tr><tr><td>train/mean_IoU</td><td>0.16817</td></tr><tr><td>trainer/global_step</td><td>15999</td></tr><tr><td>val/epoch_F1_0</td><td>0.66915</td></tr><tr><td>val/epoch_F1_1</td><td>0.00046</td></tr><tr><td>val/epoch_F1_2</td><td>0.0</td></tr><tr><td>val/epoch_F1_3</td><td>0.07765</td></tr><tr><td>val/epoch_FN_0</td><td>35050.0</td></tr><tr><td>val/epoch_FN_1</td><td>144199.65625</td></tr><tr><td>val/epoch_FN_2</td><td>0.0</td></tr><tr><td>val/epoch_FN_3</td><td>52027.44922</td></tr><tr><td>val/epoch_FP_0</td><td>21347.30078</td></tr><tr><td>val/epoch_FP_1</td><td>14521.0752</td></tr><tr><td>val/epoch_FP_2</td><td>114665.72656</td></tr><tr><td>val/epoch_FP_3</td><td>15533.65039</td></tr><tr><td>val/epoch_IoU_0</td><td>0.54027</td></tr><tr><td>val/epoch_IoU_1</td><td>0.00023</td></tr><tr><td>val/epoch_IoU_2</td><td>0.0</td></tr><tr><td>val/epoch_IoU_3</td><td>0.04783</td></tr><tr><td>val/epoch_Precision_0</td><td>0.78564</td></tr><tr><td>val/epoch_Precision_1</td><td>0.00116</td></tr><tr><td>val/epoch_Precision_2</td><td>0.0</td></tr><tr><td>val/epoch_Precision_3</td><td>0.18496</td></tr><tr><td>val/epoch_Recall_0</td><td>0.62955</td></tr><tr><td>val/epoch_Recall_1</td><td>0.00031</td></tr><tr><td>val/epoch_Recall_2</td><td>0.0</td></tr><tr><td>val/epoch_Recall_3</td><td>0.06911</td></tr><tr><td>val/epoch_TN_0</td><td>6406282.0</td></tr><tr><td>val/epoch_TN_1</td><td>6394830.0</td></tr><tr><td>val/epoch_TN_2</td><td>6438934.0</td></tr><tr><td>val/epoch_TN_3</td><td>6481405.5</td></tr><tr><td>val/epoch_TP_0</td><td>90920.64844</td></tr><tr><td>val/epoch_TP_1</td><td>49.3</td></tr><tr><td>val/epoch_TP_2</td><td>0.0</td></tr><tr><td>val/epoch_TP_3</td><td>4633.7251</td></tr><tr><td>val/epoch_loss</td><td>0.40589</td></tr><tr><td>val/iter_F1_0</td><td>0.66915</td></tr><tr><td>val/iter_F1_1</td><td>0.00046</td></tr><tr><td>val/iter_F1_2</td><td>0.0</td></tr><tr><td>val/iter_F1_3</td><td>0.07765</td></tr><tr><td>val/iter_FN_0</td><td>35050.0</td></tr><tr><td>val/iter_FN_1</td><td>144199.65625</td></tr><tr><td>val/iter_FN_2</td><td>0.0</td></tr><tr><td>val/iter_FN_3</td><td>52027.44922</td></tr><tr><td>val/iter_FP_0</td><td>21347.30078</td></tr><tr><td>val/iter_FP_1</td><td>14521.0752</td></tr><tr><td>val/iter_FP_2</td><td>114665.72656</td></tr><tr><td>val/iter_FP_3</td><td>15533.65039</td></tr><tr><td>val/iter_IoU_0</td><td>0.54027</td></tr><tr><td>val/iter_IoU_1</td><td>0.00023</td></tr><tr><td>val/iter_IoU_2</td><td>0.0</td></tr><tr><td>val/iter_IoU_3</td><td>0.04783</td></tr><tr><td>val/iter_Precision_0</td><td>0.78564</td></tr><tr><td>val/iter_Precision_1</td><td>0.00116</td></tr><tr><td>val/iter_Precision_2</td><td>0.0</td></tr><tr><td>val/iter_Precision_3</td><td>0.18496</td></tr><tr><td>val/iter_Recall_0</td><td>0.62955</td></tr><tr><td>val/iter_Recall_1</td><td>0.00031</td></tr><tr><td>val/iter_Recall_2</td><td>0.0</td></tr><tr><td>val/iter_Recall_3</td><td>0.06911</td></tr><tr><td>val/iter_TN_0</td><td>6406282.5</td></tr><tr><td>val/iter_TN_1</td><td>6394830.0</td></tr><tr><td>val/iter_TN_2</td><td>6438934.5</td></tr><tr><td>val/iter_TN_3</td><td>6481404.5</td></tr><tr><td>val/iter_TP_0</td><td>90920.64844</td></tr><tr><td>val/iter_TP_1</td><td>49.3</td></tr><tr><td>val/iter_TP_2</td><td>0.0</td></tr><tr><td>val/iter_TP_3</td><td>4633.7251</td></tr><tr><td>val/iter_loss</td><td>0.40589</td></tr><tr><td>val/mean_F1</td><td>0.18682</td></tr><tr><td>val/mean_IoU</td><td>0.14708</td></tr></table><br/></div></div>"
      ],
      "text/plain": [
       "<IPython.core.display.HTML object>"
      ]
     },
     "metadata": {},
     "output_type": "display_data"
    },
    {
     "data": {
      "text/html": [
       "Synced <strong style=\"color:#cdcd00\">3090_fold1</strong>: <a href=\"https://wandb.ai/syuchimu/SpaceNet8_flood/runs/11f2bsw4\" target=\"_blank\">https://wandb.ai/syuchimu/SpaceNet8_flood/runs/11f2bsw4</a><br/>Synced 7 W&B file(s), 0 media file(s), 0 artifact file(s) and 2 other file(s)"
      ],
      "text/plain": [
       "<IPython.core.display.HTML object>"
      ]
     },
     "metadata": {},
     "output_type": "display_data"
    },
    {
     "data": {
      "text/html": [
       "Find logs at: <code>./wandb/run-20220726_062149-11f2bsw4/logs</code>"
      ],
      "text/plain": [
       "<IPython.core.display.HTML object>"
      ]
     },
     "metadata": {},
     "output_type": "display_data"
    },
    {
     "name": "stdout",
     "output_type": "stream",
     "text": [
      "############################################################\n",
      "### Fold: 2\n",
      "############################################################\n"
     ]
    },
    {
     "data": {
      "text/html": [
       "Changes to your `wandb` environment variables will be ignored because your `wandb` session has already started. For more information on how to modify your settings with `wandb.init()` arguments, please refer to <a href=\"https://wandb.me/wandb-init\" target=\"_blank\">the W&B docs</a>."
      ],
      "text/plain": [
       "<IPython.core.display.HTML object>"
      ]
     },
     "metadata": {},
     "output_type": "display_data"
    },
    {
     "data": {
      "text/html": [
       "Tracking run with wandb version 0.12.21"
      ],
      "text/plain": [
       "<IPython.core.display.HTML object>"
      ]
     },
     "metadata": {},
     "output_type": "display_data"
    },
    {
     "data": {
      "text/html": [
       "Run data is saved locally in <code>/media/syu/c983cccd-1cc7-4ce4-b206-7eb1a2cc5c94/topcoder/spacenet8/SpaceNet8/baseline/wandb/run-20220726_120224-191wq2kv</code>"
      ],
      "text/plain": [
       "<IPython.core.display.HTML object>"
      ]
     },
     "metadata": {},
     "output_type": "display_data"
    },
    {
     "data": {
      "text/html": [
       "Syncing run <strong><a href=\"https://wandb.ai/syuchimu/SpaceNet8_flood/runs/191wq2kv\" target=\"_blank\">3090_fold2</a></strong> to <a href=\"https://wandb.ai/syuchimu/SpaceNet8_flood\" target=\"_blank\">Weights & Biases</a> (<a href=\"https://wandb.me/run\" target=\"_blank\">docs</a>)<br/>"
      ],
      "text/plain": [
       "<IPython.core.display.HTML object>"
      ]
     },
     "metadata": {},
     "output_type": "display_data"
    },
    {
     "name": "stderr",
     "output_type": "stream",
     "text": [
      "Using 16bit native Automatic Mixed Precision (AMP)\n",
      "GPU available: True, used: True\n",
      "TPU available: False, using: 0 TPU cores\n",
      "IPU available: False, using: 0 IPUs\n",
      "HPU available: False, using: 0 HPUs\n",
      "`Trainer(val_check_interval=1.0)` was configured so validation will run at the end of the training epoch..\n",
      "LOCAL_RANK: 0 - CUDA_VISIBLE_DEVICES: [0]\n",
      "\n",
      "  | Name       | Type             | Params\n",
      "------------------------------------------------\n",
      "0 | backbone   | UnetPlusPlus     | 6.6 M \n",
      "1 | _criterion | MultiBCEDiceLoss | 0     \n",
      "------------------------------------------------\n",
      "6.6 M     Trainable params\n",
      "0         Non-trainable params\n",
      "6.6 M     Total params\n",
      "13.283    Total estimated model params size (MB)\n"
     ]
    },
    {
     "name": "stdout",
     "output_type": "stream",
     "text": [
      "### Start Trainig\n",
      "loaded 641 image filepaths\n",
      "loaded 160 image filepaths\n"
     ]
    },
    {
     "data": {
      "application/vnd.jupyter.widget-view+json": {
       "model_id": "7bc39177c3904e239a10a03ec599d39f",
       "version_major": 2,
       "version_minor": 0
      },
      "text/plain": [
       "Training: 0it [00:00, ?it/s]"
      ]
     },
     "metadata": {},
     "output_type": "display_data"
    },
    {
     "data": {
      "application/vnd.jupyter.widget-view+json": {
       "model_id": "d34b3bad436e44a1998cb43a8cd74dcc",
       "version_major": 2,
       "version_minor": 0
      },
      "text/plain": [
       "Validation: 0it [00:00, ?it/s]"
      ]
     },
     "metadata": {},
     "output_type": "display_data"
    },
    {
     "data": {
      "application/vnd.jupyter.widget-view+json": {
       "model_id": "7e8727ca3108430a97c23fb4d44fdae2",
       "version_major": 2,
       "version_minor": 0
      },
      "text/plain": [
       "Validation: 0it [00:00, ?it/s]"
      ]
     },
     "metadata": {},
     "output_type": "display_data"
    },
    {
     "data": {
      "application/vnd.jupyter.widget-view+json": {
       "model_id": "5527c3d86bce4db58d6f8a5811a6f2bf",
       "version_major": 2,
       "version_minor": 0
      },
      "text/plain": [
       "Validation: 0it [00:00, ?it/s]"
      ]
     },
     "metadata": {},
     "output_type": "display_data"
    },
    {
     "data": {
      "application/vnd.jupyter.widget-view+json": {
       "model_id": "71ef69b464e94127a7179612ec07ecc6",
       "version_major": 2,
       "version_minor": 0
      },
      "text/plain": [
       "Validation: 0it [00:00, ?it/s]"
      ]
     },
     "metadata": {},
     "output_type": "display_data"
    },
    {
     "data": {
      "application/vnd.jupyter.widget-view+json": {
       "model_id": "c97766c3a299434ea9f9077e6abbbc00",
       "version_major": 2,
       "version_minor": 0
      },
      "text/plain": [
       "Validation: 0it [00:00, ?it/s]"
      ]
     },
     "metadata": {},
     "output_type": "display_data"
    },
    {
     "data": {
      "application/vnd.jupyter.widget-view+json": {
       "model_id": "117da80ad9ad493b8e0560e0ce57b30d",
       "version_major": 2,
       "version_minor": 0
      },
      "text/plain": [
       "Validation: 0it [00:00, ?it/s]"
      ]
     },
     "metadata": {},
     "output_type": "display_data"
    },
    {
     "data": {
      "application/vnd.jupyter.widget-view+json": {
       "model_id": "ec797e46bab74fb2ac85885cf69d8c63",
       "version_major": 2,
       "version_minor": 0
      },
      "text/plain": [
       "Validation: 0it [00:00, ?it/s]"
      ]
     },
     "metadata": {},
     "output_type": "display_data"
    },
    {
     "data": {
      "application/vnd.jupyter.widget-view+json": {
       "model_id": "60db5541703248df91798f952c47d366",
       "version_major": 2,
       "version_minor": 0
      },
      "text/plain": [
       "Validation: 0it [00:00, ?it/s]"
      ]
     },
     "metadata": {},
     "output_type": "display_data"
    },
    {
     "data": {
      "application/vnd.jupyter.widget-view+json": {
       "model_id": "8c4a66895dad443c981d1fde2e15ed21",
       "version_major": 2,
       "version_minor": 0
      },
      "text/plain": [
       "Validation: 0it [00:00, ?it/s]"
      ]
     },
     "metadata": {},
     "output_type": "display_data"
    },
    {
     "data": {
      "application/vnd.jupyter.widget-view+json": {
       "model_id": "5b973c1c23d7458fb116ac6979cec767",
       "version_major": 2,
       "version_minor": 0
      },
      "text/plain": [
       "Validation: 0it [00:00, ?it/s]"
      ]
     },
     "metadata": {},
     "output_type": "display_data"
    },
    {
     "data": {
      "application/vnd.jupyter.widget-view+json": {
       "model_id": "ca78fd55a2f84dbfaf57d03bde82b3bc",
       "version_major": 2,
       "version_minor": 0
      },
      "text/plain": [
       "Validation: 0it [00:00, ?it/s]"
      ]
     },
     "metadata": {},
     "output_type": "display_data"
    },
    {
     "data": {
      "application/vnd.jupyter.widget-view+json": {
       "model_id": "4050d01edfc54d6c8dcf6d80fbf997db",
       "version_major": 2,
       "version_minor": 0
      },
      "text/plain": [
       "Validation: 0it [00:00, ?it/s]"
      ]
     },
     "metadata": {},
     "output_type": "display_data"
    },
    {
     "data": {
      "application/vnd.jupyter.widget-view+json": {
       "model_id": "6cdaa0f4b5784bcc85f15ce3ff2873f2",
       "version_major": 2,
       "version_minor": 0
      },
      "text/plain": [
       "Validation: 0it [00:00, ?it/s]"
      ]
     },
     "metadata": {},
     "output_type": "display_data"
    },
    {
     "data": {
      "application/vnd.jupyter.widget-view+json": {
       "model_id": "fd4a74767e834058aa36e7e0c3ed8eb3",
       "version_major": 2,
       "version_minor": 0
      },
      "text/plain": [
       "Validation: 0it [00:00, ?it/s]"
      ]
     },
     "metadata": {},
     "output_type": "display_data"
    },
    {
     "data": {
      "application/vnd.jupyter.widget-view+json": {
       "model_id": "b633be6c4dd14145a60e38218d05a9bf",
       "version_major": 2,
       "version_minor": 0
      },
      "text/plain": [
       "Validation: 0it [00:00, ?it/s]"
      ]
     },
     "metadata": {},
     "output_type": "display_data"
    },
    {
     "data": {
      "application/vnd.jupyter.widget-view+json": {
       "model_id": "d4866afd9e244a47ad3e15e7a7982e47",
       "version_major": 2,
       "version_minor": 0
      },
      "text/plain": [
       "Validation: 0it [00:00, ?it/s]"
      ]
     },
     "metadata": {},
     "output_type": "display_data"
    },
    {
     "data": {
      "application/vnd.jupyter.widget-view+json": {
       "model_id": "af6d838344094372941876e3fe844afa",
       "version_major": 2,
       "version_minor": 0
      },
      "text/plain": [
       "Validation: 0it [00:00, ?it/s]"
      ]
     },
     "metadata": {},
     "output_type": "display_data"
    },
    {
     "data": {
      "application/vnd.jupyter.widget-view+json": {
       "model_id": "59355307265242c79f6cbfe79c1cd496",
       "version_major": 2,
       "version_minor": 0
      },
      "text/plain": [
       "Validation: 0it [00:00, ?it/s]"
      ]
     },
     "metadata": {},
     "output_type": "display_data"
    },
    {
     "data": {
      "application/vnd.jupyter.widget-view+json": {
       "model_id": "6a44cbe9cb20406cba9ce8ae58d0c8ca",
       "version_major": 2,
       "version_minor": 0
      },
      "text/plain": [
       "Validation: 0it [00:00, ?it/s]"
      ]
     },
     "metadata": {},
     "output_type": "display_data"
    },
    {
     "data": {
      "application/vnd.jupyter.widget-view+json": {
       "model_id": "38ad51bd6c1549c1bfc4a28f7b8613a5",
       "version_major": 2,
       "version_minor": 0
      },
      "text/plain": [
       "Validation: 0it [00:00, ?it/s]"
      ]
     },
     "metadata": {},
     "output_type": "display_data"
    },
    {
     "data": {
      "application/vnd.jupyter.widget-view+json": {
       "model_id": "6fb6753de5fa46f9bfe7718056ce1a9a",
       "version_major": 2,
       "version_minor": 0
      },
      "text/plain": [
       "Validation: 0it [00:00, ?it/s]"
      ]
     },
     "metadata": {},
     "output_type": "display_data"
    },
    {
     "data": {
      "application/vnd.jupyter.widget-view+json": {
       "model_id": "783e6f02d8cb4d1280d8dca7dd7b6f56",
       "version_major": 2,
       "version_minor": 0
      },
      "text/plain": [
       "Validation: 0it [00:00, ?it/s]"
      ]
     },
     "metadata": {},
     "output_type": "display_data"
    },
    {
     "data": {
      "application/vnd.jupyter.widget-view+json": {
       "model_id": "2b6f41edb13741e79b4772e56d45f5af",
       "version_major": 2,
       "version_minor": 0
      },
      "text/plain": [
       "Validation: 0it [00:00, ?it/s]"
      ]
     },
     "metadata": {},
     "output_type": "display_data"
    },
    {
     "data": {
      "application/vnd.jupyter.widget-view+json": {
       "model_id": "d1eeeb5191ec4f80bd9eed42f1911921",
       "version_major": 2,
       "version_minor": 0
      },
      "text/plain": [
       "Validation: 0it [00:00, ?it/s]"
      ]
     },
     "metadata": {},
     "output_type": "display_data"
    },
    {
     "data": {
      "application/vnd.jupyter.widget-view+json": {
       "model_id": "157dc73441404ca0a9f71a828a1a7f7c",
       "version_major": 2,
       "version_minor": 0
      },
      "text/plain": [
       "Validation: 0it [00:00, ?it/s]"
      ]
     },
     "metadata": {},
     "output_type": "display_data"
    },
    {
     "data": {
      "application/vnd.jupyter.widget-view+json": {
       "model_id": "125e8904bc6649fe82c644f45805e855",
       "version_major": 2,
       "version_minor": 0
      },
      "text/plain": [
       "Validation: 0it [00:00, ?it/s]"
      ]
     },
     "metadata": {},
     "output_type": "display_data"
    },
    {
     "data": {
      "application/vnd.jupyter.widget-view+json": {
       "model_id": "7fe33a201e114b21bd2310f540e8777e",
       "version_major": 2,
       "version_minor": 0
      },
      "text/plain": [
       "Validation: 0it [00:00, ?it/s]"
      ]
     },
     "metadata": {},
     "output_type": "display_data"
    },
    {
     "data": {
      "application/vnd.jupyter.widget-view+json": {
       "model_id": "4cc2b38f3b1b41718e707c5958009b57",
       "version_major": 2,
       "version_minor": 0
      },
      "text/plain": [
       "Validation: 0it [00:00, ?it/s]"
      ]
     },
     "metadata": {},
     "output_type": "display_data"
    },
    {
     "data": {
      "application/vnd.jupyter.widget-view+json": {
       "model_id": "e8f5bcbf493d4a81b6e1b659b6debcab",
       "version_major": 2,
       "version_minor": 0
      },
      "text/plain": [
       "Validation: 0it [00:00, ?it/s]"
      ]
     },
     "metadata": {},
     "output_type": "display_data"
    },
    {
     "data": {
      "application/vnd.jupyter.widget-view+json": {
       "model_id": "c6fa642f9e5949e080b8bea827d2dfcd",
       "version_major": 2,
       "version_minor": 0
      },
      "text/plain": [
       "Validation: 0it [00:00, ?it/s]"
      ]
     },
     "metadata": {},
     "output_type": "display_data"
    },
    {
     "data": {
      "application/vnd.jupyter.widget-view+json": {
       "model_id": "9463eff84727455cbf905c46b56d1433",
       "version_major": 2,
       "version_minor": 0
      },
      "text/plain": [
       "Validation: 0it [00:00, ?it/s]"
      ]
     },
     "metadata": {},
     "output_type": "display_data"
    },
    {
     "data": {
      "application/vnd.jupyter.widget-view+json": {
       "model_id": "3e71564414a344adb24f5498406f7639",
       "version_major": 2,
       "version_minor": 0
      },
      "text/plain": [
       "Validation: 0it [00:00, ?it/s]"
      ]
     },
     "metadata": {},
     "output_type": "display_data"
    },
    {
     "data": {
      "application/vnd.jupyter.widget-view+json": {
       "model_id": "100958fe4e474f25bf6f007003f74a71",
       "version_major": 2,
       "version_minor": 0
      },
      "text/plain": [
       "Validation: 0it [00:00, ?it/s]"
      ]
     },
     "metadata": {},
     "output_type": "display_data"
    },
    {
     "data": {
      "application/vnd.jupyter.widget-view+json": {
       "model_id": "f486d51e33004c1ab8407d4e32bc9357",
       "version_major": 2,
       "version_minor": 0
      },
      "text/plain": [
       "Validation: 0it [00:00, ?it/s]"
      ]
     },
     "metadata": {},
     "output_type": "display_data"
    },
    {
     "data": {
      "application/vnd.jupyter.widget-view+json": {
       "model_id": "9373196c46f04e928fc3e8abf7558cac",
       "version_major": 2,
       "version_minor": 0
      },
      "text/plain": [
       "Validation: 0it [00:00, ?it/s]"
      ]
     },
     "metadata": {},
     "output_type": "display_data"
    },
    {
     "data": {
      "application/vnd.jupyter.widget-view+json": {
       "model_id": "79658311f00e4616bc79ec38018eb9ba",
       "version_major": 2,
       "version_minor": 0
      },
      "text/plain": [
       "Validation: 0it [00:00, ?it/s]"
      ]
     },
     "metadata": {},
     "output_type": "display_data"
    },
    {
     "data": {
      "application/vnd.jupyter.widget-view+json": {
       "model_id": "bb3a7e7e512f4ac7afbbee6d87ad11ee",
       "version_major": 2,
       "version_minor": 0
      },
      "text/plain": [
       "Validation: 0it [00:00, ?it/s]"
      ]
     },
     "metadata": {},
     "output_type": "display_data"
    },
    {
     "data": {
      "application/vnd.jupyter.widget-view+json": {
       "model_id": "f7db3f671c884f8eb088f971240abfac",
       "version_major": 2,
       "version_minor": 0
      },
      "text/plain": [
       "Validation: 0it [00:00, ?it/s]"
      ]
     },
     "metadata": {},
     "output_type": "display_data"
    },
    {
     "data": {
      "application/vnd.jupyter.widget-view+json": {
       "model_id": "243652dc056447f3a86ded734432d1a0",
       "version_major": 2,
       "version_minor": 0
      },
      "text/plain": [
       "Validation: 0it [00:00, ?it/s]"
      ]
     },
     "metadata": {},
     "output_type": "display_data"
    },
    {
     "data": {
      "application/vnd.jupyter.widget-view+json": {
       "model_id": "407d07d8472948d7ae43c635bfd23f40",
       "version_major": 2,
       "version_minor": 0
      },
      "text/plain": [
       "Validation: 0it [00:00, ?it/s]"
      ]
     },
     "metadata": {},
     "output_type": "display_data"
    },
    {
     "data": {
      "application/vnd.jupyter.widget-view+json": {
       "model_id": "72b3f7bd48c946c5a63f6b237687ac66",
       "version_major": 2,
       "version_minor": 0
      },
      "text/plain": [
       "Validation: 0it [00:00, ?it/s]"
      ]
     },
     "metadata": {},
     "output_type": "display_data"
    },
    {
     "data": {
      "application/vnd.jupyter.widget-view+json": {
       "model_id": "6b094c5e5017489b9d70da52a86e8007",
       "version_major": 2,
       "version_minor": 0
      },
      "text/plain": [
       "Validation: 0it [00:00, ?it/s]"
      ]
     },
     "metadata": {},
     "output_type": "display_data"
    },
    {
     "data": {
      "application/vnd.jupyter.widget-view+json": {
       "model_id": "d7a550452df646e4a0440787617c7ae0",
       "version_major": 2,
       "version_minor": 0
      },
      "text/plain": [
       "Validation: 0it [00:00, ?it/s]"
      ]
     },
     "metadata": {},
     "output_type": "display_data"
    },
    {
     "data": {
      "application/vnd.jupyter.widget-view+json": {
       "model_id": "089ac8e33def468e98465db4653fcf80",
       "version_major": 2,
       "version_minor": 0
      },
      "text/plain": [
       "Validation: 0it [00:00, ?it/s]"
      ]
     },
     "metadata": {},
     "output_type": "display_data"
    },
    {
     "data": {
      "application/vnd.jupyter.widget-view+json": {
       "model_id": "cb4ff15b3afc48b497050ac29b7be469",
       "version_major": 2,
       "version_minor": 0
      },
      "text/plain": [
       "Validation: 0it [00:00, ?it/s]"
      ]
     },
     "metadata": {},
     "output_type": "display_data"
    },
    {
     "data": {
      "application/vnd.jupyter.widget-view+json": {
       "model_id": "3eedec3d171a4dce92239aabfd9ea2c0",
       "version_major": 2,
       "version_minor": 0
      },
      "text/plain": [
       "Validation: 0it [00:00, ?it/s]"
      ]
     },
     "metadata": {},
     "output_type": "display_data"
    },
    {
     "data": {
      "application/vnd.jupyter.widget-view+json": {
       "model_id": "9f8460ad3ba24323b671a31f61e67767",
       "version_major": 2,
       "version_minor": 0
      },
      "text/plain": [
       "Validation: 0it [00:00, ?it/s]"
      ]
     },
     "metadata": {},
     "output_type": "display_data"
    },
    {
     "name": "stderr",
     "output_type": "stream",
     "text": [
      "wandb: Network error (ReadTimeout), entering retry loop.\n"
     ]
    },
    {
     "data": {
      "application/vnd.jupyter.widget-view+json": {
       "model_id": "770bf1f3594b4fa286f9134331ca420a",
       "version_major": 2,
       "version_minor": 0
      },
      "text/plain": [
       "Validation: 0it [00:00, ?it/s]"
      ]
     },
     "metadata": {},
     "output_type": "display_data"
    },
    {
     "data": {
      "application/vnd.jupyter.widget-view+json": {
       "model_id": "a79284abbace4042b63c1c124329447b",
       "version_major": 2,
       "version_minor": 0
      },
      "text/plain": [
       "Validation: 0it [00:00, ?it/s]"
      ]
     },
     "metadata": {},
     "output_type": "display_data"
    },
    {
     "data": {
      "application/vnd.jupyter.widget-view+json": {
       "model_id": "079210b3d32c4a57bb3e74988ab4a482",
       "version_major": 2,
       "version_minor": 0
      },
      "text/plain": [
       "Validation: 0it [00:00, ?it/s]"
      ]
     },
     "metadata": {},
     "output_type": "display_data"
    },
    {
     "data": {
      "text/html": [
       "Waiting for W&B process to finish... <strong style=\"color:green\">(success).</strong>"
      ],
      "text/plain": [
       "<IPython.core.display.HTML object>"
      ]
     },
     "metadata": {},
     "output_type": "display_data"
    },
    {
     "data": {
      "application/vnd.jupyter.widget-view+json": {
       "model_id": "8b5352ba4eef423084e1fcc07fafe69e",
       "version_major": 2,
       "version_minor": 0
      },
      "text/plain": [
       "VBox(children=(Label(value='1.115 MB of 1.115 MB uploaded (0.000 MB deduped)\\r'), FloatProgress(value=1.0, max…"
      ]
     },
     "metadata": {},
     "output_type": "display_data"
    },
    {
     "data": {
      "text/html": [
       "<style>\n",
       "    table.wandb td:nth-child(1) { padding: 0 10px; text-align: left ; width: auto;} td:nth-child(2) {text-align: left ; width: 100%}\n",
       "    .wandb-row { display: flex; flex-direction: row; flex-wrap: wrap; justify-content: flex-start; width: 100% }\n",
       "    .wandb-col { display: flex; flex-direction: column; flex-basis: 100%; flex: 1; padding: 10px; }\n",
       "    </style>\n",
       "<div class=\"wandb-row\"><div class=\"wandb-col\"><h3>Run history:</h3><br/><table class=\"wandb\"><tr><td>epoch</td><td>▁▁▁▁▂▂▂▂▂▃▃▃▃▃▃▄▄▄▄▄▅▅▅▅▅▅▆▆▆▆▆▇▇▇▇▇▇███</td></tr><tr><td>lr-AdamW</td><td>██▇▆▄▃▂▁██▇▆▄▃▂▁██▇▆▄▃▂▁██▇▆▄▃▂▁██▇▆▄▃▂▁</td></tr><tr><td>train/epoch_F1_0</td><td>▁▆▇▇▇▇▇▇▆▇▇▇▇▇▇█▇▇▇▇▇▇██▇▇▇▇████▇▇██████</td></tr><tr><td>train/epoch_F1_1</td><td>█▁▁▁▁▂▂▂▃▂▂▂▂▂▂▂▂▂▃▃▃▃▂▃▃▂▃▂▃▂▃▃▃▃▃▃▄▃▃▃</td></tr><tr><td>train/epoch_F1_2</td><td>▁▁▁▁▁▁▁▁▁▁▁▁▁▁▁▁▁▁▁▁▁▁▁▁▁▁▁▁▁▁▁▁▁▁▁▁▁▁▁▁</td></tr><tr><td>train/epoch_F1_3</td><td>▁▁▁▁▁▁▁▁▁▁▅▆▅▆▆▆▅▅▆▆▇▇▇▇▆▅▇▆▇▇▇█▆▆▇█▇█▇█</td></tr><tr><td>train/epoch_FN_0</td><td>█▃▂▂▂▂▂▂▃▂▂▂▁▁▁▁▂▂▂▁▁▁▁▁▁▁▁▁▁▁▁▁▁▁▁▁▁▁▁▁</td></tr><tr><td>train/epoch_FN_1</td><td>▁████▇▇█▇▇▇▇██████▆▆▇█▇▇▇▇▆▇▇█▇▇▇██▇▆██▇</td></tr><tr><td>train/epoch_FN_2</td><td>▁▁▁▁▁▁▁▁▁▁▁▁▁▁▁▁▁▁▁▁▁▁▁▁▁▁▁▁▁▁▁▁▁▁▁▁▁▁▁▁</td></tr><tr><td>train/epoch_FN_3</td><td>▇███████▇█▅▅▅▄▃▄▄▅▄▃▃▃▂▂▄▄▃▃▂▂▂▂▄▄▃▂▂▂▁▁</td></tr><tr><td>train/epoch_FP_0</td><td>█▂▁▁▁▁▁▁▁▁▁▁▁▁▁▁▁▁▁▁▁▁▁▁▁▁▁▁▁▁▁▁▁▁▁▁▁▁▁▁</td></tr><tr><td>train/epoch_FP_1</td><td>█▁▁▁▁▁▂▂▂▂▂▂▂▂▂▂▂▂▂▂▂▂▂▂▂▂▂▂▂▂▂▂▂▂▂▂▂▂▂▂</td></tr><tr><td>train/epoch_FP_2</td><td>█▁▂▂▂▂▂▂▂▂▂▂▂▂▂▂▂▂▂▂▂▂▂▂▂▂▂▂▂▂▂▂▂▂▂▂▂▂▂▂</td></tr><tr><td>train/epoch_FP_3</td><td>█▁▁▁▁▁▁▁▁▁▂▂▂▂▂▂▂▂▂▂▂▂▂▂▂▂▂▂▂▂▂▂▂▂▂▂▂▂▂▂</td></tr><tr><td>train/epoch_IoU_0</td><td>▁▆▆▇▇▇▇▇▆▇▇▇▇▇▇█▆▇▇▇▇▇█▇▇▇▇▇████▇▇██████</td></tr><tr><td>train/epoch_IoU_1</td><td>█▁▁▁▁▂▂▂▃▂▂▂▂▂▂▂▂▂▃▃▃▃▂▃▃▂▃▂▃▂▃▃▃▃▃▃▄▃▃▃</td></tr><tr><td>train/epoch_IoU_2</td><td>▁▁▁▁▁▁▁▁▁▁▁▁▁▁▁▁▁▁▁▁▁▁▁▁▁▁▁▁▁▁▁▁▁▁▁▁▁▁▁▁</td></tr><tr><td>train/epoch_IoU_3</td><td>▁▁▁▁▁▁▁▁▁▁▅▅▅▆▆▆▅▅▅▆▇▇▇▇▅▅▆▆▇▇▇█▆▆▇█▇███</td></tr><tr><td>train/epoch_Precision_0</td><td>▁▆▇▇▇▇██▇▇▇▇██▇█▇▇▇█████▇▇▇██████▇██████</td></tr><tr><td>train/epoch_Precision_1</td><td>▃▁▁▄▁▂▅█▆▂▆▁▂▂▂▃▂▅▂▂▂▂▄▂▅▂▃▂▂▄▂▂▂▂▃▂▂▂▂▂</td></tr><tr><td>train/epoch_Precision_2</td><td>▁▁▁▁▁▁▁▁▁▁▁▁▁▁▁▁▁▁▁▁▁▁▁▁▁▁▁▁▁▁▁▁▁▁▁▁▁▁▁▁</td></tr><tr><td>train/epoch_Precision_3</td><td>▁▁▁▁▁▁▄▆▄▃█▇▇▇▇▇▆▇▆▆▇▇▇▆▇▇▇▆█▇▇▇▆▇▇▇▇▇▇█</td></tr><tr><td>train/epoch_Recall_0</td><td>▁▇▇▇▇▇▇▇▆▇▇▇▇▇▇█▇▇▇▇▇▇█▇▇▇▇▇████▇▇██████</td></tr><tr><td>train/epoch_Recall_1</td><td>█▁▁▁▁▁▁▁▁▁▁▁▁▁▁▁▁▁▁▁▁▁▁▁▁▁▁▁▁▁▁▁▁▁▁▁▁▁▁▁</td></tr><tr><td>train/epoch_Recall_2</td><td>▁▁▁▁▁▁▁▁▁▁▁▁▁▁▁▁▁▁▁▁▁▁▁▁▁▁▁▁▁▁▁▁▁▁▁▁▁▁▁▁</td></tr><tr><td>train/epoch_Recall_3</td><td>▂▁▁▁▁▁▁▁▁▁▄▅▄▅▆▆▅▅▅▆▇▆▇▇▅▅▆▆▇▇▇█▅▆▆█▇█▇█</td></tr><tr><td>train/epoch_TN_0</td><td>▁▇██████████████████████████████████████</td></tr><tr><td>train/epoch_TN_1</td><td>▁█████▇▇▇▇▇▇▇▇▇▇▇▇▇▇▇▇▇▇▇▇▇▇▇▇▇▇▇▇▇▇▇▇▇▇</td></tr><tr><td>train/epoch_TN_2</td><td>▁█▇▇▇▇▇▇▇▇▇▇▇▇▇▇▇▇▇▇▇▇▇▇▇▇▇▇▇▇▇▇▇▇▇▇▇▇▇▇</td></tr><tr><td>train/epoch_TN_3</td><td>▁█████████▇▇▇▇▇▇▇▇▇▇▇▇▇▇▇▇▇▇▇▇▇▇▇▇▇▇▇▇▇▇</td></tr><tr><td>train/epoch_TP_0</td><td>▁▆▇▇▇▇▇▇▆▇▇▇████▇▇▇█████████████████████</td></tr><tr><td>train/epoch_TP_1</td><td>█▁▁▁▁▁▁▁▁▁▁▁▁▁▁▁▁▁▁▁▁▁▁▁▁▁▁▁▁▁▁▁▁▁▁▁▁▁▁▁</td></tr><tr><td>train/epoch_TP_2</td><td>▁▁▁▁▁▁▁▁▁▁▁▁▁▁▁▁▁▁▁▁▁▁▁▁▁▁▁▁▁▁▁▁▁▁▁▁▁▁▁▁</td></tr><tr><td>train/epoch_TP_3</td><td>▂▁▁▁▁▁▁▁▁▁▄▄▄▅▆▅▅▅▅▆▆▆▆▇▅▅▆▆▇▇▇▇▆▅▆▇▇▇██</td></tr><tr><td>train/epoch_loss</td><td>█▃▃▂▂▃▃▂▃▂▂▂▂▂▂▂▂▂▁▂▂▂▂▁▃▁▂▁▂▂▂▂▂▂▂▂▂▂▁▂</td></tr><tr><td>train/iter_F1_0</td><td>▁▂▆▅▇▃▆▇▇▁▅▆▇▆▇▇▇█▆▆▇█▇▇▇▇▇▆▄█▃▄███▆▇▇██</td></tr><tr><td>train/iter_F1_1</td><td>▁▁▁▁▁▁▁▁▁▁▁▁▁▁▁▁▁▁▁▁▁▁▆▁▁▁▁▁▆▁▁█▁▁▁▁▁▂▁▁</td></tr><tr><td>train/iter_F1_2</td><td>▁▁▁▁▁▁▁▁▁▁▁▁▁▁▁▁▁▁▁▁▁▁▁▁▁▁▁▁▁▁▁▁▁▁▁▁▁▁▁▁</td></tr><tr><td>train/iter_F1_3</td><td>▁▁▁▁▁▁▁▁▁▂▁▅█▁▂▁▁▁▁▂▂▁▃▁▄▁▂▁▂▁▄▃▁▁▁▄▁▁▂▃</td></tr><tr><td>train/iter_FN_0</td><td>▄▇▂▇▃▁▄▃▄▁▂▁▇▁▂▂▂▁▂▁▁▁▂▁▁▁▁▂▄▂▁▃▂▁▂▃▁█▂▃</td></tr><tr><td>train/iter_FN_1</td><td>▃▃▄▄▄▂▃▅▄▁▃▂▅▁▃▃▄▄▃▃▃▂▆▃▃▃▃▂▅▄▂▄▄▄▃▃▃█▅▅</td></tr><tr><td>train/iter_FN_2</td><td>▁▁▁▁▁▁▁▁▁▁▁▁▁▁▁▁▁▁▁▁▁▁▁▁▁▁▁▁▁▁▁▁▁▁▁▁▁▁▁▁</td></tr><tr><td>train/iter_FN_3</td><td>▄▄▅▄▇▁▄▄▅▃▃▃▁▂▅▄██▄▃▄▃▅▆▃▄▄▁▆▂▄▅▄▇▃▂▅▃▄▃</td></tr><tr><td>train/iter_FP_0</td><td>▁▁▁▁▂▂▂▂▂█▁▁▃▁▂▁▂▂▁▁▁▁▂▁▁▁▁▂▁▃▂▁▃▂▂▁▁▄▂▂</td></tr><tr><td>train/iter_FP_1</td><td>▁▁▁▁▁▂▁▃▁▁▁▁▁▁▁█▁▁▁▁▁▁▂▁▁▁▁▁▄▁▁▃▁▁▁▂▁▇▁▂</td></tr><tr><td>train/iter_FP_2</td><td>▁▂▃▂▄▃▃▄▃▄▂▃▆▂▃▄▅▄▂▃▃▂▅▃▃▄▃▃▃▄▃▃▅▅▅▃▄█▅▄</td></tr><tr><td>train/iter_FP_3</td><td>▁▁▁▁▁▁▁▁▁▁▁▂▁▁▄▅▂▁▃▁▂▁▄▁▃▁▂▁▅▃▂█▁▁▁▂▁▆▁▅</td></tr><tr><td>train/iter_IoU_0</td><td>▁▂▅▄▇▂▅▇▆▁▄▆▇▅▆▆▇▇▅▆▇█▇▆▆▆▇▅▃█▂▃███▅▇▆█▇</td></tr><tr><td>train/iter_IoU_1</td><td>▁▁▁▁▁▁▁▁▁▁▁▁▁▁▁▁▁▁▁▁▁▁▆▁▁▁▁▁▆▁▁█▁▁▁▁▁▂▁▁</td></tr><tr><td>train/iter_IoU_2</td><td>▁▁▁▁▁▁▁▁▁▁▁▁▁▁▁▁▁▁▁▁▁▁▁▁▁▁▁▁▁▁▁▁▁▁▁▁▁▁▁▁</td></tr><tr><td>train/iter_IoU_3</td><td>▁▁▁▁▁▁▁▁▁▁▁▄█▁▂▁▁▁▁▂▂▁▂▁▃▁▂▁▂▁▃▂▁▁▁▃▁▁▂▃</td></tr><tr><td>train/iter_Precision_0</td><td>▇▆▆█▇▂▆▇█▁▆▆█▅▆▇▇▇█▇▇█▇▇▇▇▇▅▇▇▂▇▇▇▇▇▇▇▇▇</td></tr><tr><td>train/iter_Precision_1</td><td>▁▁▁▁▁▁▁▁▁▁▁▁▁▁▁▁▁▁▁▁▁▁█▁▁▁▁▁▄▁▁▆▁▁▁▁▁▁▁▁</td></tr><tr><td>train/iter_Precision_2</td><td>▁▁▁▁▁▁▁▁▁▁▁▁▁▁▁▁▁▁▁▁▁▁▁▁▁▁▁▁▁▁▁▁▁▁▁▁▁▁▁▁</td></tr><tr><td>train/iter_Precision_3</td><td>▁▁▁▁▁▁▁▇▂█▁▇▇▁▂▁▂▁▁█▄▆▃▁▄▁▄▁▂▁▇▂▁▁▁▄▁▁▆▃</td></tr><tr><td>train/iter_Recall_0</td><td>▁▂▅▃▇▅▅▇▆▆▄▇▇▆▆▆▇█▄▅▆▇▇▆▇▇▆▅▃█▇▃██▇▅▇▆█▇</td></tr><tr><td>train/iter_Recall_1</td><td>▁▁▁▁▁▁▁▁▁▁▁▁▁▁▁▁▁▁▁▁▁▁▆▁▁▁▁▁▆▁▁█▁▁▁▁▁▂▁▁</td></tr><tr><td>train/iter_Recall_2</td><td>▁▁▁▁▁▁▁▁▁▁▁▁▁▁▁▁▁▁▁▁▁▁▁▁▁▁▁▁▁▁▁▁▁▁▁▁▁▁▁▁</td></tr><tr><td>train/iter_Recall_3</td><td>▁▁▁▁▁▁▁▁▁▁▁▄█▁▂▁▁▁▁▂▂▁▂▁▃▁▂▁▂▁▃▃▁▁▁▃▁▁▂▄</td></tr><tr><td>train/iter_TN_0</td><td>▇▆▇▆▅▇▆▅▆▆▇█▁█▇▇▇▆▇███▆████▇▇▅█▇▅▆▅▇█▁▄▅</td></tr><tr><td>train/iter_TN_1</td><td>▆▆▆▆▅▇▇▅▆█▇▇▅█▆▄▆▆▇▇▇█▄▇▇▇▆▇▄▆▇▅▆▆▆▆▆▁▅▅</td></tr><tr><td>train/iter_TN_2</td><td>█▇▆▇▅▆▆▅▆▅▇▆▃▇▆▅▄▅▇▆▆▇▄▆▆▅▆▆▆▅▆▆▄▄▄▆▅▁▄▅</td></tr><tr><td>train/iter_TN_3</td><td>▅▆▅▅▃█▆▅▅▇▇▆█▇▃▄▂▃▅▆▅▆▃▄▅▆▅█▂▇▅▁▆▃▇▆▅▄▆▄</td></tr><tr><td>train/iter_TP_0</td><td>▁▁▁▂▄▁▂▄▃▁▁▁█▁▂▁▂▃▁▁▁▁▃▁▁▁▁▂▁▄▁▁▅▃▄▂▁▇▅▄</td></tr><tr><td>train/iter_TP_1</td><td>▁▁▁▁▁▁▁▁▁▁▁▁▁▁▁▁▁▁▁▁▁▁▇▁▁▁▁▁▇▁▁█▁▁▁▁▁▂▁▁</td></tr><tr><td>train/iter_TP_2</td><td>▁▁▁▁▁▁▁▁▁▁▁▁▁▁▁▁▁▁▁▁▁▁▁▁▁▁▁▁▁▁▁▁▁▁▁▁▁▁▁▁</td></tr><tr><td>train/iter_TP_3</td><td>▁▁▁▁▁▁▁▁▁▂▁▇▃▁▄▁▂▁▁▂▄▁▆▁▇▁▃▁▅▁██▁▁▁▅▁▁▂▆</td></tr><tr><td>train/iter_loss</td><td>▂▂▂▁▁▂▅▄▅▅▅█▄▁█▁▅▁██▅▁█▁█▁█▁█▄▅█▁▁██▁▇▄█</td></tr><tr><td>train/mean_F1</td><td>▁▆▆▆▆▆▆▇▆▆▇▇▇▇▇█▇▇▇▇▇▇██▇▇▇▇████▇▇██████</td></tr><tr><td>train/mean_IoU</td><td>▁▅▆▆▆▆▆▇▅▆▇▇▇▇▇▇▆▇▇▇▇▇██▇▇▇▇████▇▇██████</td></tr><tr><td>trainer/global_step</td><td>▁▁▁▁▂▂▂▂▂▃▃▃▃▃▃▄▄▄▄▄▄▅▅▅▅▅▆▆▆▆▆▆▇▇▇▇▇███</td></tr><tr><td>val/epoch_F1_0</td><td>▁▇▇▇▅▇▇▇▇▇█▇▇▇▇▇▆▆▆▇▇▇▇▇█▇▇▇▇▇▇▇▇▇▇▇▇▇▇▇</td></tr><tr><td>val/epoch_F1_1</td><td>▁▁▁▁▂▁▂▃▁▂▂▂▂▃▂▂▄▂▂▃▃▄▅▄▁▃█▃▃▅▃▄▃▂▂▃▃▂▂▃</td></tr><tr><td>val/epoch_F1_2</td><td>▁▁▁▁▁▁▁▁▁▁▁▁▁▁▁▁▁▁▁▁▁▁▁▁▁▁▁▁▁▁▁▁▁▁▁▁▁▁▁▁</td></tr><tr><td>val/epoch_F1_3</td><td>▁▁▁▁▁▁▁▂▁▃▄▅▅▇▇▇▅▅█▅▇▆▇▇▃▆▆▇▆▇▆▆▅▇▄▇▆▆▆▇</td></tr><tr><td>val/epoch_FN_0</td><td>█▁▁▁▅▃▂▃▃▂▂▂▃▃▂▂▃▄▂▃▂▂▂▂▁▂▃▂▂▃▂▂▂▃▂▃▂▂▂▂</td></tr><tr><td>val/epoch_FN_1</td><td>████▇█▇▇█▇▇▇▇▇▇▇▅█▇▆▆▆▅▆█▆▁▆▆▅▆▆▇▇█▇▇▇▇▇</td></tr><tr><td>val/epoch_FN_2</td><td>▁▁▁▁▁▁▁▁▁▁▁▁▁▁▁▁▁▁▁▁▁▁▁▁▁▁▁▁▁▁▁▁▁▁▁▁▁▁▁▁</td></tr><tr><td>val/epoch_FN_3</td><td>███████▇█▇▆▄▅▁▂▂▅▄▁▄▁▃▁▂▇▃▃▂▂▁▃▂▄▂▅▂▂▂▂▁</td></tr><tr><td>val/epoch_FP_0</td><td>▁▅▄▃▁▂▃▂▂▃▃▂▂▂▂▂▂▂█▂▂▂▂▂▃▂▂▂▂▂▂▂▂▂▂▂▂▂▂▂</td></tr><tr><td>val/epoch_FP_1</td><td>▁▁▁▁▄▂▃▅▁▄▄▃▅▇▆▆▇▃▆▆▇▅▇▆▂▆█▅▆▇▆▅▅▄▄▅▄▅▅▅</td></tr><tr><td>val/epoch_FP_2</td><td>▁▅▇▅▅▅▆▆█▆█▆▆▅▅▆▇▆▆▅▆▆▆▅▆▆▅▆▆▅▅▆▇▅▅▅▆▆▆▆</td></tr><tr><td>val/epoch_FP_3</td><td>▁▁▁▁▁▁▁▁▁▂▄▆▄█▆▇▅▅▆▅█▇█▇▂▆▅▆▆▇▆▇▅▆▃▆▆▆▆▇</td></tr><tr><td>val/epoch_IoU_0</td><td>▁▇▇▇▅▆▇▆▇▇█▇▇▇▇▇▆▆▆▇▇▇▇▇█▇▆▇▇▇▇▇▇▇▇▇█▇█▇</td></tr><tr><td>val/epoch_IoU_1</td><td>▁▁▁▁▂▁▂▃▁▂▂▂▂▃▂▂▄▂▂▃▃▄▅▄▁▃█▃▃▅▃▃▃▂▂▃▃▂▂▃</td></tr><tr><td>val/epoch_IoU_2</td><td>▁▁▁▁▁▁▁▁▁▁▁▁▁▁▁▁▁▁▁▁▁▁▁▁▁▁▁▁▁▁▁▁▁▁▁▁▁▁▁▁</td></tr><tr><td>val/epoch_IoU_3</td><td>▁▁▁▁▁▁▁▂▁▃▃▅▅▇▆▇▄▅█▅▇▆▇▇▂▆▆▇▆▇▆▆▅▇▄▇▆▆▆▇</td></tr><tr><td>val/epoch_Precision_0</td><td>▆▂▄▅█▇▅▆▇▅▅▅▆▆▅▅▆▇▁▅▅▅▅▆▅▅▄▅▅▆▅▅▄▅▅▇▆▆▆▆</td></tr><tr><td>val/epoch_Precision_1</td><td>▁▁▁▁▃▂▃▃▁█▃▂▂▂▂▃▄▂▂▇▃▅▅▅▂▄▆▅▄▄▄▅▄▃▃▃█▄▃▃</td></tr><tr><td>val/epoch_Precision_2</td><td>▁▁▁▁▁▁▁▁▁▁▁▁▁▁▁▁▁▁▁▁▁▁▁▁▁▁▁▁▁▁▁▁▁▁▁▁▁▁▁▁</td></tr><tr><td>val/epoch_Precision_3</td><td>▁▁▁▁▁▁▂▇▁▆▅▅▆▇▇▇▅▅█▆▇▇▆▇▅▆▆▇▆▆▇▇▆█▇▇▇▆▇▆</td></tr><tr><td>val/epoch_Recall_0</td><td>▁█▇▇▄▆▇▆▆▇█▇▆▆▇▇▆▅▆▆▇▇▆▆█▇▆▇▇▆▇▇▇▆▆▆▇▇▇▇</td></tr><tr><td>val/epoch_Recall_1</td><td>▁▁▁▁▂▁▂▂▁▂▂▂▂▃▂▂▄▁▂▃▃▃▄▄▁▃█▃▃▄▃▃▂▂▂▂▂▂▂▂</td></tr><tr><td>val/epoch_Recall_2</td><td>▁▁▁▁▁▁▁▁▁▁▁▁▁▁▁▁▁▁▁▁▁▁▁▁▁▁▁▁▁▁▁▁▁▁▁▁▁▁▁▁</td></tr><tr><td>val/epoch_Recall_3</td><td>▁▁▁▁▁▁▁▂▁▂▃▅▄█▇▇▄▅█▅▇▆▇▇▂▅▅▆▆▇▆▆▅▆▄▆▆▆▆▇</td></tr><tr><td>val/epoch_TN_0</td><td>█▄▅▆█▇▆▇▇▆▆▇▇▇▇▇▇▇▁▇▇▇▇▇▆▇▇▇▇▇▇▇▇▇▇▇▇▇▇▇</td></tr><tr><td>val/epoch_TN_1</td><td>████▅▇▆▄█▅▅▆▄▂▃▃▂▆▃▃▂▄▂▃▇▃▁▄▃▂▃▄▄▅▅▄▅▄▄▄</td></tr><tr><td>val/epoch_TN_2</td><td>█▄▂▄▄▄▃▃▁▃▁▃▃▄▄▃▂▃▃▄▃▃▃▄▃▃▄▃▃▄▄▃▂▄▄▄▃▃▃▃</td></tr><tr><td>val/epoch_TN_3</td><td>█████████▇▅▃▅▁▃▂▄▄▃▄▁▂▁▂▇▃▄▃▃▂▃▂▄▃▆▃▃▃▃▂</td></tr><tr><td>val/epoch_TP_0</td><td>▁███▄▆▇▆▆▇▇▇▆▆▇▇▆▅▇▆▇▇▇▇█▇▆▇▇▆▇▇▇▆▇▆▇▇▇▇</td></tr><tr><td>val/epoch_TP_1</td><td>▁▁▁▁▂▁▂▂▁▂▂▂▂▂▂▂▄▁▂▃▃▃▄▃▁▃█▃▃▄▃▃▂▂▁▂▂▂▂▂</td></tr><tr><td>val/epoch_TP_2</td><td>▁▁▁▁▁▁▁▁▁▁▁▁▁▁▁▁▁▁▁▁▁▁▁▁▁▁▁▁▁▁▁▁▁▁▁▁▁▁▁▁</td></tr><tr><td>val/epoch_TP_3</td><td>▁▁▁▁▁▁▁▂▁▂▃▅▄█▇▇▄▅█▅█▆█▇▂▆▆▇▇█▆▇▅▇▄▇▇▇▇█</td></tr><tr><td>val/epoch_loss</td><td>█▅▄▃▃▂▂▂▃▂▂▂▁▁▁▁▂▂▄▂▁▁▁▁▃▁▃▂▁▁▁▁▂▂▂▂▁▁▂▁</td></tr><tr><td>val/iter_F1_0</td><td>▁▇▇▇▅▇▇▇▇▇█▇▇▇▇▇▆▆▆▇▇▇▇▇█▇▇▇▇▇▇▇▇▇▇▇▇▇▇▇</td></tr><tr><td>val/iter_F1_1</td><td>▁▁▁▁▂▁▂▃▁▂▂▂▂▃▂▂▄▂▂▃▃▄▅▄▁▃█▃▃▅▃▄▃▂▂▃▃▂▂▃</td></tr><tr><td>val/iter_F1_2</td><td>▁▁▁▁▁▁▁▁▁▁▁▁▁▁▁▁▁▁▁▁▁▁▁▁▁▁▁▁▁▁▁▁▁▁▁▁▁▁▁▁</td></tr><tr><td>val/iter_F1_3</td><td>▁▁▁▁▁▁▁▂▁▃▄▅▅▇▇▇▅▅█▅▇▆▇▇▃▆▆▇▆▇▆▆▅▇▄▇▆▆▆▇</td></tr><tr><td>val/iter_FN_0</td><td>█▁▁▁▅▃▂▃▃▂▂▂▃▃▂▂▃▄▂▃▂▂▂▂▁▂▃▂▂▃▂▂▂▃▂▃▂▂▂▂</td></tr><tr><td>val/iter_FN_1</td><td>████▇█▇▇█▇▇▇▇▇▇▇▅█▇▆▆▆▅▆█▆▁▆▆▅▆▆▇▇█▇▇▇▇▇</td></tr><tr><td>val/iter_FN_2</td><td>▁▁▁▁▁▁▁▁▁▁▁▁▁▁▁▁▁▁▁▁▁▁▁▁▁▁▁▁▁▁▁▁▁▁▁▁▁▁▁▁</td></tr><tr><td>val/iter_FN_3</td><td>███████▇█▇▆▄▅▁▂▂▅▄▁▄▁▃▁▂▇▃▃▂▂▁▃▂▄▂▅▂▂▂▂▁</td></tr><tr><td>val/iter_FP_0</td><td>▁▅▄▃▁▂▃▂▂▃▃▂▂▂▂▂▂▂█▂▂▂▂▂▃▂▂▂▂▂▂▂▂▂▂▂▂▂▂▂</td></tr><tr><td>val/iter_FP_1</td><td>▁▁▁▁▄▂▃▅▁▄▄▃▅▇▆▆▇▃▆▆▇▅▇▆▂▆█▅▆▇▆▅▅▄▄▅▄▅▅▅</td></tr><tr><td>val/iter_FP_2</td><td>▁▅▇▅▅▅▆▆█▆█▆▆▅▅▆▇▆▆▅▆▆▆▅▆▆▅▆▆▅▅▆▇▅▅▅▆▆▆▆</td></tr><tr><td>val/iter_FP_3</td><td>▁▁▁▁▁▁▁▁▁▂▄▆▄█▆▇▅▅▆▅█▇█▇▂▆▅▆▆▇▆▇▅▆▃▆▆▆▆▇</td></tr><tr><td>val/iter_IoU_0</td><td>▁▇▇▇▅▆▇▆▇▇█▇▇▇▇▇▆▆▆▇▇▇▇▇█▇▆▇▇▇▇▇▇▇▇▇█▇█▇</td></tr><tr><td>val/iter_IoU_1</td><td>▁▁▁▁▂▁▂▃▁▂▂▂▂▃▂▂▄▂▂▃▃▄▅▄▁▃█▃▃▅▃▃▃▂▂▃▃▂▂▃</td></tr><tr><td>val/iter_IoU_2</td><td>▁▁▁▁▁▁▁▁▁▁▁▁▁▁▁▁▁▁▁▁▁▁▁▁▁▁▁▁▁▁▁▁▁▁▁▁▁▁▁▁</td></tr><tr><td>val/iter_IoU_3</td><td>▁▁▁▁▁▁▁▂▁▃▃▅▅▇▆▇▄▅█▅▇▆▇▇▂▆▆▇▆▇▆▆▅▇▄▇▆▆▆▇</td></tr><tr><td>val/iter_Precision_0</td><td>▆▂▄▅█▇▅▆▇▅▅▅▆▆▅▅▆▇▁▅▅▅▅▆▅▅▄▅▅▆▅▅▄▅▅▇▆▆▆▆</td></tr><tr><td>val/iter_Precision_1</td><td>▁▁▁▁▃▂▃▃▁█▃▂▂▂▂▃▄▂▂▇▃▅▅▅▂▄▆▅▄▄▄▅▄▃▃▃█▄▃▃</td></tr><tr><td>val/iter_Precision_2</td><td>▁▁▁▁▁▁▁▁▁▁▁▁▁▁▁▁▁▁▁▁▁▁▁▁▁▁▁▁▁▁▁▁▁▁▁▁▁▁▁▁</td></tr><tr><td>val/iter_Precision_3</td><td>▁▁▁▁▁▁▂▇▁▆▅▅▆▇▇▇▅▅█▆▇▇▆▇▅▆▆▇▆▆▇▇▆█▇▇▇▆▇▆</td></tr><tr><td>val/iter_Recall_0</td><td>▁█▇▇▄▆▇▆▆▇█▇▆▆▇▇▆▅▆▆▇▇▆▆█▇▆▇▇▆▇▇▇▆▆▆▇▇▇▇</td></tr><tr><td>val/iter_Recall_1</td><td>▁▁▁▁▂▁▂▂▁▂▂▂▂▃▂▂▄▁▂▃▃▃▄▄▁▃█▃▃▄▃▃▂▂▂▂▂▂▂▂</td></tr><tr><td>val/iter_Recall_2</td><td>▁▁▁▁▁▁▁▁▁▁▁▁▁▁▁▁▁▁▁▁▁▁▁▁▁▁▁▁▁▁▁▁▁▁▁▁▁▁▁▁</td></tr><tr><td>val/iter_Recall_3</td><td>▁▁▁▁▁▁▁▂▁▂▃▅▄█▇▇▄▅█▅▇▆▇▇▂▅▅▆▆▇▆▆▅▆▄▆▆▆▆▇</td></tr><tr><td>val/iter_TN_0</td><td>█▄▅▆█▇▆▇▇▆▆▇▇▇▇▇▇▇▁▇▇▇▇▇▆▇▇▇▇▇▇▇▇▇▇▇▇▇▇▇</td></tr><tr><td>val/iter_TN_1</td><td>████▅▇▆▄█▅▅▆▄▂▃▃▂▆▃▃▂▄▂▃▇▃▁▄▃▂▃▄▄▅▅▄▅▄▄▄</td></tr><tr><td>val/iter_TN_2</td><td>█▄▂▄▄▄▃▃▁▃▁▃▃▄▄▃▂▃▃▄▃▃▃▄▃▃▄▃▃▄▄▃▂▄▄▄▃▃▃▃</td></tr><tr><td>val/iter_TN_3</td><td>█████████▇▅▃▅▁▃▂▄▄▃▄▁▂▁▂▇▃▄▃▃▂▃▂▄▃▆▃▃▃▃▂</td></tr><tr><td>val/iter_TP_0</td><td>▁███▄▆▇▆▆▇▇▇▆▆▇▇▆▅▇▆▇▇▇▇█▇▆▇▇▆▇▇▇▆▇▆▇▇▇▇</td></tr><tr><td>val/iter_TP_1</td><td>▁▁▁▁▂▁▂▂▁▂▂▂▂▂▂▂▄▁▂▃▃▃▄▃▁▃█▃▃▄▃▃▂▂▁▂▂▂▂▂</td></tr><tr><td>val/iter_TP_2</td><td>▁▁▁▁▁▁▁▁▁▁▁▁▁▁▁▁▁▁▁▁▁▁▁▁▁▁▁▁▁▁▁▁▁▁▁▁▁▁▁▁</td></tr><tr><td>val/iter_TP_3</td><td>▁▁▁▁▁▁▁▂▁▂▃▅▄█▇▇▄▅█▅█▆█▇▂▆▆▇▇█▆▇▅▇▄▇▇▇▇█</td></tr><tr><td>val/iter_loss</td><td>█▅▄▃▃▂▂▂▃▂▂▂▁▁▁▁▂▂▄▂▁▁▁▁▃▁▃▂▁▁▁▁▂▂▂▂▁▁▂▁</td></tr><tr><td>val/mean_F1</td><td>▁▇▇▇▅▆▇▆▆▇██▇▇██▆▇▇▇█████▇▇█▇▇██▇▇▇█████</td></tr><tr><td>val/mean_IoU</td><td>▁▆▇▇▅▆▇▆▆▇██▇▇██▆▆▇▇▇█▇▇█▇▇▇▇▇▇█▇▇▇▇████</td></tr></table><br/></div><div class=\"wandb-col\"><h3>Run summary:</h3><br/><table class=\"wandb\"><tr><td>epoch</td><td>99</td></tr><tr><td>lr-AdamW</td><td>2e-05</td></tr><tr><td>train/epoch_F1_0</td><td>0.69057</td></tr><tr><td>train/epoch_F1_1</td><td>0.00057</td></tr><tr><td>train/epoch_F1_2</td><td>0.0</td></tr><tr><td>train/epoch_F1_3</td><td>0.10579</td></tr><tr><td>train/epoch_FN_0</td><td>31677.84375</td></tr><tr><td>train/epoch_FN_1</td><td>152041.15625</td></tr><tr><td>train/epoch_FN_2</td><td>0.0</td></tr><tr><td>train/epoch_FN_3</td><td>59513.04297</td></tr><tr><td>train/epoch_FP_0</td><td>17646.70703</td></tr><tr><td>train/epoch_FP_1</td><td>19328.41992</td></tr><tr><td>train/epoch_FP_2</td><td>140212.73438</td></tr><tr><td>train/epoch_FP_3</td><td>17114.95703</td></tr><tr><td>train/epoch_IoU_0</td><td>0.57199</td></tr><tr><td>train/epoch_IoU_1</td><td>0.00028</td></tr><tr><td>train/epoch_IoU_2</td><td>0.0</td></tr><tr><td>train/epoch_IoU_3</td><td>0.06716</td></tr><tr><td>train/epoch_Precision_0</td><td>0.78567</td></tr><tr><td>train/epoch_Precision_1</td><td>0.00122</td></tr><tr><td>train/epoch_Precision_2</td><td>0.0</td></tr><tr><td>train/epoch_Precision_3</td><td>0.24844</td></tr><tr><td>train/epoch_Recall_0</td><td>0.67237</td></tr><tr><td>train/epoch_Recall_1</td><td>0.00041</td></tr><tr><td>train/epoch_Recall_2</td><td>0.0</td></tr><tr><td>train/epoch_Recall_3</td><td>0.09363</td></tr><tr><td>train/epoch_TN_0</td><td>6411737.0</td></tr><tr><td>train/epoch_TN_1</td><td>6382158.5</td></tr><tr><td>train/epoch_TN_2</td><td>6413387.5</td></tr><tr><td>train/epoch_TN_3</td><td>6470562.0</td></tr><tr><td>train/epoch_TP_0</td><td>92538.57812</td></tr><tr><td>train/epoch_TP_1</td><td>71.94375</td></tr><tr><td>train/epoch_TP_2</td><td>0.0</td></tr><tr><td>train/epoch_TP_3</td><td>6410.08154</td></tr><tr><td>train/epoch_loss</td><td>0.38128</td></tr><tr><td>train/iter_F1_0</td><td>0.85217</td></tr><tr><td>train/iter_F1_1</td><td>1e-05</td></tr><tr><td>train/iter_F1_2</td><td>0.0</td></tr><tr><td>train/iter_F1_3</td><td>0.22513</td></tr><tr><td>train/iter_FN_0</td><td>56509.0</td></tr><tr><td>train/iter_FN_1</td><td>229901.0</td></tr><tr><td>train/iter_FN_2</td><td>0.0</td></tr><tr><td>train/iter_FN_3</td><td>37915.0</td></tr><tr><td>train/iter_FP_0</td><td>38619.0</td></tr><tr><td>train/iter_FP_1</td><td>27056.0</td></tr><tr><td>train/iter_FP_2</td><td>171245.0</td></tr><tr><td>train/iter_FP_3</td><td>46527.0</td></tr><tr><td>train/iter_IoU_0</td><td>0.74241</td></tr><tr><td>train/iter_IoU_1</td><td>0.0</td></tr><tr><td>train/iter_IoU_2</td><td>0.0</td></tr><tr><td>train/iter_IoU_3</td><td>0.12684</td></tr><tr><td>train/iter_Precision_0</td><td>0.87654</td></tr><tr><td>train/iter_Precision_1</td><td>4e-05</td></tr><tr><td>train/iter_Precision_2</td><td>0.0</td></tr><tr><td>train/iter_Precision_3</td><td>0.20864</td></tr><tr><td>train/iter_Recall_0</td><td>0.82912</td></tr><tr><td>train/iter_Recall_1</td><td>0.0</td></tr><tr><td>train/iter_Recall_2</td><td>0.0</td></tr><tr><td>train/iter_Recall_3</td><td>0.24445</td></tr><tr><td>train/iter_TN_0</td><td>6184294.0</td></tr><tr><td>train/iter_TN_1</td><td>6296642.0</td></tr><tr><td>train/iter_TN_2</td><td>6382355.0</td></tr><tr><td>train/iter_TN_3</td><td>6456891.0</td></tr><tr><td>train/iter_TP_0</td><td>274178.0</td></tr><tr><td>train/iter_TP_1</td><td>1.0</td></tr><tr><td>train/iter_TP_2</td><td>0.0</td></tr><tr><td>train/iter_TP_3</td><td>12267.0</td></tr><tr><td>train/iter_loss</td><td>0.48227</td></tr><tr><td>train/mean_F1</td><td>0.19923</td></tr><tr><td>train/mean_IoU</td><td>0.15986</td></tr><tr><td>trainer/global_step</td><td>15999</td></tr><tr><td>val/epoch_F1_0</td><td>0.64082</td></tr><tr><td>val/epoch_F1_1</td><td>0.00055</td></tr><tr><td>val/epoch_F1_2</td><td>0.0</td></tr><tr><td>val/epoch_F1_3</td><td>0.11663</td></tr><tr><td>val/epoch_FN_0</td><td>48782.35156</td></tr><tr><td>val/epoch_FN_1</td><td>151009.625</td></tr><tr><td>val/epoch_FN_2</td><td>0.0</td></tr><tr><td>val/epoch_FN_3</td><td>54372.35156</td></tr><tr><td>val/epoch_FP_0</td><td>14845.10059</td></tr><tr><td>val/epoch_FP_1</td><td>26522.57617</td></tr><tr><td>val/epoch_FP_2</td><td>117014.75</td></tr><tr><td>val/epoch_FP_3</td><td>25613.65039</td></tr><tr><td>val/epoch_IoU_0</td><td>0.50628</td></tr><tr><td>val/epoch_IoU_1</td><td>0.00027</td></tr><tr><td>val/epoch_IoU_2</td><td>0.0</td></tr><tr><td>val/epoch_IoU_3</td><td>0.07006</td></tr><tr><td>val/epoch_Precision_0</td><td>0.80554</td></tr><tr><td>val/epoch_Precision_1</td><td>0.0023</td></tr><tr><td>val/epoch_Precision_2</td><td>0.0</td></tr><tr><td>val/epoch_Precision_3</td><td>0.20847</td></tr><tr><td>val/epoch_Recall_0</td><td>0.57635</td></tr><tr><td>val/epoch_Recall_1</td><td>0.00033</td></tr><tr><td>val/epoch_Recall_2</td><td>0.0</td></tr><tr><td>val/epoch_Recall_3</td><td>0.10752</td></tr><tr><td>val/epoch_TN_0</td><td>6412741.5</td></tr><tr><td>val/epoch_TN_1</td><td>6375993.0</td></tr><tr><td>val/epoch_TN_2</td><td>6436585.5</td></tr><tr><td>val/epoch_TN_3</td><td>6466495.5</td></tr><tr><td>val/epoch_TP_0</td><td>77231.125</td></tr><tr><td>val/epoch_TP_1</td><td>74.7</td></tr><tr><td>val/epoch_TP_2</td><td>0.0</td></tr><tr><td>val/epoch_TP_3</td><td>7118.8252</td></tr><tr><td>val/epoch_loss</td><td>0.43424</td></tr><tr><td>val/iter_F1_0</td><td>0.64082</td></tr><tr><td>val/iter_F1_1</td><td>0.00055</td></tr><tr><td>val/iter_F1_2</td><td>0.0</td></tr><tr><td>val/iter_F1_3</td><td>0.11663</td></tr><tr><td>val/iter_FN_0</td><td>48782.35156</td></tr><tr><td>val/iter_FN_1</td><td>151009.625</td></tr><tr><td>val/iter_FN_2</td><td>0.0</td></tr><tr><td>val/iter_FN_3</td><td>54372.35156</td></tr><tr><td>val/iter_FP_0</td><td>14845.09961</td></tr><tr><td>val/iter_FP_1</td><td>26522.57422</td></tr><tr><td>val/iter_FP_2</td><td>117014.75</td></tr><tr><td>val/iter_FP_3</td><td>25613.65039</td></tr><tr><td>val/iter_IoU_0</td><td>0.50628</td></tr><tr><td>val/iter_IoU_1</td><td>0.00027</td></tr><tr><td>val/iter_IoU_2</td><td>0.0</td></tr><tr><td>val/iter_IoU_3</td><td>0.07006</td></tr><tr><td>val/iter_Precision_0</td><td>0.80554</td></tr><tr><td>val/iter_Precision_1</td><td>0.0023</td></tr><tr><td>val/iter_Precision_2</td><td>0.0</td></tr><tr><td>val/iter_Precision_3</td><td>0.20847</td></tr><tr><td>val/iter_Recall_0</td><td>0.57635</td></tr><tr><td>val/iter_Recall_1</td><td>0.00033</td></tr><tr><td>val/iter_Recall_2</td><td>0.0</td></tr><tr><td>val/iter_Recall_3</td><td>0.10752</td></tr><tr><td>val/iter_TN_0</td><td>6412741.5</td></tr><tr><td>val/iter_TN_1</td><td>6375993.0</td></tr><tr><td>val/iter_TN_2</td><td>6436585.5</td></tr><tr><td>val/iter_TN_3</td><td>6466495.0</td></tr><tr><td>val/iter_TP_0</td><td>77231.125</td></tr><tr><td>val/iter_TP_1</td><td>74.7</td></tr><tr><td>val/iter_TP_2</td><td>0.0</td></tr><tr><td>val/iter_TP_3</td><td>7118.8252</td></tr><tr><td>val/iter_loss</td><td>0.43424</td></tr><tr><td>val/mean_F1</td><td>0.1895</td></tr><tr><td>val/mean_IoU</td><td>0.14415</td></tr></table><br/></div></div>"
      ],
      "text/plain": [
       "<IPython.core.display.HTML object>"
      ]
     },
     "metadata": {},
     "output_type": "display_data"
    },
    {
     "data": {
      "text/html": [
       "Synced <strong style=\"color:#cdcd00\">3090_fold2</strong>: <a href=\"https://wandb.ai/syuchimu/SpaceNet8_flood/runs/191wq2kv\" target=\"_blank\">https://wandb.ai/syuchimu/SpaceNet8_flood/runs/191wq2kv</a><br/>Synced 7 W&B file(s), 0 media file(s), 0 artifact file(s) and 2 other file(s)"
      ],
      "text/plain": [
       "<IPython.core.display.HTML object>"
      ]
     },
     "metadata": {},
     "output_type": "display_data"
    },
    {
     "data": {
      "text/html": [
       "Find logs at: <code>./wandb/run-20220726_120224-191wq2kv/logs</code>"
      ],
      "text/plain": [
       "<IPython.core.display.HTML object>"
      ]
     },
     "metadata": {},
     "output_type": "display_data"
    },
    {
     "name": "stdout",
     "output_type": "stream",
     "text": [
      "############################################################\n",
      "### Fold: 3\n",
      "############################################################\n"
     ]
    },
    {
     "data": {
      "text/html": [
       "Changes to your `wandb` environment variables will be ignored because your `wandb` session has already started. For more information on how to modify your settings with `wandb.init()` arguments, please refer to <a href=\"https://wandb.me/wandb-init\" target=\"_blank\">the W&B docs</a>."
      ],
      "text/plain": [
       "<IPython.core.display.HTML object>"
      ]
     },
     "metadata": {},
     "output_type": "display_data"
    },
    {
     "data": {
      "text/html": [
       "Tracking run with wandb version 0.12.21"
      ],
      "text/plain": [
       "<IPython.core.display.HTML object>"
      ]
     },
     "metadata": {},
     "output_type": "display_data"
    },
    {
     "data": {
      "text/html": [
       "Run data is saved locally in <code>/media/syu/c983cccd-1cc7-4ce4-b206-7eb1a2cc5c94/topcoder/spacenet8/SpaceNet8/baseline/wandb/run-20220726_174333-1pua85d6</code>"
      ],
      "text/plain": [
       "<IPython.core.display.HTML object>"
      ]
     },
     "metadata": {},
     "output_type": "display_data"
    },
    {
     "data": {
      "text/html": [
       "Syncing run <strong><a href=\"https://wandb.ai/syuchimu/SpaceNet8_flood/runs/1pua85d6\" target=\"_blank\">3090_fold3</a></strong> to <a href=\"https://wandb.ai/syuchimu/SpaceNet8_flood\" target=\"_blank\">Weights & Biases</a> (<a href=\"https://wandb.me/run\" target=\"_blank\">docs</a>)<br/>"
      ],
      "text/plain": [
       "<IPython.core.display.HTML object>"
      ]
     },
     "metadata": {},
     "output_type": "display_data"
    },
    {
     "name": "stderr",
     "output_type": "stream",
     "text": [
      "Using 16bit native Automatic Mixed Precision (AMP)\n",
      "GPU available: True, used: True\n",
      "TPU available: False, using: 0 TPU cores\n",
      "IPU available: False, using: 0 IPUs\n",
      "HPU available: False, using: 0 HPUs\n",
      "`Trainer(val_check_interval=1.0)` was configured so validation will run at the end of the training epoch..\n",
      "LOCAL_RANK: 0 - CUDA_VISIBLE_DEVICES: [0]\n",
      "\n",
      "  | Name       | Type             | Params\n",
      "------------------------------------------------\n",
      "0 | backbone   | UnetPlusPlus     | 6.6 M \n",
      "1 | _criterion | MultiBCEDiceLoss | 0     \n",
      "------------------------------------------------\n",
      "6.6 M     Trainable params\n",
      "0         Non-trainable params\n",
      "6.6 M     Total params\n",
      "13.283    Total estimated model params size (MB)\n"
     ]
    },
    {
     "name": "stdout",
     "output_type": "stream",
     "text": [
      "### Start Trainig\n",
      "loaded 641 image filepaths\n",
      "loaded 160 image filepaths\n"
     ]
    },
    {
     "data": {
      "application/vnd.jupyter.widget-view+json": {
       "model_id": "e4e78c8d40274600a6dd362a088b2170",
       "version_major": 2,
       "version_minor": 0
      },
      "text/plain": [
       "Training: 0it [00:00, ?it/s]"
      ]
     },
     "metadata": {},
     "output_type": "display_data"
    },
    {
     "data": {
      "application/vnd.jupyter.widget-view+json": {
       "model_id": "5febce70e3aa46d68c27aaf020a91c6c",
       "version_major": 2,
       "version_minor": 0
      },
      "text/plain": [
       "Validation: 0it [00:00, ?it/s]"
      ]
     },
     "metadata": {},
     "output_type": "display_data"
    },
    {
     "data": {
      "application/vnd.jupyter.widget-view+json": {
       "model_id": "16ac3e6fea064b08a8d728660dfd9d7a",
       "version_major": 2,
       "version_minor": 0
      },
      "text/plain": [
       "Validation: 0it [00:00, ?it/s]"
      ]
     },
     "metadata": {},
     "output_type": "display_data"
    },
    {
     "data": {
      "application/vnd.jupyter.widget-view+json": {
       "model_id": "7c30a3b1c2714fdc8492d2a598370c12",
       "version_major": 2,
       "version_minor": 0
      },
      "text/plain": [
       "Validation: 0it [00:00, ?it/s]"
      ]
     },
     "metadata": {},
     "output_type": "display_data"
    },
    {
     "data": {
      "application/vnd.jupyter.widget-view+json": {
       "model_id": "be7f8b60cbf14556bc5ffd1ddd27de97",
       "version_major": 2,
       "version_minor": 0
      },
      "text/plain": [
       "Validation: 0it [00:00, ?it/s]"
      ]
     },
     "metadata": {},
     "output_type": "display_data"
    },
    {
     "data": {
      "application/vnd.jupyter.widget-view+json": {
       "model_id": "5423cdf50b514524ab9a45812b0f7c16",
       "version_major": 2,
       "version_minor": 0
      },
      "text/plain": [
       "Validation: 0it [00:00, ?it/s]"
      ]
     },
     "metadata": {},
     "output_type": "display_data"
    },
    {
     "data": {
      "application/vnd.jupyter.widget-view+json": {
       "model_id": "71af75d0d6e64b21b106b6aeea43d00e",
       "version_major": 2,
       "version_minor": 0
      },
      "text/plain": [
       "Validation: 0it [00:00, ?it/s]"
      ]
     },
     "metadata": {},
     "output_type": "display_data"
    },
    {
     "data": {
      "application/vnd.jupyter.widget-view+json": {
       "model_id": "69a70217717544f1ac132489d3d34e61",
       "version_major": 2,
       "version_minor": 0
      },
      "text/plain": [
       "Validation: 0it [00:00, ?it/s]"
      ]
     },
     "metadata": {},
     "output_type": "display_data"
    },
    {
     "data": {
      "application/vnd.jupyter.widget-view+json": {
       "model_id": "c56573b4d9594f499d4cb19af801c12c",
       "version_major": 2,
       "version_minor": 0
      },
      "text/plain": [
       "Validation: 0it [00:00, ?it/s]"
      ]
     },
     "metadata": {},
     "output_type": "display_data"
    },
    {
     "data": {
      "application/vnd.jupyter.widget-view+json": {
       "model_id": "607ec73a52404bb292ba93ec2d1b16ee",
       "version_major": 2,
       "version_minor": 0
      },
      "text/plain": [
       "Validation: 0it [00:00, ?it/s]"
      ]
     },
     "metadata": {},
     "output_type": "display_data"
    },
    {
     "data": {
      "application/vnd.jupyter.widget-view+json": {
       "model_id": "4213f336a7d44370994f2f3b4c1d8a26",
       "version_major": 2,
       "version_minor": 0
      },
      "text/plain": [
       "Validation: 0it [00:00, ?it/s]"
      ]
     },
     "metadata": {},
     "output_type": "display_data"
    },
    {
     "data": {
      "application/vnd.jupyter.widget-view+json": {
       "model_id": "52e3447864764df5ba2bb13206589376",
       "version_major": 2,
       "version_minor": 0
      },
      "text/plain": [
       "Validation: 0it [00:00, ?it/s]"
      ]
     },
     "metadata": {},
     "output_type": "display_data"
    },
    {
     "data": {
      "application/vnd.jupyter.widget-view+json": {
       "model_id": "f01937b3d54546748832600e62c0e739",
       "version_major": 2,
       "version_minor": 0
      },
      "text/plain": [
       "Validation: 0it [00:00, ?it/s]"
      ]
     },
     "metadata": {},
     "output_type": "display_data"
    },
    {
     "data": {
      "application/vnd.jupyter.widget-view+json": {
       "model_id": "bb1bc86769ac4b32907ff0204404b72d",
       "version_major": 2,
       "version_minor": 0
      },
      "text/plain": [
       "Validation: 0it [00:00, ?it/s]"
      ]
     },
     "metadata": {},
     "output_type": "display_data"
    },
    {
     "data": {
      "application/vnd.jupyter.widget-view+json": {
       "model_id": "1163688f8e2c4bf798a1259fb6eb387a",
       "version_major": 2,
       "version_minor": 0
      },
      "text/plain": [
       "Validation: 0it [00:00, ?it/s]"
      ]
     },
     "metadata": {},
     "output_type": "display_data"
    },
    {
     "data": {
      "application/vnd.jupyter.widget-view+json": {
       "model_id": "4b216f10592a4a7eaf8c966435fc9c30",
       "version_major": 2,
       "version_minor": 0
      },
      "text/plain": [
       "Validation: 0it [00:00, ?it/s]"
      ]
     },
     "metadata": {},
     "output_type": "display_data"
    },
    {
     "data": {
      "application/vnd.jupyter.widget-view+json": {
       "model_id": "1b4c659b702f41cca5c76ec8a8c36290",
       "version_major": 2,
       "version_minor": 0
      },
      "text/plain": [
       "Validation: 0it [00:00, ?it/s]"
      ]
     },
     "metadata": {},
     "output_type": "display_data"
    },
    {
     "data": {
      "application/vnd.jupyter.widget-view+json": {
       "model_id": "941a3cc99e644e34b7bae66bd24e3589",
       "version_major": 2,
       "version_minor": 0
      },
      "text/plain": [
       "Validation: 0it [00:00, ?it/s]"
      ]
     },
     "metadata": {},
     "output_type": "display_data"
    },
    {
     "data": {
      "application/vnd.jupyter.widget-view+json": {
       "model_id": "db9b4a693b1741c78bff081f189b4ceb",
       "version_major": 2,
       "version_minor": 0
      },
      "text/plain": [
       "Validation: 0it [00:00, ?it/s]"
      ]
     },
     "metadata": {},
     "output_type": "display_data"
    },
    {
     "data": {
      "application/vnd.jupyter.widget-view+json": {
       "model_id": "58bef2e41db4462c9bb21973a63e36af",
       "version_major": 2,
       "version_minor": 0
      },
      "text/plain": [
       "Validation: 0it [00:00, ?it/s]"
      ]
     },
     "metadata": {},
     "output_type": "display_data"
    },
    {
     "data": {
      "application/vnd.jupyter.widget-view+json": {
       "model_id": "7979b94339c347a1bd79f9a2a02443aa",
       "version_major": 2,
       "version_minor": 0
      },
      "text/plain": [
       "Validation: 0it [00:00, ?it/s]"
      ]
     },
     "metadata": {},
     "output_type": "display_data"
    },
    {
     "data": {
      "application/vnd.jupyter.widget-view+json": {
       "model_id": "0971cb8f723d40bdbec9468bffbd70c3",
       "version_major": 2,
       "version_minor": 0
      },
      "text/plain": [
       "Validation: 0it [00:00, ?it/s]"
      ]
     },
     "metadata": {},
     "output_type": "display_data"
    },
    {
     "data": {
      "application/vnd.jupyter.widget-view+json": {
       "model_id": "0dd5f282cc814f04967d0ac6e43bfac9",
       "version_major": 2,
       "version_minor": 0
      },
      "text/plain": [
       "Validation: 0it [00:00, ?it/s]"
      ]
     },
     "metadata": {},
     "output_type": "display_data"
    },
    {
     "data": {
      "application/vnd.jupyter.widget-view+json": {
       "model_id": "b8ad258ad0bb454aa76d95af95f3dffb",
       "version_major": 2,
       "version_minor": 0
      },
      "text/plain": [
       "Validation: 0it [00:00, ?it/s]"
      ]
     },
     "metadata": {},
     "output_type": "display_data"
    },
    {
     "data": {
      "application/vnd.jupyter.widget-view+json": {
       "model_id": "b63a163aa08f4f2cb522274637e3b110",
       "version_major": 2,
       "version_minor": 0
      },
      "text/plain": [
       "Validation: 0it [00:00, ?it/s]"
      ]
     },
     "metadata": {},
     "output_type": "display_data"
    },
    {
     "data": {
      "application/vnd.jupyter.widget-view+json": {
       "model_id": "bb3353abc9f14858ade28b10a97a77eb",
       "version_major": 2,
       "version_minor": 0
      },
      "text/plain": [
       "Validation: 0it [00:00, ?it/s]"
      ]
     },
     "metadata": {},
     "output_type": "display_data"
    },
    {
     "data": {
      "application/vnd.jupyter.widget-view+json": {
       "model_id": "59c2b6fd9a4c441aa49a0ecaf6e67eb7",
       "version_major": 2,
       "version_minor": 0
      },
      "text/plain": [
       "Validation: 0it [00:00, ?it/s]"
      ]
     },
     "metadata": {},
     "output_type": "display_data"
    },
    {
     "data": {
      "application/vnd.jupyter.widget-view+json": {
       "model_id": "57a7e0001f6d4fe785ddba9708dbbcfe",
       "version_major": 2,
       "version_minor": 0
      },
      "text/plain": [
       "Validation: 0it [00:00, ?it/s]"
      ]
     },
     "metadata": {},
     "output_type": "display_data"
    },
    {
     "data": {
      "application/vnd.jupyter.widget-view+json": {
       "model_id": "e1b6492f2c99435caab2d6e11d58997f",
       "version_major": 2,
       "version_minor": 0
      },
      "text/plain": [
       "Validation: 0it [00:00, ?it/s]"
      ]
     },
     "metadata": {},
     "output_type": "display_data"
    },
    {
     "data": {
      "application/vnd.jupyter.widget-view+json": {
       "model_id": "6ae328d209ea44bf85570c7477427fe1",
       "version_major": 2,
       "version_minor": 0
      },
      "text/plain": [
       "Validation: 0it [00:00, ?it/s]"
      ]
     },
     "metadata": {},
     "output_type": "display_data"
    },
    {
     "data": {
      "application/vnd.jupyter.widget-view+json": {
       "model_id": "6e6fd4b570c241d38fb12e2b580b60a6",
       "version_major": 2,
       "version_minor": 0
      },
      "text/plain": [
       "Validation: 0it [00:00, ?it/s]"
      ]
     },
     "metadata": {},
     "output_type": "display_data"
    },
    {
     "data": {
      "application/vnd.jupyter.widget-view+json": {
       "model_id": "662e7218bbef4ab0a736eab00e0533c5",
       "version_major": 2,
       "version_minor": 0
      },
      "text/plain": [
       "Validation: 0it [00:00, ?it/s]"
      ]
     },
     "metadata": {},
     "output_type": "display_data"
    },
    {
     "data": {
      "application/vnd.jupyter.widget-view+json": {
       "model_id": "5af9c061a8c14fabb1a62f8af0270cf1",
       "version_major": 2,
       "version_minor": 0
      },
      "text/plain": [
       "Validation: 0it [00:00, ?it/s]"
      ]
     },
     "metadata": {},
     "output_type": "display_data"
    },
    {
     "data": {
      "application/vnd.jupyter.widget-view+json": {
       "model_id": "33ca7ea16de2457c921cc0dcd93f2d37",
       "version_major": 2,
       "version_minor": 0
      },
      "text/plain": [
       "Validation: 0it [00:00, ?it/s]"
      ]
     },
     "metadata": {},
     "output_type": "display_data"
    },
    {
     "data": {
      "application/vnd.jupyter.widget-view+json": {
       "model_id": "b0814157e119444e8364f74541fdf9e8",
       "version_major": 2,
       "version_minor": 0
      },
      "text/plain": [
       "Validation: 0it [00:00, ?it/s]"
      ]
     },
     "metadata": {},
     "output_type": "display_data"
    },
    {
     "data": {
      "application/vnd.jupyter.widget-view+json": {
       "model_id": "b78783b05d0f400197dc6fb0f8b213d0",
       "version_major": 2,
       "version_minor": 0
      },
      "text/plain": [
       "Validation: 0it [00:00, ?it/s]"
      ]
     },
     "metadata": {},
     "output_type": "display_data"
    },
    {
     "data": {
      "application/vnd.jupyter.widget-view+json": {
       "model_id": "064b1aa94c844d4c8b194ad3892fc313",
       "version_major": 2,
       "version_minor": 0
      },
      "text/plain": [
       "Validation: 0it [00:00, ?it/s]"
      ]
     },
     "metadata": {},
     "output_type": "display_data"
    },
    {
     "data": {
      "application/vnd.jupyter.widget-view+json": {
       "model_id": "34da0e2a18b642f1bc667ddd7cfddf58",
       "version_major": 2,
       "version_minor": 0
      },
      "text/plain": [
       "Validation: 0it [00:00, ?it/s]"
      ]
     },
     "metadata": {},
     "output_type": "display_data"
    },
    {
     "data": {
      "application/vnd.jupyter.widget-view+json": {
       "model_id": "98aafadcd22541608a8d890453aca0e3",
       "version_major": 2,
       "version_minor": 0
      },
      "text/plain": [
       "Validation: 0it [00:00, ?it/s]"
      ]
     },
     "metadata": {},
     "output_type": "display_data"
    },
    {
     "data": {
      "application/vnd.jupyter.widget-view+json": {
       "model_id": "7e0373ebf02348d291a122f9827770c1",
       "version_major": 2,
       "version_minor": 0
      },
      "text/plain": [
       "Validation: 0it [00:00, ?it/s]"
      ]
     },
     "metadata": {},
     "output_type": "display_data"
    },
    {
     "data": {
      "application/vnd.jupyter.widget-view+json": {
       "model_id": "3ce3274ce22c49bd9c679caf5b50a031",
       "version_major": 2,
       "version_minor": 0
      },
      "text/plain": [
       "Validation: 0it [00:00, ?it/s]"
      ]
     },
     "metadata": {},
     "output_type": "display_data"
    },
    {
     "data": {
      "application/vnd.jupyter.widget-view+json": {
       "model_id": "c5608bada9414fb696884576a113c8eb",
       "version_major": 2,
       "version_minor": 0
      },
      "text/plain": [
       "Validation: 0it [00:00, ?it/s]"
      ]
     },
     "metadata": {},
     "output_type": "display_data"
    },
    {
     "data": {
      "application/vnd.jupyter.widget-view+json": {
       "model_id": "3c27e6f11dd941a58450a50237789ef9",
       "version_major": 2,
       "version_minor": 0
      },
      "text/plain": [
       "Validation: 0it [00:00, ?it/s]"
      ]
     },
     "metadata": {},
     "output_type": "display_data"
    },
    {
     "data": {
      "application/vnd.jupyter.widget-view+json": {
       "model_id": "0625f8480c6a4de4a5041d595d62336c",
       "version_major": 2,
       "version_minor": 0
      },
      "text/plain": [
       "Validation: 0it [00:00, ?it/s]"
      ]
     },
     "metadata": {},
     "output_type": "display_data"
    },
    {
     "data": {
      "application/vnd.jupyter.widget-view+json": {
       "model_id": "dc56648b88b44fb1858253255043e4f5",
       "version_major": 2,
       "version_minor": 0
      },
      "text/plain": [
       "Validation: 0it [00:00, ?it/s]"
      ]
     },
     "metadata": {},
     "output_type": "display_data"
    },
    {
     "data": {
      "application/vnd.jupyter.widget-view+json": {
       "model_id": "c7f1ffa5b5bb4bd29715035ef333c353",
       "version_major": 2,
       "version_minor": 0
      },
      "text/plain": [
       "Validation: 0it [00:00, ?it/s]"
      ]
     },
     "metadata": {},
     "output_type": "display_data"
    },
    {
     "data": {
      "application/vnd.jupyter.widget-view+json": {
       "model_id": "3b166f5a0c9b4e02944574ed0f68cff6",
       "version_major": 2,
       "version_minor": 0
      },
      "text/plain": [
       "Validation: 0it [00:00, ?it/s]"
      ]
     },
     "metadata": {},
     "output_type": "display_data"
    },
    {
     "data": {
      "application/vnd.jupyter.widget-view+json": {
       "model_id": "ac6d1312a15543d089d39e99a04e5d60",
       "version_major": 2,
       "version_minor": 0
      },
      "text/plain": [
       "Validation: 0it [00:00, ?it/s]"
      ]
     },
     "metadata": {},
     "output_type": "display_data"
    },
    {
     "data": {
      "application/vnd.jupyter.widget-view+json": {
       "model_id": "a643713696274e4295c2438195d05ddc",
       "version_major": 2,
       "version_minor": 0
      },
      "text/plain": [
       "Validation: 0it [00:00, ?it/s]"
      ]
     },
     "metadata": {},
     "output_type": "display_data"
    },
    {
     "data": {
      "application/vnd.jupyter.widget-view+json": {
       "model_id": "ec29a80eee7841edb1d15d5407ef4100",
       "version_major": 2,
       "version_minor": 0
      },
      "text/plain": [
       "Validation: 0it [00:00, ?it/s]"
      ]
     },
     "metadata": {},
     "output_type": "display_data"
    },
    {
     "data": {
      "application/vnd.jupyter.widget-view+json": {
       "model_id": "7fa56d4696c44bf0bb56a604b176b3ff",
       "version_major": 2,
       "version_minor": 0
      },
      "text/plain": [
       "Validation: 0it [00:00, ?it/s]"
      ]
     },
     "metadata": {},
     "output_type": "display_data"
    },
    {
     "data": {
      "text/html": [
       "Waiting for W&B process to finish... <strong style=\"color:green\">(success).</strong>"
      ],
      "text/plain": [
       "<IPython.core.display.HTML object>"
      ]
     },
     "metadata": {},
     "output_type": "display_data"
    },
    {
     "data": {
      "application/vnd.jupyter.widget-view+json": {
       "model_id": "148a681607ad4baa8e9c5704f476cbba",
       "version_major": 2,
       "version_minor": 0
      },
      "text/plain": [
       "VBox(children=(Label(value='1.215 MB of 1.215 MB uploaded (0.000 MB deduped)\\r'), FloatProgress(value=1.0, max…"
      ]
     },
     "metadata": {},
     "output_type": "display_data"
    },
    {
     "data": {
      "text/html": [
       "<style>\n",
       "    table.wandb td:nth-child(1) { padding: 0 10px; text-align: left ; width: auto;} td:nth-child(2) {text-align: left ; width: 100%}\n",
       "    .wandb-row { display: flex; flex-direction: row; flex-wrap: wrap; justify-content: flex-start; width: 100% }\n",
       "    .wandb-col { display: flex; flex-direction: column; flex-basis: 100%; flex: 1; padding: 10px; }\n",
       "    </style>\n",
       "<div class=\"wandb-row\"><div class=\"wandb-col\"><h3>Run history:</h3><br/><table class=\"wandb\"><tr><td>epoch</td><td>▁▁▁▁▂▂▂▂▂▃▃▃▃▃▃▄▄▄▄▄▅▅▅▅▅▅▆▆▆▆▆▇▇▇▇▇▇███</td></tr><tr><td>lr-AdamW</td><td>██▇▆▄▃▂▁██▇▆▄▃▂▁██▇▆▄▃▂▁██▇▆▄▃▂▁██▇▆▄▃▂▁</td></tr><tr><td>train/epoch_F1_0</td><td>▁▆▇▇▇▇▇▇▆▇▇▇▇▇█▇▇▇▇▇██▇█▇▇█▇████▇███████</td></tr><tr><td>train/epoch_F1_1</td><td>█▁▁▁▁▁▁▁▁▁▁▁▁▁▁▁▁▁▁▁▁▁▁▁▁▁▁▁▁▁▁▁▁▁▁▁▁▁▁▁</td></tr><tr><td>train/epoch_F1_2</td><td>▁▁▁▁▁▁▁▁▁▁▁▁▁▁▁▁▁▁▁▁▁▁▁▁▁▁▁▁▁▁▁▁▁▁▁▁▁▁▁▁</td></tr><tr><td>train/epoch_F1_3</td><td>▁▁▁▁▄▆▆▆▅▅▅▅▅▆▆▆▆▅▇▆▆▆▇▇▆▆▇▇▇▇▇█▇▆▆▇██▇█</td></tr><tr><td>train/epoch_FN_0</td><td>█▃▂▂▂▂▂▂▂▂▂▂▂▂▁▁▂▂▂▁▁▁▁▁▂▁▁▁▁▁▁▁▂▁▁▁▁▁▁▁</td></tr><tr><td>train/epoch_FN_1</td><td>▁████████████████████████▇▇█▇███████▇███</td></tr><tr><td>train/epoch_FN_2</td><td>▁▁▁▁▁▁▁▁▁▁▁▁▁▁▁▁▁▁▁▁▁▁▁▁▁▁▁▁▁▁▁▁▁▁▁▁▁▁▁▁</td></tr><tr><td>train/epoch_FN_3</td><td>▇███▆▄▄▃▅▅▅▅▄▃▃▃▄▄▃▄▃▃▂▂▃▃▂▃▂▁▁▁▃▃▂▂▂▁▁▁</td></tr><tr><td>train/epoch_FP_0</td><td>█▄▂▂▂▂▂▂▂▂▂▂▁▁▁▁▂▂▁▁▁▁▁▁▁▁▁▁▁▁▁▁▁▁▁▁▁▁▁▁</td></tr><tr><td>train/epoch_FP_1</td><td>█▁▁▁▁▁▂▂▁▂▂▂▂▂▂▂▂▂▂▂▂▂▂▂▂▂▂▂▂▂▂▂▂▂▂▂▂▂▂▂</td></tr><tr><td>train/epoch_FP_2</td><td>█▁▁▁▁▁▂▂▂▂▂▂▂▂▂▂▂▂▂▂▂▂▂▂▂▂▂▂▂▂▂▂▂▂▂▂▂▂▂▂</td></tr><tr><td>train/epoch_FP_3</td><td>█▁▁▁▂▂▂▂▂▂▂▂▂▂▂▃▂▂▂▂▂▃▃▃▂▂▂▃▃▃▃▃▂▂▃▃▃▃▃▃</td></tr><tr><td>train/epoch_IoU_0</td><td>▁▅▆▆▇▆▇▇▆▇▇▇▇▇▇▇▇▇▇▇▇▇▇█▇▇█▇██▇█▇▇▇█████</td></tr><tr><td>train/epoch_IoU_1</td><td>█▁▁▁▁▁▁▁▁▁▁▁▁▁▁▁▁▁▁▁▁▁▁▁▁▁▁▁▁▁▁▁▁▁▁▁▁▁▁▁</td></tr><tr><td>train/epoch_IoU_2</td><td>▁▁▁▁▁▁▁▁▁▁▁▁▁▁▁▁▁▁▁▁▁▁▁▁▁▁▁▁▁▁▁▁▁▁▁▁▁▁▁▁</td></tr><tr><td>train/epoch_IoU_3</td><td>▁▁▁▁▄▅▆▆▄▅▅▅▅▆▅▆▅▅▇▆▆▆▆▇▆▆▆▆▇▇▇█▆▆▆▇██▇▇</td></tr><tr><td>train/epoch_Precision_0</td><td>▁▅▆▇▇▇▇▇▆▇▇▇▇▇▇▇▇▇▇▇▇███▇▇██████▇▇██▇███</td></tr><tr><td>train/epoch_Precision_1</td><td>█▁▁▂▂▂▁▂▂▂▁▁▂▁▂▁▂▂▂▁▁▁▂▁▂▂▁▁▂▂▂▂▁▁▁▁▂▁▁▁</td></tr><tr><td>train/epoch_Precision_2</td><td>▁▁▁▁▁▁▁▁▁▁▁▁▁▁▁▁▁▁▁▁▁▁▁▁▁▁▁▁▁▁▁▁▁▁▁▁▁▁▁▁</td></tr><tr><td>train/epoch_Precision_3</td><td>▁▁▁▁▇▆▆▇▆▆▇▇▆▆▇▇▇▅▇▆▆▇▆▇▆▇█▆▇▆▆▇▆▇▆▇▇▇▆▇</td></tr><tr><td>train/epoch_Recall_0</td><td>▁▆▇▇▇▇▇▇▇▇▇▇▇▇█▇▇▇▇▇█▇▇▇▇▇█▇██▇█▇▇██████</td></tr><tr><td>train/epoch_Recall_1</td><td>█▁▁▁▁▁▁▁▁▁▁▁▁▁▁▁▁▁▁▁▁▁▁▁▁▁▁▁▁▁▁▁▁▁▁▁▁▁▁▁</td></tr><tr><td>train/epoch_Recall_2</td><td>▁▁▁▁▁▁▁▁▁▁▁▁▁▁▁▁▁▁▁▁▁▁▁▁▁▁▁▁▁▁▁▁▁▁▁▁▁▁▁▁</td></tr><tr><td>train/epoch_Recall_3</td><td>▂▁▁▁▃▅▆▆▄▅▅▄▅▆▆▇▆▅▆▆▆▆▇▇▆▆▆▆▇▇██▆▆▆▇██▇▇</td></tr><tr><td>train/epoch_TN_0</td><td>▁▅▇▇▇▇▇▇▇▇▇▇████▇▇██████████████████████</td></tr><tr><td>train/epoch_TN_1</td><td>▁█████▇▇█▇▇▇▇▇▇▇▇▇▇▇▇▇▇▇▇▇▇▇▇▇▇▇▇▇▇▇▇▇▇▇</td></tr><tr><td>train/epoch_TN_2</td><td>▁█████▇▇▇▇▇▇▇▇▇▇▇▇▇▇▇▇▇▇▇▇▇▇▇▇▇▇▇▇▇▇▇▇▇▇</td></tr><tr><td>train/epoch_TN_3</td><td>▁███▇▇▇▇▇▇▇▇▇▇▇▆▇▇▇▇▆▆▆▆▇▇▇▆▆▆▆▆▇▇▆▆▆▆▆▆</td></tr><tr><td>train/epoch_TP_0</td><td>▁▆▇▇▇▇▇▇▇▇▇▇▇▇██▇▇▇█████▇███████▇███████</td></tr><tr><td>train/epoch_TP_1</td><td>█▁▁▁▁▁▁▁▁▁▁▁▁▁▁▁▁▁▁▁▁▁▁▁▁▁▁▁▁▁▁▁▁▁▁▁▁▁▁▁</td></tr><tr><td>train/epoch_TP_2</td><td>▁▁▁▁▁▁▁▁▁▁▁▁▁▁▁▁▁▁▁▁▁▁▁▁▁▁▁▁▁▁▁▁▁▁▁▁▁▁▁▁</td></tr><tr><td>train/epoch_TP_3</td><td>▂▁▁▁▃▅▅▅▄▄▄▄▅▆▆▆▅▅▆▅▆▆▇▇▆▅▆▆▇▇██▆▆▇▇▇███</td></tr><tr><td>train/epoch_loss</td><td>█▄▄▄▄▃▃▃▃▃▃▂▃▂▂▃▄▂▄▂▂▄▂▃▃▄▃▂▃▃▃▂▄▄▁▃▂▃▃▃</td></tr><tr><td>train/iter_F1_0</td><td>▆▁▅▆▇▇▂▆██▆▅█▆▇▅▇█▅███▁▃█▇▇▇▇▂█▁█▇█▇█▂▇▇</td></tr><tr><td>train/iter_F1_1</td><td>▁▁▁▁▁▁▁▁▁▁▁▁▁▁▁▁▂▁▁▁▁▁▁▂▁▁▁▁▁█▁▁▁▁▁▁▁▂▁▁</td></tr><tr><td>train/iter_F1_2</td><td>▁▁▁▁▁▁▁▁▁▁▁▁▁▁▁▁▁▁▁▁▁▁▁▁▁▁▁▁▁▁▁▁▁▁▁▁▁▁▁▁</td></tr><tr><td>train/iter_F1_3</td><td>▁▁▁▁▁▁▂▁▂▂▂▁▂▅▁▁▁█▃▁▁▂▂▅▁▁▁▁▁▄▁▅▁▁▁▁▁▁▁▃</td></tr><tr><td>train/iter_FN_0</td><td>▅▁▆▂▁▁▁▂▂▁▁▁▃█▂▁▄▁▄▂▂▂▁▄▂▁▁▁▂▃▂▅▂▃▂▁▂▃▁▁</td></tr><tr><td>train/iter_FN_1</td><td>▆▁▃▃▃▂▁▆▆▅▅▂▆▇▃▂█▁▅▂▇▃▃▅▅▂▂▄▄▄▇▄▅▇▃▁▅▃▄▄</td></tr><tr><td>train/iter_FN_2</td><td>▁▁▁▁▁▁▁▁▁▁▁▁▁▁▁▁▁▁▁▁▁▁▁▁▁▁▁▁▁▁▁▁▁▁▁▁▁▁▁▁</td></tr><tr><td>train/iter_FN_3</td><td>▆▂▁▅▄▄▁▆▆█▅▅▅▂▃▃▃▂▂▄▆▃▅▆▃▅▂▆▃▂▆▁▆▄▂▂▃▄▄▆</td></tr><tr><td>train/iter_FP_0</td><td>▄▃▂▂▂▅▁▃▇▁▃▁▄▂▃▁█▁▁▅▅▂▁▁▃▃▁▂▃▁▆▁▅▇▅▁▅▁▂▁</td></tr><tr><td>train/iter_FP_1</td><td>▁▁▁▁▁▁▁▁▁▁▂▁▃▅▁▁▁▁▃▁▁▁▁█▁▁▁▁▁▆▁▇▁▁▁▁▁▆▁▁</td></tr><tr><td>train/iter_FP_2</td><td>▁▃▂▄▂▄▁▅▇▃▃▃▅▄▄▂▇▁▃▄▇▄▃▂▅▅▂▄▅▁▇▂█▇▄▁▆▂▃▅</td></tr><tr><td>train/iter_FP_3</td><td>▁▁▁▁▁▁▃▁▂▁▂▁▂▇▁▁▂▂▄▁▁▁▁█▁▁▁▁▁█▁▇▁▁▁▁▁▇▃▁</td></tr><tr><td>train/iter_IoU_0</td><td>▅▁▄▅▇▆▁▅██▅▄▇▆▆▄▇█▄███▁▂█▇▆▇▇▁▇▁▇▇▇▇█▁▆▇</td></tr><tr><td>train/iter_IoU_1</td><td>▁▁▁▁▁▁▁▁▁▁▁▁▁▁▁▁▂▁▁▁▁▁▁▂▁▁▁▁▁█▁▁▁▁▁▁▁▂▁▁</td></tr><tr><td>train/iter_IoU_2</td><td>▁▁▁▁▁▁▁▁▁▁▁▁▁▁▁▁▁▁▁▁▁▁▁▁▁▁▁▁▁▁▁▁▁▁▁▁▁▁▁▁</td></tr><tr><td>train/iter_IoU_3</td><td>▁▁▁▁▁▁▂▁▂▂▂▁▂▄▁▁▁█▃▁▁▂▂▄▁▁▁▁▁▄▁▅▁▁▁▁▁▁▁▃</td></tr><tr><td>train/iter_Precision_0</td><td>▇▁▇▆▇▆█▆▇▇▅▃▇█▆▆▇▇▇▇▇▇▁▇▇▆▇▆▇▇▇▅▇▇▇▇▇█▆▆</td></tr><tr><td>train/iter_Precision_1</td><td>▁▁▁▁▁▁▁▅▁▁▁▁▁▁▁▁█▁▁▁▁▁▁▁▁▁▁▁▁▂▁▁▁▁▁▁▁▁▁▁</td></tr><tr><td>train/iter_Precision_2</td><td>▁▁▁▁▁▁▁▁▁▁▁▁▁▁▁▁▁▁▁▁▁▁▁▁▁▁▁▁▁▁▁▁▁▁▁▁▁▁▁▁</td></tr><tr><td>train/iter_Precision_3</td><td>▁▁▁▁▁▁▁▁▄▆▃▁▃▃▁▁▁▆▂▁▁▄█▃▁▁▁▁▁▂▂▃▁▁▁▁▁▁▁▆</td></tr><tr><td>train/iter_Recall_0</td><td>▅▂▃▅▇▇▁▅█▇▆█▇▅▆▄▇▇▄▇▇▇▁▂▇▇▆▇▇▁▇▁▇▇▇▆▇▁▆▇</td></tr><tr><td>train/iter_Recall_1</td><td>▁▁▁▁▁▁▁▁▁▁▁▁▁▁▁▁▁▁▁▁▁▁▁▂▁▁▁▁▁█▁▁▁▁▁▁▁▂▁▁</td></tr><tr><td>train/iter_Recall_2</td><td>▁▁▁▁▁▁▁▁▁▁▁▁▁▁▁▁▁▁▁▁▁▁▁▁▁▁▁▁▁▁▁▁▁▁▁▁▁▁▁▁</td></tr><tr><td>train/iter_Recall_3</td><td>▁▁▁▁▁▁▂▁▂▂▁▁▁▅▁▁▁▆▃▁▁▁▂▃▁▁▁▁▁▅▁█▁▁▁▁▁▁▁▂</td></tr><tr><td>train/iter_TN_0</td><td>▄█▅▇▇▆█▇▃█▇█▄▂▇█▁█▆▄▄▆█▆▄▇█▇▆▇▄▆▄▃▄█▄▇▇█</td></tr><tr><td>train/iter_TN_1</td><td>▄█▆▆▆▇█▄▄▄▅▇▃▁▆▇▂█▄▇▃▆▇▂▅▇▇▆▅▃▃▃▄▃▆█▄▄▆▆</td></tr><tr><td>train/iter_TN_2</td><td>█▆▇▅▇▅█▄▂▆▆▆▄▅▅▇▂█▆▅▂▅▆▇▄▄▇▅▄█▂▇▁▂▅█▃▇▆▄</td></tr><tr><td>train/iter_TN_3</td><td>▄▇█▅▆▆▇▅▄▂▅▅▅▄▇▇▆▇▆▆▅▆▅▁▆▅▇▅▇▄▄▅▄▆▇▇▆▃▅▄</td></tr><tr><td>train/iter_TP_0</td><td>▄▁▃▂▂▃▁▂▆▁▂▁▅▆▂▁█▁▂▅▆▄▁▁▆▂▁▂▃▁▆▁▅▆▅▁▆▁▂▁</td></tr><tr><td>train/iter_TP_1</td><td>▁▁▁▁▁▁▁▁▁▁▁▁▁▁▁▁▂▁▁▁▁▁▁▃▁▁▁▁▁█▁▁▁▁▁▁▁▂▁▁</td></tr><tr><td>train/iter_TP_2</td><td>▁▁▁▁▁▁▁▁▁▁▁▁▁▁▁▁▁▁▁▁▁▁▁▁▁▁▁▁▁▁▁▁▁▁▁▁▁▁▁▁</td></tr><tr><td>train/iter_TP_3</td><td>▁▁▁▁▁▁▁▁▂▃▂▁▂▅▁▁▁▄▂▁▁▁▂█▁▁▁▁▁▅▁▅▁▁▁▁▁▁▁▃</td></tr><tr><td>train/iter_loss</td><td>▅▁██▁▁█▁▄▅█▁▁▇▁▁▇▅█▁▁▇▁█▄▁▁▁▄█▁█▁▄▇▁▄█▇▄</td></tr><tr><td>train/mean_F1</td><td>▁▅▆▆▇▇▇▇▆▇▇▇▇▇▇▇▇▇▇▇▇▇▇█▇▇█▇████▇▇▇█████</td></tr><tr><td>train/mean_IoU</td><td>▁▅▅▆▆▆▇▇▆▆▇▇▇▇▇▇▇▇▇▇▇▇▇█▇▇▇▇██▇█▇▇▇█████</td></tr><tr><td>trainer/global_step</td><td>▁▁▁▁▂▂▂▂▂▃▃▃▃▃▃▄▄▄▄▄▄▅▅▅▅▅▆▆▆▆▆▆▇▇▇▇▇███</td></tr><tr><td>val/epoch_F1_0</td><td>▁▂▆▄▄▆▅▇▅▆▆▇▇▆▆▆▆▇▄▅▇▆▆▆█▆▅▄▆▆▇▇▂▅▆▆▇█▆▇</td></tr><tr><td>val/epoch_F1_1</td><td>▁▁▁▁▂▂▃▃▂▃▂▆▄▄▃▅▃▂█▂▄▅▅▅▁▂▆█▆▇▅▆▅▅▄▂█▅▆▅</td></tr><tr><td>val/epoch_F1_2</td><td>▁▁▁▁▁▁▁▁▁▁▁▁▁▁▁▁▁▁▁▁▁▁▁▁▁▁▁▁▁▁▁▁▁▁▁▁▁▁▁▁</td></tr><tr><td>val/epoch_F1_3</td><td>▁▁▁▁▄▄▄▃▃▅▂▄▃▃▄▄▂▃▅▃▄▄▄▅▂▅▃▅▅▅▅▅█▄▄▃▅▄▅▅</td></tr><tr><td>val/epoch_FN_0</td><td>█▆▁▅▅▂▄▂▃▃▂▂▂▃▄▃▂▂▅▄▂▃▄▄▁▂▄▅▃▃▂▂▆▃▃▄▃▁▃▂</td></tr><tr><td>val/epoch_FN_1</td><td>█████▇▇▇█▇▇▅▆▆▆▅▇▇▃▇▅▄▅▄█▇▄▁▄▂▄▄▄▅▆▇▁▅▃▄</td></tr><tr><td>val/epoch_FN_2</td><td>▁▁▁▁▁▁▁▁▁▁▁▁▁▁▁▁▁▁▁▁▁▁▁▁▁▁▁▁▁▁▁▁▁▁▁▁▁▁▁▁</td></tr><tr><td>val/epoch_FN_3</td><td>████▆▆▆▇▇▅▇▆▆▆▆▅▇▇▅▆▆▅▆▅█▅▇▅▅▅▅▅▁▆▆▇▄▅▄▅</td></tr><tr><td>val/epoch_FP_0</td><td>▂▂█▂▁▃▂▄▄▂▄▄▄▃▂▃▆▄▁▂▄▂▂▂▄▃▃▂▃▂▄▃▁▄▃▂▃▃▃▃</td></tr><tr><td>val/epoch_FP_1</td><td>▁▁▁▁▃▄▅▄▂▄▃▅▅▅▅▅▄▅▇▄▄▅▅▆▁▃▆▇▅▆▅▅█▅▄▃▆▃▆▄</td></tr><tr><td>val/epoch_FP_2</td><td>▂▂▃▂▄▆▅▆▅▄█▆▇▅▅▅▄▃▅▄▅▆▅▄▆▇▆▆▅▅▄▅▁▇▄█▅▅▄▅</td></tr><tr><td>val/epoch_FP_3</td><td>▁▁▁▁▃▄▄▃▃▄▂▄▃▃▄▄▃▃▅▃▃▄▄▅▂▄▃▅▅▄▅▄█▄▄▃▅▄▅▄</td></tr><tr><td>val/epoch_IoU_0</td><td>▁▃▆▄▄▆▅▇▅▆▆▇▇▆▆▇▆▇▄▅▇▇▆▆█▆▅▅▆▇▇▇▃▅▇▆▇█▆▇</td></tr><tr><td>val/epoch_IoU_1</td><td>▁▁▁▁▂▂▃▃▂▃▂▆▄▄▃▅▃▂█▂▄▅▅▅▁▂▆█▆▇▅▆▅▅▄▂█▅▆▅</td></tr><tr><td>val/epoch_IoU_2</td><td>▁▁▁▁▁▁▁▁▁▁▁▁▁▁▁▁▁▁▁▁▁▁▁▁▁▁▁▁▁▁▁▁▁▁▁▁▁▁▁▁</td></tr><tr><td>val/epoch_IoU_3</td><td>▁▁▁▁▄▄▃▃▃▅▂▄▃▃▄▄▂▃▅▃▄▄▄▅▂▅▃▄▅▅▅▅█▄▄▃▅▄▅▅</td></tr><tr><td>val/epoch_Precision_0</td><td>▃▄▁▄█▄▆▄▃▅▂▄▃▃▅▄▁▃▅▆▃▅▅▅▄▅▃▅▄▅▃▄▃▂▄▆▄▄▄▄</td></tr><tr><td>val/epoch_Precision_1</td><td>▁▁▆▂▂▄▂▃▃▂▂▆▄▃▂▃▃▂█▂▂▃▂▂▁▆▂▃▃▃▂▂▂▂▂▂▄▃▃▃</td></tr><tr><td>val/epoch_Precision_2</td><td>▁▁▁▁▁▁▁▁▁▁▁▁▁▁▁▁▁▁▁▁▁▁▁▁▁▁▁▁▁▁▁▁▁▁▁▁▁▁▁▁</td></tr><tr><td>val/epoch_Precision_3</td><td>▁▁▁▁▇▇▇▆▇▇▅▇▆▆▇▇▆▇▇▇█▇▇▇▆▇▆█▇▇███▇▆█▇▇█▇</td></tr><tr><td>val/epoch_Recall_0</td><td>▁▃▇▄▄▇▅▇▆▅▇▇█▆▆▇▇▇▄▅▇▇▆▆█▆▆▅▇▇█▇▃▆▇▆▇█▆▇</td></tr><tr><td>val/epoch_Recall_1</td><td>▁▁▁▁▁▂▂▂▁▂▂▄▃▃▃▄▂▂▆▂▄▅▄▅▁▂▆█▅▇▅▅▅▄▃▂█▄▆▅</td></tr><tr><td>val/epoch_Recall_2</td><td>▁▁▁▁▁▁▁▁▁▁▁▁▁▁▁▁▁▁▁▁▁▁▁▁▁▁▁▁▁▁▁▁▁▁▁▁▁▁▁▁</td></tr><tr><td>val/epoch_Recall_3</td><td>▁▁▁▁▃▄▃▂▃▄▂▃▂▃▃▃▂▂▄▂▃▃▃▄▁▄▂▄▄▄▄▄█▃▃▂▅▃▅▄</td></tr><tr><td>val/epoch_TN_0</td><td>▇▇▁▇█▆▇▅▅▇▅▅▅▆▇▆▃▅█▇▅▇▇▇▅▆▆▇▆▇▅▆█▅▆▇▆▆▆▆</td></tr><tr><td>val/epoch_TN_1</td><td>████▆▅▄▅▇▅▆▄▄▄▄▄▅▄▂▅▅▄▄▃█▆▃▂▄▃▄▄▁▄▅▆▃▆▃▅</td></tr><tr><td>val/epoch_TN_2</td><td>▇▇▆▇▅▃▄▃▄▅▁▃▂▄▄▄▅▆▄▅▄▃▄▅▃▂▃▃▄▄▅▄█▂▅▁▄▄▅▄</td></tr><tr><td>val/epoch_TN_3</td><td>████▆▅▅▆▆▅▇▅▆▆▅▅▆▆▄▆▆▅▅▄▇▅▆▄▄▅▄▅▁▅▅▆▄▅▄▅</td></tr><tr><td>val/epoch_TP_0</td><td>▁▃█▄▄▇▅▇▆▆▇▇▇▆▅▆▇▇▄▅▇▆▅▅█▇▅▄▆▆▇▇▃▆▆▅▆█▆▇</td></tr><tr><td>val/epoch_TP_1</td><td>▁▁▁▁▁▂▂▂▁▂▂▄▃▃▃▄▂▂▆▂▄▅▄▅▁▂▅█▅▇▅▅▅▄▃▂█▄▆▅</td></tr><tr><td>val/epoch_TP_2</td><td>▁▁▁▁▁▁▁▁▁▁▁▁▁▁▁▁▁▁▁▁▁▁▁▁▁▁▁▁▁▁▁▁▁▁▁▁▁▁▁▁</td></tr><tr><td>val/epoch_TP_3</td><td>▁▁▁▁▃▃▃▂▂▄▂▃▃▃▃▄▂▂▄▃▃▄▃▄▁▄▂▄▄▄▄▄█▃▃▂▅▄▅▄</td></tr><tr><td>val/epoch_loss</td><td>█▇▄▄▂▁▁▁▃▂▂▁▁▁▁▁▂▂▂▁▁▁▁▁▄▂▂▂▂▂▂▂▄▂▂▃▃▃▃▃</td></tr><tr><td>val/iter_F1_0</td><td>▁▂▆▄▄▆▅▇▅▆▆▇▇▆▆▆▆▇▄▅▇▆▆▆█▆▅▄▆▆▇▇▂▅▆▆▇█▆▇</td></tr><tr><td>val/iter_F1_1</td><td>▁▁▁▁▂▂▃▃▂▃▂▆▄▄▃▅▃▂█▂▄▅▅▅▁▂▆█▆▇▅▆▅▅▄▂█▅▆▅</td></tr><tr><td>val/iter_F1_2</td><td>▁▁▁▁▁▁▁▁▁▁▁▁▁▁▁▁▁▁▁▁▁▁▁▁▁▁▁▁▁▁▁▁▁▁▁▁▁▁▁▁</td></tr><tr><td>val/iter_F1_3</td><td>▁▁▁▁▄▄▄▃▃▅▂▄▃▃▄▄▂▃▅▃▄▄▄▅▂▅▃▅▅▅▅▅█▄▄▃▅▄▅▅</td></tr><tr><td>val/iter_FN_0</td><td>█▆▁▅▅▂▄▂▃▃▂▂▂▃▄▃▂▂▅▄▂▃▄▄▁▂▄▅▃▃▂▂▆▃▃▄▃▁▃▂</td></tr><tr><td>val/iter_FN_1</td><td>█████▇▇▇█▇▇▅▆▆▆▅▇▇▃▇▅▄▅▄█▇▄▁▄▂▄▄▄▅▆▇▁▅▃▄</td></tr><tr><td>val/iter_FN_2</td><td>▁▁▁▁▁▁▁▁▁▁▁▁▁▁▁▁▁▁▁▁▁▁▁▁▁▁▁▁▁▁▁▁▁▁▁▁▁▁▁▁</td></tr><tr><td>val/iter_FN_3</td><td>████▆▆▆▇▇▅▇▆▆▆▆▅▇▇▅▆▆▅▆▅█▅▇▅▅▅▅▅▁▆▆▇▄▅▄▅</td></tr><tr><td>val/iter_FP_0</td><td>▂▂█▂▁▃▂▄▄▂▄▄▄▃▂▃▆▄▁▂▄▂▂▂▄▃▃▂▃▂▄▃▁▄▃▂▃▃▃▃</td></tr><tr><td>val/iter_FP_1</td><td>▁▁▁▁▃▄▅▄▂▄▃▅▅▅▅▅▄▅▇▄▄▅▅▆▁▃▆▇▅▆▅▅█▅▄▃▆▃▆▄</td></tr><tr><td>val/iter_FP_2</td><td>▂▂▃▂▄▆▅▆▅▄█▆▇▅▅▅▄▃▅▄▅▆▅▄▆▇▆▆▅▅▄▅▁▇▄█▅▅▄▅</td></tr><tr><td>val/iter_FP_3</td><td>▁▁▁▁▃▄▄▃▃▄▂▄▃▃▄▄▃▃▅▃▃▄▄▅▂▄▃▅▅▄▅▄█▄▄▃▅▄▅▄</td></tr><tr><td>val/iter_IoU_0</td><td>▁▃▆▄▄▆▅▇▅▆▆▇▇▆▆▇▆▇▄▅▇▇▆▆█▆▅▅▆▇▇▇▃▅▇▆▇█▆▇</td></tr><tr><td>val/iter_IoU_1</td><td>▁▁▁▁▂▂▃▃▂▃▂▆▄▄▃▅▃▂█▂▄▅▅▅▁▂▆█▆▇▅▆▅▅▄▂█▅▆▅</td></tr><tr><td>val/iter_IoU_2</td><td>▁▁▁▁▁▁▁▁▁▁▁▁▁▁▁▁▁▁▁▁▁▁▁▁▁▁▁▁▁▁▁▁▁▁▁▁▁▁▁▁</td></tr><tr><td>val/iter_IoU_3</td><td>▁▁▁▁▄▄▃▃▃▅▂▄▃▃▄▄▂▃▅▃▄▄▄▅▂▅▃▄▅▅▅▅█▄▄▃▅▄▅▅</td></tr><tr><td>val/iter_Precision_0</td><td>▃▄▁▄█▄▆▄▃▅▂▄▃▃▅▄▁▃▅▆▃▅▅▅▄▅▃▅▄▅▃▄▃▂▄▆▄▄▄▄</td></tr><tr><td>val/iter_Precision_1</td><td>▁▁▆▂▂▄▂▃▃▂▂▆▄▃▂▃▃▂█▂▂▃▂▂▁▆▂▃▃▃▂▂▂▂▂▂▄▃▃▃</td></tr><tr><td>val/iter_Precision_2</td><td>▁▁▁▁▁▁▁▁▁▁▁▁▁▁▁▁▁▁▁▁▁▁▁▁▁▁▁▁▁▁▁▁▁▁▁▁▁▁▁▁</td></tr><tr><td>val/iter_Precision_3</td><td>▁▁▁▁▇▇▇▆▇▇▅▇▆▆▇▇▆▇▇▇█▇▇▇▆▇▆█▇▇███▇▆█▇▇█▇</td></tr><tr><td>val/iter_Recall_0</td><td>▁▃▇▄▄▇▅▇▆▅▇▇█▆▆▇▇▇▄▅▇▇▆▆█▆▆▅▇▇█▇▃▆▇▆▇█▆▇</td></tr><tr><td>val/iter_Recall_1</td><td>▁▁▁▁▁▂▂▂▁▂▂▄▃▃▃▄▂▂▆▂▄▅▄▅▁▂▆█▅▇▅▅▅▄▃▂█▄▆▅</td></tr><tr><td>val/iter_Recall_2</td><td>▁▁▁▁▁▁▁▁▁▁▁▁▁▁▁▁▁▁▁▁▁▁▁▁▁▁▁▁▁▁▁▁▁▁▁▁▁▁▁▁</td></tr><tr><td>val/iter_Recall_3</td><td>▁▁▁▁▃▄▃▂▃▄▂▃▂▃▃▃▂▂▄▂▃▃▃▄▁▄▂▄▄▄▄▄█▃▃▂▅▃▅▄</td></tr><tr><td>val/iter_TN_0</td><td>▇▇▁▇█▆▇▅▅▇▅▅▅▆▇▆▃▅█▇▅▇▇▇▅▆▆▇▆▇▅▆█▅▆▇▆▆▆▆</td></tr><tr><td>val/iter_TN_1</td><td>████▆▅▄▅▇▅▆▄▄▄▄▄▅▄▂▅▅▄▄▃█▆▃▂▄▃▄▄▁▄▅▆▃▆▃▅</td></tr><tr><td>val/iter_TN_2</td><td>▇▇▆▇▅▃▄▃▄▅▁▃▂▄▄▄▅▆▄▅▄▃▄▅▃▂▃▃▄▄▅▄█▂▅▁▄▄▅▄</td></tr><tr><td>val/iter_TN_3</td><td>████▆▅▅▆▆▅▇▅▆▆▅▅▆▆▄▆▆▅▅▄▇▅▆▄▄▅▄▅▁▅▅▆▄▅▄▅</td></tr><tr><td>val/iter_TP_0</td><td>▁▃█▄▄▇▅▇▆▆▇▇▇▆▅▆▇▇▄▅▇▆▅▅█▇▅▄▆▆▇▇▃▆▆▅▆█▆▇</td></tr><tr><td>val/iter_TP_1</td><td>▁▁▁▁▁▂▂▂▁▂▂▄▃▃▃▄▂▂▆▂▄▅▄▅▁▂▅█▅▇▅▅▅▄▃▂█▄▆▅</td></tr><tr><td>val/iter_TP_2</td><td>▁▁▁▁▁▁▁▁▁▁▁▁▁▁▁▁▁▁▁▁▁▁▁▁▁▁▁▁▁▁▁▁▁▁▁▁▁▁▁▁</td></tr><tr><td>val/iter_TP_3</td><td>▁▁▁▁▃▃▃▂▂▄▂▃▃▃▃▄▂▂▄▃▃▄▃▄▁▄▂▄▄▄▄▄█▃▃▂▅▄▅▄</td></tr><tr><td>val/iter_loss</td><td>█▇▄▄▂▁▁▁▃▂▂▁▁▁▁▁▂▂▂▁▁▁▁▁▄▂▂▂▂▂▂▂▄▂▂▃▃▃▃▃</td></tr><tr><td>val/mean_F1</td><td>▁▂▅▃▅▇▆▆▆▇▅▇▇▆▆▇▅▆▆▅▇▇▆▇▇▇▅▆▇▇██▆▆▇▆██▇█</td></tr><tr><td>val/mean_IoU</td><td>▁▂▅▃▅▇▆▇▅▆▆▇▇▆▆▇▆▆▅▅▇▇▇▇▇▇▅▆▇▇██▅▆▇▆██▇█</td></tr></table><br/></div><div class=\"wandb-col\"><h3>Run summary:</h3><br/><table class=\"wandb\"><tr><td>epoch</td><td>99</td></tr><tr><td>lr-AdamW</td><td>2e-05</td></tr><tr><td>train/epoch_F1_0</td><td>0.72472</td></tr><tr><td>train/epoch_F1_1</td><td>0.00057</td></tr><tr><td>train/epoch_F1_2</td><td>0.0</td></tr><tr><td>train/epoch_F1_3</td><td>0.10753</td></tr><tr><td>train/epoch_FN_0</td><td>29401.25586</td></tr><tr><td>train/epoch_FN_1</td><td>147010.15625</td></tr><tr><td>train/epoch_FN_2</td><td>0.0</td></tr><tr><td>train/epoch_FN_3</td><td>54161.24609</td></tr><tr><td>train/epoch_FP_0</td><td>17571.91211</td></tr><tr><td>train/epoch_FP_1</td><td>17517.1875</td></tr><tr><td>train/epoch_FP_2</td><td>134106.23438</td></tr><tr><td>train/epoch_FP_3</td><td>16942.00586</td></tr><tr><td>train/epoch_IoU_0</td><td>0.60367</td></tr><tr><td>train/epoch_IoU_1</td><td>0.00029</td></tr><tr><td>train/epoch_IoU_2</td><td>0.0</td></tr><tr><td>train/epoch_IoU_3</td><td>0.06626</td></tr><tr><td>train/epoch_Precision_0</td><td>0.79498</td></tr><tr><td>train/epoch_Precision_1</td><td>0.00155</td></tr><tr><td>train/epoch_Precision_2</td><td>0.0</td></tr><tr><td>train/epoch_Precision_3</td><td>0.23341</td></tr><tr><td>train/epoch_Recall_0</td><td>0.71372</td></tr><tr><td>train/epoch_Recall_1</td><td>0.00043</td></tr><tr><td>train/epoch_Recall_2</td><td>0.0</td></tr><tr><td>train/epoch_Recall_3</td><td>0.09502</td></tr><tr><td>train/epoch_TN_0</td><td>6411198.0</td></tr><tr><td>train/epoch_TN_1</td><td>6388991.5</td></tr><tr><td>train/epoch_TN_2</td><td>6419494.0</td></tr><tr><td>train/epoch_TN_3</td><td>6476597.0</td></tr><tr><td>train/epoch_TP_0</td><td>95429.05469</td></tr><tr><td>train/epoch_TP_1</td><td>81.54375</td></tr><tr><td>train/epoch_TP_2</td><td>0.0</td></tr><tr><td>train/epoch_TP_3</td><td>5900.3374</td></tr><tr><td>train/epoch_loss</td><td>0.38797</td></tr><tr><td>train/iter_F1_0</td><td>0.81034</td></tr><tr><td>train/iter_F1_1</td><td>0.0</td></tr><tr><td>train/iter_F1_2</td><td>0.0</td></tr><tr><td>train/iter_F1_3</td><td>0.15984</td></tr><tr><td>train/iter_FN_0</td><td>1313.0</td></tr><tr><td>train/iter_FN_1</td><td>149177.0</td></tr><tr><td>train/iter_FN_2</td><td>0.0</td></tr><tr><td>train/iter_FN_3</td><td>103051.0</td></tr><tr><td>train/iter_FP_0</td><td>1988.0</td></tr><tr><td>train/iter_FP_1</td><td>229.0</td></tr><tr><td>train/iter_FP_2</td><td>155737.0</td></tr><tr><td>train/iter_FP_3</td><td>5726.0</td></tr><tr><td>train/iter_IoU_0</td><td>0.68116</td></tr><tr><td>train/iter_IoU_1</td><td>0.0</td></tr><tr><td>train/iter_IoU_2</td><td>0.0</td></tr><tr><td>train/iter_IoU_3</td><td>0.08686</td></tr><tr><td>train/iter_Precision_0</td><td>0.78009</td></tr><tr><td>train/iter_Precision_1</td><td>0.0</td></tr><tr><td>train/iter_Precision_2</td><td>0.0</td></tr><tr><td>train/iter_Precision_3</td><td>0.64375</td></tr><tr><td>train/iter_Recall_0</td><td>0.84304</td></tr><tr><td>train/iter_Recall_1</td><td>0.0</td></tr><tr><td>train/iter_Recall_2</td><td>0.0</td></tr><tr><td>train/iter_Recall_3</td><td>0.09124</td></tr><tr><td>train/iter_TN_0</td><td>6543247.0</td></tr><tr><td>train/iter_TN_1</td><td>6404194.0</td></tr><tr><td>train/iter_TN_2</td><td>6397863.0</td></tr><tr><td>train/iter_TN_3</td><td>6434476.0</td></tr><tr><td>train/iter_TP_0</td><td>7052.0</td></tr><tr><td>train/iter_TP_1</td><td>0.0</td></tr><tr><td>train/iter_TP_2</td><td>0.0</td></tr><tr><td>train/iter_TP_3</td><td>10347.0</td></tr><tr><td>train/iter_loss</td><td>0.37022</td></tr><tr><td>train/mean_F1</td><td>0.2082</td></tr><tr><td>train/mean_IoU</td><td>0.16755</td></tr><tr><td>trainer/global_step</td><td>15999</td></tr><tr><td>val/epoch_F1_0</td><td>0.65212</td></tr><tr><td>val/epoch_F1_1</td><td>0.00154</td></tr><tr><td>val/epoch_F1_2</td><td>0.0</td></tr><tr><td>val/epoch_F1_3</td><td>0.14016</td></tr><tr><td>val/epoch_FN_0</td><td>45174.92578</td></tr><tr><td>val/epoch_FN_1</td><td>170148.65625</td></tr><tr><td>val/epoch_FN_2</td><td>0.0</td></tr><tr><td>val/epoch_FN_3</td><td>74984.5</td></tr><tr><td>val/epoch_FP_0</td><td>17021.05078</td></tr><tr><td>val/epoch_FP_1</td><td>27872.32617</td></tr><tr><td>val/epoch_FP_2</td><td>126564.77344</td></tr><tr><td>val/epoch_FP_3</td><td>28500.0</td></tr><tr><td>val/epoch_IoU_0</td><td>0.51721</td></tr><tr><td>val/epoch_IoU_1</td><td>0.00078</td></tr><tr><td>val/epoch_IoU_2</td><td>0.0</td></tr><tr><td>val/epoch_IoU_3</td><td>0.08474</td></tr><tr><td>val/epoch_Precision_0</td><td>0.76936</td></tr><tr><td>val/epoch_Precision_1</td><td>0.00403</td></tr><tr><td>val/epoch_Precision_2</td><td>0.0</td></tr><tr><td>val/epoch_Precision_3</td><td>0.27514</td></tr><tr><td>val/epoch_Recall_0</td><td>0.62211</td></tr><tr><td>val/epoch_Recall_1</td><td>0.00121</td></tr><tr><td>val/epoch_Recall_2</td><td>0.0</td></tr><tr><td>val/epoch_Recall_3</td><td>0.1149</td></tr><tr><td>val/epoch_TN_0</td><td>6414072.0</td></tr><tr><td>val/epoch_TN_1</td><td>6355292.0</td></tr><tr><td>val/epoch_TN_2</td><td>6427035.5</td></tr><tr><td>val/epoch_TN_3</td><td>6439250.0</td></tr><tr><td>val/epoch_TP_0</td><td>77331.82812</td></tr><tr><td>val/epoch_TP_1</td><td>287.20001</td></tr><tr><td>val/epoch_TP_2</td><td>0.0</td></tr><tr><td>val/epoch_TP_3</td><td>10865.4502</td></tr><tr><td>val/epoch_loss</td><td>0.40788</td></tr><tr><td>val/iter_F1_0</td><td>0.65212</td></tr><tr><td>val/iter_F1_1</td><td>0.00154</td></tr><tr><td>val/iter_F1_2</td><td>0.0</td></tr><tr><td>val/iter_F1_3</td><td>0.14016</td></tr><tr><td>val/iter_FN_0</td><td>45174.92578</td></tr><tr><td>val/iter_FN_1</td><td>170148.65625</td></tr><tr><td>val/iter_FN_2</td><td>0.0</td></tr><tr><td>val/iter_FN_3</td><td>74984.5</td></tr><tr><td>val/iter_FP_0</td><td>17021.05078</td></tr><tr><td>val/iter_FP_1</td><td>27872.32422</td></tr><tr><td>val/iter_FP_2</td><td>126564.77344</td></tr><tr><td>val/iter_FP_3</td><td>28500.0</td></tr><tr><td>val/iter_IoU_0</td><td>0.51721</td></tr><tr><td>val/iter_IoU_1</td><td>0.00078</td></tr><tr><td>val/iter_IoU_2</td><td>0.0</td></tr><tr><td>val/iter_IoU_3</td><td>0.08474</td></tr><tr><td>val/iter_Precision_0</td><td>0.76936</td></tr><tr><td>val/iter_Precision_1</td><td>0.00403</td></tr><tr><td>val/iter_Precision_2</td><td>0.0</td></tr><tr><td>val/iter_Precision_3</td><td>0.27514</td></tr><tr><td>val/iter_Recall_0</td><td>0.62211</td></tr><tr><td>val/iter_Recall_1</td><td>0.00121</td></tr><tr><td>val/iter_Recall_2</td><td>0.0</td></tr><tr><td>val/iter_Recall_3</td><td>0.1149</td></tr><tr><td>val/iter_TN_0</td><td>6414072.5</td></tr><tr><td>val/iter_TN_1</td><td>6355292.5</td></tr><tr><td>val/iter_TN_2</td><td>6427035.0</td></tr><tr><td>val/iter_TN_3</td><td>6439251.0</td></tr><tr><td>val/iter_TP_0</td><td>77331.82812</td></tr><tr><td>val/iter_TP_1</td><td>287.20001</td></tr><tr><td>val/iter_TP_2</td><td>0.0</td></tr><tr><td>val/iter_TP_3</td><td>10865.4502</td></tr><tr><td>val/iter_loss</td><td>0.40788</td></tr><tr><td>val/mean_F1</td><td>0.19846</td></tr><tr><td>val/mean_IoU</td><td>0.15068</td></tr></table><br/></div></div>"
      ],
      "text/plain": [
       "<IPython.core.display.HTML object>"
      ]
     },
     "metadata": {},
     "output_type": "display_data"
    },
    {
     "data": {
      "text/html": [
       "Synced <strong style=\"color:#cdcd00\">3090_fold3</strong>: <a href=\"https://wandb.ai/syuchimu/SpaceNet8_flood/runs/1pua85d6\" target=\"_blank\">https://wandb.ai/syuchimu/SpaceNet8_flood/runs/1pua85d6</a><br/>Synced 7 W&B file(s), 0 media file(s), 0 artifact file(s) and 2 other file(s)"
      ],
      "text/plain": [
       "<IPython.core.display.HTML object>"
      ]
     },
     "metadata": {},
     "output_type": "display_data"
    },
    {
     "data": {
      "text/html": [
       "Find logs at: <code>./wandb/run-20220726_174333-1pua85d6/logs</code>"
      ],
      "text/plain": [
       "<IPython.core.display.HTML object>"
      ]
     },
     "metadata": {},
     "output_type": "display_data"
    },
    {
     "name": "stdout",
     "output_type": "stream",
     "text": [
      "############################################################\n",
      "### Fold: 4\n",
      "############################################################\n"
     ]
    },
    {
     "data": {
      "text/html": [
       "Changes to your `wandb` environment variables will be ignored because your `wandb` session has already started. For more information on how to modify your settings with `wandb.init()` arguments, please refer to <a href=\"https://wandb.me/wandb-init\" target=\"_blank\">the W&B docs</a>."
      ],
      "text/plain": [
       "<IPython.core.display.HTML object>"
      ]
     },
     "metadata": {},
     "output_type": "display_data"
    },
    {
     "data": {
      "text/html": [
       "Tracking run with wandb version 0.12.21"
      ],
      "text/plain": [
       "<IPython.core.display.HTML object>"
      ]
     },
     "metadata": {},
     "output_type": "display_data"
    },
    {
     "data": {
      "text/html": [
       "Run data is saved locally in <code>/media/syu/c983cccd-1cc7-4ce4-b206-7eb1a2cc5c94/topcoder/spacenet8/SpaceNet8/baseline/wandb/run-20220726_232453-2brjnwhf</code>"
      ],
      "text/plain": [
       "<IPython.core.display.HTML object>"
      ]
     },
     "metadata": {},
     "output_type": "display_data"
    },
    {
     "data": {
      "text/html": [
       "Syncing run <strong><a href=\"https://wandb.ai/syuchimu/SpaceNet8_flood/runs/2brjnwhf\" target=\"_blank\">3090_fold4</a></strong> to <a href=\"https://wandb.ai/syuchimu/SpaceNet8_flood\" target=\"_blank\">Weights & Biases</a> (<a href=\"https://wandb.me/run\" target=\"_blank\">docs</a>)<br/>"
      ],
      "text/plain": [
       "<IPython.core.display.HTML object>"
      ]
     },
     "metadata": {},
     "output_type": "display_data"
    },
    {
     "name": "stderr",
     "output_type": "stream",
     "text": [
      "Using 16bit native Automatic Mixed Precision (AMP)\n",
      "GPU available: True, used: True\n",
      "TPU available: False, using: 0 TPU cores\n",
      "IPU available: False, using: 0 IPUs\n",
      "HPU available: False, using: 0 HPUs\n",
      "`Trainer(val_check_interval=1.0)` was configured so validation will run at the end of the training epoch..\n",
      "LOCAL_RANK: 0 - CUDA_VISIBLE_DEVICES: [0]\n",
      "\n",
      "  | Name       | Type             | Params\n",
      "------------------------------------------------\n",
      "0 | backbone   | UnetPlusPlus     | 6.6 M \n",
      "1 | _criterion | MultiBCEDiceLoss | 0     \n",
      "------------------------------------------------\n",
      "6.6 M     Trainable params\n",
      "0         Non-trainable params\n",
      "6.6 M     Total params\n",
      "13.283    Total estimated model params size (MB)\n"
     ]
    },
    {
     "name": "stdout",
     "output_type": "stream",
     "text": [
      "### Start Trainig\n",
      "loaded 641 image filepaths\n",
      "loaded 160 image filepaths\n"
     ]
    },
    {
     "data": {
      "application/vnd.jupyter.widget-view+json": {
       "model_id": "e5dc5ae3ab454a669d9bfe76ffaea7c9",
       "version_major": 2,
       "version_minor": 0
      },
      "text/plain": [
       "Training: 0it [00:00, ?it/s]"
      ]
     },
     "metadata": {},
     "output_type": "display_data"
    },
    {
     "data": {
      "application/vnd.jupyter.widget-view+json": {
       "model_id": "aded85cf10fd4de0aba8924f1db6708a",
       "version_major": 2,
       "version_minor": 0
      },
      "text/plain": [
       "Validation: 0it [00:00, ?it/s]"
      ]
     },
     "metadata": {},
     "output_type": "display_data"
    },
    {
     "name": "stderr",
     "output_type": "stream",
     "text": [
      "wandb: Network error (ReadTimeout), entering retry loop.\n"
     ]
    },
    {
     "data": {
      "application/vnd.jupyter.widget-view+json": {
       "model_id": "b9bba583c97a4ab2910ba168baef021e",
       "version_major": 2,
       "version_minor": 0
      },
      "text/plain": [
       "Validation: 0it [00:00, ?it/s]"
      ]
     },
     "metadata": {},
     "output_type": "display_data"
    },
    {
     "data": {
      "application/vnd.jupyter.widget-view+json": {
       "model_id": "958992c715d84d9aab131d5fa3bae6b3",
       "version_major": 2,
       "version_minor": 0
      },
      "text/plain": [
       "Validation: 0it [00:00, ?it/s]"
      ]
     },
     "metadata": {},
     "output_type": "display_data"
    },
    {
     "data": {
      "application/vnd.jupyter.widget-view+json": {
       "model_id": "a6bc07e7ac504e72aa97e387a0e6ffe0",
       "version_major": 2,
       "version_minor": 0
      },
      "text/plain": [
       "Validation: 0it [00:00, ?it/s]"
      ]
     },
     "metadata": {},
     "output_type": "display_data"
    },
    {
     "data": {
      "application/vnd.jupyter.widget-view+json": {
       "model_id": "bdc0d401c6bf4a1db254871c2f1ff6e6",
       "version_major": 2,
       "version_minor": 0
      },
      "text/plain": [
       "Validation: 0it [00:00, ?it/s]"
      ]
     },
     "metadata": {},
     "output_type": "display_data"
    },
    {
     "data": {
      "application/vnd.jupyter.widget-view+json": {
       "model_id": "0b880df57a80482f8a3185f47b61443d",
       "version_major": 2,
       "version_minor": 0
      },
      "text/plain": [
       "Validation: 0it [00:00, ?it/s]"
      ]
     },
     "metadata": {},
     "output_type": "display_data"
    },
    {
     "data": {
      "application/vnd.jupyter.widget-view+json": {
       "model_id": "8e4a9dae4ae3464d9964225df6fef9f0",
       "version_major": 2,
       "version_minor": 0
      },
      "text/plain": [
       "Validation: 0it [00:00, ?it/s]"
      ]
     },
     "metadata": {},
     "output_type": "display_data"
    },
    {
     "data": {
      "application/vnd.jupyter.widget-view+json": {
       "model_id": "7dff2187309e4adb9fe70ed0e0cb2937",
       "version_major": 2,
       "version_minor": 0
      },
      "text/plain": [
       "Validation: 0it [00:00, ?it/s]"
      ]
     },
     "metadata": {},
     "output_type": "display_data"
    },
    {
     "data": {
      "application/vnd.jupyter.widget-view+json": {
       "model_id": "408b3bc541c744b29284d9d3086fb7bd",
       "version_major": 2,
       "version_minor": 0
      },
      "text/plain": [
       "Validation: 0it [00:00, ?it/s]"
      ]
     },
     "metadata": {},
     "output_type": "display_data"
    },
    {
     "data": {
      "application/vnd.jupyter.widget-view+json": {
       "model_id": "523d189671f946228e4329c8fcd820c0",
       "version_major": 2,
       "version_minor": 0
      },
      "text/plain": [
       "Validation: 0it [00:00, ?it/s]"
      ]
     },
     "metadata": {},
     "output_type": "display_data"
    },
    {
     "data": {
      "application/vnd.jupyter.widget-view+json": {
       "model_id": "1e8d73d052a24128b68ee22aad604375",
       "version_major": 2,
       "version_minor": 0
      },
      "text/plain": [
       "Validation: 0it [00:00, ?it/s]"
      ]
     },
     "metadata": {},
     "output_type": "display_data"
    },
    {
     "data": {
      "application/vnd.jupyter.widget-view+json": {
       "model_id": "b1ad24882a464a62b3fe0f6a760d12a0",
       "version_major": 2,
       "version_minor": 0
      },
      "text/plain": [
       "Validation: 0it [00:00, ?it/s]"
      ]
     },
     "metadata": {},
     "output_type": "display_data"
    },
    {
     "data": {
      "application/vnd.jupyter.widget-view+json": {
       "model_id": "b41e5733787542538fa24891e7446c04",
       "version_major": 2,
       "version_minor": 0
      },
      "text/plain": [
       "Validation: 0it [00:00, ?it/s]"
      ]
     },
     "metadata": {},
     "output_type": "display_data"
    },
    {
     "data": {
      "application/vnd.jupyter.widget-view+json": {
       "model_id": "f5d9ac25067242a79208b0124fe9c3aa",
       "version_major": 2,
       "version_minor": 0
      },
      "text/plain": [
       "Validation: 0it [00:00, ?it/s]"
      ]
     },
     "metadata": {},
     "output_type": "display_data"
    },
    {
     "data": {
      "application/vnd.jupyter.widget-view+json": {
       "model_id": "0568dc5b3bdd4168b60b471523d91452",
       "version_major": 2,
       "version_minor": 0
      },
      "text/plain": [
       "Validation: 0it [00:00, ?it/s]"
      ]
     },
     "metadata": {},
     "output_type": "display_data"
    },
    {
     "data": {
      "application/vnd.jupyter.widget-view+json": {
       "model_id": "86b21be022e4421c99181710ef0b9c53",
       "version_major": 2,
       "version_minor": 0
      },
      "text/plain": [
       "Validation: 0it [00:00, ?it/s]"
      ]
     },
     "metadata": {},
     "output_type": "display_data"
    },
    {
     "data": {
      "application/vnd.jupyter.widget-view+json": {
       "model_id": "81d7477615634929b9025e3bbfff35c6",
       "version_major": 2,
       "version_minor": 0
      },
      "text/plain": [
       "Validation: 0it [00:00, ?it/s]"
      ]
     },
     "metadata": {},
     "output_type": "display_data"
    },
    {
     "data": {
      "application/vnd.jupyter.widget-view+json": {
       "model_id": "a3605fe469d94a62b08a1eeadb46ceda",
       "version_major": 2,
       "version_minor": 0
      },
      "text/plain": [
       "Validation: 0it [00:00, ?it/s]"
      ]
     },
     "metadata": {},
     "output_type": "display_data"
    },
    {
     "data": {
      "application/vnd.jupyter.widget-view+json": {
       "model_id": "c1ea3be769d343d983e289bc018bae70",
       "version_major": 2,
       "version_minor": 0
      },
      "text/plain": [
       "Validation: 0it [00:00, ?it/s]"
      ]
     },
     "metadata": {},
     "output_type": "display_data"
    },
    {
     "data": {
      "application/vnd.jupyter.widget-view+json": {
       "model_id": "30165f4293634d7eb404b8979bf136ca",
       "version_major": 2,
       "version_minor": 0
      },
      "text/plain": [
       "Validation: 0it [00:00, ?it/s]"
      ]
     },
     "metadata": {},
     "output_type": "display_data"
    },
    {
     "data": {
      "application/vnd.jupyter.widget-view+json": {
       "model_id": "112211d5fb384abbb7e478ee5230c9bb",
       "version_major": 2,
       "version_minor": 0
      },
      "text/plain": [
       "Validation: 0it [00:00, ?it/s]"
      ]
     },
     "metadata": {},
     "output_type": "display_data"
    },
    {
     "data": {
      "application/vnd.jupyter.widget-view+json": {
       "model_id": "6dadf790732f4aff89b84b3d06826940",
       "version_major": 2,
       "version_minor": 0
      },
      "text/plain": [
       "Validation: 0it [00:00, ?it/s]"
      ]
     },
     "metadata": {},
     "output_type": "display_data"
    },
    {
     "data": {
      "application/vnd.jupyter.widget-view+json": {
       "model_id": "bef0cc2394ee4893a2830a7e09fcc8cb",
       "version_major": 2,
       "version_minor": 0
      },
      "text/plain": [
       "Validation: 0it [00:00, ?it/s]"
      ]
     },
     "metadata": {},
     "output_type": "display_data"
    },
    {
     "data": {
      "application/vnd.jupyter.widget-view+json": {
       "model_id": "137c6c2ba38247d898b74e75ba3c90dd",
       "version_major": 2,
       "version_minor": 0
      },
      "text/plain": [
       "Validation: 0it [00:00, ?it/s]"
      ]
     },
     "metadata": {},
     "output_type": "display_data"
    },
    {
     "data": {
      "application/vnd.jupyter.widget-view+json": {
       "model_id": "57c7df03a20e470283ae830811823395",
       "version_major": 2,
       "version_minor": 0
      },
      "text/plain": [
       "Validation: 0it [00:00, ?it/s]"
      ]
     },
     "metadata": {},
     "output_type": "display_data"
    },
    {
     "data": {
      "application/vnd.jupyter.widget-view+json": {
       "model_id": "acbf29bb0adf43e082d9bc6d2c350905",
       "version_major": 2,
       "version_minor": 0
      },
      "text/plain": [
       "Validation: 0it [00:00, ?it/s]"
      ]
     },
     "metadata": {},
     "output_type": "display_data"
    },
    {
     "data": {
      "application/vnd.jupyter.widget-view+json": {
       "model_id": "1be03fc3aa614304b54972a584b6f1d0",
       "version_major": 2,
       "version_minor": 0
      },
      "text/plain": [
       "Validation: 0it [00:00, ?it/s]"
      ]
     },
     "metadata": {},
     "output_type": "display_data"
    },
    {
     "data": {
      "application/vnd.jupyter.widget-view+json": {
       "model_id": "f68650253476441588c13ac689619158",
       "version_major": 2,
       "version_minor": 0
      },
      "text/plain": [
       "Validation: 0it [00:00, ?it/s]"
      ]
     },
     "metadata": {},
     "output_type": "display_data"
    },
    {
     "name": "stderr",
     "output_type": "stream",
     "text": [
      "wandb: Network error (ReadTimeout), entering retry loop.\n"
     ]
    },
    {
     "data": {
      "application/vnd.jupyter.widget-view+json": {
       "model_id": "de274199a8bd4baf93dd0fc635a2b379",
       "version_major": 2,
       "version_minor": 0
      },
      "text/plain": [
       "Validation: 0it [00:00, ?it/s]"
      ]
     },
     "metadata": {},
     "output_type": "display_data"
    },
    {
     "data": {
      "application/vnd.jupyter.widget-view+json": {
       "model_id": "c8bae4644aca4a43a9266c061c5f14b3",
       "version_major": 2,
       "version_minor": 0
      },
      "text/plain": [
       "Validation: 0it [00:00, ?it/s]"
      ]
     },
     "metadata": {},
     "output_type": "display_data"
    },
    {
     "data": {
      "application/vnd.jupyter.widget-view+json": {
       "model_id": "170452b7c1e047fea82603b7db5e9ba9",
       "version_major": 2,
       "version_minor": 0
      },
      "text/plain": [
       "Validation: 0it [00:00, ?it/s]"
      ]
     },
     "metadata": {},
     "output_type": "display_data"
    },
    {
     "data": {
      "application/vnd.jupyter.widget-view+json": {
       "model_id": "95eb1df17f294117a1dbe85fae4187aa",
       "version_major": 2,
       "version_minor": 0
      },
      "text/plain": [
       "Validation: 0it [00:00, ?it/s]"
      ]
     },
     "metadata": {},
     "output_type": "display_data"
    },
    {
     "data": {
      "application/vnd.jupyter.widget-view+json": {
       "model_id": "11c630e7c4114e1194fed867a2434dcd",
       "version_major": 2,
       "version_minor": 0
      },
      "text/plain": [
       "Validation: 0it [00:00, ?it/s]"
      ]
     },
     "metadata": {},
     "output_type": "display_data"
    },
    {
     "data": {
      "application/vnd.jupyter.widget-view+json": {
       "model_id": "c3640906ba1e4695ab40ba8e7091825e",
       "version_major": 2,
       "version_minor": 0
      },
      "text/plain": [
       "Validation: 0it [00:00, ?it/s]"
      ]
     },
     "metadata": {},
     "output_type": "display_data"
    },
    {
     "data": {
      "application/vnd.jupyter.widget-view+json": {
       "model_id": "28e375429b0b46a781388c10dde70e63",
       "version_major": 2,
       "version_minor": 0
      },
      "text/plain": [
       "Validation: 0it [00:00, ?it/s]"
      ]
     },
     "metadata": {},
     "output_type": "display_data"
    },
    {
     "data": {
      "application/vnd.jupyter.widget-view+json": {
       "model_id": "0c7926915a90486280c43d6a2a852a5e",
       "version_major": 2,
       "version_minor": 0
      },
      "text/plain": [
       "Validation: 0it [00:00, ?it/s]"
      ]
     },
     "metadata": {},
     "output_type": "display_data"
    },
    {
     "data": {
      "application/vnd.jupyter.widget-view+json": {
       "model_id": "f0c0c1fc2e94438681213bef355304d8",
       "version_major": 2,
       "version_minor": 0
      },
      "text/plain": [
       "Validation: 0it [00:00, ?it/s]"
      ]
     },
     "metadata": {},
     "output_type": "display_data"
    },
    {
     "data": {
      "application/vnd.jupyter.widget-view+json": {
       "model_id": "1eb493935d904bf88b2d4ae606b0bfa8",
       "version_major": 2,
       "version_minor": 0
      },
      "text/plain": [
       "Validation: 0it [00:00, ?it/s]"
      ]
     },
     "metadata": {},
     "output_type": "display_data"
    },
    {
     "data": {
      "application/vnd.jupyter.widget-view+json": {
       "model_id": "1ea57fbe5d754d8f80ad55423f118dac",
       "version_major": 2,
       "version_minor": 0
      },
      "text/plain": [
       "Validation: 0it [00:00, ?it/s]"
      ]
     },
     "metadata": {},
     "output_type": "display_data"
    },
    {
     "data": {
      "application/vnd.jupyter.widget-view+json": {
       "model_id": "5cc66d6f9b62486a8e726ac80e4fe4c3",
       "version_major": 2,
       "version_minor": 0
      },
      "text/plain": [
       "Validation: 0it [00:00, ?it/s]"
      ]
     },
     "metadata": {},
     "output_type": "display_data"
    },
    {
     "data": {
      "application/vnd.jupyter.widget-view+json": {
       "model_id": "c59409fc07854d898a1e7de70fb769bc",
       "version_major": 2,
       "version_minor": 0
      },
      "text/plain": [
       "Validation: 0it [00:00, ?it/s]"
      ]
     },
     "metadata": {},
     "output_type": "display_data"
    },
    {
     "data": {
      "application/vnd.jupyter.widget-view+json": {
       "model_id": "86ef342b2bb948daba94e77ff3fabbf7",
       "version_major": 2,
       "version_minor": 0
      },
      "text/plain": [
       "Validation: 0it [00:00, ?it/s]"
      ]
     },
     "metadata": {},
     "output_type": "display_data"
    },
    {
     "data": {
      "application/vnd.jupyter.widget-view+json": {
       "model_id": "fbe19b55be6a484ca90a99e7f63a395c",
       "version_major": 2,
       "version_minor": 0
      },
      "text/plain": [
       "Validation: 0it [00:00, ?it/s]"
      ]
     },
     "metadata": {},
     "output_type": "display_data"
    },
    {
     "data": {
      "application/vnd.jupyter.widget-view+json": {
       "model_id": "9fc1cb54f89c475c9797635e9a8a0ec2",
       "version_major": 2,
       "version_minor": 0
      },
      "text/plain": [
       "Validation: 0it [00:00, ?it/s]"
      ]
     },
     "metadata": {},
     "output_type": "display_data"
    },
    {
     "data": {
      "application/vnd.jupyter.widget-view+json": {
       "model_id": "29088b5aae8c4215aa624ca81c9ec2aa",
       "version_major": 2,
       "version_minor": 0
      },
      "text/plain": [
       "Validation: 0it [00:00, ?it/s]"
      ]
     },
     "metadata": {},
     "output_type": "display_data"
    },
    {
     "data": {
      "application/vnd.jupyter.widget-view+json": {
       "model_id": "2fd731c148034f3abd6e13157ab23ada",
       "version_major": 2,
       "version_minor": 0
      },
      "text/plain": [
       "Validation: 0it [00:00, ?it/s]"
      ]
     },
     "metadata": {},
     "output_type": "display_data"
    },
    {
     "data": {
      "application/vnd.jupyter.widget-view+json": {
       "model_id": "dc56b47c215d409d924aebc9ed9bb003",
       "version_major": 2,
       "version_minor": 0
      },
      "text/plain": [
       "Validation: 0it [00:00, ?it/s]"
      ]
     },
     "metadata": {},
     "output_type": "display_data"
    },
    {
     "data": {
      "application/vnd.jupyter.widget-view+json": {
       "model_id": "9e39c14521ce4696ad3d181a2f798b03",
       "version_major": 2,
       "version_minor": 0
      },
      "text/plain": [
       "Validation: 0it [00:00, ?it/s]"
      ]
     },
     "metadata": {},
     "output_type": "display_data"
    },
    {
     "data": {
      "application/vnd.jupyter.widget-view+json": {
       "model_id": "a3477edce36945f3a5b3b17d62c0dc60",
       "version_major": 2,
       "version_minor": 0
      },
      "text/plain": [
       "Validation: 0it [00:00, ?it/s]"
      ]
     },
     "metadata": {},
     "output_type": "display_data"
    },
    {
     "data": {
      "application/vnd.jupyter.widget-view+json": {
       "model_id": "1769c42982554d1a9f33956394729a73",
       "version_major": 2,
       "version_minor": 0
      },
      "text/plain": [
       "Validation: 0it [00:00, ?it/s]"
      ]
     },
     "metadata": {},
     "output_type": "display_data"
    },
    {
     "data": {
      "text/html": [
       "Waiting for W&B process to finish... <strong style=\"color:green\">(success).</strong>"
      ],
      "text/plain": [
       "<IPython.core.display.HTML object>"
      ]
     },
     "metadata": {},
     "output_type": "display_data"
    },
    {
     "data": {
      "application/vnd.jupyter.widget-view+json": {
       "model_id": "40f7a849e94849bf80bf7b7d11572e4a",
       "version_major": 2,
       "version_minor": 0
      },
      "text/plain": [
       "VBox(children=(Label(value='1.330 MB of 1.330 MB uploaded (0.000 MB deduped)\\r'), FloatProgress(value=1.0, max…"
      ]
     },
     "metadata": {},
     "output_type": "display_data"
    },
    {
     "data": {
      "text/html": [
       "<style>\n",
       "    table.wandb td:nth-child(1) { padding: 0 10px; text-align: left ; width: auto;} td:nth-child(2) {text-align: left ; width: 100%}\n",
       "    .wandb-row { display: flex; flex-direction: row; flex-wrap: wrap; justify-content: flex-start; width: 100% }\n",
       "    .wandb-col { display: flex; flex-direction: column; flex-basis: 100%; flex: 1; padding: 10px; }\n",
       "    </style>\n",
       "<div class=\"wandb-row\"><div class=\"wandb-col\"><h3>Run history:</h3><br/><table class=\"wandb\"><tr><td>epoch</td><td>▁▁▁▁▂▂▂▂▂▃▃▃▃▃▃▄▄▄▄▄▅▅▅▅▅▅▆▆▆▆▆▇▇▇▇▇▇███</td></tr><tr><td>lr-AdamW</td><td>██▇▆▄▃▂▁██▇▆▄▃▂▁██▇▆▄▃▂▁██▇▆▄▃▂▁██▇▆▄▃▂▁</td></tr><tr><td>train/epoch_F1_0</td><td>▁▆▇▇▇▇██▇▇▇▇▇▇▇█▇▇██████▇▇▇█████████████</td></tr><tr><td>train/epoch_F1_1</td><td>█▁▁▁▁▁▁▁▂▁▂▂▂▂▂▂▂▂▂▂▁▂▂▂▂▂▂▂▂▂▂▂▁▂▂▂▂▂▂▂</td></tr><tr><td>train/epoch_F1_2</td><td>▁▁▁▁▁▁▁▁▁▁▁▁▁▁▁▁▁▁▁▁▁▁▁▁▁▁▁▁▁▁▁▁▁▁▁▁▁▁▁▁</td></tr><tr><td>train/epoch_F1_3</td><td>▁▁▁▁▁▁▁▁▂▃▅▆▆▆▆▆▅▆▆▆█▇▇▇▆▆▆▇▇▆██▆▆▇▇█▇██</td></tr><tr><td>train/epoch_FN_0</td><td>█▃▂▂▁▂▁▁▁▂▁▁▁▁▁▁▂▂▁▁▁▁▁▁▁▁▁▁▁▁▁▁▁▁▁▁▁▁▁▁</td></tr><tr><td>train/epoch_FN_1</td><td>▁▇▇▇▇██▇██▆██▇▇███▇▇▆█▆▇█▇██▇███▇█▇██▇▇█</td></tr><tr><td>train/epoch_FN_2</td><td>▁▁▁▁▁▁▁▁▁▁▁▁▁▁▁▁▁▁▁▁▁▁▁▁▁▁▁▁▁▁▁▁▁▁▁▁▁▁▁▁</td></tr><tr><td>train/epoch_FN_3</td><td>▆██▇████▇▆▄▄▄▃▃▂▄▃▄▃▂▂▂▂▃▃▃▂▂▂▁▂▄▃▃▂▂▁▁▁</td></tr><tr><td>train/epoch_FP_0</td><td>█▇▅▃▃▃▂▃▄▄▃▂▂▂▂▂▃▂▂▂▂▁▁▁▂▂▂▂▁▁▁▁▂▂▂▂▁▁▁▁</td></tr><tr><td>train/epoch_FP_1</td><td>█▁▁▁▁▁▂▂▂▁▂▂▃▃▃▃▃▃▃▃▃▃▃▃▃▃▃▃▃▃▃▃▃▃▃▃▃▃▃▃</td></tr><tr><td>train/epoch_FP_2</td><td>█▁▂▂▃▂▃▃▃▂▃▃▃▃▃▃▃▃▃▃▃▃▃▃▃▃▃▃▃▃▃▃▃▃▃▃▃▃▃▃</td></tr><tr><td>train/epoch_FP_3</td><td>█▁▁▁▁▁▁▁▁▁▁▂▂▂▂▂▁▂▂▂▂▂▂▂▂▂▂▂▂▂▂▂▂▂▂▂▂▂▂▂</td></tr><tr><td>train/epoch_IoU_0</td><td>▁▆▇▇▇▇▇▇▇▇▇▇▇▇▇▇▇▇▇▇█▇█▇▇▇▇▇████▇▇██████</td></tr><tr><td>train/epoch_IoU_1</td><td>█▁▁▁▁▁▁▁▂▁▂▂▂▁▂▂▂▂▂▂▁▂▂▂▂▂▂▂▂▂▂▂▁▂▂▂▂▂▂▂</td></tr><tr><td>train/epoch_IoU_2</td><td>▁▁▁▁▁▁▁▁▁▁▁▁▁▁▁▁▁▁▁▁▁▁▁▁▁▁▁▁▁▁▁▁▁▁▁▁▁▁▁▁</td></tr><tr><td>train/epoch_IoU_3</td><td>▁▁▁▁▁▁▁▁▂▃▅▅▆▆▆▆▅▆▆▆▇▇▇▇▅▆▆▆▇▆▇▇▆▆▆▇█▇█▇</td></tr><tr><td>train/epoch_Precision_0</td><td>▁▆▇▇▇███▇▇██████▇▇██████▇▇▇█████████████</td></tr><tr><td>train/epoch_Precision_1</td><td>▇▁▁▁▅▆▃▇▆█▂▂▂▂▂▂▂▂▁▃▂▂▂▂▆▃▂▃▆▂▂▃▂▃▂▂▂▂▄▂</td></tr><tr><td>train/epoch_Precision_2</td><td>▁▁▁▁▁▁▁▁▁▁▁▁▁▁▁▁▁▁▁▁▁▁▁▁▁▁▁▁▁▁▁▁▁▁▁▁▁▁▁▁</td></tr><tr><td>train/epoch_Precision_3</td><td>▁▁▁▁▁▁▂▃▅▆▇▇▇▇▇▇▇▇▆▇█▇▇▆▇▇▇▇█▇█▇▆█▇▇▇▇▇▇</td></tr><tr><td>train/epoch_Recall_0</td><td>▁▇█▇█▇████▇▇▇▇▇█▇▇███████▇██████████████</td></tr><tr><td>train/epoch_Recall_1</td><td>█▁▁▁▁▁▁▁▁▁▁▁▁▁▁▁▁▁▁▁▁▁▁▁▁▁▁▁▁▁▁▁▁▁▁▁▁▁▁▁</td></tr><tr><td>train/epoch_Recall_2</td><td>▁▁▁▁▁▁▁▁▁▁▁▁▁▁▁▁▁▁▁▁▁▁▁▁▁▁▁▁▁▁▁▁▁▁▁▁▁▁▁▁</td></tr><tr><td>train/epoch_Recall_3</td><td>▂▁▁▁▁▁▁▁▂▃▅▅▆▆▅▆▅▆▆▆▇▇█▇▆▆▆▇▇▆██▅▆▆▆█▇█▇</td></tr><tr><td>train/epoch_TN_0</td><td>▁▂▄▆▆▆▇▆▅▅▆▇▇█▇▇▆▇▇▇████▇▇▇▇████▇▇▇▇████</td></tr><tr><td>train/epoch_TN_1</td><td>▁█████▇▇▇█▇▇▆▆▆▆▆▆▆▆▆▆▆▆▆▆▆▆▆▆▆▆▆▆▆▆▆▆▆▆</td></tr><tr><td>train/epoch_TN_2</td><td>▁█▇▇▆▇▆▆▆▇▆▆▆▆▆▆▆▆▆▆▆▆▆▆▆▆▆▆▆▆▆▆▆▆▆▆▆▆▆▆</td></tr><tr><td>train/epoch_TN_3</td><td>▁██████████▇▇▇▇▇▇▇▇▇▇▇▇▇▇▇▇▇▇▇▇▇▇▇▇▇▇▇▇▇</td></tr><tr><td>train/epoch_TP_0</td><td>▁▆▇▇█▇███▇██████▇▇██████████████████████</td></tr><tr><td>train/epoch_TP_1</td><td>█▁▁▁▁▁▁▁▁▁▁▁▁▁▁▁▁▁▁▁▁▁▁▁▁▁▁▁▁▁▁▁▁▁▁▁▁▁▁▁</td></tr><tr><td>train/epoch_TP_2</td><td>▁▁▁▁▁▁▁▁▁▁▁▁▁▁▁▁▁▁▁▁▁▁▁▁▁▁▁▁▁▁▁▁▁▁▁▁▁▁▁▁</td></tr><tr><td>train/epoch_TP_3</td><td>▂▁▁▁▁▁▁▁▂▃▅▅▅▅▆▆▅▆▅▆▇▇▇▇▆▅▆▆▇▇█▇▅▆▆▇▇▇██</td></tr><tr><td>train/epoch_loss</td><td>█▃▃▃▃▂▂▂▂▂▃▃▂▃▄▂▂▂▂▂▂▂▂▂▃▁▂▁▂▁▂▂▃▃▂▁▂▁▂▂</td></tr><tr><td>train/iter_F1_0</td><td>▅▇▆▁█▅▇▇▆▇▄▆▃█▇█▆▁▇█▇▃▇▅▇▆▇█▇▇▇▁▇▇▆█▇▇▁█</td></tr><tr><td>train/iter_F1_1</td><td>▁▁▁▁▁▁▁▁▁▁▂█▁▁▁▁▁▁▁▁▁▁▁▁▁▁▁▁▂▁▁▁▁▁▁▁▁▁▁▁</td></tr><tr><td>train/iter_F1_2</td><td>▁▁▁▁▁▁▁▁▁▁▁▁▁▁▁▁▁▁▁▁▁▁▁▁▁▁▁▁▁▁▁▁▁▁▁▁▁▁▁▁</td></tr><tr><td>train/iter_F1_3</td><td>▁▁▁▁▁▁▁▁▁▁▇▁▁▁█▂▁▄▁▁▁▄▅▂▁▁▁▁▅▁▂▁▁▁▁▁▂▂▂▁</td></tr><tr><td>train/iter_FN_0</td><td>▁▃▁▁▂▁▂▁▁▂▃▃▁▂▁▁▂▁█▃▂▁▁▂▂▆▁▁▅▁▂▁▄▂▁▁▃▂▄▂</td></tr><tr><td>train/iter_FN_1</td><td>▂▄▄▂▅▂▆▃▁▃▂▃▃▄▁▄▃▃▇▃▃▂▂▃▄▄▂▃█▁▂▁▆▃▂▃▆▅▃▄</td></tr><tr><td>train/iter_FN_2</td><td>▁▁▁▁▁▁▁▁▁▁▁▁▁▁▁▁▁▁▁▁▁▁▁▁▁▁▁▁▁▁▁▁▁▁▁▁▁▁▁▁</td></tr><tr><td>train/iter_FN_3</td><td>▅▃▄▃▅▂▅▃▂▂▃▂▃▆▂█▃▅▄▂▃▄▃▃▂▂▄▄▁▁▂▃▃▂▂▂▆▅▁▃</td></tr><tr><td>train/iter_FP_0</td><td>▂▃▂▁▃▁▅▂▁▃▃▁▃▂▁▃▁▁▄▂▂▁▁▃█▂▁▁█▁▂▁▄▃▁▂▅▅▁▅</td></tr><tr><td>train/iter_FP_1</td><td>▁▁▁▁▁▁▁▁▁▁▄▅▁▁▁▁▂▁▆▁▁▁▁▃▁█▁▁▅▁▁▁▁▁▁▁▂▁▇▁</td></tr><tr><td>train/iter_FP_2</td><td>▁▄▃▃▇▃▅▄▃▅▂▄▅▇▂▆▃▃▇▅▄▃▃▄▆▃▃▄█▂▃▂▆▄▃▄▇▇▂▅</td></tr><tr><td>train/iter_FP_3</td><td>▁▁▁▁▁▁▁▁▁▁▆▄▁▁▂▁▁▁█▁▁▁▂▃▁█▁▁▇▁▁▁▁▂▁▁▃▁▇▁</td></tr><tr><td>train/iter_IoU_0</td><td>▄▆▅▁█▄▆▇▅▇▃▅▂█▇█▅▁▆█▆▂▆▄▇▅▇█▇▇▇▁▆▆▅█▇▇▁▇</td></tr><tr><td>train/iter_IoU_1</td><td>▁▁▁▁▁▁▁▁▁▁▂█▁▁▁▁▁▁▁▁▁▁▁▁▁▁▁▁▂▁▁▁▁▁▁▁▁▁▁▁</td></tr><tr><td>train/iter_IoU_2</td><td>▁▁▁▁▁▁▁▁▁▁▁▁▁▁▁▁▁▁▁▁▁▁▁▁▁▁▁▁▁▁▁▁▁▁▁▁▁▁▁▁</td></tr><tr><td>train/iter_IoU_3</td><td>▁▁▁▁▁▁▁▁▁▁▇▁▁▁█▁▁▃▁▁▁▃▄▁▁▁▁▁▅▁▁▁▁▁▁▁▂▁▂▁</td></tr><tr><td>train/iter_Precision_0</td><td>▄▇▆▁▇█▆▇▅▇▅█▂█▇▇█▁██▇▂▇▅▆█▆█▇▇▇▁▇▆▅█▇▇▇▇</td></tr><tr><td>train/iter_Precision_1</td><td>▁▁▁▁▁▃▁▁▁▁▂█▁▁▁▁▁▁▁▁▁▁▁▁▁▁▁▁▂▁▁▁▁▁▁▁▁▁▁▁</td></tr><tr><td>train/iter_Precision_2</td><td>▁▁▁▁▁▁▁▁▁▁▁▁▁▁▁▁▁▁▁▁▁▁▁▁▁▁▁▁▁▁▁▁▁▁▁▁▁▁▁▁</td></tr><tr><td>train/iter_Precision_3</td><td>▁▁▁▁▁▁▁▇▁▁▅▁▁▁▆▆▁▇▁▄▁▆▆▂▁▁▁▁▃▁▂▁▂▁▁▇▃█▁▁</td></tr><tr><td>train/iter_Recall_0</td><td>▆▆▅▁█▃▆▇▆▇▃▅▆▇▇█▅▁▅▇▆▆▆▅█▄█▇▇▇▇▁▆▆▆█▇▇▁█</td></tr><tr><td>train/iter_Recall_1</td><td>▁▁▁▁▁▁▁▁▁▁▂█▁▁▁▁▁▁▁▁▁▁▁▁▁▁▁▁▁▁▁▁▁▁▁▁▁▁▁▁</td></tr><tr><td>train/iter_Recall_2</td><td>▁▁▁▁▁▁▁▁▁▁▁▁▁▁▁▁▁▁▁▁▁▁▁▁▁▁▁▁▁▁▁▁▁▁▁▁▁▁▁▁</td></tr><tr><td>train/iter_Recall_3</td><td>▁▁▁▁▁▁▁▁▁▁▇▁▁▁▇▁▁▃▁▁▁▃▃▁▁▁▁▁█▁▁▁▁▁▁▁▂▁█▁</td></tr><tr><td>train/iter_TN_0</td><td>█▆██▆█▆██▇▇▆█▆█▆██▂▅▇██▇▄▅██▁█▇█▅▇█▇▄▅▇▄</td></tr><tr><td>train/iter_TN_1</td><td>▇▆▆█▅▇▄▇█▆▆▅▆▅█▆▆▇▂▆▆▇▇▆▅▃▇▆▁█▇█▄▆█▇▃▅▅▆</td></tr><tr><td>train/iter_TN_2</td><td>█▅▆▆▂▆▄▅▆▄▇▅▄▂▇▃▆▆▂▄▅▆▆▅▃▆▆▅▁▇▆▇▃▅▆▅▂▂▇▄</td></tr><tr><td>train/iter_TN_3</td><td>▅▆▆▆▄▇▄▆█▇▂▆▆▄▇▁▆▄▃▇▆▅▅▅▇▅▅▆▄██▇▆▇█▇▂▅▆▇</td></tr><tr><td>train/iter_TP_0</td><td>▁▃▁▁▄▁▃▂▁▂▁▂▁▃▁▃▁▁▆▅▂▁▁▂▅▃▁▁█▁▂▁▄▂▁▃▅▄▁▅</td></tr><tr><td>train/iter_TP_1</td><td>▁▁▁▁▁▁▁▁▁▁▁█▁▁▁▁▁▁▁▁▁▁▁▁▁▁▁▁▂▁▁▁▁▁▁▁▁▁▁▁</td></tr><tr><td>train/iter_TP_2</td><td>▁▁▁▁▁▁▁▁▁▁▁▁▁▁▁▁▁▁▁▁▁▁▁▁▁▁▁▁▁▁▁▁▁▁▁▁▁▁▁▁</td></tr><tr><td>train/iter_TP_3</td><td>▁▁▁▁▁▁▁▁▁▁█▁▁▁▄▂▁▃▁▁▁▃▃▁▁▁▁▁▄▁▁▁▁▁▁▁▂▁▂▁</td></tr><tr><td>train/iter_loss</td><td>▃▆█▃▅██▆█▃█▃▃▃██▆▃█▃█▆▆█▃█▃▆█▃█▁█▃▃▃█▅█▃</td></tr><tr><td>train/mean_F1</td><td>▁▅▆▆▆▇▇▇▇▇▇▇▇▇▇▇▇▇▇▇████▇▇▇▇████▇▇██████</td></tr><tr><td>train/mean_IoU</td><td>▁▅▆▆▆▆▇▇▆▆▇▇▇▇▇▇▇▇▇▇█▇██▇▇▇▇████▇▇██████</td></tr><tr><td>trainer/global_step</td><td>▁▁▁▁▂▂▂▂▂▃▃▃▃▃▃▄▄▄▄▄▄▅▅▅▅▅▆▆▆▆▆▆▇▇▇▇▇███</td></tr><tr><td>val/epoch_F1_0</td><td>▅▁▆▇▇▇▆▇▃▆▇▇▇▆▇▇▅▆▇█▇▅▇▇██▆██▇▇█▆█▄▇▇▇██</td></tr><tr><td>val/epoch_F1_1</td><td>▁▁▁▁▁▂▂▃▂▁▂▁▆▇▄▃▄▄▄▁▅▅▅▆▄▂▅▂▂▇▆▅▇▁█▅▅▅▆▅</td></tr><tr><td>val/epoch_F1_2</td><td>▁▁▁▁▁▁▁▁▁▁▁▁▁▁▁▁▁▁▁▁▁▁▁▁▁▁▁▁▁▁▁▁▁▁▁▁▁▁▁▁</td></tr><tr><td>val/epoch_F1_3</td><td>▁▁▁▁▁▁▁▁▅▅▂▃▄▅▄▄▆▅▄▃▅▆▅▅▆▃▆▃▃▅▆▅▅▃█▅▆▆▆▆</td></tr><tr><td>val/epoch_FN_0</td><td>▂█▄▄▃▃▄▃▇▃▃▃▃▄▃▃▄▄▂▃▂▅▃▃▁▂▃▂▂▃▃▂▂▁▄▂▃▃▃▂</td></tr><tr><td>val/epoch_FN_1</td><td>█████▇▇▆▇█▇█▄▂▆▇▅▅▆█▅▄▅▄▆▇▄▇▇▂▃▄▃█▁▄▅▄▄▅</td></tr><tr><td>val/epoch_FN_2</td><td>▁▁▁▁▁▁▁▁▁▁▁▁▁▁▁▁▁▁▁▁▁▁▁▁▁▁▁▁▁▁▁▁▁▁▁▁▁▁▁▁</td></tr><tr><td>val/epoch_FN_3</td><td>████████▃▅▇▆▆▄▅▅▄▄▆▇▅▄▄▅▄▆▂▆▆▄▃▄▅▆▁▅▃▄▃▄</td></tr><tr><td>val/epoch_FP_0</td><td>█▁▂▃▂▂▂▂▁▃▂▃▃▃▂▂▂▂▃▂▃▂▂▂▄▃▃▂▃▂▃▂▄▅▂▃▂▂▂▃</td></tr><tr><td>val/epoch_FP_1</td><td>▁▁▁▁▁▂▄▃▂▁▂▂▅▆▄▃▅▅▃▂▄▆▄▅▃▂▆▃▃▄▅▄▆▂█▅▅▄▄▄</td></tr><tr><td>val/epoch_FP_2</td><td>▃▃▂▃▂▃▅▄▃▅▄█▅▂▄▄▂▅█▂▃▄▅▄▅▇▅▆▅▄▄▄▁▇▂▃▄▄▄▄</td></tr><tr><td>val/epoch_FP_3</td><td>▁▁▁▁▁▁▁▁▇▅▁▂▄▇▅▅█▇▄▂▅▆▆▅▇▂▇▃▃▆▆▄▆▂█▃▇▆▅▅</td></tr><tr><td>val/epoch_IoU_0</td><td>▅▁▆▆▆▆▆▇▃▆▆▇▇▆▇▇▅▆▇▇▇▅▇▇▇█▆██▇▇█▆█▅▇▇▇██</td></tr><tr><td>val/epoch_IoU_1</td><td>▁▁▁▁▁▂▂▃▂▁▂▁▆▇▄▃▄▄▄▁▅▅▅▆▄▂▅▂▂▇▆▅▇▁█▅▅▅▆▅</td></tr><tr><td>val/epoch_IoU_2</td><td>▁▁▁▁▁▁▁▁▁▁▁▁▁▁▁▁▁▁▁▁▁▁▁▁▁▁▁▁▁▁▁▁▁▁▁▁▁▁▁▁</td></tr><tr><td>val/epoch_IoU_3</td><td>▁▁▁▁▁▁▁▁▅▆▂▃▄▅▄▄▆▅▄▃▅▅▅▅▆▃▆▃▄▅▆▅▅▃█▅▆▆▆▆</td></tr><tr><td>val/epoch_Precision_0</td><td>▁▇▆▅▆▆▆▆█▅▆▅▅▆▆▆▆▆▆▇▅▇▆▆▄▅▆▆▆▆▆▆▄▄▆▅▆▆▆▆</td></tr><tr><td>val/epoch_Precision_1</td><td>▁▁▁▁▁▅▁▁▂▁▁▁▅▅▅▆▁█▅▁▅▅▅▅▅▁▁▅▅▆▅▅▁▁▅▁▅▅▄▅</td></tr><tr><td>val/epoch_Precision_2</td><td>▁▁▁▁▁▁▁▁▁▁▁▁▁▁▁▁▁▁▁▁▁▁▁▁▁▁▁▁▁▁▁▁▁▁▁▁▁▁▁▁</td></tr><tr><td>val/epoch_Precision_3</td><td>▁▁▁▁▁▁▂▅█▆▃▄▅▅▄▄▆▄▄▄▇▆▅▅█▅▆▄▅▅▅▅▄▄█▆▆▆▆▅</td></tr><tr><td>val/epoch_Recall_0</td><td>▇▁▅▆▅▆▅▆▂▆▅▆▆▅▆▆▅▅▇▆▆▄▆▆█▇▅▇▇▆▆▇▇█▄▇▆▆▆▇</td></tr><tr><td>val/epoch_Recall_1</td><td>▁▁▁▁▁▂▃▃▁▁▁▁▅█▃▂▄▄▃▁▄▆▅▅▃▂▅▂▂▇▇▅▇▁█▅▄▆▅▅</td></tr><tr><td>val/epoch_Recall_2</td><td>▁▁▁▁▁▁▁▁▁▁▁▁▁▁▁▁▁▁▁▁▁▁▁▁▁▁▁▁▁▁▁▁▁▁▁▁▁▁▁▁</td></tr><tr><td>val/epoch_Recall_3</td><td>▁▁▁▁▁▁▁▁▅▅▂▃▃▅▄▄▆▅▄▂▅▅▅▅▆▃▇▃▃▅▆▅▅▃█▄▆▅▅▅</td></tr><tr><td>val/epoch_TN_0</td><td>▁█▇▆▇▇▇▇█▆▇▆▆▆▇▇▇▇▆▇▆▇▇▇▅▆▆▇▆▇▆▇▅▄▇▆▇▇▇▆</td></tr><tr><td>val/epoch_TN_1</td><td>█████▇▅▆▇█▇▇▄▃▅▆▄▄▆▇▅▃▅▄▆▇▃▆▆▅▄▅▃▇▁▄▄▅▅▅</td></tr><tr><td>val/epoch_TN_2</td><td>▆▆▇▆▇▆▄▅▆▄▅▁▄▇▅▅▇▄▁▇▆▅▄▅▄▂▄▃▄▅▅▅█▂▇▆▅▅▅▅</td></tr><tr><td>val/epoch_TN_3</td><td>████████▂▄█▇▅▂▄▄▁▂▅▇▄▃▃▄▂▇▂▆▆▃▃▅▃▇▁▆▂▃▄▄</td></tr><tr><td>val/epoch_TP_0</td><td>▇▁▅▅▆▆▅▆▂▆▆▆▆▅▆▆▅▅▇▆▇▄▆▆█▇▆▇▇▆▆▇▇█▅▇▆▆▆▇</td></tr><tr><td>val/epoch_TP_1</td><td>▁▁▁▁▁▂▂▃▂▁▂▁▅▇▃▂▄▄▃▁▄▅▄▅▃▂▅▂▂▇▆▅▆▁█▅▄▅▅▄</td></tr><tr><td>val/epoch_TP_2</td><td>▁▁▁▁▁▁▁▁▁▁▁▁▁▁▁▁▁▁▁▁▁▁▁▁▁▁▁▁▁▁▁▁▁▁▁▁▁▁▁▁</td></tr><tr><td>val/epoch_TP_3</td><td>▁▁▁▁▁▁▁▁▆▄▂▃▃▅▄▄▅▅▃▂▄▅▅▄▅▃▇▃▃▅▆▅▄▃█▄▆▅▆▅</td></tr><tr><td>val/epoch_loss</td><td>█▆▄▃▂▂▂▁▃▂▂▂▁▂▁▁▂▂▁▂▂▂▁▁▂▂▂▂▂▁▁▁▂▃▃▁▂▂▁▁</td></tr><tr><td>val/iter_F1_0</td><td>▅▁▆▇▇▇▆▇▃▆▇▇▇▆▇▇▅▆▇█▇▅▇▇██▆██▇▇█▆█▄▇▇▇██</td></tr><tr><td>val/iter_F1_1</td><td>▁▁▁▁▁▂▂▃▂▁▂▁▆▇▄▃▄▄▄▁▅▅▅▆▄▂▅▂▂▇▆▅▇▁█▅▅▅▆▅</td></tr><tr><td>val/iter_F1_2</td><td>▁▁▁▁▁▁▁▁▁▁▁▁▁▁▁▁▁▁▁▁▁▁▁▁▁▁▁▁▁▁▁▁▁▁▁▁▁▁▁▁</td></tr><tr><td>val/iter_F1_3</td><td>▁▁▁▁▁▁▁▁▅▅▂▃▄▅▄▄▆▅▄▃▅▆▅▅▆▃▆▃▃▅▆▅▅▃█▅▆▆▆▆</td></tr><tr><td>val/iter_FN_0</td><td>▂█▄▄▃▃▄▃▇▃▃▃▃▄▃▃▄▄▂▃▂▅▃▃▁▂▃▂▂▃▃▂▂▁▄▂▃▃▃▂</td></tr><tr><td>val/iter_FN_1</td><td>█████▇▇▆▇█▇█▄▂▆▇▅▅▆█▅▄▅▄▆▇▄▇▇▂▃▄▃█▁▄▅▄▄▅</td></tr><tr><td>val/iter_FN_2</td><td>▁▁▁▁▁▁▁▁▁▁▁▁▁▁▁▁▁▁▁▁▁▁▁▁▁▁▁▁▁▁▁▁▁▁▁▁▁▁▁▁</td></tr><tr><td>val/iter_FN_3</td><td>████████▃▅▇▆▆▄▅▅▄▄▆▇▅▄▄▅▄▆▂▆▆▄▃▄▅▆▁▅▃▄▃▄</td></tr><tr><td>val/iter_FP_0</td><td>█▁▂▃▂▂▂▂▁▃▂▃▃▃▂▂▂▂▃▂▃▂▂▂▄▃▃▂▃▂▃▂▄▅▂▃▂▂▂▃</td></tr><tr><td>val/iter_FP_1</td><td>▁▁▁▁▁▂▄▃▂▁▂▂▅▆▄▃▅▅▃▂▄▆▄▅▃▂▆▃▃▄▅▄▆▂█▅▅▄▄▄</td></tr><tr><td>val/iter_FP_2</td><td>▃▃▂▃▂▃▅▄▃▅▄█▅▂▄▄▂▅█▂▃▄▅▄▅▇▅▆▅▄▄▄▁▇▂▃▄▄▄▄</td></tr><tr><td>val/iter_FP_3</td><td>▁▁▁▁▁▁▁▁▇▅▁▂▄▇▅▅█▇▄▂▅▆▆▅▇▂▇▃▃▆▆▄▆▂█▃▇▆▅▅</td></tr><tr><td>val/iter_IoU_0</td><td>▅▁▆▆▆▆▆▇▃▆▆▇▇▆▇▇▅▆▇▇▇▅▇▇▇█▆██▇▇█▆█▅▇▇▇██</td></tr><tr><td>val/iter_IoU_1</td><td>▁▁▁▁▁▂▂▃▂▁▂▁▆▇▄▃▄▄▄▁▅▅▅▆▄▂▅▂▂▇▆▅▇▁█▅▅▅▆▅</td></tr><tr><td>val/iter_IoU_2</td><td>▁▁▁▁▁▁▁▁▁▁▁▁▁▁▁▁▁▁▁▁▁▁▁▁▁▁▁▁▁▁▁▁▁▁▁▁▁▁▁▁</td></tr><tr><td>val/iter_IoU_3</td><td>▁▁▁▁▁▁▁▁▅▆▂▃▄▅▄▄▆▅▄▃▅▅▅▅▆▃▆▃▄▅▆▅▅▃█▅▆▆▆▆</td></tr><tr><td>val/iter_Precision_0</td><td>▁▇▆▅▆▆▆▆█▅▆▅▅▆▆▆▆▆▆▇▅▇▆▆▄▅▆▆▆▆▆▆▄▄▆▅▆▆▆▆</td></tr><tr><td>val/iter_Precision_1</td><td>▁▁▁▁▁▅▁▁▂▁▁▁▅▅▅▆▁█▅▁▅▅▅▅▅▁▁▅▅▆▅▅▁▁▅▁▅▅▄▅</td></tr><tr><td>val/iter_Precision_2</td><td>▁▁▁▁▁▁▁▁▁▁▁▁▁▁▁▁▁▁▁▁▁▁▁▁▁▁▁▁▁▁▁▁▁▁▁▁▁▁▁▁</td></tr><tr><td>val/iter_Precision_3</td><td>▁▁▁▁▁▁▂▅█▆▃▄▅▅▄▄▆▄▄▄▇▆▅▅█▅▆▄▅▅▅▅▄▄█▆▆▆▆▅</td></tr><tr><td>val/iter_Recall_0</td><td>▇▁▅▆▅▆▅▆▂▆▅▆▆▅▆▆▅▅▇▆▆▄▆▆█▇▅▇▇▆▆▇▇█▄▇▆▆▆▇</td></tr><tr><td>val/iter_Recall_1</td><td>▁▁▁▁▁▂▃▃▁▁▁▁▅█▃▂▄▄▃▁▄▆▅▅▃▂▅▂▂▇▇▅▇▁█▅▄▆▅▅</td></tr><tr><td>val/iter_Recall_2</td><td>▁▁▁▁▁▁▁▁▁▁▁▁▁▁▁▁▁▁▁▁▁▁▁▁▁▁▁▁▁▁▁▁▁▁▁▁▁▁▁▁</td></tr><tr><td>val/iter_Recall_3</td><td>▁▁▁▁▁▁▁▁▅▅▂▃▃▅▄▄▆▅▄▂▅▅▅▅▆▃▇▃▃▅▆▅▅▃█▄▆▅▅▅</td></tr><tr><td>val/iter_TN_0</td><td>▁█▇▆▇▇▇▇█▆▇▆▆▆▇▇▇▇▆▇▆▇▇▇▅▆▆▇▆▇▆▇▅▄▇▆▇▇▇▆</td></tr><tr><td>val/iter_TN_1</td><td>█████▇▅▆▇█▇▇▄▃▅▆▄▄▆▇▅▃▅▄▆▇▃▆▆▅▄▅▃▇▁▄▄▅▅▅</td></tr><tr><td>val/iter_TN_2</td><td>▆▆▇▆▇▆▄▅▆▄▅▁▄▇▅▅▇▄▁▇▆▅▄▅▄▂▄▃▄▅▅▅█▂▇▆▅▅▅▅</td></tr><tr><td>val/iter_TN_3</td><td>████████▂▄█▇▅▂▄▄▁▂▅▇▄▃▃▄▂▇▂▆▆▃▃▅▃▇▁▆▂▃▄▄</td></tr><tr><td>val/iter_TP_0</td><td>▇▁▅▅▆▆▅▆▂▆▆▆▆▅▆▆▅▅▇▆▇▄▆▆█▇▆▇▇▆▆▇▇█▅▇▆▆▆▇</td></tr><tr><td>val/iter_TP_1</td><td>▁▁▁▁▁▂▂▃▂▁▂▁▅▇▃▂▄▄▃▁▄▅▄▅▃▂▅▂▂▇▆▅▆▁█▅▄▅▅▄</td></tr><tr><td>val/iter_TP_2</td><td>▁▁▁▁▁▁▁▁▁▁▁▁▁▁▁▁▁▁▁▁▁▁▁▁▁▁▁▁▁▁▁▁▁▁▁▁▁▁▁▁</td></tr><tr><td>val/iter_TP_3</td><td>▁▁▁▁▁▁▁▁▆▄▂▃▃▅▄▄▅▅▃▂▄▅▅▄▅▃▇▃▃▅▆▅▄▃█▄▆▅▆▅</td></tr><tr><td>val/iter_loss</td><td>█▆▄▃▂▂▂▁▃▂▂▂▁▂▁▁▂▂▁▂▂▂▁▁▂▂▂▂▂▁▁▁▂▃▃▁▂▂▁▁</td></tr><tr><td>val/mean_F1</td><td>▄▁▅▅▅▅▅▅▄▇▅▆▆▆▇▇▆▆▇▆▇▆▇▇█▇▇▇▇▇██▆▇▆▇▇▇██</td></tr><tr><td>val/mean_IoU</td><td>▄▁▅▅▅▅▅▆▄▆▆▆▇▆▇▇▆▆▇▇▇▆▇▇█▇▇▇█▇██▆▇▆▇▇▇██</td></tr></table><br/></div><div class=\"wandb-col\"><h3>Run summary:</h3><br/><table class=\"wandb\"><tr><td>epoch</td><td>99</td></tr><tr><td>lr-AdamW</td><td>2e-05</td></tr><tr><td>train/epoch_F1_0</td><td>0.70056</td></tr><tr><td>train/epoch_F1_1</td><td>0.00053</td></tr><tr><td>train/epoch_F1_2</td><td>0.0</td></tr><tr><td>train/epoch_F1_3</td><td>0.11579</td></tr><tr><td>train/epoch_FN_0</td><td>35466.14453</td></tr><tr><td>train/epoch_FN_1</td><td>152764.10938</td></tr><tr><td>train/epoch_FN_2</td><td>0.0</td></tr><tr><td>train/epoch_FN_3</td><td>58065.12109</td></tr><tr><td>train/epoch_FP_0</td><td>16293.71875</td></tr><tr><td>train/epoch_FP_1</td><td>23396.67578</td></tr><tr><td>train/epoch_FP_2</td><td>136116.53125</td></tr><tr><td>train/epoch_FP_3</td><td>19753.32617</td></tr><tr><td>train/epoch_IoU_0</td><td>0.5778</td></tr><tr><td>train/epoch_IoU_1</td><td>0.00027</td></tr><tr><td>train/epoch_IoU_2</td><td>0.0</td></tr><tr><td>train/epoch_IoU_3</td><td>0.07335</td></tr><tr><td>train/epoch_Precision_0</td><td>0.80856</td></tr><tr><td>train/epoch_Precision_1</td><td>0.0023</td></tr><tr><td>train/epoch_Precision_2</td><td>0.0</td></tr><tr><td>train/epoch_Precision_3</td><td>0.23824</td></tr><tr><td>train/epoch_Recall_0</td><td>0.67047</td></tr><tr><td>train/epoch_Recall_1</td><td>0.00038</td></tr><tr><td>train/epoch_Recall_2</td><td>0.0</td></tr><tr><td>train/epoch_Recall_3</td><td>0.1072</td></tr><tr><td>train/epoch_TN_0</td><td>6411867.5</td></tr><tr><td>train/epoch_TN_1</td><td>6377369.5</td></tr><tr><td>train/epoch_TN_2</td><td>6417483.5</td></tr><tr><td>train/epoch_TN_3</td><td>6468238.5</td></tr><tr><td>train/epoch_TP_0</td><td>89972.71875</td></tr><tr><td>train/epoch_TP_1</td><td>69.54375</td></tr><tr><td>train/epoch_TP_2</td><td>0.0</td></tr><tr><td>train/epoch_TP_3</td><td>7542.8252</td></tr><tr><td>train/epoch_loss</td><td>0.3921</td></tr><tr><td>train/iter_F1_0</td><td>0.87319</td></tr><tr><td>train/iter_F1_1</td><td>0.0</td></tr><tr><td>train/iter_F1_2</td><td>0.0</td></tr><tr><td>train/iter_F1_3</td><td>0.0</td></tr><tr><td>train/iter_FN_0</td><td>22576.0</td></tr><tr><td>train/iter_FN_1</td><td>144666.0</td></tr><tr><td>train/iter_FN_2</td><td>0.0</td></tr><tr><td>train/iter_FN_3</td><td>37817.0</td></tr><tr><td>train/iter_FP_0</td><td>53367.0</td></tr><tr><td>train/iter_FP_1</td><td>0.0</td></tr><tr><td>train/iter_FP_2</td><td>163709.0</td></tr><tr><td>train/iter_FP_3</td><td>0.0</td></tr><tr><td>train/iter_IoU_0</td><td>0.77492</td></tr><tr><td>train/iter_IoU_1</td><td>0.0</td></tr><tr><td>train/iter_IoU_2</td><td>0.0</td></tr><tr><td>train/iter_IoU_3</td><td>0.0</td></tr><tr><td>train/iter_Precision_0</td><td>0.83049</td></tr><tr><td>train/iter_Precision_1</td><td>0.0</td></tr><tr><td>train/iter_Precision_2</td><td>0.0</td></tr><tr><td>train/iter_Precision_3</td><td>0.0</td></tr><tr><td>train/iter_Recall_0</td><td>0.92052</td></tr><tr><td>train/iter_Recall_1</td><td>0.0</td></tr><tr><td>train/iter_Recall_2</td><td>0.0</td></tr><tr><td>train/iter_Recall_3</td><td>0.0</td></tr><tr><td>train/iter_TN_0</td><td>6216195.0</td></tr><tr><td>train/iter_TN_1</td><td>6408934.0</td></tr><tr><td>train/iter_TN_2</td><td>6389891.0</td></tr><tr><td>train/iter_TN_3</td><td>6515783.0</td></tr><tr><td>train/iter_TP_0</td><td>261462.0</td></tr><tr><td>train/iter_TP_1</td><td>0.0</td></tr><tr><td>train/iter_TP_2</td><td>0.0</td></tr><tr><td>train/iter_TP_3</td><td>0.0</td></tr><tr><td>train/iter_loss</td><td>0.23406</td></tr><tr><td>train/mean_F1</td><td>0.20422</td></tr><tr><td>train/mean_IoU</td><td>0.16285</td></tr><tr><td>trainer/global_step</td><td>15999</td></tr><tr><td>val/epoch_F1_0</td><td>0.68016</td></tr><tr><td>val/epoch_F1_1</td><td>0.00041</td></tr><tr><td>val/epoch_F1_2</td><td>0.0</td></tr><tr><td>val/epoch_F1_3</td><td>0.10539</td></tr><tr><td>val/epoch_FN_0</td><td>27916.75</td></tr><tr><td>val/epoch_FN_1</td><td>148767.95312</td></tr><tr><td>val/epoch_FN_2</td><td>0.0</td></tr><tr><td>val/epoch_FN_3</td><td>57946.55078</td></tr><tr><td>val/epoch_FP_0</td><td>20453.75</td></tr><tr><td>val/epoch_FP_1</td><td>10297.875</td></tr><tr><td>val/epoch_FP_2</td><td>123267.75</td></tr><tr><td>val/epoch_FP_3</td><td>13434.0498</td></tr><tr><td>val/epoch_IoU_0</td><td>0.54953</td></tr><tr><td>val/epoch_IoU_1</td><td>0.00021</td></tr><tr><td>val/epoch_IoU_2</td><td>0.0</td></tr><tr><td>val/epoch_IoU_3</td><td>0.0658</td></tr><tr><td>val/epoch_Precision_0</td><td>0.74189</td></tr><tr><td>val/epoch_Precision_1</td><td>0.02577</td></tr><tr><td>val/epoch_Precision_2</td><td>0.0</td></tr><tr><td>val/epoch_Precision_3</td><td>0.1442</td></tr><tr><td>val/epoch_Recall_0</td><td>0.68104</td></tr><tr><td>val/epoch_Recall_1</td><td>0.00028</td></tr><tr><td>val/epoch_Recall_2</td><td>0.0</td></tr><tr><td>val/epoch_Recall_3</td><td>0.09326</td></tr><tr><td>val/epoch_TN_0</td><td>6411385.5</td></tr><tr><td>val/epoch_TN_1</td><td>6394499.5</td></tr><tr><td>val/epoch_TN_2</td><td>6430332.5</td></tr><tr><td>val/epoch_TN_3</td><td>6476516.0</td></tr><tr><td>val/epoch_TP_0</td><td>93844.17969</td></tr><tr><td>val/epoch_TP_1</td><td>35.2</td></tr><tr><td>val/epoch_TP_2</td><td>0.0</td></tr><tr><td>val/epoch_TP_3</td><td>5703.3252</td></tr><tr><td>val/epoch_loss</td><td>0.38007</td></tr><tr><td>val/iter_F1_0</td><td>0.68016</td></tr><tr><td>val/iter_F1_1</td><td>0.00041</td></tr><tr><td>val/iter_F1_2</td><td>0.0</td></tr><tr><td>val/iter_F1_3</td><td>0.10539</td></tr><tr><td>val/iter_FN_0</td><td>27916.75</td></tr><tr><td>val/iter_FN_1</td><td>148767.95312</td></tr><tr><td>val/iter_FN_2</td><td>0.0</td></tr><tr><td>val/iter_FN_3</td><td>57946.55078</td></tr><tr><td>val/iter_FP_0</td><td>20453.75</td></tr><tr><td>val/iter_FP_1</td><td>10297.875</td></tr><tr><td>val/iter_FP_2</td><td>123267.75</td></tr><tr><td>val/iter_FP_3</td><td>13434.0498</td></tr><tr><td>val/iter_IoU_0</td><td>0.54953</td></tr><tr><td>val/iter_IoU_1</td><td>0.00021</td></tr><tr><td>val/iter_IoU_2</td><td>0.0</td></tr><tr><td>val/iter_IoU_3</td><td>0.0658</td></tr><tr><td>val/iter_Precision_0</td><td>0.74189</td></tr><tr><td>val/iter_Precision_1</td><td>0.02577</td></tr><tr><td>val/iter_Precision_2</td><td>0.0</td></tr><tr><td>val/iter_Precision_3</td><td>0.1442</td></tr><tr><td>val/iter_Recall_0</td><td>0.68104</td></tr><tr><td>val/iter_Recall_1</td><td>0.00028</td></tr><tr><td>val/iter_Recall_2</td><td>0.0</td></tr><tr><td>val/iter_Recall_3</td><td>0.09326</td></tr><tr><td>val/iter_TN_0</td><td>6411386.0</td></tr><tr><td>val/iter_TN_1</td><td>6394499.0</td></tr><tr><td>val/iter_TN_2</td><td>6430332.0</td></tr><tr><td>val/iter_TN_3</td><td>6476515.5</td></tr><tr><td>val/iter_TP_0</td><td>93844.17188</td></tr><tr><td>val/iter_TP_1</td><td>35.2</td></tr><tr><td>val/iter_TP_2</td><td>0.0</td></tr><tr><td>val/iter_TP_3</td><td>5703.3252</td></tr><tr><td>val/iter_loss</td><td>0.38007</td></tr><tr><td>val/mean_F1</td><td>0.19649</td></tr><tr><td>val/mean_IoU</td><td>0.15388</td></tr></table><br/></div></div>"
      ],
      "text/plain": [
       "<IPython.core.display.HTML object>"
      ]
     },
     "metadata": {},
     "output_type": "display_data"
    },
    {
     "data": {
      "text/html": [
       "Synced <strong style=\"color:#cdcd00\">3090_fold4</strong>: <a href=\"https://wandb.ai/syuchimu/SpaceNet8_flood/runs/2brjnwhf\" target=\"_blank\">https://wandb.ai/syuchimu/SpaceNet8_flood/runs/2brjnwhf</a><br/>Synced 7 W&B file(s), 0 media file(s), 0 artifact file(s) and 2 other file(s)"
      ],
      "text/plain": [
       "<IPython.core.display.HTML object>"
      ]
     },
     "metadata": {},
     "output_type": "display_data"
    },
    {
     "data": {
      "text/html": [
       "Find logs at: <code>./wandb/run-20220726_232453-2brjnwhf/logs</code>"
      ],
      "text/plain": [
       "<IPython.core.display.HTML object>"
      ]
     },
     "metadata": {},
     "output_type": "display_data"
    }
   ],
   "source": [
    "for fold in range(cfg.folds):\n",
    "    print(f'#'*60)\n",
    "    print(f'### Fold: {fold}')\n",
    "    print(f'#'*60)\n",
    "    \n",
    "    # Setting   \n",
    "    cfg.fold = fold\n",
    "    wandb_logger = WandbLogger(\n",
    "        config=cfg,\n",
    "        name=f\"{cfg.runname}_fold{fold}\",\n",
    "        project=cfg.project,\n",
    "        group=cfg.group,\n",
    "        tags=[f'fold{fold}', '3090', 'notebook', 'flood'],\n",
    "        # entity='spaceshift',\n",
    "    )\n",
    "    \n",
    "    # Data\n",
    "    datamodule = SpaceNnet8Module(fold, cfg)\n",
    "    \n",
    "    # Model\n",
    "    model = SpaceNet8Model(cfg)\n",
    "    \n",
    "    # PATH\n",
    "    dirpath = f'{cfg.outdir}{cfg.group}/{cfg.runname}_fold-{fold}/'\n",
    "    filename = f\"best_fold-{fold}\"\n",
    "    best_model_path = dirpath + filename + \".ckpt\"\n",
    "\n",
    "\n",
    "    # Logging\n",
    "    lr_monitor = callbacks.LearningRateMonitor()\n",
    "    loss_checkpoint = callbacks.ModelCheckpoint(\n",
    "        dirpath=dirpath,\n",
    "        filename=filename,\n",
    "        monitor=\"val/mean_IoU\",\n",
    "        save_top_k=1,\n",
    "        mode=\"max\",\n",
    "        save_last=True,\n",
    "    )\n",
    "    wandb.save(cfg.notebook)\n",
    "    # logger = TensorBoardLogger()\n",
    "    \n",
    "    print(f'### Start Trainig')\n",
    "    # Train\n",
    "    trainer = Trainer(\n",
    "        logger=wandb_logger,\n",
    "        max_epochs=cfg.epoch,\n",
    "        callbacks=[lr_monitor, loss_checkpoint],\n",
    "        **cfg.trainer,\n",
    "    )\n",
    "    # 実行\n",
    "    trainer.fit(model, datamodule=datamodule)\n",
    "    \n",
    "    # saving\n",
    "    with open(f'{dirpath}cfg.json', 'w') as f:\n",
    "        json.dump(cfg.to_dict(), f, indent=4)\n",
    "        \n",
    "    wandb.save(cfg.notebook)\n",
    "    wandb.finish()\n",
    "    break\n",
    "      "
   ]
  },
  {
   "cell_type": "code",
   "execution_count": 9,
   "metadata": {},
   "outputs": [
    {
     "data": {
      "text/html": [
       "Waiting for W&B process to finish... <strong style=\"color:green\">(success).</strong>"
      ],
      "text/plain": [
       "<IPython.core.display.HTML object>"
      ]
     },
     "metadata": {},
     "output_type": "display_data"
    },
    {
     "data": {
      "application/vnd.jupyter.widget-view+json": {
       "model_id": "b65e9fe89491490f9ccf2348f6463163",
       "version_major": 2,
       "version_minor": 0
      },
      "text/plain": [
       "VBox(children=(Label(value='0.915 MB of 0.915 MB uploaded (0.000 MB deduped)\\r'), FloatProgress(value=1.0, max…"
      ]
     },
     "metadata": {},
     "output_type": "display_data"
    },
    {
     "data": {
      "text/html": [
       "<style>\n",
       "    table.wandb td:nth-child(1) { padding: 0 10px; text-align: left ; width: auto;} td:nth-child(2) {text-align: left ; width: 100%}\n",
       "    .wandb-row { display: flex; flex-direction: row; flex-wrap: wrap; justify-content: flex-start; width: 100% }\n",
       "    .wandb-col { display: flex; flex-direction: column; flex-basis: 100%; flex: 1; padding: 10px; }\n",
       "    </style>\n",
       "<div class=\"wandb-row\"><div class=\"wandb-col\"><h3>Run history:</h3><br/><table class=\"wandb\"><tr><td>lr-AdamW</td><td>▁</td></tr><tr><td>trainer/global_step</td><td>▁</td></tr></table><br/></div><div class=\"wandb-col\"><h3>Run summary:</h3><br/><table class=\"wandb\"><tr><td>lr-AdamW</td><td>0.001</td></tr><tr><td>trainer/global_step</td><td>0</td></tr></table><br/></div></div>"
      ],
      "text/plain": [
       "<IPython.core.display.HTML object>"
      ]
     },
     "metadata": {},
     "output_type": "display_data"
    },
    {
     "data": {
      "text/html": [
       "Synced <strong style=\"color:#cdcd00\">3090_fold0</strong>: <a href=\"https://wandb.ai/syuchimu/SpaceNet8_flood/runs/3pjovjur\" target=\"_blank\">https://wandb.ai/syuchimu/SpaceNet8_flood/runs/3pjovjur</a><br/>Synced 7 W&B file(s), 0 media file(s), 0 artifact file(s) and 2 other file(s)"
      ],
      "text/plain": [
       "<IPython.core.display.HTML object>"
      ]
     },
     "metadata": {},
     "output_type": "display_data"
    },
    {
     "data": {
      "text/html": [
       "Find logs at: <code>./wandb/run-20220725_231849-3pjovjur/logs</code>"
      ],
      "text/plain": [
       "<IPython.core.display.HTML object>"
      ]
     },
     "metadata": {},
     "output_type": "display_data"
    }
   ],
   "source": [
    "try:\n",
    "    wandb.finish()\n",
    "except Exception as e:\n",
    "    print(f'[Error] {e} --> OK')"
   ]
  },
  {
   "cell_type": "code",
   "execution_count": 13,
   "metadata": {},
   "outputs": [],
   "source": []
  },
  {
   "cell_type": "code",
   "execution_count": null,
   "metadata": {},
   "outputs": [],
   "source": []
  }
 ],
 "metadata": {
  "kernelspec": {
   "display_name": "Python 3.8.13 ('sn8')",
   "language": "python",
   "name": "python3"
  },
  "language_info": {
   "codemirror_mode": {
    "name": "ipython",
    "version": 3
   },
   "file_extension": ".py",
   "mimetype": "text/x-python",
   "name": "python",
   "nbconvert_exporter": "python",
   "pygments_lexer": "ipython3",
   "version": "3.8.13"
  },
  "orig_nbformat": 4,
  "vscode": {
   "interpreter": {
    "hash": "5035d61452180bc2f6c97d30efe0351efc32bce343eab0f718e68b06cec485d6"
   }
  }
 },
 "nbformat": 4,
 "nbformat_minor": 2
}

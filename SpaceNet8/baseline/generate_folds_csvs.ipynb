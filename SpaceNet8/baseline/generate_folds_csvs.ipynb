{
 "cells": [
  {
   "cell_type": "markdown",
   "metadata": {},
   "source": [
    "## Fold"
   ]
  },
  {
   "cell_type": "code",
   "execution_count": 4,
   "metadata": {},
   "outputs": [],
   "source": [
    "import glob\n",
    "import os\n",
    "import math\n",
    "import argparse\n",
    "import random\n",
    "import pandas as pd\n",
    "from sklearn.model_selection import StratifiedKFold, KFold\n",
    "\n",
    "import numpy as np"
   ]
  },
  {
   "cell_type": "markdown",
   "metadata": {},
   "source": [
    "## Func"
   ]
  },
  {
   "cell_type": "code",
   "execution_count": 5,
   "metadata": {},
   "outputs": [],
   "source": [
    "def gather_images_masks(image_dir):\n",
    "    image_types = [\"preimg\", \"postimg\"]\n",
    "    mask_types = [\"flood\", \"building\", \"road\", \"roadspeed\"]\n",
    "    images = []\n",
    "    masks = []\n",
    "    for i in range(len(image_types)):\n",
    "        raw_images = glob.glob(os.path.join(image_dir, f\"*{image_types[i]}.tif\"))\n",
    "        raw_images.sort()\n",
    "        images.append(raw_images)\n",
    "    for i in range(len(mask_types)):\n",
    "        image_masks = glob.glob(os.path.join(image_dir, f\"*{mask_types[i]}.tif\"))\n",
    "        image_masks.sort()\n",
    "        masks.append(image_masks)\n",
    "    return images, masks\n",
    "\n",
    "def make_train_val_csvs(image_dirs,\n",
    "                        out_dir,\n",
    "                        seed,\n",
    "                        folds):\n",
    "    geojsons = []\n",
    "    pre_images = []\n",
    "    post_images = []\n",
    "    build_labels = []\n",
    "    road_labels = []\n",
    "    flood_labels = []\n",
    "    speed_labels = []\n",
    "    for d in image_dirs:\n",
    "        anno = glob.glob(os.path.join(d, \"annotations\", \"*.geojson\"))\n",
    "        bldgs = glob.glob(os.path.join(d, \"annotations\", \"masks\", \"building*.tif\"))\n",
    "        roads = glob.glob(os.path.join(d, \"annotations\", \"masks\", \"road*.tif\"))\n",
    "        flood = glob.glob(os.path.join(d, \"annotations\", \"masks\", \"flood*.tif\"))\n",
    "        roadspeed = glob.glob(os.path.join(d, \"annotations\", \"masks\", \"roadspeed*.tif\"))\n",
    "        pre = glob.glob(os.path.join(d, \"PRE-event\", \"*.tif\"))\n",
    "        post = glob.glob(os.path.join(d, \"POST-event\", \"*.tif\"))\n",
    "        an, bu, ro, fl, rs, preims, postims = match_im_label(anno, bldgs, roads, flood, roadspeed, pre, post)\n",
    "\n",
    "        geojsons.extend(an)\n",
    "        build_labels.extend(bu)\n",
    "        road_labels.extend(ro)\n",
    "        flood_labels.extend(fl)\n",
    "        speed_labels.extend(rs)\n",
    "        post_images.extend(postims)\n",
    "        pre_images.extend(preims)\n",
    "\n",
    "    all_images = [[],[]]\n",
    "    all_masks = [[],[],[],[]]\n",
    "    for i in range(len(geojsons)):\n",
    "        all_images[0].append(pre_images[i])\n",
    "        all_images[1].append(post_images[i])\n",
    "        all_masks[0].append(flood_labels[i])\n",
    "        all_masks[1].append(build_labels[i])\n",
    "        all_masks[2].append(road_labels[i])\n",
    "        all_masks[3].append(speed_labels[i])\n",
    "        \n",
    "    df = pd.DataFrame()\n",
    "    df['preimg'] = all_images[0]\n",
    "    df['postimg'] = all_images[1]\n",
    "    df['flood'] = all_masks[0]\n",
    "    df['building'] = all_masks[1]\n",
    "    df['road'] = all_masks[2]\n",
    "    df['roadspeed'] = all_masks[3]\n",
    "    \n",
    "    n_fold = np.zeros(len(df[\"preimg\"]))\n",
    "    kf = KFold(n_splits=folds, random_state=seed, shuffle=True)\n",
    "    for k, (_, val_idx) in enumerate(kf.split(np.array(range(len(df[\"preimg\"]))))):\n",
    "        n_fold[val_idx] = k\n",
    "        \n",
    "    df[\"fold\"] = n_fold.astype(np.uint8)\n",
    "    print(\"元データの画像枚数:\", len(df[\"preimg\"]))\n",
    "    \n",
    "    for fold in range(folds):\n",
    "        train_df = df[df['fold'] != fold].reset_index(drop=True)\n",
    "        val_df = df[df['fold'] == fold].reset_index(drop=True)\n",
    "        \n",
    "        PATH_FOLD_CSV_TRAIN = os.path.join(out_dir, f'fold{fold}_seed{seed}_train.csv')\n",
    "        PATH_FOLD_CSV_VAL = os.path.join(out_dir, f'fold{fold}_seed{seed}_val.csv')\n",
    "        \n",
    "        train_df.to_csv(PATH_FOLD_CSV_TRAIN, index=False, header=True)\n",
    "        val_df.to_csv(PATH_FOLD_CSV_VAL, index=False, header=True)\n",
    "        print(f'FOLD: {fold} train: {len(train_df)} val: {len(val_df)}')\n",
    "    \n",
    "\n",
    "def match_im_label(anno, bldgs, roads, floods, roadspeeds, pre, post):\n",
    "    out_pre = []\n",
    "    out_post = []\n",
    "    out_anno = []\n",
    "    out_bu = []\n",
    "    out_ro = []\n",
    "    out_fl = []\n",
    "    out_rs = []\n",
    "    for i in anno:\n",
    "        tileid = os.path.basename(i).split('.')[0]\n",
    "        pre_im = [j for j in pre if f\"_{tileid}.tif\" in j][0]\n",
    "        post_im = [j for j in post if f\"_{tileid}.tif\" in j][0]\n",
    "        build = [j for j in bldgs if \"building_\" in j and f\"_{tileid}.tif\" in j][0]\n",
    "        road = [j for j in roads if \"road_\" in j and f\"_{tileid}.tif\" in j][0]\n",
    "        flood = [j for j in floods if \"flood_\" in j and f\"_{tileid}.tif\" in j][0]\n",
    "        speed = [j for j in roadspeeds if \"roadspeed_\" in j and f\"_{tileid}.tif\" in j][0]\n",
    "        \n",
    "        out_anno.append(i)\n",
    "        out_bu.append(build)\n",
    "        out_ro.append(road)\n",
    "        out_fl.append(flood)\n",
    "        out_rs.append(speed)\n",
    "        out_pre.append(pre_im)\n",
    "        out_post.append(post_im)\n",
    "        \n",
    "    return out_anno, out_bu, out_ro, out_fl, out_rs, out_pre, out_post"
   ]
  },
  {
   "cell_type": "code",
   "execution_count": 7,
   "metadata": {},
   "outputs": [
    {
     "name": "stdout",
     "output_type": "stream",
     "text": [
      "元データの画像枚数: 801\n",
      "FOLD: 0 train: 640 val: 161\n",
      "FOLD: 1 train: 641 val: 160\n",
      "FOLD: 2 train: 641 val: 160\n",
      "FOLD: 3 train: 641 val: 160\n",
      "FOLD: 4 train: 641 val: 160\n"
     ]
    }
   ],
   "source": [
    "folds = 5\n",
    "seed = 417\n",
    "np.random.seed(seed)\n",
    "random.seed(seed)\n",
    "\n",
    "root_dir = '../../data_/'\n",
    "aois = ['Germany_Training_Public', 'Louisiana-East_Training_Public',]\n",
    "out_dir = f'../../data_/folds/'\n",
    "os.makedirs(out_dir, exist_ok=True)\n",
    "\n",
    "##### train val split as random\n",
    "image_dirs = [os.path.join(root_dir, n) for n in aois]\n",
    "make_train_val_csvs(image_dirs, out_dir, folds=folds, seed=seed)"
   ]
  },
  {
   "cell_type": "code",
   "execution_count": null,
   "metadata": {},
   "outputs": [],
   "source": []
  },
  {
   "cell_type": "code",
   "execution_count": null,
   "metadata": {},
   "outputs": [],
   "source": []
  }
 ],
 "metadata": {
  "kernelspec": {
   "display_name": "Python 3.6.9 64-bit",
   "language": "python",
   "name": "python3"
  },
  "language_info": {
   "codemirror_mode": {
    "name": "ipython",
    "version": 3
   },
   "file_extension": ".py",
   "mimetype": "text/x-python",
   "name": "python",
   "nbconvert_exporter": "python",
   "pygments_lexer": "ipython3",
   "version": "3.8.2"
  },
  "orig_nbformat": 4,
  "vscode": {
   "interpreter": {
    "hash": "31f2aee4e71d21fbe5cf8b01ff0e069b9275f58929596ceb00d14d90e3e16cd6"
   }
  }
 },
 "nbformat": 4,
 "nbformat_minor": 2
}
